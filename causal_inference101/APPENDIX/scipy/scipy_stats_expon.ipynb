{
 "cells": [
  {
   "cell_type": "markdown",
   "metadata": {},
   "source": [
    "# 指数分布とハザード関数"
   ]
  },
  {
   "cell_type": "markdown",
   "metadata": {},
   "source": [
    "exponential distributionの確率密度関数は\n",
    "\n",
    "$$\n",
    "f_X(x|\\lambda) = \\lambda \\exp(-\\lambda x), x > 0\n",
    "$$\n",
    "\n",
    "分布関数は\n",
    "\n",
    "$$\n",
    "1 - \\exp(-\\lambda x)\n",
    "$$"
   ]
  },
  {
   "cell_type": "markdown",
   "metadata": {},
   "source": [
    "これはガンマ分布の特別な場合で、$G_a(1, 1/\\lambda)$で表される。"
   ]
  },
  {
   "cell_type": "markdown",
   "metadata": {},
   "source": [
    "meanは$1 / \\lambda$, varianceは$1/\\lambda^2$で表される。"
   ]
  },
  {
   "cell_type": "markdown",
   "metadata": {},
   "source": [
    "モーメント関数は\n",
    "\n",
    "$$\n",
    "M_X(t) = \\frac{\\lambda}{\\lambda - t}\n",
    "$$\n",
    "\n",
    "特性関数は\n",
    "$$\n",
    "\\phi_X(t) = \\frac{\\lambda}{\\lambda - it}\n",
    "$$\n"
   ]
  },
  {
   "cell_type": "markdown",
   "metadata": {},
   "source": [
    "指数分布は生存時間の分布として用いられることがある。時間sを超えて生存する確率を$P(X > s) = \\exp(-\\lambda s)$とした時\n",
    "\n",
    "$$\n",
    "\\begin{aligned}\n",
    "P(X\\geq s + t|X \\geq s) &= \\frac{P(X \\geq s + t, X \\geq s)}{P(X \\geq s} = \\frac{P(X \\geq s + t)}{P(X \\geq s}\\\\\n",
    "&= \\exp(s + t)/\\exp(s) = P(X \\geq t)\n",
    "\\end{aligned}\n",
    "$$"
   ]
  },
  {
   "cell_type": "markdown",
   "metadata": {},
   "source": [
    "無記憶性が指数分布に成り立っていると理解できる。"
   ]
  },
  {
   "cell_type": "markdown",
   "metadata": {},
   "source": [
    "### ハザード分布の導出"
   ]
  },
  {
   "cell_type": "markdown",
   "metadata": {},
   "source": [
    "指数分布を離れて、Xが非負の連続型確率変数とし、その密度関数を$f(x)$, 分布関数を$F(x)$とする。Xを故障する時間とみなす。x時間まで動作して次の$x + \\Delta$時間までに故障する条件付確率は\n",
    "\n",
    "$$\n",
    "\\begin{aligned}\n",
    "P(x < X \\leq x + \\Delta | X > x) &= \\frac{P(x < X \\leq x + \\Delta, X > x)}{P(X > x)}\\\\\n",
    "&= \\frac{P(x < X \\leq x + \\Delta)}{P(X > x)} = \\frac{F(x + \\Delta) - F(x)}{1 - F(x)}\n",
    "\\end{aligned}\n",
    "$$"
   ]
  },
  {
   "cell_type": "markdown",
   "metadata": {},
   "source": [
    "この時両辺を$\\Delta$で割って$\\Delta$を小さくすると、\n",
    "\n",
    "$$\n",
    "\\lim_{\\Delta \\to 0}\\frac{1}{\\Delta}P(x < X \\leq x + \\Delta|X > x) = \\frac{f(x)}{1 - F(x)} = \\lambda(x)\n",
    "$$\n",
    "\n",
    "これがハザード関数。xまで動作している条件の元で次の瞬間に故障する確率密度を表している。\n",
    "\n",
    "次にこのハザード関数を積分すると\n",
    "\n",
    "$$\n",
    "\\begin{aligned}\n",
    "\\int^x_0 \\lambda(t)dt = \\int^x_0 \\frac{f(t)}{1 - F(t)}dt = [- \\log(1 - F(t))]^x_0\n",
    "\\end{aligned}\n",
    "$$\n",
    "\n",
    "Then,\n",
    "\n",
    "$$\n",
    "\\begin{aligned}\n",
    "F(x) &= 1 - \\exp\\left\\{- \\int^x_0 \\lambda(t)dt \\right\\}\\\\\n",
    "f(x) &= \\lambda(x)\\exp\\left\\{- \\int^x_0 \\lambda(t)dt \\right\\}\n",
    "\\end{aligned}\n",
    "$$"
   ]
  },
  {
   "cell_type": "markdown",
   "metadata": {},
   "source": [
    "指数分布の場合、$\\lambda(x) = \\lambda$と一定となる。これは時間の経過関係なく故障率は一定という場合であり、あまり自然ではない。時間の経過とともに故障しやすくなる場合や故障しなくなる場合はワイブル分布が用いられる。\n",
    "\n",
    "$$\n",
    "\\lambda(x) = abx^{b-1}\n",
    "$$\n",
    "$$\n",
    "f(x| a, b) = abx^{b-1}\\exp(-ax^b), x > 0\n",
    "$$\n"
   ]
  },
  {
   "cell_type": "markdown",
   "metadata": {},
   "source": [
    "## scipy.stats.expon"
   ]
  },
  {
   "cell_type": "markdown",
   "metadata": {},
   "source": [
    "```\n",
    "expon.pdf(x, loc, scale)\n",
    "```\n",
    "は\n",
    "```\n",
    "expon.pdf(y) / scale with y = (x - loc) / scale.\n",
    "```\n",
    "と等しい。"
   ]
  },
  {
   "cell_type": "code",
   "execution_count": 1,
   "metadata": {},
   "outputs": [
    {
     "name": "stdout",
     "output_type": "stream",
     "text": [
      "3.7.4 (default, Sep  7 2019, 18:45:40) \n",
      "[Clang 9.0.0 (clang-900.0.39.2)]\n"
     ]
    }
   ],
   "source": [
    "import sys\n",
    "print(sys.version)"
   ]
  },
  {
   "cell_type": "code",
   "execution_count": 2,
   "metadata": {},
   "outputs": [],
   "source": [
    "from scipy.stats import expon\n",
    "import matplotlib.pyplot as plt\n",
    "import numpy as np\n",
    "import scipy"
   ]
  },
  {
   "cell_type": "code",
   "execution_count": 3,
   "metadata": {},
   "outputs": [],
   "source": [
    "plt.style.use('ggplot')"
   ]
  },
  {
   "cell_type": "code",
   "execution_count": 4,
   "metadata": {},
   "outputs": [],
   "source": [
    "mean, var, skew, kurt = expon.stats(moments='mvsk')"
   ]
  },
  {
   "cell_type": "code",
   "execution_count": 5,
   "metadata": {},
   "outputs": [
    {
     "data": {
      "image/png": "[encoded data removed]",
      "text/plain": [
       "<Figure size 432x288 with 1 Axes>"
      ]
     },
     "metadata": {},
     "output_type": "display_data"
    }
   ],
   "source": [
    "fig, ax = plt.subplots(1, 1)\n",
    "x = np.linspace(expon.ppf(0.01), expon.ppf(0.99), 100)\n",
    "ax.plot(x, expon.pdf(x),'r-', lw=5, alpha=0.6, label='expon pdf');"
   ]
  },
  {
   "cell_type": "code",
   "execution_count": 6,
   "metadata": {},
   "outputs": [
    {
     "data": {
      "image/png": "[encoded data removed]",
      "text/plain": [
       "<Figure size 432x288 with 1 Axes>"
      ]
     },
     "metadata": {},
     "output_type": "display_data"
    }
   ],
   "source": [
    "r = expon.rvs(size=1000)\n",
    "\n",
    "fig, ax = plt.subplots()\n",
    "ax.hist(r, density=True, histtype='stepfilled', alpha=0.2)\n",
    "ax.plot(x, expon.pdf(x),'r-', lw=5, alpha=0.6, label='expon pdf')\n",
    "ax.legend(loc='best', frameon=False);"
   ]
  },
  {
   "cell_type": "code",
   "execution_count": 7,
   "metadata": {},
   "outputs": [
    {
     "data": {
      "text/plain": [
       "0.1945288408882624"
      ]
     },
     "execution_count": 7,
     "metadata": {},
     "output_type": "execute_result"
    }
   ],
   "source": [
    "### mean = 1/5の指数分布\n",
    "\n",
    "exponential = expon(scale = 1/5)\n",
    "r = exponential.rvs(size=1000)\n",
    "np.mean(r)"
   ]
  },
  {
   "cell_type": "code",
   "execution_count": 8,
   "metadata": {},
   "outputs": [
    {
     "data": {
      "image/png": "[encoded data removed]",
      "text/plain": [
       "<Figure size 432x288 with 1 Axes>"
      ]
     },
     "metadata": {},
     "output_type": "display_data"
    }
   ],
   "source": [
    "x = np.linspace(exponential.ppf(0.01), exponential.ppf(0.99), 1000)\n",
    "plt.hist(r, bins = 'auto', density = True)\n",
    "plt.plot(x, exponential.pdf(x),'r-', lw=5, alpha=0.6, label='expon pdf');"
   ]
  },
  {
   "cell_type": "code",
   "execution_count": 9,
   "metadata": {},
   "outputs": [],
   "source": [
    "def exp_pdf(x, scale = 1/5):\n",
    "    tmp_lambda = 1/scale\n",
    "    return tmp_lambda*np.exp(- tmp_lambda*x)"
   ]
  },
  {
   "cell_type": "code",
   "execution_count": 10,
   "metadata": {},
   "outputs": [
    {
     "data": {
      "image/png": "[encoded data removed]",
      "text/plain": [
       "<Figure size 432x288 with 1 Axes>"
      ]
     },
     "metadata": {},
     "output_type": "display_data"
    }
   ],
   "source": [
    "plt.plot(x, exponential.pdf(x),'r-', lw=5, alpha=0.6, label='expon pdf')\n",
    "plt.plot(x, exp_pdf(x),'g-', lw=5, alpha=0.6, label='original pdf')\n",
    "plt.legend();"
   ]
  },
  {
   "cell_type": "markdown",
   "metadata": {},
   "source": [
    "### fitting"
   ]
  },
  {
   "cell_type": "code",
   "execution_count": 11,
   "metadata": {},
   "outputs": [],
   "source": [
    "x = expon.freeze(scale = 1/5).rvs(size = 1000)\n",
    "eps = scipy.stats.norm.rvs(size = 1000)/20\n",
    "y = x + eps\n",
    "y = np.clip(y, 0.0001, None ,out = y)"
   ]
  },
  {
   "cell_type": "code",
   "execution_count": 12,
   "metadata": {},
   "outputs": [
    {
     "data": {
      "image/png": "[encoded data removed]",
      "text/plain": [
       "<Figure size 432x288 with 1 Axes>"
      ]
     },
     "metadata": {},
     "output_type": "display_data"
    }
   ],
   "source": [
    "plt.hist(y);"
   ]
  },
  {
   "cell_type": "code",
   "execution_count": 13,
   "metadata": {},
   "outputs": [
    {
     "data": {
      "text/plain": [
       "0.20444735753558504"
      ]
     },
     "execution_count": 13,
     "metadata": {},
     "output_type": "execute_result"
    }
   ],
   "source": [
    "np.mean(y)"
   ]
  },
  {
   "cell_type": "code",
   "execution_count": 14,
   "metadata": {},
   "outputs": [
    {
     "name": "stdout",
     "output_type": "stream",
     "text": [
      "(0.0001, 0.20434735753558506)\n"
     ]
    }
   ],
   "source": [
    "fit_parameter = expon.fit(y)\n",
    "print(fit_parameter)"
   ]
  },
  {
   "cell_type": "code",
   "execution_count": 15,
   "metadata": {},
   "outputs": [
    {
     "data": {
      "image/png": "[encoded data removed]",
      "text/plain": [
       "<Figure size 576x360 with 1 Axes>"
      ]
     },
     "metadata": {},
     "output_type": "display_data"
    }
   ],
   "source": [
    "frozen_expon = expon.freeze(*fit_parameter)\n",
    "x = np.linspace(0, 2, 1000)\n",
    "fig = plt.figure(figsize=(8, 5))\n",
    "ax = fig.add_subplot(1, 1, 1, xlim=(0, 2), title=\"scipy MLE\")\n",
    "ax.plot(x, expon.freeze(scale = 1/5).pdf(x), label=\"true\")\n",
    "ax.plot(x, frozen_expon.pdf(x), label=\"MLE\")\n",
    "ax.hist(y, bins=30, alpha=0.7, density=True, label=\"sample data\")\n",
    "ax.legend()\n",
    "plt.show()"
   ]
  },
  {
   "cell_type": "markdown",
   "metadata": {},
   "source": [
    "## Sample Dataを使ったexponential distributionのMLE"
   ]
  },
  {
   "cell_type": "markdown",
   "metadata": {},
   "source": [
    "心臓移植のsurvival datasetを用いたMLEを紹介する。"
   ]
  },
  {
   "cell_type": "code",
   "execution_count": 16,
   "metadata": {},
   "outputs": [],
   "source": [
    "import numpy as np\n",
    "import scipy.stats as st\n",
    "import statsmodels.datasets\n",
    "import matplotlib.pyplot as plt\n",
    "%matplotlib inline\n",
    "data = statsmodels.datasets.heart.load_pandas().data"
   ]
  },
  {
   "cell_type": "code",
   "execution_count": 17,
   "metadata": {},
   "outputs": [
    {
     "data": {
      "text/html": [
       "<div>\n",
       "<style scoped>\n",
       "    .dataframe tbody tr th:only-of-type {\n",
       "        vertical-align: middle;\n",
       "    }\n",
       "\n",
       "    .dataframe tbody tr th {\n",
       "        vertical-align: top;\n",
       "    }\n",
       "\n",
       "    .dataframe thead th {\n",
       "        text-align: right;\n",
       "    }\n",
       "</style>\n",
       "<table border=\"1\" class=\"dataframe\">\n",
       "  <thead>\n",
       "    <tr style=\"text-align: right;\">\n",
       "      <th></th>\n",
       "      <th>survival</th>\n",
       "      <th>censors</th>\n",
       "      <th>age</th>\n",
       "    </tr>\n",
       "  </thead>\n",
       "  <tbody>\n",
       "    <tr>\n",
       "      <td>0</td>\n",
       "      <td>15.0</td>\n",
       "      <td>1.0</td>\n",
       "      <td>54.3</td>\n",
       "    </tr>\n",
       "    <tr>\n",
       "      <td>1</td>\n",
       "      <td>3.0</td>\n",
       "      <td>1.0</td>\n",
       "      <td>40.4</td>\n",
       "    </tr>\n",
       "    <tr>\n",
       "      <td>2</td>\n",
       "      <td>624.0</td>\n",
       "      <td>1.0</td>\n",
       "      <td>51.0</td>\n",
       "    </tr>\n",
       "    <tr>\n",
       "      <td>3</td>\n",
       "      <td>46.0</td>\n",
       "      <td>1.0</td>\n",
       "      <td>42.5</td>\n",
       "    </tr>\n",
       "    <tr>\n",
       "      <td>4</td>\n",
       "      <td>127.0</td>\n",
       "      <td>1.0</td>\n",
       "      <td>48.0</td>\n",
       "    </tr>\n",
       "  </tbody>\n",
       "</table>\n",
       "</div>"
      ],
      "text/plain": [
       "   survival  censors   age\n",
       "0      15.0      1.0  54.3\n",
       "1       3.0      1.0  40.4\n",
       "2     624.0      1.0  51.0\n",
       "3      46.0      1.0  42.5\n",
       "4     127.0      1.0  48.0"
      ]
     },
     "execution_count": 17,
     "metadata": {},
     "output_type": "execute_result"
    }
   ],
   "source": [
    "data.head()"
   ]
  },
  {
   "cell_type": "code",
   "execution_count": 18,
   "metadata": {},
   "outputs": [
    {
     "data": {
      "text/html": [
       "<div>\n",
       "<style scoped>\n",
       "    .dataframe tbody tr th:only-of-type {\n",
       "        vertical-align: middle;\n",
       "    }\n",
       "\n",
       "    .dataframe tbody tr th {\n",
       "        vertical-align: top;\n",
       "    }\n",
       "\n",
       "    .dataframe thead th {\n",
       "        text-align: right;\n",
       "    }\n",
       "</style>\n",
       "<table border=\"1\" class=\"dataframe\">\n",
       "  <thead>\n",
       "    <tr style=\"text-align: right;\">\n",
       "      <th></th>\n",
       "      <th>survival</th>\n",
       "      <th>censors</th>\n",
       "      <th>age</th>\n",
       "    </tr>\n",
       "  </thead>\n",
       "  <tbody>\n",
       "    <tr>\n",
       "      <td>count</td>\n",
       "      <td>69.000000</td>\n",
       "      <td>69.000000</td>\n",
       "      <td>69.000000</td>\n",
       "    </tr>\n",
       "    <tr>\n",
       "      <td>mean</td>\n",
       "      <td>376.797101</td>\n",
       "      <td>0.652174</td>\n",
       "      <td>46.134783</td>\n",
       "    </tr>\n",
       "    <tr>\n",
       "      <td>std</td>\n",
       "      <td>458.362000</td>\n",
       "      <td>0.479770</td>\n",
       "      <td>8.874846</td>\n",
       "    </tr>\n",
       "    <tr>\n",
       "      <td>min</td>\n",
       "      <td>1.000000</td>\n",
       "      <td>0.000000</td>\n",
       "      <td>19.700000</td>\n",
       "    </tr>\n",
       "    <tr>\n",
       "      <td>25%</td>\n",
       "      <td>47.000000</td>\n",
       "      <td>0.000000</td>\n",
       "      <td>42.500000</td>\n",
       "    </tr>\n",
       "    <tr>\n",
       "      <td>50%</td>\n",
       "      <td>147.000000</td>\n",
       "      <td>1.000000</td>\n",
       "      <td>48.000000</td>\n",
       "    </tr>\n",
       "    <tr>\n",
       "      <td>75%</td>\n",
       "      <td>592.000000</td>\n",
       "      <td>1.000000</td>\n",
       "      <td>52.200000</td>\n",
       "    </tr>\n",
       "    <tr>\n",
       "      <td>max</td>\n",
       "      <td>1775.000000</td>\n",
       "      <td>1.000000</td>\n",
       "      <td>64.500000</td>\n",
       "    </tr>\n",
       "  </tbody>\n",
       "</table>\n",
       "</div>"
      ],
      "text/plain": [
       "          survival    censors        age\n",
       "count    69.000000  69.000000  69.000000\n",
       "mean    376.797101   0.652174  46.134783\n",
       "std     458.362000   0.479770   8.874846\n",
       "min       1.000000   0.000000  19.700000\n",
       "25%      47.000000   0.000000  42.500000\n",
       "50%     147.000000   1.000000  48.000000\n",
       "75%     592.000000   1.000000  52.200000\n",
       "max    1775.000000   1.000000  64.500000"
      ]
     },
     "execution_count": 18,
     "metadata": {},
     "output_type": "execute_result"
    }
   ],
   "source": [
    "data.describe()"
   ]
  },
  {
   "cell_type": "markdown",
   "metadata": {},
   "source": [
    "`censors == 0`の人は、データ収集期間終了時に生存していた人を示す。そのため、exactな生存時間を知ることができない。"
   ]
  },
  {
   "cell_type": "code",
   "execution_count": 19,
   "metadata": {},
   "outputs": [],
   "source": [
    "data = data[data.censors == 1]\n",
    "survival = data.survival"
   ]
  },
  {
   "cell_type": "code",
   "execution_count": 20,
   "metadata": {},
   "outputs": [
    {
     "data": {
      "image/png": "[encoded data removed]",
      "text/plain": [
       "<Figure size 720x288 with 2 Axes>"
      ]
     },
     "metadata": {
      "needs_background": "light"
     },
     "output_type": "display_data"
    }
   ],
   "source": [
    "fig, (ax1, ax2) = plt.subplots(1, 2, figsize=(10, 4))\n",
    "\n",
    "ax1.plot(sorted(survival)[::-1], 'o')\n",
    "ax1.set_xlabel('Patient')\n",
    "ax1.set_ylabel('Survival time (days)')\n",
    "\n",
    "ax2.hist(survival, bins = 'auto')\n",
    "ax2.set_xlabel('Survival time (days)')\n",
    "ax2.set_ylabel('Number of patients');"
   ]
  },
  {
   "cell_type": "markdown",
   "metadata": {},
   "source": [
    "exponential distributionでfitを見てみる"
   ]
  },
  {
   "cell_type": "markdown",
   "metadata": {},
   "source": [
    "The likelihood function of an exponential distributionは\n",
    "$$\n",
    "\\mathcal{L}(\\lambda, \\{s_i\\}) = P(\\{s_i\\} \\mid \\lambda) = \\lambda^n \\exp\\left(-\\lambda n \\overline s\\right)\n",
    "$$"
   ]
  },
  {
   "cell_type": "code",
   "execution_count": 21,
   "metadata": {},
   "outputs": [],
   "source": [
    "smean = survival.mean()\n",
    "rate = 1. / smean\n",
    "smax = survival.max()\n",
    "days = np.linspace(0., smax, 1000)\n",
    "dt = smax / 999."
   ]
  },
  {
   "cell_type": "code",
   "execution_count": 22,
   "metadata": {},
   "outputs": [],
   "source": [
    "dist_exp = st.expon.pdf(days, scale=1. / rate)"
   ]
  },
  {
   "cell_type": "code",
   "execution_count": 23,
   "metadata": {},
   "outputs": [
    {
     "data": {
      "text/plain": [
       "Text(0, 0.5, 'Number of patients')"
      ]
     },
     "execution_count": 23,
     "metadata": {},
     "output_type": "execute_result"
    },
    {
     "data": {
      "image/png": "[encoded data removed]",
      "text/plain": [
       "<Figure size 432x288 with 1 Axes>"
      ]
     },
     "metadata": {
      "needs_background": "light"
     },
     "output_type": "display_data"
    }
   ],
   "source": [
    "nbins = 30\n",
    "fig, ax = plt.subplots(1, 1, figsize=(6, 4))\n",
    "ax.hist(survival, nbins)\n",
    "ax.plot(days, dist_exp * len(survival) * smax / nbins,\n",
    "        '-b', lw=3)\n",
    "ax.set_xlabel(\"Survival time (days)\")\n",
    "ax.set_ylabel(\"Number of patients\")"
   ]
  },
  {
   "cell_type": "markdown",
   "metadata": {},
   "source": [
    "MLE"
   ]
  },
  {
   "cell_type": "code",
   "execution_count": 24,
   "metadata": {},
   "outputs": [
    {
     "data": {
      "text/plain": [
       "(1.0, 222.2888888888889)"
      ]
     },
     "execution_count": 24,
     "metadata": {},
     "output_type": "execute_result"
    }
   ],
   "source": [
    "dist = st.expon\n",
    "args = dist.fit(survival)\n",
    "args"
   ]
  },
  {
   "cell_type": "markdown",
   "metadata": {},
   "source": [
    "ks test"
   ]
  },
  {
   "cell_type": "code",
   "execution_count": 25,
   "metadata": {},
   "outputs": [
    {
     "data": {
      "text/plain": [
       "KstestResult(statistic=0.36199693810792966, pvalue=8.647045785208746e-06)"
      ]
     },
     "execution_count": 25,
     "metadata": {},
     "output_type": "execute_result"
    }
   ],
   "source": [
    "st.kstest(survival, dist.cdf, args)"
   ]
  },
  {
   "cell_type": "markdown",
   "metadata": {},
   "source": [
    "the Birnbaum-Sanders distribution "
   ]
  },
  {
   "cell_type": "code",
   "execution_count": 26,
   "metadata": {},
   "outputs": [
    {
     "data": {
      "text/plain": [
       "KstestResult(statistic=0.7111111111111111, pvalue=1.7674200301054493e-23)"
      ]
     },
     "execution_count": 26,
     "metadata": {},
     "output_type": "execute_result"
    }
   ],
   "source": [
    "dist_bs = st.fatiguelife\n",
    "args_bs = dist_bs.fit(survival)\n",
    "st.kstest(survival, dist_bs.cdf, args)"
   ]
  },
  {
   "cell_type": "code",
   "execution_count": 27,
   "metadata": {},
   "outputs": [
    {
     "data": {
      "image/png": "[encoded data removed]",
      "text/plain": [
       "<Figure size 432x288 with 1 Axes>"
      ]
     },
     "metadata": {
      "needs_background": "light"
     },
     "output_type": "display_data"
    }
   ],
   "source": [
    "dist_fl = dist_bs.pdf(days, *args_bs)\n",
    "nbins = 30\n",
    "fig, ax = plt.subplots(1, 1, figsize=(6, 4))\n",
    "ax.hist(survival, nbins)\n",
    "ax.plot(days, dist_exp * len(survival) * smax / nbins,\n",
    "        '-b', lw=3, label='exp')\n",
    "ax.plot(days, dist_fl * len(survival) * smax / nbins,\n",
    "        '--g', lw=3, label='BS')\n",
    "ax.set_xlabel(\"Survival time (days)\")\n",
    "ax.set_ylabel(\"Number of patients\")\n",
    "ax.legend();"
   ]
  },
  {
   "cell_type": "code",
   "execution_count": 28,
   "metadata": {},
   "outputs": [
    {
     "name": "stdout",
     "output_type": "stream",
     "text": [
      "-288.1790026746687 -280.34546260729104\n"
     ]
    }
   ],
   "source": [
    "L_exp = np.sum(np.log(dist.pdf(survival, *args)))\n",
    "L_bs = np.sum(np.log(dist_bs.pdf(survival, *args_bs)))\n",
    "print(L_exp, L_bs)"
   ]
  }
 ],
 "metadata": {
  "kernelspec": {
   "display_name": "Python 3",
   "language": "python",
   "name": "python3"
  },
  "language_info": {
   "codemirror_mode": {
    "name": "ipython",
    "version": 3
   },
   "file_extension": ".py",
   "mimetype": "text/x-python",
   "name": "python",
   "nbconvert_exporter": "python",
   "pygments_lexer": "ipython3",
   "version": "3.7.4"
  }
 },
 "nbformat": 4,
 "nbformat_minor": 4
}
