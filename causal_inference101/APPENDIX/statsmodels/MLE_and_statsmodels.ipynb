{
 "cells": [
  {
   "cell_type": "markdown",
   "metadata": {},
   "source": [
    "# Maximum Likelihood Estimationとstatsmodels\n",
    "## Agenda\n",
    "\n",
    "- binary choice modelをprobit modelで推定する\n",
    "- Negative binomial model for count dataのパラメーター推定\n"
   ]
  },
  {
   "cell_type": "code",
   "execution_count": 1,
   "metadata": {},
   "outputs": [],
   "source": [
    "## create the clean environment\n",
    "import gc\n",
    "import matplotlib.pyplot as plt\n",
    "\n",
    "def clear_all():\n",
    "    # Clears all the variables from the workspace\n",
    "    gl = globals().copy()\n",
    "    for var in gl:\n",
    "        if var in clean_env_var: \n",
    "            continue\n",
    "        del globals()[var]\n",
    "    # Garbage collection:\n",
    "    gc.collect()\n",
    "\n",
    "def close_plots():\n",
    "    my_plots = plt.get_fignums()\n",
    "    for j in my_plots:\n",
    "        plt.close(plt.figure(j))\n",
    "\n",
    "clean_env_var = dir()\n",
    "clean_env_var.append('clean_env_var')"
   ]
  },
  {
   "cell_type": "code",
   "execution_count": 2,
   "metadata": {},
   "outputs": [],
   "source": [
    "clear_all()"
   ]
  },
  {
   "cell_type": "markdown",
   "metadata": {},
   "source": [
    "### Hardware"
   ]
  },
  {
   "cell_type": "code",
   "execution_count": 4,
   "metadata": {},
   "outputs": [
    {
     "name": "stdout",
     "output_type": "stream",
     "text": [
      "      Model Identifier: MacBookPro13,1\n",
      "      Processor Name: Dual-Core Intel Core i5\n",
      "      Processor Speed: 2 GHz\n",
      "      Number of Processors: 1\n",
      "      Memory: 16 GB\n"
     ]
    }
   ],
   "source": [
    "%%bash\n",
    "system_profiler SPHardwareDataType | grep -E \\\n",
    "\"Model Identifier\"\\|\"Processor Name\"\\|\"Processor Speed\"\\\n",
    "\\|\"Number of Processors\"\\|\"Memory:\""
   ]
  },
  {
   "cell_type": "markdown",
   "metadata": {},
   "source": [
    "### Python"
   ]
  },
  {
   "cell_type": "code",
   "execution_count": 5,
   "metadata": {},
   "outputs": [
    {
     "name": "stdout",
     "output_type": "stream",
     "text": [
      "Python 3.7.4\n"
     ]
    }
   ],
   "source": [
    "!python -V"
   ]
  },
  {
   "cell_type": "markdown",
   "metadata": {},
   "source": [
    "### Install packages"
   ]
  },
  {
   "cell_type": "code",
   "execution_count": 6,
   "metadata": {},
   "outputs": [],
   "source": [
    "pass"
   ]
  },
  {
   "cell_type": "markdown",
   "metadata": {},
   "source": [
    "### Import"
   ]
  },
  {
   "cell_type": "code",
   "execution_count": 7,
   "metadata": {},
   "outputs": [],
   "source": [
    "import numpy as np\n",
    "from scipy import stats\n",
    "import statsmodels.api as sm\n",
    "from scipy.stats import nbinom\n",
    "import matplotlib.pyplot as plt\n",
    "import seaborn as sns\n",
    "from statsmodels.base.model import GenericLikelihoodModel"
   ]
  },
  {
   "cell_type": "markdown",
   "metadata": {},
   "source": [
    "## 1. `GenericLikelihoodModel` classとは？\n",
    "\n",
    "- `scipy` optimization functionのAPIを扱いやすいように提供してくれるstatsmodelsのクラス\n",
    "- log-likelihood functionにuser-defined MLE modelをplugging-inするだけでパラメータ推定ができる\n",
    "- automatic differentiationしてくれるのでHessianやその他update functionを設定しなくて良い(defaultで`fit(method='nm')`となっている)\n",
    "\n",
    "\n"
   ]
  },
  {
   "cell_type": "markdown",
   "metadata": {},
   "source": [
    "## 2. Probit model"
   ]
  },
  {
   "cell_type": "markdown",
   "metadata": {},
   "source": [
    "### Data"
   ]
  },
  {
   "cell_type": "code",
   "execution_count": 8,
   "metadata": {},
   "outputs": [
    {
     "name": "stdout",
     "output_type": "stream",
     "text": [
      "::\n",
      "\n",
      "    Number of Observations - 32\n",
      "\n",
      "    Number of Variables - 4\n",
      "\n",
      "    Variable name definitions::\n",
      "\n",
      "        Grade - binary variable indicating whether or not a student's grade\n",
      "                improved.  1 indicates an improvement.\n",
      "        TUCE  - Test score on economics test\n",
      "        PSI   - participation in program\n",
      "        GPA   - Student's grade point average\n",
      "\n"
     ]
    },
    {
     "data": {
      "text/html": [
       "<div>\n",
       "<style scoped>\n",
       "    .dataframe tbody tr th:only-of-type {\n",
       "        vertical-align: middle;\n",
       "    }\n",
       "\n",
       "    .dataframe tbody tr th {\n",
       "        vertical-align: top;\n",
       "    }\n",
       "\n",
       "    .dataframe thead th {\n",
       "        text-align: right;\n",
       "    }\n",
       "</style>\n",
       "<table border=\"1\" class=\"dataframe\">\n",
       "  <thead>\n",
       "    <tr style=\"text-align: right;\">\n",
       "      <th></th>\n",
       "      <th>GPA</th>\n",
       "      <th>TUCE</th>\n",
       "      <th>PSI</th>\n",
       "      <th>GRADE</th>\n",
       "    </tr>\n",
       "  </thead>\n",
       "  <tbody>\n",
       "    <tr>\n",
       "      <th>0</th>\n",
       "      <td>2.66</td>\n",
       "      <td>20.0</td>\n",
       "      <td>0.0</td>\n",
       "      <td>0.0</td>\n",
       "    </tr>\n",
       "    <tr>\n",
       "      <th>1</th>\n",
       "      <td>2.89</td>\n",
       "      <td>22.0</td>\n",
       "      <td>0.0</td>\n",
       "      <td>0.0</td>\n",
       "    </tr>\n",
       "    <tr>\n",
       "      <th>2</th>\n",
       "      <td>3.28</td>\n",
       "      <td>24.0</td>\n",
       "      <td>0.0</td>\n",
       "      <td>0.0</td>\n",
       "    </tr>\n",
       "    <tr>\n",
       "      <th>3</th>\n",
       "      <td>2.92</td>\n",
       "      <td>12.0</td>\n",
       "      <td>0.0</td>\n",
       "      <td>0.0</td>\n",
       "    </tr>\n",
       "    <tr>\n",
       "      <th>4</th>\n",
       "      <td>4.00</td>\n",
       "      <td>21.0</td>\n",
       "      <td>0.0</td>\n",
       "      <td>1.0</td>\n",
       "    </tr>\n",
       "  </tbody>\n",
       "</table>\n",
       "</div>"
      ],
      "text/plain": [
       "    GPA  TUCE  PSI  GRADE\n",
       "0  2.66  20.0  0.0    0.0\n",
       "1  2.89  22.0  0.0    0.0\n",
       "2  3.28  24.0  0.0    0.0\n",
       "3  2.92  12.0  0.0    0.0\n",
       "4  4.00  21.0  0.0    1.0"
      ]
     },
     "execution_count": 8,
     "metadata": {},
     "output_type": "execute_result"
    }
   ],
   "source": [
    "df = sm.datasets.spector.load_pandas()\n",
    "print(sm.datasets.spector.NOTE)\n",
    "df.data.head()"
   ]
  },
  {
   "cell_type": "markdown",
   "metadata": {},
   "source": [
    "### Pre-processing"
   ]
  },
  {
   "cell_type": "code",
   "execution_count": 9,
   "metadata": {},
   "outputs": [],
   "source": [
    "exog = df.exog\n",
    "endog = df.endog\n",
    "exog = sm.add_constant(exog, prepend=True)"
   ]
  },
  {
   "cell_type": "markdown",
   "metadata": {},
   "source": [
    "### EDA"
   ]
  },
  {
   "cell_type": "code",
   "execution_count": 10,
   "metadata": {},
   "outputs": [
    {
     "data": {
      "image/png": "[encoded data removed]",
      "text/plain": [
       "<Figure size 432x288 with 1 Axes>"
      ]
     },
     "metadata": {
      "needs_background": "light"
     },
     "output_type": "display_data"
    }
   ],
   "source": [
    "plt.hist(endog);"
   ]
  },
  {
   "cell_type": "markdown",
   "metadata": {},
   "source": [
    "### Probit 推定モデルの作成"
   ]
  },
  {
   "cell_type": "code",
   "execution_count": 11,
   "metadata": {},
   "outputs": [],
   "source": [
    "class MyProbit(GenericLikelihoodModel):\n",
    "    def loglike(self, params):\n",
    "        exog = self.exog\n",
    "        endog = self.endog\n",
    "        q = 2 * endog - 1 ## P(x>c) = 1 - P(x<c)の考え\n",
    "        return stats.norm.logcdf(q*np.dot(exog, params)).sum() "
   ]
  },
  {
   "cell_type": "markdown",
   "metadata": {},
   "source": [
    "### Probit estimation"
   ]
  },
  {
   "cell_type": "code",
   "execution_count": 12,
   "metadata": {},
   "outputs": [
    {
     "name": "stdout",
     "output_type": "stream",
     "text": [
      "Optimization terminated successfully.\n",
      "         Current function value: 0.400588\n",
      "         Iterations: 292\n",
      "         Function evaluations: 494\n",
      "                               MyProbit Results                               \n",
      "==============================================================================\n",
      "Dep. Variable:                  GRADE   Log-Likelihood:                -12.819\n",
      "Model:                       MyProbit   AIC:                             33.64\n",
      "Method:            Maximum Likelihood   BIC:                             39.50\n",
      "Date:                Mon, 18 May 2020                                         \n",
      "Time:                        18:34:45                                         \n",
      "No. Observations:                  32                                         \n",
      "Df Residuals:                      28                                         \n",
      "Df Model:                           3                                         \n",
      "==============================================================================\n",
      "                 coef    std err          z      P>|z|      [0.025      0.975]\n",
      "------------------------------------------------------------------------------\n",
      "const         -7.4523      2.542     -2.931      0.003     -12.435      -2.469\n",
      "GPA            1.6258      0.694      2.343      0.019       0.266       2.986\n",
      "TUCE           0.0517      0.084      0.617      0.537      -0.113       0.216\n",
      "PSI            1.4263      0.595      2.397      0.017       0.260       2.593\n",
      "==============================================================================\n"
     ]
    }
   ],
   "source": [
    "sm_probit_manual = MyProbit(endog, exog).fit()\n",
    "print(sm_probit_manual.summary())"
   ]
  },
  {
   "cell_type": "markdown",
   "metadata": {},
   "source": [
    "## 3. Negative Binomial Regression for Count Data\n",
    "\n",
    "type NB-2 functionを考える：\n",
    "\n",
    "$$\n",
    "\\mathcal{L}(\\beta_j; y, \\alpha) = \\sum_{i=1}^n y_i ln\n",
    "\\left ( \\frac{\\alpha exp(X_i'\\beta)}{1+\\alpha exp(X_i'\\beta)} \\right ) -\n",
    "\\frac{1}{\\alpha} ln(1+\\alpha exp(X_i'\\beta)) + ln \\Gamma (y_i + 1/\\alpha) - ln \\Gamma (y_i+1) - ln \\Gamma (1/\\alpha)\n",
    "$$\n",
    "\n",
    "- $X$: regressors\n",
    "- $\\beta$: params\n",
    "- $\\alpha$: the negative binomial heterogeneity parameter"
   ]
  },
  {
   "cell_type": "code",
   "execution_count": 13,
   "metadata": {},
   "outputs": [],
   "source": [
    "def _ll_nb2(y, X, beta, alph):\n",
    "    mu = np.exp(np.dot(X, beta))\n",
    "    size = 1/alph\n",
    "    prob = size/(size+mu)\n",
    "    ll = nbinom.logpmf(y, size, prob)\n",
    "    return ll"
   ]
  },
  {
   "cell_type": "code",
   "execution_count": 14,
   "metadata": {},
   "outputs": [],
   "source": [
    "class NBin(GenericLikelihoodModel):\n",
    "    def __init__(self, endog, exog, **kwds):\n",
    "        super(NBin, self).__init__(endog, exog, **kwds)\n",
    "\n",
    "    def nloglikeobs(self, params):\n",
    "        alph = params[-1]\n",
    "        beta = params[:-1]\n",
    "        ll = _ll_nb2(self.endog, self.exog, beta, alph)\n",
    "        return -ll\n",
    "\n",
    "    def fit(self, start_params=None, maxiter=10000, maxfun=5000, **kwds):\n",
    "        # we have one additional parameter and we need to add it for summary\n",
    "        self.exog_names.append('alpha')\n",
    "        if start_params == None:\n",
    "            # Reasonable starting values\n",
    "            start_params = np.append(np.zeros(self.exog.shape[1]), .5)\n",
    "            # intercept\n",
    "            start_params[-2] = np.log(self.endog.mean())\n",
    "        return super(NBin, self).fit(start_params=start_params,\n",
    "                                     maxiter=maxiter, maxfun=maxfun,\n",
    "                                     **kwds)"
   ]
  },
  {
   "cell_type": "markdown",
   "metadata": {},
   "source": [
    "### Data"
   ]
  },
  {
   "cell_type": "code",
   "execution_count": 15,
   "metadata": {},
   "outputs": [
    {
     "data": {
      "text/html": [
       "<div>\n",
       "<style scoped>\n",
       "    .dataframe tbody tr th:only-of-type {\n",
       "        vertical-align: middle;\n",
       "    }\n",
       "\n",
       "    .dataframe tbody tr th {\n",
       "        vertical-align: top;\n",
       "    }\n",
       "\n",
       "    .dataframe thead th {\n",
       "        text-align: right;\n",
       "    }\n",
       "</style>\n",
       "<table border=\"1\" class=\"dataframe\">\n",
       "  <thead>\n",
       "    <tr style=\"text-align: right;\">\n",
       "      <th></th>\n",
       "      <th>los</th>\n",
       "      <th>hmo</th>\n",
       "      <th>white</th>\n",
       "      <th>died</th>\n",
       "      <th>age80</th>\n",
       "      <th>type</th>\n",
       "      <th>type1</th>\n",
       "      <th>type2</th>\n",
       "      <th>type3</th>\n",
       "      <th>provnum</th>\n",
       "    </tr>\n",
       "  </thead>\n",
       "  <tbody>\n",
       "    <tr>\n",
       "      <th>0</th>\n",
       "      <td>4</td>\n",
       "      <td>0</td>\n",
       "      <td>1</td>\n",
       "      <td>0</td>\n",
       "      <td>0</td>\n",
       "      <td>1</td>\n",
       "      <td>1</td>\n",
       "      <td>0</td>\n",
       "      <td>0</td>\n",
       "      <td>30001</td>\n",
       "    </tr>\n",
       "    <tr>\n",
       "      <th>1</th>\n",
       "      <td>9</td>\n",
       "      <td>1</td>\n",
       "      <td>1</td>\n",
       "      <td>0</td>\n",
       "      <td>0</td>\n",
       "      <td>1</td>\n",
       "      <td>1</td>\n",
       "      <td>0</td>\n",
       "      <td>0</td>\n",
       "      <td>30001</td>\n",
       "    </tr>\n",
       "    <tr>\n",
       "      <th>2</th>\n",
       "      <td>3</td>\n",
       "      <td>1</td>\n",
       "      <td>1</td>\n",
       "      <td>1</td>\n",
       "      <td>1</td>\n",
       "      <td>1</td>\n",
       "      <td>1</td>\n",
       "      <td>0</td>\n",
       "      <td>0</td>\n",
       "      <td>30001</td>\n",
       "    </tr>\n",
       "    <tr>\n",
       "      <th>3</th>\n",
       "      <td>9</td>\n",
       "      <td>0</td>\n",
       "      <td>1</td>\n",
       "      <td>0</td>\n",
       "      <td>0</td>\n",
       "      <td>1</td>\n",
       "      <td>1</td>\n",
       "      <td>0</td>\n",
       "      <td>0</td>\n",
       "      <td>30001</td>\n",
       "    </tr>\n",
       "    <tr>\n",
       "      <th>4</th>\n",
       "      <td>1</td>\n",
       "      <td>0</td>\n",
       "      <td>1</td>\n",
       "      <td>1</td>\n",
       "      <td>1</td>\n",
       "      <td>1</td>\n",
       "      <td>1</td>\n",
       "      <td>0</td>\n",
       "      <td>0</td>\n",
       "      <td>30001</td>\n",
       "    </tr>\n",
       "  </tbody>\n",
       "</table>\n",
       "</div>"
      ],
      "text/plain": [
       "   los  hmo  white  died  age80  type  type1  type2  type3  provnum\n",
       "0    4    0      1     0      0     1      1      0      0    30001\n",
       "1    9    1      1     0      0     1      1      0      0    30001\n",
       "2    3    1      1     1      1     1      1      0      0    30001\n",
       "3    9    0      1     0      0     1      1      0      0    30001\n",
       "4    1    0      1     1      1     1      1      0      0    30001"
      ]
     },
     "execution_count": 15,
     "metadata": {},
     "output_type": "execute_result"
    }
   ],
   "source": [
    "medpar = sm.datasets.get_rdataset(\"medpar\", \"COUNT\", cache=True).data\n",
    "medpar.head()"
   ]
  },
  {
   "cell_type": "markdown",
   "metadata": {},
   "source": [
    "### Pre-processing"
   ]
  },
  {
   "cell_type": "code",
   "execution_count": 16,
   "metadata": {},
   "outputs": [],
   "source": [
    "y = medpar.los\n",
    "X = medpar[[\"type2\", \"type3\", \"hmo\", \"white\"]].copy()\n",
    "X[\"constant\"] = 1"
   ]
  },
  {
   "cell_type": "code",
   "execution_count": 17,
   "metadata": {},
   "outputs": [
    {
     "data": {
      "image/png": "[encoded data removed]",
      "text/plain": [
       "<Figure size 432x288 with 1 Axes>"
      ]
     },
     "metadata": {
      "needs_background": "light"
     },
     "output_type": "display_data"
    }
   ],
   "source": [
    "sns.distplot(y);"
   ]
  },
  {
   "cell_type": "markdown",
   "metadata": {},
   "source": [
    "### Estimation"
   ]
  },
  {
   "cell_type": "code",
   "execution_count": 18,
   "metadata": {},
   "outputs": [
    {
     "name": "stdout",
     "output_type": "stream",
     "text": [
      "Optimization terminated successfully.\n",
      "         Current function value: 3.209014\n",
      "         Iterations: 805\n",
      "         Function evaluations: 1238\n"
     ]
    }
   ],
   "source": [
    "mod = NBin(y, X)\n",
    "res = mod.fit()"
   ]
  },
  {
   "cell_type": "code",
   "execution_count": 19,
   "metadata": {},
   "outputs": [
    {
     "name": "stdout",
     "output_type": "stream",
     "text": [
      "Parameters:  [ 0.2212642   0.70613942 -0.06798155 -0.12903932  2.31026565  0.44575147]\n",
      "Standard errors:  [0.05059259 0.07613047 0.05326097 0.06854141 0.06794692 0.01981542]\n",
      "P-values:  [1.22297920e-005 1.76978024e-020 2.01819161e-001 5.97481600e-002\n",
      " 2.15079626e-253 4.62688439e-112]\n",
      "AIC:  9604.95320583016\n"
     ]
    }
   ],
   "source": [
    "print('Parameters: ', res.params)\n",
    "print('Standard errors: ', res.bse)\n",
    "print('P-values: ', res.pvalues)\n",
    "print('AIC: ', res.aic)"
   ]
  },
  {
   "cell_type": "code",
   "execution_count": 20,
   "metadata": {},
   "outputs": [
    {
     "name": "stdout",
     "output_type": "stream",
     "text": [
      "                                 NBin Results                                 \n",
      "==============================================================================\n",
      "Dep. Variable:                    los   Log-Likelihood:                -4797.5\n",
      "Model:                           NBin   AIC:                             9605.\n",
      "Method:            Maximum Likelihood   BIC:                             9632.\n",
      "Date:                Mon, 18 May 2020                                         \n",
      "Time:                        18:34:47                                         \n",
      "No. Observations:                1495                                         \n",
      "Df Residuals:                    1490                                         \n",
      "Df Model:                           4                                         \n",
      "==============================================================================\n",
      "                 coef    std err          z      P>|z|      [0.025      0.975]\n",
      "------------------------------------------------------------------------------\n",
      "type2          0.2213      0.051      4.373      0.000       0.122       0.320\n",
      "type3          0.7061      0.076      9.275      0.000       0.557       0.855\n",
      "hmo           -0.0680      0.053     -1.276      0.202      -0.172       0.036\n",
      "white         -0.1290      0.069     -1.883      0.060      -0.263       0.005\n",
      "constant       2.3103      0.068     34.001      0.000       2.177       2.443\n",
      "alpha          0.4458      0.020     22.495      0.000       0.407       0.485\n",
      "==============================================================================\n"
     ]
    }
   ],
   "source": [
    "print(res.summary())"
   ]
  },
  {
   "cell_type": "markdown",
   "metadata": {},
   "source": [
    "### statsmodel implmentationとの比較"
   ]
  },
  {
   "cell_type": "code",
   "execution_count": 21,
   "metadata": {},
   "outputs": [
    {
     "name": "stdout",
     "output_type": "stream",
     "text": [
      "                     NegativeBinomial Regression Results                      \n",
      "==============================================================================\n",
      "Dep. Variable:                    los   No. Observations:                 1495\n",
      "Model:               NegativeBinomial   Df Residuals:                     1490\n",
      "Method:                           MLE   Df Model:                            4\n",
      "Date:                Mon, 18 May 2020   Pseudo R-squ.:                 0.01215\n",
      "Time:                        18:34:47   Log-Likelihood:                -4797.5\n",
      "converged:                       True   LL-Null:                       -4856.5\n",
      "Covariance Type:            nonrobust   LLR p-value:                 1.404e-24\n",
      "==============================================================================\n",
      "                 coef    std err          z      P>|z|      [0.025      0.975]\n",
      "------------------------------------------------------------------------------\n",
      "type2          0.2212      0.051      4.373      0.000       0.122       0.320\n",
      "type3          0.7062      0.076      9.276      0.000       0.557       0.855\n",
      "hmo           -0.0680      0.053     -1.276      0.202      -0.172       0.036\n",
      "white         -0.1291      0.069     -1.883      0.060      -0.263       0.005\n",
      "constant       2.3103      0.068     34.001      0.000       2.177       2.443\n",
      "alpha          0.4457      0.020     22.495      0.000       0.407       0.485\n",
      "==============================================================================\n"
     ]
    }
   ],
   "source": [
    "res_nbin = sm.NegativeBinomial(y, X).fit(disp=0)\n",
    "print(res_nbin.summary())"
   ]
  },
  {
   "cell_type": "markdown",
   "metadata": {},
   "source": [
    "### REMARKS\n",
    "\n",
    "- `statsmodels`とR `MASS`パッケージでのimplementationによる推定結果はfourth decimalまで一致する\n",
    "- standard errorに関してはthe second decimalまで"
   ]
  },
  {
   "cell_type": "code",
   "execution_count": null,
   "metadata": {},
   "outputs": [],
   "source": []
  }
 ],
 "metadata": {
  "kernelspec": {
   "display_name": "Python 3",
   "language": "python",
   "name": "python3"
  },
  "language_info": {
   "codemirror_mode": {
    "name": "ipython",
    "version": 3
   },
   "file_extension": ".py",
   "mimetype": "text/x-python",
   "name": "python",
   "nbconvert_exporter": "python",
   "pygments_lexer": "ipython3",
   "version": "3.7.4"
  }
 },
 "nbformat": 4,
 "nbformat_minor": 4
}
