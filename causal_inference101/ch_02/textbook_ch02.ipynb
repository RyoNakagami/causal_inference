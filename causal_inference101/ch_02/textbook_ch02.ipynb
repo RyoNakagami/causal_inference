{
 "cells": [
  {
   "cell_type": "markdown",
   "metadata": {},
   "source": [
    "# Chapter 2 : 介入効果を測るための回帰分析"
   ]
  },
  {
   "cell_type": "markdown",
   "metadata": {},
   "source": [
    "### Agenda\n",
    "\n",
    "- 回帰分析を用いて、セレクションバイアスの影響を低減させることができることを確認する\n",
    "- Descriptive Toolとしてのregression\n",
    "- Regressionとmatchingの関係\n",
    "- `statsmodels`を使いこなす\n",
    "\n",
    "### scope外\n",
    "\n",
    "- 漸近分散の導出\n",
    "\n",
    "### お作法\n",
    "\n",
    "- seed = 42は宇宙の真理（seedガチャをやっていないことを示す）"
   ]
  },
  {
   "cell_type": "code",
   "execution_count": 1,
   "metadata": {},
   "outputs": [],
   "source": [
    "## create the clean environment\n",
    "import gc\n",
    "import matplotlib.pyplot as plt\n",
    "\n",
    "def clear_all():\n",
    "    # Clears all the variables from the workspace\n",
    "    gl = globals().copy()\n",
    "    for var in gl:\n",
    "        if var in clean_env_var: continue\n",
    "        del globals()[var]\n",
    "    # Garbage collection:\n",
    "    gc.collect()\n",
    "\n",
    "def close_plots():\n",
    "  my_plots = plt.get_fignums()\n",
    "  for j in my_plots:\n",
    "    plt.close(plt.figure(j))\n",
    "\n",
    "clean_env_var = dir()\n",
    "clean_env_var.append('clean_env_var')"
   ]
  },
  {
   "cell_type": "code",
   "execution_count": 2,
   "metadata": {},
   "outputs": [],
   "source": [
    "clear_all()"
   ]
  },
  {
   "cell_type": "markdown",
   "metadata": {},
   "source": [
    "### Hardware"
   ]
  },
  {
   "cell_type": "code",
   "execution_count": 3,
   "metadata": {},
   "outputs": [
    {
     "name": "stdout",
     "output_type": "stream",
     "text": [
      "      Model Identifier: MacBookPro13,1\n",
      "      Processor Name: Dual-Core Intel Core i5\n",
      "      Processor Speed: 2 GHz\n",
      "      Number of Processors: 1\n",
      "      Memory: 16 GB\n"
     ]
    }
   ],
   "source": [
    "%%bash\n",
    "system_profiler SPHardwareDataType | grep -E \\\n",
    "\"Model Identifier\"\\|\"Processor Name\"\\|\"Processor Speed\"\\\n",
    "\\|\"Number of Processors\"\\|\"Memory:\""
   ]
  },
  {
   "cell_type": "markdown",
   "metadata": {},
   "source": [
    "### Python"
   ]
  },
  {
   "cell_type": "code",
   "execution_count": 4,
   "metadata": {},
   "outputs": [
    {
     "name": "stdout",
     "output_type": "stream",
     "text": [
      "Python 3.7.4\n"
     ]
    }
   ],
   "source": [
    "!python -V"
   ]
  },
  {
   "cell_type": "markdown",
   "metadata": {},
   "source": [
    "### Install Packages"
   ]
  },
  {
   "cell_type": "code",
   "execution_count": 5,
   "metadata": {},
   "outputs": [],
   "source": [
    "pass"
   ]
  },
  {
   "cell_type": "markdown",
   "metadata": {},
   "source": [
    "### Import"
   ]
  },
  {
   "cell_type": "code",
   "execution_count": 6,
   "metadata": {},
   "outputs": [],
   "source": [
    "import numpy as np\n",
    "import pandas as pd\n",
    "import matplotlib.pyplot as plt\n",
    "import statsmodels.api as sm\n",
    "import statsmodels.formula.api as smf\n",
    "from scipy import stats as stats\n",
    "from patsy import dmatrices\n",
    "import seaborn as sns\n",
    "from sklearn.neighbors import NearestNeighbors\n",
    "from statsmodels.sandbox.regression.predstd import wls_prediction_std\n",
    "from statsmodels.iolib.summary2 import summary_col\n",
    "from statsmodels.stats.diagnostic import het_breuschpagan\n",
    "from statsmodels.stats.diagnostic import het_white\n",
    "from causalgraphicalmodels import CausalGraphicalModel\n",
    "import propensity_score_matching as psmatch"
   ]
  },
  {
   "cell_type": "markdown",
   "metadata": {},
   "source": [
    "## 1. Linear Regressionの紹介\n",
    "\n",
    "OLSの推定量は以下のように導出される\n",
    "\n",
    "$$\n",
    "\\beta = \\arg\\min_b \\mathbf E[(Y_i - X_i'b)^2]\n",
    "$$\n",
    "\n",
    "Then, using FOC,\n",
    "\n",
    "$$\n",
    "E[X_i(Y_i - X_i'b)] = 0\n",
    "$$\n",
    "\n",
    "Then,\n",
    "\n",
    "$$\n",
    "\\beta = E[X_iX_i']^{-1}E[X_iY_i]\n",
    "$$\n",
    "\n",
    "The sample analogue is\n",
    "\n",
    "$$\n",
    "\\hat\\beta = \\sum_i^N (X_iX_i')^{-1}\\sum_i^N (X_iY_i) = (X'X)^{-1}X'Y\n",
    "$$\n",
    "\n",
    "\n"
   ]
  },
  {
   "cell_type": "markdown",
   "metadata": {},
   "source": [
    "### OLSとEDA\n",
    "\n",
    "`Daron Acemoglu, Simon Johnson, and James A Robinson. The colonial origins of comparative development: an empirical investigation. The American Economic Review, 91(5):1369–1401, 2001.`のデータを用いて、汚職の少なさなどの代表される政府組織の健全度と一人当たりGDPの関係を調べてみる。"
   ]
  },
  {
   "cell_type": "markdown",
   "metadata": {},
   "source": [
    "### Read dta"
   ]
  },
  {
   "cell_type": "code",
   "execution_count": 7,
   "metadata": {},
   "outputs": [
    {
     "data": {
      "text/html": [
       "<div>\n",
       "<style scoped>\n",
       "    .dataframe tbody tr th:only-of-type {\n",
       "        vertical-align: middle;\n",
       "    }\n",
       "\n",
       "    .dataframe tbody tr th {\n",
       "        vertical-align: top;\n",
       "    }\n",
       "\n",
       "    .dataframe thead th {\n",
       "        text-align: right;\n",
       "    }\n",
       "</style>\n",
       "<table border=\"1\" class=\"dataframe\">\n",
       "  <thead>\n",
       "    <tr style=\"text-align: right;\">\n",
       "      <th></th>\n",
       "      <th>shortnam</th>\n",
       "      <th>euro1900</th>\n",
       "      <th>excolony</th>\n",
       "      <th>avexpr</th>\n",
       "      <th>logpgp95</th>\n",
       "      <th>cons1</th>\n",
       "      <th>cons90</th>\n",
       "      <th>democ00a</th>\n",
       "      <th>cons00a</th>\n",
       "      <th>extmort4</th>\n",
       "      <th>logem4</th>\n",
       "      <th>loghjypl</th>\n",
       "      <th>baseco</th>\n",
       "    </tr>\n",
       "  </thead>\n",
       "  <tbody>\n",
       "    <tr>\n",
       "      <th>0</th>\n",
       "      <td>AFG</td>\n",
       "      <td>0.000000</td>\n",
       "      <td>1.0</td>\n",
       "      <td>NaN</td>\n",
       "      <td>NaN</td>\n",
       "      <td>1.0</td>\n",
       "      <td>2.0</td>\n",
       "      <td>1.0</td>\n",
       "      <td>1.0</td>\n",
       "      <td>93.699997</td>\n",
       "      <td>4.540098</td>\n",
       "      <td>NaN</td>\n",
       "      <td>NaN</td>\n",
       "    </tr>\n",
       "    <tr>\n",
       "      <th>1</th>\n",
       "      <td>AGO</td>\n",
       "      <td>8.000000</td>\n",
       "      <td>1.0</td>\n",
       "      <td>5.363636</td>\n",
       "      <td>7.770645</td>\n",
       "      <td>3.0</td>\n",
       "      <td>3.0</td>\n",
       "      <td>0.0</td>\n",
       "      <td>1.0</td>\n",
       "      <td>280.000000</td>\n",
       "      <td>5.634789</td>\n",
       "      <td>-3.411248</td>\n",
       "      <td>1.0</td>\n",
       "    </tr>\n",
       "    <tr>\n",
       "      <th>2</th>\n",
       "      <td>ARE</td>\n",
       "      <td>0.000000</td>\n",
       "      <td>1.0</td>\n",
       "      <td>7.181818</td>\n",
       "      <td>9.804219</td>\n",
       "      <td>NaN</td>\n",
       "      <td>NaN</td>\n",
       "      <td>NaN</td>\n",
       "      <td>NaN</td>\n",
       "      <td>NaN</td>\n",
       "      <td>NaN</td>\n",
       "      <td>NaN</td>\n",
       "      <td>NaN</td>\n",
       "    </tr>\n",
       "    <tr>\n",
       "      <th>3</th>\n",
       "      <td>ARG</td>\n",
       "      <td>60.000004</td>\n",
       "      <td>1.0</td>\n",
       "      <td>6.386364</td>\n",
       "      <td>9.133459</td>\n",
       "      <td>1.0</td>\n",
       "      <td>6.0</td>\n",
       "      <td>3.0</td>\n",
       "      <td>3.0</td>\n",
       "      <td>68.900002</td>\n",
       "      <td>4.232656</td>\n",
       "      <td>-0.872274</td>\n",
       "      <td>1.0</td>\n",
       "    </tr>\n",
       "    <tr>\n",
       "      <th>4</th>\n",
       "      <td>ARM</td>\n",
       "      <td>0.000000</td>\n",
       "      <td>0.0</td>\n",
       "      <td>NaN</td>\n",
       "      <td>7.682482</td>\n",
       "      <td>NaN</td>\n",
       "      <td>NaN</td>\n",
       "      <td>NaN</td>\n",
       "      <td>NaN</td>\n",
       "      <td>NaN</td>\n",
       "      <td>NaN</td>\n",
       "      <td>NaN</td>\n",
       "      <td>NaN</td>\n",
       "    </tr>\n",
       "  </tbody>\n",
       "</table>\n",
       "</div>"
      ],
      "text/plain": [
       "  shortnam   euro1900  excolony    avexpr  logpgp95  cons1  cons90  democ00a  \\\n",
       "0      AFG   0.000000       1.0       NaN       NaN    1.0     2.0       1.0   \n",
       "1      AGO   8.000000       1.0  5.363636  7.770645    3.0     3.0       0.0   \n",
       "2      ARE   0.000000       1.0  7.181818  9.804219    NaN     NaN       NaN   \n",
       "3      ARG  60.000004       1.0  6.386364  9.133459    1.0     6.0       3.0   \n",
       "4      ARM   0.000000       0.0       NaN  7.682482    NaN     NaN       NaN   \n",
       "\n",
       "   cons00a    extmort4    logem4  loghjypl  baseco  \n",
       "0      1.0   93.699997  4.540098       NaN     NaN  \n",
       "1      1.0  280.000000  5.634789 -3.411248     1.0  \n",
       "2      NaN         NaN       NaN       NaN     NaN  \n",
       "3      3.0   68.900002  4.232656 -0.872274     1.0  \n",
       "4      NaN         NaN       NaN       NaN     NaN  "
      ]
     },
     "execution_count": 7,
     "metadata": {},
     "output_type": "execute_result"
    }
   ],
   "source": [
    "df1 = pd.read_stata('https://github.com/QuantEcon/lecture-source-py/blob/master/source/_static/lecture_specific/ols/maketable1.dta?raw=true')\n",
    "df1.head()"
   ]
  },
  {
   "cell_type": "markdown",
   "metadata": {},
   "source": [
    "### GDP per capita と the protection against expropriation indexの関係"
   ]
  },
  {
   "cell_type": "code",
   "execution_count": 8,
   "metadata": {},
   "outputs": [
    {
     "data": {
      "image/png": "[encoded data removed]",
      "text/plain": [
       "<Figure size 720x720 with 1 Axes>"
      ]
     },
     "metadata": {},
     "output_type": "display_data"
    }
   ],
   "source": [
    "plt.style.use('seaborn')\n",
    "\n",
    "df1.plot(x='avexpr', y='logpgp95', kind='scatter', figsize = (10, 10))\n",
    "nas = np.logical_or(df1['avexpr'].isnull(), df1['logpgp95'].isnull())\n",
    "pearson_corr = np.round(stats.pearsonr(df1.loc[~nas, 'avexpr'], df1.loc[~nas, 'logpgp95']), 5)\n",
    "plt.text(8, 6, \"pearson = {}\".format(pearson_corr[0]), fontsize= 20)\n",
    "plt.show()"
   ]
  },
  {
   "cell_type": "markdown",
   "metadata": {},
   "source": [
    "Bivariate regressionでOLS estimatesを計算し、plotする\n",
    "\n",
    "$$\n",
    "{logpgp95}_i = \\beta_0 + \\beta_1 {avexpr}_i + u_i\n",
    "$$\n",
    "\n",
    "なお計算にあたってNAはdropする\n"
   ]
  },
  {
   "cell_type": "code",
   "execution_count": 9,
   "metadata": {},
   "outputs": [
    {
     "data": {
      "image/png": "[encoded data removed]",
      "text/plain": [
       "<Figure size 576x396 with 1 Axes>"
      ]
     },
     "metadata": {},
     "output_type": "display_data"
    }
   ],
   "source": [
    "df1_subset = df1.dropna(subset=['logpgp95', 'avexpr'])\n",
    "df1_subset = df1_subset[df1_subset['baseco'] == 1] # base-sampleに絞る\n",
    "\n",
    "X = df1_subset['avexpr']\n",
    "y = df1_subset['logpgp95']\n",
    "labels = df1_subset['shortnam']\n",
    "fig, ax = plt.subplots()\n",
    "ax.scatter(X, y, marker='')\n",
    "\n",
    "for i, label in enumerate(labels):\n",
    "    ax.annotate(label, (X.iloc[i], y.iloc[i]))\n",
    "\n",
    "ax.plot(np.unique(X),\n",
    "         np.poly1d(np.polyfit(X, y, 1))(np.unique(X)), ## reduced-map\n",
    "         color='black')\n",
    "\n",
    "ax.set_xlim([3.3,10.5])\n",
    "ax.set_ylim([4,10.5])\n",
    "ax.set_xlabel('Average Expropriation Risk 1985-95')\n",
    "ax.set_ylabel('Log GDP per capita, PPP, 1995')\n",
    "ax.set_title('Figure 2: OLS relationship between expropriation \\\n",
    "    risk and income')\n",
    "plt.show()"
   ]
  },
  {
   "cell_type": "markdown",
   "metadata": {},
   "source": [
    "## 2. statsmodels.apiとOLS"
   ]
  },
  {
   "cell_type": "code",
   "execution_count": 10,
   "metadata": {},
   "outputs": [
    {
     "name": "stdout",
     "output_type": "stream",
     "text": [
      "                            OLS Regression Results                            \n",
      "==============================================================================\n",
      "Dep. Variable:               logpgp95   R-squared:                       0.540\n",
      "Model:                            OLS   Adj. R-squared:                  0.533\n",
      "Method:                 Least Squares   F-statistic:                     72.82\n",
      "Date:                Wed, 22 Apr 2020   Prob (F-statistic):           4.72e-12\n",
      "Time:                        18:22:22   Log-Likelihood:                -68.168\n",
      "No. Observations:                  64   AIC:                             140.3\n",
      "Df Residuals:                      62   BIC:                             144.7\n",
      "Df Model:                           1                                         \n",
      "Covariance Type:            nonrobust                                         \n",
      "==============================================================================\n",
      "                 coef    std err          t      P>|t|      [0.025      0.975]\n",
      "------------------------------------------------------------------------------\n",
      "const          4.6604      0.409     11.408      0.000       3.844       5.477\n",
      "avexpr         0.5221      0.061      8.533      0.000       0.400       0.644\n",
      "==============================================================================\n",
      "Omnibus:                        7.098   Durbin-Watson:                   2.064\n",
      "Prob(Omnibus):                  0.029   Jarque-Bera (JB):                6.657\n",
      "Skew:                          -0.781   Prob(JB):                       0.0358\n",
      "Kurtosis:                       3.234   Cond. No.                         31.2\n",
      "==============================================================================\n",
      "\n",
      "Warnings:\n",
      "[1] Standard Errors assume that the covariance matrix of the errors is correctly specified.\n"
     ]
    }
   ],
   "source": [
    "X = sm.add_constant(X)\n",
    "model = sm.OLS(y, X)\n",
    "results = model.fit()\n",
    "print(results.summary())"
   ]
  },
  {
   "cell_type": "markdown",
   "metadata": {},
   "source": [
    "### OLSとconfidence intervalのplot\n",
    "\n",
    "まずsimulation dataを作る"
   ]
  },
  {
   "cell_type": "code",
   "execution_count": 11,
   "metadata": {},
   "outputs": [],
   "source": [
    "nsample = 50\n",
    "sig = 0.5\n",
    "x = np.linspace(0, 20, nsample)\n",
    "X = np.column_stack((x, np.sin(x), (x-5)**2, np.ones(nsample)))\n",
    "beta = [0.5, 0.5, -0.02, 5.]\n",
    "\n",
    "y_true = np.dot(X, beta)\n",
    "y = y_true + sig * np.random.normal(size=nsample)"
   ]
  },
  {
   "cell_type": "markdown",
   "metadata": {},
   "source": [
    "Fit and summary"
   ]
  },
  {
   "cell_type": "code",
   "execution_count": 12,
   "metadata": {},
   "outputs": [
    {
     "name": "stdout",
     "output_type": "stream",
     "text": [
      "                            OLS Regression Results                            \n",
      "==============================================================================\n",
      "Dep. Variable:                      y   R-squared:                       0.958\n",
      "Model:                            OLS   Adj. R-squared:                  0.955\n",
      "Method:                 Least Squares   F-statistic:                     348.1\n",
      "Date:                Wed, 22 Apr 2020   Prob (F-statistic):           1.29e-31\n",
      "Time:                        18:22:22   Log-Likelihood:                -26.697\n",
      "No. Observations:                  50   AIC:                             61.39\n",
      "Df Residuals:                      46   BIC:                             69.04\n",
      "Df Model:                           3                                         \n",
      "Covariance Type:            nonrobust                                         \n",
      "==============================================================================\n",
      "                 coef    std err          t      P>|t|      [0.025      0.975]\n",
      "------------------------------------------------------------------------------\n",
      "x1             0.5535      0.023     24.472      0.000       0.508       0.599\n",
      "x2             0.7330      0.089      8.244      0.000       0.554       0.912\n",
      "x3            -0.0240      0.002    -12.065      0.000      -0.028      -0.020\n",
      "const          4.8519      0.147     33.083      0.000       4.557       5.147\n",
      "==============================================================================\n",
      "Omnibus:                        1.389   Durbin-Watson:                   2.067\n",
      "Prob(Omnibus):                  0.499   Jarque-Bera (JB):                0.997\n",
      "Skew:                          -0.346   Prob(JB):                        0.607\n",
      "Kurtosis:                       3.013   Cond. No.                         221.\n",
      "==============================================================================\n",
      "\n",
      "Warnings:\n",
      "[1] Standard Errors assume that the covariance matrix of the errors is correctly specified.\n"
     ]
    }
   ],
   "source": [
    "res = sm.OLS(y, X).fit()\n",
    "print(res.summary())"
   ]
  },
  {
   "cell_type": "markdown",
   "metadata": {},
   "source": [
    "### Confidence intervalのplot"
   ]
  },
  {
   "cell_type": "code",
   "execution_count": 13,
   "metadata": {},
   "outputs": [
    {
     "data": {
      "image/png": "[encoded data removed]",
      "text/plain": [
       "<Figure size 576x432 with 1 Axes>"
      ]
     },
     "metadata": {},
     "output_type": "display_data"
    }
   ],
   "source": [
    "prstd, iv_l, iv_u = wls_prediction_std(res)\n",
    "\n",
    "fig, ax = plt.subplots(figsize=(8,6))\n",
    "\n",
    "ax.plot(x, y, 'o', label=\"data\")\n",
    "ax.plot(x, y_true, 'b-', label=\"True\")\n",
    "ax.plot(x, res.fittedvalues, 'r--.', label=\"OLS\")\n",
    "ax.plot(x, iv_u, 'r--')\n",
    "ax.plot(x, iv_l, 'r--')\n",
    "ax.legend(loc='best');"
   ]
  },
  {
   "cell_type": "markdown",
   "metadata": {},
   "source": [
    "### OLS with dummy variables"
   ]
  },
  {
   "cell_type": "code",
   "execution_count": 14,
   "metadata": {},
   "outputs": [
    {
     "name": "stdout",
     "output_type": "stream",
     "text": [
      "                            OLS Regression Results                            \n",
      "==============================================================================\n",
      "Dep. Variable:                      y   R-squared:                       0.972\n",
      "Model:                            OLS   Adj. R-squared:                  0.970\n",
      "Method:                 Least Squares   F-statistic:                     531.6\n",
      "Date:                Wed, 22 Apr 2020   Prob (F-statistic):           1.07e-35\n",
      "Time:                        18:22:23   Log-Likelihood:                -70.393\n",
      "No. Observations:                  50   AIC:                             148.8\n",
      "Df Residuals:                      46   BIC:                             156.4\n",
      "Df Model:                           3                                         \n",
      "Covariance Type:            nonrobust                                         \n",
      "==============================================================================\n",
      "                 coef    std err          t      P>|t|      [0.025      0.975]\n",
      "------------------------------------------------------------------------------\n",
      "x1             0.9502      0.067     14.137      0.000       0.815       1.086\n",
      "x2             3.4087      0.638      5.341      0.000       2.124       4.694\n",
      "x3            -2.5558      1.040     -2.458      0.018      -4.649      -0.462\n",
      "const         10.0975      0.348     29.018      0.000       9.397      10.798\n",
      "==============================================================================\n",
      "Omnibus:                        5.317   Durbin-Watson:                   2.175\n",
      "Prob(Omnibus):                  0.070   Jarque-Bera (JB):                4.304\n",
      "Skew:                           0.688   Prob(JB):                        0.116\n",
      "Kurtosis:                       3.418   Cond. No.                         96.3\n",
      "==============================================================================\n",
      "\n",
      "Warnings:\n",
      "[1] Standard Errors assume that the covariance matrix of the errors is correctly specified.\n"
     ]
    }
   ],
   "source": [
    "nsample = 50\n",
    "groups = np.zeros(nsample, int)\n",
    "groups[20:40] = 1\n",
    "groups[40:] = 2\n",
    "\n",
    "dummy = sm.categorical(groups, drop=True)\n",
    "x = np.linspace(0, 20, nsample)\n",
    "# drop reference category\n",
    "X = np.column_stack((x, dummy[:,1:]))\n",
    "X = sm.add_constant(X, prepend=False)\n",
    "\n",
    "beta = [1., 3, -3, 10]\n",
    "y_true = np.dot(X, beta)\n",
    "e = np.random.normal(size=nsample)\n",
    "y = y_true + e\n",
    "\n",
    "\n",
    "res2 = sm.OLS(y, X).fit()\n",
    "print(res2.summary())"
   ]
  },
  {
   "cell_type": "code",
   "execution_count": 15,
   "metadata": {},
   "outputs": [
    {
     "data": {
      "image/png": "[encoded data removed]",
      "text/plain": [
       "<Figure size 576x432 with 1 Axes>"
      ]
     },
     "metadata": {},
     "output_type": "display_data"
    }
   ],
   "source": [
    "prstd, iv_l, iv_u = wls_prediction_std(res2)\n",
    "\n",
    "fig, ax = plt.subplots(figsize=(8,6))\n",
    "\n",
    "ax.plot(x, y, 'o', label=\"Data\")\n",
    "ax.plot(x, y_true, 'b-', label=\"True\")\n",
    "ax.plot(x, res2.fittedvalues, 'r--.', label=\"Predicted\")\n",
    "ax.plot(x, iv_u, 'r--')\n",
    "ax.plot(x, iv_l, 'r--')\n",
    "legend = ax.legend(loc=\"best\")"
   ]
  },
  {
   "cell_type": "markdown",
   "metadata": {},
   "source": [
    "## 3. 重回帰分析とselection-on-observables\n",
    "\n",
    "`cps.csv`dataを用いて、なぜMultivariate regressionをするのか？, matching estimatorとはどのような関係にあるのかを学ぶ。\n",
    "\n",
    "### Question\n",
    "\n",
    "```\n",
    "job trainingはearningに対して効果があるのか？、ATTの推定\n",
    "```\n",
    "\n",
    "### Question in detailed\n",
    "\n",
    "`RE78`（７８年の収入）に対してtreatment（76年実施）はどの程度影響を与えているのか？\n",
    "\n",
    "\n",
    "### Matching Strategy\n",
    "\n",
    "1. treatedとcontrolの比較\n",
    "2. job trainingの受講スクリーニングで用いる変数,$X_i$, が観測可能という前提のもと、それらをコントロールしてmatching比較する\n",
    "3. 補足：$\\epsilon_i = D_i - E[D_i|X_i]$は$(Y_1, Y_0)$と独立であるという仮定\n",
    "\n",
    "つまり、\n",
    "$$\n",
    "(Y_1, Y_0) \\perp D_i|X_i\n",
    "$$\n",
    "\n",
    "\n",
    "\n",
    "これをDAGで表現すると"
   ]
  },
  {
   "cell_type": "code",
   "execution_count": 16,
   "metadata": {},
   "outputs": [
    {
     "data": {
      "image/svg+xml": [
       "<?xml version=\"1.0\" encoding=\"UTF-8\" standalone=\"no\"?>\n",
       "<!DOCTYPE svg PUBLIC \"-//W3C//DTD SVG 1.1//EN\"\n",
       " \"http://www.w3.org/Graphics/SVG/1.1/DTD/svg11.dtd\">\n",
       "<!-- Generated by graphviz version 2.42.3 (20191010.1750)\n",
       " -->\n",
       "<!-- Title: %3 Pages: 1 -->\n",
       "<svg width=\"206pt\" height=\"228pt\"\n",
       " viewBox=\"0.00 0.00 206.00 227.60\" xmlns=\"http://www.w3.org/2000/svg\" xmlns:xlink=\"http://www.w3.org/1999/xlink\">\n",
       "<g id=\"graph0\" class=\"graph\" transform=\"scale(1 1) rotate(0) translate(4 223.6)\">\n",
       "<title>%3</title>\n",
       "<polygon fill=\"white\" stroke=\"transparent\" points=\"-4,4 -4,-223.6 202,-223.6 202,4 -4,4\"/>\n",
       "<!-- X -->\n",
       "<g id=\"node1\" class=\"node\">\n",
       "<title>X</title>\n",
       "<ellipse fill=\"none\" stroke=\"black\" cx=\"103\" cy=\"-162\" rx=\"27\" ry=\"18\"/>\n",
       "<text text-anchor=\"middle\" x=\"103\" y=\"-157.8\" font-family=\"Times,serif\" font-size=\"14.00\">X</text>\n",
       "</g>\n",
       "<!-- Y_0 -->\n",
       "<g id=\"node2\" class=\"node\">\n",
       "<title>Y_0</title>\n",
       "<ellipse fill=\"none\" stroke=\"black\" cx=\"99\" cy=\"-90\" rx=\"27\" ry=\"18\"/>\n",
       "<text text-anchor=\"middle\" x=\"99\" y=\"-85.8\" font-family=\"Times,serif\" font-size=\"14.00\">Y_0</text>\n",
       "</g>\n",
       "<!-- X&#45;&gt;Y_0 -->\n",
       "<g id=\"edge2\" class=\"edge\">\n",
       "<title>X&#45;&gt;Y_0</title>\n",
       "<path fill=\"none\" stroke=\"black\" d=\"M102.01,-143.7C101.57,-135.98 101.04,-126.71 100.55,-118.11\"/>\n",
       "<polygon fill=\"black\" stroke=\"black\" points=\"104.04,-117.89 99.98,-108.1 97.05,-118.29 104.04,-117.89\"/>\n",
       "</g>\n",
       "<!-- D -->\n",
       "<g id=\"node4\" class=\"node\">\n",
       "<title>D</title>\n",
       "<ellipse fill=\"none\" stroke=\"black\" cx=\"171\" cy=\"-90\" rx=\"27\" ry=\"18\"/>\n",
       "<text text-anchor=\"middle\" x=\"171\" y=\"-85.8\" font-family=\"Times,serif\" font-size=\"14.00\">D</text>\n",
       "</g>\n",
       "<!-- X&#45;&gt;D -->\n",
       "<g id=\"edge1\" class=\"edge\">\n",
       "<title>X&#45;&gt;D</title>\n",
       "<path fill=\"none\" stroke=\"black\" d=\"M117.09,-146.5C126.57,-136.73 139.24,-123.69 149.92,-112.7\"/>\n",
       "<polygon fill=\"black\" stroke=\"black\" points=\"152.47,-115.1 156.93,-105.49 147.45,-110.22 152.47,-115.1\"/>\n",
       "</g>\n",
       "<!-- Y_1 -->\n",
       "<g id=\"node5\" class=\"node\">\n",
       "<title>Y_1</title>\n",
       "<ellipse fill=\"none\" stroke=\"black\" cx=\"27\" cy=\"-90\" rx=\"27\" ry=\"18\"/>\n",
       "<text text-anchor=\"middle\" x=\"27\" y=\"-85.8\" font-family=\"Times,serif\" font-size=\"14.00\">Y_1</text>\n",
       "</g>\n",
       "<!-- X&#45;&gt;Y_1 -->\n",
       "<g id=\"edge3\" class=\"edge\">\n",
       "<title>X&#45;&gt;Y_1</title>\n",
       "<path fill=\"none\" stroke=\"black\" d=\"M87.62,-146.83C76.8,-136.87 62.14,-123.37 49.95,-112.14\"/>\n",
       "<polygon fill=\"black\" stroke=\"black\" points=\"52.08,-109.34 42.36,-105.14 47.34,-114.49 52.08,-109.34\"/>\n",
       "</g>\n",
       "<!-- Y -->\n",
       "<g id=\"node3\" class=\"node\">\n",
       "<title>Y</title>\n",
       "<ellipse fill=\"none\" stroke=\"black\" cx=\"99\" cy=\"-18\" rx=\"27\" ry=\"18\"/>\n",
       "<text text-anchor=\"middle\" x=\"99\" y=\"-13.8\" font-family=\"Times,serif\" font-size=\"14.00\">Y</text>\n",
       "</g>\n",
       "<!-- Y_0&#45;&gt;Y -->\n",
       "<g id=\"edge6\" class=\"edge\">\n",
       "<title>Y_0&#45;&gt;Y</title>\n",
       "<path fill=\"none\" stroke=\"black\" d=\"M99,-71.7C99,-63.98 99,-54.71 99,-46.11\"/>\n",
       "<polygon fill=\"black\" stroke=\"black\" points=\"102.5,-46.1 99,-36.1 95.5,-46.1 102.5,-46.1\"/>\n",
       "</g>\n",
       "<!-- D&#45;&gt;Y -->\n",
       "<g id=\"edge4\" class=\"edge\">\n",
       "<title>D&#45;&gt;Y</title>\n",
       "<path fill=\"none\" stroke=\"black\" d=\"M156.43,-74.83C146.25,-64.94 132.48,-51.55 120.97,-40.36\"/>\n",
       "<polygon fill=\"black\" stroke=\"black\" points=\"123.41,-37.85 113.8,-33.38 118.53,-42.87 123.41,-37.85\"/>\n",
       "</g>\n",
       "<!-- Y_1&#45;&gt;Y -->\n",
       "<g id=\"edge5\" class=\"edge\">\n",
       "<title>Y_1&#45;&gt;Y</title>\n",
       "<path fill=\"none\" stroke=\"black\" d=\"M41.57,-74.83C51.75,-64.94 65.52,-51.55 77.03,-40.36\"/>\n",
       "<polygon fill=\"black\" stroke=\"black\" points=\"79.47,-42.87 84.2,-33.38 74.59,-37.85 79.47,-42.87\"/>\n",
       "</g>\n",
       "<!-- Unobserved_0 -->\n",
       "<g id=\"node6\" class=\"node\">\n",
       "<title>Unobserved_0</title>\n",
       "<ellipse fill=\"black\" stroke=\"black\" cx=\"134\" cy=\"-217.8\" rx=\"1.8\" ry=\"1.8\"/>\n",
       "</g>\n",
       "<!-- Unobserved_0&#45;&gt;X -->\n",
       "<g id=\"edge8\" class=\"edge\">\n",
       "<title>Unobserved_0&#45;&gt;X</title>\n",
       "<path fill=\"none\" stroke=\"black\" stroke-dasharray=\"5,2\" d=\"M133.46,-215.87C131.48,-212.42 124.31,-199.99 117.44,-188.05\"/>\n",
       "<polygon fill=\"black\" stroke=\"black\" points=\"120.34,-186.09 112.32,-179.17 114.28,-189.59 120.34,-186.09\"/>\n",
       "</g>\n",
       "<!-- Unobserved_0&#45;&gt;D -->\n",
       "<g id=\"edge7\" class=\"edge\">\n",
       "<title>Unobserved_0&#45;&gt;D</title>\n",
       "<path fill=\"none\" stroke=\"black\" stroke-dasharray=\"5,2\" d=\"M134.24,-216C136.4,-208.64 152.93,-152.43 163.08,-117.94\"/>\n",
       "<polygon fill=\"black\" stroke=\"black\" points=\"166.53,-118.6 166,-108.01 159.82,-116.62 166.53,-118.6\"/>\n",
       "</g>\n",
       "<!-- Unobserved_1 -->\n",
       "<g id=\"node7\" class=\"node\">\n",
       "<title>Unobserved_1</title>\n",
       "<ellipse fill=\"black\" stroke=\"black\" cx=\"44\" cy=\"-162\" rx=\"1.8\" ry=\"1.8\"/>\n",
       "</g>\n",
       "<!-- Unobserved_1&#45;&gt;Y_0 -->\n",
       "<g id=\"edge10\" class=\"edge\">\n",
       "<title>Unobserved_1&#45;&gt;Y_0</title>\n",
       "<path fill=\"none\" stroke=\"black\" stroke-dasharray=\"5,2\" d=\"M44.62,-160.21C48.16,-155.71 66.23,-132.71 80.58,-114.45\"/>\n",
       "<polygon fill=\"black\" stroke=\"black\" points=\"83.42,-116.5 86.84,-106.47 77.91,-112.17 83.42,-116.5\"/>\n",
       "</g>\n",
       "<!-- Unobserved_1&#45;&gt;Y_1 -->\n",
       "<g id=\"edge9\" class=\"edge\">\n",
       "<title>Unobserved_1&#45;&gt;Y_1</title>\n",
       "<path fill=\"none\" stroke=\"black\" stroke-dasharray=\"5,2\" d=\"M43.76,-160.01C42.63,-155.34 37.69,-135.03 33.47,-117.64\"/>\n",
       "<polygon fill=\"black\" stroke=\"black\" points=\"36.86,-116.77 31.1,-107.88 30.06,-118.42 36.86,-116.77\"/>\n",
       "</g>\n",
       "</g>\n",
       "</svg>\n"
      ],
      "text/plain": [
       "<graphviz.dot.Digraph at 0x120efa390>"
      ]
     },
     "execution_count": 16,
     "metadata": {},
     "output_type": "execute_result"
    }
   ],
   "source": [
    "angrist = CausalGraphicalModel(\n",
    "    nodes=[\"X\", \"D\", \"Y\", \"Y_1\", \"Y_0\"],\n",
    "    edges=[\n",
    "        (\"X\", \"D\"), \n",
    "        (\"D\", \"Y\"),\n",
    "        (\"X\", \"Y_0\"),\n",
    "        (\"X\", \"Y_1\"),\n",
    "        (\"Y_1\", \"Y\"),\n",
    "        (\"Y_0\", \"Y\")\n",
    "    ],\n",
    "    latent_edges=[\n",
    "        (\"Y_1\", \"Y_0\"),\n",
    "        (\"D\", \"X\")]\n",
    ")\n",
    "\n",
    "# draw return a graphviz `dot` object, which jupyter can render\n",
    "angrist.draw()"
   ]
  },
  {
   "cell_type": "markdown",
   "metadata": {},
   "source": [
    "以下の場合はidentification strategyはアウト\n",
    "\n",
    "- U: unobservables"
   ]
  },
  {
   "cell_type": "code",
   "execution_count": 17,
   "metadata": {},
   "outputs": [
    {
     "data": {
      "image/svg+xml": [
       "<?xml version=\"1.0\" encoding=\"UTF-8\" standalone=\"no\"?>\n",
       "<!DOCTYPE svg PUBLIC \"-//W3C//DTD SVG 1.1//EN\"\n",
       " \"http://www.w3.org/Graphics/SVG/1.1/DTD/svg11.dtd\">\n",
       "<!-- Generated by graphviz version 2.42.3 (20191010.1750)\n",
       " -->\n",
       "<!-- Title: %3 Pages: 1 -->\n",
       "<svg width=\"206pt\" height=\"188pt\"\n",
       " viewBox=\"0.00 0.00 206.00 188.00\" xmlns=\"http://www.w3.org/2000/svg\" xmlns:xlink=\"http://www.w3.org/1999/xlink\">\n",
       "<g id=\"graph0\" class=\"graph\" transform=\"scale(1 1) rotate(0) translate(4 184)\">\n",
       "<title>%3</title>\n",
       "<polygon fill=\"white\" stroke=\"transparent\" points=\"-4,4 -4,-184 202,-184 202,4 -4,4\"/>\n",
       "<!-- X -->\n",
       "<g id=\"node1\" class=\"node\">\n",
       "<title>X</title>\n",
       "<ellipse fill=\"none\" stroke=\"black\" cx=\"63\" cy=\"-162\" rx=\"27\" ry=\"18\"/>\n",
       "<text text-anchor=\"middle\" x=\"63\" y=\"-157.8\" font-family=\"Times,serif\" font-size=\"14.00\">X</text>\n",
       "</g>\n",
       "<!-- Y_0 -->\n",
       "<g id=\"node2\" class=\"node\">\n",
       "<title>Y_0</title>\n",
       "<ellipse fill=\"none\" stroke=\"black\" cx=\"27\" cy=\"-90\" rx=\"27\" ry=\"18\"/>\n",
       "<text text-anchor=\"middle\" x=\"27\" y=\"-85.8\" font-family=\"Times,serif\" font-size=\"14.00\">Y_0</text>\n",
       "</g>\n",
       "<!-- X&#45;&gt;Y_0 -->\n",
       "<g id=\"edge2\" class=\"edge\">\n",
       "<title>X&#45;&gt;Y_0</title>\n",
       "<path fill=\"none\" stroke=\"black\" d=\"M54.65,-144.76C50.29,-136.28 44.85,-125.71 39.96,-116.2\"/>\n",
       "<polygon fill=\"black\" stroke=\"black\" points=\"42.99,-114.44 35.3,-107.15 36.77,-117.64 42.99,-114.44\"/>\n",
       "</g>\n",
       "<!-- D -->\n",
       "<g id=\"node5\" class=\"node\">\n",
       "<title>D</title>\n",
       "<ellipse fill=\"none\" stroke=\"black\" cx=\"99\" cy=\"-90\" rx=\"27\" ry=\"18\"/>\n",
       "<text text-anchor=\"middle\" x=\"99\" y=\"-85.8\" font-family=\"Times,serif\" font-size=\"14.00\">D</text>\n",
       "</g>\n",
       "<!-- X&#45;&gt;D -->\n",
       "<g id=\"edge1\" class=\"edge\">\n",
       "<title>X&#45;&gt;D</title>\n",
       "<path fill=\"none\" stroke=\"black\" d=\"M71.35,-144.76C75.71,-136.28 81.15,-125.71 86.04,-116.2\"/>\n",
       "<polygon fill=\"black\" stroke=\"black\" points=\"89.23,-117.64 90.7,-107.15 83.01,-114.44 89.23,-117.64\"/>\n",
       "</g>\n",
       "<!-- Y_1 -->\n",
       "<g id=\"node6\" class=\"node\">\n",
       "<title>Y_1</title>\n",
       "<ellipse fill=\"none\" stroke=\"black\" cx=\"171\" cy=\"-90\" rx=\"27\" ry=\"18\"/>\n",
       "<text text-anchor=\"middle\" x=\"171\" y=\"-85.8\" font-family=\"Times,serif\" font-size=\"14.00\">Y_1</text>\n",
       "</g>\n",
       "<!-- X&#45;&gt;Y_1 -->\n",
       "<g id=\"edge3\" class=\"edge\">\n",
       "<title>X&#45;&gt;Y_1</title>\n",
       "<path fill=\"none\" stroke=\"black\" d=\"M81.81,-148.81C99,-137.67 124.62,-121.06 143.99,-108.5\"/>\n",
       "<polygon fill=\"black\" stroke=\"black\" points=\"145.92,-111.43 152.4,-103.05 142.11,-105.56 145.92,-111.43\"/>\n",
       "</g>\n",
       "<!-- Y -->\n",
       "<g id=\"node4\" class=\"node\">\n",
       "<title>Y</title>\n",
       "<ellipse fill=\"none\" stroke=\"black\" cx=\"99\" cy=\"-18\" rx=\"27\" ry=\"18\"/>\n",
       "<text text-anchor=\"middle\" x=\"99\" y=\"-13.8\" font-family=\"Times,serif\" font-size=\"14.00\">Y</text>\n",
       "</g>\n",
       "<!-- Y_0&#45;&gt;Y -->\n",
       "<g id=\"edge9\" class=\"edge\">\n",
       "<title>Y_0&#45;&gt;Y</title>\n",
       "<path fill=\"none\" stroke=\"black\" d=\"M41.57,-74.83C51.75,-64.94 65.52,-51.55 77.03,-40.36\"/>\n",
       "<polygon fill=\"black\" stroke=\"black\" points=\"79.47,-42.87 84.2,-33.38 74.59,-37.85 79.47,-42.87\"/>\n",
       "</g>\n",
       "<!-- U -->\n",
       "<g id=\"node3\" class=\"node\">\n",
       "<title>U</title>\n",
       "<ellipse fill=\"none\" stroke=\"black\" cx=\"135\" cy=\"-162\" rx=\"27\" ry=\"18\"/>\n",
       "<text text-anchor=\"middle\" x=\"135\" y=\"-157.8\" font-family=\"Times,serif\" font-size=\"14.00\">U</text>\n",
       "</g>\n",
       "<!-- U&#45;&gt;Y_0 -->\n",
       "<g id=\"edge6\" class=\"edge\">\n",
       "<title>U&#45;&gt;Y_0</title>\n",
       "<path fill=\"none\" stroke=\"black\" d=\"M116.19,-148.81C99,-137.67 73.38,-121.06 54.01,-108.5\"/>\n",
       "<polygon fill=\"black\" stroke=\"black\" points=\"55.89,-105.56 45.6,-103.05 52.08,-111.43 55.89,-105.56\"/>\n",
       "</g>\n",
       "<!-- U&#45;&gt;D -->\n",
       "<g id=\"edge7\" class=\"edge\">\n",
       "<title>U&#45;&gt;D</title>\n",
       "<path fill=\"none\" stroke=\"black\" d=\"M126.65,-144.76C122.29,-136.28 116.85,-125.71 111.96,-116.2\"/>\n",
       "<polygon fill=\"black\" stroke=\"black\" points=\"114.99,-114.44 107.3,-107.15 108.77,-117.64 114.99,-114.44\"/>\n",
       "</g>\n",
       "<!-- U&#45;&gt;Y_1 -->\n",
       "<g id=\"edge5\" class=\"edge\">\n",
       "<title>U&#45;&gt;Y_1</title>\n",
       "<path fill=\"none\" stroke=\"black\" d=\"M143.35,-144.76C147.71,-136.28 153.15,-125.71 158.04,-116.2\"/>\n",
       "<polygon fill=\"black\" stroke=\"black\" points=\"161.23,-117.64 162.7,-107.15 155.01,-114.44 161.23,-117.64\"/>\n",
       "</g>\n",
       "<!-- D&#45;&gt;Y -->\n",
       "<g id=\"edge4\" class=\"edge\">\n",
       "<title>D&#45;&gt;Y</title>\n",
       "<path fill=\"none\" stroke=\"black\" d=\"M99,-71.7C99,-63.98 99,-54.71 99,-46.11\"/>\n",
       "<polygon fill=\"black\" stroke=\"black\" points=\"102.5,-46.1 99,-36.1 95.5,-46.1 102.5,-46.1\"/>\n",
       "</g>\n",
       "<!-- Y_1&#45;&gt;Y -->\n",
       "<g id=\"edge8\" class=\"edge\">\n",
       "<title>Y_1&#45;&gt;Y</title>\n",
       "<path fill=\"none\" stroke=\"black\" d=\"M156.43,-74.83C146.25,-64.94 132.48,-51.55 120.97,-40.36\"/>\n",
       "<polygon fill=\"black\" stroke=\"black\" points=\"123.41,-37.85 113.8,-33.38 118.53,-42.87 123.41,-37.85\"/>\n",
       "</g>\n",
       "</g>\n",
       "</svg>\n"
      ],
      "text/plain": [
       "<graphviz.dot.Digraph at 0x12103cd90>"
      ]
     },
     "execution_count": 17,
     "metadata": {},
     "output_type": "execute_result"
    }
   ],
   "source": [
    "ill_angrist = CausalGraphicalModel(\n",
    "    nodes=[\"X\", \"D\", \"Y\", \"U\", \"Y_1\", \"Y_0\"],\n",
    "    edges=[\n",
    "        (\"X\", \"D\"), \n",
    "        (\"D\", \"Y\"),\n",
    "        (\"X\", \"Y_0\"),\n",
    "        (\"X\", \"Y_1\"),\n",
    "        (\"Y_1\", \"Y\"),\n",
    "        (\"Y_0\", \"Y\"),\n",
    "        (\"U\", \"Y_1\"),\n",
    "        (\"U\", \"Y_0\"),\n",
    "        (\"U\", \"D\")\n",
    "    ]\n",
    ")\n",
    "\n",
    "# draw return a graphviz `dot` object, which jupyter can render\n",
    "ill_angrist.draw()"
   ]
  },
  {
   "cell_type": "markdown",
   "metadata": {},
   "source": [
    "### Justification for Identification Strategy\n",
    "\n",
    "- datasetは実際に受講する意思を見せた（＝採用プロセスを受けた）人に限る\n",
    "- 今回はATT, $E[Y_1 - Y_0|D_i = 1]$を求めたいので$(Y_0)$とは全く無関係の要因（採用通知連絡が郵便サービスの不備によって届かなかった等）によって決定されるならば良い\n",
    "    - (極端な例) 採用プロセス後の受講、受講せずの結果は本人の意思ではなく、$X_i$で条件づけられた合格確率に応じてサイコロで決められた\n",
    "    \n",
    "なので以下の場合は許容される"
   ]
  },
  {
   "cell_type": "code",
   "execution_count": 18,
   "metadata": {},
   "outputs": [
    {
     "data": {
      "image/svg+xml": [
       "<?xml version=\"1.0\" encoding=\"UTF-8\" standalone=\"no\"?>\n",
       "<!DOCTYPE svg PUBLIC \"-//W3C//DTD SVG 1.1//EN\"\n",
       " \"http://www.w3.org/Graphics/SVG/1.1/DTD/svg11.dtd\">\n",
       "<!-- Generated by graphviz version 2.42.3 (20191010.1750)\n",
       " -->\n",
       "<!-- Title: %3 Pages: 1 -->\n",
       "<svg width=\"206pt\" height=\"188pt\"\n",
       " viewBox=\"0.00 0.00 206.00 188.00\" xmlns=\"http://www.w3.org/2000/svg\" xmlns:xlink=\"http://www.w3.org/1999/xlink\">\n",
       "<g id=\"graph0\" class=\"graph\" transform=\"scale(1 1) rotate(0) translate(4 184)\">\n",
       "<title>%3</title>\n",
       "<polygon fill=\"white\" stroke=\"transparent\" points=\"-4,4 -4,-184 202,-184 202,4 -4,4\"/>\n",
       "<!-- X -->\n",
       "<g id=\"node1\" class=\"node\">\n",
       "<title>X</title>\n",
       "<ellipse fill=\"none\" stroke=\"black\" cx=\"99\" cy=\"-162\" rx=\"27\" ry=\"18\"/>\n",
       "<text text-anchor=\"middle\" x=\"99\" y=\"-157.8\" font-family=\"Times,serif\" font-size=\"14.00\">X</text>\n",
       "</g>\n",
       "<!-- Y_0 -->\n",
       "<g id=\"node2\" class=\"node\">\n",
       "<title>Y_0</title>\n",
       "<ellipse fill=\"none\" stroke=\"black\" cx=\"27\" cy=\"-90\" rx=\"27\" ry=\"18\"/>\n",
       "<text text-anchor=\"middle\" x=\"27\" y=\"-85.8\" font-family=\"Times,serif\" font-size=\"14.00\">Y_0</text>\n",
       "</g>\n",
       "<!-- X&#45;&gt;Y_0 -->\n",
       "<g id=\"edge2\" class=\"edge\">\n",
       "<title>X&#45;&gt;Y_0</title>\n",
       "<path fill=\"none\" stroke=\"black\" d=\"M84.43,-146.83C74.25,-136.94 60.48,-123.55 48.97,-112.36\"/>\n",
       "<polygon fill=\"black\" stroke=\"black\" points=\"51.41,-109.85 41.8,-105.38 46.53,-114.87 51.41,-109.85\"/>\n",
       "</g>\n",
       "<!-- D -->\n",
       "<g id=\"node5\" class=\"node\">\n",
       "<title>D</title>\n",
       "<ellipse fill=\"none\" stroke=\"black\" cx=\"171\" cy=\"-90\" rx=\"27\" ry=\"18\"/>\n",
       "<text text-anchor=\"middle\" x=\"171\" y=\"-85.8\" font-family=\"Times,serif\" font-size=\"14.00\">D</text>\n",
       "</g>\n",
       "<!-- X&#45;&gt;D -->\n",
       "<g id=\"edge1\" class=\"edge\">\n",
       "<title>X&#45;&gt;D</title>\n",
       "<path fill=\"none\" stroke=\"black\" d=\"M113.57,-146.83C123.75,-136.94 137.52,-123.55 149.03,-112.36\"/>\n",
       "<polygon fill=\"black\" stroke=\"black\" points=\"151.47,-114.87 156.2,-105.38 146.59,-109.85 151.47,-114.87\"/>\n",
       "</g>\n",
       "<!-- Y_1 -->\n",
       "<g id=\"node6\" class=\"node\">\n",
       "<title>Y_1</title>\n",
       "<ellipse fill=\"none\" stroke=\"black\" cx=\"99\" cy=\"-90\" rx=\"27\" ry=\"18\"/>\n",
       "<text text-anchor=\"middle\" x=\"99\" y=\"-85.8\" font-family=\"Times,serif\" font-size=\"14.00\">Y_1</text>\n",
       "</g>\n",
       "<!-- X&#45;&gt;Y_1 -->\n",
       "<g id=\"edge3\" class=\"edge\">\n",
       "<title>X&#45;&gt;Y_1</title>\n",
       "<path fill=\"none\" stroke=\"black\" d=\"M99,-143.7C99,-135.98 99,-126.71 99,-118.11\"/>\n",
       "<polygon fill=\"black\" stroke=\"black\" points=\"102.5,-118.1 99,-108.1 95.5,-118.1 102.5,-118.1\"/>\n",
       "</g>\n",
       "<!-- Y -->\n",
       "<g id=\"node4\" class=\"node\">\n",
       "<title>Y</title>\n",
       "<ellipse fill=\"none\" stroke=\"black\" cx=\"99\" cy=\"-18\" rx=\"27\" ry=\"18\"/>\n",
       "<text text-anchor=\"middle\" x=\"99\" y=\"-13.8\" font-family=\"Times,serif\" font-size=\"14.00\">Y</text>\n",
       "</g>\n",
       "<!-- Y_0&#45;&gt;Y -->\n",
       "<g id=\"edge8\" class=\"edge\">\n",
       "<title>Y_0&#45;&gt;Y</title>\n",
       "<path fill=\"none\" stroke=\"black\" d=\"M41.57,-74.83C51.75,-64.94 65.52,-51.55 77.03,-40.36\"/>\n",
       "<polygon fill=\"black\" stroke=\"black\" points=\"79.47,-42.87 84.2,-33.38 74.59,-37.85 79.47,-42.87\"/>\n",
       "</g>\n",
       "<!-- U -->\n",
       "<g id=\"node3\" class=\"node\">\n",
       "<title>U</title>\n",
       "<ellipse fill=\"none\" stroke=\"black\" cx=\"171\" cy=\"-162\" rx=\"27\" ry=\"18\"/>\n",
       "<text text-anchor=\"middle\" x=\"171\" y=\"-157.8\" font-family=\"Times,serif\" font-size=\"14.00\">U</text>\n",
       "</g>\n",
       "<!-- U&#45;&gt;D -->\n",
       "<g id=\"edge6\" class=\"edge\">\n",
       "<title>U&#45;&gt;D</title>\n",
       "<path fill=\"none\" stroke=\"black\" d=\"M171,-143.7C171,-135.98 171,-126.71 171,-118.11\"/>\n",
       "<polygon fill=\"black\" stroke=\"black\" points=\"174.5,-118.1 171,-108.1 167.5,-118.1 174.5,-118.1\"/>\n",
       "</g>\n",
       "<!-- U&#45;&gt;Y_1 -->\n",
       "<g id=\"edge5\" class=\"edge\">\n",
       "<title>U&#45;&gt;Y_1</title>\n",
       "<path fill=\"none\" stroke=\"black\" d=\"M156.43,-146.83C146.25,-136.94 132.48,-123.55 120.97,-112.36\"/>\n",
       "<polygon fill=\"black\" stroke=\"black\" points=\"123.41,-109.85 113.8,-105.38 118.53,-114.87 123.41,-109.85\"/>\n",
       "</g>\n",
       "<!-- D&#45;&gt;Y -->\n",
       "<g id=\"edge4\" class=\"edge\">\n",
       "<title>D&#45;&gt;Y</title>\n",
       "<path fill=\"none\" stroke=\"black\" d=\"M156.43,-74.83C146.25,-64.94 132.48,-51.55 120.97,-40.36\"/>\n",
       "<polygon fill=\"black\" stroke=\"black\" points=\"123.41,-37.85 113.8,-33.38 118.53,-42.87 123.41,-37.85\"/>\n",
       "</g>\n",
       "<!-- Y_1&#45;&gt;Y -->\n",
       "<g id=\"edge7\" class=\"edge\">\n",
       "<title>Y_1&#45;&gt;Y</title>\n",
       "<path fill=\"none\" stroke=\"black\" d=\"M99,-71.7C99,-63.98 99,-54.71 99,-46.11\"/>\n",
       "<polygon fill=\"black\" stroke=\"black\" points=\"102.5,-46.1 99,-36.1 95.5,-46.1 102.5,-46.1\"/>\n",
       "</g>\n",
       "</g>\n",
       "</svg>\n"
      ],
      "text/plain": [
       "<graphviz.dot.Digraph at 0x121027dd0>"
      ]
     },
     "execution_count": 18,
     "metadata": {},
     "output_type": "execute_result"
    }
   ],
   "source": [
    "ok_angrist = CausalGraphicalModel(\n",
    "    nodes=[\"X\", \"D\", \"Y\", \"U\", \"Y_1\", \"Y_0\"],\n",
    "    edges=[\n",
    "        (\"X\", \"D\"), \n",
    "        (\"D\", \"Y\"),\n",
    "        (\"X\", \"Y_0\"),\n",
    "        (\"X\", \"Y_1\"),\n",
    "        (\"Y_1\", \"Y\"),\n",
    "        (\"Y_0\", \"Y\"),\n",
    "        (\"U\", \"Y_1\"),\n",
    "        (\"U\", \"D\")\n",
    "    ]\n",
    ")\n",
    "\n",
    "# draw return a graphviz `dot` object, which jupyter can render\n",
    "ok_angrist.draw()"
   ]
  },
  {
   "cell_type": "markdown",
   "metadata": {},
   "source": [
    "### Estimator\n",
    "\n",
    "Let\n",
    "\n",
    "$$\n",
    "\\delta_x \\equiv E[Y_i|D_i = 1, X_i] - E[Y_i|D_i = 0, X_i]\n",
    "$$\n",
    "\n",
    "and \n",
    "\n",
    "$$\n",
    "\\widehat{ATT} = E[Y_{1i} - Y_{0i}|D_i = 1] = \\sum_x\\delta_xPr(X_i = x|D_i = 1)\n",
    "$$\n",
    "\n",
    "- $Pr(X_i = x|D_i = 1)$: $D_i = 1$, つまりveteranのXのdensity function"
   ]
  },
  {
   "cell_type": "markdown",
   "metadata": {},
   "source": [
    "### Read training data\n",
    "\n",
    "- control: `cps.csv`\n",
    "- treated: `nswre74.csv`\n",
    "\n",
    "この二つをmergeさせて分析する\n",
    "\n",
    "#### 変数\n",
    "\n",
    "- treat: treatment status\n",
    "- re74, re75, re78: それぞれの年度の収入\n",
    "- nodeg: 学位なし\n",
    "\n"
   ]
  },
  {
   "cell_type": "code",
   "execution_count": 19,
   "metadata": {},
   "outputs": [
    {
     "data": {
      "text/html": [
       "<div>\n",
       "<style scoped>\n",
       "    .dataframe tbody tr th:only-of-type {\n",
       "        vertical-align: middle;\n",
       "    }\n",
       "\n",
       "    .dataframe tbody tr th {\n",
       "        vertical-align: top;\n",
       "    }\n",
       "\n",
       "    .dataframe thead th {\n",
       "        text-align: right;\n",
       "    }\n",
       "</style>\n",
       "<table border=\"1\" class=\"dataframe\">\n",
       "  <thead>\n",
       "    <tr style=\"text-align: right;\">\n",
       "      <th></th>\n",
       "      <th>treat</th>\n",
       "      <th>age</th>\n",
       "      <th>ed</th>\n",
       "      <th>black</th>\n",
       "      <th>hisp</th>\n",
       "      <th>married</th>\n",
       "      <th>nodeg</th>\n",
       "      <th>re74</th>\n",
       "      <th>re75</th>\n",
       "      <th>re78</th>\n",
       "      <th>age2</th>\n",
       "    </tr>\n",
       "  </thead>\n",
       "  <tbody>\n",
       "    <tr>\n",
       "      <th>0</th>\n",
       "      <td>0.0</td>\n",
       "      <td>45.0</td>\n",
       "      <td>11.0</td>\n",
       "      <td>0.0</td>\n",
       "      <td>0.0</td>\n",
       "      <td>1.0</td>\n",
       "      <td>1.0</td>\n",
       "      <td>21516.670</td>\n",
       "      <td>25243.550</td>\n",
       "      <td>25564.670</td>\n",
       "      <td>2025.0</td>\n",
       "    </tr>\n",
       "    <tr>\n",
       "      <th>1</th>\n",
       "      <td>0.0</td>\n",
       "      <td>21.0</td>\n",
       "      <td>14.0</td>\n",
       "      <td>0.0</td>\n",
       "      <td>0.0</td>\n",
       "      <td>0.0</td>\n",
       "      <td>0.0</td>\n",
       "      <td>3175.971</td>\n",
       "      <td>5852.565</td>\n",
       "      <td>13496.080</td>\n",
       "      <td>441.0</td>\n",
       "    </tr>\n",
       "    <tr>\n",
       "      <th>2</th>\n",
       "      <td>0.0</td>\n",
       "      <td>38.0</td>\n",
       "      <td>12.0</td>\n",
       "      <td>0.0</td>\n",
       "      <td>0.0</td>\n",
       "      <td>1.0</td>\n",
       "      <td>0.0</td>\n",
       "      <td>23039.020</td>\n",
       "      <td>25130.760</td>\n",
       "      <td>25564.670</td>\n",
       "      <td>1444.0</td>\n",
       "    </tr>\n",
       "    <tr>\n",
       "      <th>3</th>\n",
       "      <td>0.0</td>\n",
       "      <td>48.0</td>\n",
       "      <td>6.0</td>\n",
       "      <td>0.0</td>\n",
       "      <td>0.0</td>\n",
       "      <td>1.0</td>\n",
       "      <td>1.0</td>\n",
       "      <td>24994.370</td>\n",
       "      <td>25243.550</td>\n",
       "      <td>25564.670</td>\n",
       "      <td>2304.0</td>\n",
       "    </tr>\n",
       "    <tr>\n",
       "      <th>4</th>\n",
       "      <td>0.0</td>\n",
       "      <td>18.0</td>\n",
       "      <td>8.0</td>\n",
       "      <td>0.0</td>\n",
       "      <td>0.0</td>\n",
       "      <td>1.0</td>\n",
       "      <td>1.0</td>\n",
       "      <td>1669.295</td>\n",
       "      <td>10727.610</td>\n",
       "      <td>9860.869</td>\n",
       "      <td>324.0</td>\n",
       "    </tr>\n",
       "  </tbody>\n",
       "</table>\n",
       "</div>"
      ],
      "text/plain": [
       "   treat   age    ed  black  hisp  married  nodeg       re74       re75  \\\n",
       "0    0.0  45.0  11.0    0.0   0.0      1.0    1.0  21516.670  25243.550   \n",
       "1    0.0  21.0  14.0    0.0   0.0      0.0    0.0   3175.971   5852.565   \n",
       "2    0.0  38.0  12.0    0.0   0.0      1.0    0.0  23039.020  25130.760   \n",
       "3    0.0  48.0   6.0    0.0   0.0      1.0    1.0  24994.370  25243.550   \n",
       "4    0.0  18.0   8.0    0.0   0.0      1.0    1.0   1669.295  10727.610   \n",
       "\n",
       "        re78    age2  \n",
       "0  25564.670  2025.0  \n",
       "1  13496.080   441.0  \n",
       "2  25564.670  1444.0  \n",
       "3  25564.670  2304.0  \n",
       "4   9860.869   324.0  "
      ]
     },
     "execution_count": 19,
     "metadata": {},
     "output_type": "execute_result"
    }
   ],
   "source": [
    "data_control = pd.read_csv('./data/cps.csv')\n",
    "data_control = data_control.iloc[:, 1:]\n",
    "data_control.head()"
   ]
  },
  {
   "cell_type": "code",
   "execution_count": 20,
   "metadata": {},
   "outputs": [
    {
     "data": {
      "text/html": [
       "<div>\n",
       "<style scoped>\n",
       "    .dataframe tbody tr th:only-of-type {\n",
       "        vertical-align: middle;\n",
       "    }\n",
       "\n",
       "    .dataframe tbody tr th {\n",
       "        vertical-align: top;\n",
       "    }\n",
       "\n",
       "    .dataframe thead th {\n",
       "        text-align: right;\n",
       "    }\n",
       "</style>\n",
       "<table border=\"1\" class=\"dataframe\">\n",
       "  <thead>\n",
       "    <tr style=\"text-align: right;\">\n",
       "      <th></th>\n",
       "      <th>treat</th>\n",
       "      <th>age</th>\n",
       "      <th>ed</th>\n",
       "      <th>black</th>\n",
       "      <th>hisp</th>\n",
       "      <th>married</th>\n",
       "      <th>nodeg</th>\n",
       "      <th>re74</th>\n",
       "      <th>re75</th>\n",
       "      <th>re78</th>\n",
       "      <th>age2</th>\n",
       "    </tr>\n",
       "  </thead>\n",
       "  <tbody>\n",
       "    <tr>\n",
       "      <th>0</th>\n",
       "      <td>1</td>\n",
       "      <td>37</td>\n",
       "      <td>11</td>\n",
       "      <td>1</td>\n",
       "      <td>0</td>\n",
       "      <td>1</td>\n",
       "      <td>1</td>\n",
       "      <td>0.0</td>\n",
       "      <td>0.0</td>\n",
       "      <td>9930.0460</td>\n",
       "      <td>1369.0</td>\n",
       "    </tr>\n",
       "    <tr>\n",
       "      <th>1</th>\n",
       "      <td>1</td>\n",
       "      <td>22</td>\n",
       "      <td>9</td>\n",
       "      <td>0</td>\n",
       "      <td>1</td>\n",
       "      <td>0</td>\n",
       "      <td>1</td>\n",
       "      <td>0.0</td>\n",
       "      <td>0.0</td>\n",
       "      <td>3595.8940</td>\n",
       "      <td>484.0</td>\n",
       "    </tr>\n",
       "    <tr>\n",
       "      <th>2</th>\n",
       "      <td>1</td>\n",
       "      <td>30</td>\n",
       "      <td>12</td>\n",
       "      <td>1</td>\n",
       "      <td>0</td>\n",
       "      <td>0</td>\n",
       "      <td>0</td>\n",
       "      <td>0.0</td>\n",
       "      <td>0.0</td>\n",
       "      <td>24909.4500</td>\n",
       "      <td>900.0</td>\n",
       "    </tr>\n",
       "    <tr>\n",
       "      <th>3</th>\n",
       "      <td>1</td>\n",
       "      <td>27</td>\n",
       "      <td>11</td>\n",
       "      <td>1</td>\n",
       "      <td>0</td>\n",
       "      <td>0</td>\n",
       "      <td>1</td>\n",
       "      <td>0.0</td>\n",
       "      <td>0.0</td>\n",
       "      <td>7506.1460</td>\n",
       "      <td>729.0</td>\n",
       "    </tr>\n",
       "    <tr>\n",
       "      <th>4</th>\n",
       "      <td>1</td>\n",
       "      <td>33</td>\n",
       "      <td>8</td>\n",
       "      <td>1</td>\n",
       "      <td>0</td>\n",
       "      <td>0</td>\n",
       "      <td>1</td>\n",
       "      <td>0.0</td>\n",
       "      <td>0.0</td>\n",
       "      <td>289.7899</td>\n",
       "      <td>1089.0</td>\n",
       "    </tr>\n",
       "  </tbody>\n",
       "</table>\n",
       "</div>"
      ],
      "text/plain": [
       "   treat  age  ed  black  hisp  married  nodeg  re74  re75        re78    age2\n",
       "0      1   37  11      1     0        1      1   0.0   0.0   9930.0460  1369.0\n",
       "1      1   22   9      0     1        0      1   0.0   0.0   3595.8940   484.0\n",
       "2      1   30  12      1     0        0      0   0.0   0.0  24909.4500   900.0\n",
       "3      1   27  11      1     0        0      1   0.0   0.0   7506.1460   729.0\n",
       "4      1   33   8      1     0        0      1   0.0   0.0    289.7899  1089.0"
      ]
     },
     "execution_count": 20,
     "metadata": {},
     "output_type": "execute_result"
    }
   ],
   "source": [
    "data_treated = pd.read_csv('./data/nswre74.csv')\n",
    "data_treated = data_treated.iloc[:, 1:]\n",
    "data_treated.head()"
   ]
  },
  {
   "cell_type": "code",
   "execution_count": 21,
   "metadata": {},
   "outputs": [],
   "source": [
    "var_info = dict({\"treat\": np.int,\n",
    "                \"age\": np.int,\n",
    "                \"ed\": np.int,\n",
    "                \"black\":np.int,\n",
    "                \"hisp\":np.int,\n",
    "                \"married\":np.int,\n",
    "                \"nodeg\":np.int,\n",
    "                \"re74\":np.float,\n",
    "                \"re75\":np.float,\n",
    "                \"re78\":np.float,\n",
    "                \"age2\":np.int,\n",
    "                })"
   ]
  },
  {
   "cell_type": "markdown",
   "metadata": {},
   "source": [
    "### 変数type変換"
   ]
  },
  {
   "cell_type": "code",
   "execution_count": 22,
   "metadata": {},
   "outputs": [
    {
     "data": {
      "text/html": [
       "<div>\n",
       "<style scoped>\n",
       "    .dataframe tbody tr th:only-of-type {\n",
       "        vertical-align: middle;\n",
       "    }\n",
       "\n",
       "    .dataframe tbody tr th {\n",
       "        vertical-align: top;\n",
       "    }\n",
       "\n",
       "    .dataframe thead th {\n",
       "        text-align: right;\n",
       "    }\n",
       "</style>\n",
       "<table border=\"1\" class=\"dataframe\">\n",
       "  <thead>\n",
       "    <tr style=\"text-align: right;\">\n",
       "      <th></th>\n",
       "      <th>treat</th>\n",
       "      <th>age</th>\n",
       "      <th>ed</th>\n",
       "      <th>black</th>\n",
       "      <th>hisp</th>\n",
       "      <th>married</th>\n",
       "      <th>nodeg</th>\n",
       "      <th>re74</th>\n",
       "      <th>re75</th>\n",
       "      <th>re78</th>\n",
       "      <th>age2</th>\n",
       "    </tr>\n",
       "  </thead>\n",
       "  <tbody>\n",
       "    <tr>\n",
       "      <th>0</th>\n",
       "      <td>0</td>\n",
       "      <td>45</td>\n",
       "      <td>11</td>\n",
       "      <td>0</td>\n",
       "      <td>0</td>\n",
       "      <td>1</td>\n",
       "      <td>1</td>\n",
       "      <td>21516.670</td>\n",
       "      <td>25243.550</td>\n",
       "      <td>25564.670</td>\n",
       "      <td>2025</td>\n",
       "    </tr>\n",
       "    <tr>\n",
       "      <th>1</th>\n",
       "      <td>0</td>\n",
       "      <td>21</td>\n",
       "      <td>14</td>\n",
       "      <td>0</td>\n",
       "      <td>0</td>\n",
       "      <td>0</td>\n",
       "      <td>0</td>\n",
       "      <td>3175.971</td>\n",
       "      <td>5852.565</td>\n",
       "      <td>13496.080</td>\n",
       "      <td>441</td>\n",
       "    </tr>\n",
       "    <tr>\n",
       "      <th>2</th>\n",
       "      <td>0</td>\n",
       "      <td>38</td>\n",
       "      <td>12</td>\n",
       "      <td>0</td>\n",
       "      <td>0</td>\n",
       "      <td>1</td>\n",
       "      <td>0</td>\n",
       "      <td>23039.020</td>\n",
       "      <td>25130.760</td>\n",
       "      <td>25564.670</td>\n",
       "      <td>1444</td>\n",
       "    </tr>\n",
       "    <tr>\n",
       "      <th>3</th>\n",
       "      <td>0</td>\n",
       "      <td>48</td>\n",
       "      <td>6</td>\n",
       "      <td>0</td>\n",
       "      <td>0</td>\n",
       "      <td>1</td>\n",
       "      <td>1</td>\n",
       "      <td>24994.370</td>\n",
       "      <td>25243.550</td>\n",
       "      <td>25564.670</td>\n",
       "      <td>2304</td>\n",
       "    </tr>\n",
       "    <tr>\n",
       "      <th>4</th>\n",
       "      <td>0</td>\n",
       "      <td>18</td>\n",
       "      <td>8</td>\n",
       "      <td>0</td>\n",
       "      <td>0</td>\n",
       "      <td>1</td>\n",
       "      <td>1</td>\n",
       "      <td>1669.295</td>\n",
       "      <td>10727.610</td>\n",
       "      <td>9860.869</td>\n",
       "      <td>324</td>\n",
       "    </tr>\n",
       "  </tbody>\n",
       "</table>\n",
       "</div>"
      ],
      "text/plain": [
       "   treat  age  ed  black  hisp  married  nodeg       re74       re75  \\\n",
       "0      0   45  11      0     0        1      1  21516.670  25243.550   \n",
       "1      0   21  14      0     0        0      0   3175.971   5852.565   \n",
       "2      0   38  12      0     0        1      0  23039.020  25130.760   \n",
       "3      0   48   6      0     0        1      1  24994.370  25243.550   \n",
       "4      0   18   8      0     0        1      1   1669.295  10727.610   \n",
       "\n",
       "        re78  age2  \n",
       "0  25564.670  2025  \n",
       "1  13496.080   441  \n",
       "2  25564.670  1444  \n",
       "3  25564.670  2304  \n",
       "4   9860.869   324  "
      ]
     },
     "execution_count": 22,
     "metadata": {},
     "output_type": "execute_result"
    }
   ],
   "source": [
    "data_treated = data_treated.astype(var_info)\n",
    "data_control = data_control.astype(var_info)\n",
    "data_control.head()"
   ]
  },
  {
   "cell_type": "markdown",
   "metadata": {},
   "source": [
    "### merge"
   ]
  },
  {
   "cell_type": "code",
   "execution_count": 23,
   "metadata": {},
   "outputs": [
    {
     "data": {
      "text/html": [
       "<div>\n",
       "<style scoped>\n",
       "    .dataframe tbody tr th:only-of-type {\n",
       "        vertical-align: middle;\n",
       "    }\n",
       "\n",
       "    .dataframe tbody tr th {\n",
       "        vertical-align: top;\n",
       "    }\n",
       "\n",
       "    .dataframe thead th {\n",
       "        text-align: right;\n",
       "    }\n",
       "</style>\n",
       "<table border=\"1\" class=\"dataframe\">\n",
       "  <thead>\n",
       "    <tr style=\"text-align: right;\">\n",
       "      <th></th>\n",
       "      <th>treat</th>\n",
       "      <th>age</th>\n",
       "      <th>ed</th>\n",
       "      <th>black</th>\n",
       "      <th>hisp</th>\n",
       "      <th>married</th>\n",
       "      <th>nodeg</th>\n",
       "      <th>re74</th>\n",
       "      <th>re75</th>\n",
       "      <th>re78</th>\n",
       "      <th>age2</th>\n",
       "    </tr>\n",
       "  </thead>\n",
       "  <tbody>\n",
       "    <tr>\n",
       "      <th>2616</th>\n",
       "      <td>0</td>\n",
       "      <td>41</td>\n",
       "      <td>13</td>\n",
       "      <td>0</td>\n",
       "      <td>0</td>\n",
       "      <td>1</td>\n",
       "      <td>0</td>\n",
       "      <td>25862.32000</td>\n",
       "      <td>0.000</td>\n",
       "      <td>0.000</td>\n",
       "      <td>1681</td>\n",
       "    </tr>\n",
       "    <tr>\n",
       "      <th>5422</th>\n",
       "      <td>0</td>\n",
       "      <td>19</td>\n",
       "      <td>12</td>\n",
       "      <td>0</td>\n",
       "      <td>0</td>\n",
       "      <td>0</td>\n",
       "      <td>0</td>\n",
       "      <td>3291.56800</td>\n",
       "      <td>12303.100</td>\n",
       "      <td>19260.690</td>\n",
       "      <td>361</td>\n",
       "    </tr>\n",
       "    <tr>\n",
       "      <th>3980</th>\n",
       "      <td>0</td>\n",
       "      <td>54</td>\n",
       "      <td>6</td>\n",
       "      <td>1</td>\n",
       "      <td>0</td>\n",
       "      <td>0</td>\n",
       "      <td>1</td>\n",
       "      <td>9500.48500</td>\n",
       "      <td>8706.339</td>\n",
       "      <td>4722.814</td>\n",
       "      <td>2916</td>\n",
       "    </tr>\n",
       "    <tr>\n",
       "      <th>11076</th>\n",
       "      <td>0</td>\n",
       "      <td>28</td>\n",
       "      <td>12</td>\n",
       "      <td>1</td>\n",
       "      <td>0</td>\n",
       "      <td>1</td>\n",
       "      <td>0</td>\n",
       "      <td>0.00000</td>\n",
       "      <td>0.000</td>\n",
       "      <td>0.000</td>\n",
       "      <td>784</td>\n",
       "    </tr>\n",
       "    <tr>\n",
       "      <th>7930</th>\n",
       "      <td>0</td>\n",
       "      <td>44</td>\n",
       "      <td>12</td>\n",
       "      <td>0</td>\n",
       "      <td>1</td>\n",
       "      <td>1</td>\n",
       "      <td>0</td>\n",
       "      <td>66.61507</td>\n",
       "      <td>0.000</td>\n",
       "      <td>0.000</td>\n",
       "      <td>1936</td>\n",
       "    </tr>\n",
       "  </tbody>\n",
       "</table>\n",
       "</div>"
      ],
      "text/plain": [
       "       treat  age  ed  black  hisp  married  nodeg         re74       re75  \\\n",
       "2616       0   41  13      0     0        1      0  25862.32000      0.000   \n",
       "5422       0   19  12      0     0        0      0   3291.56800  12303.100   \n",
       "3980       0   54   6      1     0        0      1   9500.48500   8706.339   \n",
       "11076      0   28  12      1     0        1      0      0.00000      0.000   \n",
       "7930       0   44  12      0     1        1      0     66.61507      0.000   \n",
       "\n",
       "            re78  age2  \n",
       "2616       0.000  1681  \n",
       "5422   19260.690   361  \n",
       "3980    4722.814  2916  \n",
       "11076      0.000   784  \n",
       "7930       0.000  1936  "
      ]
     },
     "execution_count": 23,
     "metadata": {},
     "output_type": "execute_result"
    }
   ],
   "source": [
    "merged_df = pd.concat([data_control, data_treated], axis = 0)\n",
    "merged_df = merged_df.reset_index(drop = True)\n",
    "merged_df = merged_df.sample(frac=1.0, random_state=42)  # Shuffle\n",
    "merged_df.head()"
   ]
  },
  {
   "cell_type": "markdown",
   "metadata": {},
   "source": [
    "### EDA"
   ]
  },
  {
   "cell_type": "code",
   "execution_count": 24,
   "metadata": {},
   "outputs": [
    {
     "data": {
      "text/html": [
       "<div>\n",
       "<style scoped>\n",
       "    .dataframe tbody tr th:only-of-type {\n",
       "        vertical-align: middle;\n",
       "    }\n",
       "\n",
       "    .dataframe tbody tr th {\n",
       "        vertical-align: top;\n",
       "    }\n",
       "\n",
       "    .dataframe thead th {\n",
       "        text-align: right;\n",
       "    }\n",
       "</style>\n",
       "<table border=\"1\" class=\"dataframe\">\n",
       "  <thead>\n",
       "    <tr style=\"text-align: right;\">\n",
       "      <th></th>\n",
       "      <th>treat</th>\n",
       "      <th>age</th>\n",
       "      <th>ed</th>\n",
       "      <th>black</th>\n",
       "      <th>hisp</th>\n",
       "      <th>married</th>\n",
       "      <th>nodeg</th>\n",
       "      <th>re74</th>\n",
       "      <th>re75</th>\n",
       "      <th>re78</th>\n",
       "      <th>age2</th>\n",
       "    </tr>\n",
       "  </thead>\n",
       "  <tbody>\n",
       "    <tr>\n",
       "      <th>count</th>\n",
       "      <td>16437.000000</td>\n",
       "      <td>16437.000000</td>\n",
       "      <td>16437.000000</td>\n",
       "      <td>16437.000000</td>\n",
       "      <td>16437.000000</td>\n",
       "      <td>16437.000000</td>\n",
       "      <td>16437.000000</td>\n",
       "      <td>16437.000000</td>\n",
       "      <td>16437.000000</td>\n",
       "      <td>16437.000000</td>\n",
       "      <td>16437.000000</td>\n",
       "    </tr>\n",
       "    <tr>\n",
       "      <th>mean</th>\n",
       "      <td>0.011255</td>\n",
       "      <td>33.012594</td>\n",
       "      <td>11.977916</td>\n",
       "      <td>0.094117</td>\n",
       "      <td>0.072458</td>\n",
       "      <td>0.697025</td>\n",
       "      <td>0.308998</td>\n",
       "      <td>13694.237302</td>\n",
       "      <td>13318.517623</td>\n",
       "      <td>14588.222993</td>\n",
       "      <td>1211.504654</td>\n",
       "    </tr>\n",
       "    <tr>\n",
       "      <th>std</th>\n",
       "      <td>0.105495</td>\n",
       "      <td>11.030899</td>\n",
       "      <td>2.862478</td>\n",
       "      <td>0.292000</td>\n",
       "      <td>0.259253</td>\n",
       "      <td>0.459558</td>\n",
       "      <td>0.462094</td>\n",
       "      <td>9675.637887</td>\n",
       "      <td>9372.831224</td>\n",
       "      <td>9702.608292</td>\n",
       "      <td>782.038511</td>\n",
       "    </tr>\n",
       "    <tr>\n",
       "      <th>min</th>\n",
       "      <td>0.000000</td>\n",
       "      <td>16.000000</td>\n",
       "      <td>0.000000</td>\n",
       "      <td>0.000000</td>\n",
       "      <td>0.000000</td>\n",
       "      <td>0.000000</td>\n",
       "      <td>0.000000</td>\n",
       "      <td>0.000000</td>\n",
       "      <td>0.000000</td>\n",
       "      <td>0.000000</td>\n",
       "      <td>256.000000</td>\n",
       "    </tr>\n",
       "    <tr>\n",
       "      <th>25%</th>\n",
       "      <td>0.000000</td>\n",
       "      <td>24.000000</td>\n",
       "      <td>11.000000</td>\n",
       "      <td>0.000000</td>\n",
       "      <td>0.000000</td>\n",
       "      <td>0.000000</td>\n",
       "      <td>0.000000</td>\n",
       "      <td>3644.236000</td>\n",
       "      <td>3695.897000</td>\n",
       "      <td>5088.760000</td>\n",
       "      <td>576.000000</td>\n",
       "    </tr>\n",
       "    <tr>\n",
       "      <th>50%</th>\n",
       "      <td>0.000000</td>\n",
       "      <td>31.000000</td>\n",
       "      <td>12.000000</td>\n",
       "      <td>0.000000</td>\n",
       "      <td>0.000000</td>\n",
       "      <td>1.000000</td>\n",
       "      <td>0.000000</td>\n",
       "      <td>14655.320000</td>\n",
       "      <td>14109.530000</td>\n",
       "      <td>15962.400000</td>\n",
       "      <td>961.000000</td>\n",
       "    </tr>\n",
       "    <tr>\n",
       "      <th>75%</th>\n",
       "      <td>0.000000</td>\n",
       "      <td>42.000000</td>\n",
       "      <td>13.000000</td>\n",
       "      <td>0.000000</td>\n",
       "      <td>0.000000</td>\n",
       "      <td>1.000000</td>\n",
       "      <td>1.000000</td>\n",
       "      <td>23360.340000</td>\n",
       "      <td>22703.080000</td>\n",
       "      <td>25564.670000</td>\n",
       "      <td>1764.000000</td>\n",
       "    </tr>\n",
       "    <tr>\n",
       "      <th>max</th>\n",
       "      <td>1.000000</td>\n",
       "      <td>55.000000</td>\n",
       "      <td>18.000000</td>\n",
       "      <td>1.000000</td>\n",
       "      <td>1.000000</td>\n",
       "      <td>1.000000</td>\n",
       "      <td>1.000000</td>\n",
       "      <td>39570.680000</td>\n",
       "      <td>25243.550000</td>\n",
       "      <td>60307.930000</td>\n",
       "      <td>3025.000000</td>\n",
       "    </tr>\n",
       "  </tbody>\n",
       "</table>\n",
       "</div>"
      ],
      "text/plain": [
       "              treat           age            ed         black          hisp  \\\n",
       "count  16437.000000  16437.000000  16437.000000  16437.000000  16437.000000   \n",
       "mean       0.011255     33.012594     11.977916      0.094117      0.072458   \n",
       "std        0.105495     11.030899      2.862478      0.292000      0.259253   \n",
       "min        0.000000     16.000000      0.000000      0.000000      0.000000   \n",
       "25%        0.000000     24.000000     11.000000      0.000000      0.000000   \n",
       "50%        0.000000     31.000000     12.000000      0.000000      0.000000   \n",
       "75%        0.000000     42.000000     13.000000      0.000000      0.000000   \n",
       "max        1.000000     55.000000     18.000000      1.000000      1.000000   \n",
       "\n",
       "            married         nodeg          re74          re75          re78  \\\n",
       "count  16437.000000  16437.000000  16437.000000  16437.000000  16437.000000   \n",
       "mean       0.697025      0.308998  13694.237302  13318.517623  14588.222993   \n",
       "std        0.459558      0.462094   9675.637887   9372.831224   9702.608292   \n",
       "min        0.000000      0.000000      0.000000      0.000000      0.000000   \n",
       "25%        0.000000      0.000000   3644.236000   3695.897000   5088.760000   \n",
       "50%        1.000000      0.000000  14655.320000  14109.530000  15962.400000   \n",
       "75%        1.000000      1.000000  23360.340000  22703.080000  25564.670000   \n",
       "max        1.000000      1.000000  39570.680000  25243.550000  60307.930000   \n",
       "\n",
       "               age2  \n",
       "count  16437.000000  \n",
       "mean    1211.504654  \n",
       "std      782.038511  \n",
       "min      256.000000  \n",
       "25%      576.000000  \n",
       "50%      961.000000  \n",
       "75%     1764.000000  \n",
       "max     3025.000000  "
      ]
     },
     "execution_count": 24,
     "metadata": {},
     "output_type": "execute_result"
    }
   ],
   "source": [
    "merged_df.describe()"
   ]
  },
  {
   "cell_type": "code",
   "execution_count": 25,
   "metadata": {},
   "outputs": [
    {
     "data": {
      "image/png": "[encoded data removed]",
      "text/plain": [
       "<Figure size 2160x720 with 3 Axes>"
      ]
     },
     "metadata": {},
     "output_type": "display_data"
    },
    {
     "data": {
      "image/png": "[encoded data removed]",
      "text/plain": [
       "<Figure size 2160x720 with 3 Axes>"
      ]
     },
     "metadata": {},
     "output_type": "display_data"
    },
    {
     "data": {
      "image/png": "[encoded data removed]",
      "text/plain": [
       "<Figure size 2160x720 with 3 Axes>"
      ]
     },
     "metadata": {},
     "output_type": "display_data"
    },
    {
     "data": {
      "image/png": "[encoded data removed]",
      "text/plain": [
       "<Figure size 2160x720 with 3 Axes>"
      ]
     },
     "metadata": {},
     "output_type": "display_data"
    }
   ],
   "source": [
    "columns = ['age', 're74', 're75', 're78']\n",
    "for i, column in enumerate(columns):\n",
    "    fig, axs = plt.subplots(1, 3, figsize=(30,10))\n",
    "    sns.distplot(merged_df[column], color=\"#1f77b4\", ax = axs[0]).set_title('Total ' + column,fontsize=30)\n",
    "    sns.distplot(merged_df[merged_df['treat'] >= .5][column], color=\"blue\", ax = axs[1]).set_title('The treated',fontsize=30)\n",
    "    sns.distplot(merged_df[merged_df['treat'] < .5][column], color=\"red\", ax = axs[2]).set_title('The control',fontsize=30)\n",
    "    for j in range(0, 3):\n",
    "        axs[j].set_xlim(min(merged_df[column])-1, max(merged_df[column]*1.5 ))\n",
    "    plt.show()"
   ]
  },
  {
   "cell_type": "code",
   "execution_count": 26,
   "metadata": {},
   "outputs": [
    {
     "data": {
      "image/png": "[encoded data removed]",
      "text/plain": [
       "<Figure size 1440x720 with 1 Axes>"
      ]
     },
     "metadata": {},
     "output_type": "display_data"
    },
    {
     "data": {
      "image/png": "[encoded data removed]",
      "text/plain": [
       "<Figure size 1440x720 with 1 Axes>"
      ]
     },
     "metadata": {},
     "output_type": "display_data"
    },
    {
     "data": {
      "image/png": "[encoded data removed]",
      "text/plain": [
       "<Figure size 1440x720 with 1 Axes>"
      ]
     },
     "metadata": {},
     "output_type": "display_data"
    },
    {
     "data": {
      "image/png": "[encoded data removed]",
      "text/plain": [
       "<Figure size 1440x720 with 1 Axes>"
      ]
     },
     "metadata": {},
     "output_type": "display_data"
    },
    {
     "data": {
      "image/png": "[encoded data removed]",
      "text/plain": [
       "<Figure size 1440x720 with 1 Axes>"
      ]
     },
     "metadata": {},
     "output_type": "display_data"
    }
   ],
   "source": [
    "columns = ['ed', 'black', 'hisp', 'married', 'nodeg']\n",
    "hue = 'treat'\n",
    "y = 'prop'\n",
    "\n",
    "for i, column in enumerate(columns):\n",
    "    fig, axs = plt.subplots(1, 1, figsize=(20,10))\n",
    "    prop_df = (merged_df.groupby(\"treat\")[column]\n",
    "               .value_counts(normalize=True)\n",
    "               .rename(y)\n",
    "               .reset_index())\n",
    "    \n",
    "    sns.barplot(x=column, y=y, hue = hue, data=prop_df, ax=axs)"
   ]
  },
  {
   "cell_type": "markdown",
   "metadata": {},
   "source": [
    "### Normalized Difference\n",
    "\n",
    "ATE, ATT, ATCの推定にはcommon support, overlapが必要条件だがその確認のための統計量としてNormazlied Differenceがある。\n",
    "\n",
    "$$\n",
    "\\text{Normalized Difference}_j = \\frac{|\\bar x_{treated, j} - \\bar x_{control, j}|}{(s_{treated, j}^2 + s_{control, j}^2)^{1/2}}\n",
    "$$\n",
    "\n",
    "- j: covariateのindex\n",
    "- Imbens and Rubinはnormalized differenceが0.25を超えた場合、overlapに問題があるとしている\n"
   ]
  },
  {
   "cell_type": "code",
   "execution_count": 27,
   "metadata": {},
   "outputs": [
    {
     "data": {
      "text/html": [
       "<div>\n",
       "<style scoped>\n",
       "    .dataframe tbody tr th:only-of-type {\n",
       "        vertical-align: middle;\n",
       "    }\n",
       "\n",
       "    .dataframe tbody tr th {\n",
       "        vertical-align: top;\n",
       "    }\n",
       "\n",
       "    .dataframe thead tr th {\n",
       "        text-align: left;\n",
       "    }\n",
       "\n",
       "    .dataframe thead tr:last-of-type th {\n",
       "        text-align: right;\n",
       "    }\n",
       "</style>\n",
       "<table border=\"1\" class=\"dataframe\">\n",
       "  <thead>\n",
       "    <tr>\n",
       "      <th></th>\n",
       "      <th colspan=\"2\" halign=\"left\">age</th>\n",
       "      <th colspan=\"2\" halign=\"left\">ed</th>\n",
       "      <th colspan=\"2\" halign=\"left\">black</th>\n",
       "      <th colspan=\"2\" halign=\"left\">hisp</th>\n",
       "      <th colspan=\"2\" halign=\"left\">married</th>\n",
       "      <th colspan=\"2\" halign=\"left\">nodeg</th>\n",
       "      <th colspan=\"2\" halign=\"left\">re74</th>\n",
       "      <th colspan=\"2\" halign=\"left\">re75</th>\n",
       "      <th colspan=\"2\" halign=\"left\">re78</th>\n",
       "      <th colspan=\"2\" halign=\"left\">age2</th>\n",
       "    </tr>\n",
       "    <tr>\n",
       "      <th></th>\n",
       "      <th>mean</th>\n",
       "      <th>var</th>\n",
       "      <th>mean</th>\n",
       "      <th>var</th>\n",
       "      <th>mean</th>\n",
       "      <th>var</th>\n",
       "      <th>mean</th>\n",
       "      <th>var</th>\n",
       "      <th>mean</th>\n",
       "      <th>var</th>\n",
       "      <th>mean</th>\n",
       "      <th>var</th>\n",
       "      <th>mean</th>\n",
       "      <th>var</th>\n",
       "      <th>mean</th>\n",
       "      <th>var</th>\n",
       "      <th>mean</th>\n",
       "      <th>var</th>\n",
       "      <th>mean</th>\n",
       "      <th>var</th>\n",
       "    </tr>\n",
       "    <tr>\n",
       "      <th>treat</th>\n",
       "      <th></th>\n",
       "      <th></th>\n",
       "      <th></th>\n",
       "      <th></th>\n",
       "      <th></th>\n",
       "      <th></th>\n",
       "      <th></th>\n",
       "      <th></th>\n",
       "      <th></th>\n",
       "      <th></th>\n",
       "      <th></th>\n",
       "      <th></th>\n",
       "      <th></th>\n",
       "      <th></th>\n",
       "      <th></th>\n",
       "      <th></th>\n",
       "      <th></th>\n",
       "      <th></th>\n",
       "      <th></th>\n",
       "      <th></th>\n",
       "    </tr>\n",
       "  </thead>\n",
       "  <tbody>\n",
       "    <tr>\n",
       "      <th>0</th>\n",
       "      <td>33.094511</td>\n",
       "      <td>121.890027</td>\n",
       "      <td>11.996493</td>\n",
       "      <td>8.210621</td>\n",
       "      <td>0.085589</td>\n",
       "      <td>0.078269</td>\n",
       "      <td>0.072606</td>\n",
       "      <td>0.067339</td>\n",
       "      <td>0.702806</td>\n",
       "      <td>0.208883</td>\n",
       "      <td>0.304455</td>\n",
       "      <td>0.211775</td>\n",
       "      <td>13826.267376</td>\n",
       "      <td>9.286444e+07</td>\n",
       "      <td>13452.685450</td>\n",
       "      <td>8.713324e+07</td>\n",
       "      <td>14682.010201</td>\n",
       "      <td>9.372992e+07</td>\n",
       "      <td>1217.129215</td>\n",
       "      <td>613629.780115</td>\n",
       "    </tr>\n",
       "    <tr>\n",
       "      <th>1</th>\n",
       "      <td>25.816216</td>\n",
       "      <td>51.194301</td>\n",
       "      <td>10.345946</td>\n",
       "      <td>4.042714</td>\n",
       "      <td>0.843243</td>\n",
       "      <td>0.132902</td>\n",
       "      <td>0.059459</td>\n",
       "      <td>0.056228</td>\n",
       "      <td>0.189189</td>\n",
       "      <td>0.154230</td>\n",
       "      <td>0.708108</td>\n",
       "      <td>0.207814</td>\n",
       "      <td>2095.573689</td>\n",
       "      <td>2.387906e+07</td>\n",
       "      <td>1532.055314</td>\n",
       "      <td>1.036358e+07</td>\n",
       "      <td>6349.143530</td>\n",
       "      <td>6.189602e+07</td>\n",
       "      <td>717.394595</td>\n",
       "      <td>185978.033666</td>\n",
       "    </tr>\n",
       "  </tbody>\n",
       "</table>\n",
       "</div>"
      ],
      "text/plain": [
       "             age                     ed               black            \\\n",
       "            mean         var       mean       var      mean       var   \n",
       "treat                                                                   \n",
       "0      33.094511  121.890027  11.996493  8.210621  0.085589  0.078269   \n",
       "1      25.816216   51.194301  10.345946  4.042714  0.843243  0.132902   \n",
       "\n",
       "           hisp             married               nodeg            \\\n",
       "           mean       var      mean       var      mean       var   \n",
       "treat                                                               \n",
       "0      0.072606  0.067339  0.702806  0.208883  0.304455  0.211775   \n",
       "1      0.059459  0.056228  0.189189  0.154230  0.708108  0.207814   \n",
       "\n",
       "               re74                        re75                        re78  \\\n",
       "               mean           var          mean           var          mean   \n",
       "treat                                                                         \n",
       "0      13826.267376  9.286444e+07  13452.685450  8.713324e+07  14682.010201   \n",
       "1       2095.573689  2.387906e+07   1532.055314  1.036358e+07   6349.143530   \n",
       "\n",
       "                            age2                 \n",
       "                var         mean            var  \n",
       "treat                                            \n",
       "0      9.372992e+07  1217.129215  613629.780115  \n",
       "1      6.189602e+07   717.394595  185978.033666  "
      ]
     },
     "execution_count": 27,
     "metadata": {},
     "output_type": "execute_result"
    }
   ],
   "source": [
    "colnames = list(merged_df.columns)\n",
    "for i in ['treat', 're78']:\n",
    "    colnames.remove(i)\n",
    "normed_diff = merged_df.groupby(['treat']).agg([np.mean, 'var'])\n",
    "normed_diff"
   ]
  },
  {
   "cell_type": "code",
   "execution_count": 28,
   "metadata": {},
   "outputs": [],
   "source": [
    "def compute_normed_diff(df, feature, round_digits = 5):\n",
    "    snd = []\n",
    "    for i in feature:\n",
    "        tmp_df = df[i].values\n",
    "        neg_mean = tmp_df[0, 0]\n",
    "        neg_std = tmp_df[0, 1]\n",
    "        pos_mean = tmp_df[1, 0]\n",
    "        pos_std = tmp_df[1, 1]\n",
    "        smd = (pos_mean - neg_mean) / np.sqrt((pos_std+ neg_std) / 2)\n",
    "        smd = round(abs(smd), round_digits)\n",
    "        snd.append(smd)\n",
    "\n",
    "    return pd.DataFrame({'features': feature, 'snd': snd})\n",
    "    "
   ]
  },
  {
   "cell_type": "code",
   "execution_count": 29,
   "metadata": {},
   "outputs": [
    {
     "data": {
      "text/html": [
       "<div>\n",
       "<style scoped>\n",
       "    .dataframe tbody tr th:only-of-type {\n",
       "        vertical-align: middle;\n",
       "    }\n",
       "\n",
       "    .dataframe tbody tr th {\n",
       "        vertical-align: top;\n",
       "    }\n",
       "\n",
       "    .dataframe thead th {\n",
       "        text-align: right;\n",
       "    }\n",
       "</style>\n",
       "<table border=\"1\" class=\"dataframe\">\n",
       "  <thead>\n",
       "    <tr style=\"text-align: right;\">\n",
       "      <th></th>\n",
       "      <th>features</th>\n",
       "      <th>snd</th>\n",
       "    </tr>\n",
       "  </thead>\n",
       "  <tbody>\n",
       "    <tr>\n",
       "      <th>0</th>\n",
       "      <td>age</td>\n",
       "      <td>0.78238</td>\n",
       "    </tr>\n",
       "    <tr>\n",
       "      <th>1</th>\n",
       "      <td>ed</td>\n",
       "      <td>0.66683</td>\n",
       "    </tr>\n",
       "    <tr>\n",
       "      <th>2</th>\n",
       "      <td>black</td>\n",
       "      <td>2.33168</td>\n",
       "    </tr>\n",
       "    <tr>\n",
       "      <th>3</th>\n",
       "      <td>hisp</td>\n",
       "      <td>0.05289</td>\n",
       "    </tr>\n",
       "    <tr>\n",
       "      <th>4</th>\n",
       "      <td>married</td>\n",
       "      <td>1.20541</td>\n",
       "    </tr>\n",
       "    <tr>\n",
       "      <th>5</th>\n",
       "      <td>nodeg</td>\n",
       "      <td>0.88127</td>\n",
       "    </tr>\n",
       "    <tr>\n",
       "      <th>6</th>\n",
       "      <td>re74</td>\n",
       "      <td>1.53540</td>\n",
       "    </tr>\n",
       "    <tr>\n",
       "      <th>7</th>\n",
       "      <td>re75</td>\n",
       "      <td>1.70734</td>\n",
       "    </tr>\n",
       "    <tr>\n",
       "      <th>8</th>\n",
       "      <td>age2</td>\n",
       "      <td>0.79034</td>\n",
       "    </tr>\n",
       "  </tbody>\n",
       "</table>\n",
       "</div>"
      ],
      "text/plain": [
       "  features      snd\n",
       "0      age  0.78238\n",
       "1       ed  0.66683\n",
       "2    black  2.33168\n",
       "3     hisp  0.05289\n",
       "4  married  1.20541\n",
       "5    nodeg  0.88127\n",
       "6     re74  1.53540\n",
       "7     re75  1.70734\n",
       "8     age2  0.79034"
      ]
     },
     "execution_count": 29,
     "metadata": {},
     "output_type": "execute_result"
    }
   ],
   "source": [
    "snd = compute_normed_diff(normed_diff, feature = colnames)\n",
    "snd"
   ]
  },
  {
   "cell_type": "code",
   "execution_count": 30,
   "metadata": {},
   "outputs": [
    {
     "data": {
      "image/png": "[encoded data removed]",
      "text/plain": [
       "<Figure size 1008x864 with 1 Axes>"
      ]
     },
     "metadata": {},
     "output_type": "display_data"
    }
   ],
   "source": [
    "snd = snd.sort_values('snd')\n",
    "snd.plot.barh(x='features', y='snd', figsize=(14,12));"
   ]
  },
  {
   "cell_type": "markdown",
   "metadata": {},
   "source": [
    "### Naive estimator"
   ]
  },
  {
   "cell_type": "code",
   "execution_count": 31,
   "metadata": {},
   "outputs": [],
   "source": [
    "#merged_df = pd.get_dummies(merged_df, columns=[\"ed\"], drop_first=True)\n",
    "merged_df = merged_df.join((merged_df[[\"re74\", \"re75\"]] == 0).astype(int), rsuffix=(\"_0\"))\n"
   ]
  },
  {
   "cell_type": "code",
   "execution_count": 32,
   "metadata": {},
   "outputs": [],
   "source": [
    "treatment_params = dict()"
   ]
  },
  {
   "cell_type": "code",
   "execution_count": 33,
   "metadata": {},
   "outputs": [
    {
     "data": {
      "text/html": [
       "<div>\n",
       "<style scoped>\n",
       "    .dataframe tbody tr th:only-of-type {\n",
       "        vertical-align: middle;\n",
       "    }\n",
       "\n",
       "    .dataframe tbody tr th {\n",
       "        vertical-align: top;\n",
       "    }\n",
       "\n",
       "    .dataframe thead th {\n",
       "        text-align: right;\n",
       "    }\n",
       "</style>\n",
       "<table border=\"1\" class=\"dataframe\">\n",
       "  <thead>\n",
       "    <tr style=\"text-align: right;\">\n",
       "      <th></th>\n",
       "      <th>control mean</th>\n",
       "      <th>treated mean</th>\n",
       "      <th>mean diff</th>\n",
       "    </tr>\n",
       "  </thead>\n",
       "  <tbody>\n",
       "    <tr>\n",
       "      <th>re78</th>\n",
       "      <td>14682.010201</td>\n",
       "      <td>6349.14353</td>\n",
       "      <td>-8332.86667</td>\n",
       "    </tr>\n",
       "  </tbody>\n",
       "</table>\n",
       "</div>"
      ],
      "text/plain": [
       "      control mean  treated mean   mean diff\n",
       "re78  14682.010201    6349.14353 -8332.86667"
      ]
     },
     "execution_count": 33,
     "metadata": {},
     "output_type": "execute_result"
    }
   ],
   "source": [
    "naive = merged_df.groupby('treat')['re78'].mean()\n",
    "naive[2] = naive[1] - naive[0]\n",
    "res = pd.DataFrame(naive.reset_index(drop = True)).T\n",
    "res.columns = ['control mean', 'treated mean', 'mean diff']\n",
    "res"
   ]
  },
  {
   "cell_type": "code",
   "execution_count": 34,
   "metadata": {},
   "outputs": [],
   "source": [
    "treatment_params['naive'] = res['mean diff'].values[0]"
   ]
  },
  {
   "cell_type": "markdown",
   "metadata": {},
   "source": [
    "### OLS estimator"
   ]
  },
  {
   "cell_type": "code",
   "execution_count": 35,
   "metadata": {},
   "outputs": [
    {
     "name": "stdout",
     "output_type": "stream",
     "text": [
      "                            OLS Regression Results                            \n",
      "==============================================================================\n",
      "Dep. Variable:                   re78   R-squared:                       0.483\n",
      "Model:                            OLS   Adj. R-squared:                  0.483\n",
      "Method:                 Least Squares   F-statistic:                     1279.\n",
      "Date:                Wed, 22 Apr 2020   Prob (F-statistic):               0.00\n",
      "Time:                        18:22:33   Log-Likelihood:            -1.6879e+05\n",
      "No. Observations:               16437   AIC:                         3.376e+05\n",
      "Df Residuals:                   16424   BIC:                         3.377e+05\n",
      "Df Model:                          12                                         \n",
      "Covariance Type:            nonrobust                                         \n",
      "==============================================================================\n",
      "                 coef    std err          t      P>|t|      [0.025      0.975]\n",
      "------------------------------------------------------------------------------\n",
      "const       7213.9852    728.641      9.901      0.000    5785.770    8642.201\n",
      "treat       1204.0277    544.868      2.210      0.027     136.028    2272.028\n",
      "age         -192.1291     40.778     -4.712      0.000    -272.058    -112.200\n",
      "ed           175.3148     28.527      6.146      0.000     119.399     231.231\n",
      "black       -900.2333    199.647     -4.509      0.000   -1291.563    -508.903\n",
      "hisp        -175.5586    216.124     -0.812      0.417    -599.185     248.068\n",
      "married      247.8557    147.824      1.677      0.094     -41.896     537.608\n",
      "nodeg        257.7330    176.219      1.463      0.144     -87.675     603.141\n",
      "re74           0.2897      0.013     22.777      0.000       0.265       0.315\n",
      "re75           0.4478      0.013     35.098      0.000       0.423       0.473\n",
      "age2           1.3671      0.555      2.463      0.014       0.279       2.455\n",
      "re74_0       299.5403    227.182      1.319      0.187    -145.761     744.842\n",
      "re75_0     -1447.3825    234.859     -6.163      0.000   -1907.731    -987.034\n",
      "==============================================================================\n",
      "Omnibus:                     1573.786   Durbin-Watson:                   2.023\n",
      "Prob(Omnibus):                  0.000   Jarque-Bera (JB):             3148.859\n",
      "Skew:                          -0.632   Prob(JB):                         0.00\n",
      "Kurtosis:                       4.732   Cond. No.                     3.13e+05\n",
      "==============================================================================\n",
      "\n",
      "Warnings:\n",
      "[1] Standard Errors assume that the covariance matrix of the errors is correctly specified.\n",
      "[2] The condition number is large, 3.13e+05. This might indicate that there are\n",
      "strong multicollinearity or other numerical problems.\n"
     ]
    }
   ],
   "source": [
    "X = merged_df.drop('re78', axis = 1)\n",
    "Y = merged_df.loc[:,'re78']\n",
    "X = sm.add_constant(X)\n",
    "ols_res = sm.OLS(Y, X).fit()\n",
    "print(ols_res.summary())"
   ]
  },
  {
   "cell_type": "code",
   "execution_count": 36,
   "metadata": {},
   "outputs": [],
   "source": [
    "treatment_params['OLS'] = ols_res.params['treat']"
   ]
  },
  {
   "cell_type": "markdown",
   "metadata": {},
   "source": [
    "### Propensity Score matching"
   ]
  },
  {
   "cell_type": "code",
   "execution_count": 37,
   "metadata": {},
   "outputs": [
    {
     "data": {
      "text/html": [
       "<div>\n",
       "<style scoped>\n",
       "    .dataframe tbody tr th:only-of-type {\n",
       "        vertical-align: middle;\n",
       "    }\n",
       "\n",
       "    .dataframe tbody tr th {\n",
       "        vertical-align: top;\n",
       "    }\n",
       "\n",
       "    .dataframe thead th {\n",
       "        text-align: right;\n",
       "    }\n",
       "</style>\n",
       "<table border=\"1\" class=\"dataframe\">\n",
       "  <thead>\n",
       "    <tr style=\"text-align: right;\">\n",
       "      <th></th>\n",
       "      <th>treat</th>\n",
       "      <th>age</th>\n",
       "      <th>ed</th>\n",
       "      <th>black</th>\n",
       "      <th>hisp</th>\n",
       "      <th>married</th>\n",
       "      <th>nodeg</th>\n",
       "      <th>re74</th>\n",
       "      <th>re75</th>\n",
       "      <th>re78</th>\n",
       "      <th>age2</th>\n",
       "      <th>re74_0</th>\n",
       "      <th>re75_0</th>\n",
       "    </tr>\n",
       "  </thead>\n",
       "  <tbody>\n",
       "    <tr>\n",
       "      <th>2616</th>\n",
       "      <td>0</td>\n",
       "      <td>41</td>\n",
       "      <td>13</td>\n",
       "      <td>0</td>\n",
       "      <td>0</td>\n",
       "      <td>1</td>\n",
       "      <td>0</td>\n",
       "      <td>25862.32000</td>\n",
       "      <td>0.000</td>\n",
       "      <td>0.000</td>\n",
       "      <td>1681</td>\n",
       "      <td>0</td>\n",
       "      <td>1</td>\n",
       "    </tr>\n",
       "    <tr>\n",
       "      <th>5422</th>\n",
       "      <td>0</td>\n",
       "      <td>19</td>\n",
       "      <td>12</td>\n",
       "      <td>0</td>\n",
       "      <td>0</td>\n",
       "      <td>0</td>\n",
       "      <td>0</td>\n",
       "      <td>3291.56800</td>\n",
       "      <td>12303.100</td>\n",
       "      <td>19260.690</td>\n",
       "      <td>361</td>\n",
       "      <td>0</td>\n",
       "      <td>0</td>\n",
       "    </tr>\n",
       "    <tr>\n",
       "      <th>3980</th>\n",
       "      <td>0</td>\n",
       "      <td>54</td>\n",
       "      <td>6</td>\n",
       "      <td>1</td>\n",
       "      <td>0</td>\n",
       "      <td>0</td>\n",
       "      <td>1</td>\n",
       "      <td>9500.48500</td>\n",
       "      <td>8706.339</td>\n",
       "      <td>4722.814</td>\n",
       "      <td>2916</td>\n",
       "      <td>0</td>\n",
       "      <td>0</td>\n",
       "    </tr>\n",
       "    <tr>\n",
       "      <th>11076</th>\n",
       "      <td>0</td>\n",
       "      <td>28</td>\n",
       "      <td>12</td>\n",
       "      <td>1</td>\n",
       "      <td>0</td>\n",
       "      <td>1</td>\n",
       "      <td>0</td>\n",
       "      <td>0.00000</td>\n",
       "      <td>0.000</td>\n",
       "      <td>0.000</td>\n",
       "      <td>784</td>\n",
       "      <td>1</td>\n",
       "      <td>1</td>\n",
       "    </tr>\n",
       "    <tr>\n",
       "      <th>7930</th>\n",
       "      <td>0</td>\n",
       "      <td>44</td>\n",
       "      <td>12</td>\n",
       "      <td>0</td>\n",
       "      <td>1</td>\n",
       "      <td>1</td>\n",
       "      <td>0</td>\n",
       "      <td>66.61507</td>\n",
       "      <td>0.000</td>\n",
       "      <td>0.000</td>\n",
       "      <td>1936</td>\n",
       "      <td>0</td>\n",
       "      <td>1</td>\n",
       "    </tr>\n",
       "  </tbody>\n",
       "</table>\n",
       "</div>"
      ],
      "text/plain": [
       "       treat  age  ed  black  hisp  married  nodeg         re74       re75  \\\n",
       "2616       0   41  13      0     0        1      0  25862.32000      0.000   \n",
       "5422       0   19  12      0     0        0      0   3291.56800  12303.100   \n",
       "3980       0   54   6      1     0        0      1   9500.48500   8706.339   \n",
       "11076      0   28  12      1     0        1      0      0.00000      0.000   \n",
       "7930       0   44  12      0     1        1      0     66.61507      0.000   \n",
       "\n",
       "            re78  age2  re74_0  re75_0  \n",
       "2616       0.000  1681       0       1  \n",
       "5422   19260.690   361       0       0  \n",
       "3980    4722.814  2916       0       0  \n",
       "11076      0.000   784       1       1  \n",
       "7930       0.000  1936       0       1  "
      ]
     },
     "execution_count": 37,
     "metadata": {},
     "output_type": "execute_result"
    }
   ],
   "source": [
    "merged_df.head()"
   ]
  },
  {
   "cell_type": "code",
   "execution_count": 38,
   "metadata": {},
   "outputs": [],
   "source": [
    "logit_formula = 'treat~ 1+age+black+hisp+married+nodeg+re74+re75+age2+ed+re74_0+re75_0'"
   ]
  },
  {
   "cell_type": "code",
   "execution_count": 39,
   "metadata": {},
   "outputs": [
    {
     "name": "stdout",
     "output_type": "stream",
     "text": [
      "Optimization terminated successfully.\n",
      "         Current function value: 0.032973\n",
      "         Iterations 12\n"
     ]
    }
   ],
   "source": [
    "logit_res = smf.logit(formula=logit_formula, data=merged_df).fit()\n",
    "propensity_score = logit_res.predict()\n",
    "merged_df['p_logit'] = propensity_score"
   ]
  },
  {
   "cell_type": "markdown",
   "metadata": {},
   "source": [
    "common supportのvisualization"
   ]
  },
  {
   "cell_type": "code",
   "execution_count": 40,
   "metadata": {},
   "outputs": [
    {
     "data": {
      "image/png": "[encoded data removed]",
      "text/plain": [
       "<Figure size 720x720 with 1 Axes>"
      ]
     },
     "metadata": {},
     "output_type": "display_data"
    }
   ],
   "source": [
    "prob_untreated = merged_df.loc[merged_df['treat'] == 0, 'p_logit']\n",
    "prob_treated =  merged_df.loc[merged_df['treat'] == 1, 'p_logit']\n",
    "fig, ax = plt.subplots(1, 1, figsize = (10, 10))\n",
    "bins = np.linspace(0.01, 1.00, 100)\n",
    "ax.hist([prob_untreated, prob_treated], bins=bins, label=['control', 'treated'])\n",
    "ax.set_xlim([0, max(merged_df['p_logit'])])\n",
    "ax.set_xlabel('Propensity score')\n",
    "ax.legend();"
   ]
  },
  {
   "cell_type": "markdown",
   "metadata": {},
   "source": [
    "propensity scoreを用いたATE, ATT, ATCの推定"
   ]
  },
  {
   "cell_type": "code",
   "execution_count": 41,
   "metadata": {},
   "outputs": [],
   "source": [
    "treatment_params['PS_ATT'] = psmatch.get_att_weight(merged_df, p = propensity_score, outcome = 're78', treat = 'treat' )\n",
    "treatment_params['PS_ATE'] = psmatch.get_ate_weight(merged_df, p = propensity_score, outcome = 're78', treat = 'treat' )\n",
    "treatment_params['PS_ATC'] = psmatch.get_atc_weight(merged_df, p = propensity_score, outcome = 're78', treat = 'treat' )"
   ]
  },
  {
   "cell_type": "markdown",
   "metadata": {},
   "source": [
    "### Nearest Neighbour Matching"
   ]
  },
  {
   "cell_type": "code",
   "execution_count": 42,
   "metadata": {},
   "outputs": [],
   "source": [
    "treated_df = merged_df.loc[merged_df['treat'] == 1].reset_index(drop = True)\n",
    "non_treated_df = merged_df.loc[merged_df['treat'] == 0].reset_index(drop = True)"
   ]
  },
  {
   "cell_type": "code",
   "execution_count": 43,
   "metadata": {},
   "outputs": [],
   "source": [
    "treated = treated_df['p_logit'].values\n",
    "non_treated = non_treated_df['p_logit'].values\n",
    "\n",
    "nbrs = NearestNeighbors(n_neighbors=1,\n",
    "                        algorithm='ball_tree').fit(non_treated.reshape(-1, 1))\n",
    "distances, indices = nbrs.kneighbors(treated.reshape(-1, 1))\n",
    "indices = indices.reshape(indices.shape[0])\n",
    "matched = non_treated_df.loc[indices]"
   ]
  },
  {
   "cell_type": "markdown",
   "metadata": {},
   "source": [
    "どの程度マッチしているか可視化してみる"
   ]
  },
  {
   "cell_type": "code",
   "execution_count": 44,
   "metadata": {},
   "outputs": [
    {
     "data": {
      "image/png": "[encoded data removed]",
      "text/plain": [
       "<Figure size 432x432 with 3 Axes>"
      ]
     },
     "metadata": {},
     "output_type": "display_data"
    }
   ],
   "source": [
    "sns.jointplot(treated, matched['p_logit'].values);"
   ]
  },
  {
   "cell_type": "code",
   "execution_count": 45,
   "metadata": {},
   "outputs": [
    {
     "data": {
      "text/plain": [
       "1224.839727675675"
      ]
     },
     "execution_count": 45,
     "metadata": {},
     "output_type": "execute_result"
    }
   ],
   "source": [
    "treatment_params['Nearest_ATT'] = np.mean(treated_df['re78']) - np.mean(matched['re78'])\n",
    "treatment_params['Nearest_ATT']"
   ]
  },
  {
   "cell_type": "markdown",
   "metadata": {},
   "source": [
    "ATCも計算してみる"
   ]
  },
  {
   "cell_type": "code",
   "execution_count": 46,
   "metadata": {},
   "outputs": [],
   "source": [
    "nbrs = NearestNeighbors(n_neighbors=1,\n",
    "                        algorithm='ball_tree').fit(treated.reshape(-1, 1))\n",
    "distances, indices = nbrs.kneighbors(non_treated.reshape(-1, 1))\n",
    "indices = indices.reshape(indices.shape[0])\n",
    "matched_atc = treated_df.loc[indices]"
   ]
  },
  {
   "cell_type": "code",
   "execution_count": 47,
   "metadata": {},
   "outputs": [
    {
     "data": {
      "image/png": "[encoded data removed]",
      "text/plain": [
       "<Figure size 432x432 with 3 Axes>"
      ]
     },
     "metadata": {},
     "output_type": "display_data"
    }
   ],
   "source": [
    "sns.jointplot(non_treated, matched_atc['p_logit'].values);"
   ]
  },
  {
   "cell_type": "code",
   "execution_count": 48,
   "metadata": {},
   "outputs": [
    {
     "data": {
      "text/plain": [
       "-3653.6808865858366"
      ]
     },
     "execution_count": 48,
     "metadata": {},
     "output_type": "execute_result"
    }
   ],
   "source": [
    "treatment_params['Nearest_ATC'] = np.mean(matched_atc.re78) - np.mean(non_treated_df['re78'])\n",
    "treatment_params['Nearest_ATC'] "
   ]
  },
  {
   "cell_type": "markdown",
   "metadata": {},
   "source": [
    "CIAのAssumptionが成立していないと思われる"
   ]
  },
  {
   "cell_type": "markdown",
   "metadata": {},
   "source": [
    "### 統計量の比較"
   ]
  },
  {
   "cell_type": "code",
   "execution_count": 49,
   "metadata": {},
   "outputs": [
    {
     "data": {
      "text/html": [
       "<div>\n",
       "<style scoped>\n",
       "    .dataframe tbody tr th:only-of-type {\n",
       "        vertical-align: middle;\n",
       "    }\n",
       "\n",
       "    .dataframe tbody tr th {\n",
       "        vertical-align: top;\n",
       "    }\n",
       "\n",
       "    .dataframe thead th {\n",
       "        text-align: right;\n",
       "    }\n",
       "</style>\n",
       "<table border=\"1\" class=\"dataframe\">\n",
       "  <thead>\n",
       "    <tr style=\"text-align: right;\">\n",
       "      <th></th>\n",
       "      <th>effect_size</th>\n",
       "    </tr>\n",
       "  </thead>\n",
       "  <tbody>\n",
       "    <tr>\n",
       "      <th>naive</th>\n",
       "      <td>-8332.866670</td>\n",
       "    </tr>\n",
       "    <tr>\n",
       "      <th>OLS</th>\n",
       "      <td>1204.027732</td>\n",
       "    </tr>\n",
       "    <tr>\n",
       "      <th>PS_ATT</th>\n",
       "      <td>1402.255464</td>\n",
       "    </tr>\n",
       "    <tr>\n",
       "      <th>PS_ATE</th>\n",
       "      <td>-6779.472819</td>\n",
       "    </tr>\n",
       "    <tr>\n",
       "      <th>PS_ATC</th>\n",
       "      <td>-6872.607186</td>\n",
       "    </tr>\n",
       "    <tr>\n",
       "      <th>Nearest_ATT</th>\n",
       "      <td>1224.839728</td>\n",
       "    </tr>\n",
       "    <tr>\n",
       "      <th>Nearest_ATC</th>\n",
       "      <td>-3653.680887</td>\n",
       "    </tr>\n",
       "  </tbody>\n",
       "</table>\n",
       "</div>"
      ],
      "text/plain": [
       "             effect_size\n",
       "naive       -8332.866670\n",
       "OLS          1204.027732\n",
       "PS_ATT       1402.255464\n",
       "PS_ATE      -6779.472819\n",
       "PS_ATC      -6872.607186\n",
       "Nearest_ATT  1224.839728\n",
       "Nearest_ATC -3653.680887"
      ]
     },
     "execution_count": 49,
     "metadata": {},
     "output_type": "execute_result"
    }
   ],
   "source": [
    "pd.DataFrame(treatment_params.values(),\n",
    "             index = treatment_params.keys(),\n",
    "             columns = ['effect_size'])"
   ]
  },
  {
   "cell_type": "markdown",
   "metadata": {},
   "source": [
    "Propensity Score ATTの推定とOLSの推定は比較的近い値を計算している。"
   ]
  },
  {
   "cell_type": "markdown",
   "metadata": {},
   "source": [
    "### Regression Meets Matching\n",
    "\n",
    "The Horvitz-Thompson matching estimandsを振り返る:\n",
    "\n",
    "$$\n",
    "E[Y_{1i} - Y_{0i}] = E\\left[\\frac{D_i - P(X)i)Y_i}{P(X_i)(1 - P(X_i))}\\right]\n",
    "$$\n",
    "\n",
    "and\n",
    "\n",
    "$$\n",
    "E[Y_{1i} - Y_{0i}|D_i = 1] = E\\left[\\frac{D_i - P(X)i)Y_i}{\\rho(1 - P(X_i))}\\right]\n",
    "$$\n",
    "\n",
    "where $\\rho$はsampleのtreated割合。\n",
    "\n",
    "Hirano, Imbens, and Ridder(2003)はregressionとThe Horvitz-Thompson matching estimandsが同じweighted average estimand classに属することを示した：\n",
    "\n",
    "$$\n",
    "E\\left\\{g(X_i)\\left[\\frac{D_iY_i}{P(X_i)} - \\frac{(1 - D_i)Y_i}{(1 - P(X_i))} \\right]\\right\\}\n",
    "$$\n",
    "\n",
    "- $g(X_i) = 1$: ATE\n",
    "- $g(X_i) = p(X_i)/P(D_i = 1)$: ATT\n",
    "- $g(X_i) = p(X_i)(1 - p(X_i))/E[p(X_i)(1 - p(X_i))]$: OLS\n",
    "\n",
    "よって、OLSは$p(X_i)(1 - p(X_i))$が大きいところ＝treatment assignmentが50:50に近いところに大きいweightを置いている事がわかる。上のpropensity scoreの分布と照らし合わせると、ATTと近い間が出る。"
   ]
  },
  {
   "cell_type": "markdown",
   "metadata": {},
   "source": [
    "## 4. メールマーケティングデータの分析（回帰編）"
   ]
  },
  {
   "cell_type": "markdown",
   "metadata": {},
   "source": [
    "biased datasetを用いて重回帰分析によってどの程度biasが除去できるか検討する。EDAについてはch01参照。"
   ]
  },
  {
   "cell_type": "code",
   "execution_count": 50,
   "metadata": {},
   "outputs": [
    {
     "name": "stdout",
     "output_type": "stream",
     "text": [
      "<class 'pandas.core.frame.DataFrame'>\n",
      "RangeIndex: 64000 entries, 0 to 63999\n",
      "Data columns (total 12 columns):\n",
      " #   Column           Non-Null Count  Dtype  \n",
      "---  ------           --------------  -----  \n",
      " 0   recency          64000 non-null  int64  \n",
      " 1   history_segment  64000 non-null  object \n",
      " 2   history          64000 non-null  float64\n",
      " 3   mens             64000 non-null  int64  \n",
      " 4   womens           64000 non-null  int64  \n",
      " 5   zip_code         64000 non-null  object \n",
      " 6   newbie           64000 non-null  int64  \n",
      " 7   channel          64000 non-null  object \n",
      " 8   segment          64000 non-null  object \n",
      " 9   visit            64000 non-null  int64  \n",
      " 10  conversion       64000 non-null  int64  \n",
      " 11  spend            64000 non-null  float64\n",
      "dtypes: float64(2), int64(6), object(4)\n",
      "memory usage: 5.9+ MB\n"
     ]
    },
    {
     "data": {
      "text/html": [
       "<div>\n",
       "<style scoped>\n",
       "    .dataframe tbody tr th:only-of-type {\n",
       "        vertical-align: middle;\n",
       "    }\n",
       "\n",
       "    .dataframe tbody tr th {\n",
       "        vertical-align: top;\n",
       "    }\n",
       "\n",
       "    .dataframe thead th {\n",
       "        text-align: right;\n",
       "    }\n",
       "</style>\n",
       "<table border=\"1\" class=\"dataframe\">\n",
       "  <thead>\n",
       "    <tr style=\"text-align: right;\">\n",
       "      <th></th>\n",
       "      <th>recency</th>\n",
       "      <th>history</th>\n",
       "      <th>mens</th>\n",
       "      <th>womens</th>\n",
       "      <th>newbie</th>\n",
       "      <th>visit</th>\n",
       "      <th>conversion</th>\n",
       "      <th>spend</th>\n",
       "    </tr>\n",
       "  </thead>\n",
       "  <tbody>\n",
       "    <tr>\n",
       "      <th>count</th>\n",
       "      <td>64000.000000</td>\n",
       "      <td>64000.000000</td>\n",
       "      <td>64000.000000</td>\n",
       "      <td>64000.000000</td>\n",
       "      <td>64000.000000</td>\n",
       "      <td>64000.000000</td>\n",
       "      <td>64000.000000</td>\n",
       "      <td>64000.000000</td>\n",
       "    </tr>\n",
       "    <tr>\n",
       "      <th>mean</th>\n",
       "      <td>5.763734</td>\n",
       "      <td>242.085656</td>\n",
       "      <td>0.551031</td>\n",
       "      <td>0.549719</td>\n",
       "      <td>0.502250</td>\n",
       "      <td>0.146781</td>\n",
       "      <td>0.009031</td>\n",
       "      <td>1.050908</td>\n",
       "    </tr>\n",
       "    <tr>\n",
       "      <th>std</th>\n",
       "      <td>3.507592</td>\n",
       "      <td>256.158608</td>\n",
       "      <td>0.497393</td>\n",
       "      <td>0.497526</td>\n",
       "      <td>0.499999</td>\n",
       "      <td>0.353890</td>\n",
       "      <td>0.094604</td>\n",
       "      <td>15.036448</td>\n",
       "    </tr>\n",
       "    <tr>\n",
       "      <th>min</th>\n",
       "      <td>1.000000</td>\n",
       "      <td>29.990000</td>\n",
       "      <td>0.000000</td>\n",
       "      <td>0.000000</td>\n",
       "      <td>0.000000</td>\n",
       "      <td>0.000000</td>\n",
       "      <td>0.000000</td>\n",
       "      <td>0.000000</td>\n",
       "    </tr>\n",
       "    <tr>\n",
       "      <th>25%</th>\n",
       "      <td>2.000000</td>\n",
       "      <td>64.660000</td>\n",
       "      <td>0.000000</td>\n",
       "      <td>0.000000</td>\n",
       "      <td>0.000000</td>\n",
       "      <td>0.000000</td>\n",
       "      <td>0.000000</td>\n",
       "      <td>0.000000</td>\n",
       "    </tr>\n",
       "    <tr>\n",
       "      <th>50%</th>\n",
       "      <td>6.000000</td>\n",
       "      <td>158.110000</td>\n",
       "      <td>1.000000</td>\n",
       "      <td>1.000000</td>\n",
       "      <td>1.000000</td>\n",
       "      <td>0.000000</td>\n",
       "      <td>0.000000</td>\n",
       "      <td>0.000000</td>\n",
       "    </tr>\n",
       "    <tr>\n",
       "      <th>75%</th>\n",
       "      <td>9.000000</td>\n",
       "      <td>325.657500</td>\n",
       "      <td>1.000000</td>\n",
       "      <td>1.000000</td>\n",
       "      <td>1.000000</td>\n",
       "      <td>0.000000</td>\n",
       "      <td>0.000000</td>\n",
       "      <td>0.000000</td>\n",
       "    </tr>\n",
       "    <tr>\n",
       "      <th>max</th>\n",
       "      <td>12.000000</td>\n",
       "      <td>3345.930000</td>\n",
       "      <td>1.000000</td>\n",
       "      <td>1.000000</td>\n",
       "      <td>1.000000</td>\n",
       "      <td>1.000000</td>\n",
       "      <td>1.000000</td>\n",
       "      <td>499.000000</td>\n",
       "    </tr>\n",
       "  </tbody>\n",
       "</table>\n",
       "</div>"
      ],
      "text/plain": [
       "            recency       history          mens        womens        newbie  \\\n",
       "count  64000.000000  64000.000000  64000.000000  64000.000000  64000.000000   \n",
       "mean       5.763734    242.085656      0.551031      0.549719      0.502250   \n",
       "std        3.507592    256.158608      0.497393      0.497526      0.499999   \n",
       "min        1.000000     29.990000      0.000000      0.000000      0.000000   \n",
       "25%        2.000000     64.660000      0.000000      0.000000      0.000000   \n",
       "50%        6.000000    158.110000      1.000000      1.000000      1.000000   \n",
       "75%        9.000000    325.657500      1.000000      1.000000      1.000000   \n",
       "max       12.000000   3345.930000      1.000000      1.000000      1.000000   \n",
       "\n",
       "              visit    conversion         spend  \n",
       "count  64000.000000  64000.000000  64000.000000  \n",
       "mean       0.146781      0.009031      1.050908  \n",
       "std        0.353890      0.094604     15.036448  \n",
       "min        0.000000      0.000000      0.000000  \n",
       "25%        0.000000      0.000000      0.000000  \n",
       "50%        0.000000      0.000000      0.000000  \n",
       "75%        0.000000      0.000000      0.000000  \n",
       "max        1.000000      1.000000    499.000000  "
      ]
     },
     "execution_count": 50,
     "metadata": {},
     "output_type": "execute_result"
    }
   ],
   "source": [
    "df = pd.read_csv('http://www.minethatdata.com/Kevin_Hillstrom_MineThatData_E-MailAnalytics_DataMiningChallenge_2008.03.20.csv')\n",
    "df.info()\n",
    "df.describe()"
   ]
  },
  {
   "cell_type": "markdown",
   "metadata": {},
   "source": [
    "バイアスのあるデータを作成"
   ]
  },
  {
   "cell_type": "code",
   "execution_count": 51,
   "metadata": {},
   "outputs": [
    {
     "name": "stdout",
     "output_type": "stream",
     "text": [
      "<class 'pandas.core.frame.DataFrame'>\n",
      "Int64Index: 42613 entries, 1 to 63999\n",
      "Data columns (total 13 columns):\n",
      " #   Column           Non-Null Count  Dtype  \n",
      "---  ------           --------------  -----  \n",
      " 0   recency          42613 non-null  int64  \n",
      " 1   history_segment  42613 non-null  object \n",
      " 2   history          42613 non-null  float64\n",
      " 3   mens             42613 non-null  int64  \n",
      " 4   womens           42613 non-null  int64  \n",
      " 5   zip_code         42613 non-null  object \n",
      " 6   newbie           42613 non-null  int64  \n",
      " 7   channel          42613 non-null  object \n",
      " 8   segment          42613 non-null  object \n",
      " 9   visit            42613 non-null  int64  \n",
      " 10  conversion       42613 non-null  int64  \n",
      " 11  spend            42613 non-null  float64\n",
      " 12  treatment        42613 non-null  int64  \n",
      "dtypes: float64(2), int64(7), object(4)\n",
      "memory usage: 4.6+ MB\n"
     ]
    },
    {
     "data": {
      "text/html": [
       "<div>\n",
       "<style scoped>\n",
       "    .dataframe tbody tr th:only-of-type {\n",
       "        vertical-align: middle;\n",
       "    }\n",
       "\n",
       "    .dataframe tbody tr th {\n",
       "        vertical-align: top;\n",
       "    }\n",
       "\n",
       "    .dataframe thead th {\n",
       "        text-align: right;\n",
       "    }\n",
       "</style>\n",
       "<table border=\"1\" class=\"dataframe\">\n",
       "  <thead>\n",
       "    <tr style=\"text-align: right;\">\n",
       "      <th></th>\n",
       "      <th>recency</th>\n",
       "      <th>history_segment</th>\n",
       "      <th>history</th>\n",
       "      <th>mens</th>\n",
       "      <th>womens</th>\n",
       "      <th>zip_code</th>\n",
       "      <th>newbie</th>\n",
       "      <th>channel</th>\n",
       "      <th>segment</th>\n",
       "      <th>visit</th>\n",
       "      <th>conversion</th>\n",
       "      <th>spend</th>\n",
       "      <th>treatment</th>\n",
       "    </tr>\n",
       "  </thead>\n",
       "  <tbody>\n",
       "    <tr>\n",
       "      <th>1</th>\n",
       "      <td>6</td>\n",
       "      <td>3) $200 - $350</td>\n",
       "      <td>329.08</td>\n",
       "      <td>1</td>\n",
       "      <td>1</td>\n",
       "      <td>Rural</td>\n",
       "      <td>1</td>\n",
       "      <td>Web</td>\n",
       "      <td>No E-Mail</td>\n",
       "      <td>0</td>\n",
       "      <td>0</td>\n",
       "      <td>0.0</td>\n",
       "      <td>0</td>\n",
       "    </tr>\n",
       "    <tr>\n",
       "      <th>3</th>\n",
       "      <td>9</td>\n",
       "      <td>5) $500 - $750</td>\n",
       "      <td>675.83</td>\n",
       "      <td>1</td>\n",
       "      <td>0</td>\n",
       "      <td>Rural</td>\n",
       "      <td>1</td>\n",
       "      <td>Web</td>\n",
       "      <td>Mens E-Mail</td>\n",
       "      <td>0</td>\n",
       "      <td>0</td>\n",
       "      <td>0.0</td>\n",
       "      <td>1</td>\n",
       "    </tr>\n",
       "    <tr>\n",
       "      <th>8</th>\n",
       "      <td>9</td>\n",
       "      <td>5) $500 - $750</td>\n",
       "      <td>675.07</td>\n",
       "      <td>1</td>\n",
       "      <td>1</td>\n",
       "      <td>Rural</td>\n",
       "      <td>1</td>\n",
       "      <td>Phone</td>\n",
       "      <td>Mens E-Mail</td>\n",
       "      <td>0</td>\n",
       "      <td>0</td>\n",
       "      <td>0.0</td>\n",
       "      <td>1</td>\n",
       "    </tr>\n",
       "    <tr>\n",
       "      <th>13</th>\n",
       "      <td>2</td>\n",
       "      <td>2) $100 - $200</td>\n",
       "      <td>101.64</td>\n",
       "      <td>0</td>\n",
       "      <td>1</td>\n",
       "      <td>Urban</td>\n",
       "      <td>0</td>\n",
       "      <td>Web</td>\n",
       "      <td>Mens E-Mail</td>\n",
       "      <td>1</td>\n",
       "      <td>0</td>\n",
       "      <td>0.0</td>\n",
       "      <td>1</td>\n",
       "    </tr>\n",
       "    <tr>\n",
       "      <th>14</th>\n",
       "      <td>4</td>\n",
       "      <td>3) $200 - $350</td>\n",
       "      <td>241.42</td>\n",
       "      <td>0</td>\n",
       "      <td>1</td>\n",
       "      <td>Rural</td>\n",
       "      <td>1</td>\n",
       "      <td>Multichannel</td>\n",
       "      <td>No E-Mail</td>\n",
       "      <td>0</td>\n",
       "      <td>0</td>\n",
       "      <td>0.0</td>\n",
       "      <td>0</td>\n",
       "    </tr>\n",
       "  </tbody>\n",
       "</table>\n",
       "</div>"
      ],
      "text/plain": [
       "    recency history_segment  history  mens  womens zip_code  newbie  \\\n",
       "1         6  3) $200 - $350   329.08     1       1    Rural       1   \n",
       "3         9  5) $500 - $750   675.83     1       0    Rural       1   \n",
       "8         9  5) $500 - $750   675.07     1       1    Rural       1   \n",
       "13        2  2) $100 - $200   101.64     0       1    Urban       0   \n",
       "14        4  3) $200 - $350   241.42     0       1    Rural       1   \n",
       "\n",
       "         channel      segment  visit  conversion  spend  treatment  \n",
       "1            Web    No E-Mail      0           0    0.0          0  \n",
       "3            Web  Mens E-Mail      0           0    0.0          1  \n",
       "8          Phone  Mens E-Mail      0           0    0.0          1  \n",
       "13           Web  Mens E-Mail      1           0    0.0          1  \n",
       "14  Multichannel    No E-Mail      0           0    0.0          0  "
      ]
     },
     "execution_count": 51,
     "metadata": {},
     "output_type": "execute_result"
    }
   ],
   "source": [
    "## 前処理\n",
    "df.loc[:, 'treatment'] = df['segment'].map(lambda x: 1 if x == 'Mens E-Mail' else 0)\n",
    "male_df = df.loc[df['segment'] != 'Womens E-Mail']\n",
    "male_df.info()\n",
    "male_df.head()"
   ]
  },
  {
   "cell_type": "code",
   "execution_count": 52,
   "metadata": {},
   "outputs": [
    {
     "name": "stdout",
     "output_type": "stream",
     "text": [
      "<class 'pandas.core.frame.DataFrame'>\n",
      "Int64Index: 21306 entries, 24106 to 56013\n",
      "Data columns (total 13 columns):\n",
      " #   Column           Non-Null Count  Dtype  \n",
      "---  ------           --------------  -----  \n",
      " 0   recency          21306 non-null  int64  \n",
      " 1   history_segment  21306 non-null  object \n",
      " 2   history          21306 non-null  float64\n",
      " 3   mens             21306 non-null  int64  \n",
      " 4   womens           21306 non-null  int64  \n",
      " 5   zip_code         21306 non-null  object \n",
      " 6   newbie           21306 non-null  int64  \n",
      " 7   channel          21306 non-null  object \n",
      " 8   segment          21306 non-null  object \n",
      " 9   visit            21306 non-null  int64  \n",
      " 10  conversion       21306 non-null  int64  \n",
      " 11  spend            21306 non-null  float64\n",
      " 12  treatment        21306 non-null  int64  \n",
      "dtypes: float64(2), int64(7), object(4)\n",
      "memory usage: 2.3+ MB\n"
     ]
    },
    {
     "data": {
      "text/html": [
       "<div>\n",
       "<style scoped>\n",
       "    .dataframe tbody tr th:only-of-type {\n",
       "        vertical-align: middle;\n",
       "    }\n",
       "\n",
       "    .dataframe tbody tr th {\n",
       "        vertical-align: top;\n",
       "    }\n",
       "\n",
       "    .dataframe thead th {\n",
       "        text-align: right;\n",
       "    }\n",
       "</style>\n",
       "<table border=\"1\" class=\"dataframe\">\n",
       "  <thead>\n",
       "    <tr style=\"text-align: right;\">\n",
       "      <th></th>\n",
       "      <th>recency</th>\n",
       "      <th>history</th>\n",
       "      <th>mens</th>\n",
       "      <th>womens</th>\n",
       "      <th>newbie</th>\n",
       "      <th>visit</th>\n",
       "      <th>conversion</th>\n",
       "      <th>spend</th>\n",
       "      <th>treatment</th>\n",
       "    </tr>\n",
       "  </thead>\n",
       "  <tbody>\n",
       "    <tr>\n",
       "      <th>count</th>\n",
       "      <td>21306.000000</td>\n",
       "      <td>21306.000000</td>\n",
       "      <td>21306.000000</td>\n",
       "      <td>21306.000000</td>\n",
       "      <td>21306.000000</td>\n",
       "      <td>21306.000000</td>\n",
       "      <td>21306.000000</td>\n",
       "      <td>21306.000000</td>\n",
       "      <td>21306.000000</td>\n",
       "    </tr>\n",
       "    <tr>\n",
       "      <th>mean</th>\n",
       "      <td>5.783958</td>\n",
       "      <td>241.820497</td>\n",
       "      <td>0.550690</td>\n",
       "      <td>0.549188</td>\n",
       "      <td>0.502347</td>\n",
       "      <td>0.145593</td>\n",
       "      <td>0.009152</td>\n",
       "      <td>1.098233</td>\n",
       "      <td>0.483291</td>\n",
       "    </tr>\n",
       "    <tr>\n",
       "      <th>std</th>\n",
       "      <td>3.518513</td>\n",
       "      <td>258.443012</td>\n",
       "      <td>0.497436</td>\n",
       "      <td>0.497586</td>\n",
       "      <td>0.500006</td>\n",
       "      <td>0.352706</td>\n",
       "      <td>0.095231</td>\n",
       "      <td>15.986469</td>\n",
       "      <td>0.499732</td>\n",
       "    </tr>\n",
       "    <tr>\n",
       "      <th>min</th>\n",
       "      <td>1.000000</td>\n",
       "      <td>29.990000</td>\n",
       "      <td>0.000000</td>\n",
       "      <td>0.000000</td>\n",
       "      <td>0.000000</td>\n",
       "      <td>0.000000</td>\n",
       "      <td>0.000000</td>\n",
       "      <td>0.000000</td>\n",
       "      <td>0.000000</td>\n",
       "    </tr>\n",
       "    <tr>\n",
       "      <th>25%</th>\n",
       "      <td>2.000000</td>\n",
       "      <td>64.010000</td>\n",
       "      <td>0.000000</td>\n",
       "      <td>0.000000</td>\n",
       "      <td>0.000000</td>\n",
       "      <td>0.000000</td>\n",
       "      <td>0.000000</td>\n",
       "      <td>0.000000</td>\n",
       "      <td>0.000000</td>\n",
       "    </tr>\n",
       "    <tr>\n",
       "      <th>50%</th>\n",
       "      <td>6.000000</td>\n",
       "      <td>156.125000</td>\n",
       "      <td>1.000000</td>\n",
       "      <td>1.000000</td>\n",
       "      <td>1.000000</td>\n",
       "      <td>0.000000</td>\n",
       "      <td>0.000000</td>\n",
       "      <td>0.000000</td>\n",
       "      <td>0.000000</td>\n",
       "    </tr>\n",
       "    <tr>\n",
       "      <th>75%</th>\n",
       "      <td>9.000000</td>\n",
       "      <td>324.927500</td>\n",
       "      <td>1.000000</td>\n",
       "      <td>1.000000</td>\n",
       "      <td>1.000000</td>\n",
       "      <td>0.000000</td>\n",
       "      <td>0.000000</td>\n",
       "      <td>0.000000</td>\n",
       "      <td>1.000000</td>\n",
       "    </tr>\n",
       "    <tr>\n",
       "      <th>max</th>\n",
       "      <td>12.000000</td>\n",
       "      <td>3215.970000</td>\n",
       "      <td>1.000000</td>\n",
       "      <td>1.000000</td>\n",
       "      <td>1.000000</td>\n",
       "      <td>1.000000</td>\n",
       "      <td>1.000000</td>\n",
       "      <td>499.000000</td>\n",
       "      <td>1.000000</td>\n",
       "    </tr>\n",
       "  </tbody>\n",
       "</table>\n",
       "</div>"
      ],
      "text/plain": [
       "            recency       history          mens        womens        newbie  \\\n",
       "count  21306.000000  21306.000000  21306.000000  21306.000000  21306.000000   \n",
       "mean       5.783958    241.820497      0.550690      0.549188      0.502347   \n",
       "std        3.518513    258.443012      0.497436      0.497586      0.500006   \n",
       "min        1.000000     29.990000      0.000000      0.000000      0.000000   \n",
       "25%        2.000000     64.010000      0.000000      0.000000      0.000000   \n",
       "50%        6.000000    156.125000      1.000000      1.000000      1.000000   \n",
       "75%        9.000000    324.927500      1.000000      1.000000      1.000000   \n",
       "max       12.000000   3215.970000      1.000000      1.000000      1.000000   \n",
       "\n",
       "              visit    conversion         spend     treatment  \n",
       "count  21306.000000  21306.000000  21306.000000  21306.000000  \n",
       "mean       0.145593      0.009152      1.098233      0.483291  \n",
       "std        0.352706      0.095231     15.986469      0.499732  \n",
       "min        0.000000      0.000000      0.000000      0.000000  \n",
       "25%        0.000000      0.000000      0.000000      0.000000  \n",
       "50%        0.000000      0.000000      0.000000      0.000000  \n",
       "75%        0.000000      0.000000      0.000000      1.000000  \n",
       "max        1.000000      1.000000    499.000000      1.000000  "
      ]
     },
     "execution_count": 52,
     "metadata": {},
     "output_type": "execute_result"
    }
   ],
   "source": [
    "def bias(s):\n",
    "  loyal = s['history'] > 300 or s['recency'] < 3 or s['channel'] == 'Multichannel'\n",
    "  if (s['treatment'] == 1 and not loyal) or (s['treatment'] == 0 and loyal):\n",
    "    return 0.5\n",
    "  else:\n",
    "    return 1.0\n",
    "\n",
    "biased_data = male_df.sample(frac=0.5, weights=male_df.apply(bias, axis=1), random_state=42)\n",
    "biased_data.info()\n",
    "biased_data.describe()"
   ]
  },
  {
   "cell_type": "code",
   "execution_count": 53,
   "metadata": {},
   "outputs": [],
   "source": [
    "## OLSをstatsmodels apiで実行\n",
    "y, X = dmatrices('spend ~ treatment + history', data = biased_data, return_type='dataframe')\n",
    "model = sm.OLS(y, X)\n",
    "res = model.fit()"
   ]
  },
  {
   "cell_type": "code",
   "execution_count": 54,
   "metadata": {},
   "outputs": [
    {
     "name": "stdout",
     "output_type": "stream",
     "text": [
      "                            OLS Regression Results                            \n",
      "==============================================================================\n",
      "Dep. Variable:                  spend   R-squared:                       0.001\n",
      "Model:                            OLS   Adj. R-squared:                  0.001\n",
      "Method:                 Least Squares   F-statistic:                     10.35\n",
      "Date:                Wed, 22 Apr 2020   Prob (F-statistic):           3.21e-05\n",
      "Time:                        18:23:10   Log-Likelihood:                -89276.\n",
      "No. Observations:               21306   AIC:                         1.786e+05\n",
      "Df Residuals:                   21303   BIC:                         1.786e+05\n",
      "Df Model:                           2                                         \n",
      "Covariance Type:            nonrobust                                         \n",
      "==============================================================================\n",
      "                 coef    std err          t      P>|t|      [0.025      0.975]\n",
      "------------------------------------------------------------------------------\n",
      "Intercept      0.4921      0.176      2.792      0.005       0.147       0.838\n",
      "treatment      0.8483      0.221      3.836      0.000       0.415       1.282\n",
      "history        0.0008      0.000      1.897      0.058    -2.7e-05       0.002\n",
      "==============================================================================\n",
      "Omnibus:                    47135.537   Durbin-Watson:                   2.005\n",
      "Prob(Omnibus):                  0.000   Jarque-Bera (JB):        224475862.951\n",
      "Skew:                          20.703   Prob(JB):                         0.00\n",
      "Kurtosis:                     504.144   Cond. No.                         807.\n",
      "==============================================================================\n",
      "\n",
      "Warnings:\n",
      "[1] Standard Errors assume that the covariance matrix of the errors is correctly specified.\n"
     ]
    }
   ],
   "source": [
    "summary = res.summary()\n",
    "print(summary)"
   ]
  },
  {
   "cell_type": "markdown",
   "metadata": {},
   "source": [
    "### REMARKS\n",
    "- Rの実行結果と異なる理由は、biased_data作成がランダムサンプルのため"
   ]
  },
  {
   "cell_type": "code",
   "execution_count": 55,
   "metadata": {},
   "outputs": [
    {
     "name": "stdout",
     "output_type": "stream",
     "text": [
      "<class 'statsmodels.iolib.table.SimpleTable'>\n",
      "==============================================================================\n",
      "                 coef    std err          t      P>|t|      [0.025      0.975]\n",
      "------------------------------------------------------------------------------\n",
      "Intercept      0.4921      0.176      2.792      0.005       0.147       0.838\n",
      "treatment      0.8483      0.221      3.836      0.000       0.415       1.282\n",
      "history        0.0008      0.000      1.897      0.058    -2.7e-05       0.002\n",
      "==============================================================================\n"
     ]
    }
   ],
   "source": [
    "## 推定されたパラメーターを取り出す\n",
    "coef = summary.tables[1]\n",
    "print(type(coef))\n",
    "print(coef)"
   ]
  },
  {
   "cell_type": "markdown",
   "metadata": {},
   "source": [
    "なおパラメータのみを取り出したいときは"
   ]
  },
  {
   "cell_type": "code",
   "execution_count": 56,
   "metadata": {},
   "outputs": [
    {
     "name": "stdout",
     "output_type": "stream",
     "text": [
      "Intercept    0.492055\n",
      "treatment    0.848338\n",
      "history      0.000811\n",
      "dtype: float64\n"
     ]
    }
   ],
   "source": [
    "print(res.params)"
   ]
  },
  {
   "cell_type": "markdown",
   "metadata": {},
   "source": [
    "residualも一応計算"
   ]
  },
  {
   "cell_type": "code",
   "execution_count": 57,
   "metadata": {},
   "outputs": [],
   "source": [
    "beta = res.params.values\n",
    "beta.shape = 3, 1\n",
    "beta.shape\n",
    "residual = y.values - X.values @ beta "
   ]
  },
  {
   "cell_type": "code",
   "execution_count": 58,
   "metadata": {},
   "outputs": [
    {
     "data": {
      "text/plain": [
       "(21306, 1)"
      ]
     },
     "execution_count": 58,
     "metadata": {},
     "output_type": "execute_result"
    }
   ],
   "source": [
    "residual.shape"
   ]
  },
  {
   "cell_type": "markdown",
   "metadata": {},
   "source": [
    "不均一分散かどうかplotで確認"
   ]
  },
  {
   "cell_type": "code",
   "execution_count": 59,
   "metadata": {},
   "outputs": [
    {
     "data": {
      "image/png": "[encoded data removed]",
      "text/plain": [
       "<Figure size 576x396 with 1 Axes>"
      ]
     },
     "metadata": {},
     "output_type": "display_data"
    }
   ],
   "source": [
    "plt.scatter(X['history'], residual);"
   ]
  },
  {
   "cell_type": "markdown",
   "metadata": {},
   "source": [
    "### 不均一分散の検定\n",
    "\n",
    "- ブルーシュ＝ペーガン検定\n",
    "- ホワイト検定\n",
    "\n",
    "#### ホワイト検定とブルーシュ＝ペーガン検定\n",
    "\n",
    "どちらもresidualsの自乗を説明変数に回帰させ、F testを実施する。\n",
    "\n",
    "- 1次の項のみ：ブルーシュ＝ペーガン検定\n",
    "- 2次の項も含む：ホワイト検定\n"
   ]
  },
  {
   "cell_type": "code",
   "execution_count": 60,
   "metadata": {},
   "outputs": [],
   "source": [
    "white_test = het_white(residual,  X)\n",
    "bp_test = het_breuschpagan(residual,  X)"
   ]
  },
  {
   "cell_type": "code",
   "execution_count": 61,
   "metadata": {},
   "outputs": [
    {
     "data": {
      "text/html": [
       "<div>\n",
       "<style scoped>\n",
       "    .dataframe tbody tr th:only-of-type {\n",
       "        vertical-align: middle;\n",
       "    }\n",
       "\n",
       "    .dataframe tbody tr th {\n",
       "        vertical-align: top;\n",
       "    }\n",
       "\n",
       "    .dataframe thead th {\n",
       "        text-align: right;\n",
       "    }\n",
       "</style>\n",
       "<table border=\"1\" class=\"dataframe\">\n",
       "  <thead>\n",
       "    <tr style=\"text-align: right;\">\n",
       "      <th></th>\n",
       "      <th>bq test</th>\n",
       "      <th>white test</th>\n",
       "    </tr>\n",
       "  </thead>\n",
       "  <tbody>\n",
       "    <tr>\n",
       "      <th>LM Statistic</th>\n",
       "      <td>9.664875</td>\n",
       "      <td>10.198808</td>\n",
       "    </tr>\n",
       "    <tr>\n",
       "      <th>LM-Test p-value</th>\n",
       "      <td>0.007967</td>\n",
       "      <td>0.037209</td>\n",
       "    </tr>\n",
       "    <tr>\n",
       "      <th>F-Statistic</th>\n",
       "      <td>4.833950</td>\n",
       "      <td>2.550324</td>\n",
       "    </tr>\n",
       "    <tr>\n",
       "      <th>F-Test p-value</th>\n",
       "      <td>0.007964</td>\n",
       "      <td>0.037201</td>\n",
       "    </tr>\n",
       "  </tbody>\n",
       "</table>\n",
       "</div>"
      ],
      "text/plain": [
       "                  bq test  white test\n",
       "LM Statistic     9.664875   10.198808\n",
       "LM-Test p-value  0.007967    0.037209\n",
       "F-Statistic      4.833950    2.550324\n",
       "F-Test p-value   0.007964    0.037201"
      ]
     },
     "execution_count": 61,
     "metadata": {},
     "output_type": "execute_result"
    }
   ],
   "source": [
    "labels = ['LM Statistic', 'LM-Test p-value', 'F-Statistic', 'F-Test p-value']\n",
    "df1 = pd.DataFrame(dict(zip(labels, bp_test)).values(), \n",
    "                   index = dict(zip(labels, bp_test)).keys(),\n",
    "                   columns = ['bq test'])\n",
    "\n",
    "df2 = pd.DataFrame(dict(zip(labels, white_test)).values(), \n",
    "                   index = dict(zip(labels, bp_test)).keys(),\n",
    "                   columns = ['white test'])\n",
    "\n",
    "pd.concat([df1, df2], axis = 1)"
   ]
  },
  {
   "cell_type": "markdown",
   "metadata": {},
   "source": [
    "不均一分散が存在すると解釈できる。なのでOLSを用いるときはWhiteのheteroskedasticity-robust standard errorを用いてregressionを実施すべきと解釈できる。"
   ]
  },
  {
   "cell_type": "markdown",
   "metadata": {},
   "source": [
    "### heteroskedasticity robust standard errors"
   ]
  },
  {
   "cell_type": "markdown",
   "metadata": {},
   "source": [
    "`fit()`methodを呼ぶときに`cov_type`をしてするだけで良い"
   ]
  },
  {
   "cell_type": "code",
   "execution_count": 62,
   "metadata": {},
   "outputs": [
    {
     "name": "stdout",
     "output_type": "stream",
     "text": [
      "                            OLS Regression Results                            \n",
      "==============================================================================\n",
      "Dep. Variable:                  spend   R-squared:                       0.001\n",
      "Model:                            OLS   Adj. R-squared:                  0.001\n",
      "Method:                 Least Squares   F-statistic:                     9.477\n",
      "Date:                Wed, 22 Apr 2020   Prob (F-statistic):           7.69e-05\n",
      "Time:                        18:23:10   Log-Likelihood:                -89276.\n",
      "No. Observations:               21306   AIC:                         1.786e+05\n",
      "Df Residuals:                   21303   BIC:                         1.786e+05\n",
      "Df Model:                           2                                         \n",
      "Covariance Type:                  HC0                                         \n",
      "==============================================================================\n",
      "                 coef    std err          t      P>|t|      [0.025      0.975]\n",
      "------------------------------------------------------------------------------\n",
      "Intercept      0.4921      0.147      3.347      0.001       0.204       0.780\n",
      "treatment      0.8483      0.222      3.823      0.000       0.413       1.283\n",
      "history        0.0008      0.000      1.899      0.058    -2.6e-05       0.002\n",
      "==============================================================================\n",
      "Omnibus:                    47135.537   Durbin-Watson:                   2.005\n",
      "Prob(Omnibus):                  0.000   Jarque-Bera (JB):        224475862.951\n",
      "Skew:                          20.703   Prob(JB):                         0.00\n",
      "Kurtosis:                     504.144   Cond. No.                         807.\n",
      "==============================================================================\n",
      "\n",
      "Warnings:\n",
      "[1] Standard Errors are heteroscedasticity robust (HC0)\n"
     ]
    }
   ],
   "source": [
    "res_white = model.fit(cov_type = 'HC0', use_t = True)\n",
    "summary = res_white.summary()\n",
    "print(summary)"
   ]
  },
  {
   "cell_type": "markdown",
   "metadata": {},
   "source": [
    "## 5. 回帰分析におけるバイアス"
   ]
  },
  {
   "cell_type": "code",
   "execution_count": 63,
   "metadata": {},
   "outputs": [
    {
     "data": {
      "text/html": [
       "<table class=\"simpletable\">\n",
       "<tr>\n",
       "      <td></td>         <th>coef</th>     <th>std err</th>      <th>t</th>      <th>P>|t|</th>  <th>[0.025</th>    <th>0.975]</th>  \n",
       "</tr>\n",
       "<tr>\n",
       "  <th>Intercept</th> <td>    0.6528</td> <td>    0.103</td> <td>    6.356</td> <td> 0.000</td> <td>    0.451</td> <td>    0.854</td>\n",
       "</tr>\n",
       "<tr>\n",
       "  <th>treatment</th> <td>    0.7698</td> <td>    0.145</td> <td>    5.300</td> <td> 0.000</td> <td>    0.485</td> <td>    1.055</td>\n",
       "</tr>\n",
       "</table>"
      ],
      "text/plain": [
       "<class 'statsmodels.iolib.table.SimpleTable'>"
      ]
     },
     "execution_count": 63,
     "metadata": {},
     "output_type": "execute_result"
    }
   ],
   "source": [
    "## RCTデータでの単回帰\n",
    "y, X = dmatrices('spend ~ treatment', data = male_df, return_type = 'dataframe')\n",
    "results_unbiased_1 = sm.OLS(y, X).fit()\n",
    "rct_reg_coef = results_unbiased_1.summary().tables[1]\n",
    "rct_reg_coef"
   ]
  },
  {
   "cell_type": "code",
   "execution_count": 64,
   "metadata": {},
   "outputs": [
    {
     "data": {
      "text/html": [
       "<table class=\"simpletable\">\n",
       "<tr>\n",
       "          <td></td>            <th>coef</th>     <th>std err</th>      <th>t</th>      <th>P>|t|</th>  <th>[0.025</th>    <th>0.975]</th>  \n",
       "</tr>\n",
       "<tr>\n",
       "  <th>Intercept</th>        <td>    0.4815</td> <td>    0.306</td> <td>    1.572</td> <td> 0.116</td> <td>   -0.119</td> <td>    1.082</td>\n",
       "</tr>\n",
       "<tr>\n",
       "  <th>channel[T.Phone]</th> <td>    0.1361</td> <td>    0.256</td> <td>    0.533</td> <td> 0.594</td> <td>   -0.365</td> <td>    0.637</td>\n",
       "</tr>\n",
       "<tr>\n",
       "  <th>channel[T.Web]</th>   <td>    0.3068</td> <td>    0.255</td> <td>    1.203</td> <td> 0.229</td> <td>   -0.193</td> <td>    0.807</td>\n",
       "</tr>\n",
       "<tr>\n",
       "  <th>treatment</th>        <td>    0.7677</td> <td>    0.145</td> <td>    5.287</td> <td> 0.000</td> <td>    0.483</td> <td>    1.052</td>\n",
       "</tr>\n",
       "<tr>\n",
       "  <th>recency</th>          <td>   -0.0525</td> <td>    0.021</td> <td>   -2.459</td> <td> 0.014</td> <td>   -0.094</td> <td>   -0.011</td>\n",
       "</tr>\n",
       "<tr>\n",
       "  <th>history</th>          <td>    0.0012</td> <td>    0.000</td> <td>    3.641</td> <td> 0.000</td> <td>    0.001</td> <td>    0.002</td>\n",
       "</tr>\n",
       "</table>"
      ],
      "text/plain": [
       "<class 'statsmodels.iolib.table.SimpleTable'>"
      ]
     },
     "execution_count": 64,
     "metadata": {},
     "output_type": "execute_result"
    }
   ],
   "source": [
    "y, X = dmatrices('spend ~ treatment + recency + channel + history', data = male_df, return_type = 'dataframe')\n",
    "results_unbiased_2 = sm.OLS(y, X).fit()\n",
    "biased_reg_coef = results_unbiased_2.summary().tables[1]\n",
    "biased_reg_coef"
   ]
  },
  {
   "cell_type": "code",
   "execution_count": 65,
   "metadata": {},
   "outputs": [
    {
     "data": {
      "text/html": [
       "<table class=\"simpletable\">\n",
       "<tr>\n",
       "      <td></td>         <th>coef</th>     <th>std err</th>      <th>t</th>      <th>P>|t|</th>  <th>[0.025</th>    <th>0.975]</th>  \n",
       "</tr>\n",
       "<tr>\n",
       "  <th>Intercept</th> <td>    0.6604</td> <td>    0.152</td> <td>    4.336</td> <td> 0.000</td> <td>    0.362</td> <td>    0.959</td>\n",
       "</tr>\n",
       "<tr>\n",
       "  <th>treatment</th> <td>    0.9060</td> <td>    0.219</td> <td>    4.135</td> <td> 0.000</td> <td>    0.477</td> <td>    1.335</td>\n",
       "</tr>\n",
       "</table>"
      ],
      "text/plain": [
       "<class 'statsmodels.iolib.table.SimpleTable'>"
      ]
     },
     "execution_count": 65,
     "metadata": {},
     "output_type": "execute_result"
    }
   ],
   "source": [
    "## バイアスのあるデータでの単回帰\n",
    "y, X = dmatrices('spend ~ treatment', data = biased_data, return_type = 'dataframe')\n",
    "results_biased_1 = sm.OLS(y, X).fit()\n",
    "rct_reg_coef = results_biased_1.summary().tables[1]\n",
    "rct_reg_coef"
   ]
  },
  {
   "cell_type": "code",
   "execution_count": 66,
   "metadata": {},
   "outputs": [
    {
     "data": {
      "text/html": [
       "<table class=\"simpletable\">\n",
       "<tr>\n",
       "          <td></td>            <th>coef</th>     <th>std err</th>      <th>t</th>      <th>P>|t|</th>  <th>[0.025</th>    <th>0.975]</th>  \n",
       "</tr>\n",
       "<tr>\n",
       "  <th>Intercept</th>        <td>    0.6927</td> <td>    0.469</td> <td>    1.477</td> <td> 0.140</td> <td>   -0.226</td> <td>    1.612</td>\n",
       "</tr>\n",
       "<tr>\n",
       "  <th>channel[T.Phone]</th> <td>   -0.0521</td> <td>    0.386</td> <td>   -0.135</td> <td> 0.893</td> <td>   -0.809</td> <td>    0.705</td>\n",
       "</tr>\n",
       "<tr>\n",
       "  <th>channel[T.Web]</th>   <td>    0.2999</td> <td>    0.386</td> <td>    0.777</td> <td> 0.437</td> <td>   -0.456</td> <td>    1.056</td>\n",
       "</tr>\n",
       "<tr>\n",
       "  <th>treatment</th>        <td>    0.8181</td> <td>    0.222</td> <td>    3.680</td> <td> 0.000</td> <td>    0.382</td> <td>    1.254</td>\n",
       "</tr>\n",
       "<tr>\n",
       "  <th>recency</th>          <td>   -0.0480</td> <td>    0.032</td> <td>   -1.489</td> <td> 0.136</td> <td>   -0.111</td> <td>    0.015</td>\n",
       "</tr>\n",
       "<tr>\n",
       "  <th>history</th>          <td>    0.0007</td> <td>    0.000</td> <td>    1.526</td> <td> 0.127</td> <td>   -0.000</td> <td>    0.002</td>\n",
       "</tr>\n",
       "</table>"
      ],
      "text/plain": [
       "<class 'statsmodels.iolib.table.SimpleTable'>"
      ]
     },
     "execution_count": 66,
     "metadata": {},
     "output_type": "execute_result"
    }
   ],
   "source": [
    "## バイアスのあるデータでの重回帰\n",
    "y, X = dmatrices('spend ~ treatment + recency + channel + history', data = biased_data, return_type = 'dataframe')\n",
    "results_biased_2 = sm.OLS(y, X).fit()\n",
    "biased_reg_coef = results_biased_2.summary().tables[1]\n",
    "biased_reg_coef"
   ]
  },
  {
   "cell_type": "markdown",
   "metadata": {},
   "source": [
    "まとめて表示"
   ]
  },
  {
   "cell_type": "code",
   "execution_count": 68,
   "metadata": {},
   "outputs": [
    {
     "name": "stdout",
     "output_type": "stream",
     "text": [
      "                         Table  - OVB mail marketing\n",
      "==============================================================================\n",
      "                 Unbiased Model Unbiased Model 2 Biased Model 1 Biased Model 2\n",
      "------------------------------------------------------------------------------\n",
      "Intercept        0.653***       0.482            0.660***       0.693         \n",
      "                 (0.103)        (0.306)          (0.152)        (0.469)       \n",
      "treatment        0.770***       0.768***         0.906***       0.818***      \n",
      "                 (0.145)        (0.145)          (0.219)        (0.222)       \n",
      "channel[T.Phone]                0.136                           -0.052        \n",
      "                                (0.256)                         (0.386)       \n",
      "channel[T.Web]                  0.307                           0.300         \n",
      "                                (0.255)                         (0.386)       \n",
      "recency                         -0.053**                        -0.048        \n",
      "                                (0.021)                         (0.032)       \n",
      "history                         0.001***                        0.001         \n",
      "                                (0.000)                         (0.000)       \n",
      "R-squared        0.001          0.001            0.001          0.001         \n",
      "                 0.001          0.001            0.001          0.001         \n",
      "Pseudo R-squared                                                              \n",
      "No. observations 42613          42613            21306          21306         \n",
      "==============================================================================\n",
      "Standard errors in parentheses.\n",
      "* p<.1, ** p<.05, ***p<.01\n"
     ]
    }
   ],
   "source": [
    "results = [results_unbiased_1, results_unbiased_2, results_biased_1, results_biased_2]\n",
    "reg_names = ['Unbiased Model', 'Unbiased Model 2', 'Biased Model 1', 'Biased Model 2']\n",
    "info_dict = {'Pseudo R-squared': lambda x: f\"{x.prsquared:.2f}\",\n",
    "             'No. observations': lambda x: f\"{int(x.nobs):d}\"}\n",
    "regressor_order = ['Intercept',\n",
    "                   'treatment',\n",
    "                   'channel[T.Phone]',\n",
    "                   'channel[T.Web]',\n",
    "                   'recency',\n",
    "                   'history']\n",
    "\n",
    "results_table = summary_col(results=results,\n",
    "                            float_format='%0.3f',\n",
    "                            stars=True,\n",
    "                            model_names=reg_names,\n",
    "                            info_dict=info_dict,\n",
    "                            regressor_order=regressor_order)\n",
    "results_table.add_title('Table  - OVB mail marketing')\n",
    "print(results_table)"
   ]
  },
  {
   "cell_type": "markdown",
   "metadata": {},
   "source": [
    "### REMARKS\n",
    "\n",
    "dmatricesはカテゴリ変数のダミー変数化も勝手にやってくれる\n"
   ]
  },
  {
   "cell_type": "markdown",
   "metadata": {},
   "source": [
    "## 6. Omitted Variables Bias\n",
    "\n",
    "OVBをsimulation dataで確かめてみる。モデルは以下\n",
    "\n",
    "$$\n",
    "y_i = \\beta_0 + \\beta_1 x_{i1} + \\beta_2 x_{i2} + \\epsilon_i\n",
    "$$\n",
    "\n",
    "$(\\beta_0, \\beta_1, \\beta_2) = (1, 2, 1)$とする。また、$(x_1, x_2)$はi.i.d sampleで分布は以下のように設定する\n",
    "\n",
    "$$\n",
    "\\left(\\begin{array}{c}x_1\\\\x_2\\end{array}\\right) \\sim N \\left(\n",
    "\\left(\\begin{array}{c}3\\\\4\\end{array}\\right) , \\left(\\begin{array}{cc}2&1\\\\1&2\\end{array}\\right) \n",
    "\\right)\n",
    "$$\n",
    "\n",
    "$\\epsilon_i$もi.i.d from $N(0, 1)$とする。sample size = 200, 試行回数500で$\\hat\\beta_{1ols}$と$\\hat\\beta_{1ovb}$の分布を確かめる。"
   ]
  },
  {
   "cell_type": "code",
   "execution_count": 69,
   "metadata": {},
   "outputs": [],
   "source": [
    "def generate_data():\n",
    "    cov_matrix = np.array([[2, 1], [1, 2]])\n",
    "    mu = np.array([3, 4])\n",
    "    N = 200\n",
    "    beta = np.array([2., 1.], dtype = np.float)\n",
    "    \n",
    "    X = np.random.default_rng().multivariate_normal(mean = mu,\n",
    "                                                    cov = cov_matrix, size = N, \n",
    "                                                    method = 'cholesky')\n",
    "    error = np.random.normal(0, 1, N)\n",
    "    y = X @ beta + error + 1\n",
    "    \n",
    "    return X, y\n",
    "\n",
    "def reg_ols(y, X):\n",
    "    X = sm.add_constant(X)\n",
    "    reg_ols = sm.OLS(y, X).fit()\n",
    "    reg_ovb = sm.OLS(y, X[:, :-1]).fit()\n",
    "    beta_ols = reg_ols.params[1]\n",
    "    beta_ovb = reg_ovb.params[1]\n",
    "    \n",
    "    return beta_ols, beta_ovb\n",
    "\n",
    "def simulation(trial = 500):\n",
    "    ols = []\n",
    "    ovb = []\n",
    "    \n",
    "    for i in range(trial):\n",
    "        X_1, y_1 = generate_data()\n",
    "        beta_ols, beta_ovb = reg_ols(y = y_1, X = X_1)\n",
    "        ols.append(beta_ols)\n",
    "        ovb.append(beta_ovb)\n",
    "        \n",
    "    return ols, ovb\n",
    "    \n",
    "    "
   ]
  },
  {
   "cell_type": "code",
   "execution_count": 70,
   "metadata": {},
   "outputs": [],
   "source": [
    "beta_ols, beta_ovb = simulation(1000)"
   ]
  },
  {
   "cell_type": "code",
   "execution_count": 71,
   "metadata": {},
   "outputs": [
    {
     "data": {
      "image/png": "[encoded data removed]",
      "text/plain": [
       "<Figure size 576x396 with 1 Axes>"
      ]
     },
     "metadata": {},
     "output_type": "display_data"
    }
   ],
   "source": [
    "sns.distplot(beta_ols, color=\"#1f77b4\",\n",
    "             label = 'OLS true model: mean = {}'.format(round(np.mean(beta_ols), 2)))\n",
    "sns.distplot(beta_ovb, color=\"r\",\n",
    "             label = 'OVB model : mean = {}'.format(round(np.mean(beta_ovb), 2)))\n",
    "plt.legend();"
   ]
  },
  {
   "cell_type": "markdown",
   "metadata": {},
   "source": [
    "## 7. Bad Control: Post Treatment Bias\n",
    "\n",
    "\n"
   ]
  }
 ],
 "metadata": {
  "kernelspec": {
   "display_name": "Python 3",
   "language": "python",
   "name": "python3"
  },
  "language_info": {
   "codemirror_mode": {
    "name": "ipython",
    "version": 3
   },
   "file_extension": ".py",
   "mimetype": "text/x-python",
   "name": "python",
   "nbconvert_exporter": "python",
   "pygments_lexer": "ipython3",
   "version": "3.7.4"
  }
 },
 "nbformat": 4,
 "nbformat_minor": 4
}
