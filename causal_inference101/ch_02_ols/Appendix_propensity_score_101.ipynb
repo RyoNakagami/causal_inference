{
 "cells": [
  {
   "cell_type": "markdown",
   "metadata": {},
   "source": [
    "# Matching estimators of causal effects\n",
    "## Agenda\n",
    "\n",
    "- matching as conditioning via stratification\n",
    "- matching as weighting\n",
    "- matching as data analysis algorithm"
   ]
  },
  {
   "cell_type": "markdown",
   "metadata": {},
   "source": [
    "## Hardware"
   ]
  },
  {
   "cell_type": "code",
   "execution_count": 1,
   "metadata": {},
   "outputs": [
    {
     "name": "stdout",
     "output_type": "stream",
     "text": [
      "      Model Identifier: MacBookPro13,1\n",
      "      Processor Name: Dual-Core Intel Core i5\n",
      "      Processor Speed: 2 GHz\n",
      "      Number of Processors: 1\n",
      "      Memory: 16 GB\n"
     ]
    }
   ],
   "source": [
    "%%bash\n",
    "system_profiler SPHardwareDataType | grep -E \\\n",
    "\"Model Identifier\"\\|\"Processor Name\"\\|\"Processor Speed\"\\\n",
    "\\|\"Number of Processors\"\\|\"Memory:\""
   ]
  },
  {
   "cell_type": "markdown",
   "metadata": {},
   "source": [
    "### Python"
   ]
  },
  {
   "cell_type": "code",
   "execution_count": 2,
   "metadata": {},
   "outputs": [
    {
     "name": "stdout",
     "output_type": "stream",
     "text": [
      "Python 3.7.4\n"
     ]
    }
   ],
   "source": [
    "!python3 -V"
   ]
  },
  {
   "cell_type": "markdown",
   "metadata": {},
   "source": [
    "### IMPORT"
   ]
  },
  {
   "cell_type": "code",
   "execution_count": 3,
   "metadata": {},
   "outputs": [],
   "source": [
    "import statsmodels.formula.api as smf\n",
    "import seaborn as sns\n",
    "import pandas as pd\n",
    "import numpy as np\n",
    "import matplotlib.pyplot as plt\n",
    "from collections import OrderedDict"
   ]
  },
  {
   "cell_type": "markdown",
   "metadata": {},
   "source": [
    "## 1. Matching as conditioning via stratification\n",
    "\n",
    "- $Y$: observed outcome\n",
    "- $(Y_1, Y_0)$: potential outcomes\n",
    "- $D$: treatment status\n",
    "- X: covariates\n",
    "\n",
    "Conditional independence assumptionが成立していると仮定する：\n",
    "\n",
    "$$\n",
    "(Y_0, Y_1) \\perp D|X\n",
    "$$\n",
    " \n",
    "つまり\n",
    "\n",
    "$$\n",
    "\\begin{aligned}\n",
    "E[Y_1|D = 1, X] &= E[Y_1|D = 0, X]\\\\\n",
    "E[Y_0|D = 1, X] &= E[Y_0|D = 0, X]\n",
    "\\end{aligned}\n",
    "$$\n"
   ]
  },
  {
   "cell_type": "markdown",
   "metadata": {},
   "source": [
    "### simulation datasetの作成"
   ]
  },
  {
   "cell_type": "code",
   "execution_count": 4,
   "metadata": {},
   "outputs": [],
   "source": [
    "def generate_matching_data(sample_size):\n",
    "    \n",
    "    def set_potential_outcome(x):\n",
    "        noise = np.random.normal(loc = 0, scale = 1, size = 2)\n",
    "        if x == 1:\n",
    "            y_1, y_0 = 4, 2\n",
    "        elif x == 2:\n",
    "            y_1, y_0 = 8, 5\n",
    "        elif x == 3:\n",
    "            y_1, y_0 = 14, 10\n",
    "        else:\n",
    "            raise AssertionError('X is wrong')\n",
    "        \n",
    "        y_1 += noise[0]\n",
    "        y_0 += noise[1]\n",
    "        \n",
    "        return y_1, y_0\n",
    "    \n",
    "    col_info = dict()\n",
    "    col_info['Y'] = np.float\n",
    "    col_info['D'] = np.int\n",
    "    col_info['X'] = np.int\n",
    "    col_info['Y_1'] = np.float\n",
    "    col_info['Y_0'] = np.float\n",
    "    \n",
    "    df = pd.DataFrame(columns = col_info.keys())\n",
    "    \n",
    "    for i in range(sample_size):\n",
    "        u = np.random.uniform()\n",
    "        if u < 0.36:\n",
    "            x, d = 1, 0\n",
    "        elif 0.36 <= u < 0.48:\n",
    "            x, d = 2, 0\n",
    "        elif 0.48 <= u < 0.60:\n",
    "            x, d = 3, 0\n",
    "        elif 0.60 <= u < 0.68:\n",
    "            x, d = 1, 1\n",
    "        elif 0.68 <= u < 0.80:\n",
    "            x, d = 2, 1\n",
    "        else:\n",
    "            x, d = 3, 1\n",
    "        \n",
    "        y_1, y_0 = set_potential_outcome(x)\n",
    "        y = d * y_1 + (1 - d)*y_0\n",
    "        \n",
    "        df.loc[i] = y, d, x, y_1, y_0\n",
    "    \n",
    "    df = df.astype(col_info)\n",
    "    \n",
    "    return df"
   ]
  },
  {
   "cell_type": "code",
   "execution_count": 5,
   "metadata": {},
   "outputs": [
    {
     "data": {
      "text/html": [
       "<div>\n",
       "<style scoped>\n",
       "    .dataframe tbody tr th:only-of-type {\n",
       "        vertical-align: middle;\n",
       "    }\n",
       "\n",
       "    .dataframe tbody tr th {\n",
       "        vertical-align: top;\n",
       "    }\n",
       "\n",
       "    .dataframe thead th {\n",
       "        text-align: right;\n",
       "    }\n",
       "</style>\n",
       "<table border=\"1\" class=\"dataframe\">\n",
       "  <thead>\n",
       "    <tr style=\"text-align: right;\">\n",
       "      <th></th>\n",
       "      <th>Y</th>\n",
       "      <th>D</th>\n",
       "      <th>X</th>\n",
       "      <th>Y_1</th>\n",
       "      <th>Y_0</th>\n",
       "    </tr>\n",
       "  </thead>\n",
       "  <tbody>\n",
       "    <tr>\n",
       "      <th>0</th>\n",
       "      <td>2.212647</td>\n",
       "      <td>0</td>\n",
       "      <td>1</td>\n",
       "      <td>4.270745</td>\n",
       "      <td>2.212647</td>\n",
       "    </tr>\n",
       "    <tr>\n",
       "      <th>1</th>\n",
       "      <td>15.395109</td>\n",
       "      <td>1</td>\n",
       "      <td>3</td>\n",
       "      <td>15.395109</td>\n",
       "      <td>11.554847</td>\n",
       "    </tr>\n",
       "    <tr>\n",
       "      <th>2</th>\n",
       "      <td>1.776871</td>\n",
       "      <td>0</td>\n",
       "      <td>1</td>\n",
       "      <td>5.125978</td>\n",
       "      <td>1.776871</td>\n",
       "    </tr>\n",
       "    <tr>\n",
       "      <th>3</th>\n",
       "      <td>3.520867</td>\n",
       "      <td>0</td>\n",
       "      <td>1</td>\n",
       "      <td>3.460276</td>\n",
       "      <td>3.520867</td>\n",
       "    </tr>\n",
       "    <tr>\n",
       "      <th>4</th>\n",
       "      <td>8.995658</td>\n",
       "      <td>0</td>\n",
       "      <td>3</td>\n",
       "      <td>14.190106</td>\n",
       "      <td>8.995658</td>\n",
       "    </tr>\n",
       "  </tbody>\n",
       "</table>\n",
       "</div>"
      ],
      "text/plain": [
       "           Y  D  X        Y_1        Y_0\n",
       "0   2.212647  0  1   4.270745   2.212647\n",
       "1  15.395109  1  3  15.395109  11.554847\n",
       "2   1.776871  0  1   5.125978   1.776871\n",
       "3   3.520867  0  1   3.460276   3.520867\n",
       "4   8.995658  0  3  14.190106   8.995658"
      ]
     },
     "execution_count": 5,
     "metadata": {},
     "output_type": "execute_result"
    }
   ],
   "source": [
    "df = generate_matching_data(sample_size = 10000)\n",
    "df.head()"
   ]
  },
  {
   "cell_type": "markdown",
   "metadata": {},
   "source": [
    "### Sample Average treatment Effect"
   ]
  },
  {
   "cell_type": "code",
   "execution_count": 6,
   "metadata": {},
   "outputs": [
    {
     "data": {
      "text/plain": [
       "2.8857580040278035"
      ]
     },
     "execution_count": 6,
     "metadata": {},
     "output_type": "execute_result"
    }
   ],
   "source": [
    "SATE = np.mean(df['Y_1'] - df['Y_0'])\n",
    "SATE"
   ]
  },
  {
   "cell_type": "markdown",
   "metadata": {},
   "source": [
    "### Naive estimator"
   ]
  },
  {
   "cell_type": "code",
   "execution_count": 7,
   "metadata": {},
   "outputs": [
    {
     "name": "stdout",
     "output_type": "stream",
     "text": [
      "The naive estimate is 5.920\n"
     ]
    }
   ],
   "source": [
    "stat = df.loc[df['D'] == 1, 'Y'].mean() - df.loc[df['D'] == 0, 'Y'].mean()\n",
    "print('The naive estimate is {:5.3f}'.format(stat))"
   ]
  },
  {
   "cell_type": "markdown",
   "metadata": {},
   "source": [
    "### Distribution check"
   ]
  },
  {
   "cell_type": "code",
   "execution_count": 8,
   "metadata": {},
   "outputs": [
    {
     "data": {
      "text/html": [
       "<div>\n",
       "<style scoped>\n",
       "    .dataframe tbody tr th:only-of-type {\n",
       "        vertical-align: middle;\n",
       "    }\n",
       "\n",
       "    .dataframe tbody tr th {\n",
       "        vertical-align: top;\n",
       "    }\n",
       "\n",
       "    .dataframe thead th {\n",
       "        text-align: right;\n",
       "    }\n",
       "</style>\n",
       "<table border=\"1\" class=\"dataframe\">\n",
       "  <thead>\n",
       "    <tr style=\"text-align: right;\">\n",
       "      <th>X</th>\n",
       "      <th>1</th>\n",
       "      <th>2</th>\n",
       "      <th>3</th>\n",
       "      <th>cum_sum</th>\n",
       "    </tr>\n",
       "    <tr>\n",
       "      <th>D</th>\n",
       "      <th></th>\n",
       "      <th></th>\n",
       "      <th></th>\n",
       "      <th></th>\n",
       "    </tr>\n",
       "  </thead>\n",
       "  <tbody>\n",
       "    <tr>\n",
       "      <th>0</th>\n",
       "      <td>3617</td>\n",
       "      <td>1188</td>\n",
       "      <td>1224</td>\n",
       "      <td>6029</td>\n",
       "    </tr>\n",
       "    <tr>\n",
       "      <th>1</th>\n",
       "      <td>836</td>\n",
       "      <td>1157</td>\n",
       "      <td>1978</td>\n",
       "      <td>3971</td>\n",
       "    </tr>\n",
       "  </tbody>\n",
       "</table>\n",
       "</div>"
      ],
      "text/plain": [
       "X     1     2     3  cum_sum\n",
       "D                           \n",
       "0  3617  1188  1224     6029\n",
       "1   836  1157  1978     3971"
      ]
     },
     "execution_count": 8,
     "metadata": {},
     "output_type": "execute_result"
    }
   ],
   "source": [
    "pivot_df = pd.pivot_table(df, index = 'D', columns = 'X', aggfunc='size',\n",
    "                          fill_value=0)\n",
    "pivot_df['cum_sum'] = pivot_df.sum(axis = 1)\n",
    "pivot_df"
   ]
  },
  {
   "cell_type": "code",
   "execution_count": 9,
   "metadata": {},
   "outputs": [
    {
     "data": {
      "text/html": [
       "<div>\n",
       "<style scoped>\n",
       "    .dataframe tbody tr th:only-of-type {\n",
       "        vertical-align: middle;\n",
       "    }\n",
       "\n",
       "    .dataframe tbody tr th {\n",
       "        vertical-align: top;\n",
       "    }\n",
       "\n",
       "    .dataframe thead th {\n",
       "        text-align: right;\n",
       "    }\n",
       "</style>\n",
       "<table border=\"1\" class=\"dataframe\">\n",
       "  <thead>\n",
       "    <tr style=\"text-align: right;\">\n",
       "      <th>X</th>\n",
       "      <th>1</th>\n",
       "      <th>2</th>\n",
       "      <th>3</th>\n",
       "      <th>cum_sum</th>\n",
       "    </tr>\n",
       "    <tr>\n",
       "      <th>D</th>\n",
       "      <th></th>\n",
       "      <th></th>\n",
       "      <th></th>\n",
       "      <th></th>\n",
       "    </tr>\n",
       "  </thead>\n",
       "  <tbody>\n",
       "    <tr>\n",
       "      <th>0</th>\n",
       "      <td>0.599934</td>\n",
       "      <td>0.197048</td>\n",
       "      <td>0.203019</td>\n",
       "      <td>1.0</td>\n",
       "    </tr>\n",
       "    <tr>\n",
       "      <th>1</th>\n",
       "      <td>0.210526</td>\n",
       "      <td>0.291362</td>\n",
       "      <td>0.498111</td>\n",
       "      <td>1.0</td>\n",
       "    </tr>\n",
       "  </tbody>\n",
       "</table>\n",
       "</div>"
      ],
      "text/plain": [
       "X         1         2         3  cum_sum\n",
       "D                                       \n",
       "0  0.599934  0.197048  0.203019      1.0\n",
       "1  0.210526  0.291362  0.498111      1.0"
      ]
     },
     "execution_count": 9,
     "metadata": {},
     "output_type": "execute_result"
    }
   ],
   "source": [
    "pivot_df = pivot_df.div(pivot_df.iloc[:, -1], axis = 0)\n",
    "pivot_df"
   ]
  },
  {
   "cell_type": "markdown",
   "metadata": {},
   "source": [
    "treatment statusによってXの分布が異なることがわかる。"
   ]
  },
  {
   "cell_type": "code",
   "execution_count": 10,
   "metadata": {},
   "outputs": [
    {
     "data": {
      "image/png": "[encoded data removed]",
      "text/plain": [
       "<Figure size 1440x1080 with 1 Axes>"
      ]
     },
     "metadata": {
      "needs_background": "light"
     },
     "output_type": "display_data"
    }
   ],
   "source": [
    "plt.figure(figsize = (20, 15))\n",
    "df_sns = df.groupby('D')['X'].value_counts(normalize = True).rename('prop').reset_index()\n",
    "sns.barplot(x = 'X', y = 'prop', hue = 'D', data = df_sns)\n",
    "plt.legend(loc='upper right', fontsize=30)\n",
    "plt.title('Distribution of X conditional on D', fontsize = 30)\n",
    "plt.xlabel(\"X\", fontsize=30)\n",
    "plt.ylabel(\"Frequency\", fontsize=30);"
   ]
  },
  {
   "cell_type": "markdown",
   "metadata": {},
   "source": [
    "### Stratification"
   ]
  },
  {
   "cell_type": "code",
   "execution_count": 11,
   "metadata": {},
   "outputs": [
    {
     "data": {
      "text/plain": [
       "D  X\n",
       "0  1     2.005153\n",
       "   2     4.993019\n",
       "   3     9.990346\n",
       "1  1     3.976192\n",
       "   2     8.002779\n",
       "   3    13.984996\n",
       "Name: Y, dtype: float64"
      ]
     },
     "execution_count": 11,
     "metadata": {},
     "output_type": "execute_result"
    }
   ],
   "source": [
    "df.groupby(['D', 'X'])['Y'].mean()"
   ]
  },
  {
   "cell_type": "code",
   "execution_count": 12,
   "metadata": {},
   "outputs": [
    {
     "data": {
      "text/plain": [
       "X\n",
       "1    1.971039\n",
       "2    3.009759\n",
       "3    3.994650\n",
       "Name: Y, dtype: float64"
      ]
     },
     "execution_count": 12,
     "metadata": {},
     "output_type": "execute_result"
    }
   ],
   "source": [
    "stratified_df = df.groupby(['D', 'X'])['Y'].mean()\n",
    "stratified_df[1] - stratified_df[0]"
   ]
  },
  {
   "cell_type": "code",
   "execution_count": 13,
   "metadata": {},
   "outputs": [
    {
     "data": {
      "text/plain": [
       "X\n",
       "1    0.405230\n",
       "2    0.244205\n",
       "3    0.350565\n",
       "dtype: float64"
      ]
     },
     "execution_count": 13,
     "metadata": {},
     "output_type": "execute_result"
    }
   ],
   "source": [
    "total = pivot_df.iloc[:, :-1].sum(axis = 0)\n",
    "prop = total.div(total.sum())\n",
    "prop"
   ]
  },
  {
   "cell_type": "code",
   "execution_count": 14,
   "metadata": {},
   "outputs": [
    {
     "data": {
      "text/plain": [
       "2.9341070078020435"
      ]
     },
     "execution_count": 14,
     "metadata": {},
     "output_type": "execute_result"
    }
   ],
   "source": [
    "stratified_mean_diff = stratified_df[1] - stratified_df[0]\n",
    "stratified_ATE = np.sum(stratified_mean_diff * prop.values)\n",
    "stratified_ATE"
   ]
  },
  {
   "cell_type": "markdown",
   "metadata": {},
   "source": [
    "## 2. Matching using Propensity score"
   ]
  },
  {
   "cell_type": "markdown",
   "metadata": {},
   "source": [
    "### Simulation Data"
   ]
  },
  {
   "cell_type": "code",
   "execution_count": 15,
   "metadata": {},
   "outputs": [],
   "source": [
    "def get_propensity_score(a, b):\n",
    "    index = 0\n",
    "    index += -2.0 + 3.0 * a - 3.0 * (a - 0.1) + 2.0 * (a - 0.3)\n",
    "    index += -2.0 * (a - 0.5) + 4.0 * (a - 0.7) - 4.0 * (a - 0.9)\n",
    "    index += +1.0 * b - 1.0 * (b - 0.1) + 2.0 * (b - 0.7)\n",
    "    index += -2.0 * (b - 0.9)  + 3.0 * (a - 0.5) * (b - 0.5)\n",
    "    index += -3.0 * (a - 0.7) * (b - 0.7)\n",
    "    \n",
    "    prob = np.exp(index) / (1.0 + np.exp(index))\n",
    "    \n",
    "    return prob\n",
    "\n",
    "def get_potential_outcomes(a, b):\n",
    "    v_0, v_1 = np.random.normal(0, 5, size=2)\n",
    "    y_0 = 100.0 + 3.0 * a + 2.0 * b + v_0\n",
    "    y_1 = 102.0 + 6.0 * a + 4.0 * b + v_1\n",
    "    return [y_1, y_0]\n",
    "\n",
    "\n",
    "def generate_propensityscore_data(a_grid, b_grid):\n",
    "    sample = list()\n",
    "\n",
    "    counts = np.tile(np.nan, (3, 100, 100))\n",
    "    \n",
    "    for i, a in enumerate(a_grid):\n",
    "        for j, b in enumerate(b_grid):\n",
    "\n",
    "            prob = get_propensity_score(a, b)\n",
    "\n",
    "            # Now we determine the number of observed individuals\n",
    "            for k, is_treat in enumerate([True, False]):\n",
    "                if is_treat:\n",
    "                    lambda_ = prob\n",
    "                else:\n",
    "                    lambda_ = 1.0 - prob\n",
    "\n",
    "                num_sample = np.random.poisson(lambda_)\n",
    "                counts[k, i, j] = num_sample\n",
    "                \n",
    "                for _ in range(num_sample):\n",
    "                    d = np.random.choice([1, 0], p=[prob, 1 - prob])\n",
    "                    y_1, y_0 = get_potential_outcomes(a, b)\n",
    "                    y = d * y_1 + (1 - d) * y_0\n",
    "\n",
    "                    sample += [[a, b, d, y, y_1, y_0, prob]]\n",
    "            counts[2, i, j] = np.sum(counts[:2, i, j])\n",
    "            \n",
    "    df = pd.DataFrame(sample, columns=['a', 'b', 'd', 'y', 'y_1', 'y_0', 'p'])\n",
    "    return df, counts\n"
   ]
  },
  {
   "cell_type": "code",
   "execution_count": 16,
   "metadata": {},
   "outputs": [
    {
     "data": {
      "text/html": [
       "<div>\n",
       "<style scoped>\n",
       "    .dataframe tbody tr th:only-of-type {\n",
       "        vertical-align: middle;\n",
       "    }\n",
       "\n",
       "    .dataframe tbody tr th {\n",
       "        vertical-align: top;\n",
       "    }\n",
       "\n",
       "    .dataframe thead th {\n",
       "        text-align: right;\n",
       "    }\n",
       "</style>\n",
       "<table border=\"1\" class=\"dataframe\">\n",
       "  <thead>\n",
       "    <tr style=\"text-align: right;\">\n",
       "      <th></th>\n",
       "      <th>a</th>\n",
       "      <th>b</th>\n",
       "      <th>d</th>\n",
       "      <th>y</th>\n",
       "      <th>y_1</th>\n",
       "      <th>y_0</th>\n",
       "      <th>p</th>\n",
       "    </tr>\n",
       "  </thead>\n",
       "  <tbody>\n",
       "    <tr>\n",
       "      <th>0</th>\n",
       "      <td>0.01</td>\n",
       "      <td>0.01</td>\n",
       "      <td>0</td>\n",
       "      <td>104.275018</td>\n",
       "      <td>113.357801</td>\n",
       "      <td>104.275018</td>\n",
       "      <td>0.330041</td>\n",
       "    </tr>\n",
       "    <tr>\n",
       "      <th>1</th>\n",
       "      <td>0.01</td>\n",
       "      <td>0.05</td>\n",
       "      <td>0</td>\n",
       "      <td>105.271751</td>\n",
       "      <td>94.448048</td>\n",
       "      <td>105.271751</td>\n",
       "      <td>0.335369</td>\n",
       "    </tr>\n",
       "    <tr>\n",
       "      <th>2</th>\n",
       "      <td>0.01</td>\n",
       "      <td>0.07</td>\n",
       "      <td>1</td>\n",
       "      <td>98.222749</td>\n",
       "      <td>98.222749</td>\n",
       "      <td>103.381655</td>\n",
       "      <td>0.338049</td>\n",
       "    </tr>\n",
       "    <tr>\n",
       "      <th>3</th>\n",
       "      <td>0.01</td>\n",
       "      <td>0.07</td>\n",
       "      <td>0</td>\n",
       "      <td>99.416623</td>\n",
       "      <td>104.016972</td>\n",
       "      <td>99.416623</td>\n",
       "      <td>0.338049</td>\n",
       "    </tr>\n",
       "    <tr>\n",
       "      <th>4</th>\n",
       "      <td>0.01</td>\n",
       "      <td>0.08</td>\n",
       "      <td>1</td>\n",
       "      <td>101.139936</td>\n",
       "      <td>101.139936</td>\n",
       "      <td>101.992112</td>\n",
       "      <td>0.339393</td>\n",
       "    </tr>\n",
       "  </tbody>\n",
       "</table>\n",
       "</div>"
      ],
      "text/plain": [
       "      a     b  d           y         y_1         y_0         p\n",
       "0  0.01  0.01  0  104.275018  113.357801  104.275018  0.330041\n",
       "1  0.01  0.05  0  105.271751   94.448048  105.271751  0.335369\n",
       "2  0.01  0.07  1   98.222749   98.222749  103.381655  0.338049\n",
       "3  0.01  0.07  0   99.416623  104.016972   99.416623  0.338049\n",
       "4  0.01  0.08  1  101.139936  101.139936  101.992112  0.339393"
      ]
     },
     "execution_count": 16,
     "metadata": {},
     "output_type": "execute_result"
    }
   ],
   "source": [
    "a_grid = np.linspace(0.01, 1.00, 100)\n",
    "b_grid = np.linspace(0.01, 1.00, 100)\n",
    "\n",
    "df, counts = generate_propensityscore_data(a_grid, b_grid)\n",
    "df.head()"
   ]
  },
  {
   "cell_type": "markdown",
   "metadata": {},
   "source": [
    "### True Effect"
   ]
  },
  {
   "cell_type": "code",
   "execution_count": 17,
   "metadata": {},
   "outputs": [],
   "source": [
    "true_effects = list()\n",
    "true_effects += [(df['y_1'] - df['y_0'])[(df['d'] == 1)].mean()]\n",
    "true_effects += [(df['y_1'] - df['y_0'])[(df['d'] == 0)].mean()]\n",
    "true_effects += [(df['y_1'] - df['y_0']).mean()]"
   ]
  },
  {
   "cell_type": "code",
   "execution_count": 18,
   "metadata": {},
   "outputs": [
    {
     "name": "stdout",
     "output_type": "stream",
     "text": [
      "The true estimate of the average causal effect = 4.480\n",
      "The naive estimator = 4.808\n"
     ]
    }
   ],
   "source": [
    "print('The true estimate of the average causal effect = {:5.3f}'.format(true_effects[-1]))\n",
    "\n",
    "stat = df['y'][df['d'] == 1].mean() - df['y'][df['d'] == 0].mean()\n",
    "print('The naive estimator = {:5.3f}'.format(stat))"
   ]
  },
  {
   "cell_type": "markdown",
   "metadata": {},
   "source": [
    "### Propensity scoreの分布: common supportの可視化"
   ]
  },
  {
   "cell_type": "code",
   "execution_count": 19,
   "metadata": {},
   "outputs": [
    {
     "data": {
      "image/png": "[encoded data removed]",
      "text/plain": [
       "<Figure size 720x720 with 1 Axes>"
      ]
     },
     "metadata": {
      "needs_background": "light"
     },
     "output_type": "display_data"
    }
   ],
   "source": [
    "prob_untreated = df.loc[df['d'] == 0, 'p']\n",
    "prob_treated =  df.loc[df['d'] == 1, 'p']\n",
    "fig, ax = plt.subplots(1, 1, figsize = (10, 10))\n",
    "bins = np.linspace(0.01, 1.00, 100)\n",
    "ax.hist([prob_untreated, prob_treated], bins=bins, label=['control', 'treated'])\n",
    "ax.set_xlim([0, 1])\n",
    "ax.set_xlabel('Propensity score')\n",
    "ax.legend();"
   ]
  },
  {
   "cell_type": "markdown",
   "metadata": {},
   "source": [
    "### Propensity Score Estimator\n",
    "\n",
    "$$\n",
    "\\begin{aligned}\n",
    "\\hat{\\delta}_{\\text{ATT, weight}} &\\equiv \\left( \\frac{1}{n^1}\\sum_{i:d_i = 1} y_i\\right) - \\left(\\frac{\\sum_{i:d_i=0}\\hat{r}_i y_i}{\\sum_{i:d_i = 0} \\hat{r}_i}\\right)\\\\\n",
    "\\hat{\\delta}_{\\text{ATC, weight}} &\\equiv \n",
    "\\left(\n",
    "\\frac{\\sum_{i: d_i = 1}\\frac{y_i}{\\hat{r}_i}}{\\sum_{i: d_i = 1}\\frac{1}{\\hat{r}_i}}\n",
    "\\right)\n",
    "- \\left(\\frac{1}{n^0} \\sum_{i: d_i = 0} y_i\\right) \\\\\n",
    "\\hat{\\delta}_{\\text{ATE, weight}} &\\equiv \\left(\\frac{1}{n}\\sum_{i}d_i\\right) \\hat{\\delta}_{\\text{ATT, weight}} +  \\left(1 - \\frac{1}{n}\\sum_{i}d_i\\right) \\hat{\\delta}_{\\text{ATC, weight}}\n",
    "\\end{aligned}\n",
    "$$\n",
    "\n",
    "where\n",
    "$$\n",
    "\\begin{align*}\n",
    "r_i = \\frac{p_i}{1 - p_i}\n",
    "\\end{align*}\n",
    "$$"
   ]
  },
  {
   "cell_type": "code",
   "execution_count": 20,
   "metadata": {},
   "outputs": [
    {
     "name": "stdout",
     "output_type": "stream",
     "text": [
      "\n",
      "True\n",
      "estimated: ATT 4.577 ATC 4.312 ATE 4.437\n",
      "true:      ATT 4.581 ATC 4.390 ATE 4.480\n",
      "Optimization terminated successfully.\n",
      "         Current function value: 0.683946\n",
      "         Iterations 4\n",
      "\n",
      "Correct\n",
      "estimated: ATT 4.576 ATC 4.305 ATE 4.432\n",
      "true:      ATT 4.581 ATC 4.390 ATE 4.480\n",
      "Optimization terminated successfully.\n",
      "         Current function value: 0.683948\n",
      "         Iterations 4\n",
      "\n",
      "Misspecified\n",
      "estimated: ATT 4.575 ATC 4.307 ATE 4.433\n",
      "true:      ATT 4.581 ATC 4.390 ATE 4.480\n"
     ]
    }
   ],
   "source": [
    "def get_odds(p):\n",
    "    return p / (1 - p)\n",
    "\n",
    "def get_inv_odds(p):\n",
    "    return (1 - p) / p\n",
    "\n",
    "def get_att_weight(df, p):\n",
    "    \"\"\" Get weighted ATT.\n",
    "    \n",
    "    Calculates the weighted ATT basd on a provided\n",
    "    dataset and the propensity score.\n",
    "    \n",
    "    Args:\n",
    "        df: A dataframe with the observed data.\n",
    "        p: A numpy array with the weights.\n",
    "        \n",
    "    Returns:\n",
    "        A float which corresponds to the ATT.\n",
    "    \"\"\"\n",
    "    weights = get_odds(p)\n",
    "    \n",
    "    is_control = (df['d'] == 0)\n",
    "    is_treated = (df['d'] == 1)\n",
    "\n",
    "    value, weights = df['y'][is_control], weights[is_control]\n",
    "    att = df['y'][is_treated].mean() - np.average(value, weights=weights)\n",
    "    \n",
    "    return att\n",
    "    \n",
    "def get_atc_weight(df, p):\n",
    "    \"\"\" Get weighted ATC.\n",
    "    \n",
    "    Calculates the weighted ATC basd on a provided\n",
    "    dataset and the propensity score.\n",
    "    \n",
    "    Args:\n",
    "        df: A dataframe with the observed data.\n",
    "        p: A numpy array with the weights.\n",
    "        \n",
    "    Returns:\n",
    "        A float which corresponds to the ATC.\n",
    "    \"\"\"\n",
    "    weights = get_inv_odds(p)\n",
    "\n",
    "    is_control = (df['d'] == 0)\n",
    "    is_treated = (df['d'] == 1)\n",
    "\n",
    "    value, weights = df['y'][is_treated], weights[is_treated]\n",
    "    atc = np.average(value, weights=weights) - df['y'][is_control].mean()\n",
    "    \n",
    "    return atc\n",
    "\n",
    "def get_ate_weight(df, p):\n",
    "    \"\"\" Get weighted ATE.\n",
    "    \n",
    "    Calculates the weighted ATE basd on a provided\n",
    "    dataset and the propensity score.\n",
    "    \n",
    "    Args:\n",
    "        df: A dataframe with the observed data.\n",
    "        p: A numpy array with the weights.\n",
    "        \n",
    "    Returns:\n",
    "        A float which corresponds to the ATE.\n",
    "    \"\"\"\n",
    "    share_treated = df['d'].value_counts(normalize=True)[1]\n",
    "\n",
    "    atc = get_atc_weight(df, p)\n",
    "    att = get_att_weight(df, p)\n",
    "\n",
    "    return share_treated * att + (1.0 - share_treated) * atc\n",
    "\n",
    "def get_propensity_score(df, specification='true'):\n",
    "    assert specification in ['correct', 'misspecified', 'true']\n",
    "    if specification == 'true':\n",
    "        p = df['p']\n",
    "    elif specification == 'correct':\n",
    "        p = smf.logit(formula='d ~ a + b + a * b', data=df).fit().predict()\n",
    "    elif specification == 'misspecified':\n",
    "        p = smf.probit(formula='d ~ a + b', data=df).fit().predict()\n",
    "    \n",
    "    return p\n",
    "\n",
    "rslt = dict()\n",
    "for model in ['true', 'correct', 'misspecified']:\n",
    "    p = get_propensity_score(df, model)\n",
    "\n",
    "    rslt[model] = list()\n",
    "    rslt[model] += [get_att_weight(df, p)]\n",
    "    rslt[model] += [get_atc_weight(df, p)]\n",
    "    rslt[model] += [get_ate_weight(df, p)]\n",
    "    \n",
    "    print('')\n",
    "    print(model.capitalize())\n",
    "    print('estimated: ATT {:5.3f} ATC {:5.3f} ATE {:5.3f}'.format(*rslt[model]))\n",
    "    print('true:      ATT {:5.3f} ATC {:5.3f} ATE {:5.3f}'.format(*true_effects))"
   ]
  },
  {
   "cell_type": "code",
   "execution_count": null,
   "metadata": {},
   "outputs": [],
   "source": []
  },
  {
   "cell_type": "code",
   "execution_count": null,
   "metadata": {},
   "outputs": [],
   "source": []
  }
 ],
 "metadata": {
  "kernelspec": {
   "display_name": "Python 3",
   "language": "python",
   "name": "python3"
  },
  "language_info": {
   "codemirror_mode": {
    "name": "ipython",
    "version": 3
   },
   "file_extension": ".py",
   "mimetype": "text/x-python",
   "name": "python",
   "nbconvert_exporter": "python",
   "pygments_lexer": "ipython3",
   "version": "3.7.4"
  }
 },
 "nbformat": 4,
 "nbformat_minor": 4
}
