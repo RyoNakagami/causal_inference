{
 "cells": [
  {
   "cell_type": "markdown",
   "metadata": {},
   "source": [
    "# APPENDIX: 傾向スコアの使用にあたっての注意\n",
    "## Agenda\n",
    "\n",
    "- `Why Propensity Scores Should Not Be Used for Matching`のまとめ\n",
    "- 傾向スコアを基準にマッチング相手を枝刈り（prune）していくとモデル依存とインバランスの程度が大きくなってしまうことがわかる．\n",
    "\n",
    "### REMARKS\n",
    "\n",
    "- PSMは時折、バイアスを増長させたり、データセット間のimbalanceを増加させることがある\n",
    "- biasはPSMがblocked RCTではなく、RCTの状況を再現しようとするその方向性に起因する\n",
    "- [webinar](https://www.youtube.com/watch?v=rBv39pK1iEs)"
   ]
  },
  {
   "cell_type": "markdown",
   "metadata": {},
   "source": [
    "### Hardware"
   ]
  },
  {
   "cell_type": "code",
   "execution_count": 1,
   "metadata": {},
   "outputs": [
    {
     "name": "stdout",
     "output_type": "stream",
     "text": [
      "      Model Identifier: MacBookPro13,1\n",
      "      Processor Name: Dual-Core Intel Core i5\n",
      "      Processor Speed: 2 GHz\n",
      "      Number of Processors: 1\n",
      "      Memory: 16 GB\n"
     ]
    }
   ],
   "source": [
    "%%bash\n",
    "system_profiler SPHardwareDataType | grep -E \\\n",
    "\"Model Identifier\"\\|\"Processor Name\"\\|\"Processor Speed\"\\\n",
    "\\|\"Number of Processors\"\\|\"Memory:\""
   ]
  },
  {
   "cell_type": "code",
   "execution_count": 2,
   "metadata": {},
   "outputs": [
    {
     "name": "stdout",
     "output_type": "stream",
     "text": [
      "ProductName:\tMac OS X\n",
      "ProductVersion:\t10.15.4\n",
      "BuildVersion:\t19E287\n"
     ]
    }
   ],
   "source": [
    "!sw_vers"
   ]
  },
  {
   "cell_type": "markdown",
   "metadata": {},
   "source": [
    "### Python"
   ]
  },
  {
   "cell_type": "code",
   "execution_count": 3,
   "metadata": {},
   "outputs": [
    {
     "name": "stdout",
     "output_type": "stream",
     "text": [
      "Python 3.7.4\n"
     ]
    }
   ],
   "source": [
    "!python -V"
   ]
  },
  {
   "cell_type": "markdown",
   "metadata": {},
   "source": [
    "### Install packages"
   ]
  },
  {
   "cell_type": "code",
   "execution_count": 4,
   "metadata": {},
   "outputs": [],
   "source": [
    "pass"
   ]
  },
  {
   "cell_type": "markdown",
   "metadata": {},
   "source": [
    "### Import"
   ]
  },
  {
   "cell_type": "code",
   "execution_count": 5,
   "metadata": {},
   "outputs": [],
   "source": [
    "import numpy as np\n",
    "import pandas as pd\n",
    "import matplotlib.pyplot as plt\n",
    "import seaborn as sns\n",
    "\n",
    "import statsmodels.api as sm\n",
    "import statsmodels.formula.api as smf"
   ]
  },
  {
   "cell_type": "markdown",
   "metadata": {},
   "source": [
    "## 1. PSMの概略と問題設定\n",
    "\n",
    "- PSMとはobservational dataについて、treatedとcontrol間のpre-treatment confounderのimbalanceを減少させる手法\n",
    "- RCTの状況をobservational dataで仮想的に再現する手法\n",
    "\n",
    "ただし、実務において、PSMの仮定を満たすようにdata preprocessing, model selectionを行う過程でPSMがimbalance, inefficiency, model dependence, research discretion, and statistical biasを増加させることがある（= PSM paradox）。\n",
    "\n",
    "### 問題設定\n",
    "\n",
    "- PSM paradoxはどのように発生するのか\n",
    "- PSM paradoxはどのように回避できるのか"
   ]
  },
  {
   "cell_type": "markdown",
   "metadata": {},
   "source": [
    "## 2. The Problem of Model Dependence in Causal Inference\n",
    "\n",
    "ここでsimple caseを用いてモデル依存性の問題を解説する。\n",
    "\n",
    "### PSMに必要な仮定\n",
    "\n",
    "- common support\n",
    "- stable unit treatment value assumption\n",
    "- unconfoundedness assumption\n",
    "\n",
    "### Notation\n",
    "\n",
    "- `i`: an observation unit\n",
    "- $T_i$: a treatment status for a init i\n",
    "- $Y_i$: an outcome variable for a init i\n",
    "- $X_i$: a k-vector pre-treatment covariates\n",
    "- $\\tau$: treatment effect\n",
    "- $m_l$:class lの推定量\n",
    "- $\\pi_i$: propensity score\n",
    "\n",
    "### 実務におけるUnconfoundedness Assumptionの満たし方\n",
    "\n",
    "$Y_i$, と$T_i$のいずれかに影響を与えると思われる変数を全て$X_i$に加えて、Propensity Scoreを推定する。\n",
    "\n",
    "- $X_i$のsubsetの一つがunconfoundedness assumptionを満たしているならば、$X_i$もunconfoundedness assumptionを満たす。\n",
    "- see [here](https://www.ncbi.nlm.nih.gov/pmc/articles/PMC3166439/)\n"
   ]
  },
  {
   "cell_type": "markdown",
   "metadata": {},
   "source": [
    "### Model Dependenceはどのように発生するのか？\n",
    "\n",
    "まずModel Dependenceとは「推定モデルによって結果が変わる程度」のことを指す。\n",
    "\n",
    "\n",
    "Data Generating Process（DGP）が分析者にとって既知の場合、model selectionの問題は発生しないが、ほとんど全ての場合DGPは分析者にとってunknown。そのため分析者は、もっともらしいモデルをそれぞれ用いしてdata fittingを実施するが、同じfit levelにもかかわらず推定値がモデルごとで異なるというケースは多々発生する。分析を共有するにあたって、全ての推定値ではなく、いくつかのモデルの推定値を洗濯して共有されるが、この段階で分析結果のModel Dependenceが発生する。\n",
    "\n",
    "さらに、この推定値の中から、分析者の仮説に合致する推定値を報告する傾向にあるので、推定値それぞれがunbiasedでも報告される推定値はbiasedとなってしまう場合が多い。\n",
    "\n",
    "```\n",
    "higher imbalance → higher model dependence → more likely to have bias\n",
    "```\n",
    "とされている。\n",
    "\n"
   ]
  },
  {
   "cell_type": "markdown",
   "metadata": {},
   "source": [
    "### Why Model Dependence is important?\n",
    "\n",
    "- Modelのちょっとした変化が推定値に大きな影響を与えてしまう恐れがある"
   ]
  },
  {
   "cell_type": "code",
   "execution_count": 6,
   "metadata": {},
   "outputs": [],
   "source": [
    "### DGP\n",
    "N = 100\n",
    "np.random.seed(42)\n",
    "\n",
    "x = np.random.randint(12, 28, N)\n",
    "noise = np.random.normal(0, 1, N) \n",
    "\n",
    "assignment_rule = np.vectorize(lambda x: np.random.choice([0, 1], 1) if x >= 16 and x <= 24 else 0)\n",
    "t = assignment_rule(x)\n",
    "y =  12 - (x - 19.55)**2/7 + noise\n",
    "\n",
    "df = pd.DataFrame(np.array([x, t, y]).T, columns = ['edu', 'treatment', 'outcome'])"
   ]
  },
  {
   "cell_type": "code",
   "execution_count": 7,
   "metadata": {},
   "outputs": [
    {
     "data": {
      "image/png": "[encoded data removed]",
      "text/plain": [
       "<Figure size 432x288 with 1 Axes>"
      ]
     },
     "metadata": {
      "needs_background": "light"
     },
     "output_type": "display_data"
    }
   ],
   "source": [
    "sns.scatterplot(x=\"edu\", y=\"outcome\", hue=\"treatment\", data=df);"
   ]
  },
  {
   "cell_type": "code",
   "execution_count": 8,
   "metadata": {},
   "outputs": [],
   "source": [
    "### Regression\n",
    "\n",
    "def power(x):\n",
    "    return x**2\n",
    "\n",
    "model_1 = smf.ols(formula = 'outcome ~ edu + treatment', data=df).fit()\n",
    "model_2 = smf.ols(formula = 'outcome ~ edu + power(edu) + treatment', data=df).fit()"
   ]
  },
  {
   "cell_type": "markdown",
   "metadata": {},
   "source": [
    "#### case 1"
   ]
  },
  {
   "cell_type": "code",
   "execution_count": 9,
   "metadata": {},
   "outputs": [
    {
     "data": {
      "image/png": "[encoded data removed]",
      "text/plain": [
       "<Figure size 432x288 with 1 Axes>"
      ]
     },
     "metadata": {
      "needs_background": "light"
     },
     "output_type": "display_data"
    }
   ],
   "source": [
    "support = np.linspace(12, 28, 1000)\n",
    "pred_1_treated = model_1.params[0] + model_1.params[1]* support +  model_1.params[2]\n",
    "pred_1_control = model_1.params[0] + model_1.params[1]* support\n",
    "\n",
    "plt.plot(support, pred_1_treated, label = 'treated')\n",
    "plt.plot(support, pred_1_control, label = 'control')\n",
    "plt.xlabel('edu')\n",
    "plt.ylabel('outcome')\n",
    "plt.legend();"
   ]
  },
  {
   "cell_type": "markdown",
   "metadata": {},
   "source": [
    "#### case 2"
   ]
  },
  {
   "cell_type": "code",
   "execution_count": 10,
   "metadata": {},
   "outputs": [
    {
     "data": {
      "image/png": "[encoded data removed]",
      "text/plain": [
       "<Figure size 432x288 with 1 Axes>"
      ]
     },
     "metadata": {
      "needs_background": "light"
     },
     "output_type": "display_data"
    }
   ],
   "source": [
    "support = np.linspace(12, 28, 1000)\n",
    "pred_2_treated = model_2.params[0] + model_2.params[1]* support + model_2.params[2]* support**2  + model_2.params[3]\n",
    "pred_2_control = model_2.params[0] + model_2.params[1]* support + model_2.params[2]* support**2 \n",
    "\n",
    "plt.plot(support, pred_2_treated, label = 'treated')\n",
    "plt.plot(support, pred_2_control, label = 'control')\n",
    "plt.xlabel('edu')\n",
    "plt.ylabel('outcome')\n",
    "plt.legend();"
   ]
  },
  {
   "cell_type": "markdown",
   "metadata": {},
   "source": [
    "### REMARK\n",
    "\n",
    "- powered termを入れるか入れないかでtreatment effectの推定値が大きく異なることがわかる = model dependence"
   ]
  },
  {
   "cell_type": "markdown",
   "metadata": {},
   "source": [
    "## 3. Matching\n",
    "\n",
    "- MatchingとはExact matchingを再現することをゴールとしている\n",
    "- Exact matchingからのずれの程度をimbalanceという\n",
    "\n",
    "imbalanceの測り方の一つの方法として、\n",
    "\n",
    "$$\n",
    "j(i) = \\arg\\min_{j|T_j = 1 - T_i}d(X_i, X_j)\n",
    "$$\n",
    "\n",
    "and\n",
    "\n",
    "$$\n",
    "I(X) = \\text{mean}_{i} d(X_i, X_{j(i)})\n",
    "$$\n",
    "\n",
    "\n",
    "matchingとは$I(X)$を最小化することobservation subsetを作ることである。\n",
    "\n",
    "- Mahalanobis Distance Matching\n",
    "- PS Matching\n",
    "- Coarsened Exact Matching(大まかな属性で厳密なマッチングをする方法)"
   ]
  },
  {
   "cell_type": "markdown",
   "metadata": {},
   "source": [
    "## 4. Information Ignored by Propensity Scores\n",
    "\n",
    "- PS matchingがどのようにしてimbalanceを引き起こすのかを説明する\n",
    "\n",
    "### 2つの実験デザイン\n",
    "\n",
    "1.  fully blocked randomized experimental design\n",
    "\n",
    "- populationから得られたサンプルに対してはじめにpairを作り、そのpair毎にtreatment, controlを割り当てるデザイン\n",
    "- exact balanced\n",
    "\n",
    "2. completely randomized experimental design\n",
    "\n",
    "- populationから得られたサンプルに対して、それぞれのunit of observationにつきコインでtreatment, controlを割り当てるデザイン. \n",
    "- PSMはこの状態の再現をゴールとしている\n",
    "- exact balancedはby chance\n",
    "\n",
    "\n",
    "PS matchingを実施したとしてもps scoreのバランシングは実現できるが、必ずしも$X_i$のバランシングができるわけではない。\n",
    "\n",
    "$$\n",
    "X_i = X_j \\Rightarrow \\pi_i = \\pi_j\n",
    "$$\n",
    "$$\n",
    "\\pi_i = \\pi_j \\nRightarrow X_i = X_j\n",
    "$$\n"
   ]
  },
  {
   "cell_type": "markdown",
   "metadata": {},
   "source": [
    "### REMARKS\n",
    "\n",
    "- マッチングをするうえでは完全にブロックしたうえでランダムな割り当てをする方法が，ブロックなしの完全なランダム化よりも様々な統計的性質の面で望ましい\n",
    "- Imai et al. (SS 2009)では，完全にブロックしたうえでランダムな割り当てはブロックなしの完全なランダム化よりも標準誤差が約600%も小さいことが報告されている．\n",
    "- PSMはあくまでsuboptimal\n",
    "- PSMよりもマハラノビス距離マッチングやCEMの方が望ましい"
   ]
  },
  {
   "cell_type": "markdown",
   "metadata": {},
   "source": [
    "## 5. Guidance for Users\n",
    "\n",
    "- PSMはimbalanced and large sample size dataのときは計算量の観点から使用が正当化されるが、それ以外の場合は慎重になるべき\n",
    "- PSM実施後のnormalized differenceのチェックは必要不可欠\n",
    "- PSMを実施するときはマハラノビス距離マッチングやCEMも同時に試すべき\n",
    "- PSMはpropensity scoreに影響しないcovariateのinformationはignoredされることに留意（heterogeneous treatment effectのとき推定が困難）\n",
    "\n",
    "### curse of dimensinality and PSM\n",
    "\n",
    "- PSMはcurse of dimensinalityの解決策とはならない\n",
    "- covariateが増えれば増えるほどPSMの精度は落ちるとされている (covariateが多いほどmisspecificationの可能性が高まり、biasをもたらしてしまうと考えられる)\n"
   ]
  },
  {
   "cell_type": "code",
   "execution_count": null,
   "metadata": {},
   "outputs": [],
   "source": []
  },
  {
   "cell_type": "code",
   "execution_count": null,
   "metadata": {},
   "outputs": [],
   "source": []
  }
 ],
 "metadata": {
  "kernelspec": {
   "display_name": "Python 3",
   "language": "python",
   "name": "python3"
  },
  "language_info": {
   "codemirror_mode": {
    "name": "ipython",
    "version": 3
   },
   "file_extension": ".py",
   "mimetype": "text/x-python",
   "name": "python",
   "nbconvert_exporter": "python",
   "pygments_lexer": "ipython3",
   "version": "3.7.4"
  }
 },
 "nbformat": 4,
 "nbformat_minor": 4
}
