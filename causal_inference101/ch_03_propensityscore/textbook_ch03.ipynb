{
 "cells": [
  {
   "cell_type": "markdown",
   "metadata": {},
   "source": [
    "# Chapter 3 : 傾向スコアを利用した効果の推定\n",
    "## Agenda\n",
    "\n",
    "- propensity score matchingを用いた効果推定手法の紹介\n",
    "\n",
    "## REMARKS\n",
    "\n",
    "- causal treeのパッケージ精度は未検証\n",
    "- cobalt再現の箇所で0.25にdashed line付与\n",
    "- sndの関数作成"
   ]
  },
  {
   "cell_type": "markdown",
   "metadata": {},
   "source": [
    "### Hardware"
   ]
  },
  {
   "cell_type": "code",
   "execution_count": 1,
   "metadata": {},
   "outputs": [
    {
     "name": "stdout",
     "output_type": "stream",
     "text": [
      "      Model Identifier: MacBookPro13,1\n",
      "      Processor Name: Dual-Core Intel Core i5\n",
      "      Processor Speed: 2 GHz\n",
      "      Number of Processors: 1\n",
      "      Memory: 16 GB\n"
     ]
    }
   ],
   "source": [
    "%%bash\n",
    "system_profiler SPHardwareDataType | grep -E \\\n",
    "\"Model Identifier\"\\|\"Processor Name\"\\|\"Processor Speed\"\\\n",
    "\\|\"Number of Processors\"\\|\"Memory:\""
   ]
  },
  {
   "cell_type": "markdown",
   "metadata": {},
   "source": [
    "### Python"
   ]
  },
  {
   "cell_type": "code",
   "execution_count": 2,
   "metadata": {},
   "outputs": [
    {
     "name": "stdout",
     "output_type": "stream",
     "text": [
      "Python 3.7.4\n"
     ]
    }
   ],
   "source": [
    "!python -V"
   ]
  },
  {
   "cell_type": "markdown",
   "metadata": {},
   "source": [
    "### Install packages"
   ]
  },
  {
   "cell_type": "code",
   "execution_count": 3,
   "metadata": {},
   "outputs": [],
   "source": [
    "#!pip install causal_tree_learn"
   ]
  },
  {
   "cell_type": "markdown",
   "metadata": {},
   "source": [
    "### Import"
   ]
  },
  {
   "cell_type": "code",
   "execution_count": 4,
   "metadata": {},
   "outputs": [],
   "source": [
    "import numpy as np\n",
    "import pandas as pd\n",
    "import matplotlib.pyplot as plt\n",
    "import seaborn as sns\n",
    "from statsmodels.stats.weightstats import DescrStatsW, CompareMeans\n",
    "from statsmodels.stats.weightstats import ttest_ind\n",
    "import statsmodels.api as sm\n",
    "import statsmodels.formula.api as smf\n",
    "from patsy import dmatrices\n",
    "from statsmodels.iolib.summary2 import summary_col\n",
    "from sklearn.neighbors import NearestNeighbors\n",
    "from sklearn.model_selection import train_test_split\n",
    "#from CTL.causal_tree_learn import CausalTree"
   ]
  },
  {
   "cell_type": "markdown",
   "metadata": {},
   "source": [
    "### 自作関数のimport"
   ]
  },
  {
   "cell_type": "code",
   "execution_count": 5,
   "metadata": {},
   "outputs": [],
   "source": [
    "#import homemade_causaltree as hct"
   ]
  },
  {
   "cell_type": "markdown",
   "metadata": {},
   "source": [
    "### `../ch_02_ols`より自作関数をimport"
   ]
  },
  {
   "cell_type": "code",
   "execution_count": 6,
   "metadata": {},
   "outputs": [],
   "source": [
    "import sys\n",
    "sys.path.append('..')\n",
    "sys.path.append('../ch_02_ols')"
   ]
  },
  {
   "cell_type": "code",
   "execution_count": 7,
   "metadata": {},
   "outputs": [],
   "source": [
    "from ch_02_ols import propensity_score_matching as psmatch"
   ]
  },
  {
   "cell_type": "markdown",
   "metadata": {},
   "source": [
    "## 1. Propensity scoreとnearest matching\n",
    "\n",
    "テキストp100で紹介されている`matchit`をPythonで実装する。\n",
    "\n",
    "- `matchit`のnearest matchingはwith replacement method\n",
    "- psの推定はdafaultではlogit\n",
    "- Pythonではsklearnを用いて実装する"
   ]
  },
  {
   "cell_type": "markdown",
   "metadata": {},
   "source": [
    "### Data"
   ]
  },
  {
   "cell_type": "code",
   "execution_count": 8,
   "metadata": {},
   "outputs": [],
   "source": [
    "def bias(s):\n",
    "    \"\"\" Return Biased weighting\n",
    "    \n",
    "    Calculate the sample weighting based on recency, channel and treatment\n",
    "    \n",
    "    Args:\n",
    "        s:data\n",
    "        \n",
    "    Returns:\n",
    "        sample weight\n",
    "    \"\"\"\n",
    "    loyal = s['history'] > 300 or s['recency'] < 3 or s['channel'] == 'Multichannel'\n",
    "    if (s['treatment'] == 1 and not loyal) or (s['treatment'] == 0 and loyal):\n",
    "        return 0.5\n",
    "    else:\n",
    "        return 1.0"
   ]
  },
  {
   "cell_type": "code",
   "execution_count": 9,
   "metadata": {},
   "outputs": [],
   "source": [
    "df = pd.read_csv(\"http://www.minethatdata.com/Kevin_Hillstrom_MineThatData_E-MailAnalytics_DataMiningChallenge_2008.03.20.csv\")\n",
    "df.loc[:, 'treatment'] = df['segment'].map(lambda x: 1 if x == 'Mens E-Mail' else 0)\n",
    "male_df = df.loc[df['segment'] != 'Womens E-Mail']\n",
    "male_df = male_df.reset_index(drop = True)\n",
    "biased_df = male_df.sample(frac=0.5, weights=male_df.apply(bias, axis=1), random_state=42)"
   ]
  },
  {
   "cell_type": "code",
   "execution_count": 10,
   "metadata": {},
   "outputs": [
    {
     "data": {
      "text/html": [
       "<div>\n",
       "<style scoped>\n",
       "    .dataframe tbody tr th:only-of-type {\n",
       "        vertical-align: middle;\n",
       "    }\n",
       "\n",
       "    .dataframe tbody tr th {\n",
       "        vertical-align: top;\n",
       "    }\n",
       "\n",
       "    .dataframe thead th {\n",
       "        text-align: right;\n",
       "    }\n",
       "</style>\n",
       "<table border=\"1\" class=\"dataframe\">\n",
       "  <thead>\n",
       "    <tr style=\"text-align: right;\">\n",
       "      <th></th>\n",
       "      <th>recency</th>\n",
       "      <th>history_segment</th>\n",
       "      <th>history</th>\n",
       "      <th>mens</th>\n",
       "      <th>womens</th>\n",
       "      <th>zip_code</th>\n",
       "      <th>newbie</th>\n",
       "      <th>channel</th>\n",
       "      <th>segment</th>\n",
       "      <th>visit</th>\n",
       "      <th>conversion</th>\n",
       "      <th>spend</th>\n",
       "      <th>treatment</th>\n",
       "    </tr>\n",
       "  </thead>\n",
       "  <tbody>\n",
       "    <tr>\n",
       "      <th>15973</th>\n",
       "      <td>6</td>\n",
       "      <td>2) $100 - $200</td>\n",
       "      <td>148.25</td>\n",
       "      <td>1</td>\n",
       "      <td>0</td>\n",
       "      <td>Urban</td>\n",
       "      <td>0</td>\n",
       "      <td>Phone</td>\n",
       "      <td>Mens E-Mail</td>\n",
       "      <td>0</td>\n",
       "      <td>0</td>\n",
       "      <td>0.0</td>\n",
       "      <td>1</td>\n",
       "    </tr>\n",
       "    <tr>\n",
       "      <th>40542</th>\n",
       "      <td>3</td>\n",
       "      <td>3) $200 - $350</td>\n",
       "      <td>309.67</td>\n",
       "      <td>1</td>\n",
       "      <td>0</td>\n",
       "      <td>Urban</td>\n",
       "      <td>0</td>\n",
       "      <td>Web</td>\n",
       "      <td>Mens E-Mail</td>\n",
       "      <td>0</td>\n",
       "      <td>0</td>\n",
       "      <td>0.0</td>\n",
       "      <td>1</td>\n",
       "    </tr>\n",
       "    <tr>\n",
       "      <th>31254</th>\n",
       "      <td>7</td>\n",
       "      <td>2) $100 - $200</td>\n",
       "      <td>140.80</td>\n",
       "      <td>0</td>\n",
       "      <td>1</td>\n",
       "      <td>Urban</td>\n",
       "      <td>0</td>\n",
       "      <td>Web</td>\n",
       "      <td>No E-Mail</td>\n",
       "      <td>0</td>\n",
       "      <td>0</td>\n",
       "      <td>0.0</td>\n",
       "      <td>0</td>\n",
       "    </tr>\n",
       "    <tr>\n",
       "      <th>25571</th>\n",
       "      <td>10</td>\n",
       "      <td>1) $0 - $100</td>\n",
       "      <td>29.99</td>\n",
       "      <td>1</td>\n",
       "      <td>0</td>\n",
       "      <td>Surburban</td>\n",
       "      <td>0</td>\n",
       "      <td>Phone</td>\n",
       "      <td>No E-Mail</td>\n",
       "      <td>0</td>\n",
       "      <td>0</td>\n",
       "      <td>0.0</td>\n",
       "      <td>0</td>\n",
       "    </tr>\n",
       "    <tr>\n",
       "      <th>6640</th>\n",
       "      <td>6</td>\n",
       "      <td>2) $100 - $200</td>\n",
       "      <td>111.25</td>\n",
       "      <td>1</td>\n",
       "      <td>0</td>\n",
       "      <td>Urban</td>\n",
       "      <td>1</td>\n",
       "      <td>Phone</td>\n",
       "      <td>Mens E-Mail</td>\n",
       "      <td>0</td>\n",
       "      <td>0</td>\n",
       "      <td>0.0</td>\n",
       "      <td>1</td>\n",
       "    </tr>\n",
       "  </tbody>\n",
       "</table>\n",
       "</div>"
      ],
      "text/plain": [
       "       recency history_segment  history  mens  womens   zip_code  newbie  \\\n",
       "15973        6  2) $100 - $200   148.25     1       0      Urban       0   \n",
       "40542        3  3) $200 - $350   309.67     1       0      Urban       0   \n",
       "31254        7  2) $100 - $200   140.80     0       1      Urban       0   \n",
       "25571       10    1) $0 - $100    29.99     1       0  Surburban       0   \n",
       "6640         6  2) $100 - $200   111.25     1       0      Urban       1   \n",
       "\n",
       "      channel      segment  visit  conversion  spend  treatment  \n",
       "15973   Phone  Mens E-Mail      0           0    0.0          1  \n",
       "40542     Web  Mens E-Mail      0           0    0.0          1  \n",
       "31254     Web    No E-Mail      0           0    0.0          0  \n",
       "25571   Phone    No E-Mail      0           0    0.0          0  \n",
       "6640    Phone  Mens E-Mail      0           0    0.0          1  "
      ]
     },
     "execution_count": 10,
     "metadata": {},
     "output_type": "execute_result"
    }
   ],
   "source": [
    "biased_df.head()"
   ]
  },
  {
   "cell_type": "markdown",
   "metadata": {},
   "source": [
    "### Propensity Scoreの推定"
   ]
  },
  {
   "cell_type": "code",
   "execution_count": 11,
   "metadata": {},
   "outputs": [
    {
     "name": "stdout",
     "output_type": "stream",
     "text": [
      "Optimization terminated successfully.\n",
      "         Current function value: 0.677751\n",
      "         Iterations 5\n"
     ]
    }
   ],
   "source": [
    "logit_formula = 'treatment ~ recency + history + channel'\n",
    "logit_res = smf.logit(formula=logit_formula, data=biased_df).fit()\n",
    "propensity_score = logit_res.predict()\n",
    "biased_df['p_logit'] = propensity_score"
   ]
  },
  {
   "cell_type": "markdown",
   "metadata": {},
   "source": [
    "### Plot"
   ]
  },
  {
   "cell_type": "code",
   "execution_count": 12,
   "metadata": {},
   "outputs": [
    {
     "data": {
      "text/plain": [
       "''"
      ]
     },
     "execution_count": 12,
     "metadata": {},
     "output_type": "execute_result"
    },
    {
     "data": {
      "image/png": "[encoded data removed]",
      "text/plain": [
       "<Figure size 864x288 with 3 Axes>"
      ]
     },
     "metadata": {
      "needs_background": "light"
     },
     "output_type": "display_data"
    }
   ],
   "source": [
    "fig, ax = plt.subplots(1, 3, figsize = (12, 4))\n",
    "is_treat = biased_df['treatment'] == 1\n",
    "sns.distplot(biased_df['p_logit'], ax  = ax[0])\n",
    "sns.distplot(biased_df.loc[is_treat,'p_logit'], ax  = ax[1], color = 'g')\n",
    "sns.distplot(biased_df.loc[~is_treat,'p_logit'], ax  = ax[2], color = 'y')\n",
    "\n",
    "ax[0].set_title('total')\n",
    "ax[1].set_title('treated')\n",
    "ax[2].set_title('control')\n",
    ";"
   ]
  },
  {
   "cell_type": "markdown",
   "metadata": {},
   "source": [
    "### Nearest Matching with replacement"
   ]
  },
  {
   "cell_type": "code",
   "execution_count": 13,
   "metadata": {},
   "outputs": [],
   "source": [
    "treated_df = biased_df.loc[is_treat,:].reset_index(drop = True)\n",
    "non_treated_df = biased_df.loc[~is_treat,:].reset_index(drop = True)"
   ]
  },
  {
   "cell_type": "code",
   "execution_count": 14,
   "metadata": {},
   "outputs": [],
   "source": [
    "### Estimate ATT\n",
    "treated = treated_df['p_logit'].values\n",
    "non_treated = non_treated_df['p_logit'].values\n",
    "\n",
    "### learning training data　ここではcontrol\n",
    "nbrs = NearestNeighbors(n_neighbors=1,\n",
    "                        algorithm='ball_tree').fit(non_treated.reshape(-1, 1))\n",
    "### Find index\n",
    "distances, indices = nbrs.kneighbors(treated.reshape(-1, 1))"
   ]
  },
  {
   "cell_type": "code",
   "execution_count": 15,
   "metadata": {},
   "outputs": [],
   "source": [
    "indices = indices.reshape(indices.shape[0])\n",
    "matched = non_treated_df.loc[indices]"
   ]
  },
  {
   "cell_type": "code",
   "execution_count": 16,
   "metadata": {},
   "outputs": [
    {
     "data": {
      "image/png": "[encoded data removed]",
      "text/plain": [
       "<Figure size 432x432 with 3 Axes>"
      ]
     },
     "metadata": {
      "needs_background": "light"
     },
     "output_type": "display_data"
    }
   ],
   "source": [
    "sns.jointplot(treated, matched['p_logit'].values);"
   ]
  },
  {
   "cell_type": "markdown",
   "metadata": {},
   "source": [
    "### Two sample T test\n",
    "\n",
    "Returnはt-stats, p-value, df"
   ]
  },
  {
   "cell_type": "code",
   "execution_count": 17,
   "metadata": {},
   "outputs": [
    {
     "data": {
      "text/plain": [
       "(4.268034538182298, 1.980842831468609e-05, 20592.0)"
      ]
     },
     "execution_count": 17,
     "metadata": {},
     "output_type": "execute_result"
    }
   ],
   "source": [
    "ttest_ind(treated_df['spend'], matched['spend'])"
   ]
  },
  {
   "cell_type": "code",
   "execution_count": 18,
   "metadata": {},
   "outputs": [
    {
     "data": {
      "text/html": [
       "<table class=\"simpletable\">\n",
       "<caption>Test for equality of means</caption>\n",
       "<tr>\n",
       "      <td></td>         <th>coef</th>     <th>std err</th>      <th>t</th>      <th>P>|t|</th>  <th>[0.025</th>    <th>0.975]</th>  \n",
       "</tr>\n",
       "<tr>\n",
       "  <th>subset #1</th> <td>    0.9194</td> <td>    0.215</td> <td>    4.268</td> <td> 0.000</td> <td>    0.497</td> <td>    1.342</td>\n",
       "</tr>\n",
       "</table>"
      ],
      "text/plain": [
       "<class 'statsmodels.iolib.table.SimpleTable'>"
      ]
     },
     "execution_count": 18,
     "metadata": {},
     "output_type": "execute_result"
    }
   ],
   "source": [
    "ATT_test = CompareMeans(DescrStatsW(treated_df['spend']), \n",
    "                        DescrStatsW(matched['spend']))\n",
    "ATT_test.ttest_ind()\n",
    "ATT_test.summary()"
   ]
  },
  {
   "cell_type": "markdown",
   "metadata": {},
   "source": [
    "## 2. IPWを用いた推定\n",
    "\n",
    "$$\n",
    "\\begin{aligned}\n",
    "\\hat Y_1 &= \\left.\\sum^N_{i = 1} \\frac{D_iY_i}{\\hat P(X_i)}\\middle/\\frac{D_i}{\\hat P(X_i)}\\right.\\\\\n",
    "\\hat Y_0 &= \\left. \\sum^N_{i = 1} \\frac{(1 - D_i)Y_i}{1 - \\hat P(X_i)}\\middle/\\frac{1 - D_i}{1 -\\hat P(X_i)}\\right.\\\n",
    "\\end{aligned}\n",
    "$$\n",
    "\n",
    "### Intuition\n",
    "\n",
    "仮に$\\hat P(X_i)$と$ Y_1 $に正の相関があるとすると、$ Y_1 $ が小さいほど$D_i=1$のデータに含まれないことになってしまいバイアスが発生する。IPWはtreatment,controlに含まれる確率をpropensity scoreで調整し、treatment, controlのpropensity scoreの分布を等しくさせてからtreatment effectを推定する方法と解釈できる。\n",
    "\n",
    "分母はweightの合計が1になるようにするため"
   ]
  },
  {
   "cell_type": "code",
   "execution_count": 19,
   "metadata": {},
   "outputs": [
    {
     "data": {
      "text/plain": [
       "<matplotlib.legend.Legend at 0x125e3c210>"
      ]
     },
     "execution_count": 19,
     "metadata": {},
     "output_type": "execute_result"
    },
    {
     "data": {
      "image/png": "[encoded data removed]",
      "text/plain": [
       "<Figure size 432x288 with 1 Axes>"
      ]
     },
     "metadata": {
      "needs_background": "light"
     },
     "output_type": "display_data"
    }
   ],
   "source": [
    "wht = 1/treated\n",
    "plt.hist(treated, alpha = 0.5, label = 'raw data')\n",
    "plt.hist(treated, weights = wht, alpha = 0.5, label = 'weighted data')\n",
    "plt.legend()"
   ]
  },
  {
   "cell_type": "markdown",
   "metadata": {},
   "source": [
    "### IPWとregression\n",
    "\n",
    "textでは`weightIt`を用いてweightの算出、それを`lm`の引数に代入して計算している。\n",
    "\n",
    "#### `weightIt`\n",
    "\n",
    "- このライブラリで計算されるweightはtreatment statusに応じて`1/p`, `1/(1-p)`となっている\n",
    "- IPWとは厳密には一致しないので注意"
   ]
  },
  {
   "cell_type": "markdown",
   "metadata": {},
   "source": [
    "### weightの計算と分布"
   ]
  },
  {
   "cell_type": "code",
   "execution_count": 20,
   "metadata": {},
   "outputs": [],
   "source": [
    "treated_df['weight'] = 1/treated_df['p_logit']/np.sum(1/treated_df['p_logit'])\n",
    "non_treated_df['weight'] = 1/(1 - non_treated_df['p_logit'])/np.sum(1/(1 - non_treated_df['p_logit']))\n",
    "treated_df['raw_weight'] = 1/treated_df['p_logit']\n",
    "non_treated_df['raw_weight'] = 1/(1 - non_treated_df['p_logit'])"
   ]
  },
  {
   "cell_type": "code",
   "execution_count": 21,
   "metadata": {},
   "outputs": [
    {
     "data": {
      "text/html": [
       "<div>\n",
       "<style scoped>\n",
       "    .dataframe tbody tr th:only-of-type {\n",
       "        vertical-align: middle;\n",
       "    }\n",
       "\n",
       "    .dataframe tbody tr th {\n",
       "        vertical-align: top;\n",
       "    }\n",
       "\n",
       "    .dataframe thead th {\n",
       "        text-align: right;\n",
       "    }\n",
       "</style>\n",
       "<table border=\"1\" class=\"dataframe\">\n",
       "  <thead>\n",
       "    <tr style=\"text-align: right;\">\n",
       "      <th></th>\n",
       "      <th>recency</th>\n",
       "      <th>history_segment</th>\n",
       "      <th>history</th>\n",
       "      <th>mens</th>\n",
       "      <th>womens</th>\n",
       "      <th>zip_code</th>\n",
       "      <th>newbie</th>\n",
       "      <th>channel</th>\n",
       "      <th>segment</th>\n",
       "      <th>visit</th>\n",
       "      <th>conversion</th>\n",
       "      <th>spend</th>\n",
       "      <th>treatment</th>\n",
       "      <th>p_logit</th>\n",
       "      <th>weight</th>\n",
       "      <th>raw_weight</th>\n",
       "    </tr>\n",
       "  </thead>\n",
       "  <tbody>\n",
       "    <tr>\n",
       "      <th>0</th>\n",
       "      <td>6</td>\n",
       "      <td>2) $100 - $200</td>\n",
       "      <td>148.25</td>\n",
       "      <td>1</td>\n",
       "      <td>0</td>\n",
       "      <td>Urban</td>\n",
       "      <td>0</td>\n",
       "      <td>Phone</td>\n",
       "      <td>Mens E-Mail</td>\n",
       "      <td>0</td>\n",
       "      <td>0</td>\n",
       "      <td>0.0</td>\n",
       "      <td>1</td>\n",
       "      <td>0.448747</td>\n",
       "      <td>0.000105</td>\n",
       "      <td>2.228428</td>\n",
       "    </tr>\n",
       "    <tr>\n",
       "      <th>1</th>\n",
       "      <td>3</td>\n",
       "      <td>3) $200 - $350</td>\n",
       "      <td>309.67</td>\n",
       "      <td>1</td>\n",
       "      <td>0</td>\n",
       "      <td>Urban</td>\n",
       "      <td>0</td>\n",
       "      <td>Web</td>\n",
       "      <td>Mens E-Mail</td>\n",
       "      <td>0</td>\n",
       "      <td>0</td>\n",
       "      <td>0.0</td>\n",
       "      <td>1</td>\n",
       "      <td>0.531090</td>\n",
       "      <td>0.000089</td>\n",
       "      <td>1.882920</td>\n",
       "    </tr>\n",
       "    <tr>\n",
       "      <th>2</th>\n",
       "      <td>6</td>\n",
       "      <td>2) $100 - $200</td>\n",
       "      <td>111.25</td>\n",
       "      <td>1</td>\n",
       "      <td>0</td>\n",
       "      <td>Urban</td>\n",
       "      <td>1</td>\n",
       "      <td>Phone</td>\n",
       "      <td>Mens E-Mail</td>\n",
       "      <td>0</td>\n",
       "      <td>0</td>\n",
       "      <td>0.0</td>\n",
       "      <td>1</td>\n",
       "      <td>0.441503</td>\n",
       "      <td>0.000106</td>\n",
       "      <td>2.264992</td>\n",
       "    </tr>\n",
       "    <tr>\n",
       "      <th>3</th>\n",
       "      <td>3</td>\n",
       "      <td>4) $350 - $500</td>\n",
       "      <td>456.24</td>\n",
       "      <td>0</td>\n",
       "      <td>1</td>\n",
       "      <td>Surburban</td>\n",
       "      <td>0</td>\n",
       "      <td>Multichannel</td>\n",
       "      <td>Mens E-Mail</td>\n",
       "      <td>1</td>\n",
       "      <td>0</td>\n",
       "      <td>0.0</td>\n",
       "      <td>1</td>\n",
       "      <td>0.624486</td>\n",
       "      <td>0.000075</td>\n",
       "      <td>1.601316</td>\n",
       "    </tr>\n",
       "    <tr>\n",
       "      <th>4</th>\n",
       "      <td>11</td>\n",
       "      <td>3) $200 - $350</td>\n",
       "      <td>262.82</td>\n",
       "      <td>1</td>\n",
       "      <td>0</td>\n",
       "      <td>Surburban</td>\n",
       "      <td>0</td>\n",
       "      <td>Multichannel</td>\n",
       "      <td>Mens E-Mail</td>\n",
       "      <td>0</td>\n",
       "      <td>0</td>\n",
       "      <td>0.0</td>\n",
       "      <td>1</td>\n",
       "      <td>0.479775</td>\n",
       "      <td>0.000098</td>\n",
       "      <td>2.084309</td>\n",
       "    </tr>\n",
       "  </tbody>\n",
       "</table>\n",
       "</div>"
      ],
      "text/plain": [
       "   recency history_segment  history  mens  womens   zip_code  newbie  \\\n",
       "0        6  2) $100 - $200   148.25     1       0      Urban       0   \n",
       "1        3  3) $200 - $350   309.67     1       0      Urban       0   \n",
       "2        6  2) $100 - $200   111.25     1       0      Urban       1   \n",
       "3        3  4) $350 - $500   456.24     0       1  Surburban       0   \n",
       "4       11  3) $200 - $350   262.82     1       0  Surburban       0   \n",
       "\n",
       "        channel      segment  visit  conversion  spend  treatment   p_logit  \\\n",
       "0         Phone  Mens E-Mail      0           0    0.0          1  0.448747   \n",
       "1           Web  Mens E-Mail      0           0    0.0          1  0.531090   \n",
       "2         Phone  Mens E-Mail      0           0    0.0          1  0.441503   \n",
       "3  Multichannel  Mens E-Mail      1           0    0.0          1  0.624486   \n",
       "4  Multichannel  Mens E-Mail      0           0    0.0          1  0.479775   \n",
       "\n",
       "     weight  raw_weight  \n",
       "0  0.000105    2.228428  \n",
       "1  0.000089    1.882920  \n",
       "2  0.000106    2.264992  \n",
       "3  0.000075    1.601316  \n",
       "4  0.000098    2.084309  "
      ]
     },
     "execution_count": 21,
     "metadata": {},
     "output_type": "execute_result"
    }
   ],
   "source": [
    "reg_df = pd.concat([treated_df, non_treated_df], axis = 0).reset_index(drop = True)\n",
    "reg_df.head()"
   ]
  },
  {
   "cell_type": "code",
   "execution_count": 22,
   "metadata": {},
   "outputs": [
    {
     "data": {
      "image/png": "[encoded data removed]",
      "text/plain": [
       "<Figure size 432x288 with 1 Axes>"
      ]
     },
     "metadata": {
      "needs_background": "light"
     },
     "output_type": "display_data"
    }
   ],
   "source": [
    "sns.distplot(reg_df['weight']);"
   ]
  },
  {
   "cell_type": "code",
   "execution_count": 23,
   "metadata": {},
   "outputs": [
    {
     "data": {
      "image/png": "[encoded data removed]",
      "text/plain": [
       "<Figure size 432x288 with 1 Axes>"
      ]
     },
     "metadata": {
      "needs_background": "light"
     },
     "output_type": "display_data"
    }
   ],
   "source": [
    "sns.distplot(reg_df['raw_weight']);"
   ]
  },
  {
   "cell_type": "markdown",
   "metadata": {},
   "source": [
    "### OLSでbiased coefficientsの確認"
   ]
  },
  {
   "cell_type": "code",
   "execution_count": 24,
   "metadata": {},
   "outputs": [
    {
     "data": {
      "text/html": [
       "<table class=\"simpletable\">\n",
       "<caption>OLS Regression Results</caption>\n",
       "<tr>\n",
       "  <th>Dep. Variable:</th>          <td>spend</td>      <th>  R-squared:         </th> <td>   0.001</td> \n",
       "</tr>\n",
       "<tr>\n",
       "  <th>Model:</th>                   <td>OLS</td>       <th>  Adj. R-squared:    </th> <td>   0.001</td> \n",
       "</tr>\n",
       "<tr>\n",
       "  <th>Method:</th>             <td>Least Squares</td>  <th>  F-statistic:       </th> <td>   17.10</td> \n",
       "</tr>\n",
       "<tr>\n",
       "  <th>Date:</th>             <td>Thu, 21 May 2020</td> <th>  Prob (F-statistic):</th> <td>3.56e-05</td> \n",
       "</tr>\n",
       "<tr>\n",
       "  <th>Time:</th>                 <td>01:38:41</td>     <th>  Log-Likelihood:    </th> <td> -89278.</td> \n",
       "</tr>\n",
       "<tr>\n",
       "  <th>No. Observations:</th>      <td> 21306</td>      <th>  AIC:               </th> <td>1.786e+05</td>\n",
       "</tr>\n",
       "<tr>\n",
       "  <th>Df Residuals:</th>          <td> 21304</td>      <th>  BIC:               </th> <td>1.786e+05</td>\n",
       "</tr>\n",
       "<tr>\n",
       "  <th>Df Model:</th>              <td>     1</td>      <th>                     </th>     <td> </td>    \n",
       "</tr>\n",
       "<tr>\n",
       "  <th>Covariance Type:</th>      <td>nonrobust</td>    <th>                     </th>     <td> </td>    \n",
       "</tr>\n",
       "</table>\n",
       "<table class=\"simpletable\">\n",
       "<tr>\n",
       "      <td></td>         <th>coef</th>     <th>std err</th>      <th>t</th>      <th>P>|t|</th>  <th>[0.025</th>    <th>0.975]</th>  \n",
       "</tr>\n",
       "<tr>\n",
       "  <th>const</th>     <td>    0.6604</td> <td>    0.152</td> <td>    4.336</td> <td> 0.000</td> <td>    0.362</td> <td>    0.959</td>\n",
       "</tr>\n",
       "<tr>\n",
       "  <th>treatment</th> <td>    0.9060</td> <td>    0.219</td> <td>    4.135</td> <td> 0.000</td> <td>    0.477</td> <td>    1.335</td>\n",
       "</tr>\n",
       "</table>\n",
       "<table class=\"simpletable\">\n",
       "<tr>\n",
       "  <th>Omnibus:</th>       <td>47131.052</td> <th>  Durbin-Watson:     </th>   <td>   2.005</td>   \n",
       "</tr>\n",
       "<tr>\n",
       "  <th>Prob(Omnibus):</th>  <td> 0.000</td>   <th>  Jarque-Bera (JB):  </th> <td>224258840.767</td>\n",
       "</tr>\n",
       "<tr>\n",
       "  <th>Skew:</th>           <td>20.698</td>   <th>  Prob(JB):          </th>   <td>    0.00</td>   \n",
       "</tr>\n",
       "<tr>\n",
       "  <th>Kurtosis:</th>       <td>503.900</td>  <th>  Cond. No.          </th>   <td>    2.58</td>   \n",
       "</tr>\n",
       "</table><br/><br/>Warnings:<br/>[1] Standard Errors assume that the covariance matrix of the errors is correctly specified."
      ],
      "text/plain": [
       "<class 'statsmodels.iolib.summary.Summary'>\n",
       "\"\"\"\n",
       "                            OLS Regression Results                            \n",
       "==============================================================================\n",
       "Dep. Variable:                  spend   R-squared:                       0.001\n",
       "Model:                            OLS   Adj. R-squared:                  0.001\n",
       "Method:                 Least Squares   F-statistic:                     17.10\n",
       "Date:                Thu, 21 May 2020   Prob (F-statistic):           3.56e-05\n",
       "Time:                        01:38:41   Log-Likelihood:                -89278.\n",
       "No. Observations:               21306   AIC:                         1.786e+05\n",
       "Df Residuals:                   21304   BIC:                         1.786e+05\n",
       "Df Model:                           1                                         \n",
       "Covariance Type:            nonrobust                                         \n",
       "==============================================================================\n",
       "                 coef    std err          t      P>|t|      [0.025      0.975]\n",
       "------------------------------------------------------------------------------\n",
       "const          0.6604      0.152      4.336      0.000       0.362       0.959\n",
       "treatment      0.9060      0.219      4.135      0.000       0.477       1.335\n",
       "==============================================================================\n",
       "Omnibus:                    47131.052   Durbin-Watson:                   2.005\n",
       "Prob(Omnibus):                  0.000   Jarque-Bera (JB):        224258840.767\n",
       "Skew:                          20.698   Prob(JB):                         0.00\n",
       "Kurtosis:                     503.900   Cond. No.                         2.58\n",
       "==============================================================================\n",
       "\n",
       "Warnings:\n",
       "[1] Standard Errors assume that the covariance matrix of the errors is correctly specified.\n",
       "\"\"\""
      ]
     },
     "execution_count": 24,
     "metadata": {},
     "output_type": "execute_result"
    }
   ],
   "source": [
    "Y = reg_df['spend']\n",
    "X = reg_df['treatment']\n",
    "X = sm.add_constant(X)\n",
    "results = sm.OLS(Y,X).fit()\n",
    "results.summary()"
   ]
  },
  {
   "cell_type": "code",
   "execution_count": 25,
   "metadata": {},
   "outputs": [
    {
     "data": {
      "text/html": [
       "<table class=\"simpletable\">\n",
       "<caption>WLS Regression Results</caption>\n",
       "<tr>\n",
       "  <th>Dep. Variable:</th>          <td>spend</td>      <th>  R-squared:         </th> <td>   0.001</td> \n",
       "</tr>\n",
       "<tr>\n",
       "  <th>Model:</th>                   <td>WLS</td>       <th>  Adj. R-squared:    </th> <td>   0.001</td> \n",
       "</tr>\n",
       "<tr>\n",
       "  <th>Method:</th>             <td>Least Squares</td>  <th>  F-statistic:       </th> <td>   13.71</td> \n",
       "</tr>\n",
       "<tr>\n",
       "  <th>Date:</th>             <td>Thu, 21 May 2020</td> <th>  Prob (F-statistic):</th> <td>0.000213</td> \n",
       "</tr>\n",
       "<tr>\n",
       "  <th>Time:</th>                 <td>01:38:41</td>     <th>  Log-Likelihood:    </th> <td> -89321.</td> \n",
       "</tr>\n",
       "<tr>\n",
       "  <th>No. Observations:</th>      <td> 21306</td>      <th>  AIC:               </th> <td>1.786e+05</td>\n",
       "</tr>\n",
       "<tr>\n",
       "  <th>Df Residuals:</th>          <td> 21304</td>      <th>  BIC:               </th> <td>1.787e+05</td>\n",
       "</tr>\n",
       "<tr>\n",
       "  <th>Df Model:</th>              <td>     1</td>      <th>                     </th>     <td> </td>    \n",
       "</tr>\n",
       "<tr>\n",
       "  <th>Covariance Type:</th>      <td>nonrobust</td>    <th>                     </th>     <td> </td>    \n",
       "</tr>\n",
       "</table>\n",
       "<table class=\"simpletable\">\n",
       "<tr>\n",
       "      <td></td>         <th>coef</th>     <th>std err</th>      <th>t</th>      <th>P>|t|</th>  <th>[0.025</th>    <th>0.975]</th>  \n",
       "</tr>\n",
       "<tr>\n",
       "  <th>Intercept</th> <td>    0.6959</td> <td>    0.154</td> <td>    4.522</td> <td> 0.000</td> <td>    0.394</td> <td>    0.997</td>\n",
       "</tr>\n",
       "<tr>\n",
       "  <th>treatment</th> <td>    0.8059</td> <td>    0.218</td> <td>    3.703</td> <td> 0.000</td> <td>    0.379</td> <td>    1.232</td>\n",
       "</tr>\n",
       "</table>\n",
       "<table class=\"simpletable\">\n",
       "<tr>\n",
       "  <th>Omnibus:</th>       <td>47047.351</td> <th>  Durbin-Watson:     </th>   <td>   2.005</td>   \n",
       "</tr>\n",
       "<tr>\n",
       "  <th>Prob(Omnibus):</th>  <td> 0.000</td>   <th>  Jarque-Bera (JB):  </th> <td>220499974.154</td>\n",
       "</tr>\n",
       "<tr>\n",
       "  <th>Skew:</th>           <td>20.616</td>   <th>  Prob(JB):          </th>   <td>    0.00</td>   \n",
       "</tr>\n",
       "<tr>\n",
       "  <th>Kurtosis:</th>       <td>499.670</td>  <th>  Cond. No.          </th>   <td>    2.62</td>   \n",
       "</tr>\n",
       "</table><br/><br/>Warnings:<br/>[1] Standard Errors assume that the covariance matrix of the errors is correctly specified."
      ],
      "text/plain": [
       "<class 'statsmodels.iolib.summary.Summary'>\n",
       "\"\"\"\n",
       "                            WLS Regression Results                            \n",
       "==============================================================================\n",
       "Dep. Variable:                  spend   R-squared:                       0.001\n",
       "Model:                            WLS   Adj. R-squared:                  0.001\n",
       "Method:                 Least Squares   F-statistic:                     13.71\n",
       "Date:                Thu, 21 May 2020   Prob (F-statistic):           0.000213\n",
       "Time:                        01:38:41   Log-Likelihood:                -89321.\n",
       "No. Observations:               21306   AIC:                         1.786e+05\n",
       "Df Residuals:                   21304   BIC:                         1.787e+05\n",
       "Df Model:                           1                                         \n",
       "Covariance Type:            nonrobust                                         \n",
       "==============================================================================\n",
       "                 coef    std err          t      P>|t|      [0.025      0.975]\n",
       "------------------------------------------------------------------------------\n",
       "Intercept      0.6959      0.154      4.522      0.000       0.394       0.997\n",
       "treatment      0.8059      0.218      3.703      0.000       0.379       1.232\n",
       "==============================================================================\n",
       "Omnibus:                    47047.351   Durbin-Watson:                   2.005\n",
       "Prob(Omnibus):                  0.000   Jarque-Bera (JB):        220499974.154\n",
       "Skew:                          20.616   Prob(JB):                         0.00\n",
       "Kurtosis:                     499.670   Cond. No.                         2.62\n",
       "==============================================================================\n",
       "\n",
       "Warnings:\n",
       "[1] Standard Errors assume that the covariance matrix of the errors is correctly specified.\n",
       "\"\"\""
      ]
     },
     "execution_count": 25,
     "metadata": {},
     "output_type": "execute_result"
    }
   ],
   "source": [
    "results = sm.WLS.from_formula(\"spend~treatment\", weights=reg_df['weight'],data=reg_df).fit() \n",
    "results.summary()"
   ]
  },
  {
   "cell_type": "markdown",
   "metadata": {},
   "source": [
    "### 自作関数IPWでATEを推定"
   ]
  },
  {
   "cell_type": "code",
   "execution_count": 26,
   "metadata": {},
   "outputs": [
    {
     "data": {
      "text/plain": [
       "0.8059424511683999"
      ]
     },
     "execution_count": 26,
     "metadata": {},
     "output_type": "execute_result"
    }
   ],
   "source": [
    "psmatch.get_ate_weight(reg_df, p = reg_df['p_logit'], outcome = 'spend',\n",
    "                       treat = 'treatment' )"
   ]
  },
  {
   "cell_type": "markdown",
   "metadata": {},
   "source": [
    "### weightItとの整合性検証"
   ]
  },
  {
   "cell_type": "code",
   "execution_count": 27,
   "metadata": {},
   "outputs": [],
   "source": [
    "from rpy2.robjects import r, pandas2ri, globalenv\n",
    "from rpy2.robjects.packages import importr"
   ]
  },
  {
   "cell_type": "code",
   "execution_count": 28,
   "metadata": {},
   "outputs": [],
   "source": [
    "pandas2ri.activate()\n",
    "weightit = importr('WeightIt')\n",
    "r_biased_df = pandas2ri.py2rpy(biased_df.reset_index(drop = True))\n",
    "globalenv['r_biased_df'] = r_biased_df\n",
    "r('set.seed(42)')\n",
    "## 重みの推定\n",
    "weighting = r(\"\"\"weighting <- weightit(\n",
    "                                treatment ~ recency + history + channel,\n",
    "                                data = r_biased_df,method = \"ps\",\n",
    "                                estimand = \"ATE\")\n",
    "                                \"\"\")"
   ]
  },
  {
   "cell_type": "code",
   "execution_count": 29,
   "metadata": {},
   "outputs": [
    {
     "data": {
      "text/plain": [
       "<matplotlib.axes._subplots.AxesSubplot at 0x1343c9350>"
      ]
     },
     "execution_count": 29,
     "metadata": {},
     "output_type": "execute_result"
    },
    {
     "data": {
      "image/png": "[encoded data removed]",
      "text/plain": [
       "<Figure size 432x288 with 1 Axes>"
      ]
     },
     "metadata": {
      "needs_background": "light"
     },
     "output_type": "display_data"
    }
   ],
   "source": [
    "sns.distplot(weighting[0])"
   ]
  },
  {
   "cell_type": "code",
   "execution_count": 30,
   "metadata": {},
   "outputs": [
    {
     "data": {
      "text/html": [
       "<table class=\"simpletable\">\n",
       "<caption>WLS Regression Results</caption>\n",
       "<tr>\n",
       "  <th>Dep. Variable:</th>        <td>spend</td>     <th>  R-squared:         </th> <td>   0.001</td> \n",
       "</tr>\n",
       "<tr>\n",
       "  <th>Model:</th>                 <td>WLS</td>      <th>  Adj. R-squared:    </th> <td>   0.001</td> \n",
       "</tr>\n",
       "<tr>\n",
       "  <th>Method:</th>           <td>Least Squares</td> <th>  F-statistic:       </th> <td>   13.73</td> \n",
       "</tr>\n",
       "<tr>\n",
       "  <th>Date:</th>             <td>木, 21  5 2020</td> <th>  Prob (F-statistic):</th> <td>0.000212</td> \n",
       "</tr>\n",
       "<tr>\n",
       "  <th>Time:</th>               <td>01:38:44</td>    <th>  Log-Likelihood:    </th> <td> -89307.</td> \n",
       "</tr>\n",
       "<tr>\n",
       "  <th>No. Observations:</th>    <td> 21306</td>     <th>  AIC:               </th> <td>1.786e+05</td>\n",
       "</tr>\n",
       "<tr>\n",
       "  <th>Df Residuals:</th>        <td> 21304</td>     <th>  BIC:               </th> <td>1.786e+05</td>\n",
       "</tr>\n",
       "<tr>\n",
       "  <th>Df Model:</th>            <td>     1</td>     <th>                     </th>     <td> </td>    \n",
       "</tr>\n",
       "<tr>\n",
       "  <th>Covariance Type:</th>    <td>nonrobust</td>   <th>                     </th>     <td> </td>    \n",
       "</tr>\n",
       "</table>\n",
       "<table class=\"simpletable\">\n",
       "<tr>\n",
       "      <td></td>         <th>coef</th>     <th>std err</th>      <th>t</th>      <th>P>|t|</th>  <th>[0.025</th>    <th>0.975]</th>  \n",
       "</tr>\n",
       "<tr>\n",
       "  <th>Intercept</th> <td>    0.6959</td> <td>    0.154</td> <td>    4.531</td> <td> 0.000</td> <td>    0.395</td> <td>    0.997</td>\n",
       "</tr>\n",
       "<tr>\n",
       "  <th>treatment</th> <td>    0.8059</td> <td>    0.217</td> <td>    3.705</td> <td> 0.000</td> <td>    0.380</td> <td>    1.232</td>\n",
       "</tr>\n",
       "</table>\n",
       "<table class=\"simpletable\">\n",
       "<tr>\n",
       "  <th>Omnibus:</th>       <td>47042.968</td> <th>  Durbin-Watson:     </th>   <td>   2.006</td>   \n",
       "</tr>\n",
       "<tr>\n",
       "  <th>Prob(Omnibus):</th>  <td> 0.000</td>   <th>  Jarque-Bera (JB):  </th> <td>220316097.212</td>\n",
       "</tr>\n",
       "<tr>\n",
       "  <th>Skew:</th>           <td>20.612</td>   <th>  Prob(JB):          </th>   <td>    0.00</td>   \n",
       "</tr>\n",
       "<tr>\n",
       "  <th>Kurtosis:</th>       <td>499.462</td>  <th>  Cond. No.          </th>   <td>    2.62</td>   \n",
       "</tr>\n",
       "</table><br/><br/>Warnings:<br/>[1] Standard Errors assume that the covariance matrix of the errors is correctly specified."
      ],
      "text/plain": [
       "<class 'statsmodels.iolib.summary.Summary'>\n",
       "\"\"\"\n",
       "                            WLS Regression Results                            \n",
       "==============================================================================\n",
       "Dep. Variable:                  spend   R-squared:                       0.001\n",
       "Model:                            WLS   Adj. R-squared:                  0.001\n",
       "Method:                 Least Squares   F-statistic:                     13.73\n",
       "Date:                   木, 21  5 2020   Prob (F-statistic):           0.000212\n",
       "Time:                        01:38:44   Log-Likelihood:                -89307.\n",
       "No. Observations:               21306   AIC:                         1.786e+05\n",
       "Df Residuals:                   21304   BIC:                         1.786e+05\n",
       "Df Model:                           1                                         \n",
       "Covariance Type:            nonrobust                                         \n",
       "==============================================================================\n",
       "                 coef    std err          t      P>|t|      [0.025      0.975]\n",
       "------------------------------------------------------------------------------\n",
       "Intercept      0.6959      0.154      4.531      0.000       0.395       0.997\n",
       "treatment      0.8059      0.217      3.705      0.000       0.380       1.232\n",
       "==============================================================================\n",
       "Omnibus:                    47042.968   Durbin-Watson:                   2.006\n",
       "Prob(Omnibus):                  0.000   Jarque-Bera (JB):        220316097.212\n",
       "Skew:                          20.612   Prob(JB):                         0.00\n",
       "Kurtosis:                     499.462   Cond. No.                         2.62\n",
       "==============================================================================\n",
       "\n",
       "Warnings:\n",
       "[1] Standard Errors assume that the covariance matrix of the errors is correctly specified.\n",
       "\"\"\""
      ]
     },
     "execution_count": 30,
     "metadata": {},
     "output_type": "execute_result"
    }
   ],
   "source": [
    "results = sm.WLS.from_formula(\"spend~treatment\", weights=weighting[0],\n",
    "                              data=biased_df.reset_index(drop = True)\n",
    "                             ).fit() \n",
    "results.summary()"
   ]
  },
  {
   "cell_type": "markdown",
   "metadata": {},
   "source": [
    "standard errorの差はIPWと異なるweightを使用しているため。"
   ]
  },
  {
   "cell_type": "markdown",
   "metadata": {},
   "source": [
    "## 3. 良い傾向スコアとは\n",
    "\n",
    "良い傾向スコアとは\n",
    "\n",
    "- 推定された確率値の順序が正しいか\n",
    "- covariateのバランスが取れているか\n",
    "\n",
    "で判断する（後者の方が重要とされている）。\n",
    "\n",
    "covariateのバランスはnormalized differenceがよく用いられる（0.25を超えるか否かがrule of thumb）\n",
    "\n",
    "$$\n",
    "\\text{Normalized Difference}_j = \\frac{|\\bar x_{treated, j} - \\bar x_{control, j}|}{(s_{treated, j}^2 + s_{control, j}^2)^{1/2}}\n",
    "$$"
   ]
  },
  {
   "cell_type": "code",
   "execution_count": 31,
   "metadata": {},
   "outputs": [],
   "source": [
    "def compute_normed_diff(df, feature, round_digits = 5):\n",
    "    snd = []\n",
    "    for i in feature:\n",
    "        tmp_df = df[i].values\n",
    "        neg_mean = tmp_df[0, 0]\n",
    "        neg_std = tmp_df[0, 1]\n",
    "        pos_mean = tmp_df[1, 0]\n",
    "        pos_std = tmp_df[1, 1]\n",
    "        smd = (pos_mean - neg_mean) / np.sqrt((pos_std+ neg_std) / 2)\n",
    "        smd = round(abs(smd), round_digits)\n",
    "        snd.append(smd)\n",
    "\n",
    "    return pd.DataFrame({'features': feature, 'snd': snd})"
   ]
  },
  {
   "cell_type": "markdown",
   "metadata": {},
   "source": [
    "### unadjusted normalized difference"
   ]
  },
  {
   "cell_type": "code",
   "execution_count": 32,
   "metadata": {},
   "outputs": [],
   "source": [
    "dummy = sm.tools.categorical(biased_df, col='channel', drop=True)\n",
    "tmp_df = pd.concat([biased_df, dummy], axis = 1)"
   ]
  },
  {
   "cell_type": "code",
   "execution_count": 33,
   "metadata": {},
   "outputs": [],
   "source": [
    "colnames = list(tmp_df.columns)\n",
    "features = []\n",
    "var_type = tmp_df.dtypes\n",
    "for i in ['treatment', 'spend']:\n",
    "    colnames.remove(i)\n",
    "for i in colnames:\n",
    "    if var_type[i] in ('int64', 'float64'):\n",
    "        features.append(i)\n",
    "normed_diff = tmp_df.groupby(['treatment']).agg([np.mean, 'var'])\n",
    "unadjusted_diff = compute_normed_diff(normed_diff, feature = features)"
   ]
  },
  {
   "cell_type": "markdown",
   "metadata": {},
   "source": [
    "### adjusted normalized difference"
   ]
  },
  {
   "cell_type": "code",
   "execution_count": 34,
   "metadata": {},
   "outputs": [],
   "source": [
    "wtavg = lambda x: np.average(x.loc[:,features], weights = x.weight, axis = 0)\n",
    "dummy = sm.tools.categorical(reg_df, col='channel', drop=True)\n",
    "reg_df = pd.concat([reg_df, dummy], axis = 1)\n",
    "tmp_df = reg_df.loc[:, features + ['treatment', 'weight']]\n",
    "tmp_df.head()\n",
    "weighted_mean = tmp_df.groupby(['treatment']).apply(wtavg)\n",
    "weighted_var = tmp_df.groupby(['treatment']).apply(np.var)\n",
    "\n",
    "snd = []\n",
    "for i, j in enumerate(features):\n",
    "    mean_dif = abs(weighted_mean[0][i] - weighted_mean[1][i])\n",
    "    denominator = np.sqrt(np.sum(weighted_var[j]))\n",
    "    smd = mean_dif/denominator\n",
    "    snd.append(smd)\n",
    "    \n",
    "adjusted_diff = pd.DataFrame({'features': features, 'snd': snd})"
   ]
  },
  {
   "cell_type": "code",
   "execution_count": 35,
   "metadata": {},
   "outputs": [
    {
     "data": {
      "text/html": [
       "<div>\n",
       "<style scoped>\n",
       "    .dataframe tbody tr th:only-of-type {\n",
       "        vertical-align: middle;\n",
       "    }\n",
       "\n",
       "    .dataframe tbody tr th {\n",
       "        vertical-align: top;\n",
       "    }\n",
       "\n",
       "    .dataframe thead th {\n",
       "        text-align: right;\n",
       "    }\n",
       "</style>\n",
       "<table border=\"1\" class=\"dataframe\">\n",
       "  <thead>\n",
       "    <tr style=\"text-align: right;\">\n",
       "      <th></th>\n",
       "      <th>features</th>\n",
       "      <th>snd_adjusted</th>\n",
       "      <th>snd_raw</th>\n",
       "    </tr>\n",
       "  </thead>\n",
       "  <tbody>\n",
       "    <tr>\n",
       "      <th>0</th>\n",
       "      <td>recency</td>\n",
       "      <td>0.004193</td>\n",
       "      <td>0.24586</td>\n",
       "    </tr>\n",
       "    <tr>\n",
       "      <th>1</th>\n",
       "      <td>history</td>\n",
       "      <td>0.011656</td>\n",
       "      <td>0.27647</td>\n",
       "    </tr>\n",
       "    <tr>\n",
       "      <th>2</th>\n",
       "      <td>mens</td>\n",
       "      <td>0.000758</td>\n",
       "      <td>0.03724</td>\n",
       "    </tr>\n",
       "    <tr>\n",
       "      <th>3</th>\n",
       "      <td>womens</td>\n",
       "      <td>0.001163</td>\n",
       "      <td>0.03590</td>\n",
       "    </tr>\n",
       "    <tr>\n",
       "      <th>4</th>\n",
       "      <td>newbie</td>\n",
       "      <td>0.038947</td>\n",
       "      <td>0.00915</td>\n",
       "    </tr>\n",
       "    <tr>\n",
       "      <th>5</th>\n",
       "      <td>visit</td>\n",
       "      <td>0.159138</td>\n",
       "      <td>0.25398</td>\n",
       "    </tr>\n",
       "    <tr>\n",
       "      <th>6</th>\n",
       "      <td>conversion</td>\n",
       "      <td>0.044462</td>\n",
       "      <td>0.07605</td>\n",
       "    </tr>\n",
       "    <tr>\n",
       "      <th>7</th>\n",
       "      <td>p_logit</td>\n",
       "      <td>0.007549</td>\n",
       "      <td>0.35048</td>\n",
       "    </tr>\n",
       "    <tr>\n",
       "      <th>8</th>\n",
       "      <td>Multichannel</td>\n",
       "      <td>0.007016</td>\n",
       "      <td>0.00988</td>\n",
       "    </tr>\n",
       "    <tr>\n",
       "      <th>9</th>\n",
       "      <td>Phone</td>\n",
       "      <td>0.001895</td>\n",
       "      <td>0.01489</td>\n",
       "    </tr>\n",
       "    <tr>\n",
       "      <th>10</th>\n",
       "      <td>Web</td>\n",
       "      <td>0.002731</td>\n",
       "      <td>0.00827</td>\n",
       "    </tr>\n",
       "  </tbody>\n",
       "</table>\n",
       "</div>"
      ],
      "text/plain": [
       "        features  snd_adjusted  snd_raw\n",
       "0        recency      0.004193  0.24586\n",
       "1        history      0.011656  0.27647\n",
       "2           mens      0.000758  0.03724\n",
       "3         womens      0.001163  0.03590\n",
       "4         newbie      0.038947  0.00915\n",
       "5          visit      0.159138  0.25398\n",
       "6     conversion      0.044462  0.07605\n",
       "7        p_logit      0.007549  0.35048\n",
       "8   Multichannel      0.007016  0.00988\n",
       "9          Phone      0.001895  0.01489\n",
       "10           Web      0.002731  0.00827"
      ]
     },
     "execution_count": 35,
     "metadata": {},
     "output_type": "execute_result"
    }
   ],
   "source": [
    "cobalt_df = adjusted_diff.merge(unadjusted_diff, on ='features', suffixes = [\"_adjusted\", \"_raw\"])\n",
    "cobalt_df"
   ]
  },
  {
   "cell_type": "code",
   "execution_count": 36,
   "metadata": {},
   "outputs": [
    {
     "data": {
      "image/png": "[encoded data removed]",
      "text/plain": [
       "<Figure size 720x576 with 1 Axes>"
      ]
     },
     "metadata": {
      "needs_background": "light"
     },
     "output_type": "display_data"
    }
   ],
   "source": [
    "plt.figure(figsize = (10, 8))\n",
    "plt.grid(True)\n",
    "plt.scatter(x = cobalt_df['snd_adjusted'], y = cobalt_df['features'],\n",
    "           label = 'adjusted', alpha = 1)\n",
    "plt.scatter(x = cobalt_df['snd_raw'], y = cobalt_df['features'],\n",
    "           label = 'unadjusted', alpha = 0.5)\n",
    "plt.legend();"
   ]
  },
  {
   "cell_type": "markdown",
   "metadata": {},
   "source": [
    "### Tips\n",
    "\n",
    "- 機械学習が導入されて意思決定を自動化している場所では入手できるデータに介入の割り振り確率、傾向スコアそのものがログデータとして残っている場合がある\n",
    "- 仮に残っていなくてもDを決定する仕組みの仕様が残されている場合もあり、効果検証する土壌がある可能性がある"
   ]
  },
  {
   "cell_type": "markdown",
   "metadata": {},
   "source": [
    "## 4. Simulation：買う確率が高い人にメールマーケティングをしてしまっているケース\n",
    "### 方針\n",
    "1. dataを疑似的に過去のデータ（train, non-treatedのみ）, 未来のデータ(test)に分けるとみなす\n",
    "2. trainを用いてcovariateに応じたconversion modelをlogitで作成\n",
    "3. 作成したモデルに基づいて、testに含まれる各主体に対してconversion rateを推定\n",
    "4. (3)で推定された確率をtest内部でパーセントランクに変換\n",
    "5. パーセントランクに基づき介入を割り当てる\n",
    "6. 配信ログを作成\n",
    "7. RCT, naive estimator, IPWの比較をする"
   ]
  },
  {
   "cell_type": "code",
   "execution_count": 37,
   "metadata": {},
   "outputs": [],
   "source": [
    "random_seed = 42\n",
    "np.random.seed(random_seed)"
   ]
  },
  {
   "cell_type": "code",
   "execution_count": 38,
   "metadata": {},
   "outputs": [],
   "source": [
    "train_df = male_df.sample(frac = 0.5, random_state = random_seed)\n",
    "test_index = set(male_df.index) - set(train_df.index)\n",
    "test_df = male_df.loc[test_index, :]"
   ]
  },
  {
   "cell_type": "markdown",
   "metadata": {},
   "source": [
    "#### trainをtreatment == 0に限定する"
   ]
  },
  {
   "cell_type": "code",
   "execution_count": 39,
   "metadata": {},
   "outputs": [],
   "source": [
    "train_df = train_df.query(\"treatment == 0\")"
   ]
  },
  {
   "cell_type": "markdown",
   "metadata": {},
   "source": [
    "#### trainを用いてlogitモデル構築"
   ]
  },
  {
   "cell_type": "code",
   "execution_count": 40,
   "metadata": {},
   "outputs": [
    {
     "name": "stdout",
     "output_type": "stream",
     "text": [
      "Optimization terminated successfully.\n",
      "         Current function value: 0.038507\n",
      "         Iterations 10\n"
     ]
    }
   ],
   "source": [
    "logit_formula = 'conversion ~ recency + history_segment + channel + zip_code'\n",
    "logit_res = smf.logit(formula=logit_formula, data=train_df).fit()"
   ]
  },
  {
   "cell_type": "markdown",
   "metadata": {},
   "source": [
    "#### test_dfのconversion rateを予測"
   ]
  },
  {
   "cell_type": "code",
   "execution_count": 41,
   "metadata": {},
   "outputs": [],
   "source": [
    "test_df['pscore'] = logit_res.predict(test_df)"
   ]
  },
  {
   "cell_type": "code",
   "execution_count": 42,
   "metadata": {},
   "outputs": [
    {
     "data": {
      "text/plain": [
       "<matplotlib.axes._subplots.AxesSubplot at 0x125cdf110>"
      ]
     },
     "execution_count": 42,
     "metadata": {},
     "output_type": "execute_result"
    },
    {
     "data": {
      "image/png": "[encoded data removed]",
      "text/plain": [
       "<Figure size 432x288 with 1 Axes>"
      ]
     },
     "metadata": {
      "needs_background": "light"
     },
     "output_type": "display_data"
    }
   ],
   "source": [
    "sns.distplot(test_df['pscore'])"
   ]
  },
  {
   "cell_type": "markdown",
   "metadata": {},
   "source": [
    "#### パーセントランクの計算"
   ]
  },
  {
   "cell_type": "code",
   "execution_count": 43,
   "metadata": {},
   "outputs": [
    {
     "data": {
      "text/plain": [
       "<matplotlib.axes._subplots.AxesSubplot at 0x1250c7050>"
      ]
     },
     "execution_count": 43,
     "metadata": {},
     "output_type": "execute_result"
    },
    {
     "data": {
      "image/png": "[encoded data removed]",
      "text/plain": [
       "<Figure size 432x288 with 1 Axes>"
      ]
     },
     "metadata": {
      "needs_background": "light"
     },
     "output_type": "display_data"
    }
   ],
   "source": [
    "test_df['p_rank'] = test_df['pscore'].rank(pct=True)\n",
    "sns.distplot(test_df['p_rank'])"
   ]
  },
  {
   "cell_type": "markdown",
   "metadata": {},
   "source": [
    "#### パーセントランクに基づき介入を割り当てる\n",
    "\n",
    "- `pandas.DataFrame.apply`ではなく`numpy.array`の方が速い"
   ]
  },
  {
   "cell_type": "code",
   "execution_count": 44,
   "metadata": {},
   "outputs": [],
   "source": [
    "#%%timeit \n",
    "#prob = test_df['p_rank'].values\n",
    "#np.random.binomial(n = 1, p = prob)"
   ]
  },
  {
   "cell_type": "code",
   "execution_count": 45,
   "metadata": {},
   "outputs": [],
   "source": [
    "#%%timeit\n",
    "#test_df['p_rank'].apply(lambda x: np.random.binomial(n=1, p=x))"
   ]
  },
  {
   "cell_type": "code",
   "execution_count": 46,
   "metadata": {},
   "outputs": [],
   "source": [
    "prob = test_df['p_rank'].values\n",
    "assign = np.random.binomial(n = 1, p = prob)"
   ]
  },
  {
   "cell_type": "code",
   "execution_count": 47,
   "metadata": {},
   "outputs": [],
   "source": [
    "test_df['assign'] = assign"
   ]
  },
  {
   "cell_type": "markdown",
   "metadata": {},
   "source": [
    "#### 配信ログを作成"
   ]
  },
  {
   "cell_type": "code",
   "execution_count": 48,
   "metadata": {},
   "outputs": [],
   "source": [
    "log_df = test_df.query(\"(treatment == 1 & assign == 1) or (treatment == 0 & assign == 0)\")\n",
    "log_df = log_df.reset_index(drop = True)"
   ]
  },
  {
   "cell_type": "code",
   "execution_count": 49,
   "metadata": {},
   "outputs": [
    {
     "data": {
      "text/html": [
       "<div>\n",
       "<style scoped>\n",
       "    .dataframe tbody tr th:only-of-type {\n",
       "        vertical-align: middle;\n",
       "    }\n",
       "\n",
       "    .dataframe tbody tr th {\n",
       "        vertical-align: top;\n",
       "    }\n",
       "\n",
       "    .dataframe thead th {\n",
       "        text-align: right;\n",
       "    }\n",
       "</style>\n",
       "<table border=\"1\" class=\"dataframe\">\n",
       "  <thead>\n",
       "    <tr style=\"text-align: right;\">\n",
       "      <th></th>\n",
       "      <th>recency</th>\n",
       "      <th>history_segment</th>\n",
       "      <th>history</th>\n",
       "      <th>mens</th>\n",
       "      <th>womens</th>\n",
       "      <th>zip_code</th>\n",
       "      <th>newbie</th>\n",
       "      <th>channel</th>\n",
       "      <th>segment</th>\n",
       "      <th>visit</th>\n",
       "      <th>conversion</th>\n",
       "      <th>spend</th>\n",
       "      <th>treatment</th>\n",
       "      <th>pscore</th>\n",
       "      <th>p_rank</th>\n",
       "      <th>assign</th>\n",
       "    </tr>\n",
       "  </thead>\n",
       "  <tbody>\n",
       "    <tr>\n",
       "      <th>0</th>\n",
       "      <td>3</td>\n",
       "      <td>1) $0 - $100</td>\n",
       "      <td>58.13</td>\n",
       "      <td>1</td>\n",
       "      <td>0</td>\n",
       "      <td>Urban</td>\n",
       "      <td>1</td>\n",
       "      <td>Web</td>\n",
       "      <td>No E-Mail</td>\n",
       "      <td>1</td>\n",
       "      <td>0</td>\n",
       "      <td>0.0</td>\n",
       "      <td>0</td>\n",
       "      <td>0.008908</td>\n",
       "      <td>0.743488</td>\n",
       "      <td>0</td>\n",
       "    </tr>\n",
       "    <tr>\n",
       "      <th>1</th>\n",
       "      <td>5</td>\n",
       "      <td>6) $750 - $1,000</td>\n",
       "      <td>828.42</td>\n",
       "      <td>1</td>\n",
       "      <td>0</td>\n",
       "      <td>Surburban</td>\n",
       "      <td>1</td>\n",
       "      <td>Multichannel</td>\n",
       "      <td>Mens E-Mail</td>\n",
       "      <td>0</td>\n",
       "      <td>0</td>\n",
       "      <td>0.0</td>\n",
       "      <td>1</td>\n",
       "      <td>0.004402</td>\n",
       "      <td>0.431971</td>\n",
       "      <td>1</td>\n",
       "    </tr>\n",
       "    <tr>\n",
       "      <th>2</th>\n",
       "      <td>9</td>\n",
       "      <td>1) $0 - $100</td>\n",
       "      <td>29.99</td>\n",
       "      <td>0</td>\n",
       "      <td>1</td>\n",
       "      <td>Surburban</td>\n",
       "      <td>1</td>\n",
       "      <td>Phone</td>\n",
       "      <td>No E-Mail</td>\n",
       "      <td>0</td>\n",
       "      <td>0</td>\n",
       "      <td>0.0</td>\n",
       "      <td>0</td>\n",
       "      <td>0.002860</td>\n",
       "      <td>0.225466</td>\n",
       "      <td>0</td>\n",
       "    </tr>\n",
       "    <tr>\n",
       "      <th>3</th>\n",
       "      <td>6</td>\n",
       "      <td>2) $100 - $200</td>\n",
       "      <td>139.87</td>\n",
       "      <td>0</td>\n",
       "      <td>1</td>\n",
       "      <td>Rural</td>\n",
       "      <td>1</td>\n",
       "      <td>Web</td>\n",
       "      <td>Mens E-Mail</td>\n",
       "      <td>0</td>\n",
       "      <td>0</td>\n",
       "      <td>0.0</td>\n",
       "      <td>1</td>\n",
       "      <td>0.002618</td>\n",
       "      <td>0.197635</td>\n",
       "      <td>1</td>\n",
       "    </tr>\n",
       "    <tr>\n",
       "      <th>4</th>\n",
       "      <td>6</td>\n",
       "      <td>2) $100 - $200</td>\n",
       "      <td>128.01</td>\n",
       "      <td>0</td>\n",
       "      <td>1</td>\n",
       "      <td>Urban</td>\n",
       "      <td>0</td>\n",
       "      <td>Web</td>\n",
       "      <td>Mens E-Mail</td>\n",
       "      <td>0</td>\n",
       "      <td>0</td>\n",
       "      <td>0.0</td>\n",
       "      <td>1</td>\n",
       "      <td>0.002537</td>\n",
       "      <td>0.186136</td>\n",
       "      <td>1</td>\n",
       "    </tr>\n",
       "  </tbody>\n",
       "</table>\n",
       "</div>"
      ],
      "text/plain": [
       "   recency   history_segment  history  mens  womens   zip_code  newbie  \\\n",
       "0        3      1) $0 - $100    58.13     1       0      Urban       1   \n",
       "1        5  6) $750 - $1,000   828.42     1       0  Surburban       1   \n",
       "2        9      1) $0 - $100    29.99     0       1  Surburban       1   \n",
       "3        6    2) $100 - $200   139.87     0       1      Rural       1   \n",
       "4        6    2) $100 - $200   128.01     0       1      Urban       0   \n",
       "\n",
       "        channel      segment  visit  conversion  spend  treatment    pscore  \\\n",
       "0           Web    No E-Mail      1           0    0.0          0  0.008908   \n",
       "1  Multichannel  Mens E-Mail      0           0    0.0          1  0.004402   \n",
       "2         Phone    No E-Mail      0           0    0.0          0  0.002860   \n",
       "3           Web  Mens E-Mail      0           0    0.0          1  0.002618   \n",
       "4           Web  Mens E-Mail      0           0    0.0          1  0.002537   \n",
       "\n",
       "     p_rank  assign  \n",
       "0  0.743488       0  \n",
       "1  0.431971       1  \n",
       "2  0.225466       0  \n",
       "3  0.197635       1  \n",
       "4  0.186136       1  "
      ]
     },
     "execution_count": 49,
     "metadata": {},
     "output_type": "execute_result"
    }
   ],
   "source": [
    "log_df.head()"
   ]
  },
  {
   "cell_type": "markdown",
   "metadata": {},
   "source": [
    "#### RCT, IPW, naive estimatorの比較"
   ]
  },
  {
   "cell_type": "code",
   "execution_count": 50,
   "metadata": {},
   "outputs": [],
   "source": [
    "### IPWのためのweight作成\n",
    "TREAT = (1/log_df.query('assign == 1')['p_rank']).sum()\n",
    "CONTROL = (1/(1 - log_df.query('assign == 1')['p_rank'])).sum()\n",
    "log_df['weight'] = log_df.apply(lambda x : 1/x['p_rank']/TREAT if x['assign'] == 1 \n",
    "                                else (1/(1 - x['p_rank']))/CONTROL\n",
    "                                , axis = 1)"
   ]
  },
  {
   "cell_type": "code",
   "execution_count": 51,
   "metadata": {},
   "outputs": [],
   "source": [
    "results = []\n",
    "for i in [test_df, log_df]:\n",
    "    y, X = dmatrices('spend~treatment',\n",
    "                         data = i,\n",
    "                         return_type = 'dataframe')\n",
    "    res = sm.OLS(y, X).fit(cov_type = 'HC0')\n",
    "    results.append(res)\n",
    "\n",
    "res = sm.WLS.from_formula(\"spend~treatment\", weights=log_df['weight'],\n",
    "                              data=log_df).fit() \n",
    "results.append(res)"
   ]
  },
  {
   "cell_type": "code",
   "execution_count": 52,
   "metadata": {},
   "outputs": [
    {
     "name": "stdout",
     "output_type": "stream",
     "text": [
      " EDUCATIONAL OUTCOMES AND VOUCHER STATUS\n",
      "==========================================\n",
      "                   RCT     naive     IPW  \n",
      "------------------------------------------\n",
      "Intercept        0.578*** 0.466*** 0.621  \n",
      "                 (0.108)  (0.118)  (0.422)\n",
      "treatment        0.687*** 0.830*** 0.747* \n",
      "                 (0.194)  (0.251)  (0.449)\n",
      "R-squared        0.001    0.001    0.000  \n",
      "                 0.001    0.001    0.000  \n",
      "Pseudo R-squared                          \n",
      "No. observations 21307    10709    10709  \n",
      "==========================================\n",
      "Standard errors in parentheses.\n",
      "* p<.1, ** p<.05, ***p<.01\n"
     ]
    }
   ],
   "source": [
    "info_dict = {'Pseudo R-squared': lambda x: f\"{x.prsquared:.2f}\",\n",
    "             'No. observations': lambda x: f\"{int(x.nobs):d}\"}\n",
    "regressor_order = ['Intercept',\n",
    "                   'treatment']\n",
    "results_table = summary_col(results=results,\n",
    "                            float_format='%0.3f',\n",
    "                            stars=True,\n",
    "                            model_names=['RCT', 'naive', 'IPW'],\n",
    "                            info_dict=info_dict,\n",
    "                            regressor_order=regressor_order)\n",
    "results_table.add_title('EDUCATIONAL OUTCOMES AND VOUCHER STATUS')\n",
    "print(results_table)"
   ]
  },
  {
   "cell_type": "markdown",
   "metadata": {},
   "source": [
    "biasは軽減されていることがわかる"
   ]
  },
  {
   "cell_type": "markdown",
   "metadata": {},
   "source": [
    "## 5. Selecting Target with Causal Tree\n",
    "\n",
    "- mail marketing targetをspend uplift最大化するような形で設定する\n",
    "- causal treeを用いてupliftfが高組み込めそうなindividualにmarketingを実施、その時のrevenue impactをsimulationする\n",
    "- see [policy targeting](https://voxeu.org/article/effective-policy-targeting-machine-learning)\n",
    "\n",
    "### Key Concept\n",
    "\n",
    "- policyのeffectivenessはtargetをどのように絞るかによって実現される\n",
    "- returnが最も大きいグループにpolicyを打ち出すべき = 介入効果があるグループのみ介入する\n",
    "\n",
    "### Method\n",
    "\n",
    "- Honest Causal Tree Learning\n",
    "\n",
    "### 方針\n",
    "\n",
    "1. causaltreeでuplift効果を予測\n",
    "2. Select treatment target\n",
    "3. revenue simulation\n",
    "\n",
    "### REMARKS\n",
    "\n",
    "一般的にはUpliftModeling Scoreは以下のように定義される\n",
    "\n",
    "$$\n",
    "\\text{UpliftModeling Score} = \\frac{\\text{treated時のスコア}}{\\text{non-treated時のスコア}}\n",
    "$$\n"
   ]
  },
  {
   "cell_type": "markdown",
   "metadata": {},
   "source": [
    "### causal tree estimate"
   ]
  },
  {
   "cell_type": "code",
   "execution_count": 53,
   "metadata": {},
   "outputs": [],
   "source": [
    "dummy_channel = sm.tools.categorical(male_df, col='channel', drop=True)\n",
    "dummy_zipcode = sm.tools.categorical(male_df, col='zip_code', drop=True)\n",
    "causal_df = pd.concat([male_df, dummy_channel, dummy_zipcode], axis = 1)"
   ]
  },
  {
   "cell_type": "code",
   "execution_count": 54,
   "metadata": {},
   "outputs": [
    {
     "data": {
      "text/html": [
       "<div>\n",
       "<style scoped>\n",
       "    .dataframe tbody tr th:only-of-type {\n",
       "        vertical-align: middle;\n",
       "    }\n",
       "\n",
       "    .dataframe tbody tr th {\n",
       "        vertical-align: top;\n",
       "    }\n",
       "\n",
       "    .dataframe thead th {\n",
       "        text-align: right;\n",
       "    }\n",
       "</style>\n",
       "<table border=\"1\" class=\"dataframe\">\n",
       "  <thead>\n",
       "    <tr style=\"text-align: right;\">\n",
       "      <th></th>\n",
       "      <th>recency</th>\n",
       "      <th>history_segment</th>\n",
       "      <th>history</th>\n",
       "      <th>mens</th>\n",
       "      <th>womens</th>\n",
       "      <th>zip_code</th>\n",
       "      <th>newbie</th>\n",
       "      <th>channel</th>\n",
       "      <th>segment</th>\n",
       "      <th>visit</th>\n",
       "      <th>conversion</th>\n",
       "      <th>spend</th>\n",
       "      <th>treatment</th>\n",
       "      <th>Multichannel</th>\n",
       "      <th>Phone</th>\n",
       "      <th>Web</th>\n",
       "      <th>Rural</th>\n",
       "      <th>Surburban</th>\n",
       "      <th>Urban</th>\n",
       "    </tr>\n",
       "  </thead>\n",
       "  <tbody>\n",
       "    <tr>\n",
       "      <th>0</th>\n",
       "      <td>6</td>\n",
       "      <td>3) $200 - $350</td>\n",
       "      <td>329.08</td>\n",
       "      <td>1</td>\n",
       "      <td>1</td>\n",
       "      <td>Rural</td>\n",
       "      <td>1</td>\n",
       "      <td>Web</td>\n",
       "      <td>No E-Mail</td>\n",
       "      <td>0</td>\n",
       "      <td>0</td>\n",
       "      <td>0.0</td>\n",
       "      <td>0</td>\n",
       "      <td>0</td>\n",
       "      <td>0</td>\n",
       "      <td>1</td>\n",
       "      <td>1</td>\n",
       "      <td>0</td>\n",
       "      <td>0</td>\n",
       "    </tr>\n",
       "    <tr>\n",
       "      <th>1</th>\n",
       "      <td>9</td>\n",
       "      <td>5) $500 - $750</td>\n",
       "      <td>675.83</td>\n",
       "      <td>1</td>\n",
       "      <td>0</td>\n",
       "      <td>Rural</td>\n",
       "      <td>1</td>\n",
       "      <td>Web</td>\n",
       "      <td>Mens E-Mail</td>\n",
       "      <td>0</td>\n",
       "      <td>0</td>\n",
       "      <td>0.0</td>\n",
       "      <td>1</td>\n",
       "      <td>0</td>\n",
       "      <td>0</td>\n",
       "      <td>1</td>\n",
       "      <td>1</td>\n",
       "      <td>0</td>\n",
       "      <td>0</td>\n",
       "    </tr>\n",
       "    <tr>\n",
       "      <th>2</th>\n",
       "      <td>9</td>\n",
       "      <td>5) $500 - $750</td>\n",
       "      <td>675.07</td>\n",
       "      <td>1</td>\n",
       "      <td>1</td>\n",
       "      <td>Rural</td>\n",
       "      <td>1</td>\n",
       "      <td>Phone</td>\n",
       "      <td>Mens E-Mail</td>\n",
       "      <td>0</td>\n",
       "      <td>0</td>\n",
       "      <td>0.0</td>\n",
       "      <td>1</td>\n",
       "      <td>0</td>\n",
       "      <td>1</td>\n",
       "      <td>0</td>\n",
       "      <td>1</td>\n",
       "      <td>0</td>\n",
       "      <td>0</td>\n",
       "    </tr>\n",
       "    <tr>\n",
       "      <th>3</th>\n",
       "      <td>2</td>\n",
       "      <td>2) $100 - $200</td>\n",
       "      <td>101.64</td>\n",
       "      <td>0</td>\n",
       "      <td>1</td>\n",
       "      <td>Urban</td>\n",
       "      <td>0</td>\n",
       "      <td>Web</td>\n",
       "      <td>Mens E-Mail</td>\n",
       "      <td>1</td>\n",
       "      <td>0</td>\n",
       "      <td>0.0</td>\n",
       "      <td>1</td>\n",
       "      <td>0</td>\n",
       "      <td>0</td>\n",
       "      <td>1</td>\n",
       "      <td>0</td>\n",
       "      <td>0</td>\n",
       "      <td>1</td>\n",
       "    </tr>\n",
       "    <tr>\n",
       "      <th>4</th>\n",
       "      <td>4</td>\n",
       "      <td>3) $200 - $350</td>\n",
       "      <td>241.42</td>\n",
       "      <td>0</td>\n",
       "      <td>1</td>\n",
       "      <td>Rural</td>\n",
       "      <td>1</td>\n",
       "      <td>Multichannel</td>\n",
       "      <td>No E-Mail</td>\n",
       "      <td>0</td>\n",
       "      <td>0</td>\n",
       "      <td>0.0</td>\n",
       "      <td>0</td>\n",
       "      <td>1</td>\n",
       "      <td>0</td>\n",
       "      <td>0</td>\n",
       "      <td>1</td>\n",
       "      <td>0</td>\n",
       "      <td>0</td>\n",
       "    </tr>\n",
       "  </tbody>\n",
       "</table>\n",
       "</div>"
      ],
      "text/plain": [
       "   recency history_segment  history  mens  womens zip_code  newbie  \\\n",
       "0        6  3) $200 - $350   329.08     1       1    Rural       1   \n",
       "1        9  5) $500 - $750   675.83     1       0    Rural       1   \n",
       "2        9  5) $500 - $750   675.07     1       1    Rural       1   \n",
       "3        2  2) $100 - $200   101.64     0       1    Urban       0   \n",
       "4        4  3) $200 - $350   241.42     0       1    Rural       1   \n",
       "\n",
       "        channel      segment  visit  conversion  spend  treatment  \\\n",
       "0           Web    No E-Mail      0           0    0.0          0   \n",
       "1           Web  Mens E-Mail      0           0    0.0          1   \n",
       "2         Phone  Mens E-Mail      0           0    0.0          1   \n",
       "3           Web  Mens E-Mail      1           0    0.0          1   \n",
       "4  Multichannel    No E-Mail      0           0    0.0          0   \n",
       "\n",
       "   Multichannel  Phone  Web  Rural  Surburban  Urban  \n",
       "0             0      0    1      1          0      0  \n",
       "1             0      0    1      1          0      0  \n",
       "2             0      1    0      1          0      0  \n",
       "3             0      0    1      0          0      1  \n",
       "4             1      0    0      1          0      0  "
      ]
     },
     "execution_count": 54,
     "metadata": {},
     "output_type": "execute_result"
    }
   ],
   "source": [
    "causal_df.head()"
   ]
  },
  {
   "cell_type": "markdown",
   "metadata": {
    "toc-hr-collapsed": true
   },
   "source": [
    "### pre-processing"
   ]
  },
  {
   "cell_type": "code",
   "execution_count": 55,
   "metadata": {},
   "outputs": [
    {
     "data": {
      "text/plain": [
       "recency              int64\n",
       "history_segment     object\n",
       "history            float64\n",
       "mens                 int64\n",
       "womens               int64\n",
       "zip_code            object\n",
       "newbie               int64\n",
       "channel             object\n",
       "segment             object\n",
       "visit                int64\n",
       "conversion           int64\n",
       "spend              float64\n",
       "treatment            int64\n",
       "Multichannel         uint8\n",
       "Phone                uint8\n",
       "Web                  uint8\n",
       "Rural                uint8\n",
       "Surburban            uint8\n",
       "Urban                uint8\n",
       "dtype: object"
      ]
     },
     "execution_count": 55,
     "metadata": {},
     "output_type": "execute_result"
    }
   ],
   "source": [
    "causal_df.dtypes"
   ]
  },
  {
   "cell_type": "code",
   "execution_count": 56,
   "metadata": {},
   "outputs": [],
   "source": [
    "features = []\n",
    "for i in causal_df.columns:\n",
    "    if causal_df.dtypes[i] in ('int64', 'float64', 'uint8'):\n",
    "        features.append(i)"
   ]
  },
  {
   "cell_type": "code",
   "execution_count": 57,
   "metadata": {},
   "outputs": [
    {
     "data": {
      "text/html": [
       "<div>\n",
       "<style scoped>\n",
       "    .dataframe tbody tr th:only-of-type {\n",
       "        vertical-align: middle;\n",
       "    }\n",
       "\n",
       "    .dataframe tbody tr th {\n",
       "        vertical-align: top;\n",
       "    }\n",
       "\n",
       "    .dataframe thead th {\n",
       "        text-align: right;\n",
       "    }\n",
       "</style>\n",
       "<table border=\"1\" class=\"dataframe\">\n",
       "  <thead>\n",
       "    <tr style=\"text-align: right;\">\n",
       "      <th></th>\n",
       "      <th>recency</th>\n",
       "      <th>history</th>\n",
       "      <th>mens</th>\n",
       "      <th>womens</th>\n",
       "      <th>newbie</th>\n",
       "      <th>visit</th>\n",
       "      <th>conversion</th>\n",
       "      <th>spend</th>\n",
       "      <th>treatment</th>\n",
       "      <th>Multichannel</th>\n",
       "      <th>Phone</th>\n",
       "      <th>Web</th>\n",
       "      <th>Rural</th>\n",
       "      <th>Surburban</th>\n",
       "      <th>Urban</th>\n",
       "    </tr>\n",
       "  </thead>\n",
       "  <tbody>\n",
       "    <tr>\n",
       "      <th>0</th>\n",
       "      <td>6</td>\n",
       "      <td>329.08</td>\n",
       "      <td>1</td>\n",
       "      <td>1</td>\n",
       "      <td>1</td>\n",
       "      <td>0</td>\n",
       "      <td>0</td>\n",
       "      <td>0.0</td>\n",
       "      <td>0</td>\n",
       "      <td>0</td>\n",
       "      <td>0</td>\n",
       "      <td>1</td>\n",
       "      <td>1</td>\n",
       "      <td>0</td>\n",
       "      <td>0</td>\n",
       "    </tr>\n",
       "    <tr>\n",
       "      <th>1</th>\n",
       "      <td>9</td>\n",
       "      <td>675.83</td>\n",
       "      <td>1</td>\n",
       "      <td>0</td>\n",
       "      <td>1</td>\n",
       "      <td>0</td>\n",
       "      <td>0</td>\n",
       "      <td>0.0</td>\n",
       "      <td>1</td>\n",
       "      <td>0</td>\n",
       "      <td>0</td>\n",
       "      <td>1</td>\n",
       "      <td>1</td>\n",
       "      <td>0</td>\n",
       "      <td>0</td>\n",
       "    </tr>\n",
       "    <tr>\n",
       "      <th>2</th>\n",
       "      <td>9</td>\n",
       "      <td>675.07</td>\n",
       "      <td>1</td>\n",
       "      <td>1</td>\n",
       "      <td>1</td>\n",
       "      <td>0</td>\n",
       "      <td>0</td>\n",
       "      <td>0.0</td>\n",
       "      <td>1</td>\n",
       "      <td>0</td>\n",
       "      <td>1</td>\n",
       "      <td>0</td>\n",
       "      <td>1</td>\n",
       "      <td>0</td>\n",
       "      <td>0</td>\n",
       "    </tr>\n",
       "    <tr>\n",
       "      <th>3</th>\n",
       "      <td>2</td>\n",
       "      <td>101.64</td>\n",
       "      <td>0</td>\n",
       "      <td>1</td>\n",
       "      <td>0</td>\n",
       "      <td>1</td>\n",
       "      <td>0</td>\n",
       "      <td>0.0</td>\n",
       "      <td>1</td>\n",
       "      <td>0</td>\n",
       "      <td>0</td>\n",
       "      <td>1</td>\n",
       "      <td>0</td>\n",
       "      <td>0</td>\n",
       "      <td>1</td>\n",
       "    </tr>\n",
       "    <tr>\n",
       "      <th>4</th>\n",
       "      <td>4</td>\n",
       "      <td>241.42</td>\n",
       "      <td>0</td>\n",
       "      <td>1</td>\n",
       "      <td>1</td>\n",
       "      <td>0</td>\n",
       "      <td>0</td>\n",
       "      <td>0.0</td>\n",
       "      <td>0</td>\n",
       "      <td>1</td>\n",
       "      <td>0</td>\n",
       "      <td>0</td>\n",
       "      <td>1</td>\n",
       "      <td>0</td>\n",
       "      <td>0</td>\n",
       "    </tr>\n",
       "  </tbody>\n",
       "</table>\n",
       "</div>"
      ],
      "text/plain": [
       "   recency  history  mens  womens  newbie  visit  conversion  spend  \\\n",
       "0        6   329.08     1       1       1      0           0    0.0   \n",
       "1        9   675.83     1       0       1      0           0    0.0   \n",
       "2        9   675.07     1       1       1      0           0    0.0   \n",
       "3        2   101.64     0       1       0      1           0    0.0   \n",
       "4        4   241.42     0       1       1      0           0    0.0   \n",
       "\n",
       "   treatment  Multichannel  Phone  Web  Rural  Surburban  Urban  \n",
       "0          0             0      0    1      1          0      0  \n",
       "1          1             0      0    1      1          0      0  \n",
       "2          1             0      1    0      1          0      0  \n",
       "3          1             0      0    1      0          0      1  \n",
       "4          0             1      0    0      1          0      0  "
      ]
     },
     "execution_count": 57,
     "metadata": {},
     "output_type": "execute_result"
    }
   ],
   "source": [
    "reg_df = causal_df.loc[:, features]\n",
    "reg_df.head()"
   ]
  },
  {
   "cell_type": "markdown",
   "metadata": {},
   "source": [
    "#### 過去と未来のデータを分ける"
   ]
  },
  {
   "cell_type": "code",
   "execution_count": 58,
   "metadata": {},
   "outputs": [],
   "source": [
    "past_df = reg_df.sample(frac = 0.9, random_state = 42)\n",
    "is_future = set(reg_df.index) - set(past_df.index)\n",
    "simulation_df = reg_df.loc[is_future, :].reset_index(drop = True)\n",
    "past_df = past_df.reset_index(drop = True)"
   ]
  },
  {
   "cell_type": "markdown",
   "metadata": {},
   "source": [
    "#### logitでconversion rateを予測"
   ]
  },
  {
   "cell_type": "code",
   "execution_count": 59,
   "metadata": {},
   "outputs": [
    {
     "name": "stdout",
     "output_type": "stream",
     "text": [
      "Optimization terminated successfully.\n",
      "         Current function value: 0.034460\n",
      "         Iterations 10\n"
     ]
    }
   ],
   "source": [
    "logit_formula = 'conversion ~ recency + history + newbie + Phone + Web + Rural + Surburban'\n",
    "logit_res = smf.logit(formula=logit_formula, data=past_df.query('treatment == 0')).fit()\n",
    "past_df['pscore'] = logit_res.predict(past_df)"
   ]
  },
  {
   "cell_type": "markdown",
   "metadata": {
    "toc-hr-collapsed": true
   },
   "source": [
    "### CATE estimation"
   ]
  },
  {
   "cell_type": "code",
   "execution_count": 60,
   "metadata": {},
   "outputs": [],
   "source": [
    "y = past_df['conversion'].values\n",
    "Z = past_df['pscore']\n",
    "X = past_df.drop(['conversion', 'treatment', 'spend', 'visit', 'pscore'], axis = 1).values\n",
    "treatment = past_df['treatment'].values"
   ]
  },
  {
   "cell_type": "code",
   "execution_count": 61,
   "metadata": {},
   "outputs": [],
   "source": [
    "x_train, x_test, y_train, y_test, Z_train, Z_test, treat_train,treat_test = train_test_split(X, \n",
    "                                                                             y, \n",
    "                                                                             Z,\n",
    "                                                                             treatment,\n",
    "                                                                             test_size=0.2, \n",
    "                                                                             random_state=42)"
   ]
  },
  {
   "cell_type": "code",
   "execution_count": 62,
   "metadata": {},
   "outputs": [],
   "source": [
    "## 自作関数\n",
    "#cth = hct.CausalTree(honest=True)\n",
    "#cth.fit(x_train, y_train, treat_train)\n",
    "#cth_predict = cth.predict(x_test)\n",
    "#cth.plot_tree(training_data=x_train)"
   ]
  },
  {
   "cell_type": "code",
   "execution_count": 63,
   "metadata": {},
   "outputs": [],
   "source": [
    "cth = CausalTree(honest=True)\n",
    "cth.fit(x_train, y_train, treat_train)\n",
    "cth_predict = cth.predict(x_test)\n",
    "#sns.distplot(cth_predict)"
   ]
  },
  {
   "cell_type": "code",
   "execution_count": 64,
   "metadata": {},
   "outputs": [],
   "source": [
    "# plot\n",
    "cth.plot_tree(training_data=x_train)"
   ]
  },
  {
   "cell_type": "markdown",
   "metadata": {},
   "source": [
    "#### spend uplift精度検証のためのデータ整形"
   ]
  },
  {
   "cell_type": "code",
   "execution_count": 65,
   "metadata": {},
   "outputs": [
    {
     "data": {
      "text/html": [
       "<div>\n",
       "<style scoped>\n",
       "    .dataframe tbody tr th:only-of-type {\n",
       "        vertical-align: middle;\n",
       "    }\n",
       "\n",
       "    .dataframe tbody tr th {\n",
       "        vertical-align: top;\n",
       "    }\n",
       "\n",
       "    .dataframe thead th {\n",
       "        text-align: right;\n",
       "    }\n",
       "</style>\n",
       "<table border=\"1\" class=\"dataframe\">\n",
       "  <thead>\n",
       "    <tr style=\"text-align: right;\">\n",
       "      <th></th>\n",
       "      <th>spend</th>\n",
       "      <th>treatment</th>\n",
       "      <th>pscore</th>\n",
       "      <th>predict</th>\n",
       "      <th>conversion</th>\n",
       "    </tr>\n",
       "  </thead>\n",
       "  <tbody>\n",
       "    <tr>\n",
       "      <th>0</th>\n",
       "      <td>0.0</td>\n",
       "      <td>1.0</td>\n",
       "      <td>0.004041</td>\n",
       "      <td>0.007821</td>\n",
       "      <td>0</td>\n",
       "    </tr>\n",
       "    <tr>\n",
       "      <th>1</th>\n",
       "      <td>0.0</td>\n",
       "      <td>1.0</td>\n",
       "      <td>0.002149</td>\n",
       "      <td>0.007821</td>\n",
       "      <td>0</td>\n",
       "    </tr>\n",
       "    <tr>\n",
       "      <th>2</th>\n",
       "      <td>0.0</td>\n",
       "      <td>1.0</td>\n",
       "      <td>0.004878</td>\n",
       "      <td>0.007821</td>\n",
       "      <td>0</td>\n",
       "    </tr>\n",
       "    <tr>\n",
       "      <th>3</th>\n",
       "      <td>0.0</td>\n",
       "      <td>1.0</td>\n",
       "      <td>0.005387</td>\n",
       "      <td>0.007821</td>\n",
       "      <td>0</td>\n",
       "    </tr>\n",
       "    <tr>\n",
       "      <th>4</th>\n",
       "      <td>0.0</td>\n",
       "      <td>0.0</td>\n",
       "      <td>0.003636</td>\n",
       "      <td>0.007821</td>\n",
       "      <td>0</td>\n",
       "    </tr>\n",
       "  </tbody>\n",
       "</table>\n",
       "</div>"
      ],
      "text/plain": [
       "   spend  treatment    pscore   predict  conversion\n",
       "0    0.0        1.0  0.004041  0.007821           0\n",
       "1    0.0        1.0  0.002149  0.007821           0\n",
       "2    0.0        1.0  0.004878  0.007821           0\n",
       "3    0.0        1.0  0.005387  0.007821           0\n",
       "4    0.0        0.0  0.003636  0.007821           0"
      ]
     },
     "execution_count": 65,
     "metadata": {},
     "output_type": "execute_result"
    }
   ],
   "source": [
    "check_df = pd.DataFrame(np.stack([y_test, treat_test,Z_test, cth_predict], axis = 1),\n",
    "                        columns = ['spend', 'treatment','pscore','predict'])\n",
    "check_df['conversion'] = list(map(lambda x: 1 if x > 0.0 else 0, check_df['spend'].values))\n",
    "check_df.head()"
   ]
  },
  {
   "cell_type": "code",
   "execution_count": 66,
   "metadata": {},
   "outputs": [
    {
     "data": {
      "text/html": [
       "<div>\n",
       "<style scoped>\n",
       "    .dataframe tbody tr th:only-of-type {\n",
       "        vertical-align: middle;\n",
       "    }\n",
       "\n",
       "    .dataframe tbody tr th {\n",
       "        vertical-align: top;\n",
       "    }\n",
       "\n",
       "    .dataframe thead th {\n",
       "        text-align: right;\n",
       "    }\n",
       "</style>\n",
       "<table border=\"1\" class=\"dataframe\">\n",
       "  <thead>\n",
       "    <tr style=\"text-align: right;\">\n",
       "      <th></th>\n",
       "      <th>spend</th>\n",
       "      <th>pscore</th>\n",
       "      <th>predict</th>\n",
       "      <th>conversion</th>\n",
       "    </tr>\n",
       "    <tr>\n",
       "      <th>treatment</th>\n",
       "      <th></th>\n",
       "      <th></th>\n",
       "      <th></th>\n",
       "      <th></th>\n",
       "    </tr>\n",
       "  </thead>\n",
       "  <tbody>\n",
       "    <tr>\n",
       "      <th>0.0</th>\n",
       "      <td>0.005490</td>\n",
       "      <td>0.005824</td>\n",
       "      <td>0.007429</td>\n",
       "      <td>0.005490</td>\n",
       "    </tr>\n",
       "    <tr>\n",
       "      <th>1.0</th>\n",
       "      <td>0.013001</td>\n",
       "      <td>0.005775</td>\n",
       "      <td>0.007631</td>\n",
       "      <td>0.013001</td>\n",
       "    </tr>\n",
       "  </tbody>\n",
       "</table>\n",
       "</div>"
      ],
      "text/plain": [
       "              spend    pscore   predict  conversion\n",
       "treatment                                          \n",
       "0.0        0.005490  0.005824  0.007429    0.005490\n",
       "1.0        0.013001  0.005775  0.007631    0.013001"
      ]
     },
     "execution_count": 66,
     "metadata": {},
     "output_type": "execute_result"
    }
   ],
   "source": [
    "check_df.groupby('treatment').agg('mean')"
   ]
  },
  {
   "cell_type": "code",
   "execution_count": 67,
   "metadata": {},
   "outputs": [
    {
     "data": {
      "text/html": [
       "<div>\n",
       "<style scoped>\n",
       "    .dataframe tbody tr th:only-of-type {\n",
       "        vertical-align: middle;\n",
       "    }\n",
       "\n",
       "    .dataframe tbody tr th {\n",
       "        vertical-align: top;\n",
       "    }\n",
       "\n",
       "    .dataframe thead th {\n",
       "        text-align: right;\n",
       "    }\n",
       "</style>\n",
       "<table border=\"1\" class=\"dataframe\">\n",
       "  <thead>\n",
       "    <tr style=\"text-align: right;\">\n",
       "      <th></th>\n",
       "      <th>spend</th>\n",
       "      <th>treatment</th>\n",
       "      <th>pscore</th>\n",
       "      <th>predict</th>\n",
       "      <th>conversion</th>\n",
       "    </tr>\n",
       "  </thead>\n",
       "  <tbody>\n",
       "    <tr>\n",
       "      <th>count</th>\n",
       "      <td>7671.000000</td>\n",
       "      <td>7671.000000</td>\n",
       "      <td>7671.000000</td>\n",
       "      <td>7671.000000</td>\n",
       "      <td>7671.000000</td>\n",
       "    </tr>\n",
       "    <tr>\n",
       "      <th>mean</th>\n",
       "      <td>0.009256</td>\n",
       "      <td>0.501369</td>\n",
       "      <td>0.005800</td>\n",
       "      <td>0.007530</td>\n",
       "      <td>0.009256</td>\n",
       "    </tr>\n",
       "    <tr>\n",
       "      <th>std</th>\n",
       "      <td>0.095766</td>\n",
       "      <td>0.500031</td>\n",
       "      <td>0.004565</td>\n",
       "      <td>0.007509</td>\n",
       "      <td>0.095766</td>\n",
       "    </tr>\n",
       "    <tr>\n",
       "      <th>min</th>\n",
       "      <td>0.000000</td>\n",
       "      <td>0.000000</td>\n",
       "      <td>0.000800</td>\n",
       "      <td>-0.200000</td>\n",
       "      <td>0.000000</td>\n",
       "    </tr>\n",
       "    <tr>\n",
       "      <th>25%</th>\n",
       "      <td>0.000000</td>\n",
       "      <td>0.000000</td>\n",
       "      <td>0.002729</td>\n",
       "      <td>0.007821</td>\n",
       "      <td>0.000000</td>\n",
       "    </tr>\n",
       "    <tr>\n",
       "      <th>50%</th>\n",
       "      <td>0.000000</td>\n",
       "      <td>1.000000</td>\n",
       "      <td>0.004477</td>\n",
       "      <td>0.007821</td>\n",
       "      <td>0.000000</td>\n",
       "    </tr>\n",
       "    <tr>\n",
       "      <th>75%</th>\n",
       "      <td>0.000000</td>\n",
       "      <td>1.000000</td>\n",
       "      <td>0.007955</td>\n",
       "      <td>0.007821</td>\n",
       "      <td>0.000000</td>\n",
       "    </tr>\n",
       "    <tr>\n",
       "      <th>max</th>\n",
       "      <td>1.000000</td>\n",
       "      <td>1.000000</td>\n",
       "      <td>0.126035</td>\n",
       "      <td>0.007821</td>\n",
       "      <td>1.000000</td>\n",
       "    </tr>\n",
       "  </tbody>\n",
       "</table>\n",
       "</div>"
      ],
      "text/plain": [
       "             spend    treatment       pscore      predict   conversion\n",
       "count  7671.000000  7671.000000  7671.000000  7671.000000  7671.000000\n",
       "mean      0.009256     0.501369     0.005800     0.007530     0.009256\n",
       "std       0.095766     0.500031     0.004565     0.007509     0.095766\n",
       "min       0.000000     0.000000     0.000800    -0.200000     0.000000\n",
       "25%       0.000000     0.000000     0.002729     0.007821     0.000000\n",
       "50%       0.000000     1.000000     0.004477     0.007821     0.000000\n",
       "75%       0.000000     1.000000     0.007955     0.007821     0.000000\n",
       "max       1.000000     1.000000     0.126035     0.007821     1.000000"
      ]
     },
     "execution_count": 67,
     "metadata": {},
     "output_type": "execute_result"
    }
   ],
   "source": [
    "check_df.describe()"
   ]
  },
  {
   "cell_type": "markdown",
   "metadata": {},
   "source": [
    "#### パーセンタイルの計算"
   ]
  },
  {
   "cell_type": "code",
   "execution_count": 68,
   "metadata": {},
   "outputs": [],
   "source": [
    "check_df['effect_rank'] = check_df['predict'].rank(pct=True)\n",
    "check_df['ps_rank'] = check_df['pscore'].rank(pct=True)"
   ]
  },
  {
   "cell_type": "code",
   "execution_count": 69,
   "metadata": {},
   "outputs": [
    {
     "data": {
      "text/html": [
       "<div>\n",
       "<style scoped>\n",
       "    .dataframe tbody tr th:only-of-type {\n",
       "        vertical-align: middle;\n",
       "    }\n",
       "\n",
       "    .dataframe tbody tr th {\n",
       "        vertical-align: top;\n",
       "    }\n",
       "\n",
       "    .dataframe thead th {\n",
       "        text-align: right;\n",
       "    }\n",
       "</style>\n",
       "<table border=\"1\" class=\"dataframe\">\n",
       "  <thead>\n",
       "    <tr style=\"text-align: right;\">\n",
       "      <th></th>\n",
       "      <th>spend</th>\n",
       "      <th>treatment</th>\n",
       "      <th>pscore</th>\n",
       "      <th>predict</th>\n",
       "      <th>conversion</th>\n",
       "      <th>effect_rank</th>\n",
       "      <th>ps_rank</th>\n",
       "    </tr>\n",
       "  </thead>\n",
       "  <tbody>\n",
       "    <tr>\n",
       "      <th>0</th>\n",
       "      <td>0.0</td>\n",
       "      <td>1.0</td>\n",
       "      <td>0.004041</td>\n",
       "      <td>0.007821</td>\n",
       "      <td>0</td>\n",
       "      <td>0.502021</td>\n",
       "      <td>0.442054</td>\n",
       "    </tr>\n",
       "    <tr>\n",
       "      <th>1</th>\n",
       "      <td>0.0</td>\n",
       "      <td>1.0</td>\n",
       "      <td>0.002149</td>\n",
       "      <td>0.007821</td>\n",
       "      <td>0</td>\n",
       "      <td>0.502021</td>\n",
       "      <td>0.188502</td>\n",
       "    </tr>\n",
       "    <tr>\n",
       "      <th>2</th>\n",
       "      <td>0.0</td>\n",
       "      <td>1.0</td>\n",
       "      <td>0.004878</td>\n",
       "      <td>0.007821</td>\n",
       "      <td>0</td>\n",
       "      <td>0.502021</td>\n",
       "      <td>0.542954</td>\n",
       "    </tr>\n",
       "    <tr>\n",
       "      <th>3</th>\n",
       "      <td>0.0</td>\n",
       "      <td>1.0</td>\n",
       "      <td>0.005387</td>\n",
       "      <td>0.007821</td>\n",
       "      <td>0</td>\n",
       "      <td>0.502021</td>\n",
       "      <td>0.590014</td>\n",
       "    </tr>\n",
       "    <tr>\n",
       "      <th>4</th>\n",
       "      <td>0.0</td>\n",
       "      <td>0.0</td>\n",
       "      <td>0.003636</td>\n",
       "      <td>0.007821</td>\n",
       "      <td>0</td>\n",
       "      <td>0.502021</td>\n",
       "      <td>0.383392</td>\n",
       "    </tr>\n",
       "  </tbody>\n",
       "</table>\n",
       "</div>"
      ],
      "text/plain": [
       "   spend  treatment    pscore   predict  conversion  effect_rank   ps_rank\n",
       "0    0.0        1.0  0.004041  0.007821           0     0.502021  0.442054\n",
       "1    0.0        1.0  0.002149  0.007821           0     0.502021  0.188502\n",
       "2    0.0        1.0  0.004878  0.007821           0     0.502021  0.542954\n",
       "3    0.0        1.0  0.005387  0.007821           0     0.502021  0.590014\n",
       "4    0.0        0.0  0.003636  0.007821           0     0.502021  0.383392"
      ]
     },
     "execution_count": 69,
     "metadata": {},
     "output_type": "execute_result"
    }
   ],
   "source": [
    "check_df.head()"
   ]
  },
  {
   "cell_type": "markdown",
   "metadata": {},
   "source": [
    "### Uplift score percentile visualization"
   ]
  },
  {
   "cell_type": "code",
   "execution_count": 70,
   "metadata": {},
   "outputs": [],
   "source": [
    "def percentile_classfication(x):\n",
    "    if x < 0.1:\n",
    "        return '0 ~ 10%'\n",
    "    elif x < 0.2:\n",
    "        return '10 ~ 20%'\n",
    "    elif x < 0.3:\n",
    "        return '20 ~ 30%'\n",
    "    elif x < 0.4:\n",
    "        return '30 ~ 40%'\n",
    "    elif x < 0.5:\n",
    "        return '40 ~ 50%'\n",
    "    elif x < 0.6:\n",
    "        return '50 ~ 60%'\n",
    "    elif x < 0.7:\n",
    "        return '60 ~ 70%'\n",
    "    elif x < 0.8:\n",
    "        return '70 ~ 80%'\n",
    "    elif x < 0.9:\n",
    "        return '80 ~ 90%'\n",
    "    else:\n",
    "        return '90~100%'\n",
    "classify = np.vectorize(percentile_classfication)"
   ]
  },
  {
   "cell_type": "code",
   "execution_count": 71,
   "metadata": {},
   "outputs": [],
   "source": [
    "check_df['effect_group'] = classify(check_df['effect_rank'].values)\n",
    "check_df['ps_group'] = classify(check_df['ps_rank'].values)"
   ]
  },
  {
   "cell_type": "code",
   "execution_count": 72,
   "metadata": {},
   "outputs": [
    {
     "data": {
      "text/plain": [
       "<matplotlib.axes._subplots.AxesSubplot at 0x125eddf50>"
      ]
     },
     "execution_count": 72,
     "metadata": {},
     "output_type": "execute_result"
    },
    {
     "data": {
      "image/png": "[encoded data removed]",
      "text/plain": [
       "<Figure size 432x288 with 1 Axes>"
      ]
     },
     "metadata": {
      "needs_background": "light"
     },
     "output_type": "display_data"
    }
   ],
   "source": [
    "sns.barplot(x = 'effect_group', y = 'conversion',\n",
    "            hue = 'treatment',\n",
    "            estimator = np.mean,\n",
    "            data = check_df.sort_values('predict'))"
   ]
  },
  {
   "cell_type": "code",
   "execution_count": 73,
   "metadata": {},
   "outputs": [],
   "source": [
    "#fig, ax = plt.subplots(figsize = (10, 8))\n",
    "#sns.barplot(x = 'ps_group', y = 'spend',\n",
    "#            hue = 'treatment',\n",
    "#            estimator = np.mean,\n",
    "#            data = check_df.sort_values('ps_rank'),\n",
    "#           ax = ax)"
   ]
  },
  {
   "cell_type": "markdown",
   "metadata": {},
   "source": [
    "理想型とはいかないので、ここで打ち切り。\n",
    "\n",
    "- causal treeのライブラリが信用できるかそもそも疑問（Susan AtheyのRパッケージを使用する方が良い）\n",
    "- uplift modelingは別途取り扱う\n",
    "\n",
    "### Tips\n",
    "\n",
    "- Uplift Modelingの評価方法としてAUUCがある\n",
    "- Area Under the Uplift Curveの略\n",
    "\n",
    "#### AUUC手順\n",
    "\n",
    "1. スコアを高い順にsort\n",
    "2. スコア順にtreatmentによるliftを計算\n",
    "3. randomに介入を行ったときをベースラインとする\n",
    "4. liftとベースラインに囲まれた面積を算出\n"
   ]
  },
  {
   "cell_type": "markdown",
   "metadata": {},
   "source": [
    "## 6. Lalondeデータセット分析\n",
    "\n",
    "この分析はchapter 2の補足で取り扱ったので、テキストのRコード再現と一部加筆に集中する。\n",
    "\n",
    "### Lalondeデータセットとは\n",
    "\n",
    "- NSWのRCTデータセットとCPSのデータセットを用いいて、職業訓練をtreatmentとしたとき、treated sampleをNSWより、non-treatedをNSWではなくCPSからサンプルを抽出。\n",
    "- EconometricsのMethodで疑似観察データからでもATE, ATTが推定できるかを確かめのが目的"
   ]
  },
  {
   "cell_type": "markdown",
   "metadata": {},
   "source": [
    "### Read Data"
   ]
  },
  {
   "cell_type": "code",
   "execution_count": 74,
   "metadata": {},
   "outputs": [],
   "source": [
    "cps1_data = pd.read_stata('https://users.nber.org/~rdehejia/data/cps_controls.dta')\n",
    "cps3_data = pd.read_stata('https://users.nber.org/~rdehejia/data/cps_controls3.dta')\n",
    "nswdw_data = pd.read_stata('https://users.nber.org/~rdehejia/data/nsw_dw.dta')"
   ]
  },
  {
   "cell_type": "code",
   "execution_count": 75,
   "metadata": {},
   "outputs": [
    {
     "data": {
      "text/html": [
       "<div>\n",
       "<style scoped>\n",
       "    .dataframe tbody tr th:only-of-type {\n",
       "        vertical-align: middle;\n",
       "    }\n",
       "\n",
       "    .dataframe tbody tr th {\n",
       "        vertical-align: top;\n",
       "    }\n",
       "\n",
       "    .dataframe thead th {\n",
       "        text-align: right;\n",
       "    }\n",
       "</style>\n",
       "<table border=\"1\" class=\"dataframe\">\n",
       "  <thead>\n",
       "    <tr style=\"text-align: right;\">\n",
       "      <th></th>\n",
       "      <th>data_id</th>\n",
       "      <th>treat</th>\n",
       "      <th>age</th>\n",
       "      <th>education</th>\n",
       "      <th>black</th>\n",
       "      <th>hispanic</th>\n",
       "      <th>married</th>\n",
       "      <th>nodegree</th>\n",
       "      <th>re74</th>\n",
       "      <th>re75</th>\n",
       "      <th>re78</th>\n",
       "    </tr>\n",
       "  </thead>\n",
       "  <tbody>\n",
       "    <tr>\n",
       "      <th>0</th>\n",
       "      <td>Dehejia-Wahba Sample</td>\n",
       "      <td>1.0</td>\n",
       "      <td>37.0</td>\n",
       "      <td>11.0</td>\n",
       "      <td>1.0</td>\n",
       "      <td>0.0</td>\n",
       "      <td>1.0</td>\n",
       "      <td>1.0</td>\n",
       "      <td>0.0</td>\n",
       "      <td>0.0</td>\n",
       "      <td>9930.045898</td>\n",
       "    </tr>\n",
       "    <tr>\n",
       "      <th>1</th>\n",
       "      <td>Dehejia-Wahba Sample</td>\n",
       "      <td>1.0</td>\n",
       "      <td>22.0</td>\n",
       "      <td>9.0</td>\n",
       "      <td>0.0</td>\n",
       "      <td>1.0</td>\n",
       "      <td>0.0</td>\n",
       "      <td>1.0</td>\n",
       "      <td>0.0</td>\n",
       "      <td>0.0</td>\n",
       "      <td>3595.894043</td>\n",
       "    </tr>\n",
       "    <tr>\n",
       "      <th>2</th>\n",
       "      <td>Dehejia-Wahba Sample</td>\n",
       "      <td>1.0</td>\n",
       "      <td>30.0</td>\n",
       "      <td>12.0</td>\n",
       "      <td>1.0</td>\n",
       "      <td>0.0</td>\n",
       "      <td>0.0</td>\n",
       "      <td>0.0</td>\n",
       "      <td>0.0</td>\n",
       "      <td>0.0</td>\n",
       "      <td>24909.449219</td>\n",
       "    </tr>\n",
       "    <tr>\n",
       "      <th>3</th>\n",
       "      <td>Dehejia-Wahba Sample</td>\n",
       "      <td>1.0</td>\n",
       "      <td>27.0</td>\n",
       "      <td>11.0</td>\n",
       "      <td>1.0</td>\n",
       "      <td>0.0</td>\n",
       "      <td>0.0</td>\n",
       "      <td>1.0</td>\n",
       "      <td>0.0</td>\n",
       "      <td>0.0</td>\n",
       "      <td>7506.145996</td>\n",
       "    </tr>\n",
       "    <tr>\n",
       "      <th>4</th>\n",
       "      <td>Dehejia-Wahba Sample</td>\n",
       "      <td>1.0</td>\n",
       "      <td>33.0</td>\n",
       "      <td>8.0</td>\n",
       "      <td>1.0</td>\n",
       "      <td>0.0</td>\n",
       "      <td>0.0</td>\n",
       "      <td>1.0</td>\n",
       "      <td>0.0</td>\n",
       "      <td>0.0</td>\n",
       "      <td>289.789886</td>\n",
       "    </tr>\n",
       "  </tbody>\n",
       "</table>\n",
       "</div>"
      ],
      "text/plain": [
       "                data_id  treat   age  education  black  hispanic  married  \\\n",
       "0  Dehejia-Wahba Sample    1.0  37.0       11.0    1.0       0.0      1.0   \n",
       "1  Dehejia-Wahba Sample    1.0  22.0        9.0    0.0       1.0      0.0   \n",
       "2  Dehejia-Wahba Sample    1.0  30.0       12.0    1.0       0.0      0.0   \n",
       "3  Dehejia-Wahba Sample    1.0  27.0       11.0    1.0       0.0      0.0   \n",
       "4  Dehejia-Wahba Sample    1.0  33.0        8.0    1.0       0.0      0.0   \n",
       "\n",
       "   nodegree  re74  re75          re78  \n",
       "0       1.0   0.0   0.0   9930.045898  \n",
       "1       1.0   0.0   0.0   3595.894043  \n",
       "2       0.0   0.0   0.0  24909.449219  \n",
       "3       1.0   0.0   0.0   7506.145996  \n",
       "4       1.0   0.0   0.0    289.789886  "
      ]
     },
     "execution_count": 75,
     "metadata": {},
     "output_type": "execute_result"
    }
   ],
   "source": [
    "nswdw_data.head()"
   ]
  },
  {
   "cell_type": "markdown",
   "metadata": {},
   "source": [
    "### 前処理"
   ]
  },
  {
   "cell_type": "code",
   "execution_count": 76,
   "metadata": {},
   "outputs": [],
   "source": [
    "is_treat = nswdw_data['treat'] == 1\n",
    "cps1 = pd.concat([nswdw_data.loc[is_treat], cps1_data], axis  = 0, ignore_index = True)\n",
    "cps3 = pd.concat([nswdw_data.loc[is_treat], cps3_data], axis  = 0, ignore_index = True)"
   ]
  },
  {
   "cell_type": "markdown",
   "metadata": {},
   "source": [
    "### RCT dataを用いてATE算出"
   ]
  },
  {
   "cell_type": "code",
   "execution_count": 77,
   "metadata": {},
   "outputs": [
    {
     "name": "stdout",
     "output_type": "stream",
     "text": [
      "     RCT BASE LINE TREATMENT EFFECT\n",
      "=========================================\n",
      "                  Bivariate  Multivariate\n",
      "-----------------------------------------\n",
      "Intercept        4554.801*** 785.061     \n",
      "                 (339.438)   (3260.033)  \n",
      "treat            1794.342*** 1676.343**  \n",
      "                 (669.315)   (669.087)   \n",
      "re74                         0.082       \n",
      "                             (0.106)     \n",
      "re75                         0.053       \n",
      "                             (0.123)     \n",
      "age                          55.317      \n",
      "                             (40.819)    \n",
      "education                    395.734**   \n",
      "                             (195.113)   \n",
      "black                        -2159.522** \n",
      "                             (1000.380)  \n",
      "hispanic                     164.033     \n",
      "                             (1351.463)  \n",
      "nodegree                     -70.681     \n",
      "                             (1015.123)  \n",
      "married                      -138.725    \n",
      "                             (863.581)   \n",
      "R-squared        0.016       0.035       \n",
      "                 0.018       0.055       \n",
      "Pseudo R-squared                         \n",
      "No. observations 445         445         \n",
      "=========================================\n",
      "Standard errors in parentheses.\n",
      "* p<.1, ** p<.05, ***p<.01\n"
     ]
    }
   ],
   "source": [
    "f1 = 're78 ~ treat'\n",
    "f2 = 're78 ~ treat + re74 + re75 + age + education + black + hispanic + nodegree + married'\n",
    "regressor_order = ['Intercept', 'treat', 're74', 're75', 'age', 'education', 'black',\n",
    "                   'hispanic', 'nodegree', 'married']\n",
    "formula = [f1, f2]\n",
    "results = []\n",
    "for f in formula:\n",
    "    y, X = dmatrices(f, data = nswdw_data, return_type = 'dataframe')\n",
    "    res = sm.OLS(y, X).fit(cov_type = 'HC0')\n",
    "    results.append(res)\n",
    "\n",
    "info_dict = {'Pseudo R-squared': lambda x: f\"{x.prsquared:.2f}\",\n",
    "             'No. observations': lambda x: f\"{int(x.nobs):d}\"}\n",
    "\n",
    "results_table = summary_col(results=results,\n",
    "                            float_format='%0.3f',\n",
    "                            stars=True,\n",
    "                            regressor_order = regressor_order,\n",
    "                            model_names = ['Bivariate', 'Multivariate'],\n",
    "                            info_dict=info_dict)\n",
    "results_table.add_title('RCT BASE LINE TREATMENT EFFECT') \n",
    "print(results_table)\n",
    "    "
   ]
  },
  {
   "cell_type": "markdown",
   "metadata": {},
   "source": [
    "### CPS1 datasetでの分析"
   ]
  },
  {
   "cell_type": "code",
   "execution_count": 78,
   "metadata": {},
   "outputs": [
    {
     "name": "stdout",
     "output_type": "stream",
     "text": [
      " CPS1 dataset treatment effect estimation\n",
      "==========================================\n",
      "                  Bivariate   Multivariate\n",
      "------------------------------------------\n",
      "Intercept        14846.660*** 5735.731*** \n",
      "                 (76.286)     (443.621)   \n",
      "treat            -8497.516*** 699.132     \n",
      "                 (581.880)    (616.463)   \n",
      "re74                          0.289***    \n",
      "                              (0.015)     \n",
      "re75                          0.471***    \n",
      "                              (0.015)     \n",
      "age                           -101.855*** \n",
      "                              (5.713)     \n",
      "education                     160.186***  \n",
      "                              (28.738)    \n",
      "black                         -836.947*** \n",
      "                              (196.775)   \n",
      "hispanic                      -218.318    \n",
      "                              (217.986)   \n",
      "nodegree                      372.238**   \n",
      "                              (174.781)   \n",
      "married                       73.076      \n",
      "                              (144.365)   \n",
      "R-squared        0.009        0.476       \n",
      "                 0.009        0.476       \n",
      "Pseudo R-squared                          \n",
      "No. observations 16177        16177       \n",
      "==========================================\n",
      "Standard errors in parentheses.\n",
      "* p<.1, ** p<.05, ***p<.01\n"
     ]
    }
   ],
   "source": [
    "f1 = 're78 ~ treat'\n",
    "f2 = 're78 ~ treat + re74 + re75 + age + education + black + hispanic + nodegree + married'\n",
    "regressor_order = ['Intercept', 'treat', 're74', 're75', 'age', 'education', 'black',\n",
    "                   'hispanic', 'nodegree', 'married']\n",
    "formula = [f1, f2]\n",
    "results = []\n",
    "for f in formula:\n",
    "    y, X = dmatrices(f, data = cps1, return_type = 'dataframe')\n",
    "    res = sm.OLS(y, X).fit(cov_type = 'HC0')\n",
    "    results.append(res)\n",
    "\n",
    "info_dict = {'Pseudo R-squared': lambda x: f\"{x.prsquared:.2f}\",\n",
    "             'No. observations': lambda x: f\"{int(x.nobs):d}\"}\n",
    "\n",
    "results_table = summary_col(results=results,\n",
    "                            float_format='%0.3f',\n",
    "                            stars=True,\n",
    "                            regressor_order = regressor_order,\n",
    "                            model_names = ['Bivariate', 'Multivariate'],\n",
    "                            info_dict=info_dict)\n",
    "results_table.add_title('CPS1 dataset treatment effect estimation') \n",
    "print(results_table)\n",
    "    "
   ]
  },
  {
   "cell_type": "markdown",
   "metadata": {},
   "source": [
    "treatment effectがRCTと異なるのは、treatment, controlのcovariateの分布が大きく異なることに起因すると考えられる\n",
    "\n",
    "- normalized differenceが0.25を超えているかの確認"
   ]
  },
  {
   "cell_type": "code",
   "execution_count": 79,
   "metadata": {},
   "outputs": [
    {
     "data": {
      "image/png": "[encoded data removed]",
      "text/plain": [
       "<Figure size 432x288 with 1 Axes>"
      ]
     },
     "metadata": {
      "needs_background": "light"
     },
     "output_type": "display_data"
    }
   ],
   "source": [
    "features = ['re74', 're75', 'age', 'education', 'black','hispanic', 'nodegree', 'married']\n",
    "normed_diff = cps1.groupby(['treat']).agg([np.mean, 'var'])\n",
    "snd = compute_normed_diff(normed_diff, feature = features)\n",
    "sns.barplot(x = 'snd', y = 'features', data = snd);"
   ]
  },
  {
   "cell_type": "markdown",
   "metadata": {},
   "source": [
    "### CPS3 datasetでの分析\n",
    "\n",
    "- CPSのsampleは1976年時点で雇用されていないサンプル"
   ]
  },
  {
   "cell_type": "code",
   "execution_count": 80,
   "metadata": {},
   "outputs": [
    {
     "name": "stdout",
     "output_type": "stream",
     "text": [
      "CPS1 dataset treatment effect estimation\n",
      "=========================================\n",
      "                  Bivariate  Multivariate\n",
      "-----------------------------------------\n",
      "Intercept        6984.170*** 66.515      \n",
      "                 (351.755)   (2509.331)  \n",
      "treat            -635.026    1548.244**  \n",
      "                 (675.645)   (734.521)   \n",
      "re74                         0.296***    \n",
      "                             (0.071)     \n",
      "re75                         0.232*      \n",
      "                             (0.118)     \n",
      "age                          12.978      \n",
      "                             (31.445)    \n",
      "education                    403.941**   \n",
      "                             (159.083)   \n",
      "black                        -1240.644*  \n",
      "                             (690.077)   \n",
      "hispanic                     498.897     \n",
      "                             (945.065)   \n",
      "nodegree                     259.817     \n",
      "                             (884.494)   \n",
      "married                      406.621     \n",
      "                             (653.165)   \n",
      "R-squared        -0.000      0.135       \n",
      "                 0.002       0.148       \n",
      "Pseudo R-squared                         \n",
      "No. observations 614         614         \n",
      "=========================================\n",
      "Standard errors in parentheses.\n",
      "* p<.1, ** p<.05, ***p<.01\n"
     ]
    }
   ],
   "source": [
    "f1 = 're78 ~ treat'\n",
    "f2 = 're78 ~ treat + re74 + re75 + age + education + black + hispanic + nodegree + married'\n",
    "regressor_order = ['Intercept', 'treat', 're74', 're75', 'age', 'education', 'black',\n",
    "                   'hispanic', 'nodegree', 'married']\n",
    "formula = [f1, f2]\n",
    "results = []\n",
    "for f in formula:\n",
    "    y, X = dmatrices(f, data = cps3, return_type = 'dataframe')\n",
    "    res = sm.OLS(y, X).fit(cov_type = 'HC0')\n",
    "    results.append(res)\n",
    "\n",
    "info_dict = {'Pseudo R-squared': lambda x: f\"{x.prsquared:.2f}\",\n",
    "             'No. observations': lambda x: f\"{int(x.nobs):d}\"}\n",
    "\n",
    "results_table = summary_col(results=results,\n",
    "                            float_format='%0.3f',\n",
    "                            stars=True,\n",
    "                            regressor_order = regressor_order,\n",
    "                            model_names = ['Bivariate', 'Multivariate'],\n",
    "                            info_dict=info_dict)\n",
    "results_table.add_title('CPS1 dataset treatment effect estimation') \n",
    "print(results_table)\n",
    "    "
   ]
  },
  {
   "cell_type": "markdown",
   "metadata": {},
   "source": [
    "### 傾向スコア（Nearest Matching）を用いた効果の推定"
   ]
  },
  {
   "cell_type": "code",
   "execution_count": 81,
   "metadata": {},
   "outputs": [],
   "source": [
    "cps1['I_re74'] = cps1['re74'].values **2\n",
    "cps1['I_re75'] = cps1['re75'].values **2"
   ]
  },
  {
   "cell_type": "code",
   "execution_count": 82,
   "metadata": {},
   "outputs": [
    {
     "name": "stdout",
     "output_type": "stream",
     "text": [
      "Optimization terminated successfully.\n",
      "         Current function value: 0.030601\n",
      "         Iterations 12\n"
     ]
    }
   ],
   "source": [
    "logit_formula = 'treat ~ re74 + re75 + age + education + black + hispanic + nodegree + married + I_re74 + I_re75'\n",
    "logit_res = smf.logit(formula=logit_formula, data=cps1).fit()"
   ]
  },
  {
   "cell_type": "code",
   "execution_count": 83,
   "metadata": {},
   "outputs": [],
   "source": [
    "cps1['pscore'] = logit_res.predict()\n",
    "TREAT = (1/cps1.query('treat == 1')['pscore']).sum()\n",
    "CONTROL = (1/(1 - cps1.query('treat == 0')['pscore'])).sum()\n",
    "cps1['weight'] = cps1.apply(lambda x : 1/x['pscore']/TREAT if x['treat'] == 1 \n",
    "                                else (1/(1 - x['pscore']))/CONTROL\n",
    "                                , axis = 1)"
   ]
  },
  {
   "cell_type": "markdown",
   "metadata": {},
   "source": [
    "#### Find the pair"
   ]
  },
  {
   "cell_type": "code",
   "execution_count": 84,
   "metadata": {},
   "outputs": [],
   "source": [
    "treated_df = cps1.query('treat == 1').reset_index(drop = True)\n",
    "control_df = cps1.query('treat == 0').reset_index(drop = True)\n",
    "\n",
    "treated = treated_df['pscore'].values\n",
    "non_treated = control_df['pscore'].values\n",
    "\n",
    "\n",
    "### learning training data　ここではcontrol\n",
    "nbrs = NearestNeighbors(n_neighbors=1,\n",
    "                        algorithm='ball_tree').fit(non_treated.reshape(-1, 1))\n",
    "### Find index\n",
    "distances, indices = nbrs.kneighbors(treated.reshape(-1, 1))"
   ]
  },
  {
   "cell_type": "code",
   "execution_count": 85,
   "metadata": {},
   "outputs": [],
   "source": [
    "indices = indices.reshape(indices.shape[0])\n",
    "matched = control_df.loc[indices, :]"
   ]
  },
  {
   "cell_type": "markdown",
   "metadata": {},
   "source": [
    "#### Normalized Difference"
   ]
  },
  {
   "cell_type": "code",
   "execution_count": 86,
   "metadata": {},
   "outputs": [
    {
     "data": {
      "text/html": [
       "<div>\n",
       "<style scoped>\n",
       "    .dataframe tbody tr th:only-of-type {\n",
       "        vertical-align: middle;\n",
       "    }\n",
       "\n",
       "    .dataframe tbody tr th {\n",
       "        vertical-align: top;\n",
       "    }\n",
       "\n",
       "    .dataframe thead th {\n",
       "        text-align: right;\n",
       "    }\n",
       "</style>\n",
       "<table border=\"1\" class=\"dataframe\">\n",
       "  <thead>\n",
       "    <tr style=\"text-align: right;\">\n",
       "      <th></th>\n",
       "      <th>features</th>\n",
       "      <th>snd_adjusted</th>\n",
       "      <th>snd_raw</th>\n",
       "    </tr>\n",
       "  </thead>\n",
       "  <tbody>\n",
       "    <tr>\n",
       "      <th>0</th>\n",
       "      <td>re74</td>\n",
       "      <td>0.809762</td>\n",
       "      <td>0.13261</td>\n",
       "    </tr>\n",
       "    <tr>\n",
       "      <th>1</th>\n",
       "      <td>re75</td>\n",
       "      <td>1.308075</td>\n",
       "      <td>0.07118</td>\n",
       "    </tr>\n",
       "    <tr>\n",
       "      <th>2</th>\n",
       "      <td>age</td>\n",
       "      <td>0.250903</td>\n",
       "      <td>0.16804</td>\n",
       "    </tr>\n",
       "    <tr>\n",
       "      <th>3</th>\n",
       "      <td>education</td>\n",
       "      <td>0.309505</td>\n",
       "      <td>0.10196</td>\n",
       "    </tr>\n",
       "    <tr>\n",
       "      <th>4</th>\n",
       "      <td>black</td>\n",
       "      <td>1.248636</td>\n",
       "      <td>0.01473</td>\n",
       "    </tr>\n",
       "    <tr>\n",
       "      <th>5</th>\n",
       "      <td>hispanic</td>\n",
       "      <td>0.172530</td>\n",
       "      <td>0.04769</td>\n",
       "    </tr>\n",
       "    <tr>\n",
       "      <th>6</th>\n",
       "      <td>nodegree</td>\n",
       "      <td>0.474270</td>\n",
       "      <td>0.19468</td>\n",
       "    </tr>\n",
       "    <tr>\n",
       "      <th>7</th>\n",
       "      <td>married</td>\n",
       "      <td>0.700661</td>\n",
       "      <td>0.11566</td>\n",
       "    </tr>\n",
       "    <tr>\n",
       "      <th>8</th>\n",
       "      <td>I_re74</td>\n",
       "      <td>0.399575</td>\n",
       "      <td>0.09748</td>\n",
       "    </tr>\n",
       "    <tr>\n",
       "      <th>9</th>\n",
       "      <td>I_re75</td>\n",
       "      <td>1.395658</td>\n",
       "      <td>0.02722</td>\n",
       "    </tr>\n",
       "  </tbody>\n",
       "</table>\n",
       "</div>"
      ],
      "text/plain": [
       "    features  snd_adjusted  snd_raw\n",
       "0       re74      0.809762  0.13261\n",
       "1       re75      1.308075  0.07118\n",
       "2        age      0.250903  0.16804\n",
       "3  education      0.309505  0.10196\n",
       "4      black      1.248636  0.01473\n",
       "5   hispanic      0.172530  0.04769\n",
       "6   nodegree      0.474270  0.19468\n",
       "7    married      0.700661  0.11566\n",
       "8     I_re74      0.399575  0.09748\n",
       "9     I_re75      1.395658  0.02722"
      ]
     },
     "execution_count": 86,
     "metadata": {},
     "output_type": "execute_result"
    }
   ],
   "source": [
    "tmp_df = pd.concat([treated_df, matched], axis = 0)\n",
    "colnames = ['re74', 're75', 'age', 'education', 'black','hispanic',\n",
    "            'nodegree', 'married', 'I_re74', 'I_re75']\n",
    "normed_diff = tmp_df.groupby(['treat'])[colnames].agg([np.mean, 'var'])\n",
    "unadjusted_diff = compute_normed_diff(normed_diff, feature = colnames)\n",
    "\n",
    "wtavg = lambda x: np.average(x.loc[:,colnames], weights = x.weight, axis = 0)\n",
    "tmp_df = tmp_df.loc[:, colnames + ['treat', 'weight']]\n",
    "tmp_df.head()\n",
    "weighted_mean = tmp_df.groupby(['treat']).apply(wtavg)\n",
    "weighted_var = tmp_df.groupby(['treat']).apply(np.var)\n",
    "\n",
    "snd = []\n",
    "for i, j in enumerate(colnames):\n",
    "    mean_dif = abs(weighted_mean[0][i] - weighted_mean[1][i])\n",
    "    denominator = np.sqrt(np.sum(weighted_var[j]))\n",
    "    smd = mean_dif/denominator\n",
    "    snd.append(smd)\n",
    "    \n",
    "adjusted_diff = pd.DataFrame({'features': colnames, 'snd': snd})\n",
    "cobalt_df = adjusted_diff.merge(unadjusted_diff, on ='features', suffixes = [\"_adjusted\", \"_raw\"])\n",
    "cobalt_df"
   ]
  },
  {
   "cell_type": "code",
   "execution_count": 87,
   "metadata": {},
   "outputs": [
    {
     "data": {
      "image/png": "[encoded data removed]",
      "text/plain": [
       "<Figure size 720x576 with 1 Axes>"
      ]
     },
     "metadata": {
      "needs_background": "light"
     },
     "output_type": "display_data"
    }
   ],
   "source": [
    "plt.figure(figsize = (10, 8))\n",
    "plt.grid(True)\n",
    "plt.scatter(x = cobalt_df['snd_adjusted'], y = cobalt_df['features'],\n",
    "           label = 'adjusted', alpha = 1)\n",
    "plt.scatter(x = cobalt_df['snd_raw'], y = cobalt_df['features'],\n",
    "           label = 'unadjusted', alpha = 0.5)\n",
    "plt.legend();"
   ]
  },
  {
   "cell_type": "markdown",
   "metadata": {},
   "source": [
    "#### Estimation"
   ]
  },
  {
   "cell_type": "code",
   "execution_count": 88,
   "metadata": {},
   "outputs": [
    {
     "data": {
      "text/html": [
       "<table class=\"simpletable\">\n",
       "<caption>Test for equality of means</caption>\n",
       "<tr>\n",
       "      <td></td>         <th>coef</th>     <th>std err</th>      <th>t</th>      <th>P>|t|</th>  <th>[0.025</th>    <th>0.975]</th>  \n",
       "</tr>\n",
       "<tr>\n",
       "  <th>subset #1</th> <td> 1713.3395</td> <td>  718.237</td> <td>    2.385</td> <td> 0.018</td> <td>  300.976</td> <td> 3125.703</td>\n",
       "</tr>\n",
       "</table>"
      ],
      "text/plain": [
       "<class 'statsmodels.iolib.table.SimpleTable'>"
      ]
     },
     "execution_count": 88,
     "metadata": {},
     "output_type": "execute_result"
    }
   ],
   "source": [
    "ATT_test = CompareMeans(DescrStatsW(treated_df['re78']), \n",
    "                        DescrStatsW(matched['re78']))\n",
    "ATT_test.ttest_ind()\n",
    "ATT_test.summary()"
   ]
  },
  {
   "cell_type": "markdown",
   "metadata": {},
   "source": [
    "### IPWで推定"
   ]
  },
  {
   "cell_type": "markdown",
   "metadata": {},
   "source": [
    "### normalized difference"
   ]
  },
  {
   "cell_type": "code",
   "execution_count": 89,
   "metadata": {},
   "outputs": [
    {
     "data": {
      "text/html": [
       "<div>\n",
       "<style scoped>\n",
       "    .dataframe tbody tr th:only-of-type {\n",
       "        vertical-align: middle;\n",
       "    }\n",
       "\n",
       "    .dataframe tbody tr th {\n",
       "        vertical-align: top;\n",
       "    }\n",
       "\n",
       "    .dataframe thead th {\n",
       "        text-align: right;\n",
       "    }\n",
       "</style>\n",
       "<table border=\"1\" class=\"dataframe\">\n",
       "  <thead>\n",
       "    <tr style=\"text-align: right;\">\n",
       "      <th></th>\n",
       "      <th>features</th>\n",
       "      <th>snd_adjusted</th>\n",
       "      <th>snd_raw</th>\n",
       "    </tr>\n",
       "  </thead>\n",
       "  <tbody>\n",
       "    <tr>\n",
       "      <th>0</th>\n",
       "      <td>re74</td>\n",
       "      <td>0.710639</td>\n",
       "      <td>1.56899</td>\n",
       "    </tr>\n",
       "    <tr>\n",
       "      <th>1</th>\n",
       "      <td>re75</td>\n",
       "      <td>0.681175</td>\n",
       "      <td>1.74643</td>\n",
       "    </tr>\n",
       "    <tr>\n",
       "      <th>2</th>\n",
       "      <td>age</td>\n",
       "      <td>0.496807</td>\n",
       "      <td>0.79618</td>\n",
       "    </tr>\n",
       "    <tr>\n",
       "      <th>3</th>\n",
       "      <td>education</td>\n",
       "      <td>0.159644</td>\n",
       "      <td>0.67850</td>\n",
       "    </tr>\n",
       "    <tr>\n",
       "      <th>4</th>\n",
       "      <td>black</td>\n",
       "      <td>0.356425</td>\n",
       "      <td>2.42775</td>\n",
       "    </tr>\n",
       "    <tr>\n",
       "      <th>5</th>\n",
       "      <td>hispanic</td>\n",
       "      <td>0.051692</td>\n",
       "      <td>0.05070</td>\n",
       "    </tr>\n",
       "    <tr>\n",
       "      <th>6</th>\n",
       "      <td>nodegree</td>\n",
       "      <td>0.092962</td>\n",
       "      <td>0.90381</td>\n",
       "    </tr>\n",
       "    <tr>\n",
       "      <th>7</th>\n",
       "      <td>married</td>\n",
       "      <td>0.374634</td>\n",
       "      <td>1.23265</td>\n",
       "    </tr>\n",
       "    <tr>\n",
       "      <th>8</th>\n",
       "      <td>I_re74</td>\n",
       "      <td>0.764474</td>\n",
       "      <td>1.29337</td>\n",
       "    </tr>\n",
       "    <tr>\n",
       "      <th>9</th>\n",
       "      <td>I_re75</td>\n",
       "      <td>0.618984</td>\n",
       "      <td>1.45018</td>\n",
       "    </tr>\n",
       "  </tbody>\n",
       "</table>\n",
       "</div>"
      ],
      "text/plain": [
       "    features  snd_adjusted  snd_raw\n",
       "0       re74      0.710639  1.56899\n",
       "1       re75      0.681175  1.74643\n",
       "2        age      0.496807  0.79618\n",
       "3  education      0.159644  0.67850\n",
       "4      black      0.356425  2.42775\n",
       "5   hispanic      0.051692  0.05070\n",
       "6   nodegree      0.092962  0.90381\n",
       "7    married      0.374634  1.23265\n",
       "8     I_re74      0.764474  1.29337\n",
       "9     I_re75      0.618984  1.45018"
      ]
     },
     "execution_count": 89,
     "metadata": {},
     "output_type": "execute_result"
    }
   ],
   "source": [
    "normed_diff = cps1.groupby(['treat'])[colnames].agg([np.mean, 'var'])\n",
    "unadjusted_diff = compute_normed_diff(normed_diff, feature = colnames)\n",
    "\n",
    "wtavg = lambda x: np.average(x.loc[:,colnames], weights = x.weight, axis = 0)\n",
    "tmp_df = cps1.loc[:, colnames + ['treat', 'weight']]\n",
    "tmp_df.head()\n",
    "weighted_mean = tmp_df.groupby(['treat']).apply(wtavg)\n",
    "weighted_var = tmp_df.groupby(['treat']).apply(np.var)\n",
    "\n",
    "snd = []\n",
    "for i, j in enumerate(colnames):\n",
    "    mean_dif = abs(weighted_mean[0][i] - weighted_mean[1][i])\n",
    "    denominator = np.sqrt(np.sum(weighted_var[j]))\n",
    "    smd = mean_dif/denominator\n",
    "    snd.append(smd)\n",
    "    \n",
    "adjusted_diff = pd.DataFrame({'features': colnames, 'snd': snd})\n",
    "cobalt_df = adjusted_diff.merge(unadjusted_diff, on ='features', suffixes = [\"_adjusted\", \"_raw\"])\n",
    "cobalt_df"
   ]
  },
  {
   "cell_type": "code",
   "execution_count": 90,
   "metadata": {},
   "outputs": [
    {
     "data": {
      "image/png": "[encoded data removed]",
      "text/plain": [
       "<Figure size 720x576 with 1 Axes>"
      ]
     },
     "metadata": {
      "needs_background": "light"
     },
     "output_type": "display_data"
    }
   ],
   "source": [
    "plt.figure(figsize = (10, 8))\n",
    "plt.grid(True)\n",
    "plt.scatter(x = cobalt_df['snd_adjusted'], y = cobalt_df['features'],\n",
    "           label = 'adjusted', alpha = 1)\n",
    "plt.scatter(x = cobalt_df['snd_raw'], y = cobalt_df['features'],\n",
    "           label = 'unadjusted', alpha = 0.5)\n",
    "plt.legend();"
   ]
  },
  {
   "cell_type": "code",
   "execution_count": 91,
   "metadata": {},
   "outputs": [
    {
     "data": {
      "text/html": [
       "<table class=\"simpletable\">\n",
       "<caption>WLS Regression Results</caption>\n",
       "<tr>\n",
       "  <th>Dep. Variable:</th>        <td>re78</td>      <th>  R-squared:         </th>  <td>   0.192</td>  \n",
       "</tr>\n",
       "<tr>\n",
       "  <th>Model:</th>                 <td>WLS</td>      <th>  Adj. R-squared:    </th>  <td>   0.192</td>  \n",
       "</tr>\n",
       "<tr>\n",
       "  <th>Method:</th>           <td>Least Squares</td> <th>  F-statistic:       </th>  <td>   19.64</td>  \n",
       "</tr>\n",
       "<tr>\n",
       "  <th>Date:</th>             <td>木, 21  5 2020</td> <th>  Prob (F-statistic):</th>  <td>9.42e-06</td>  \n",
       "</tr>\n",
       "<tr>\n",
       "  <th>Time:</th>               <td>01:40:10</td>    <th>  Log-Likelihood:    </th> <td>-1.7329e+05</td>\n",
       "</tr>\n",
       "<tr>\n",
       "  <th>No. Observations:</th>    <td> 16177</td>     <th>  AIC:               </th>  <td>3.466e+05</td> \n",
       "</tr>\n",
       "<tr>\n",
       "  <th>Df Residuals:</th>        <td> 16175</td>     <th>  BIC:               </th>  <td>3.466e+05</td> \n",
       "</tr>\n",
       "<tr>\n",
       "  <th>Df Model:</th>            <td>     1</td>     <th>                     </th>      <td> </td>     \n",
       "</tr>\n",
       "<tr>\n",
       "  <th>Covariance Type:</th>       <td>HC0</td>      <th>                     </th>      <td> </td>     \n",
       "</tr>\n",
       "</table>\n",
       "<table class=\"simpletable\">\n",
       "<tr>\n",
       "      <td></td>         <th>coef</th>     <th>std err</th>      <th>z</th>      <th>P>|z|</th>  <th>[0.025</th>    <th>0.975]</th>  \n",
       "</tr>\n",
       "<tr>\n",
       "  <th>Intercept</th> <td> 1.474e+04</td> <td>   76.953</td> <td>  191.487</td> <td> 0.000</td> <td> 1.46e+04</td> <td> 1.49e+04</td>\n",
       "</tr>\n",
       "<tr>\n",
       "  <th>treat</th>     <td>-7626.8058</td> <td> 1721.008</td> <td>   -4.432</td> <td> 0.000</td> <td> -1.1e+04</td> <td>-4253.693</td>\n",
       "</tr>\n",
       "</table>\n",
       "<table class=\"simpletable\">\n",
       "<tr>\n",
       "  <th>Omnibus:</th>       <td>6665.125</td> <th>  Durbin-Watson:     </th>  <td>   1.879</td>  \n",
       "</tr>\n",
       "<tr>\n",
       "  <th>Prob(Omnibus):</th>  <td> 0.000</td>  <th>  Jarque-Bera (JB):  </th> <td>9338288.650</td>\n",
       "</tr>\n",
       "<tr>\n",
       "  <th>Skew:</th>           <td>-0.227</td>  <th>  Prob(JB):          </th>  <td>    0.00</td>  \n",
       "</tr>\n",
       "<tr>\n",
       "  <th>Kurtosis:</th>       <td>120.703</td> <th>  Cond. No.          </th>  <td>    2.62</td>  \n",
       "</tr>\n",
       "</table><br/><br/>Warnings:<br/>[1] Standard Errors are heteroscedasticity robust (HC0)"
      ],
      "text/plain": [
       "<class 'statsmodels.iolib.summary.Summary'>\n",
       "\"\"\"\n",
       "                            WLS Regression Results                            \n",
       "==============================================================================\n",
       "Dep. Variable:                   re78   R-squared:                       0.192\n",
       "Model:                            WLS   Adj. R-squared:                  0.192\n",
       "Method:                 Least Squares   F-statistic:                     19.64\n",
       "Date:                   木, 21  5 2020   Prob (F-statistic):           9.42e-06\n",
       "Time:                        01:40:10   Log-Likelihood:            -1.7329e+05\n",
       "No. Observations:               16177   AIC:                         3.466e+05\n",
       "Df Residuals:                   16175   BIC:                         3.466e+05\n",
       "Df Model:                           1                                         \n",
       "Covariance Type:                  HC0                                         \n",
       "==============================================================================\n",
       "                 coef    std err          z      P>|z|      [0.025      0.975]\n",
       "------------------------------------------------------------------------------\n",
       "Intercept   1.474e+04     76.953    191.487      0.000    1.46e+04    1.49e+04\n",
       "treat      -7626.8058   1721.008     -4.432      0.000    -1.1e+04   -4253.693\n",
       "==============================================================================\n",
       "Omnibus:                     6665.125   Durbin-Watson:                   1.879\n",
       "Prob(Omnibus):                  0.000   Jarque-Bera (JB):          9338288.650\n",
       "Skew:                          -0.227   Prob(JB):                         0.00\n",
       "Kurtosis:                     120.703   Cond. No.                         2.62\n",
       "==============================================================================\n",
       "\n",
       "Warnings:\n",
       "[1] Standard Errors are heteroscedasticity robust (HC0)\n",
       "\"\"\""
      ]
     },
     "execution_count": 91,
     "metadata": {},
     "output_type": "execute_result"
    }
   ],
   "source": [
    "res = sm.WLS.from_formula(\"re78~treat\", weights=cps1['weight'], data = cps1).fit(cov_type = 'HC0')\n",
    "res.summary()"
   ]
  },
  {
   "cell_type": "markdown",
   "metadata": {},
   "source": [
    "### REMARKS\n",
    "\n",
    "- Normalized differenceが0.25を超える場合、IPWの使用は控えるべき"
   ]
  }
 ],
 "metadata": {
  "kernelspec": {
   "display_name": "Python 3",
   "language": "python",
   "name": "python3"
  },
  "language_info": {
   "codemirror_mode": {
    "name": "ipython",
    "version": 3
   },
   "file_extension": ".py",
   "mimetype": "text/x-python",
   "name": "python",
   "nbconvert_exporter": "python",
   "pygments_lexer": "ipython3",
   "version": "3.7.4"
  }
 },
 "nbformat": 4,
 "nbformat_minor": 4
}
