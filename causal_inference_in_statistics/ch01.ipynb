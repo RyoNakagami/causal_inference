{
 "cells": [
  {
   "cell_type": "markdown",
   "metadata": {},
   "source": [
    "# Chapter 1: 統計モデルと因果モデル\n",
    "## Agenda\n",
    "\n",
    "- 因果の実践的な定義\n",
    "- 因果関係を正確に記述する方法（因果モデルの作成）\n",
    "- 因果モデルの構造をデータの特徴に関連づける方法\n",
    "- モデルとデータに含まれる因果関係の組み合わせから結論を導く方法\n"
   ]
  },
  {
   "cell_type": "code",
   "execution_count": null,
   "metadata": {},
   "outputs": [],
   "source": [
    "## create the clean environment\n",
    "import gc\n",
    "import matplotlib.pyplot as plt\n",
    "\n",
    "def clear_all():\n",
    "    # Clears all the variables from the workspace\n",
    "    gl = globals().copy()\n",
    "    for var in gl:\n",
    "        if var in clean_env_var: continue\n",
    "        del globals()[var]\n",
    "    # Garbage collection:\n",
    "    gc.collect()\n",
    "\n",
    "def close_plots():\n",
    "  my_plots = plt.get_fignums()\n",
    "  for j in my_plots:\n",
    "    plt.close(plt.figure(j))\n",
    "\n",
    "clean_env_var = dir()\n",
    "clean_env_var.append('clean_env_var')"
   ]
  },
  {
   "cell_type": "code",
   "execution_count": null,
   "metadata": {},
   "outputs": [],
   "source": [
    "clear_all()"
   ]
  },
  {
   "cell_type": "markdown",
   "metadata": {},
   "source": [
    "### Hardware"
   ]
  },
  {
   "cell_type": "code",
   "execution_count": null,
   "metadata": {},
   "outputs": [],
   "source": [
    "%%bash\n",
    "system_profiler SPHardwareDataType | grep -E \\\n",
    "\"Model Identifier\"\\|\"Processor Name\"\\|\"Processor Speed\"\\\n",
    "\\|\"Number of Processors\"\\|\"Memory:\""
   ]
  },
  {
   "cell_type": "markdown",
   "metadata": {},
   "source": [
    "### Python"
   ]
  },
  {
   "cell_type": "code",
   "execution_count": 3,
   "metadata": {},
   "outputs": [
    {
     "name": "stdout",
     "output_type": "stream",
     "text": [
      "Python 3.7.4\n"
     ]
    }
   ],
   "source": [
    "!Python -V"
   ]
  },
  {
   "cell_type": "markdown",
   "metadata": {},
   "source": [
    "### Install Packages"
   ]
  },
  {
   "cell_type": "code",
   "execution_count": 2,
   "metadata": {},
   "outputs": [],
   "source": [
    "pass"
   ]
  },
  {
   "cell_type": "markdown",
   "metadata": {},
   "source": [
    "### Moduleの読み込み"
   ]
  },
  {
   "cell_type": "code",
   "execution_count": 264,
   "metadata": {},
   "outputs": [],
   "source": [
    "import numpy as np\n",
    "import random\n",
    "import pandas as pd\n",
    "from scipy import stats as st\n",
    "import matplotlib.pyplot as plt\n",
    "from scipy import stats as stats\n",
    "import seaborn as sns\n",
    "from causalgraphicalmodels import CausalGraphicalModel\n",
    "from scipy.stats import kstest"
   ]
  },
  {
   "cell_type": "markdown",
   "metadata": {},
   "source": [
    "## Simpsonのパラドックス\n",
    "\n",
    "- 全体集合で確認されるある統計的関係が、どの部分集合でも逆になるというもの\n",
    "\n",
    "以下の例を考える。700人の患者について、350人は薬の投与を望み、半分は望まなかった。このとき、\n",
    "\n",
    "- 男性は投薬グループ93%回復、薬投与なしグループは87%, sample sizeはそれぞれ87, 270\n",
    "- 女性は投薬グループ73%回復、薬投与なしグループは69%, sample sizeはそれぞれ263, 80\n"
   ]
  },
  {
   "cell_type": "code",
   "execution_count": 57,
   "metadata": {},
   "outputs": [],
   "source": [
    "def generate_simpson_data():\n",
    "    \"\"\"\n",
    "    [OUTPUT]\n",
    "        result: 1 if recovered, 0 otherwise\n",
    "        gender: 1 if female\n",
    "        treatment_status: 1 if treated\n",
    "    \"\"\"\n",
    "    col = ['result', 'treatment', 'gender']\n",
    "    male_treated = (87, 0.93, 1, 0)\n",
    "    male_control = (270, 0.87, 0, 0)\n",
    "    female_treated = (263, 0.73, 1, 1)\n",
    "    female_control = (80, 0.69, 0, 1)\n",
    "    \n",
    "    result = np.random.choice(2, male_treated[0], p=[1 - male_treated[1], male_treated[1]])\n",
    "    treatment_status = np.ones(male_treated[0]) * male_treated[2]\n",
    "    gender_status = np.ones(male_treated[0]) * male_treated[3]\n",
    "    stacked_data = np.stack([result, treatment_status, gender_status], axis = 1)\n",
    "    \n",
    "    for data in [male_control, female_treated, female_control]:\n",
    "        result = np.random.choice(2, data[0], p=[1 - data[1], data[1]])\n",
    "        treatment_status = np.ones(data[0]) * data[2]\n",
    "        gender_status = np.ones(data[0]) * data[3]\n",
    "        stacked_data_2 = np.stack([result, treatment_status, gender_status], axis = 1)\n",
    "        stacked_data = np.vstack([stacked_data, stacked_data_2])\n",
    "    \n",
    "    return pd.DataFrame(stacked_data, columns = col, dtype = np.int)"
   ]
  },
  {
   "cell_type": "code",
   "execution_count": 49,
   "metadata": {},
   "outputs": [],
   "source": [
    "simpson_df = generate_simpson_data()"
   ]
  },
  {
   "cell_type": "code",
   "execution_count": 54,
   "metadata": {},
   "outputs": [
    {
     "data": {
      "text/html": [
       "<div>\n",
       "<style scoped>\n",
       "    .dataframe tbody tr th:only-of-type {\n",
       "        vertical-align: middle;\n",
       "    }\n",
       "\n",
       "    .dataframe tbody tr th {\n",
       "        vertical-align: top;\n",
       "    }\n",
       "\n",
       "    .dataframe thead tr th {\n",
       "        text-align: left;\n",
       "    }\n",
       "\n",
       "    .dataframe thead tr:last-of-type th {\n",
       "        text-align: right;\n",
       "    }\n",
       "</style>\n",
       "<table border=\"1\" class=\"dataframe\">\n",
       "  <thead>\n",
       "    <tr>\n",
       "      <th></th>\n",
       "      <th></th>\n",
       "      <th colspan=\"2\" halign=\"left\">result</th>\n",
       "    </tr>\n",
       "    <tr>\n",
       "      <th></th>\n",
       "      <th></th>\n",
       "      <th>mean</th>\n",
       "      <th>count</th>\n",
       "    </tr>\n",
       "    <tr>\n",
       "      <th>treatment</th>\n",
       "      <th>gender</th>\n",
       "      <th></th>\n",
       "      <th></th>\n",
       "    </tr>\n",
       "  </thead>\n",
       "  <tbody>\n",
       "    <tr>\n",
       "      <th rowspan=\"2\" valign=\"top\">0</th>\n",
       "      <th>0</th>\n",
       "      <td>0.862963</td>\n",
       "      <td>270</td>\n",
       "    </tr>\n",
       "    <tr>\n",
       "      <th>1</th>\n",
       "      <td>0.762500</td>\n",
       "      <td>80</td>\n",
       "    </tr>\n",
       "    <tr>\n",
       "      <th rowspan=\"2\" valign=\"top\">1</th>\n",
       "      <th>0</th>\n",
       "      <td>0.873563</td>\n",
       "      <td>87</td>\n",
       "    </tr>\n",
       "    <tr>\n",
       "      <th>1</th>\n",
       "      <td>0.783270</td>\n",
       "      <td>263</td>\n",
       "    </tr>\n",
       "  </tbody>\n",
       "</table>\n",
       "</div>"
      ],
      "text/plain": [
       "                    result      \n",
       "                      mean count\n",
       "treatment gender                \n",
       "0         0       0.862963   270\n",
       "          1       0.762500    80\n",
       "1         0       0.873563    87\n",
       "          1       0.783270   263"
      ]
     },
     "execution_count": 54,
     "metadata": {},
     "output_type": "execute_result"
    }
   ],
   "source": [
    "simpson_df.groupby(['treatment', 'gender']).agg({'count', 'mean'})"
   ]
  },
  {
   "cell_type": "code",
   "execution_count": 56,
   "metadata": {},
   "outputs": [
    {
     "data": {
      "text/plain": [
       "treatment\n",
       "0    0.840000\n",
       "1    0.805714\n",
       "Name: result, dtype: float64"
      ]
     },
     "execution_count": 56,
     "metadata": {},
     "output_type": "execute_result"
    }
   ],
   "source": [
    "simpson_df.groupby('treatment')['result'].mean()"
   ]
  },
  {
   "cell_type": "markdown",
   "metadata": {},
   "source": [
    "### Monty Hall Problem\n",
    "\n",
    "ここではまずMonty hall Problemの扉を変えた方が成功確率が高くなることを証明する。\n",
    "\n",
    "- 扉はa, b, cの三つ\n",
    "- 問題の簡略化のため、自分は扉aを選択した状況を考える\n",
    "- event, A, B, Cはそれぞれ、司会者がa, b, cの扉を開けて、ガラクタが入っていた確率を示す\n",
    "- P(a): 扉aが正解の確率\n",
    "\n",
    "今、自分が扉aを最初に選択して、その後司会者が扉bを開けてガラクタを見せてくれた( = event B発生)状況を考える。このとき、自分が知りたいのは\n",
    "\n",
    "$$\n",
    "P(a|B)\n",
    "$$\n",
    "\n",
    "ベイズの定理を利用すると、\n",
    "\n",
    "$$\n",
    "\\begin{aligned}\n",
    "p(a|B) &= \\frac{P(B|a)p(a)}{P(B)}\\\\\n",
    "7 = \\frac{1/2 \\cdot 1/3}{P(B)}\n",
    "\\end{aligned}\n",
    "$$\n",
    "\n",
    "$$\n",
    "P(B) = P(B, a) + P(B, b) + P(B, c)\n",
    "$$\n",
    "\n",
    "に留意すると\n",
    "\n",
    "$$\n",
    "P(B) = \\frac{1}{2}\\frac{1}{3} + 0\\cdot\\frac{1}{3} + 1\\cdot \\frac{1}{3} = \\frac{1}{2}\n",
    "$$\n",
    "\n",
    "Then,\n",
    "\n",
    "$$\n",
    "p(a|B) = \\frac{1}{3}\n",
    "$$\n",
    "\n",
    "一方、\n",
    "$$\n",
    "p(c|B) = \\frac{P(B|c)p(c)}{P(B)} = \\frac{1/3}{1/2} = \\frac{2}{3}\n",
    "$$\n",
    "\n",
    "\n",
    "\n",
    "\n",
    "\n",
    "\n",
    "\n",
    "\n"
   ]
  },
  {
   "cell_type": "markdown",
   "metadata": {},
   "source": [
    "### Simulate Monty Hall Problem\n",
    "\n",
    "- ドアを番号で分ける（1, 2, 3）\n",
    "- 司会者は残りのドアが二つになるまで開け続ける"
   ]
  },
  {
   "cell_type": "code",
   "execution_count": 114,
   "metadata": {},
   "outputs": [],
   "source": [
    "def monty_hall_trial(num_door, switch):\n",
    "    correct_door = np.random.randint(0, num_door)\n",
    "    chosen_door = np.random.randint(0, num_door)\n",
    "    door_candidate = list(np.arange(num_door))\n",
    "    \n",
    "    if switch:\n",
    "        remover = np.random.choice(num_door, num_door, replace=False)\n",
    "        i = 0\n",
    "        while len(door_candidate) > 2:\n",
    "            tmp = remover[i]\n",
    "            i += 1\n",
    "            if tmp in (correct_door, chosen_door):\n",
    "                continue\n",
    "            else:\n",
    "                door_candidate.remove(tmp)\n",
    "        \n",
    "        door_candidate.remove(chosen_door)\n",
    "        chosen_door = door_candidate.pop()\n",
    "        \n",
    "    if chosen_door == correct_door:\n",
    "        return True\n",
    "    else:\n",
    "        return False\n",
    "    \n",
    "def main_simulation(trials = 1000, num_door = 3):\n",
    "    switch_result = []\n",
    "    stick_result = []\n",
    "    for i in range(trials):\n",
    "        switch = monty_hall_trial(num_door = num_door, switch = True)\n",
    "        stick = monty_hall_trial(num_door = num_door, switch = False)\n",
    "        switch_result.append(switch)\n",
    "        stick_result.append(stick)\n",
    "    \n",
    "    return switch_result, stick_result"
   ]
  },
  {
   "cell_type": "code",
   "execution_count": 131,
   "metadata": {},
   "outputs": [
    {
     "data": {
      "image/png": "[encoded data removed]",
      "text/plain": [
       "<Figure size 1080x720 with 1 Axes>"
      ]
     },
     "metadata": {
      "needs_background": "light"
     },
     "output_type": "display_data"
    }
   ],
   "source": [
    "np.random.seed(42)\n",
    "switch, stick = main_simulation(trials = 1000, num_door = 3)\n",
    "cum_switch = np.cumsum(switch)\n",
    "cum_stick = np.cumsum(stick)\n",
    "\n",
    "x_label = np.arange(1, len(stick)+1)\n",
    "\n",
    "plt.figure(figsize = (15, 10))\n",
    "\n",
    "plt.plot(x_label, cum_switch/x_label, label = 'Switch_strategy : winning rate = {}'.format(np.mean(switch)))\n",
    "plt.plot(x_label, cum_stick/x_label, label = 'Stick_strategy : winning rate = {}'.format(np.mean(stick)))\n",
    "plt.title('Monty Hall Problem Winning rate comparison')\n",
    "plt.legend();"
   ]
  },
  {
   "cell_type": "markdown",
   "metadata": {},
   "source": [
    "## ベイズの定理\n",
    "### False positive and False negative\n",
    "\n",
    "コロナの罹患率を検査するための手法の一つであるPCR検査は検出力が80%,特異度が99%(true negative rate)とする。コロナ感染者率が10%の時、PCR検査でpositive判定が出たときの、コロナ罹患率を計算せよ\n",
    "\n",
    "- T: tested positive event\n",
    "- A: COVID-19罹患 event\n",
    "\n",
    "$$\n",
    "P(A|T) = \\frac{P(T|A)P(A)}{P(T|A)P(A) + P(T|~A)P(~A)} = \\frac{0.8 \\cdot 0.1}{(0.8 \\cdot 0.1) + (0.01 \\cdot (1 - 0.1))} = 0.89\n",
    "$$"
   ]
  },
  {
   "cell_type": "code",
   "execution_count": 149,
   "metadata": {},
   "outputs": [],
   "source": [
    "def calculate_bayes_prob(prob, statistical_power = 0.8, false_positive = 0.01, trial = 1):\n",
    "    numerator = prob * (statistical_power ** trial)\n",
    "    denominator = numerator + (false_positive ** trial) * (1 - prob)\n",
    "    return numerator/denominator"
   ]
  },
  {
   "cell_type": "code",
   "execution_count": 155,
   "metadata": {},
   "outputs": [
    {
     "data": {
      "text/plain": [
       "0.898876404494382"
      ]
     },
     "execution_count": 155,
     "metadata": {},
     "output_type": "execute_result"
    }
   ],
   "source": [
    "calculate_bayes_prob(0.1, trial = 1)"
   ]
  },
  {
   "cell_type": "markdown",
   "metadata": {},
   "source": [
    "### カジノとbet\n",
    "\n",
    "街のカジノで、2枚のコインを同時に投げて賞金を決める。プレーヤーは二人。\n",
    "\n",
    "- プレーヤー1は少なくとも一つのコインが表である場合に限り１ドルを受け取る\n",
    "- プレーヤー２は住まいとも同じ面である場合に限り1ドルを受け取る\n",
    "\n",
    "プレーヤー１と２の獲得賞金をそれぞれX, Yとする。\n",
    "\n",
    "プレーヤー1が10ドル受け取ったときのプレーヤー２の獲得賞金の期待値を求めよ。"
   ]
  },
  {
   "cell_type": "code",
   "execution_count": 252,
   "metadata": {},
   "outputs": [],
   "source": [
    "class Simuate_Casino():\n",
    "    \"\"\"\n",
    "    head: 1\n",
    "    tail; 0\n",
    "    \"\"\"\n",
    "    \n",
    "    def __init__(self, x, y):\n",
    "        self.winning_player_1 = x\n",
    "        self.winning_player_2 = y\n",
    "        self.trial_num = 0\n",
    "    \n",
    "    def start_game(self):\n",
    "        a, b = self.flip_coin()\n",
    "        self.trial_num += 1\n",
    "        if max(a, b)>0:\n",
    "            self.winning_player_1 += 1\n",
    "        \n",
    "        if a == b:\n",
    "            self.winning_player_2 += 1\n",
    "    \n",
    "    def simulation(self, player, condition):\n",
    "        if player == 1:\n",
    "            while self.winning_player_1 < condition:\n",
    "                self.start_game()\n",
    "        \n",
    "        elif player == 2:\n",
    "            while self.winning_player_2 < condition:\n",
    "                self.start_game()\n",
    "            \n",
    "    @staticmethod\n",
    "    def flip_coin():\n",
    "        a, b = np.random.choice(2, 2)\n",
    "        return a, b"
   ]
  },
  {
   "cell_type": "markdown",
   "metadata": {},
   "source": [
    "#### simulation\n",
    "\n",
    "trialを1000回実施する"
   ]
  },
  {
   "cell_type": "code",
   "execution_count": 261,
   "metadata": {},
   "outputs": [
    {
     "data": {
      "image/png": "[encoded data removed]",
      "text/plain": [
       "<Figure size 432x288 with 1 Axes>"
      ]
     },
     "metadata": {
      "needs_background": "light"
     },
     "output_type": "display_data"
    }
   ],
   "source": [
    "trial_num = 10000\n",
    "sim_res = []\n",
    "trial_log = []\n",
    "for i in range(trial_num):\n",
    "    trial = Simuate_Casino(x = 0, y = 0)\n",
    "    trial.simulation(player = 1, condition = 15)\n",
    "    res = trial.winning_player_2\n",
    "    sim_res.append(res)\n",
    "    trial_log.append(trial.trial_num)\n",
    "\n",
    "sns.distplot(sim_res);"
   ]
  },
  {
   "cell_type": "code",
   "execution_count": 262,
   "metadata": {},
   "outputs": [
    {
     "data": {
      "text/plain": [
       "10.016"
      ]
     },
     "execution_count": 262,
     "metadata": {},
     "output_type": "execute_result"
    }
   ],
   "source": [
    "np.mean(sim_res)"
   ]
  },
  {
   "cell_type": "code",
   "execution_count": 263,
   "metadata": {},
   "outputs": [
    {
     "data": {
      "text/plain": [
       "20.0251"
      ]
     },
     "execution_count": 263,
     "metadata": {},
     "output_type": "execute_result"
    }
   ],
   "source": [
    "np.mean(trial_log)"
   ]
  },
  {
   "cell_type": "markdown",
   "metadata": {},
   "source": [
    "#### 解き方\n",
    "\n",
    "trial回数一回の時\n",
    "\n",
    "$$\n",
    "\\begin{aligned}\n",
    "&p(x = 1) = \\frac{3}{4}\\\\\n",
    "&p(y = 1) = \\frac{1}{2}\\\\\n",
    "&p(x=1|y=1) = \\frac{p(x=1,y=1)}{p(y=1)} = \\frac{p(x=1|y=1)p(y=1)}{p(y=1)} = \\frac{1}{2}\\\\\n",
    "&p(y=1|x=1) = \\frac{1}{3}\n",
    "\\end{aligned}\n",
    "$$\n",
    "\n",
    "$x = 10$までの試行回数の期待値は負の二項分布より\n",
    "\n",
    "$$\n",
    "E[n] = \\frac{10}{P(x=1)} = \\frac{40}{3}\n",
    "$$\n",
    "\n",
    "Then,\n",
    "\n",
    "$$\n",
    "E[y|x = 10] = E[n]*p(y=1) = \\frac{20}{3}\n",
    "$$\n",
    "\n",
    "\n"
   ]
  },
  {
   "cell_type": "markdown",
   "metadata": {},
   "source": [
    "### Bayesian methodとコインの裏表の確率\n",
    "\n",
    "- q: the probability of being flipped head\n",
    "- set the prior $p \\sim Unif(0, 1)$\n",
    "- $\\{x_i\\}$: data\n",
    "- i: index (unit of observation)\n",
    "- n: trial回数\n",
    "- h: 表が出た回数\n",
    "\n",
    "the posterior distibution can be calculated as follows:\n",
    "\n",
    "$$\n",
    "P(q|\\{x_i\\}) = \\frac{P(\\{x_i\\}|q)P(q)}{\\int^1_0 P(\\{x_i\\}|q)P(q)dq}\n",
    "$$\n",
    "\n",
    "\n",
    "ここで\n",
    "\n",
    "$$\n",
    "\\begin{eqnarray}\n",
    "\\int_0^1 p^k(1-p)^{n-k} &=& \\frac{1^{k+1}(1-1)^{n-k}}{k+1}-\\frac{0^{k+1}(1-0)^{n-k}}{k+1}+\\frac{n-k}{k+1}\\int_0^1 p^{k+1}(1-p)^{n-k-1}\\\\\n",
    "&=& \\frac{n-k}{k+1}\\int_0^1 p^{k+1}(1-p)^{n-k-1}\\\\\n",
    "&=& \\frac{(n-k)(n-k-1)}{(k+1)(k+2)}\\int_0^1 p^{k+2}(1-p)^{n-k-2}\\\\\n",
    "&\\vdots&\\\\\n",
    "&=& \\frac{k!(n-k)!}{n!}\\int_0^1 p^{n}=\\frac{k!(n-k)!}{n!}\\frac{1}{n+1}=\\frac{k!(n-k)!}{(n+1)!}\\\\\n",
    "\\end{eqnarray}\n",
    "$$\n",
    "\n",
    "よって、\n",
    "$$\n",
    "P(q|\\{x_i\\}) = \\frac{P(\\{x_i\\}|q)P(q)}{\\int^1_0 P(\\{x_i\\}|q)P(q)dq} = (n+1)\\frac{n!}{h(n-h)!}q^h(1-q)^{n-h}\n",
    "$$\n"
   ]
  },
  {
   "cell_type": "markdown",
   "metadata": {},
   "source": [
    "#### simulation"
   ]
  },
  {
   "cell_type": "code",
   "execution_count": 271,
   "metadata": {},
   "outputs": [
    {
     "data": {
      "image/png": "[encoded data removed]",
      "text/plain": [
       "<Figure size 576x504 with 1 Axes>"
      ]
     },
     "metadata": {
      "needs_background": "light"
     },
     "output_type": "display_data"
    }
   ],
   "source": [
    "def calculate_posterior(n, h, q):\n",
    "    return (n+1)*st.binom(n, q).pmf(h)\n",
    "\n",
    "n = 100\n",
    "h = 61\n",
    "q = np.linspace(0., 1., 1000)\n",
    "d = calculate_posterior(n, h, q)\n",
    "\n",
    "fix, ax = plt.subplots(1, 1, figsize = (8, 7))\n",
    "ax.plot(q, d)\n",
    "ax.set_xlabel('probability parameter')\n",
    "ax.set_ylabel('positerior')\n",
    "ax.set_ylim(0, d.max()*1.1);"
   ]
  },
  {
   "cell_type": "markdown",
   "metadata": {},
   "source": [
    "Maximum a posteriori estimationはposterior distributionをparameterのFOCを求めることで解析的に取得できる。\n",
    "\n",
    "つまり、\n",
    "\n",
    "$$\n",
    "(n+1)\\frac{n!}{(n-h)!h!}\\left(hq^{h-1}(1-q)^{n-h} - (n-h)q^h(1-q)^{n-h-1}\\right) = 0\n",
    "$$\n",
    "\n",
    "を解く。\n",
    "\n",
    "よって、$q^* = h/n$\n"
   ]
  },
  {
   "cell_type": "markdown",
   "metadata": {},
   "source": [
    "## 構造的因果モデル\n",
    "### グラフ\n",
    "\n",
    "- グラフはnodeとedgeで構成される集合体のこと\n",
    "- 無向グラフと有向グラフがある（Causal Graphは非循環的な有向グラフ）\n",
    "\n",
    "### 構造的因果モデル\n",
    "\n",
    "構成要素は以下、\n",
    "\n",
    "- 変数集合UとV\n",
    "- U: 外生変数の集合\n",
    "- V: 内生変数の集合（モデルに使う内生変数は、少なくとも1つの外生変数の子孫になっている）\n",
    "- f: モデル内の他の変数の値によってVそれぞれの変数の値を決定する関数の集合"
   ]
  },
  {
   "cell_type": "code",
   "execution_count": null,
   "metadata": {},
   "outputs": [],
   "source": []
  }
 ],
 "metadata": {
  "kernelspec": {
   "display_name": "Python 3",
   "language": "python",
   "name": "python3"
  },
  "language_info": {
   "codemirror_mode": {
    "name": "ipython",
    "version": 3
   },
   "file_extension": ".py",
   "mimetype": "text/x-python",
   "name": "python",
   "nbconvert_exporter": "python",
   "pygments_lexer": "ipython3",
   "version": "3.7.4"
  }
 },
 "nbformat": 4,
 "nbformat_minor": 4
}
