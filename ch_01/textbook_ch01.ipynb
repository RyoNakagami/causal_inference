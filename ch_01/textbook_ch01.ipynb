{
 "cells": [
  {
   "cell_type": "markdown",
   "metadata": {},
   "source": [
    "# Chapter 1 : セレクションバイアスとRCT\n",
    "\n",
    "注意：僕の感想文（ポエム）です。"
   ]
  },
  {
   "cell_type": "markdown",
   "metadata": {},
   "source": [
    "## Package Install"
   ]
  },
  {
   "cell_type": "code",
   "execution_count": 1,
   "metadata": {},
   "outputs": [],
   "source": [
    "pass"
   ]
  },
  {
   "cell_type": "markdown",
   "metadata": {},
   "source": [
    "## ライブラリの読み込み"
   ]
  },
  {
   "cell_type": "code",
   "execution_count": 2,
   "metadata": {},
   "outputs": [],
   "source": [
    "import pandas as pd\n",
    "import numpy as np\n",
    "import matplotlib.pyplot as plt"
   ]
  },
  {
   "cell_type": "markdown",
   "metadata": {},
   "source": [
    "## 思い込みによる意思決定の蔓延\n",
    "日々の意思決定は、与えられた選択肢のうち一つしか実行できないがどれを実行すべきなのか？という形に落とし込まれる場合が多い。このとき、\n",
    "\n",
    "- 自分の目的関数\n",
    "- 各選択肢の目的関数に対する効果\n",
    "\n",
    "を踏まえて意思決定する。\n",
    "\n",
    "ビジネスシーンでの「自分の目的関数」は事業利益が代表的な例。選択肢は会社のマーケティングチームがcreativeなアイデアをそれぞれ持ってくるとする。予算の関係上どれか一つしか実施できない場合、各施策の企業利潤に対する効果で判断したいが、事前（事後でも）には効果がよくわからないという場合が結構多いと思う。\n",
    "\n",
    "### 効果に求められる性質\n",
    "最も重要なものは、\n",
    "\n",
    "- 再現性\n",
    "\n",
    "なぜならば、（自分が定式化した目的関数を最大化したいと思っているならば）事前に聞いていた効果が得られない意思決定しても仕方ないから（見せかけだけの効果にすがっても何も得られない）。この再現性を求めて、日々過去実績を見たり、市場状況を調べるなどの情報収集してその施策の目的関数に対する因果関係を導き出そうと周りの人々はしている（と思う）。\n",
    "\n",
    "### 再現性と因果関係\n",
    "自分が検討している施策の効果の再現性を考えるあたり、仮説ベースでその施策が目的関数に影響を与えるまでのPathまず絵に書いてみる。このPathのことを僕は\n",
    "\n",
    "- Causal Path\n",
    "\n",
    "と勝手に呼んでる（人によってはDAGを書くとか言っているのを聞いたことある）。例えば、「ユーザーに商品をApp pushで宣伝することでECサイトでの購買を促がし、利潤が上昇する」という施策を考える場合、\n",
    "\n",
    "```\n",
    "App push → push messageを開封する → お勧めされた商品ページをみる → カートに入れる → 購買する → 利潤が上がる\n",
    "```\n",
    "というPath。こういうPathを描くことで、App pushという施策が企業利潤に影響を本当に与えているの？と考えることができ、その施策の妥当性を企画段階から議論もできるし、いわゆるABテストでrobustness checkをしながら検定できるし、後々のKPI/Metrics設定を通じたモニタリングにも活用できる。\n"
   ]
  },
  {
   "cell_type": "markdown",
   "metadata": {},
   "source": [
    "## バイアスによって見誤る効果\n",
    "\n",
    "ここで確認したいことは\n",
    "```\n",
    "比較が正しくできていないために、因果関係を示すことができない\n",
    "```\n",
    "\n",
    "これをMHEの2.1 The Selection Problemを例に説明する。\n",
    "\n",
    "### The Selection Problem\n",
    "- Research Questionとして、病院での治療は人々を健康にするのか？という問題を考える。\n",
    "- 背景として、病院での治療は国費を大量投入しているので、効果がないならやめてしまおうと国会で議論されているとする\n",
    "\n",
    "この問題を解くために、NHISのデータを使って、病院に通院した経験のある人とない人の健康状態をそれぞれ比較してみることにする。"
   ]
  },
  {
   "cell_type": "markdown",
   "metadata": {},
   "source": [
    "#### NHISの読み込み\n",
    "- [data source](https://economics.mit.edu/files/10444)"
   ]
  },
  {
   "cell_type": "code",
   "execution_count": 3,
   "metadata": {},
   "outputs": [
    {
     "name": "stdout",
     "output_type": "stream",
     "text": [
      "./data/nhis_13.dta eist\n"
     ]
    }
   ],
   "source": [
    "%%bash\n",
    "### FILEの存在確認\n",
    "FILE=./data/nhis_13.dta\n",
    "if test -f \"$FILE\";then\n",
    "    echo \"$FILE eist\"\n",
    "fi"
   ]
  },
  {
   "cell_type": "code",
   "execution_count": 4,
   "metadata": {},
   "outputs": [
    {
     "name": "stdout",
     "output_type": "stream",
     "text": [
      "<class 'pandas.core.frame.DataFrame'>\n",
      "Int64Index: 98649 entries, 0 to 98648\n",
      "Data columns (total 2 columns):\n",
      "phstat     98649 non-null category\n",
      "phospyr    98649 non-null category\n",
      "dtypes: category(2)\n",
      "memory usage: 963.9 KB\n"
     ]
    }
   ],
   "source": [
    "FILE_PATH = './data/nhis_13.dta'\n",
    "df = pd.read_stata(FILE_PATH)\n",
    "df.head()\n",
    "df.info()"
   ]
  },
  {
   "cell_type": "code",
   "execution_count": 5,
   "metadata": {},
   "outputs": [
    {
     "data": {
      "text/plain": [
       "{\"Don't know\", 'Excellent', 'Fair', 'Good', 'Poor', 'Refused', 'Very good'}"
      ]
     },
     "execution_count": 5,
     "metadata": {},
     "output_type": "execute_result"
    }
   ],
   "source": [
    "set(df['phstat'])"
   ]
  },
  {
   "cell_type": "code",
   "execution_count": 6,
   "metadata": {},
   "outputs": [
    {
     "name": "stdout",
     "output_type": "stream",
     "text": [
      "<class 'pandas.core.frame.DataFrame'>\n",
      "Int64Index: 97823 entries, 0 to 98648\n",
      "Data columns (total 2 columns):\n",
      "phstat     97823 non-null category\n",
      "phospyr    97823 non-null category\n",
      "dtypes: category(2)\n",
      "memory usage: 955.9 KB\n"
     ]
    },
    {
     "data": {
      "text/html": [
       "<div>\n",
       "<style scoped>\n",
       "    .dataframe tbody tr th:only-of-type {\n",
       "        vertical-align: middle;\n",
       "    }\n",
       "\n",
       "    .dataframe tbody tr th {\n",
       "        vertical-align: top;\n",
       "    }\n",
       "\n",
       "    .dataframe thead th {\n",
       "        text-align: right;\n",
       "    }\n",
       "</style>\n",
       "<table border=\"1\" class=\"dataframe\">\n",
       "  <thead>\n",
       "    <tr style=\"text-align: right;\">\n",
       "      <th></th>\n",
       "      <th>phstat</th>\n",
       "      <th>phospyr</th>\n",
       "    </tr>\n",
       "  </thead>\n",
       "  <tbody>\n",
       "    <tr>\n",
       "      <td>0</td>\n",
       "      <td>Very good</td>\n",
       "      <td>No</td>\n",
       "    </tr>\n",
       "    <tr>\n",
       "      <td>1</td>\n",
       "      <td>Good</td>\n",
       "      <td>No</td>\n",
       "    </tr>\n",
       "    <tr>\n",
       "      <td>2</td>\n",
       "      <td>Very good</td>\n",
       "      <td>No</td>\n",
       "    </tr>\n",
       "    <tr>\n",
       "      <td>3</td>\n",
       "      <td>Very good</td>\n",
       "      <td>No</td>\n",
       "    </tr>\n",
       "    <tr>\n",
       "      <td>4</td>\n",
       "      <td>Good</td>\n",
       "      <td>No</td>\n",
       "    </tr>\n",
       "  </tbody>\n",
       "</table>\n",
       "</div>"
      ],
      "text/plain": [
       "      phstat phospyr\n",
       "0  Very good      No\n",
       "1       Good      No\n",
       "2  Very good      No\n",
       "3  Very good      No\n",
       "4       Good      No"
      ]
     },
     "execution_count": 6,
     "metadata": {},
     "output_type": "execute_result"
    }
   ],
   "source": [
    "### \"Don't know\"とRefused'のrowを削除\n",
    "df_2 = df.loc[~(df['phstat'].isin((\"Don't know\", \"Refused\")))]\n",
    "nhis_df = df_2.loc[~(df_2['phospyr'].isin((\"Don't know\", \"Refused\")))]\n",
    "del df_2\n",
    "\n",
    "nhis_df.info()\n",
    "nhis_df.head()"
   ]
  },
  {
   "cell_type": "code",
   "execution_count": 7,
   "metadata": {},
   "outputs": [],
   "source": [
    "### 変数変換\n",
    "health_status = ('Excellent', 'Very good', 'Good', 'Fair', 'Poor')\n",
    "health_order = [i for i in range(len(health_status), 0, -1)]\n",
    "health_dict = dict(zip(health_status, health_order))\n",
    "\n",
    "del health_status, health_order"
   ]
  },
  {
   "cell_type": "code",
   "execution_count": 8,
   "metadata": {},
   "outputs": [],
   "source": [
    "### index sliceに注意ね\n",
    "nhis_df.loc[:, 'health_order'] = nhis_df['phstat'].map(health_dict)\n",
    "\n",
    "del health_dict"
   ]
  },
  {
   "cell_type": "code",
   "execution_count": 9,
   "metadata": {},
   "outputs": [
    {
     "data": {
      "text/html": [
       "<div>\n",
       "<style scoped>\n",
       "    .dataframe tbody tr th:only-of-type {\n",
       "        vertical-align: middle;\n",
       "    }\n",
       "\n",
       "    .dataframe tbody tr th {\n",
       "        vertical-align: top;\n",
       "    }\n",
       "\n",
       "    .dataframe thead tr th {\n",
       "        text-align: left;\n",
       "    }\n",
       "\n",
       "    .dataframe thead tr:last-of-type th {\n",
       "        text-align: right;\n",
       "    }\n",
       "</style>\n",
       "<table border=\"1\" class=\"dataframe\">\n",
       "  <thead>\n",
       "    <tr>\n",
       "      <th></th>\n",
       "      <th colspan=\"8\" halign=\"left\">health_order</th>\n",
       "    </tr>\n",
       "    <tr>\n",
       "      <th></th>\n",
       "      <th>count</th>\n",
       "      <th>mean</th>\n",
       "      <th>std</th>\n",
       "      <th>min</th>\n",
       "      <th>25%</th>\n",
       "      <th>50%</th>\n",
       "      <th>75%</th>\n",
       "      <th>max</th>\n",
       "    </tr>\n",
       "    <tr>\n",
       "      <th>phospyr</th>\n",
       "      <th></th>\n",
       "      <th></th>\n",
       "      <th></th>\n",
       "      <th></th>\n",
       "      <th></th>\n",
       "      <th></th>\n",
       "      <th></th>\n",
       "      <th></th>\n",
       "    </tr>\n",
       "  </thead>\n",
       "  <tbody>\n",
       "    <tr>\n",
       "      <td>No</td>\n",
       "      <td>90049.0</td>\n",
       "      <td>3.928206</td>\n",
       "      <td>1.004448</td>\n",
       "      <td>1.0</td>\n",
       "      <td>3.0</td>\n",
       "      <td>4.0</td>\n",
       "      <td>5.0</td>\n",
       "      <td>5.0</td>\n",
       "    </tr>\n",
       "    <tr>\n",
       "      <td>Yes</td>\n",
       "      <td>7774.0</td>\n",
       "      <td>3.213275</td>\n",
       "      <td>1.254986</td>\n",
       "      <td>1.0</td>\n",
       "      <td>2.0</td>\n",
       "      <td>3.0</td>\n",
       "      <td>4.0</td>\n",
       "      <td>5.0</td>\n",
       "    </tr>\n",
       "  </tbody>\n",
       "</table>\n",
       "</div>"
      ],
      "text/plain": [
       "        health_order                                             \n",
       "               count      mean       std  min  25%  50%  75%  max\n",
       "phospyr                                                          \n",
       "No           90049.0  3.928206  1.004448  1.0  3.0  4.0  5.0  5.0\n",
       "Yes           7774.0  3.213275  1.254986  1.0  2.0  3.0  4.0  5.0"
      ]
     },
     "execution_count": 9,
     "metadata": {},
     "output_type": "execute_result"
    }
   ],
   "source": [
    "grouped = nhis_df.groupby(nhis_df['phospyr'].astype(str))\n",
    "grouped.describe()"
   ]
  },
  {
   "cell_type": "code",
   "execution_count": 10,
   "metadata": {},
   "outputs": [
    {
     "data": {
      "text/html": [
       "<div>\n",
       "<style scoped>\n",
       "    .dataframe tbody tr th:only-of-type {\n",
       "        vertical-align: middle;\n",
       "    }\n",
       "\n",
       "    .dataframe tbody tr th {\n",
       "        vertical-align: top;\n",
       "    }\n",
       "\n",
       "    .dataframe thead tr th {\n",
       "        text-align: left;\n",
       "    }\n",
       "\n",
       "    .dataframe thead tr:last-of-type th {\n",
       "        text-align: right;\n",
       "    }\n",
       "</style>\n",
       "<table border=\"1\" class=\"dataframe\">\n",
       "  <thead>\n",
       "    <tr>\n",
       "      <th></th>\n",
       "      <th colspan=\"3\" halign=\"left\">health_order</th>\n",
       "    </tr>\n",
       "    <tr>\n",
       "      <th></th>\n",
       "      <th>count</th>\n",
       "      <th>mean</th>\n",
       "      <th>Std_Error</th>\n",
       "    </tr>\n",
       "    <tr>\n",
       "      <th>phospyr</th>\n",
       "      <th></th>\n",
       "      <th></th>\n",
       "      <th></th>\n",
       "    </tr>\n",
       "  </thead>\n",
       "  <tbody>\n",
       "    <tr>\n",
       "      <td>No</td>\n",
       "      <td>90049.0</td>\n",
       "      <td>3.928206</td>\n",
       "      <td>0.003347</td>\n",
       "    </tr>\n",
       "    <tr>\n",
       "      <td>Yes</td>\n",
       "      <td>7774.0</td>\n",
       "      <td>3.213275</td>\n",
       "      <td>0.014234</td>\n",
       "    </tr>\n",
       "  </tbody>\n",
       "</table>\n",
       "</div>"
      ],
      "text/plain": [
       "        health_order                    \n",
       "               count      mean Std_Error\n",
       "phospyr                                 \n",
       "No           90049.0  3.928206  0.003347\n",
       "Yes           7774.0  3.213275  0.014234"
      ]
     },
     "execution_count": 10,
     "metadata": {},
     "output_type": "execute_result"
    }
   ],
   "source": [
    "### MHEと表記揃える\n",
    "summary_df = grouped.describe()\n",
    "summary_df['health_order','Std_Error'] = summary_df['health_order', 'std']/np.sqrt(summary_df['health_order','count'])\n",
    "summary_df.loc[:, zip(['health_order']*3, ['count', 'mean', 'Std_Error'])]"
   ]
  },
  {
   "cell_type": "code",
   "execution_count": 11,
   "metadata": {},
   "outputs": [
    {
     "data": {
      "text/html": [
       "<div>\n",
       "<style scoped>\n",
       "    .dataframe tbody tr th:only-of-type {\n",
       "        vertical-align: middle;\n",
       "    }\n",
       "\n",
       "    .dataframe tbody tr th {\n",
       "        vertical-align: top;\n",
       "    }\n",
       "\n",
       "    .dataframe thead tr th {\n",
       "        text-align: left;\n",
       "    }\n",
       "\n",
       "    .dataframe thead tr:last-of-type th {\n",
       "        text-align: right;\n",
       "    }\n",
       "</style>\n",
       "<table border=\"1\" class=\"dataframe\">\n",
       "  <thead>\n",
       "    <tr>\n",
       "      <th></th>\n",
       "      <th colspan=\"3\" halign=\"left\">health_order</th>\n",
       "    </tr>\n",
       "    <tr>\n",
       "      <th></th>\n",
       "      <th>count</th>\n",
       "      <th>mean</th>\n",
       "      <th>Std_Error</th>\n",
       "    </tr>\n",
       "    <tr>\n",
       "      <th>phospyr</th>\n",
       "      <th></th>\n",
       "      <th></th>\n",
       "      <th></th>\n",
       "    </tr>\n",
       "  </thead>\n",
       "  <tbody>\n",
       "    <tr>\n",
       "      <td>No</td>\n",
       "      <td>90049</td>\n",
       "      <td>3.93</td>\n",
       "      <td>0.003</td>\n",
       "    </tr>\n",
       "    <tr>\n",
       "      <td>Yes</td>\n",
       "      <td>7774</td>\n",
       "      <td>3.21</td>\n",
       "      <td>0.014</td>\n",
       "    </tr>\n",
       "  </tbody>\n",
       "</table>\n",
       "</div>"
      ],
      "text/plain": [
       "        health_order                \n",
       "               count  mean Std_Error\n",
       "phospyr                             \n",
       "No             90049  3.93     0.003\n",
       "Yes             7774  3.21     0.014"
      ]
     },
     "execution_count": 11,
     "metadata": {},
     "output_type": "execute_result"
    }
   ],
   "source": [
    "### 有効桁を揃える\n",
    "summary_df['health_order','count'] = summary_df['health_order','count'].astype(int)\n",
    "summary_df['health_order','mean'] = summary_df['health_order','mean'].map('{:,.2f}'.format)\n",
    "summary_df['health_order','Std_Error'] = summary_df['health_order','Std_Error'].map('{:,.3f}'.format)\n",
    "summary_df.loc[:, zip(['health_order']*3, ['count', 'mean', 'Std_Error'])]"
   ]
  },
  {
   "cell_type": "code",
   "execution_count": 12,
   "metadata": {},
   "outputs": [],
   "source": [
    "del summary_df, grouped, df"
   ]
  },
  {
   "cell_type": "markdown",
   "metadata": {},
   "source": [
    "#### two-sample t-test equal varianceの確認\n",
    "(a) 入院していないsampleの抽出"
   ]
  },
  {
   "cell_type": "code",
   "execution_count": 13,
   "metadata": {},
   "outputs": [
    {
     "data": {
      "image/png": "[encoded data removed]",
      "text/plain": [
       "<Figure size 432x288 with 1 Axes>"
      ]
     },
     "metadata": {
      "needs_background": "light"
     },
     "output_type": "display_data"
    }
   ],
   "source": [
    "not_hospitalized = nhis_df.loc[nhis_df['phospyr'] == 'No', 'health_order']\n",
    "not_hospitalized.value_counts().plot(kind='bar');"
   ]
  },
  {
   "cell_type": "markdown",
   "metadata": {},
   "source": [
    "(b) 入院経験ありのsample"
   ]
  },
  {
   "cell_type": "code",
   "execution_count": 14,
   "metadata": {},
   "outputs": [
    {
     "data": {
      "image/png": "[encoded data removed]",
      "text/plain": [
       "<Figure size 432x288 with 1 Axes>"
      ]
     },
     "metadata": {
      "needs_background": "light"
     },
     "output_type": "display_data"
    }
   ],
   "source": [
    "hospitalized = nhis_df.loc[nhis_df['phospyr'] == 'Yes', 'health_order']\n",
    "hospitalized.value_counts().plot(kind='bar');"
   ]
  },
  {
   "cell_type": "markdown",
   "metadata": {},
   "source": [
    "上の (a), (b) の平均の差に対して有意差検定を実行。"
   ]
  },
  {
   "cell_type": "code",
   "execution_count": 15,
   "metadata": {},
   "outputs": [
    {
     "data": {
      "text/html": [
       "<table class=\"simpletable\">\n",
       "<caption>Test for equality of means</caption>\n",
       "<tr>\n",
       "      <td></td>         <th>coef</th>     <th>std err</th>      <th>t</th>      <th>P>|t|</th>  <th>[0.025</th>    <th>0.975]</th>  \n",
       "</tr>\n",
       "<tr>\n",
       "  <th>subset #1</th> <td>    0.7149</td> <td>    0.012</td> <td>   58.912</td> <td> 0.000</td> <td>    0.691</td> <td>    0.739</td>\n",
       "</tr>\n",
       "</table>"
      ],
      "text/plain": [
       "<class 'statsmodels.iolib.table.SimpleTable'>"
      ]
     },
     "execution_count": 15,
     "metadata": {},
     "output_type": "execute_result"
    }
   ],
   "source": [
    "from statsmodels.stats.weightstats import DescrStatsW, CompareMeans\n",
    "\n",
    "\n",
    "rct_ttest = CompareMeans(DescrStatsW(not_hospitalized), \n",
    "                         DescrStatsW(hospitalized))\n",
    "rct_ttest.ttest_ind()  # defaults two-sided, pooled\n",
    "rct_ttest.summary()"
   ]
  },
  {
   "cell_type": "markdown",
   "metadata": {},
   "source": [
    "単純な比較の結果、病院経験のあるサンプルは病院経験なしのサンプルに対して健康状態が悪いという結論が得られた。しかし、病院に行かないような人はもともと健康（vice versa）で、セレクションバイアスの一例とも考えらえる。病院にいくような人同士の間で、病院に行った場合と行かなかった場合の健康状態を比べるべき。\n",
    "\n",
    "#### REMARK\n",
    "selection biasの存在が疑わしい時は、（結果解釈の方向性が変わってしまう時は特に、）naiveな比較はよくないよ"
   ]
  },
  {
   "cell_type": "markdown",
   "metadata": {},
   "source": [
    "### 様々な比較に入り込むバイアス\n",
    "see [Calling Bullshit](https://callingbullshit.org)"
   ]
  },
  {
   "cell_type": "markdown",
   "metadata": {},
   "source": [
    "## 1.3.2 potential outcome framework\n",
    "$i$をindex, $D_i = \\{0, 1\\}$をtreatment variableとしたとき、\n",
    "\n",
    "$$\n",
    "\\text{Potential outcome} = \\begin{cases}\n",
    "Y_{1i} & \\text{if } D_i = 1\\\\\n",
    "Y_{0i} & \\text{if } D_i = 0\n",
    "\\end{cases}\n",
    "$$"
   ]
  },
  {
   "cell_type": "markdown",
   "metadata": {},
   "source": [
    "$Y_i$をobserved outcomeとすると\n",
    "$$\n",
    "Y_i = Y_{0i}(1 - D_i) + D_iY_{1i} \n",
    "$$\n",
    "と表現される。\n",
    "\n",
    "このとき、$Y_{1i}, Y_{0i}$はそれぞれtreatmentを受けたとき、受けなかったときの結果変数と考え、いずれか一方しか分析者は観測できないとする。"
   ]
  },
  {
   "cell_type": "markdown",
   "metadata": {},
   "source": [
    "### 1.3.8 有意差検定の概要と限界\n",
    "ここではt-testがなぜ多くの場面で使用されるかをメモする\n",
    "\n",
    "#### 定義：t分布\n",
    "確率変数Tがpdf\n",
    "$$\n",
    "f(t) = \\frac{\\Gamma\\left(\\frac{n+1}{2}\\right)}{\\sqrt{n\\pi}\\Gamma\\left(\\frac{n}{2}\\right)}\\left(1 + \\frac{t^2}{n}\\right)^{-\\left(\\frac{n+1}{2}\\right)}\n",
    "$$\n",
    "を持つ時、Tは自由度nのt分布に従うという。\n",
    "\n",
    "確率密度関数より$f(t) = f(-t)$、$t = 0$に対して左右対象であることがわかる。"
   ]
  },
  {
   "cell_type": "markdown",
   "metadata": {},
   "source": [
    "#### 定理\n",
    "確率変数$Z$と$X$が互いに独立で$Z\\sim N(0, 1)$, $X\\sim\\chi^2(n)$ならば\n",
    "$$\n",
    "T = \\frac{Z}{\\sqrt{X/n}}\\sim t(n)\n",
    "$$\n",
    "が成立する。"
   ]
  },
  {
   "cell_type": "markdown",
   "metadata": {},
   "source": [
    "#### t分布の特徴\n",
    "t 分布は$N(0, 1)$と比べ、裾があつい分布となっている。"
   ]
  },
  {
   "cell_type": "markdown",
   "metadata": {},
   "source": [
    "#### t分布と正規分布の比較"
   ]
  },
  {
   "cell_type": "code",
   "execution_count": 16,
   "metadata": {},
   "outputs": [],
   "source": [
    "from scipy.stats import norm\n",
    "from scipy.stats import t"
   ]
  },
  {
   "cell_type": "code",
   "execution_count": 17,
   "metadata": {},
   "outputs": [
    {
     "data": {
      "image/png": "[encoded data removed]",
      "text/plain": [
       "<Figure size 432x288 with 1 Axes>"
      ]
     },
     "metadata": {
      "needs_background": "light"
     },
     "output_type": "display_data"
    }
   ],
   "source": [
    "fig, ax = plt.subplots(1, 1)\n",
    "x = np.linspace(norm.ppf(0.01),\n",
    "                norm.ppf(0.99), 100)\n",
    "degree_freedom = (1, 4, 10)\n",
    "ax.plot(x, norm.pdf(x),\n",
    "        'r-', lw=2, alpha=0.6, label='norm pdf')\n",
    "\n",
    "for i in degree_freedom:\n",
    "    ax.plot(x, t.pdf(x, i),\n",
    "         lw=2, alpha=0.6, label='t ({}) '.format(i))\n",
    "\n",
    "\n",
    "\n",
    "plt.legend();"
   ]
  },
  {
   "cell_type": "markdown",
   "metadata": {},
   "source": [
    "#### CLT\n",
    "sample momentsは漸近的に正規分布に従う、という定理。\n",
    "\n",
    "$Y_1, ..., Y_n$はi.i.dで、$E[Y_i] = \\mu, Var(Y_i) = \\sigma^2<\\infty$とする。ここで標本平均を$\\bar Y$と表記すると\n",
    "\n",
    "$$\n",
    "Z = \\frac{\\bar Y - \\mu}{\\sigma/\\sqrt{n}}\n",
    "$$\n",
    "は標準正規分布に分布収束する。つまり、\n",
    "$$\n",
    "\\lim_{n\\to\\infty}Pr(Z\\leq z) = \\Phi(x)\n",
    "$$"
   ]
  },
  {
   "cell_type": "markdown",
   "metadata": {},
   "source": [
    "nが十分大きい時、$Y_i$がどのような分布にしたがっていようが、$\\bar Y$の分布は正規分布によって近似できる。これが、t-testが多用される理由の一つ。$\\hat\\mu, \\hat\\sigma$の独立性の直感的理解は、\n",
    "\n",
    "$$\n",
    "E[(Y_i - \\bar Y)\\bar Y] = 0\n",
    "$$\n",
    "\n",
    "また、$\\bar Y, (Y_i - \\bar Y)/n$はCLTによりそれぞれ独立に（漸近的に）正規分布に従うことより"
   ]
  },
  {
   "cell_type": "markdown",
   "metadata": {},
   "source": [
    "### CLTとt 分布の確認"
   ]
  },
  {
   "cell_type": "markdown",
   "metadata": {},
   "source": [
    "CLTの確認"
   ]
  },
  {
   "cell_type": "code",
   "execution_count": 18,
   "metadata": {},
   "outputs": [
    {
     "data": {
      "image/png": "[encoded data removed]",
      "text/plain": [
       "<Figure size 1296x720 with 6 Axes>"
      ]
     },
     "metadata": {
      "needs_background": "light"
     },
     "output_type": "display_data"
    }
   ],
   "source": [
    "f = plt.figure(figsize=(18, 10))\n",
    " \n",
    "def plotHist(nr, N, n_, mean, var0, x0):\n",
    "    ''' plots the RVs'''\n",
    "    x = np.zeros((N))\n",
    "    sp = f.add_subplot(3, 2, n_ )\n",
    "    \n",
    "    for i in range(N):    \n",
    "        for j in range(nr):\n",
    "            x[i] += np.random.exponential(mean) \n",
    "        x[i] *= 1/nr\n",
    "    plt.hist(x, 100, density=True, color='#348ABD', label=\" %d RVs\"%(nr));\n",
    "    plt.setp(sp.get_yticklabels(), visible=False)\n",
    "    \n",
    "    variance = var0/nr                     \n",
    "    fac = 1/np.sqrt(2*np.pi*variance)\n",
    "    dist = fac*np.exp(-(x0-mean)**2/(2*variance))\n",
    "    plt.plot(x0,dist,color='#A60628',linewidth=3,label='CLT',alpha=0.8)\n",
    "    plt.xlabel('r')\n",
    "    plt.xlim([0, 1])\n",
    "    leg = plt.legend(loc=\"upper right\")\n",
    "    leg.get_frame().set_alpha(0.1)\n",
    "\n",
    "    \n",
    "N = 10000   # number of samples\n",
    "nr = ([1, 2, 8, 32, 64, 128])\n",
    "\n",
    "mean, var0 = 0.5, 0.5*0.5  # mean and variance of exponential distribution\n",
    "x0 = np.linspace(0, 1, 128)\n",
    "\n",
    "for i in range(np.size(nr)):\n",
    "    plotHist(nr[i], N, i+1, mean, var0, x0)\n",
    "\n",
    "plt.suptitle(\"CLT check\",fontsize=20);"
   ]
  },
  {
   "cell_type": "markdown",
   "metadata": {},
   "source": [
    "次にt分布の確認"
   ]
  },
  {
   "cell_type": "markdown",
   "metadata": {},
   "source": [
    "ライブラリの読み込み"
   ]
  },
  {
   "cell_type": "code",
   "execution_count": 19,
   "metadata": {},
   "outputs": [],
   "source": [
    "from scipy.stats import t\n",
    "from scipy.stats import expon"
   ]
  },
  {
   "cell_type": "markdown",
   "metadata": {},
   "source": [
    "plot"
   ]
  },
  {
   "cell_type": "code",
   "execution_count": 20,
   "metadata": {},
   "outputs": [
    {
     "data": {
      "image/png": "[encoded data removed]",
      "text/plain": [
       "<Figure size 720x1080 with 10 Axes>"
      ]
     },
     "metadata": {
      "needs_background": "light"
     },
     "output_type": "display_data"
    }
   ],
   "source": [
    "# Set parameters\n",
    "ns = [i for i in range(10, 200, 20)]  # Choice of n\n",
    "k = 100000                   # Number of draws of Y_n\n",
    "distribution = expon(2)     # Exponential distribution, λ = 1/2\n",
    "mu, s = distribution.mean(), distribution.std()\n",
    "\n",
    "# plot parameters\n",
    "fig, axes = plt.subplots(5, 2, figsize=(10, 15))\n",
    "plt.subplots_adjust(hspace=0.4)\n",
    "axes = axes.flatten()\n",
    "\n",
    "for ax, n in zip(axes, ns):\n",
    "    # Draw underlying RVs. Each row contains a draw of X_1,..,X_n\n",
    "    data = distribution.rvs((k, n))\n",
    "    # Compute mean, var of each row, producing k draws of \\bar X_n\n",
    "    sample_means = data.mean(axis=1)\n",
    "    sample_vars = data.var(axis=1)\n",
    "\n",
    "    statistics = (sample_means - mu)/np.sqrt(sample_vars/n)\n",
    "\n",
    "    # Plot\n",
    "    xmin, xmax = -3 * s, 3 * s\n",
    "    ax.set_xlim(xmin, xmax)\n",
    "    ax.hist(statistics, bins=60, alpha=0.5, density=True)\n",
    "    xgrid = np.linspace(xmin, xmax, 200)\n",
    "    ax.plot(xgrid, t.pdf(xgrid, n), 'k-', color='#A60628',lw=2, label = 't pdf')\n",
    "    ax.set(title='$t ({})$'.format(n))\n",
    "    ax.legend();\n",
    "\n"
   ]
  },
  {
   "cell_type": "markdown",
   "metadata": {},
   "source": [
    "## 1.4 メールマーケティングの効果検証"
   ]
  },
  {
   "cell_type": "markdown",
   "metadata": {},
   "source": [
    "(1) clear variables"
   ]
  },
  {
   "cell_type": "code",
   "execution_count": 21,
   "metadata": {},
   "outputs": [],
   "source": [
    "def clear_all():\n",
    "    \"\"\"Clears all the variables from the workspace of the application.\"\"\"\n",
    "    gl = globals().copy()\n",
    "    for var in gl:\n",
    "        if var[0] == '_': continue\n",
    "        if 'func' in str(globals()[var]): continue\n",
    "        if 'module' in str(globals()[var]): continue\n",
    "\n",
    "clear_all()"
   ]
  },
  {
   "cell_type": "markdown",
   "metadata": {},
   "source": [
    "(2) パッケージのインストール"
   ]
  },
  {
   "cell_type": "code",
   "execution_count": 22,
   "metadata": {},
   "outputs": [],
   "source": [
    "pass"
   ]
  },
  {
   "cell_type": "markdown",
   "metadata": {},
   "source": [
    "(3) ライブラリの読み込み"
   ]
  },
  {
   "cell_type": "code",
   "execution_count": 23,
   "metadata": {},
   "outputs": [],
   "source": [
    "import pandas as pd\n",
    "import numpy as np\n",
    "import matplotlib.pyplot as plt\n",
    "import statsmodels.api as sm\n",
    "import scipy\n",
    "import scipy.optimize as optimize"
   ]
  },
  {
   "cell_type": "markdown",
   "metadata": {},
   "source": [
    "(4) dataの読み込み"
   ]
  },
  {
   "cell_type": "code",
   "execution_count": 24,
   "metadata": {},
   "outputs": [
    {
     "name": "stdout",
     "output_type": "stream",
     "text": [
      "<class 'pandas.core.frame.DataFrame'>\n",
      "RangeIndex: 64000 entries, 0 to 63999\n",
      "Data columns (total 12 columns):\n",
      "recency            64000 non-null int64\n",
      "history_segment    64000 non-null object\n",
      "history            64000 non-null float64\n",
      "mens               64000 non-null int64\n",
      "womens             64000 non-null int64\n",
      "zip_code           64000 non-null object\n",
      "newbie             64000 non-null int64\n",
      "channel            64000 non-null object\n",
      "segment            64000 non-null object\n",
      "visit              64000 non-null int64\n",
      "conversion         64000 non-null int64\n",
      "spend              64000 non-null float64\n",
      "dtypes: float64(2), int64(6), object(4)\n",
      "memory usage: 5.9+ MB\n"
     ]
    },
    {
     "data": {
      "text/html": [
       "<div>\n",
       "<style scoped>\n",
       "    .dataframe tbody tr th:only-of-type {\n",
       "        vertical-align: middle;\n",
       "    }\n",
       "\n",
       "    .dataframe tbody tr th {\n",
       "        vertical-align: top;\n",
       "    }\n",
       "\n",
       "    .dataframe thead th {\n",
       "        text-align: right;\n",
       "    }\n",
       "</style>\n",
       "<table border=\"1\" class=\"dataframe\">\n",
       "  <thead>\n",
       "    <tr style=\"text-align: right;\">\n",
       "      <th></th>\n",
       "      <th>recency</th>\n",
       "      <th>history</th>\n",
       "      <th>mens</th>\n",
       "      <th>womens</th>\n",
       "      <th>newbie</th>\n",
       "      <th>visit</th>\n",
       "      <th>conversion</th>\n",
       "      <th>spend</th>\n",
       "    </tr>\n",
       "  </thead>\n",
       "  <tbody>\n",
       "    <tr>\n",
       "      <td>count</td>\n",
       "      <td>64000.000000</td>\n",
       "      <td>64000.000000</td>\n",
       "      <td>64000.000000</td>\n",
       "      <td>64000.000000</td>\n",
       "      <td>64000.000000</td>\n",
       "      <td>64000.000000</td>\n",
       "      <td>64000.000000</td>\n",
       "      <td>64000.000000</td>\n",
       "    </tr>\n",
       "    <tr>\n",
       "      <td>mean</td>\n",
       "      <td>5.763734</td>\n",
       "      <td>242.085656</td>\n",
       "      <td>0.551031</td>\n",
       "      <td>0.549719</td>\n",
       "      <td>0.502250</td>\n",
       "      <td>0.146781</td>\n",
       "      <td>0.009031</td>\n",
       "      <td>1.050908</td>\n",
       "    </tr>\n",
       "    <tr>\n",
       "      <td>std</td>\n",
       "      <td>3.507592</td>\n",
       "      <td>256.158608</td>\n",
       "      <td>0.497393</td>\n",
       "      <td>0.497526</td>\n",
       "      <td>0.499999</td>\n",
       "      <td>0.353890</td>\n",
       "      <td>0.094604</td>\n",
       "      <td>15.036448</td>\n",
       "    </tr>\n",
       "    <tr>\n",
       "      <td>min</td>\n",
       "      <td>1.000000</td>\n",
       "      <td>29.990000</td>\n",
       "      <td>0.000000</td>\n",
       "      <td>0.000000</td>\n",
       "      <td>0.000000</td>\n",
       "      <td>0.000000</td>\n",
       "      <td>0.000000</td>\n",
       "      <td>0.000000</td>\n",
       "    </tr>\n",
       "    <tr>\n",
       "      <td>25%</td>\n",
       "      <td>2.000000</td>\n",
       "      <td>64.660000</td>\n",
       "      <td>0.000000</td>\n",
       "      <td>0.000000</td>\n",
       "      <td>0.000000</td>\n",
       "      <td>0.000000</td>\n",
       "      <td>0.000000</td>\n",
       "      <td>0.000000</td>\n",
       "    </tr>\n",
       "    <tr>\n",
       "      <td>50%</td>\n",
       "      <td>6.000000</td>\n",
       "      <td>158.110000</td>\n",
       "      <td>1.000000</td>\n",
       "      <td>1.000000</td>\n",
       "      <td>1.000000</td>\n",
       "      <td>0.000000</td>\n",
       "      <td>0.000000</td>\n",
       "      <td>0.000000</td>\n",
       "    </tr>\n",
       "    <tr>\n",
       "      <td>75%</td>\n",
       "      <td>9.000000</td>\n",
       "      <td>325.657500</td>\n",
       "      <td>1.000000</td>\n",
       "      <td>1.000000</td>\n",
       "      <td>1.000000</td>\n",
       "      <td>0.000000</td>\n",
       "      <td>0.000000</td>\n",
       "      <td>0.000000</td>\n",
       "    </tr>\n",
       "    <tr>\n",
       "      <td>max</td>\n",
       "      <td>12.000000</td>\n",
       "      <td>3345.930000</td>\n",
       "      <td>1.000000</td>\n",
       "      <td>1.000000</td>\n",
       "      <td>1.000000</td>\n",
       "      <td>1.000000</td>\n",
       "      <td>1.000000</td>\n",
       "      <td>499.000000</td>\n",
       "    </tr>\n",
       "  </tbody>\n",
       "</table>\n",
       "</div>"
      ],
      "text/plain": [
       "            recency       history          mens        womens        newbie  \\\n",
       "count  64000.000000  64000.000000  64000.000000  64000.000000  64000.000000   \n",
       "mean       5.763734    242.085656      0.551031      0.549719      0.502250   \n",
       "std        3.507592    256.158608      0.497393      0.497526      0.499999   \n",
       "min        1.000000     29.990000      0.000000      0.000000      0.000000   \n",
       "25%        2.000000     64.660000      0.000000      0.000000      0.000000   \n",
       "50%        6.000000    158.110000      1.000000      1.000000      1.000000   \n",
       "75%        9.000000    325.657500      1.000000      1.000000      1.000000   \n",
       "max       12.000000   3345.930000      1.000000      1.000000      1.000000   \n",
       "\n",
       "              visit    conversion         spend  \n",
       "count  64000.000000  64000.000000  64000.000000  \n",
       "mean       0.146781      0.009031      1.050908  \n",
       "std        0.353890      0.094604     15.036448  \n",
       "min        0.000000      0.000000      0.000000  \n",
       "25%        0.000000      0.000000      0.000000  \n",
       "50%        0.000000      0.000000      0.000000  \n",
       "75%        0.000000      0.000000      0.000000  \n",
       "max        1.000000      1.000000    499.000000  "
      ]
     },
     "execution_count": 24,
     "metadata": {},
     "output_type": "execute_result"
    }
   ],
   "source": [
    "df = pd.read_csv(\"http://www.minethatdata.com/Kevin_Hillstrom_MineThatData_E-MailAnalytics_DataMiningChallenge_2008.03.20.csv\")\n",
    "df.info()\n",
    "df.describe()"
   ]
  },
  {
   "cell_type": "code",
   "execution_count": 25,
   "metadata": {},
   "outputs": [
    {
     "data": {
      "text/html": [
       "<div>\n",
       "<style scoped>\n",
       "    .dataframe tbody tr th:only-of-type {\n",
       "        vertical-align: middle;\n",
       "    }\n",
       "\n",
       "    .dataframe tbody tr th {\n",
       "        vertical-align: top;\n",
       "    }\n",
       "\n",
       "    .dataframe thead th {\n",
       "        text-align: right;\n",
       "    }\n",
       "</style>\n",
       "<table border=\"1\" class=\"dataframe\">\n",
       "  <thead>\n",
       "    <tr style=\"text-align: right;\">\n",
       "      <th></th>\n",
       "      <th>recency</th>\n",
       "      <th>history_segment</th>\n",
       "      <th>history</th>\n",
       "      <th>mens</th>\n",
       "      <th>womens</th>\n",
       "      <th>zip_code</th>\n",
       "      <th>newbie</th>\n",
       "      <th>channel</th>\n",
       "      <th>segment</th>\n",
       "      <th>visit</th>\n",
       "      <th>conversion</th>\n",
       "      <th>spend</th>\n",
       "    </tr>\n",
       "  </thead>\n",
       "  <tbody>\n",
       "    <tr>\n",
       "      <td>0</td>\n",
       "      <td>10</td>\n",
       "      <td>2) $100 - $200</td>\n",
       "      <td>142.44</td>\n",
       "      <td>1</td>\n",
       "      <td>0</td>\n",
       "      <td>Surburban</td>\n",
       "      <td>0</td>\n",
       "      <td>Phone</td>\n",
       "      <td>Womens E-Mail</td>\n",
       "      <td>0</td>\n",
       "      <td>0</td>\n",
       "      <td>0.0</td>\n",
       "    </tr>\n",
       "    <tr>\n",
       "      <td>1</td>\n",
       "      <td>6</td>\n",
       "      <td>3) $200 - $350</td>\n",
       "      <td>329.08</td>\n",
       "      <td>1</td>\n",
       "      <td>1</td>\n",
       "      <td>Rural</td>\n",
       "      <td>1</td>\n",
       "      <td>Web</td>\n",
       "      <td>No E-Mail</td>\n",
       "      <td>0</td>\n",
       "      <td>0</td>\n",
       "      <td>0.0</td>\n",
       "    </tr>\n",
       "    <tr>\n",
       "      <td>2</td>\n",
       "      <td>7</td>\n",
       "      <td>2) $100 - $200</td>\n",
       "      <td>180.65</td>\n",
       "      <td>0</td>\n",
       "      <td>1</td>\n",
       "      <td>Surburban</td>\n",
       "      <td>1</td>\n",
       "      <td>Web</td>\n",
       "      <td>Womens E-Mail</td>\n",
       "      <td>0</td>\n",
       "      <td>0</td>\n",
       "      <td>0.0</td>\n",
       "    </tr>\n",
       "    <tr>\n",
       "      <td>3</td>\n",
       "      <td>9</td>\n",
       "      <td>5) $500 - $750</td>\n",
       "      <td>675.83</td>\n",
       "      <td>1</td>\n",
       "      <td>0</td>\n",
       "      <td>Rural</td>\n",
       "      <td>1</td>\n",
       "      <td>Web</td>\n",
       "      <td>Mens E-Mail</td>\n",
       "      <td>0</td>\n",
       "      <td>0</td>\n",
       "      <td>0.0</td>\n",
       "    </tr>\n",
       "    <tr>\n",
       "      <td>4</td>\n",
       "      <td>2</td>\n",
       "      <td>1) $0 - $100</td>\n",
       "      <td>45.34</td>\n",
       "      <td>1</td>\n",
       "      <td>0</td>\n",
       "      <td>Urban</td>\n",
       "      <td>0</td>\n",
       "      <td>Web</td>\n",
       "      <td>Womens E-Mail</td>\n",
       "      <td>0</td>\n",
       "      <td>0</td>\n",
       "      <td>0.0</td>\n",
       "    </tr>\n",
       "  </tbody>\n",
       "</table>\n",
       "</div>"
      ],
      "text/plain": [
       "   recency history_segment  history  mens  womens   zip_code  newbie channel  \\\n",
       "0       10  2) $100 - $200   142.44     1       0  Surburban       0   Phone   \n",
       "1        6  3) $200 - $350   329.08     1       1      Rural       1     Web   \n",
       "2        7  2) $100 - $200   180.65     0       1  Surburban       1     Web   \n",
       "3        9  5) $500 - $750   675.83     1       0      Rural       1     Web   \n",
       "4        2    1) $0 - $100    45.34     1       0      Urban       0     Web   \n",
       "\n",
       "         segment  visit  conversion  spend  \n",
       "0  Womens E-Mail      0           0    0.0  \n",
       "1      No E-Mail      0           0    0.0  \n",
       "2  Womens E-Mail      0           0    0.0  \n",
       "3    Mens E-Mail      0           0    0.0  \n",
       "4  Womens E-Mail      0           0    0.0  "
      ]
     },
     "execution_count": 25,
     "metadata": {},
     "output_type": "execute_result"
    }
   ],
   "source": [
    "df.head()"
   ]
  },
  {
   "cell_type": "markdown",
   "metadata": {},
   "source": [
    "### 前処理"
   ]
  },
  {
   "cell_type": "code",
   "execution_count": 26,
   "metadata": {},
   "outputs": [
    {
     "name": "stdout",
     "output_type": "stream",
     "text": [
      "<class 'pandas.core.frame.DataFrame'>\n",
      "Int64Index: 42613 entries, 1 to 63999\n",
      "Data columns (total 13 columns):\n",
      "recency            42613 non-null int64\n",
      "history_segment    42613 non-null object\n",
      "history            42613 non-null float64\n",
      "mens               42613 non-null int64\n",
      "womens             42613 non-null int64\n",
      "zip_code           42613 non-null object\n",
      "newbie             42613 non-null int64\n",
      "channel            42613 non-null object\n",
      "segment            42613 non-null object\n",
      "visit              42613 non-null int64\n",
      "conversion         42613 non-null int64\n",
      "spend              42613 non-null float64\n",
      "treatment          42613 non-null int64\n",
      "dtypes: float64(2), int64(7), object(4)\n",
      "memory usage: 4.6+ MB\n"
     ]
    },
    {
     "data": {
      "text/html": [
       "<div>\n",
       "<style scoped>\n",
       "    .dataframe tbody tr th:only-of-type {\n",
       "        vertical-align: middle;\n",
       "    }\n",
       "\n",
       "    .dataframe tbody tr th {\n",
       "        vertical-align: top;\n",
       "    }\n",
       "\n",
       "    .dataframe thead th {\n",
       "        text-align: right;\n",
       "    }\n",
       "</style>\n",
       "<table border=\"1\" class=\"dataframe\">\n",
       "  <thead>\n",
       "    <tr style=\"text-align: right;\">\n",
       "      <th></th>\n",
       "      <th>recency</th>\n",
       "      <th>history_segment</th>\n",
       "      <th>history</th>\n",
       "      <th>mens</th>\n",
       "      <th>womens</th>\n",
       "      <th>zip_code</th>\n",
       "      <th>newbie</th>\n",
       "      <th>channel</th>\n",
       "      <th>segment</th>\n",
       "      <th>visit</th>\n",
       "      <th>conversion</th>\n",
       "      <th>spend</th>\n",
       "      <th>treatment</th>\n",
       "    </tr>\n",
       "  </thead>\n",
       "  <tbody>\n",
       "    <tr>\n",
       "      <td>1</td>\n",
       "      <td>6</td>\n",
       "      <td>3) $200 - $350</td>\n",
       "      <td>329.08</td>\n",
       "      <td>1</td>\n",
       "      <td>1</td>\n",
       "      <td>Rural</td>\n",
       "      <td>1</td>\n",
       "      <td>Web</td>\n",
       "      <td>No E-Mail</td>\n",
       "      <td>0</td>\n",
       "      <td>0</td>\n",
       "      <td>0.0</td>\n",
       "      <td>0</td>\n",
       "    </tr>\n",
       "    <tr>\n",
       "      <td>3</td>\n",
       "      <td>9</td>\n",
       "      <td>5) $500 - $750</td>\n",
       "      <td>675.83</td>\n",
       "      <td>1</td>\n",
       "      <td>0</td>\n",
       "      <td>Rural</td>\n",
       "      <td>1</td>\n",
       "      <td>Web</td>\n",
       "      <td>Mens E-Mail</td>\n",
       "      <td>0</td>\n",
       "      <td>0</td>\n",
       "      <td>0.0</td>\n",
       "      <td>1</td>\n",
       "    </tr>\n",
       "    <tr>\n",
       "      <td>8</td>\n",
       "      <td>9</td>\n",
       "      <td>5) $500 - $750</td>\n",
       "      <td>675.07</td>\n",
       "      <td>1</td>\n",
       "      <td>1</td>\n",
       "      <td>Rural</td>\n",
       "      <td>1</td>\n",
       "      <td>Phone</td>\n",
       "      <td>Mens E-Mail</td>\n",
       "      <td>0</td>\n",
       "      <td>0</td>\n",
       "      <td>0.0</td>\n",
       "      <td>1</td>\n",
       "    </tr>\n",
       "    <tr>\n",
       "      <td>13</td>\n",
       "      <td>2</td>\n",
       "      <td>2) $100 - $200</td>\n",
       "      <td>101.64</td>\n",
       "      <td>0</td>\n",
       "      <td>1</td>\n",
       "      <td>Urban</td>\n",
       "      <td>0</td>\n",
       "      <td>Web</td>\n",
       "      <td>Mens E-Mail</td>\n",
       "      <td>1</td>\n",
       "      <td>0</td>\n",
       "      <td>0.0</td>\n",
       "      <td>1</td>\n",
       "    </tr>\n",
       "    <tr>\n",
       "      <td>14</td>\n",
       "      <td>4</td>\n",
       "      <td>3) $200 - $350</td>\n",
       "      <td>241.42</td>\n",
       "      <td>0</td>\n",
       "      <td>1</td>\n",
       "      <td>Rural</td>\n",
       "      <td>1</td>\n",
       "      <td>Multichannel</td>\n",
       "      <td>No E-Mail</td>\n",
       "      <td>0</td>\n",
       "      <td>0</td>\n",
       "      <td>0.0</td>\n",
       "      <td>0</td>\n",
       "    </tr>\n",
       "  </tbody>\n",
       "</table>\n",
       "</div>"
      ],
      "text/plain": [
       "    recency history_segment  history  mens  womens zip_code  newbie  \\\n",
       "1         6  3) $200 - $350   329.08     1       1    Rural       1   \n",
       "3         9  5) $500 - $750   675.83     1       0    Rural       1   \n",
       "8         9  5) $500 - $750   675.07     1       1    Rural       1   \n",
       "13        2  2) $100 - $200   101.64     0       1    Urban       0   \n",
       "14        4  3) $200 - $350   241.42     0       1    Rural       1   \n",
       "\n",
       "         channel      segment  visit  conversion  spend  treatment  \n",
       "1            Web    No E-Mail      0           0    0.0          0  \n",
       "3            Web  Mens E-Mail      0           0    0.0          1  \n",
       "8          Phone  Mens E-Mail      0           0    0.0          1  \n",
       "13           Web  Mens E-Mail      1           0    0.0          1  \n",
       "14  Multichannel    No E-Mail      0           0    0.0          0  "
      ]
     },
     "execution_count": 26,
     "metadata": {},
     "output_type": "execute_result"
    }
   ],
   "source": [
    "df.loc[:, 'treatment'] = df['segment'].map(lambda x: 1 if x == 'Mens E-Mail' else 0)\n",
    "male_df = df.loc[df['segment'] != 'Womens E-Mail']\n",
    "male_df.info()\n",
    "male_df.head()"
   ]
  },
  {
   "cell_type": "markdown",
   "metadata": {},
   "source": [
    "### (5) 集計による比較"
   ]
  },
  {
   "cell_type": "code",
   "execution_count": 27,
   "metadata": {},
   "outputs": [
    {
     "data": {
      "text/html": [
       "<div>\n",
       "<style scoped>\n",
       "    .dataframe tbody tr th:only-of-type {\n",
       "        vertical-align: middle;\n",
       "    }\n",
       "\n",
       "    .dataframe tbody tr th {\n",
       "        vertical-align: top;\n",
       "    }\n",
       "\n",
       "    .dataframe thead tr th {\n",
       "        text-align: left;\n",
       "    }\n",
       "\n",
       "    .dataframe thead tr:last-of-type th {\n",
       "        text-align: right;\n",
       "    }\n",
       "</style>\n",
       "<table border=\"1\" class=\"dataframe\">\n",
       "  <thead>\n",
       "    <tr>\n",
       "      <th></th>\n",
       "      <th>spend</th>\n",
       "      <th colspan=\"2\" halign=\"left\">conversion</th>\n",
       "    </tr>\n",
       "    <tr>\n",
       "      <th></th>\n",
       "      <th>mean</th>\n",
       "      <th>mean</th>\n",
       "      <th>count</th>\n",
       "    </tr>\n",
       "    <tr>\n",
       "      <th>treatment</th>\n",
       "      <th></th>\n",
       "      <th></th>\n",
       "      <th></th>\n",
       "    </tr>\n",
       "  </thead>\n",
       "  <tbody>\n",
       "    <tr>\n",
       "      <td>0</td>\n",
       "      <td>0.652789</td>\n",
       "      <td>0.005726</td>\n",
       "      <td>21306</td>\n",
       "    </tr>\n",
       "    <tr>\n",
       "      <td>1</td>\n",
       "      <td>1.422617</td>\n",
       "      <td>0.012531</td>\n",
       "      <td>21307</td>\n",
       "    </tr>\n",
       "  </tbody>\n",
       "</table>\n",
       "</div>"
      ],
      "text/plain": [
       "              spend conversion       \n",
       "               mean       mean  count\n",
       "treatment                            \n",
       "0          0.652789   0.005726  21306\n",
       "1          1.422617   0.012531  21307"
      ]
     },
     "execution_count": 27,
     "metadata": {},
     "output_type": "execute_result"
    }
   ],
   "source": [
    "male_df.groupby('treatment').agg({'spend': 'mean', 'conversion': ['mean', 'count']})"
   ]
  },
  {
   "cell_type": "markdown",
   "metadata": {},
   "source": [
    "box plotで確認してみる"
   ]
  },
  {
   "cell_type": "code",
   "execution_count": 28,
   "metadata": {},
   "outputs": [
    {
     "data": {
      "image/png": "[encoded data removed]",
      "text/plain": [
       "<Figure size 432x288 with 1 Axes>"
      ]
     },
     "metadata": {
      "needs_background": "light"
     },
     "output_type": "display_data"
    }
   ],
   "source": [
    "fig, ax = plt.subplots()\n",
    "box_data = [male_df[male_df['treatment'] >= .5].loc[:, 'spend'], male_df[male_df['treatment'] < .5].loc[:, 'spend']]\n",
    "ax.boxplot(box_data, labels=['mail', 'no-mail'])\n",
    "ax.set_xlabel('treatment')\n",
    "ax.set_ylabel('spend')\n",
    "plt.show()"
   ]
  },
  {
   "cell_type": "markdown",
   "metadata": {},
   "source": [
    "spend positiveにconditionした場合のbox plot(いわゆるAOVの可視化)"
   ]
  },
  {
   "cell_type": "code",
   "execution_count": 29,
   "metadata": {},
   "outputs": [
    {
     "data": {
      "image/png": "[encoded data removed]",
      "text/plain": [
       "<Figure size 432x288 with 1 Axes>"
      ]
     },
     "metadata": {
      "needs_background": "light"
     },
     "output_type": "display_data"
    }
   ],
   "source": [
    "fig, ax = plt.subplots()\n",
    "box_data = [male_df[(male_df['treatment'] >= .5) & (male_df['spend'] > 0)].loc[:, 'spend'], male_df[(male_df['treatment'] < .5) & (male_df['spend'] > 0)].loc[:, 'spend']]\n",
    "ax.boxplot(box_data, labels=['mail', 'no-mail'])\n",
    "ax.set_xlabel('treatment')\n",
    "ax.set_ylabel('spend conditional on positive')\n",
    "plt.show()"
   ]
  },
  {
   "cell_type": "markdown",
   "metadata": {},
   "source": [
    "### (6) t検定を行う\n",
    "(a) 男性向けメールが配信されたグループの購買データを得る。"
   ]
  },
  {
   "cell_type": "code",
   "execution_count": 30,
   "metadata": {},
   "outputs": [
    {
     "data": {
      "text/plain": [
       "count    21307.000000\n",
       "mean         1.422617\n",
       "std         17.754205\n",
       "min          0.000000\n",
       "25%          0.000000\n",
       "50%          0.000000\n",
       "75%          0.000000\n",
       "max        499.000000\n",
       "Name: spend, dtype: float64"
      ]
     },
     "execution_count": 30,
     "metadata": {},
     "output_type": "execute_result"
    },
    {
     "data": {
      "image/png": "[encoded data removed]",
      "text/plain": [
       "<Figure size 432x288 with 1 Axes>"
      ]
     },
     "metadata": {
      "needs_background": "light"
     },
     "output_type": "display_data"
    }
   ],
   "source": [
    "mens_mail = male_df.loc[male_df['treatment'] == 1, 'spend']\n",
    "mens_mail.hist(bins =100)\n",
    "mens_mail.describe()"
   ]
  },
  {
   "cell_type": "markdown",
   "metadata": {},
   "source": [
    "(b) メールが配信されなかったグループの購買データを得る。"
   ]
  },
  {
   "cell_type": "code",
   "execution_count": 31,
   "metadata": {},
   "outputs": [
    {
     "data": {
      "text/plain": [
       "count    21306.000000\n",
       "mean         0.652789\n",
       "std         11.588200\n",
       "min          0.000000\n",
       "25%          0.000000\n",
       "50%          0.000000\n",
       "75%          0.000000\n",
       "max        499.000000\n",
       "Name: spend, dtype: float64"
      ]
     },
     "execution_count": 31,
     "metadata": {},
     "output_type": "execute_result"
    },
    {
     "data": {
      "image/png": "[encoded data removed]",
      "text/plain": [
       "<Figure size 432x288 with 1 Axes>"
      ]
     },
     "metadata": {
      "needs_background": "light"
     },
     "output_type": "display_data"
    }
   ],
   "source": [
    "no_mail = male_df.loc[male_df['treatment'] == 0, 'spend']\n",
    "no_mail.hist(bins=100)\n",
    "no_mail.describe()"
   ]
  },
  {
   "cell_type": "markdown",
   "metadata": {},
   "source": [
    "上の (a), (b) の平均の差に対して有意差検定を実行。"
   ]
  },
  {
   "cell_type": "code",
   "execution_count": 32,
   "metadata": {},
   "outputs": [
    {
     "data": {
      "text/html": [
       "<table class=\"simpletable\">\n",
       "<caption>Test for equality of means</caption>\n",
       "<tr>\n",
       "      <td></td>         <th>coef</th>     <th>std err</th>      <th>t</th>      <th>P>|t|</th>  <th>[0.025</th>    <th>0.975]</th>  \n",
       "</tr>\n",
       "<tr>\n",
       "  <th>subset #1</th> <td>    0.7698</td> <td>    0.145</td> <td>    5.300</td> <td> 0.000</td> <td>    0.485</td> <td>    1.055</td>\n",
       "</tr>\n",
       "</table>"
      ],
      "text/plain": [
       "<class 'statsmodels.iolib.table.SimpleTable'>"
      ]
     },
     "execution_count": 32,
     "metadata": {},
     "output_type": "execute_result"
    }
   ],
   "source": [
    "from statsmodels.stats.weightstats import DescrStatsW, CompareMeans\n",
    "\n",
    "\n",
    "rct_ttest = CompareMeans(DescrStatsW(mens_mail), DescrStatsW(no_mail))\n",
    "rct_ttest.ttest_ind()  # defaults two-sided, pooled\n",
    "rct_ttest.summary()"
   ]
  },
  {
   "cell_type": "markdown",
   "metadata": {},
   "source": [
    "### conversionでrobustness check"
   ]
  },
  {
   "cell_type": "code",
   "execution_count": 33,
   "metadata": {},
   "outputs": [
    {
     "data": {
      "text/plain": [
       "count    21307.000000\n",
       "mean         0.012531\n",
       "std          0.111241\n",
       "min          0.000000\n",
       "25%          0.000000\n",
       "50%          0.000000\n",
       "75%          0.000000\n",
       "max          1.000000\n",
       "Name: conversion, dtype: float64"
      ]
     },
     "execution_count": 33,
     "metadata": {},
     "output_type": "execute_result"
    },
    {
     "data": {
      "image/png": "[encoded data removed]",
      "text/plain": [
       "<Figure size 432x288 with 1 Axes>"
      ]
     },
     "metadata": {
      "needs_background": "light"
     },
     "output_type": "display_data"
    }
   ],
   "source": [
    "mens_mail_cv = male_df.loc[male_df['treatment'] == 1, 'conversion']\n",
    "mens_mail_cv.hist(bins =2)\n",
    "mens_mail_cv.describe()"
   ]
  },
  {
   "cell_type": "code",
   "execution_count": 34,
   "metadata": {},
   "outputs": [
    {
     "data": {
      "text/plain": [
       "count    21306.000000\n",
       "mean         0.005726\n",
       "std          0.075456\n",
       "min          0.000000\n",
       "25%          0.000000\n",
       "50%          0.000000\n",
       "75%          0.000000\n",
       "max          1.000000\n",
       "Name: conversion, dtype: float64"
      ]
     },
     "execution_count": 34,
     "metadata": {},
     "output_type": "execute_result"
    },
    {
     "data": {
      "image/png": "[encoded data removed]",
      "text/plain": [
       "<Figure size 432x288 with 1 Axes>"
      ]
     },
     "metadata": {
      "needs_background": "light"
     },
     "output_type": "display_data"
    }
   ],
   "source": [
    "no_mail_cv = male_df.loc[male_df['treatment'] == 0, 'conversion']\n",
    "no_mail_cv.hist(bins =2)\n",
    "no_mail_cv.describe()"
   ]
  },
  {
   "cell_type": "code",
   "execution_count": 35,
   "metadata": {},
   "outputs": [
    {
     "data": {
      "text/html": [
       "<table class=\"simpletable\">\n",
       "<caption>Test for equality of means</caption>\n",
       "<tr>\n",
       "      <td></td>         <th>coef</th>     <th>std err</th>      <th>t</th>      <th>P>|t|</th>  <th>[0.025</th>    <th>0.975]</th>  \n",
       "</tr>\n",
       "<tr>\n",
       "  <th>subset #1</th> <td>    0.0068</td> <td>    0.001</td> <td>    7.390</td> <td> 0.000</td> <td>    0.005</td> <td>    0.009</td>\n",
       "</tr>\n",
       "</table>"
      ],
      "text/plain": [
       "<class 'statsmodels.iolib.table.SimpleTable'>"
      ]
     },
     "execution_count": 35,
     "metadata": {},
     "output_type": "execute_result"
    }
   ],
   "source": [
    "from statsmodels.stats.weightstats import DescrStatsW, CompareMeans\n",
    "\n",
    "\n",
    "rct_ttest_cv = CompareMeans(DescrStatsW(mens_mail_cv), DescrStatsW(no_mail_cv))\n",
    "rct_ttest_cv.ttest_ind()  # defaults two-sided, pooled\n",
    "rct_ttest_cv.summary()"
   ]
  },
  {
   "cell_type": "markdown",
   "metadata": {},
   "source": [
    "## 1.4.3 バイアスのあるデータによる効果の検証"
   ]
  },
  {
   "cell_type": "markdown",
   "metadata": {},
   "source": [
    "セレクションバイアスのあるデータの作成"
   ]
  },
  {
   "cell_type": "code",
   "execution_count": 36,
   "metadata": {},
   "outputs": [
    {
     "name": "stdout",
     "output_type": "stream",
     "text": [
      "<class 'pandas.core.frame.DataFrame'>\n",
      "Int64Index: 21306 entries, 24106 to 56013\n",
      "Data columns (total 13 columns):\n",
      "recency            21306 non-null int64\n",
      "history_segment    21306 non-null object\n",
      "history            21306 non-null float64\n",
      "mens               21306 non-null int64\n",
      "womens             21306 non-null int64\n",
      "zip_code           21306 non-null object\n",
      "newbie             21306 non-null int64\n",
      "channel            21306 non-null object\n",
      "segment            21306 non-null object\n",
      "visit              21306 non-null int64\n",
      "conversion         21306 non-null int64\n",
      "spend              21306 non-null float64\n",
      "treatment          21306 non-null int64\n",
      "dtypes: float64(2), int64(7), object(4)\n",
      "memory usage: 2.3+ MB\n"
     ]
    },
    {
     "data": {
      "text/html": [
       "<div>\n",
       "<style scoped>\n",
       "    .dataframe tbody tr th:only-of-type {\n",
       "        vertical-align: middle;\n",
       "    }\n",
       "\n",
       "    .dataframe tbody tr th {\n",
       "        vertical-align: top;\n",
       "    }\n",
       "\n",
       "    .dataframe thead th {\n",
       "        text-align: right;\n",
       "    }\n",
       "</style>\n",
       "<table border=\"1\" class=\"dataframe\">\n",
       "  <thead>\n",
       "    <tr style=\"text-align: right;\">\n",
       "      <th></th>\n",
       "      <th>recency</th>\n",
       "      <th>history</th>\n",
       "      <th>mens</th>\n",
       "      <th>womens</th>\n",
       "      <th>newbie</th>\n",
       "      <th>visit</th>\n",
       "      <th>conversion</th>\n",
       "      <th>spend</th>\n",
       "      <th>treatment</th>\n",
       "    </tr>\n",
       "  </thead>\n",
       "  <tbody>\n",
       "    <tr>\n",
       "      <td>count</td>\n",
       "      <td>21306.000000</td>\n",
       "      <td>21306.000000</td>\n",
       "      <td>21306.000000</td>\n",
       "      <td>21306.000000</td>\n",
       "      <td>21306.000000</td>\n",
       "      <td>21306.000000</td>\n",
       "      <td>21306.000000</td>\n",
       "      <td>21306.000000</td>\n",
       "      <td>21306.000000</td>\n",
       "    </tr>\n",
       "    <tr>\n",
       "      <td>mean</td>\n",
       "      <td>5.783958</td>\n",
       "      <td>241.820497</td>\n",
       "      <td>0.550690</td>\n",
       "      <td>0.549188</td>\n",
       "      <td>0.502347</td>\n",
       "      <td>0.145593</td>\n",
       "      <td>0.009152</td>\n",
       "      <td>1.098233</td>\n",
       "      <td>0.483291</td>\n",
       "    </tr>\n",
       "    <tr>\n",
       "      <td>std</td>\n",
       "      <td>3.518513</td>\n",
       "      <td>258.443012</td>\n",
       "      <td>0.497436</td>\n",
       "      <td>0.497586</td>\n",
       "      <td>0.500006</td>\n",
       "      <td>0.352706</td>\n",
       "      <td>0.095231</td>\n",
       "      <td>15.986469</td>\n",
       "      <td>0.499732</td>\n",
       "    </tr>\n",
       "    <tr>\n",
       "      <td>min</td>\n",
       "      <td>1.000000</td>\n",
       "      <td>29.990000</td>\n",
       "      <td>0.000000</td>\n",
       "      <td>0.000000</td>\n",
       "      <td>0.000000</td>\n",
       "      <td>0.000000</td>\n",
       "      <td>0.000000</td>\n",
       "      <td>0.000000</td>\n",
       "      <td>0.000000</td>\n",
       "    </tr>\n",
       "    <tr>\n",
       "      <td>25%</td>\n",
       "      <td>2.000000</td>\n",
       "      <td>64.010000</td>\n",
       "      <td>0.000000</td>\n",
       "      <td>0.000000</td>\n",
       "      <td>0.000000</td>\n",
       "      <td>0.000000</td>\n",
       "      <td>0.000000</td>\n",
       "      <td>0.000000</td>\n",
       "      <td>0.000000</td>\n",
       "    </tr>\n",
       "    <tr>\n",
       "      <td>50%</td>\n",
       "      <td>6.000000</td>\n",
       "      <td>156.125000</td>\n",
       "      <td>1.000000</td>\n",
       "      <td>1.000000</td>\n",
       "      <td>1.000000</td>\n",
       "      <td>0.000000</td>\n",
       "      <td>0.000000</td>\n",
       "      <td>0.000000</td>\n",
       "      <td>0.000000</td>\n",
       "    </tr>\n",
       "    <tr>\n",
       "      <td>75%</td>\n",
       "      <td>9.000000</td>\n",
       "      <td>324.927500</td>\n",
       "      <td>1.000000</td>\n",
       "      <td>1.000000</td>\n",
       "      <td>1.000000</td>\n",
       "      <td>0.000000</td>\n",
       "      <td>0.000000</td>\n",
       "      <td>0.000000</td>\n",
       "      <td>1.000000</td>\n",
       "    </tr>\n",
       "    <tr>\n",
       "      <td>max</td>\n",
       "      <td>12.000000</td>\n",
       "      <td>3215.970000</td>\n",
       "      <td>1.000000</td>\n",
       "      <td>1.000000</td>\n",
       "      <td>1.000000</td>\n",
       "      <td>1.000000</td>\n",
       "      <td>1.000000</td>\n",
       "      <td>499.000000</td>\n",
       "      <td>1.000000</td>\n",
       "    </tr>\n",
       "  </tbody>\n",
       "</table>\n",
       "</div>"
      ],
      "text/plain": [
       "            recency       history          mens        womens        newbie  \\\n",
       "count  21306.000000  21306.000000  21306.000000  21306.000000  21306.000000   \n",
       "mean       5.783958    241.820497      0.550690      0.549188      0.502347   \n",
       "std        3.518513    258.443012      0.497436      0.497586      0.500006   \n",
       "min        1.000000     29.990000      0.000000      0.000000      0.000000   \n",
       "25%        2.000000     64.010000      0.000000      0.000000      0.000000   \n",
       "50%        6.000000    156.125000      1.000000      1.000000      1.000000   \n",
       "75%        9.000000    324.927500      1.000000      1.000000      1.000000   \n",
       "max       12.000000   3215.970000      1.000000      1.000000      1.000000   \n",
       "\n",
       "              visit    conversion         spend     treatment  \n",
       "count  21306.000000  21306.000000  21306.000000  21306.000000  \n",
       "mean       0.145593      0.009152      1.098233      0.483291  \n",
       "std        0.352706      0.095231     15.986469      0.499732  \n",
       "min        0.000000      0.000000      0.000000      0.000000  \n",
       "25%        0.000000      0.000000      0.000000      0.000000  \n",
       "50%        0.000000      0.000000      0.000000      0.000000  \n",
       "75%        0.000000      0.000000      0.000000      1.000000  \n",
       "max        1.000000      1.000000    499.000000      1.000000  "
      ]
     },
     "execution_count": 36,
     "metadata": {},
     "output_type": "execute_result"
    }
   ],
   "source": [
    "def bias(s):\n",
    "  loyal = s['history'] > 300 or s['recency'] < 3 or s['channel'] == 'Multichannel'\n",
    "  if (s['treatment'] == 1 and not loyal) or (s['treatment'] == 0 and loyal):\n",
    "    return 0.5\n",
    "  else:\n",
    "    return 1.0\n",
    "\n",
    "biased_data = male_df.sample(frac=0.5, weights=male_df.apply(bias, axis=1), random_state=42)\n",
    "biased_data.info()\n",
    "biased_data.describe()"
   ]
  },
  {
   "cell_type": "markdown",
   "metadata": {},
   "source": [
    "(8) セレクションバイアスのあるデータで平均を比較"
   ]
  },
  {
   "cell_type": "code",
   "execution_count": 37,
   "metadata": {},
   "outputs": [
    {
     "data": {
      "text/html": [
       "<div>\n",
       "<style scoped>\n",
       "    .dataframe tbody tr th:only-of-type {\n",
       "        vertical-align: middle;\n",
       "    }\n",
       "\n",
       "    .dataframe tbody tr th {\n",
       "        vertical-align: top;\n",
       "    }\n",
       "\n",
       "    .dataframe thead tr th {\n",
       "        text-align: left;\n",
       "    }\n",
       "\n",
       "    .dataframe thead tr:last-of-type th {\n",
       "        text-align: right;\n",
       "    }\n",
       "</style>\n",
       "<table border=\"1\" class=\"dataframe\">\n",
       "  <thead>\n",
       "    <tr>\n",
       "      <th></th>\n",
       "      <th>spend</th>\n",
       "      <th colspan=\"2\" halign=\"left\">conversion</th>\n",
       "    </tr>\n",
       "    <tr>\n",
       "      <th></th>\n",
       "      <th>mean</th>\n",
       "      <th>mean</th>\n",
       "      <th>count</th>\n",
       "    </tr>\n",
       "    <tr>\n",
       "      <th>treatment</th>\n",
       "      <th></th>\n",
       "      <th></th>\n",
       "      <th></th>\n",
       "    </tr>\n",
       "  </thead>\n",
       "  <tbody>\n",
       "    <tr>\n",
       "      <td>0</td>\n",
       "      <td>0.660392</td>\n",
       "      <td>0.005632</td>\n",
       "      <td>11009</td>\n",
       "    </tr>\n",
       "    <tr>\n",
       "      <td>1</td>\n",
       "      <td>1.566349</td>\n",
       "      <td>0.012916</td>\n",
       "      <td>10297</td>\n",
       "    </tr>\n",
       "  </tbody>\n",
       "</table>\n",
       "</div>"
      ],
      "text/plain": [
       "              spend conversion       \n",
       "               mean       mean  count\n",
       "treatment                            \n",
       "0          0.660392   0.005632  11009\n",
       "1          1.566349   0.012916  10297"
      ]
     },
     "execution_count": 37,
     "metadata": {},
     "output_type": "execute_result"
    }
   ],
   "source": [
    "biased_data.groupby('treatment').agg({'spend': 'mean', 'conversion': ['mean', 'count']})"
   ]
  },
  {
   "cell_type": "markdown",
   "metadata": {},
   "source": [
    "(9) Statsmodels のクラスである CompareMeans を使って t検定を行う(Biased)\n",
    "\n",
    "(a) 男性向けメールが配信されたグループの購買データを得る。"
   ]
  },
  {
   "cell_type": "code",
   "execution_count": 38,
   "metadata": {},
   "outputs": [
    {
     "data": {
      "text/plain": [
       "count    10297.000000\n",
       "mean         1.566349\n",
       "std         19.529629\n",
       "min          0.000000\n",
       "25%          0.000000\n",
       "50%          0.000000\n",
       "75%          0.000000\n",
       "max        499.000000\n",
       "Name: spend, dtype: float64"
      ]
     },
     "execution_count": 38,
     "metadata": {},
     "output_type": "execute_result"
    },
    {
     "data": {
      "image/png": "[encoded data removed]",
      "text/plain": [
       "<Figure size 432x288 with 1 Axes>"
      ]
     },
     "metadata": {
      "needs_background": "light"
     },
     "output_type": "display_data"
    }
   ],
   "source": [
    "mens_mail_biased = biased_data.loc[biased_data['treatment'] == 1, 'spend']\n",
    "mens_mail_biased.hist(bins=100)\n",
    "mens_mail_biased.describe()"
   ]
  },
  {
   "cell_type": "markdown",
   "metadata": {},
   "source": [
    "(b) メールが配信されなかったグループの購買データを得る"
   ]
  },
  {
   "cell_type": "code",
   "execution_count": 39,
   "metadata": {},
   "outputs": [
    {
     "data": {
      "text/plain": [
       "count    11009.000000\n",
       "mean         0.660392\n",
       "std         11.725775\n",
       "min          0.000000\n",
       "25%          0.000000\n",
       "50%          0.000000\n",
       "75%          0.000000\n",
       "max        499.000000\n",
       "Name: spend, dtype: float64"
      ]
     },
     "execution_count": 39,
     "metadata": {},
     "output_type": "execute_result"
    },
    {
     "data": {
      "image/png": "[encoded data removed]",
      "text/plain": [
       "<Figure size 432x288 with 1 Axes>"
      ]
     },
     "metadata": {
      "needs_background": "light"
     },
     "output_type": "display_data"
    }
   ],
   "source": [
    "no_mail_biased = biased_data.loc[biased_data['treatment'] == 0, 'spend']\n",
    "no_mail_biased.hist(bins=100)\n",
    "no_mail_biased.describe()"
   ]
  },
  {
   "cell_type": "markdown",
   "metadata": {},
   "source": [
    "(a)(b)の平均の差に対して有意差検定を実行"
   ]
  },
  {
   "cell_type": "code",
   "execution_count": 40,
   "metadata": {},
   "outputs": [
    {
     "data": {
      "text/html": [
       "<table class=\"simpletable\">\n",
       "<caption>Test for equality of means</caption>\n",
       "<tr>\n",
       "      <td></td>         <th>coef</th>     <th>std err</th>      <th>t</th>      <th>P>|t|</th>  <th>[0.025</th>    <th>0.975]</th>  \n",
       "</tr>\n",
       "<tr>\n",
       "  <th>subset #1</th> <td>    0.9060</td> <td>    0.219</td> <td>    4.135</td> <td> 0.000</td> <td>    0.477</td> <td>    1.335</td>\n",
       "</tr>\n",
       "</table>"
      ],
      "text/plain": [
       "<class 'statsmodels.iolib.table.SimpleTable'>"
      ]
     },
     "execution_count": 40,
     "metadata": {},
     "output_type": "execute_result"
    }
   ],
   "source": [
    "rct_ttest_biased = CompareMeans(DescrStatsW(mens_mail_biased), DescrStatsW(no_mail_biased))\n",
    "rct_ttest_biased.ttest_ind()  # defaults two-sided, pooled\n",
    "rct_ttest_biased.summary()"
   ]
  },
  {
   "cell_type": "markdown",
   "metadata": {},
   "source": [
    "## 客単価とquantileの評価"
   ]
  },
  {
   "cell_type": "markdown",
   "metadata": {},
   "source": [
    "客単価どうなっているか念のために見てみる"
   ]
  },
  {
   "cell_type": "code",
   "execution_count": 41,
   "metadata": {},
   "outputs": [
    {
     "data": {
      "text/html": [
       "<div>\n",
       "<style scoped>\n",
       "    .dataframe tbody tr th:only-of-type {\n",
       "        vertical-align: middle;\n",
       "    }\n",
       "\n",
       "    .dataframe tbody tr th {\n",
       "        vertical-align: top;\n",
       "    }\n",
       "\n",
       "    .dataframe thead tr th {\n",
       "        text-align: left;\n",
       "    }\n",
       "\n",
       "    .dataframe thead tr:last-of-type th {\n",
       "        text-align: right;\n",
       "    }\n",
       "</style>\n",
       "<table border=\"1\" class=\"dataframe\">\n",
       "  <thead>\n",
       "    <tr>\n",
       "      <th></th>\n",
       "      <th colspan=\"8\" halign=\"left\">spend</th>\n",
       "    </tr>\n",
       "    <tr>\n",
       "      <th></th>\n",
       "      <th>count</th>\n",
       "      <th>mean</th>\n",
       "      <th>std</th>\n",
       "      <th>min</th>\n",
       "      <th>25%</th>\n",
       "      <th>50%</th>\n",
       "      <th>75%</th>\n",
       "      <th>max</th>\n",
       "    </tr>\n",
       "    <tr>\n",
       "      <th>treatment</th>\n",
       "      <th></th>\n",
       "      <th></th>\n",
       "      <th></th>\n",
       "      <th></th>\n",
       "      <th></th>\n",
       "      <th></th>\n",
       "      <th></th>\n",
       "      <th></th>\n",
       "    </tr>\n",
       "  </thead>\n",
       "  <tbody>\n",
       "    <tr>\n",
       "      <td>0</td>\n",
       "      <td>122.0</td>\n",
       "      <td>114.002705</td>\n",
       "      <td>103.031052</td>\n",
       "      <td>29.99</td>\n",
       "      <td>35.04</td>\n",
       "      <td>88.365</td>\n",
       "      <td>146.17</td>\n",
       "      <td>499.0</td>\n",
       "    </tr>\n",
       "    <tr>\n",
       "      <td>1</td>\n",
       "      <td>267.0</td>\n",
       "      <td>113.526929</td>\n",
       "      <td>111.682812</td>\n",
       "      <td>29.99</td>\n",
       "      <td>29.99</td>\n",
       "      <td>66.980</td>\n",
       "      <td>152.72</td>\n",
       "      <td>499.0</td>\n",
       "    </tr>\n",
       "  </tbody>\n",
       "</table>\n",
       "</div>"
      ],
      "text/plain": [
       "           spend                                                             \n",
       "           count        mean         std    min    25%     50%     75%    max\n",
       "treatment                                                                    \n",
       "0          122.0  114.002705  103.031052  29.99  35.04  88.365  146.17  499.0\n",
       "1          267.0  113.526929  111.682812  29.99  29.99  66.980  152.72  499.0"
      ]
     },
     "execution_count": 41,
     "metadata": {},
     "output_type": "execute_result"
    },
    {
     "data": {
      "image/png": "[encoded data removed]",
      "text/plain": [
       "<Figure size 432x288 with 1 Axes>"
      ]
     },
     "metadata": {
      "needs_background": "light"
     },
     "output_type": "display_data"
    }
   ],
   "source": [
    "t0_spend = male_df.loc[(male_df['treatment'] == 0) & (male_df['spend'] > 0), 'spend']\n",
    "t1_spend = male_df.loc[(male_df['treatment'] == 1) & (male_df['spend'] > 0), 'spend']\n",
    "t0_spend.hist(bins=100, density = True\n",
    "              , alpha = 0.5, label = 'no-mail')\n",
    "t1_spend.hist(bins=100, density = True\n",
    "              , alpha = 0.5, label = 'treated')\n",
    "plt.legend()\n",
    "\n",
    "\n",
    "spend_data = male_df[male_df['spend']>0].loc[:,['treatment',\n",
    "                                                'spend']]\n",
    "grouped = spend_data.groupby(spend_data['treatment'].astype(str))\n",
    "grouped.describe().loc[:, ['spend']]"
   ]
  },
  {
   "cell_type": "markdown",
   "metadata": {},
   "source": [
    "## Appendix: Two-part model"
   ]
  },
  {
   "cell_type": "markdown",
   "metadata": {},
   "source": [
    "spendはnon-negative randome variableなのでtwo-part modelでも確かめてみます。デメリットとして、latent outcomeを解釈するという、一捻りしなければなんとも実務に繋がらなそうなものになってしまうという批判は承知です。\n",
    "\n",
    "- [参考](https://data.library.virginia.edu/getting-started-with-hurdle-models/)\n",
    "\n",
    "Two-part modelはTruncated Regressionの一種。"
   ]
  },
  {
   "cell_type": "markdown",
   "metadata": {},
   "source": [
    "### Two-part modelの背景\n",
    "$Y_i$をspendとした時、\n",
    "\n",
    "$$\n",
    "\\begin{align}\n",
    "E&[Y_i|D_i = 1] - E[Y_i|D_i = 0] \\\\\n",
    " & = E[Y_i|Y_i>0, D_i = 1]Pr(Y_i > 0 |D_i = 1) \\\\\n",
    "& - E[Y_i|Y_i>0, D_i = 0]Pr(Y_i > 0 |D_i = 0) \\\\\n",
    " & =  \\{Pr(Y_i > 0 |D_i = 1) - Pr(Y_i > 0 |D_i = 0)\\}E[Y_i|Y_i>0, D_i = 1]\\\\\n",
    "& + \\{E[Y_i|Y_i>0, D_i = 1] - E[Y_i|Y_i>0, D_i = 0]\\}Pr(Y_i > 0 |D_i = 0)\n",
    "\\end{align}\n",
    "$$"
   ]
  },
  {
   "cell_type": "markdown",
   "metadata": {},
   "source": [
    "よってParticipation effecとCOP effectに分解される\n",
    "\n",
    "COP effectはさらに\n",
    "$$\n",
    "\\begin{align}\n",
    "E[Y_i|Y_i>0, D_i = 1] - E[Y_i|Y_i>0, D_i = 0] & = E[Y_{1i}|Y_{1i}>0] - E[Y_{0i}|Y_{0i}>0]\\\\\n",
    "& = E[Y_{1i} - Y_{0i}|Y_{1i}>0] + E[Y_{0i}|Y_{1i}>0] - E[Y_{0i}|Y_{0i}>0]\n",
    "\\end{align}\n",
    "$$\n",
    "のようにcausal effectとselection biasに分解される"
   ]
  },
  {
   "cell_type": "markdown",
   "metadata": {},
   "source": [
    "$$\n",
    "E[Y_{0i}|Y_{1i}>0] - E[Y_{0i}|Y_{0i}>0]\n",
    "$$\n",
    "はnegativeだと推察される（treatmentされなくても買う人は、されて買う人よりももともとロイヤルカスタマーの傾向があるなど）。"
   ]
  },
  {
   "cell_type": "markdown",
   "metadata": {},
   "source": [
    "#### Poisson modelで実装する"
   ]
  },
  {
   "cell_type": "markdown",
   "metadata": {},
   "source": [
    "probit modelで実装してみる\n",
    "\n",
    "model\n",
    "$$\n",
    "Y_i = 1[Y_i^* > 0]Y^*_i\n",
    "$$\n",
    "where\n",
    "- $Y_i$: observed outcome\n",
    "- $Y_i^*$: normally distributed latent variable\n",
    "\n",
    "\n",
    "推定したいパラメーターは$(\\beta, \\sigma)$。推定モデルは\n",
    "\n",
    "$$\n",
    "\\begin{align}\n",
    "E[Y_i|D_i]= & \\Phi\\left[\\frac{\\beta_0 + \\beta_1 D_i}{\\sigma}\\right][\\beta_0 + \\beta_1 D_i]\\\\\n",
    "& + \\sigma\\phi\\left[\\frac{\\beta_0 + \\beta_1 D_i}{\\sigma}\\right]\n",
    "\\end{align}\n",
    "$$\n",
    "\n",
    "Then,\n",
    "\n",
    "$$\n",
    "L(\\beta, \\sigma|y, X) = \\Pi_{i = 1}^N\\left[\\frac{1}{\\sigma}\\phi\\left(\\frac{y_i - x_i'\\beta}{\\sigma}\\right)\\right]^{Z_i}\\cdot\\Phi\\left(\\frac{y_i - x_i'\\beta}{\\sigma}\\right)^{(1 - Z_i)}\n",
    "$$\n"
   ]
  },
  {
   "cell_type": "code",
   "execution_count": 42,
   "metadata": {},
   "outputs": [],
   "source": [
    "def log_lik_hurdle(beta, y, X):\n",
    "    mu = X @ beta[:-1]/beta[-1]\n",
    "    indicator = [1 if i > 0.00 else 0 for i in y]\n",
    "    ones = np.array([1]*len(y))\n",
    "    sigma = 1/beta[-1] if 1/beta[-1] > 0 else np.nan\n",
    "    \n",
    "    return - np.sum(indicator * (sigma * np.log(scipy.stats.norm.pdf(mu))) + (ones - indicator)*np.log(scipy.stats.norm.cdf(mu)))"
   ]
  },
  {
   "cell_type": "code",
   "execution_count": 43,
   "metadata": {},
   "outputs": [],
   "source": [
    "def estimation(y, X, initial_val, model):\n",
    "    #def cons(x):\n",
    "    #    return (x[-1] - 1)\n",
    "    #\n",
    "    #cons = (\n",
    "    #{'type': 'ineq', 'fun': cons}\n",
    "    #)\n",
    "    \n",
    "    opt_res = optimize.minimize(fun = model, \n",
    "                            x0 = initial_val, \n",
    "                            args = (y, X))\n",
    "                            #,constraints=cons, method=\"SLSQP\")\n",
    "    coefficients = opt_res.x\n",
    "    standard_error = np.sqrt(np.diag(opt_res.hess_inv))\n",
    "    return (coefficients, standard_error)"
   ]
  },
  {
   "cell_type": "code",
   "execution_count": 44,
   "metadata": {},
   "outputs": [
    {
     "data": {
      "text/plain": [
       "((64000,), (64000, 4))"
      ]
     },
     "execution_count": 44,
     "metadata": {},
     "output_type": "execute_result"
    }
   ],
   "source": [
    "### estimation\n",
    "y = df['spend'].values\n",
    "hurdle_df = df.loc[:, ['mens', 'treatment']].copy()\n",
    "hurdle_df['inter_mens_treatment'] = hurdle_df.loc[:, 'mens'] * hurdle_df.loc[:, 'treatment']\n",
    "hurdle_df['const'] = 1\n",
    "X = hurdle_df.values\n",
    "y.shape, X.shape"
   ]
  },
  {
   "cell_type": "code",
   "execution_count": 45,
   "metadata": {},
   "outputs": [
    {
     "data": {
      "text/plain": [
       "array([ 0.10325427,  0.2977976 ,  0.47088865,  0.80849734, 15.03307596])"
      ]
     },
     "execution_count": 45,
     "metadata": {},
     "output_type": "execute_result"
    }
   ],
   "source": [
    "### OLS\n",
    "model = sm.OLS(y,X)\n",
    "results = model.fit()\n",
    "coef_ols = results.params\n",
    "error = y - results.predict()\n",
    "var = np.std(error)\n",
    "coef_ols = np.append(coef_ols, var)\n",
    "coef_ols"
   ]
  },
  {
   "cell_type": "code",
   "execution_count": 46,
   "metadata": {},
   "outputs": [
    {
     "data": {
      "text/plain": [
       "(array([ -232.66664453,   316.68051505,   598.49666173, 29299.64209616,\n",
       "         9830.18439002]),\n",
       " array([  229.85807186,   313.09987929,   591.42853247, 28938.36610039,\n",
       "         9708.07594295]))"
      ]
     },
     "execution_count": 46,
     "metadata": {},
     "output_type": "execute_result"
    }
   ],
   "source": [
    "estimation(y = y, X = X, initial_val = list(coef_ols), model = log_lik_hurdle)"
   ]
  },
  {
   "cell_type": "markdown",
   "metadata": {},
   "source": [
    "うまく推定できない。。。これは今後の課題にする"
   ]
  },
  {
   "cell_type": "code",
   "execution_count": null,
   "metadata": {},
   "outputs": [],
   "source": []
  }
 ],
 "metadata": {
  "kernelspec": {
   "display_name": "Python 3",
   "language": "python",
   "name": "python3"
  },
  "language_info": {
   "codemirror_mode": {
    "name": "ipython",
    "version": 3
   },
   "file_extension": ".py",
   "mimetype": "text/x-python",
   "name": "python",
   "nbconvert_exporter": "python",
   "pygments_lexer": "ipython3",
   "version": "3.7.4"
  }
 },
 "nbformat": 4,
 "nbformat_minor": 4
}
