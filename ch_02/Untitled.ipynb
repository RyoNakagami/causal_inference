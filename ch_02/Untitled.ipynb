{
 "cells": [
  {
   "cell_type": "markdown",
   "metadata": {},
   "source": [
    "# OLSの基礎"
   ]
  },
  {
   "cell_type": "code",
   "execution_count": 1,
   "metadata": {},
   "outputs": [],
   "source": [
    "## create the clean environment\n",
    "import gc\n",
    "import matplotlib.pyplot as plt\n",
    "\n",
    "def clear_all():\n",
    "    # Clears all the variables from the workspace\n",
    "    gl = globals().copy()\n",
    "    for var in gl:\n",
    "        if var in clean_env_var: continue\n",
    "        del globals()[var]\n",
    "    # Garbage collection:\n",
    "    gc.collect()\n",
    "\n",
    "def close_plots():\n",
    "  my_plots = plt.get_fignums()\n",
    "  for j in my_plots:\n",
    "    plt.close(plt.figure(j))\n",
    "\n",
    "clean_env_var = dir()\n",
    "clean_env_var.append('clean_env_var')"
   ]
  },
  {
   "cell_type": "code",
   "execution_count": 2,
   "metadata": {},
   "outputs": [],
   "source": [
    "clear_all()"
   ]
  },
  {
   "cell_type": "markdown",
   "metadata": {},
   "source": [
    "## Install packages"
   ]
  },
  {
   "cell_type": "code",
   "execution_count": 5,
   "metadata": {},
   "outputs": [],
   "source": [
    "pass"
   ]
  },
  {
   "cell_type": "markdown",
   "metadata": {},
   "source": [
    "## Import"
   ]
  },
  {
   "cell_type": "code",
   "execution_count": 6,
   "metadata": {},
   "outputs": [],
   "source": [
    "import numpy as np\n",
    "import pandas as pd\n",
    "import scipy as sp\n",
    "import matplotlib.pyplot as plt"
   ]
  },
  {
   "cell_type": "code",
   "execution_count": 9,
   "metadata": {},
   "outputs": [],
   "source": [
    "np.random.seed(1)\n",
    "#\n",
    "beta_0 = 1\n",
    "beta_1 = 2\n",
    "N = 50\n",
    "#\n",
    "x = np.random.normal(loc = 0, scale = 5, size = N)\n",
    "eps = np.random.normal(loc = 0, scale = 1, size = len(x))\n",
    "y = beta_0 + beta_1 * x + eps\n",
    "#Conditional expectation of Y:\n",
    "y_hat = beta_0 + beta_1 * x"
   ]
  },
  {
   "cell_type": "code",
   "execution_count": 10,
   "metadata": {},
   "outputs": [
    {
     "data": {
      "text/html": [
       "<div>\n",
       "<style scoped>\n",
       "    .dataframe tbody tr th:only-of-type {\n",
       "        vertical-align: middle;\n",
       "    }\n",
       "\n",
       "    .dataframe tbody tr th {\n",
       "        vertical-align: top;\n",
       "    }\n",
       "\n",
       "    .dataframe thead th {\n",
       "        text-align: right;\n",
       "    }\n",
       "</style>\n",
       "<table border=\"1\" class=\"dataframe\">\n",
       "  <thead>\n",
       "    <tr style=\"text-align: right;\">\n",
       "      <th></th>\n",
       "      <th>y</th>\n",
       "      <th>y_hat</th>\n",
       "      <th>x</th>\n",
       "    </tr>\n",
       "  </thead>\n",
       "  <tbody>\n",
       "    <tr>\n",
       "      <td>0</td>\n",
       "      <td>17.543624</td>\n",
       "      <td>17.243454</td>\n",
       "      <td>8.121727</td>\n",
       "    </tr>\n",
       "    <tr>\n",
       "      <td>1</td>\n",
       "      <td>-5.469814</td>\n",
       "      <td>-5.117564</td>\n",
       "      <td>-3.058782</td>\n",
       "    </tr>\n",
       "    <tr>\n",
       "      <td>2</td>\n",
       "      <td>-5.424236</td>\n",
       "      <td>-4.281718</td>\n",
       "      <td>-2.640859</td>\n",
       "    </tr>\n",
       "    <tr>\n",
       "      <td>3</td>\n",
       "      <td>-10.079029</td>\n",
       "      <td>-9.729686</td>\n",
       "      <td>-5.364843</td>\n",
       "    </tr>\n",
       "    <tr>\n",
       "      <td>4</td>\n",
       "      <td>9.445182</td>\n",
       "      <td>9.654076</td>\n",
       "      <td>4.327038</td>\n",
       "    </tr>\n",
       "  </tbody>\n",
       "</table>\n",
       "</div>"
      ],
      "text/plain": [
       "           y      y_hat         x\n",
       "0  17.543624  17.243454  8.121727\n",
       "1  -5.469814  -5.117564 -3.058782\n",
       "2  -5.424236  -4.281718 -2.640859\n",
       "3 -10.079029  -9.729686 -5.364843\n",
       "4   9.445182   9.654076  4.327038"
      ]
     },
     "execution_count": 10,
     "metadata": {},
     "output_type": "execute_result"
    }
   ],
   "source": [
    "df = pd.DataFrame({'y': y, 'y_hat': y_hat, 'x':x})\n",
    "df.head()"
   ]
  },
  {
   "cell_type": "code",
   "execution_count": 15,
   "metadata": {},
   "outputs": [
    {
     "data": {
      "image/png": "[encoded data removed]",
      "text/plain": [
       "<Figure size 432x288 with 1 Axes>"
      ]
     },
     "metadata": {
      "needs_background": "light"
     },
     "output_type": "display_data"
    }
   ],
   "source": [
    "fig, ax = plt.subplots()\n",
    "ax.plot(x, y, linestyle = \"None\", marker = \"o\", markerfacecolor='none', label='sample data')\n",
    "ax.plot(x, y_ce, linestyle = \"-\", color = \"red\", label='$E(Y|X) = \\\\beta_0 + \\\\beta_1 X$');\n",
    "ax.legend(handles = legend_lines, loc = 'upper left');"
   ]
  },
  {
   "cell_type": "markdown",
   "metadata": {},
   "source": [
    "## Key assumptions in Regression Analysis\n",
    "\n",
    "線形回帰が正当化される条件は以下、\n",
    "\n",
    "### (UR.1)\n",
    "The Data Generating Process (DGP), or in other words, the population, is described by a linear (in terms of the coefficients) model:\n",
    "\n",
    "$$\n",
    "Y = \\beta_0 + \\beta_1 X + \\epsilon\n",
    "$$"
   ]
  },
  {
   "cell_type": "markdown",
   "metadata": {},
   "source": [
    "### (UR.2)\n",
    "\n",
    "The error term $\\epsilon$ has an expected value of zero, given any value of the explanatory variable:\n",
    "\n",
    "$$\n",
    "\\mathbb{E}(\\epsilon_i| X_j) = 0,\\ \\forall i,j = 1,...,N\n",
    "$$"
   ]
  },
  {
   "cell_type": "markdown",
   "metadata": {},
   "source": [
    "### (UR.3)\n",
    "\n",
    "The error term $\\epsilon$ has the same variance given any value of the explanatory variable (i.e. homoskedasticity):\n",
    "\n",
    "$$\n",
    "\\mathbb{V}{\\rm ar} (\\epsilon_i | \\mathbf{X} ) = \\sigma^2_\\epsilon,\\ \\forall i = 1,..,N\n",
    "$$\n",
    "\n",
    "heteroskedasticityでも線形回帰は正当化されるが、ここでは一般的な仮定に準っておく。"
   ]
  },
  {
   "cell_type": "markdown",
   "metadata": {},
   "source": [
    "### (UR.4)\n",
    "the error terms are not correlated across observations (i.e. no autocorrelation):\n",
    "\n",
    "$$\n",
    "\\mathbb{C}{\\rm ov} (\\epsilon_i, \\epsilon_j) = 0,\\ i \\neq j\n",
    "$$\n",
    "\n",
    "(UR.3), (UR.4)より\n",
    "\n",
    "$$\n",
    "\\mathbb{V}{\\rm ar}\\left( \\boldsymbol{\\varepsilon} | \\mathbf{X} \\right) =\n",
    "\\begin{bmatrix}\n",
    "\\mathbb{V}{\\rm ar} (\\epsilon_1) & \\mathbb{C}{\\rm ov} (\\epsilon_1, \\epsilon_2) & ... & \\mathbb{C}{\\rm ov} (\\epsilon_1, \\epsilon_N) \\\\\n",
    "\\mathbb{C}{\\rm ov} (\\epsilon_2, \\epsilon_1) & \\mathbb{V}{\\rm ar} (\\epsilon_2) & ... & \\mathbb{C}{\\rm ov} (\\epsilon_2, \\epsilon_N) \\\\\n",
    "\\vdots & \\vdots & \\ddots & \\vdots \\\\\n",
    "\\mathbb{C}{\\rm ov} (\\epsilon_N, \\epsilon_1) & \\mathbb{C}{\\rm ov} (\\epsilon_N, \\epsilon_2) & ... & \\mathbb{V}{\\rm ar} (\\epsilon_N)\n",
    "\\end{bmatrix} =\n",
    "\\sigma^2_\\epsilon  \\mathbf{I}\n",
    "$$"
   ]
  },
  {
   "cell_type": "markdown",
   "metadata": {},
   "source": [
    "### (UR.5)\n",
    "$$\n",
    "rank(X) = k, \\text{ where } X \\text{ is } n\\times k \\text{ matrix} \n",
    "$$\n",
    "\n",
    "\n",
    "### (UR.6) optional\n",
    "The residuals are normal:\n",
    "$$\n",
    "\\boldsymbol{\\varepsilon} | \\mathbf{X} \\sim \\mathcal{N} \\left( \\mathbf{0}, \\sigma^2_\\epsilon \\mathbf{I} \\right)\n",
    "$$"
   ]
  },
  {
   "cell_type": "markdown",
   "metadata": {},
   "source": [
    "## Derivation of the Ordinary Least Squares \n",
    "\n",
    "ここでは上の(UR.1), (UR.2), (UR.3), (UR.4)を満たしていると仮定する。\n",
    "\n",
    "$$\n",
    "\\begin{cases}\n",
    "\\mathbb{E}(\\epsilon) &= 0 \\\\\n",
    "\\mathbb{E}(X'\\epsilon) &= 0 \\\\\n",
    "\\epsilon &= Y - X\\beta\n",
    "\\end{cases}\n",
    "$$\n",
    "Then,\n",
    "\n",
    "$$\n",
    "\\begin{cases}\n",
    "\\mathbb{E}(Y - X\\beta) &= 0 \\\\\n",
    "\\mathbb{E}(X' (Y - X\\beta)) &= 0\n",
    "\\end{cases}\n",
    "$$\n",
    "Thus,\n",
    "\n",
    "$$\n",
    "\\beta = E[X'X]^{-1}E[X'Y]\n",
    "$$\n",
    "\n",
    "And, the sample analogue is\n",
    "\n",
    "$$\n",
    "\\hat\\beta = [X'X]^{-1}(X'Y)\n",
    "$$"
   ]
  },
  {
   "cell_type": "markdown",
   "metadata": {},
   "source": [
    "#### Bivariate modelの場合\n",
    "\n",
    "$$\n",
    "\\begin{equation}\n",
    "\\begin{cases}\n",
    "\\dfrac{1}{N} \\sum_{i = 1}^N \\left[Y_i - \\widehat{\\beta}_0 - \\widehat{\\beta}_1 X_i \\right] &= 0 \\\\\\\\\n",
    "\\dfrac{1}{N} \\sum_{i = 1}^N \\left[X_i \\left(Y_i - \\widehat{\\beta}_0 - \\widehat{\\beta}_1 X_i \\right) \\right] &= 0\n",
    "\\end{cases}\n",
    "\\end{equation}\n",
    "$$\n",
    "\n",
    "Then,\n",
    "\n",
    "$$\n",
    "\\begin{equation}\n",
    "\\widehat{\\beta}_0 = \\overline{Y} - \\widehat{\\beta}_1 \\overline{X}\n",
    "\\end{equation}\n",
    "$$\n",
    "\n",
    "which gives us\n",
    "\n",
    "$$\n",
    "\\sum_{i = 1}^N X_i\\left( Y_i - \\overline{Y} + \\widehat{\\beta}_1 \\overline{X}- \\widehat{\\beta}_1 X_i \\right) = 0 \\Longrightarrow \\sum_{i = 1}^N X_i\\left( Y_i - \\overline{Y} \\right) = \\widehat{\\beta}_1 \\sum_{i = 1}^N X_i\\left( X_i - \\overline{X} \\right)\n",
    "$$\n",
    "\n",
    "and\n",
    "\n",
    "$$\n",
    "\\widehat{\\beta}_1 = \\dfrac{\\sum_{i = 1}^N X_i\\left( Y_i - \\overline{Y} \\right)}{\\sum_{i = 1}^N X_i\\left( X_i - \\overline{X} \\right)}\n",
    "$$\n",
    "\n",
    "さらに\n",
    "\n",
    "$$\n",
    "\\begin{aligned}\n",
    "\\sum_{i = 1}^N X_i\\left( X_i - \\overline{X} \\right) &= \\sum_{i = 1}^N \\left( X_i - \\overline{X} \\right)^2 \\\\\n",
    "\\sum_{i = 1}^N X_i\\left( Y_i - \\overline{Y} \\right) &= \\sum_{i = 1}^N \\left( X_i - \\overline{X} \\right) \\left( Y_i - \\overline{Y} \\right)\n",
    "\\end{aligned}\n",
    "$$\n",
    "\n",
    "そして、以下のように理解することもできる\n",
    "\n",
    "$$\n",
    "\\begin{equation}\n",
    "\\widehat{\\beta}_1 = \\dfrac{\\sum_{i = 1}^N \\left( X_i - \\overline{X} \\right) \\left( Y_i - \\overline{Y} \\right)}{\\sum_{i = 1}^N \\left( X_i - \\overline{X} \\right)^2} = \\dfrac{\\widehat{\\mathbb{C}{\\rm ov}}(X, Y)}{\\widehat{\\mathbb{V}{\\rm ar}}(X)}\n",
    "\\end{equation}\n",
    "$$"
   ]
  },
  {
   "cell_type": "markdown",
   "metadata": {},
   "source": [
    "### System of Partial Derivatives Method\n",
    "$$\n",
    "RSS = \\epsilon'\\epsilon = (Y - X\\beta)'(Y - X\\beta)\n",
    "$$\n",
    "\n",
    "Then,\n",
    "\n",
    "$$\n",
    "\\begin{aligned}\n",
    "\\frac{\\partial RSS}{\\partial \\beta} =  - 2(X'Y) +  2(X'X)\\beta = 0\n",
    "\\end{aligned}\n",
    "$$\n",
    "\n",
    "Then,\n",
    "\n",
    "$$\n",
    "\\begin{cases}\n",
    "\\widehat{\\beta}_1 = \\dfrac{\\sum_{i = 1}^N \\left( X_i - \\overline{X} \\right) \\left( Y_i - \\overline{Y} \\right)}{\\sum_{i = 1}^N \\left( X_i - \\overline{X} \\right)^2} = \\dfrac{\\widehat{\\mathbb{C}{\\rm ov}}(X, Y)}{\\widehat{\\mathbb{V}{\\rm ar}}(X)} \\\\\\\\\n",
    "\\widehat{\\beta}_0 = \\overline{Y} - \\widehat{\\beta}_1 \\overline{X}\n",
    "\\end{cases}\n",
    "$$"
   ]
  },
  {
   "cell_type": "markdown",
   "metadata": {},
   "source": [
    "## PythonとOLS\n",
    "データの生成"
   ]
  },
  {
   "cell_type": "code",
   "execution_count": 16,
   "metadata": {},
   "outputs": [
    {
     "data": {
      "image/png": "[encoded data removed]",
      "text/plain": [
       "<Figure size 720x576 with 1 Axes>"
      ]
     },
     "metadata": {
      "needs_background": "light"
     },
     "output_type": "display_data"
    }
   ],
   "source": [
    "N = 50\n",
    "beta_0 = 1\n",
    "beta_1 = 0.5\n",
    "# Generate sample data:\n",
    "x = np.arange(start = 0, stop = N + 1, step = 1)\n",
    "#x = list(range(0, N + 1)) # not np.ndarray \n",
    "e = np.random.normal(loc = 0, scale = 1, size = len(x))\n",
    "y = beta_0 + beta_1 * x + e\n",
    "# Plot the data\n",
    "plt.figure(num = 0, figsize = (10, 8))\n",
    "plt.plot(x, y, linestyle = \"None\", marker = \"o\", markerfacecolor = 'none');"
   ]
  },
  {
   "cell_type": "code",
   "execution_count": 37,
   "metadata": {},
   "outputs": [
    {
     "name": "stdout",
     "output_type": "stream",
     "text": [
      "Estimated beta_0 = 0.908378099796689. True beta_0 = 1\n"
     ]
    }
   ],
   "source": [
    "beta_1_est = np.cov(x, y, bias = False)[0][1] / np.var(x, ddof = 1)\n",
    "beta_0_est = np.mean(y) - beta_1_est * np.mean(x)\n",
    "print(\"Estimated beta_0 = \" + str(beta_0_est) + \". True beta_0 = \" + str(beta_0))"
   ]
  },
  {
   "cell_type": "code",
   "execution_count": 38,
   "metadata": {},
   "outputs": [
    {
     "name": "stdout",
     "output_type": "stream",
     "text": [
      "Estimated beta_1 = 0.5067416051292871. True beta_1 = 0.5\n"
     ]
    }
   ],
   "source": [
    "print(\"Estimated beta_1 = \" + str(beta_1_est) + \". True beta_1 = \" + str(beta_1))"
   ]
  },
  {
   "cell_type": "markdown",
   "metadata": {},
   "source": [
    "matrixを用いた解き方"
   ]
  },
  {
   "cell_type": "code",
   "execution_count": 42,
   "metadata": {},
   "outputs": [
    {
     "name": "stdout",
     "output_type": "stream",
     "text": [
      "[0.9083781  0.50674161]\n"
     ]
    }
   ],
   "source": [
    "x_mat = np.column_stack((np.ones(len(x)), x))\n",
    "beta_mat = np.dot(np.linalg.inv(np.dot(np.transpose(x_mat), x_mat)), \n",
    "                  np.dot(np.transpose(x_mat), y))\n",
    "print(beta_mat)"
   ]
  },
  {
   "cell_type": "markdown",
   "metadata": {},
   "source": [
    "statsmodelを用いる場合"
   ]
  },
  {
   "cell_type": "code",
   "execution_count": 43,
   "metadata": {},
   "outputs": [
    {
     "name": "stdout",
     "output_type": "stream",
     "text": [
      "[0.9083781  0.50674161]\n"
     ]
    }
   ],
   "source": [
    "import statsmodels.api as sm\n",
    "#\n",
    "x_mat = sm.add_constant(x)  # Add a constant column - not optional!\n",
    "lm_model = sm.OLS(y, x_mat) # Create the OLS regression object\n",
    "lm_fit = lm_model.fit()     # Estimate the parameters\n",
    "print(lm_fit.params)   "
   ]
  },
  {
   "cell_type": "markdown",
   "metadata": {},
   "source": [
    "plotしてみる"
   ]
  },
  {
   "cell_type": "code",
   "execution_count": 46,
   "metadata": {},
   "outputs": [
    {
     "data": {
      "image/png": "[encoded data removed]",
      "text/plain": [
       "<Figure size 720x576 with 1 Axes>"
      ]
     },
     "metadata": {
      "needs_background": "light"
     },
     "output_type": "display_data"
    }
   ],
   "source": [
    "plt.figure(num = 0, figsize = (10, 8))\n",
    "plt.plot(x, y, linestyle = \"None\", marker = \"o\", markerfacecolor = 'none')\n",
    "plt.plot(x, beta_mat[0] + beta_mat[1]*x, label = '$E(Y|X) = \\\\beta_0 + \\\\beta_1 X$')\n",
    "plt.legend();"
   ]
  },
  {
   "cell_type": "code",
   "execution_count": 55,
   "metadata": {},
   "outputs": [
    {
     "data": {
      "text/plain": [
       "Text(17.82, 10.975383044124221, '')"
      ]
     },
     "execution_count": 55,
     "metadata": {},
     "output_type": "execute_result"
    },
    {
     "data": {
      "image/png": "[encoded data removed]",
      "text/plain": [
       "<Figure size 720x576 with 1 Axes>"
      ]
     },
     "metadata": {
      "needs_background": "light"
     },
     "output_type": "display_data"
    }
   ],
   "source": [
    "y_fit = beta_mat[0] + beta_mat[1]*x\n",
    "\n",
    "plt.figure(num = 1, figsize=(10, 8))\n",
    "plt.plot(x, y, linestyle = \"None\", marker = \"o\", markerfacecolor = 'black')\n",
    "plt.ylim(ymin = 0, ymax = 12)\n",
    "plt.xlim(xmin = 10, xmax = 20)\n",
    "plt.title(\"Scatter diagram of (X,Y) sample data and the regression line\")\n",
    "plt.plot(x, beta_mat[0] + beta_mat[1]*x, linestyle = \"--\", color = \"green\")\n",
    "\n",
    "# Add Axis labels and ticks at specific positions:\n",
    "plt.xticks([x[12], x[16]], [\"$X_{13}$\", \"$X_{17}$\"])\n",
    "# Add vertical lines:\n",
    "plt.plot([x[12], x[12]], [0, y_fit[12]], '--', color = \"black\")\n",
    "plt.plot([x[12], x[12]], [0, y[12]], '-', color = \"black\")\n",
    "plt.plot([x[16], x[16]], [0, y[16]], '-', color = \"black\")\n",
    "\n",
    "\n",
    "plt.annotate(\"\", xy = (x[12]*0.955, y[12] / 2), \n",
    "             xytext = (x[12]*0.975, y[12] / 2),\n",
    "             arrowprops = dict(arrowstyle = \"]-, widthA=10.3,lengthA=1\",\n",
    "                               connectionstyle = \"arc\", color='red'))\n",
    "plt.annotate(\"\", xy = (x[12]*1.015, y_fit[12] / 2),\n",
    "             xytext = (x[12]*1.035, y_fit[12] / 2),\n",
    "             arrowprops = dict(arrowstyle = \"-[, widthB=12.5,lengthB=1\",\n",
    "                               connectionstyle = \"arc\", color='red'))\n",
    "plt.annotate(\"\", xy = (x[16]*1.015, y_fit[16] / 2), \n",
    "             xytext = (x[16]*1.035, y_fit[16] / 2),\n",
    "             arrowprops = dict(arrowstyle = \"-[, widthB=16.2,lengthB=1.2\",\n",
    "                               connectionstyle = \"arc\", color='red'))\n",
    "plt.annotate(\"\", xy = (x[16]*1.015, (y[16] + y_fit[16]) / 2),\n",
    "             xytext = (x[16]*1.035, (y[16] + y_fit[16]) / 2),\n",
    "             arrowprops = dict(arrowstyle = \"-[, widthB=2.5,lengthB=1.2\",\n",
    "                               connectionstyle = \"arc\", color='red'))\n",
    "\n",
    "# Add Actual, Fitted and Residual indicator text:\n",
    "plt.text(x[12]*0.93, y[12] / 2.1, r'$Y_{13}$', fontsize = 10)\n",
    "plt.text(x[12]*1.04, y_fit[12] / 2.1, r'$\\widehat{Y}_{13}$', fontsize = 10)\n",
    "plt.text(x[16]*1.04, y_fit[16] / 2.1, \n",
    "  r'$\\widehat{Y}_6$ = fitted value', fontsize = 10)\n",
    "plt.text(x[16]*1.04, (y[16] + y_fit[16]) / 2.02, \n",
    "  r'$\\widehat{\\epsilon}_6$ = residual', fontsize = 10)\n",
    "# Add Regression line\n",
    "plt.text(x[17] - 0.2, y[20], \n",
    "  r'$\\widehat{Y} = \\widehat{\\beta}_0 + \\widehat{\\beta}_1 X$', fontsize = 10)\n",
    "plt.annotate(\"\", xy = (x[19], y_fit[19]), xytext = (x[18]*0.99, y[20]),\n",
    "            arrowprops = dict(arrowstyle = \"->\", \n",
    "                              connectionstyle = \"arc\", color='red'))"
   ]
  },
  {
   "cell_type": "markdown",
   "metadata": {},
   "source": [
    "### Residualの性質"
   ]
  },
  {
   "cell_type": "code",
   "execution_count": 56,
   "metadata": {},
   "outputs": [],
   "source": [
    "residual = y - y_fit"
   ]
  },
  {
   "cell_type": "code",
   "execution_count": 57,
   "metadata": {},
   "outputs": [
    {
     "data": {
      "text/plain": [
       "-1.0080825063596421e-13"
      ]
     },
     "execution_count": 57,
     "metadata": {},
     "output_type": "execute_result"
    }
   ],
   "source": [
    "sum(residual)"
   ]
  },
  {
   "cell_type": "code",
   "execution_count": 60,
   "metadata": {},
   "outputs": [
    {
     "data": {
      "image/png": "[encoded data removed]",
      "text/plain": [
       "<Figure size 432x288 with 1 Axes>"
      ]
     },
     "metadata": {
      "needs_background": "light"
     },
     "output_type": "display_data"
    }
   ],
   "source": [
    "plt.scatter(x, residual);"
   ]
  },
  {
   "cell_type": "code",
   "execution_count": 63,
   "metadata": {},
   "outputs": [
    {
     "data": {
      "text/plain": [
       "1.0111467219076076e-13"
      ]
     },
     "execution_count": 63,
     "metadata": {},
     "output_type": "execute_result"
    }
   ],
   "source": [
    "np.cov(x, residual)[0,1]"
   ]
  },
  {
   "cell_type": "code",
   "execution_count": 64,
   "metadata": {},
   "outputs": [
    {
     "data": {
      "text/plain": [
       "5.116458419229954e-14"
      ]
     },
     "execution_count": 64,
     "metadata": {},
     "output_type": "execute_result"
    }
   ],
   "source": [
    "np.cov(y_fit, residual)[0,1]"
   ]
  },
  {
   "cell_type": "markdown",
   "metadata": {},
   "source": [
    "## Gauss-Markov theorem\n",
    "\n",
    "Under the assumption that the conditions (UR.1) - (UR.3), (UR. 5) hold true, the OLS estimators $\\beta_{OLS}$ are BLUE (Best Linear Unbiased Estimator) and Consistent."
   ]
  },
  {
   "cell_type": "markdown",
   "metadata": {},
   "source": [
    "### OLS estimators are Unbiased\n",
    "\n",
    "$$\n",
    "\\begin{aligned}\n",
    "\\widehat{\\boldsymbol{\\beta}} &= \\left( \\mathbf{X}^\\top \\mathbf{X}\\right)^{-1} \\mathbf{X}^\\top \\mathbf{Y} \\\\\n",
    "&= \\left( \\mathbf{X}^\\top \\mathbf{X}\\right)^{-1} \\mathbf{X}^\\top \\left( \\mathbf{X} \\boldsymbol{\\beta} + \\boldsymbol{\\varepsilon} \\right) \\\\\n",
    "&= \\left( \\mathbf{X}^\\top \\mathbf{X}\\right)^{-1} \\mathbf{X}^\\top \\mathbf{X} \\boldsymbol{\\beta} + \\left( \\mathbf{X}^\\top  \\mathbf{X}\\right)^{-1} \\mathbf{X}^\\top \\boldsymbol{\\varepsilon} \\\\\n",
    "&= \\boldsymbol{\\beta} + \\left( \\mathbf{X}^\\top  \\mathbf{X}\\right)^{-1} \\mathbf{X}^\\top \\boldsymbol{\\varepsilon} \n",
    "\\end{aligned}\n",
    "$$"
   ]
  },
  {
   "cell_type": "code",
   "execution_count": null,
   "metadata": {},
   "outputs": [],
   "source": []
  }
 ],
 "metadata": {
  "kernelspec": {
   "display_name": "Python 3",
   "language": "python",
   "name": "python3"
  },
  "language_info": {
   "codemirror_mode": {
    "name": "ipython",
    "version": 3
   },
   "file_extension": ".py",
   "mimetype": "text/x-python",
   "name": "python",
   "nbconvert_exporter": "python",
   "pygments_lexer": "ipython3",
   "version": "3.7.4"
  }
 },
 "nbformat": 4,
 "nbformat_minor": 4
}
