{
 "cells": [
  {
   "cell_type": "markdown",
   "metadata": {},
   "source": [
    "# 配列のsortとargsort\n",
    "## Agenda\n",
    "- `numpy.sort`と`numpy.argsort`の紹介"
   ]
  },
  {
   "cell_type": "markdown",
   "metadata": {},
   "source": [
    "### Import"
   ]
  },
  {
   "cell_type": "code",
   "execution_count": 1,
   "metadata": {},
   "outputs": [],
   "source": [
    "import numpy as np"
   ]
  },
  {
   "cell_type": "markdown",
   "metadata": {},
   "source": [
    "### Numpy version"
   ]
  },
  {
   "cell_type": "code",
   "execution_count": 2,
   "metadata": {},
   "outputs": [
    {
     "data": {
      "text/plain": [
       "'1.18.2'"
      ]
     },
     "execution_count": 2,
     "metadata": {},
     "output_type": "execute_result"
    }
   ],
   "source": [
    "np.__version__"
   ]
  },
  {
   "cell_type": "markdown",
   "metadata": {},
   "source": [
    "## 1. `numpy.sort`\n",
    "\n",
    "- sorted copy of an arrayを返す\n",
    "\n",
    "### Syntax\n",
    "\n",
    "```\n",
    "numpy.sort(a, axis=-1, kind=None, order=None)[source]\n",
    "```\n",
    "\n",
    "### Parameters\n",
    "\n",
    "|引数名|型|概要|\n",
    "|---|---|---|\n",
    "|`a`|array_like|sortしたい配列を指定|\n",
    "|`axis`|int or None|default `axis = -1`, sortするaxisの指定|\n",
    "|`kind`|`{‘quicksort’, ‘mergesort’, ‘heapsort’, ‘stable’}, optional`|defaultはquicksort|\n",
    "|`order`|string, list of strings|aがフィールドの定義されている配列であったとき、どのフィールドで要素をソートするかを指定する|\n"
   ]
  },
  {
   "cell_type": "markdown",
   "metadata": {},
   "source": [
    "### アルゴリズムの性能評価の指標\n",
    "\n",
    "- average speed\n",
    "- worst case performance\n",
    "- workspace size\n",
    "- stability\n",
    "\n",
    "<img src = 'https://github.com/RyoNakagami/omorikaizuka/blob/master/algorithm/sort_algorithm.jpg?raw=true'>"
   ]
  },
  {
   "cell_type": "code",
   "execution_count": 3,
   "metadata": {},
   "outputs": [
    {
     "data": {
      "text/plain": [
       "array([51, 92, 14, 71, 60, 20, 82, 86, 74, 74])"
      ]
     },
     "execution_count": 3,
     "metadata": {},
     "output_type": "execute_result"
    }
   ],
   "source": [
    "np.random.seed(42)\n",
    "a = np.random.randint(0, 100, size = 10)\n",
    "a"
   ]
  },
  {
   "cell_type": "code",
   "execution_count": 4,
   "metadata": {},
   "outputs": [
    {
     "data": {
      "text/plain": [
       "array([14, 20, 51, 60, 71, 74, 74, 82, 86, 92])"
      ]
     },
     "execution_count": 4,
     "metadata": {},
     "output_type": "execute_result"
    }
   ],
   "source": [
    "np.sort(a)"
   ]
  },
  {
   "cell_type": "code",
   "execution_count": 5,
   "metadata": {},
   "outputs": [
    {
     "data": {
      "text/plain": [
       "array([[1, 4],\n",
       "       [1, 3],\n",
       "       [0, 5]])"
      ]
     },
     "execution_count": 5,
     "metadata": {},
     "output_type": "execute_result"
    }
   ],
   "source": [
    "a = np.array([[1,4],[3,1], [5,0]])\n",
    "np.sort(a)"
   ]
  },
  {
   "cell_type": "code",
   "execution_count": 6,
   "metadata": {},
   "outputs": [
    {
     "data": {
      "text/plain": [
       "array([0, 1, 1, 3, 4, 5])"
      ]
     },
     "execution_count": 6,
     "metadata": {},
     "output_type": "execute_result"
    }
   ],
   "source": [
    "np.sort(a, axis=None)"
   ]
  },
  {
   "cell_type": "code",
   "execution_count": 7,
   "metadata": {},
   "outputs": [
    {
     "data": {
      "text/plain": [
       "array([[1, 0],\n",
       "       [3, 1],\n",
       "       [5, 4]])"
      ]
     },
     "execution_count": 7,
     "metadata": {},
     "output_type": "execute_result"
    }
   ],
   "source": [
    "a = np.array([[1,4],[3,1], [5,0]])\n",
    "np.sort(a, axis=0)"
   ]
  },
  {
   "cell_type": "markdown",
   "metadata": {},
   "source": [
    "### order"
   ]
  },
  {
   "cell_type": "code",
   "execution_count": 8,
   "metadata": {},
   "outputs": [
    {
     "data": {
      "text/plain": [
       "array([('Galahad', 1.7, 38), ('Arthur', 1.8, 41), ('Lancelot', 1.9, 38)],\n",
       "      dtype=[('name', '<U16'), ('height', '<f8'), ('age', '<i8')])"
      ]
     },
     "execution_count": 8,
     "metadata": {},
     "output_type": "execute_result"
    }
   ],
   "source": [
    "dtype = [('name',  np.unicode_, 16), ('height', float), ('age', int)]\n",
    "values = [('Arthur', 1.8, 41), ('Lancelot', 1.9, 38),\n",
    "           ('Galahad', 1.7, 38)]\n",
    "a = np.array(values, dtype=dtype)  \n",
    "np.sort(a, order = 'height')"
   ]
  },
  {
   "cell_type": "code",
   "execution_count": 9,
   "metadata": {},
   "outputs": [
    {
     "data": {
      "text/plain": [
       "array([('Galahad', 1.7, 38), ('Lancelot', 1.9, 38), ('Arthur', 1.8, 41)],\n",
       "      dtype=[('name', '<U16'), ('height', '<f8'), ('age', '<i8')])"
      ]
     },
     "execution_count": 9,
     "metadata": {},
     "output_type": "execute_result"
    }
   ],
   "source": [
    "np.sort(a, order=['age', 'height'])       "
   ]
  },
  {
   "cell_type": "markdown",
   "metadata": {},
   "source": [
    "## 2. `nunpy.argsort`\n",
    "\n",
    "- sort結果の配列indexを返す\n",
    "\n",
    "### Syntax\n",
    "\n",
    "```\n",
    "numpy.argsort(a, axis=-1, kind=None, order=None)\n",
    "```"
   ]
  },
  {
   "cell_type": "code",
   "execution_count": 10,
   "metadata": {},
   "outputs": [
    {
     "data": {
      "text/plain": [
       "array([1, 2, 0])"
      ]
     },
     "execution_count": 10,
     "metadata": {},
     "output_type": "execute_result"
    }
   ],
   "source": [
    "x = np.array([3, 1, 2])\n",
    "np.argsort(x)"
   ]
  },
  {
   "cell_type": "code",
   "execution_count": 11,
   "metadata": {},
   "outputs": [
    {
     "data": {
      "text/plain": [
       "array([[0, 1],\n",
       "       [1, 0],\n",
       "       [1, 0]])"
      ]
     },
     "execution_count": 11,
     "metadata": {},
     "output_type": "execute_result"
    }
   ],
   "source": [
    "a = np.array([[1,4],[3,1], [5,2]])\n",
    "np.argsort(a, axis=1)"
   ]
  },
  {
   "cell_type": "code",
   "execution_count": 12,
   "metadata": {},
   "outputs": [
    {
     "data": {
      "text/plain": [
       "array([[0, 1],\n",
       "       [1, 2],\n",
       "       [2, 0]])"
      ]
     },
     "execution_count": 12,
     "metadata": {},
     "output_type": "execute_result"
    }
   ],
   "source": [
    "a = np.array([[1,4],[3,1], [5,2]])\n",
    "np.argsort(a, axis=0)"
   ]
  },
  {
   "cell_type": "markdown",
   "metadata": {},
   "source": [
    "### np.argsortのreturnを用いた配列操作"
   ]
  },
  {
   "cell_type": "code",
   "execution_count": 13,
   "metadata": {},
   "outputs": [
    {
     "data": {
      "text/plain": [
       "True"
      ]
     },
     "execution_count": 13,
     "metadata": {},
     "output_type": "execute_result"
    }
   ],
   "source": [
    "ind = np.argsort(a, axis=0)\n",
    "np.all(np.take_along_axis(a, ind, axis = 0) == np.sort(a, axis = 0))"
   ]
  },
  {
   "cell_type": "code",
   "execution_count": 14,
   "metadata": {},
   "outputs": [
    {
     "data": {
      "text/plain": [
       "True"
      ]
     },
     "execution_count": 14,
     "metadata": {},
     "output_type": "execute_result"
    }
   ],
   "source": [
    "ind = np.argsort(a, axis=1)\n",
    "np.all(np.take_along_axis(a, ind, axis = 1) == np.sort(a, axis = 1))"
   ]
  },
  {
   "cell_type": "markdown",
   "metadata": {},
   "source": [
    "## 3. Quicksort\n",
    "\n",
    "基準値を決めて、それより大きい数と小さい数のグループに分ける。そして、それらのグループに対しても同じことを繰り返していく方法のことを指す。\n",
    "\n",
    "実際の動きは、"
   ]
  },
  {
   "cell_type": "code",
   "execution_count": 15,
   "metadata": {},
   "outputs": [
    {
     "data": {
      "text/plain": [
       "array([8, 1, 5, 0, 7, 2, 9, 4, 3, 6])"
      ]
     },
     "execution_count": 15,
     "metadata": {},
     "output_type": "execute_result"
    }
   ],
   "source": [
    "np.random.seed(42)\n",
    "a = np.random.choice(10, 10, replace=False)\n",
    "a"
   ]
  },
  {
   "cell_type": "markdown",
   "metadata": {},
   "source": [
    "という配列を例とすると、\n",
    "1. 値域の平均をとってまず基準値を`5`とする。\n",
    "2. 前方から基準値より大きい要素を、後方から基準値より小さい要素をスキャンし、見つかったら入れ替えていく。\n",
    "3. そして、前方からのスキャンと後方からのスキャンがぶつかるまで続ける。\n",
    "4. 基準値よりも大きいグループと小さいグループに配列をに分割する。\n",
    "5. それぞれの配列に対して、`(1)~(4)`を繰り返し、全てのグループで入れ替え（配列サイズが2になるまで`(1)~(4)`を繰り返す）が済んだら終了\n",
    "\n",
    "<img src = 'https://github.com/RyoNakagami/omorikaizuka/blob/master/algorithm/quicksort_image_1.jpg?raw=true'>"
   ]
  },
  {
   "cell_type": "markdown",
   "metadata": {},
   "source": [
    "### Implementation"
   ]
  },
  {
   "cell_type": "code",
   "execution_count": 16,
   "metadata": {},
   "outputs": [],
   "source": [
    "def my_quicksort(array, pivot = None):\n",
    "    \"\"\"\n",
    "    INPUT\n",
    "        array: 1_D array-like\n",
    "        pivot: sort pivot method\n",
    "    RETURN\n",
    "        sorted array\n",
    "    \"\"\"\n",
    "    if len(array) < 2:\n",
    "        return array\n",
    "    \n",
    "    if pivot == 'mean':\n",
    "        pivot = sum(array)/len(array)\n",
    "    else:\n",
    "        pivot = (array[0] + array[-1])/2\n",
    "    \n",
    "    left, right = 0, len(array) - 1\n",
    "    while(left < right):\n",
    "        while(array[left] < pivot):\n",
    "            left += 1\n",
    "        \n",
    "        while(array[right] > pivot):\n",
    "            right -= 1\n",
    "        if (left < right):\n",
    "            array[left], array[right] = array[right], array[left]\n",
    "        else:\n",
    "            break\n",
    "    \n",
    "    array[:left] = my_quicksort(array[:left])\n",
    "    array[left+1::] = my_quicksort(array[left+1:]) \n",
    "    \n",
    "    return array\n"
   ]
  },
  {
   "cell_type": "code",
   "execution_count": 17,
   "metadata": {},
   "outputs": [
    {
     "data": {
      "text/plain": [
       "array([0, 1, 2, 3, 4, 5, 6, 7, 8, 9])"
      ]
     },
     "execution_count": 17,
     "metadata": {},
     "output_type": "execute_result"
    }
   ],
   "source": [
    "my_quicksort(a)"
   ]
  },
  {
   "cell_type": "markdown",
   "metadata": {},
   "source": [
    "## Appendix: fieldとは？\n",
    "\n",
    "- a structured data typeにおいて、各sub-typeのことを`field`と呼ぶ。\n",
    "- `field`は`name`と`type`を持つ"
   ]
  },
  {
   "cell_type": "code",
   "execution_count": 18,
   "metadata": {},
   "outputs": [],
   "source": [
    "dt = np.dtype([('name', np.unicode_, 16), \n",
    "               ('grades', np.float64, (2,))])\n",
    "x = np.array([('Sarah', (8.0, 7.0)), ('John', (6.0, 7.0))], dtype=dt)"
   ]
  },
  {
   "cell_type": "code",
   "execution_count": 19,
   "metadata": {},
   "outputs": [
    {
     "data": {
      "text/plain": [
       "array(['Sarah', 'John'], dtype='<U16')"
      ]
     },
     "execution_count": 19,
     "metadata": {},
     "output_type": "execute_result"
    }
   ],
   "source": [
    "x['name']"
   ]
  },
  {
   "cell_type": "code",
   "execution_count": 20,
   "metadata": {},
   "outputs": [
    {
     "data": {
      "text/plain": [
       "array([[8., 7.],\n",
       "       [6., 7.]])"
      ]
     },
     "execution_count": 20,
     "metadata": {},
     "output_type": "execute_result"
    }
   ],
   "source": [
    "x['grades']"
   ]
  },
  {
   "cell_type": "code",
   "execution_count": 21,
   "metadata": {},
   "outputs": [
    {
     "data": {
      "text/plain": [
       "('Sarah', [8., 7.])"
      ]
     },
     "execution_count": 21,
     "metadata": {},
     "output_type": "execute_result"
    }
   ],
   "source": [
    "x[0]"
   ]
  },
  {
   "cell_type": "code",
   "execution_count": 22,
   "metadata": {},
   "outputs": [
    {
     "data": {
      "text/plain": [
       "('John', [6., 7.])"
      ]
     },
     "execution_count": 22,
     "metadata": {},
     "output_type": "execute_result"
    }
   ],
   "source": [
    "x[1]"
   ]
  },
  {
   "cell_type": "code",
   "execution_count": null,
   "metadata": {},
   "outputs": [],
   "source": []
  }
 ],
 "metadata": {
  "kernelspec": {
   "display_name": "Python 3",
   "language": "python",
   "name": "python3"
  },
  "language_info": {
   "codemirror_mode": {
    "name": "ipython",
    "version": 3
   },
   "file_extension": ".py",
   "mimetype": "text/x-python",
   "name": "python",
   "nbconvert_exporter": "python",
   "pygments_lexer": "ipython3",
   "version": "3.7.4"
  }
 },
 "nbformat": 4,
 "nbformat_minor": 4
}
