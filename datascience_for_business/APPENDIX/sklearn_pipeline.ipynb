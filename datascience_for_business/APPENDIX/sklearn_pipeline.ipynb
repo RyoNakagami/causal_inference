{
 "cells": [
  {
   "cell_type": "markdown",
   "metadata": {},
   "source": [
    "# sklearnの`Pipeline`と`make_pipe_line`の紹介\n",
    "## Agenda\n",
    "\n",
    "- `sklearn.pipeline.Pipeline`のsyntaxと使用方法の紹介\n",
    "\n",
    "## 参考\n",
    "\n",
    "- [`sklearn.pipeline.Pipeline`のcache機能の紹介](https://blog.amedama.jp/entry/scikit-learn-pipeline-cache)"
   ]
  },
  {
   "cell_type": "markdown",
   "metadata": {},
   "source": [
    "## `sklearn.pipeline.Pipeline`\n",
    "### 機能\n",
    "- preprocessingの一連の処理(feature selection, normalization)と最終的に用いるestimatorをつなげるパイプライン（一連の処理を実行してくれるオブジェクト, class）を作ってくれる\n",
    "- Observed data, X, しかtransformできない\n",
    "- nameをautomaticallyにlowercaseで記述してくれる簡易コンストラクターが`sklearn.pipeline.make_pipeline`\n",
    "\n",
    "### When to Use\n",
    "\n",
    "1. 前処理とestimatorの一連の流れを一つのオブジェクトにまとめるため\n",
    "2. grid search\n",
    "3. leakageの予防のため\n",
    "\n",
    "### Params\n",
    "- steps: list\n",
    "\n",
    "List of tuples. 実行したいtransformや`fit()`の対象となるestimatorをプロセスの名前と共に格納する。名前を`key`, stepを`value` としたとき、tupleの記述は(`key`, `value`)となる。\n",
    "```\n",
    "[('scaler', StandardScaler()), ('svc', SVC())]\n",
    "```\n",
    "\n",
    "- memory: str or object with the joblib.Memory interface, default=None\n",
    "\n",
    "Pipeline の最終段に位置するモデル (Estimator) に渡される直前のデータをキャッシュしてくれる\n",
    "\n",
    "- verbose: bool, default=False\n",
    "\n",
    "<img src = 'https://github.com/RyoNakagami/omorikaizuka/blob/master/algorithm/sklearn_pipeline_method.jpg?raw=true'>"
   ]
  },
  {
   "cell_type": "markdown",
   "metadata": {},
   "source": [
    "### Example"
   ]
  },
  {
   "cell_type": "code",
   "execution_count": 1,
   "metadata": {},
   "outputs": [
    {
     "data": {
      "text/plain": [
       "0.88"
      ]
     },
     "execution_count": 1,
     "metadata": {},
     "output_type": "execute_result"
    }
   ],
   "source": [
    "from sklearn.svm import SVC\n",
    "from sklearn.preprocessing import StandardScaler\n",
    "from sklearn.datasets import make_classification\n",
    "from sklearn.model_selection import train_test_split\n",
    "from sklearn.pipeline import Pipeline\n",
    "X, y = make_classification(random_state=0)\n",
    "X_train, X_test, y_train, y_test = train_test_split(X, y,\n",
    "                                                    random_state=0)\n",
    "pipe = Pipeline([('scaler', StandardScaler()), ('svc', SVC())])\n",
    "# The pipeline can be used as any other estimator\n",
    "# and avoids leaking the test set into the train set\n",
    "pipe.fit(X_train, y_train)\n",
    "pipe.score(X_test, y_test)"
   ]
  },
  {
   "cell_type": "markdown",
   "metadata": {},
   "source": [
    "## Pipeline 機能のキャッシュの使い方\n",
    "\n",
    "- `Pipeline` クラスのコンストラクタで `memory` オプションに`joblib.memory.Memory` オブジェクトを渡さなくてはならない\n",
    "\n",
    "### Example\n",
    "\n",
    "- Digits データセットを主成分分析して、それをランダムフォレストで識別する"
   ]
  },
  {
   "cell_type": "code",
   "execution_count": 2,
   "metadata": {},
   "outputs": [],
   "source": [
    "from sklearn import datasets\n",
    "from sklearn.ensemble import RandomForestClassifier\n",
    "from sklearn.metrics import accuracy_score\n",
    "from sklearn.pipeline import Pipeline\n",
    "from sklearn.decomposition import KernelPCA\n",
    "from sklearn.model_selection import train_test_split\n",
    "from joblib import memory"
   ]
  },
  {
   "cell_type": "code",
   "execution_count": 3,
   "metadata": {},
   "outputs": [],
   "source": [
    "dataset = datasets.load_digits()\n",
    "X, y = dataset.data, dataset.target\n",
    "X_train, X_test, y_train, y_test = train_test_split(X, y, \n",
    "                                                    shuffle=True, \n",
    "                                                    test_size=0.33,\n",
    "                                                    random_state=42)"
   ]
  },
  {
   "cell_type": "markdown",
   "metadata": {},
   "source": [
    "Pipeline constructor"
   ]
  },
  {
   "cell_type": "code",
   "execution_count": 4,
   "metadata": {},
   "outputs": [],
   "source": [
    "steps = [\n",
    "        # 主成分分析\n",
    "        ('pca', KernelPCA()),\n",
    "        # ランダムフォレスト\n",
    "        ('rf', RandomForestClassifier(n_estimators=100))\n",
    "    ]\n",
    "cache = memory.Memory(location='./cachedir', verbose=3)\n",
    "pipeline = Pipeline(steps=steps, memory=cache)"
   ]
  },
  {
   "cell_type": "code",
   "execution_count": 5,
   "metadata": {},
   "outputs": [
    {
     "name": "stdout",
     "output_type": "stream",
     "text": [
      "[Memory]0.0s, 0.0min    : Loading _fit_transform_one...\n"
     ]
    },
    {
     "data": {
      "text/plain": [
       "Pipeline(memory=Memory(location=./cachedir/joblib),\n",
       "         steps=[('pca', KernelPCA()), ('rf', RandomForestClassifier())])"
      ]
     },
     "execution_count": 5,
     "metadata": {},
     "output_type": "execute_result"
    }
   ],
   "source": [
    "pipeline.fit(X_train, y_train)"
   ]
  },
  {
   "cell_type": "code",
   "execution_count": 6,
   "metadata": {},
   "outputs": [
    {
     "name": "stdout",
     "output_type": "stream",
     "text": [
      "accuracy: 0.9629629629629629\n"
     ]
    }
   ],
   "source": [
    "y_pred = pipeline.predict(X_test)\n",
    "acc = accuracy_score(y_pred, y_test)\n",
    "print(f'accuracy: {acc}')"
   ]
  },
  {
   "cell_type": "markdown",
   "metadata": {},
   "source": [
    "## Usage: `sklearn.pipeline.Pipeline`"
   ]
  },
  {
   "cell_type": "markdown",
   "metadata": {},
   "source": [
    "### PipelineのConstruction"
   ]
  },
  {
   "cell_type": "code",
   "execution_count": 7,
   "metadata": {},
   "outputs": [
    {
     "data": {
      "text/plain": [
       "Pipeline(steps=[('reduce_dim', PCA()), ('clf', SVC())])"
      ]
     },
     "execution_count": 7,
     "metadata": {},
     "output_type": "execute_result"
    }
   ],
   "source": [
    "from sklearn.pipeline import Pipeline\n",
    "from sklearn.svm import SVC\n",
    "from sklearn.decomposition import PCA\n",
    "estimators = [('reduce_dim', PCA()), ('clf', SVC())]\n",
    "pipe = Pipeline(estimators)\n",
    "pipe"
   ]
  },
  {
   "cell_type": "markdown",
   "metadata": {},
   "source": [
    "### Accessing steps\n",
    "\n",
    "- `idx`または`name`でpipelineのstepにアクセスすることができる"
   ]
  },
  {
   "cell_type": "code",
   "execution_count": 8,
   "metadata": {},
   "outputs": [
    {
     "data": {
      "text/plain": [
       "PCA()"
      ]
     },
     "execution_count": 8,
     "metadata": {},
     "output_type": "execute_result"
    }
   ],
   "source": [
    "pipe[0]"
   ]
  },
  {
   "cell_type": "code",
   "execution_count": 9,
   "metadata": {},
   "outputs": [
    {
     "data": {
      "text/plain": [
       "PCA()"
      ]
     },
     "execution_count": 9,
     "metadata": {},
     "output_type": "execute_result"
    }
   ],
   "source": [
    "pipe['reduce_dim']"
   ]
  },
  {
   "cell_type": "markdown",
   "metadata": {},
   "source": [
    "### Grid search\n",
    "\n",
    "`<estimator>__<parameter>`でpipelineのstepのパラメータ設定することができる"
   ]
  },
  {
   "cell_type": "code",
   "execution_count": 10,
   "metadata": {},
   "outputs": [
    {
     "data": {
      "text/plain": [
       "GridSearchCV(cv=5,\n",
       "             estimator=Pipeline(steps=[('reduce_dim', PCA()), ('clf', SVC())]),\n",
       "             param_grid={'clf__C': [0.1, 10, 100],\n",
       "                         'reduce_dim__n_components': [2, 5, 10]})"
      ]
     },
     "execution_count": 10,
     "metadata": {},
     "output_type": "execute_result"
    }
   ],
   "source": [
    "from sklearn.model_selection import GridSearchCV\n",
    "param_grid = dict(reduce_dim__n_components=[2, 5, 10],\n",
    "                  clf__C=[0.1, 10, 100])\n",
    "grid_search = GridSearchCV(pipe, param_grid=param_grid, cv = 5)\n",
    "grid_search.fit(X, y)"
   ]
  },
  {
   "cell_type": "markdown",
   "metadata": {},
   "source": [
    "最もよかった際の学習のパラメータの表示"
   ]
  },
  {
   "cell_type": "code",
   "execution_count": 11,
   "metadata": {},
   "outputs": [
    {
     "data": {
      "text/plain": [
       "Pipeline(steps=[('reduce_dim', PCA(n_components=10)), ('clf', SVC(C=10))])"
      ]
     },
     "execution_count": 11,
     "metadata": {},
     "output_type": "execute_result"
    }
   ],
   "source": [
    "grid_search.best_estimator_"
   ]
  },
  {
   "cell_type": "code",
   "execution_count": null,
   "metadata": {},
   "outputs": [],
   "source": []
  },
  {
   "cell_type": "code",
   "execution_count": null,
   "metadata": {},
   "outputs": [],
   "source": []
  }
 ],
 "metadata": {
  "kernelspec": {
   "display_name": "Python 3",
   "language": "python",
   "name": "python3"
  },
  "language_info": {
   "codemirror_mode": {
    "name": "ipython",
    "version": 3
   },
   "file_extension": ".py",
   "mimetype": "text/x-python",
   "name": "python",
   "nbconvert_exporter": "python",
   "pygments_lexer": "ipython3",
   "version": "3.7.4"
  }
 },
 "nbformat": 4,
 "nbformat_minor": 4
}
