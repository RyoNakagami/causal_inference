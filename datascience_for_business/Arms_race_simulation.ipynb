{
 "cells": [
  {
   "cell_type": "markdown",
   "metadata": {},
   "source": [
    "# 軍拡競争モデル\n",
    "## Agenda\n",
    "\n",
    "- 微分方程式を用いて単純な軍拡競争モデルをsimulationする"
   ]
  },
  {
   "cell_type": "markdown",
   "metadata": {},
   "source": [
    "### Hardware"
   ]
  },
  {
   "cell_type": "code",
   "execution_count": 1,
   "metadata": {},
   "outputs": [
    {
     "name": "stdout",
     "output_type": "stream",
     "text": [
      "      Model Identifier: MacBookPro13,1\n",
      "      Processor Name: Dual-Core Intel Core i5\n",
      "      Processor Speed: 2 GHz\n",
      "      Number of Processors: 1\n",
      "      Memory: 16 GB\n"
     ]
    }
   ],
   "source": [
    "%%bash\n",
    "system_profiler SPHardwareDataType | grep -E \\\n",
    "\"Model Identifier\"\\|\"Processor Name\"\\|\"Processor Speed\"\\\n",
    "\\|\"Number of Processors\"\\|\"Memory:\""
   ]
  },
  {
   "cell_type": "code",
   "execution_count": 2,
   "metadata": {},
   "outputs": [
    {
     "name": "stdout",
     "output_type": "stream",
     "text": [
      "ProductName:\tMac OS X\n",
      "ProductVersion:\t10.15.4\n",
      "BuildVersion:\t19E287\n"
     ]
    }
   ],
   "source": [
    "!sw_vers"
   ]
  },
  {
   "cell_type": "markdown",
   "metadata": {},
   "source": [
    "### Python"
   ]
  },
  {
   "cell_type": "code",
   "execution_count": 4,
   "metadata": {},
   "outputs": [
    {
     "name": "stdout",
     "output_type": "stream",
     "text": [
      "Python 3.7.4\n"
     ]
    }
   ],
   "source": [
    "!python -V"
   ]
  },
  {
   "cell_type": "markdown",
   "metadata": {},
   "source": [
    "### Install packages"
   ]
  },
  {
   "cell_type": "code",
   "execution_count": 5,
   "metadata": {},
   "outputs": [],
   "source": [
    "pass"
   ]
  },
  {
   "cell_type": "markdown",
   "metadata": {},
   "source": [
    "### Import"
   ]
  },
  {
   "cell_type": "code",
   "execution_count": 6,
   "metadata": {},
   "outputs": [],
   "source": [
    "import numpy as np"
   ]
  },
  {
   "cell_type": "markdown",
   "metadata": {},
   "source": [
    "## 1. 単純な軍拡競争モデル\n",
    "\n",
    "他国（Y国）の軍備増強を理由にX国が軍備増加するシチュエーションは多く見られる。\n",
    "\n",
    "```\n",
    "自国の軍備の増加率が相手国の軍備の大きさに比例する\n",
    "```\n",
    "\n",
    "という単純な仮定の下での軍拡競争を（X,Y）国という２プレーヤーの状況でモデリングしてみる。\n",
    "\n",
    "### 設定\n",
    "\n",
    "- `x, y`: X国とY国の軍備水準\n",
    "- `k`: 防衛係数（X,Y両方に共通）\n",
    "\n",
    "$$\n",
    "\\frac{\\Delta x}{\\Delta t} = k y\n",
    "$$\n",
    "\n",
    "$$\n",
    "\\frac{\\Delta y}{\\Delta t} = k x\n",
    "$$\n",
    "\n",
    "x, yは時間tに対して微分可能であると仮定し、\n",
    "\n",
    "$$\n",
    "x\\equiv \\frac{dx}{dt} = ky, y\\equiv\\frac{dy}{dt} = kx \\tag{1}\n",
    "$$\n",
    "\n",
    "を得る。"
   ]
  },
  {
   "cell_type": "markdown",
   "metadata": {},
   "source": [
    "この設定を微分方程式で表現すると\n",
    "\n",
    "$$\n",
    "\\left[\\begin{array}{c}x' \\\\ y' \\end{array}\\right] = \\left[\\begin{array}{cc}0 & k \\\\ k&0 \\end{array}\\right]\\left[\\begin{array}{c}x \\\\ y \\end{array}\\right] \n",
    "$$\n",
    "\n",
    "and\n",
    "\n",
    "$$\n",
    "A\\equiv \\left[\\begin{array}{cc}0 & k \\\\ k&0 \\end{array}\\right]\n",
    "$$\n",
    "\n",
    "次に、Aの固有値を求めると、$\\lambda = k, -k$となる。また固有値に対応する固有ベクトルはそれぞれ、\n",
    "\n",
    "$$\n",
    "v_1 = (1, 1)^T, v_2 = (-1, 1)^T\n",
    "$$\n",
    "\n",
    "となる。\n",
    "\n",
    "各固有値に対応する固有空間への射影をそれぞれ$P_1, P_2$とすると、\n",
    "\n",
    "\n",
    "$$\n",
    "P_1 = \\frac{A - \\lambda_2 I}{\\lambda_1 - \\lambda_2} = \\left[\\begin{array}{cc}1/2&1/2\\\\1/2&1/2\\end{array}\\right]\n",
    "$$\n",
    "$$\n",
    "P_2 = \\frac{A - \\lambda_1 I}{\\lambda_2 - \\lambda_1} = \\left[\\begin{array}{cc}1/2&-1/2\\\\-1/2&1/2\\end{array}\\right]\n",
    "$$\n",
    "\n",
    "従って、\n",
    "\n",
    "$$\n",
    "x(t) = \\exp(A t)x_0 = (\\exp(\\lambda_1t)P_1 + \\exp(\\lambda_2t)P_2 )x_0\n",
    "$$\n",
    "\n",
    "解は以下、\n",
    "\n",
    "$$\n",
    "\\begin{aligned}\n",
    "x(t) & = \\{(a + b)\\exp(kt) + (a - b)\\exp(kt)\\}/2\\\\\n",
    "y(t) & = \\{(a + b)\\exp(kt) - (a - b)\\exp(kt)\\}/2\n",
    "\\end{aligned}\n",
    "$$\n",
    "\n",
    "よって、$t\\to\\infty$とすると、果てしない軍拡競争との示唆が得られるが現実的ではない。"
   ]
  },
  {
   "cell_type": "code",
   "execution_count": null,
   "metadata": {},
   "outputs": [],
   "source": []
  },
  {
   "cell_type": "code",
   "execution_count": null,
   "metadata": {},
   "outputs": [],
   "source": []
  },
  {
   "cell_type": "markdown",
   "metadata": {},
   "source": [
    "## Appendix: 固有空間への射影\n",
    "\n",
    "n次正方行列$A = [a_{ij}]$の固有値を$\\lambda_1, ..., \\lambda_n$とする。各固有値に対応する固有空間への射影子を$P_i$とすると\n",
    "\n",
    "$$\n",
    "P_i =\\Pi^{n}_{j = 1, j\\neq i}\\frac{A - \\lambda_j I_n}{\\lambda_i - \\lambda_j}\n",
    "$$\n",
    "\n",
    "となる。"
   ]
  },
  {
   "cell_type": "code",
   "execution_count": null,
   "metadata": {},
   "outputs": [],
   "source": []
  }
 ],
 "metadata": {
  "kernelspec": {
   "display_name": "Python 3",
   "language": "python",
   "name": "python3"
  },
  "language_info": {
   "codemirror_mode": {
    "name": "ipython",
    "version": 3
   },
   "file_extension": ".py",
   "mimetype": "text/x-python",
   "name": "python",
   "nbconvert_exporter": "python",
   "pygments_lexer": "ipython3",
   "version": "3.7.4"
  }
 },
 "nbformat": 4,
 "nbformat_minor": 4
}
