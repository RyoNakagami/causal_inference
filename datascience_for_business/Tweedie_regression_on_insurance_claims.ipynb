{
 "cells": [
  {
   "cell_type": "markdown",
   "metadata": {},
   "source": [
    "# Tweedie regression on insurance claims\n",
    "## Agenda\n",
    "\n",
    "- 保険契約テーブルデータを用いて、契約単位毎の支払保険金総額の期待値を導出する([here](https://scikit-learn.org/dev/auto_examples/linear_model/plot_tweedie_regression_insurance_claims.html#frequency-model-poisson-distribution))\n",
    "- sklearnになれる\n"
   ]
  },
  {
   "cell_type": "markdown",
   "metadata": {},
   "source": [
    "### Hardware"
   ]
  },
  {
   "cell_type": "code",
   "execution_count": 1,
   "metadata": {},
   "outputs": [
    {
     "name": "stdout",
     "output_type": "stream",
     "text": [
      "      Model Identifier: MacBookPro13,1\n",
      "      Processor Name: Dual-Core Intel Core i5\n",
      "      Processor Speed: 2 GHz\n",
      "      Number of Processors: 1\n",
      "      Memory: 16 GB\n"
     ]
    }
   ],
   "source": [
    "%%bash\n",
    "system_profiler SPHardwareDataType | grep -E \\\n",
    "\"Model Identifier\"\\|\"Processor Name\"\\|\"Processor Speed\"\\\n",
    "\\|\"Number of Processors\"\\|\"Memory:\""
   ]
  },
  {
   "cell_type": "markdown",
   "metadata": {},
   "source": [
    "### Python"
   ]
  },
  {
   "cell_type": "code",
   "execution_count": 2,
   "metadata": {},
   "outputs": [
    {
     "name": "stdout",
     "output_type": "stream",
     "text": [
      "Python 3.7.4\n"
     ]
    }
   ],
   "source": [
    "!python -V"
   ]
  },
  {
   "cell_type": "markdown",
   "metadata": {},
   "source": [
    "### Install packages"
   ]
  },
  {
   "cell_type": "code",
   "execution_count": 3,
   "metadata": {},
   "outputs": [],
   "source": [
    "#!pip install --upgrade scikit-learn==0.23.1"
   ]
  },
  {
   "cell_type": "markdown",
   "metadata": {},
   "source": [
    "### Import"
   ]
  },
  {
   "cell_type": "code",
   "execution_count": 4,
   "metadata": {},
   "outputs": [],
   "source": [
    "from functools import partial\n",
    "import warnings\n",
    "\n",
    "import numpy as np\n",
    "import matplotlib.pyplot as plt\n",
    "import pandas as pd\n",
    "\n",
    "from sklearn.datasets import fetch_openml\n",
    "from sklearn.compose import ColumnTransformer\n",
    "\n",
    "from sklearn.dummy import DummyRegressor\n",
    "from sklearn.pipeline import Pipeline\n",
    "from sklearn.linear_model import PoissonRegressor, GammaRegressor\n",
    "from sklearn.linear_model import TweedieRegressor\n",
    "from sklearn.model_selection import train_test_split\n",
    "from sklearn.pipeline import make_pipeline\n",
    "from sklearn.preprocessing import FunctionTransformer, OneHotEncoder\n",
    "from sklearn.preprocessing import StandardScaler, KBinsDiscretizer\n",
    "\n",
    "from sklearn.metrics import mean_absolute_error, mean_squared_error, auc, mean_poisson_deviance, mean_tweedie_deviance"
   ]
  },
  {
   "cell_type": "markdown",
   "metadata": {},
   "source": [
    "## Question and Data\n",
    "### Question\n",
    "\n",
    "- 契約単位で、保険会社の支払い保険金金額の予測値を導出する。\n",
    "\n",
    "### Data\n",
    "\n",
    "- 保険会社の保険契約のデータセット (The French Motor Third-Party Liability Claims dataset)\n",
    "- driver age, vehicle age, vehicle power, etc.がカラムに含まれている\n",
    "- [source](https://www.openml.org/d/41214)"
   ]
  },
  {
   "cell_type": "markdown",
   "metadata": {},
   "source": [
    "### Read Dataset part 1\n",
    "\n",
    "- 契約内容のデータセットを取得\n",
    "\n",
    "#### columns\n",
    "\n",
    "- IDpol The policy ID (used to link with the claims dataset)\n",
    "- ClaimNb Number of claims during the exposure period.\n",
    "- Exposure The exposure period.\n",
    "- Area The area code\n",
    "- VehPower The power of the car (ordered categorical).\n",
    "- VehAge The vehicle age, in years.\n",
    "- DrivAge The driver age, in years (in France, people can drive a car at 18). \n",
    "- BonusMalus Bonus/malus, between 50 and 350: 100 means malus in France.\n",
    "- VehBrand The car brand (unknown categories). \n",
    "- VehGas The car gas, Diesel or regular. \n",
    "- Density The density of inhabitants (number of inhabitants per km2) in the city the driver of the car lives in. \n",
    "- Region The policy regions in France (based on a standard French classification)\n",
    "\n"
   ]
  },
  {
   "cell_type": "code",
   "execution_count": 5,
   "metadata": {},
   "outputs": [
    {
     "data": {
      "text/html": [
       "<div>\n",
       "<style scoped>\n",
       "    .dataframe tbody tr th:only-of-type {\n",
       "        vertical-align: middle;\n",
       "    }\n",
       "\n",
       "    .dataframe tbody tr th {\n",
       "        vertical-align: top;\n",
       "    }\n",
       "\n",
       "    .dataframe thead th {\n",
       "        text-align: right;\n",
       "    }\n",
       "</style>\n",
       "<table border=\"1\" class=\"dataframe\">\n",
       "  <thead>\n",
       "    <tr style=\"text-align: right;\">\n",
       "      <th></th>\n",
       "      <th>IDpol</th>\n",
       "      <th>ClaimNb</th>\n",
       "      <th>Exposure</th>\n",
       "      <th>Area</th>\n",
       "      <th>VehPower</th>\n",
       "      <th>VehAge</th>\n",
       "      <th>DrivAge</th>\n",
       "      <th>BonusMalus</th>\n",
       "      <th>VehBrand</th>\n",
       "      <th>VehGas</th>\n",
       "      <th>Density</th>\n",
       "      <th>Region</th>\n",
       "    </tr>\n",
       "  </thead>\n",
       "  <tbody>\n",
       "    <tr>\n",
       "      <th>0</th>\n",
       "      <td>1.0</td>\n",
       "      <td>1.0</td>\n",
       "      <td>0.10</td>\n",
       "      <td>D</td>\n",
       "      <td>5.0</td>\n",
       "      <td>0.0</td>\n",
       "      <td>55.0</td>\n",
       "      <td>50.0</td>\n",
       "      <td>B12</td>\n",
       "      <td>Regular</td>\n",
       "      <td>1217.0</td>\n",
       "      <td>R82</td>\n",
       "    </tr>\n",
       "    <tr>\n",
       "      <th>1</th>\n",
       "      <td>3.0</td>\n",
       "      <td>1.0</td>\n",
       "      <td>0.77</td>\n",
       "      <td>D</td>\n",
       "      <td>5.0</td>\n",
       "      <td>0.0</td>\n",
       "      <td>55.0</td>\n",
       "      <td>50.0</td>\n",
       "      <td>B12</td>\n",
       "      <td>Regular</td>\n",
       "      <td>1217.0</td>\n",
       "      <td>R82</td>\n",
       "    </tr>\n",
       "    <tr>\n",
       "      <th>2</th>\n",
       "      <td>5.0</td>\n",
       "      <td>1.0</td>\n",
       "      <td>0.75</td>\n",
       "      <td>B</td>\n",
       "      <td>6.0</td>\n",
       "      <td>2.0</td>\n",
       "      <td>52.0</td>\n",
       "      <td>50.0</td>\n",
       "      <td>B12</td>\n",
       "      <td>Diesel</td>\n",
       "      <td>54.0</td>\n",
       "      <td>R22</td>\n",
       "    </tr>\n",
       "    <tr>\n",
       "      <th>3</th>\n",
       "      <td>10.0</td>\n",
       "      <td>1.0</td>\n",
       "      <td>0.09</td>\n",
       "      <td>B</td>\n",
       "      <td>7.0</td>\n",
       "      <td>0.0</td>\n",
       "      <td>46.0</td>\n",
       "      <td>50.0</td>\n",
       "      <td>B12</td>\n",
       "      <td>Diesel</td>\n",
       "      <td>76.0</td>\n",
       "      <td>R72</td>\n",
       "    </tr>\n",
       "    <tr>\n",
       "      <th>4</th>\n",
       "      <td>11.0</td>\n",
       "      <td>1.0</td>\n",
       "      <td>0.84</td>\n",
       "      <td>B</td>\n",
       "      <td>7.0</td>\n",
       "      <td>0.0</td>\n",
       "      <td>46.0</td>\n",
       "      <td>50.0</td>\n",
       "      <td>B12</td>\n",
       "      <td>Diesel</td>\n",
       "      <td>76.0</td>\n",
       "      <td>R72</td>\n",
       "    </tr>\n",
       "  </tbody>\n",
       "</table>\n",
       "</div>"
      ],
      "text/plain": [
       "   IDpol  ClaimNb  Exposure Area  VehPower  VehAge  DrivAge  BonusMalus  \\\n",
       "0    1.0      1.0      0.10    D       5.0     0.0     55.0        50.0   \n",
       "1    3.0      1.0      0.77    D       5.0     0.0     55.0        50.0   \n",
       "2    5.0      1.0      0.75    B       6.0     2.0     52.0        50.0   \n",
       "3   10.0      1.0      0.09    B       7.0     0.0     46.0        50.0   \n",
       "4   11.0      1.0      0.84    B       7.0     0.0     46.0        50.0   \n",
       "\n",
       "  VehBrand   VehGas  Density Region  \n",
       "0      B12  Regular   1217.0    R82  \n",
       "1      B12  Regular   1217.0    R82  \n",
       "2      B12   Diesel     54.0    R22  \n",
       "3      B12   Diesel     76.0    R72  \n",
       "4      B12   Diesel     76.0    R72  "
      ]
     },
     "execution_count": 5,
     "metadata": {},
     "output_type": "execute_result"
    }
   ],
   "source": [
    "with warnings.catch_warnings():\n",
    "    warnings.simplefilter('ignore')\n",
    "    df_freq = fetch_openml(data_id=41214, as_frame=True)['data']\n",
    "df_freq.head()"
   ]
  },
  {
   "cell_type": "markdown",
   "metadata": {},
   "source": [
    "契約番号の前処理とindex化"
   ]
  },
  {
   "cell_type": "code",
   "execution_count": 6,
   "metadata": {},
   "outputs": [],
   "source": [
    "df_freq['IDpol'] = df_freq['IDpol'].astype(int)\n",
    "df_freq.set_index('IDpol', inplace=True)"
   ]
  },
  {
   "cell_type": "markdown",
   "metadata": {},
   "source": [
    "### Read Dataset part 2\n",
    "- claim dataの取得"
   ]
  },
  {
   "cell_type": "code",
   "execution_count": 7,
   "metadata": {},
   "outputs": [
    {
     "data": {
      "text/html": [
       "<div>\n",
       "<style scoped>\n",
       "    .dataframe tbody tr th:only-of-type {\n",
       "        vertical-align: middle;\n",
       "    }\n",
       "\n",
       "    .dataframe tbody tr th {\n",
       "        vertical-align: top;\n",
       "    }\n",
       "\n",
       "    .dataframe thead th {\n",
       "        text-align: right;\n",
       "    }\n",
       "</style>\n",
       "<table border=\"1\" class=\"dataframe\">\n",
       "  <thead>\n",
       "    <tr style=\"text-align: right;\">\n",
       "      <th></th>\n",
       "      <th>IDpol</th>\n",
       "      <th>ClaimAmount</th>\n",
       "    </tr>\n",
       "  </thead>\n",
       "  <tbody>\n",
       "    <tr>\n",
       "      <th>0</th>\n",
       "      <td>1552.0</td>\n",
       "      <td>995.20</td>\n",
       "    </tr>\n",
       "    <tr>\n",
       "      <th>1</th>\n",
       "      <td>1010996.0</td>\n",
       "      <td>1128.12</td>\n",
       "    </tr>\n",
       "    <tr>\n",
       "      <th>2</th>\n",
       "      <td>4024277.0</td>\n",
       "      <td>1851.11</td>\n",
       "    </tr>\n",
       "    <tr>\n",
       "      <th>3</th>\n",
       "      <td>4007252.0</td>\n",
       "      <td>1204.00</td>\n",
       "    </tr>\n",
       "    <tr>\n",
       "      <th>4</th>\n",
       "      <td>4046424.0</td>\n",
       "      <td>1204.00</td>\n",
       "    </tr>\n",
       "  </tbody>\n",
       "</table>\n",
       "</div>"
      ],
      "text/plain": [
       "       IDpol  ClaimAmount\n",
       "0     1552.0       995.20\n",
       "1  1010996.0      1128.12\n",
       "2  4024277.0      1851.11\n",
       "3  4007252.0      1204.00\n",
       "4  4046424.0      1204.00"
      ]
     },
     "execution_count": 7,
     "metadata": {},
     "output_type": "execute_result"
    }
   ],
   "source": [
    "with warnings.catch_warnings():\n",
    "    warnings.simplefilter('ignore')\n",
    "    df_sev = fetch_openml(data_id=41215, as_frame=True)['data']\n",
    "df_sev.head()"
   ]
  },
  {
   "cell_type": "markdown",
   "metadata": {},
   "source": [
    "契約番号の前処理"
   ]
  },
  {
   "cell_type": "code",
   "execution_count": 8,
   "metadata": {},
   "outputs": [],
   "source": [
    "df_sev['IDpol'] = df_sev['IDpol'].astype(int)"
   ]
  },
  {
   "cell_type": "code",
   "execution_count": 9,
   "metadata": {},
   "outputs": [
    {
     "data": {
      "text/plain": [
       "2262511    66\n",
       "2282134    36\n",
       "2227533    25\n",
       "2220367    24\n",
       "2277846    23\n",
       "           ..\n",
       "1162205     1\n",
       "173022      1\n",
       "3148642     1\n",
       "4150240     1\n",
       "1081344     1\n",
       "Name: IDpol, Length: 24950, dtype: int64"
      ]
     },
     "execution_count": 9,
     "metadata": {},
     "output_type": "execute_result"
    }
   ],
   "source": [
    "df_sev['IDpol'].value_counts()"
   ]
  },
  {
   "cell_type": "markdown",
   "metadata": {},
   "source": [
    "契約別claimの合計の算出"
   ]
  },
  {
   "cell_type": "code",
   "execution_count": 10,
   "metadata": {},
   "outputs": [],
   "source": [
    "df_sev = df_sev.groupby('IDpol').sum()"
   ]
  },
  {
   "cell_type": "markdown",
   "metadata": {},
   "source": [
    "### 契約dataとクレームdataのmerge\n",
    "\n",
    "- index-basedのmergeなので`join`を活用"
   ]
  },
  {
   "cell_type": "code",
   "execution_count": 11,
   "metadata": {},
   "outputs": [],
   "source": [
    "df = df_freq.join(df_sev, how=\"left\")\n",
    "df[\"ClaimAmount\"].fillna(0, inplace=True)"
   ]
  },
  {
   "cell_type": "code",
   "execution_count": 12,
   "metadata": {},
   "outputs": [
    {
     "name": "stdout",
     "output_type": "stream",
     "text": [
      "<class 'pandas.core.frame.DataFrame'>\n",
      "Int64Index: 678013 entries, 1 to 6114330\n",
      "Data columns (total 12 columns):\n",
      " #   Column       Non-Null Count   Dtype   \n",
      "---  ------       --------------   -----   \n",
      " 0   ClaimNb      678013 non-null  float64 \n",
      " 1   Exposure     678013 non-null  float64 \n",
      " 2   Area         678013 non-null  category\n",
      " 3   VehPower     678013 non-null  float64 \n",
      " 4   VehAge       678013 non-null  float64 \n",
      " 5   DrivAge      678013 non-null  float64 \n",
      " 6   BonusMalus   678013 non-null  float64 \n",
      " 7   VehBrand     678013 non-null  category\n",
      " 8   VehGas       678013 non-null  object  \n",
      " 9   Density      678013 non-null  float64 \n",
      " 10  Region       678013 non-null  category\n",
      " 11  ClaimAmount  678013 non-null  float64 \n",
      "dtypes: category(3), float64(8), object(1)\n",
      "memory usage: 73.7+ MB\n"
     ]
    }
   ],
   "source": [
    "df.info()"
   ]
  },
  {
   "cell_type": "code",
   "execution_count": 13,
   "metadata": {},
   "outputs": [
    {
     "data": {
      "text/html": [
       "<div>\n",
       "<style scoped>\n",
       "    .dataframe tbody tr th:only-of-type {\n",
       "        vertical-align: middle;\n",
       "    }\n",
       "\n",
       "    .dataframe tbody tr th {\n",
       "        vertical-align: top;\n",
       "    }\n",
       "\n",
       "    .dataframe thead th {\n",
       "        text-align: right;\n",
       "    }\n",
       "</style>\n",
       "<table border=\"1\" class=\"dataframe\">\n",
       "  <thead>\n",
       "    <tr style=\"text-align: right;\">\n",
       "      <th></th>\n",
       "      <th>ClaimNb</th>\n",
       "      <th>Exposure</th>\n",
       "      <th>Area</th>\n",
       "      <th>VehPower</th>\n",
       "      <th>VehAge</th>\n",
       "      <th>DrivAge</th>\n",
       "      <th>BonusMalus</th>\n",
       "      <th>VehBrand</th>\n",
       "      <th>VehGas</th>\n",
       "      <th>Density</th>\n",
       "      <th>Region</th>\n",
       "      <th>ClaimAmount</th>\n",
       "    </tr>\n",
       "    <tr>\n",
       "      <th>IDpol</th>\n",
       "      <th></th>\n",
       "      <th></th>\n",
       "      <th></th>\n",
       "      <th></th>\n",
       "      <th></th>\n",
       "      <th></th>\n",
       "      <th></th>\n",
       "      <th></th>\n",
       "      <th></th>\n",
       "      <th></th>\n",
       "      <th></th>\n",
       "      <th></th>\n",
       "    </tr>\n",
       "  </thead>\n",
       "  <tbody>\n",
       "    <tr>\n",
       "      <th>1</th>\n",
       "      <td>1.0</td>\n",
       "      <td>0.10</td>\n",
       "      <td>D</td>\n",
       "      <td>5.0</td>\n",
       "      <td>0.0</td>\n",
       "      <td>55.0</td>\n",
       "      <td>50.0</td>\n",
       "      <td>B12</td>\n",
       "      <td>Regular</td>\n",
       "      <td>1217.0</td>\n",
       "      <td>R82</td>\n",
       "      <td>0.0</td>\n",
       "    </tr>\n",
       "    <tr>\n",
       "      <th>3</th>\n",
       "      <td>1.0</td>\n",
       "      <td>0.77</td>\n",
       "      <td>D</td>\n",
       "      <td>5.0</td>\n",
       "      <td>0.0</td>\n",
       "      <td>55.0</td>\n",
       "      <td>50.0</td>\n",
       "      <td>B12</td>\n",
       "      <td>Regular</td>\n",
       "      <td>1217.0</td>\n",
       "      <td>R82</td>\n",
       "      <td>0.0</td>\n",
       "    </tr>\n",
       "    <tr>\n",
       "      <th>5</th>\n",
       "      <td>1.0</td>\n",
       "      <td>0.75</td>\n",
       "      <td>B</td>\n",
       "      <td>6.0</td>\n",
       "      <td>2.0</td>\n",
       "      <td>52.0</td>\n",
       "      <td>50.0</td>\n",
       "      <td>B12</td>\n",
       "      <td>Diesel</td>\n",
       "      <td>54.0</td>\n",
       "      <td>R22</td>\n",
       "      <td>0.0</td>\n",
       "    </tr>\n",
       "    <tr>\n",
       "      <th>10</th>\n",
       "      <td>1.0</td>\n",
       "      <td>0.09</td>\n",
       "      <td>B</td>\n",
       "      <td>7.0</td>\n",
       "      <td>0.0</td>\n",
       "      <td>46.0</td>\n",
       "      <td>50.0</td>\n",
       "      <td>B12</td>\n",
       "      <td>Diesel</td>\n",
       "      <td>76.0</td>\n",
       "      <td>R72</td>\n",
       "      <td>0.0</td>\n",
       "    </tr>\n",
       "    <tr>\n",
       "      <th>11</th>\n",
       "      <td>1.0</td>\n",
       "      <td>0.84</td>\n",
       "      <td>B</td>\n",
       "      <td>7.0</td>\n",
       "      <td>0.0</td>\n",
       "      <td>46.0</td>\n",
       "      <td>50.0</td>\n",
       "      <td>B12</td>\n",
       "      <td>Diesel</td>\n",
       "      <td>76.0</td>\n",
       "      <td>R72</td>\n",
       "      <td>0.0</td>\n",
       "    </tr>\n",
       "  </tbody>\n",
       "</table>\n",
       "</div>"
      ],
      "text/plain": [
       "       ClaimNb  Exposure Area  VehPower  VehAge  DrivAge  BonusMalus VehBrand  \\\n",
       "IDpol                                                                           \n",
       "1          1.0      0.10    D       5.0     0.0     55.0        50.0      B12   \n",
       "3          1.0      0.77    D       5.0     0.0     55.0        50.0      B12   \n",
       "5          1.0      0.75    B       6.0     2.0     52.0        50.0      B12   \n",
       "10         1.0      0.09    B       7.0     0.0     46.0        50.0      B12   \n",
       "11         1.0      0.84    B       7.0     0.0     46.0        50.0      B12   \n",
       "\n",
       "        VehGas  Density Region  ClaimAmount  \n",
       "IDpol                                        \n",
       "1      Regular   1217.0    R82          0.0  \n",
       "3      Regular   1217.0    R82          0.0  \n",
       "5       Diesel     54.0    R22          0.0  \n",
       "10      Diesel     76.0    R72          0.0  \n",
       "11      Diesel     76.0    R72          0.0  "
      ]
     },
     "execution_count": 13,
     "metadata": {},
     "output_type": "execute_result"
    }
   ],
   "source": [
    "df.head()"
   ]
  },
  {
   "cell_type": "markdown",
   "metadata": {},
   "source": [
    "unquote stringの除去"
   ]
  },
  {
   "cell_type": "code",
   "execution_count": 14,
   "metadata": {},
   "outputs": [],
   "source": [
    "# unquote string fields\n",
    "for column_name in df.columns[df.dtypes.values == np.object]:\n",
    "    df[column_name] = df[column_name].str.strip(\"'\")"
   ]
  },
  {
   "cell_type": "code",
   "execution_count": 15,
   "metadata": {},
   "outputs": [
    {
     "data": {
      "text/html": [
       "<div>\n",
       "<style scoped>\n",
       "    .dataframe tbody tr th:only-of-type {\n",
       "        vertical-align: middle;\n",
       "    }\n",
       "\n",
       "    .dataframe tbody tr th {\n",
       "        vertical-align: top;\n",
       "    }\n",
       "\n",
       "    .dataframe thead th {\n",
       "        text-align: right;\n",
       "    }\n",
       "</style>\n",
       "<table border=\"1\" class=\"dataframe\">\n",
       "  <thead>\n",
       "    <tr style=\"text-align: right;\">\n",
       "      <th></th>\n",
       "      <th>ClaimNb</th>\n",
       "      <th>Exposure</th>\n",
       "      <th>Area</th>\n",
       "      <th>VehPower</th>\n",
       "      <th>VehAge</th>\n",
       "      <th>DrivAge</th>\n",
       "      <th>BonusMalus</th>\n",
       "      <th>VehBrand</th>\n",
       "      <th>VehGas</th>\n",
       "      <th>Density</th>\n",
       "      <th>Region</th>\n",
       "      <th>ClaimAmount</th>\n",
       "    </tr>\n",
       "    <tr>\n",
       "      <th>IDpol</th>\n",
       "      <th></th>\n",
       "      <th></th>\n",
       "      <th></th>\n",
       "      <th></th>\n",
       "      <th></th>\n",
       "      <th></th>\n",
       "      <th></th>\n",
       "      <th></th>\n",
       "      <th></th>\n",
       "      <th></th>\n",
       "      <th></th>\n",
       "      <th></th>\n",
       "    </tr>\n",
       "  </thead>\n",
       "  <tbody>\n",
       "    <tr>\n",
       "      <th>1</th>\n",
       "      <td>1.0</td>\n",
       "      <td>0.10</td>\n",
       "      <td>D</td>\n",
       "      <td>5.0</td>\n",
       "      <td>0.0</td>\n",
       "      <td>55.0</td>\n",
       "      <td>50.0</td>\n",
       "      <td>B12</td>\n",
       "      <td>Regular</td>\n",
       "      <td>1217.0</td>\n",
       "      <td>R82</td>\n",
       "      <td>0.0</td>\n",
       "    </tr>\n",
       "    <tr>\n",
       "      <th>3</th>\n",
       "      <td>1.0</td>\n",
       "      <td>0.77</td>\n",
       "      <td>D</td>\n",
       "      <td>5.0</td>\n",
       "      <td>0.0</td>\n",
       "      <td>55.0</td>\n",
       "      <td>50.0</td>\n",
       "      <td>B12</td>\n",
       "      <td>Regular</td>\n",
       "      <td>1217.0</td>\n",
       "      <td>R82</td>\n",
       "      <td>0.0</td>\n",
       "    </tr>\n",
       "    <tr>\n",
       "      <th>5</th>\n",
       "      <td>1.0</td>\n",
       "      <td>0.75</td>\n",
       "      <td>B</td>\n",
       "      <td>6.0</td>\n",
       "      <td>2.0</td>\n",
       "      <td>52.0</td>\n",
       "      <td>50.0</td>\n",
       "      <td>B12</td>\n",
       "      <td>Diesel</td>\n",
       "      <td>54.0</td>\n",
       "      <td>R22</td>\n",
       "      <td>0.0</td>\n",
       "    </tr>\n",
       "    <tr>\n",
       "      <th>10</th>\n",
       "      <td>1.0</td>\n",
       "      <td>0.09</td>\n",
       "      <td>B</td>\n",
       "      <td>7.0</td>\n",
       "      <td>0.0</td>\n",
       "      <td>46.0</td>\n",
       "      <td>50.0</td>\n",
       "      <td>B12</td>\n",
       "      <td>Diesel</td>\n",
       "      <td>76.0</td>\n",
       "      <td>R72</td>\n",
       "      <td>0.0</td>\n",
       "    </tr>\n",
       "    <tr>\n",
       "      <th>11</th>\n",
       "      <td>1.0</td>\n",
       "      <td>0.84</td>\n",
       "      <td>B</td>\n",
       "      <td>7.0</td>\n",
       "      <td>0.0</td>\n",
       "      <td>46.0</td>\n",
       "      <td>50.0</td>\n",
       "      <td>B12</td>\n",
       "      <td>Diesel</td>\n",
       "      <td>76.0</td>\n",
       "      <td>R72</td>\n",
       "      <td>0.0</td>\n",
       "    </tr>\n",
       "  </tbody>\n",
       "</table>\n",
       "</div>"
      ],
      "text/plain": [
       "       ClaimNb  Exposure Area  VehPower  VehAge  DrivAge  BonusMalus VehBrand  \\\n",
       "IDpol                                                                           \n",
       "1          1.0      0.10    D       5.0     0.0     55.0        50.0      B12   \n",
       "3          1.0      0.77    D       5.0     0.0     55.0        50.0      B12   \n",
       "5          1.0      0.75    B       6.0     2.0     52.0        50.0      B12   \n",
       "10         1.0      0.09    B       7.0     0.0     46.0        50.0      B12   \n",
       "11         1.0      0.84    B       7.0     0.0     46.0        50.0      B12   \n",
       "\n",
       "        VehGas  Density Region  ClaimAmount  \n",
       "IDpol                                        \n",
       "1      Regular   1217.0    R82          0.0  \n",
       "3      Regular   1217.0    R82          0.0  \n",
       "5       Diesel     54.0    R22          0.0  \n",
       "10      Diesel     76.0    R72          0.0  \n",
       "11      Diesel     76.0    R72          0.0  "
      ]
     },
     "execution_count": 15,
     "metadata": {},
     "output_type": "execute_result"
    }
   ],
   "source": [
    "df.head()"
   ]
  },
  {
   "cell_type": "code",
   "execution_count": 16,
   "metadata": {},
   "outputs": [
    {
     "data": {
      "text/html": [
       "<div>\n",
       "<style scoped>\n",
       "    .dataframe tbody tr th:only-of-type {\n",
       "        vertical-align: middle;\n",
       "    }\n",
       "\n",
       "    .dataframe tbody tr th {\n",
       "        vertical-align: top;\n",
       "    }\n",
       "\n",
       "    .dataframe thead th {\n",
       "        text-align: right;\n",
       "    }\n",
       "</style>\n",
       "<table border=\"1\" class=\"dataframe\">\n",
       "  <thead>\n",
       "    <tr style=\"text-align: right;\">\n",
       "      <th></th>\n",
       "      <th>ClaimNb</th>\n",
       "      <th>Exposure</th>\n",
       "      <th>VehPower</th>\n",
       "      <th>VehAge</th>\n",
       "      <th>DrivAge</th>\n",
       "      <th>BonusMalus</th>\n",
       "      <th>Density</th>\n",
       "      <th>ClaimAmount</th>\n",
       "    </tr>\n",
       "  </thead>\n",
       "  <tbody>\n",
       "    <tr>\n",
       "      <th>count</th>\n",
       "      <td>678013.000000</td>\n",
       "      <td>678013.000000</td>\n",
       "      <td>678013.000000</td>\n",
       "      <td>678013.000000</td>\n",
       "      <td>678013.000000</td>\n",
       "      <td>678013.000000</td>\n",
       "      <td>678013.000000</td>\n",
       "      <td>6.780130e+05</td>\n",
       "    </tr>\n",
       "    <tr>\n",
       "      <th>mean</th>\n",
       "      <td>0.053247</td>\n",
       "      <td>0.528750</td>\n",
       "      <td>6.454631</td>\n",
       "      <td>7.044265</td>\n",
       "      <td>45.499122</td>\n",
       "      <td>59.761502</td>\n",
       "      <td>1792.422405</td>\n",
       "      <td>8.835998e+01</td>\n",
       "    </tr>\n",
       "    <tr>\n",
       "      <th>std</th>\n",
       "      <td>0.240117</td>\n",
       "      <td>0.364442</td>\n",
       "      <td>2.050906</td>\n",
       "      <td>5.666232</td>\n",
       "      <td>14.137444</td>\n",
       "      <td>15.636658</td>\n",
       "      <td>3958.646564</td>\n",
       "      <td>5.822454e+03</td>\n",
       "    </tr>\n",
       "    <tr>\n",
       "      <th>min</th>\n",
       "      <td>0.000000</td>\n",
       "      <td>0.002732</td>\n",
       "      <td>4.000000</td>\n",
       "      <td>0.000000</td>\n",
       "      <td>18.000000</td>\n",
       "      <td>50.000000</td>\n",
       "      <td>1.000000</td>\n",
       "      <td>0.000000e+00</td>\n",
       "    </tr>\n",
       "    <tr>\n",
       "      <th>25%</th>\n",
       "      <td>0.000000</td>\n",
       "      <td>0.180000</td>\n",
       "      <td>5.000000</td>\n",
       "      <td>2.000000</td>\n",
       "      <td>34.000000</td>\n",
       "      <td>50.000000</td>\n",
       "      <td>92.000000</td>\n",
       "      <td>0.000000e+00</td>\n",
       "    </tr>\n",
       "    <tr>\n",
       "      <th>50%</th>\n",
       "      <td>0.000000</td>\n",
       "      <td>0.490000</td>\n",
       "      <td>6.000000</td>\n",
       "      <td>6.000000</td>\n",
       "      <td>44.000000</td>\n",
       "      <td>50.000000</td>\n",
       "      <td>393.000000</td>\n",
       "      <td>0.000000e+00</td>\n",
       "    </tr>\n",
       "    <tr>\n",
       "      <th>75%</th>\n",
       "      <td>0.000000</td>\n",
       "      <td>0.990000</td>\n",
       "      <td>7.000000</td>\n",
       "      <td>11.000000</td>\n",
       "      <td>55.000000</td>\n",
       "      <td>64.000000</td>\n",
       "      <td>1658.000000</td>\n",
       "      <td>0.000000e+00</td>\n",
       "    </tr>\n",
       "    <tr>\n",
       "      <th>max</th>\n",
       "      <td>16.000000</td>\n",
       "      <td>2.010000</td>\n",
       "      <td>15.000000</td>\n",
       "      <td>100.000000</td>\n",
       "      <td>100.000000</td>\n",
       "      <td>230.000000</td>\n",
       "      <td>27000.000000</td>\n",
       "      <td>4.075401e+06</td>\n",
       "    </tr>\n",
       "  </tbody>\n",
       "</table>\n",
       "</div>"
      ],
      "text/plain": [
       "             ClaimNb       Exposure       VehPower         VehAge  \\\n",
       "count  678013.000000  678013.000000  678013.000000  678013.000000   \n",
       "mean        0.053247       0.528750       6.454631       7.044265   \n",
       "std         0.240117       0.364442       2.050906       5.666232   \n",
       "min         0.000000       0.002732       4.000000       0.000000   \n",
       "25%         0.000000       0.180000       5.000000       2.000000   \n",
       "50%         0.000000       0.490000       6.000000       6.000000   \n",
       "75%         0.000000       0.990000       7.000000      11.000000   \n",
       "max        16.000000       2.010000      15.000000     100.000000   \n",
       "\n",
       "             DrivAge     BonusMalus        Density   ClaimAmount  \n",
       "count  678013.000000  678013.000000  678013.000000  6.780130e+05  \n",
       "mean       45.499122      59.761502    1792.422405  8.835998e+01  \n",
       "std        14.137444      15.636658    3958.646564  5.822454e+03  \n",
       "min        18.000000      50.000000       1.000000  0.000000e+00  \n",
       "25%        34.000000      50.000000      92.000000  0.000000e+00  \n",
       "50%        44.000000      50.000000     393.000000  0.000000e+00  \n",
       "75%        55.000000      64.000000    1658.000000  0.000000e+00  \n",
       "max       100.000000     230.000000   27000.000000  4.075401e+06  "
      ]
     },
     "execution_count": 16,
     "metadata": {},
     "output_type": "execute_result"
    }
   ],
   "source": [
    "df.describe()"
   ]
  },
  {
   "cell_type": "markdown",
   "metadata": {},
   "source": [
    "保険金支払っていないが`ClaimNb`がpositiveなケースが存在しないようにする"
   ]
  },
  {
   "cell_type": "code",
   "execution_count": 17,
   "metadata": {},
   "outputs": [
    {
     "data": {
      "text/html": [
       "<div>\n",
       "<style scoped>\n",
       "    .dataframe tbody tr th:only-of-type {\n",
       "        vertical-align: middle;\n",
       "    }\n",
       "\n",
       "    .dataframe tbody tr th {\n",
       "        vertical-align: top;\n",
       "    }\n",
       "\n",
       "    .dataframe thead th {\n",
       "        text-align: right;\n",
       "    }\n",
       "</style>\n",
       "<table border=\"1\" class=\"dataframe\">\n",
       "  <thead>\n",
       "    <tr style=\"text-align: right;\">\n",
       "      <th></th>\n",
       "      <th>ClaimNb</th>\n",
       "      <th>Exposure</th>\n",
       "      <th>Area</th>\n",
       "      <th>VehPower</th>\n",
       "      <th>VehAge</th>\n",
       "      <th>DrivAge</th>\n",
       "      <th>BonusMalus</th>\n",
       "      <th>VehBrand</th>\n",
       "      <th>VehGas</th>\n",
       "      <th>Density</th>\n",
       "      <th>Region</th>\n",
       "      <th>ClaimAmount</th>\n",
       "    </tr>\n",
       "    <tr>\n",
       "      <th>IDpol</th>\n",
       "      <th></th>\n",
       "      <th></th>\n",
       "      <th></th>\n",
       "      <th></th>\n",
       "      <th></th>\n",
       "      <th></th>\n",
       "      <th></th>\n",
       "      <th></th>\n",
       "      <th></th>\n",
       "      <th></th>\n",
       "      <th></th>\n",
       "      <th></th>\n",
       "    </tr>\n",
       "  </thead>\n",
       "  <tbody>\n",
       "    <tr>\n",
       "      <th>1</th>\n",
       "      <td>0.0</td>\n",
       "      <td>0.10</td>\n",
       "      <td>D</td>\n",
       "      <td>5.0</td>\n",
       "      <td>0.0</td>\n",
       "      <td>55.0</td>\n",
       "      <td>50.0</td>\n",
       "      <td>B12</td>\n",
       "      <td>Regular</td>\n",
       "      <td>1217.0</td>\n",
       "      <td>R82</td>\n",
       "      <td>0.0</td>\n",
       "    </tr>\n",
       "    <tr>\n",
       "      <th>3</th>\n",
       "      <td>0.0</td>\n",
       "      <td>0.77</td>\n",
       "      <td>D</td>\n",
       "      <td>5.0</td>\n",
       "      <td>0.0</td>\n",
       "      <td>55.0</td>\n",
       "      <td>50.0</td>\n",
       "      <td>B12</td>\n",
       "      <td>Regular</td>\n",
       "      <td>1217.0</td>\n",
       "      <td>R82</td>\n",
       "      <td>0.0</td>\n",
       "    </tr>\n",
       "    <tr>\n",
       "      <th>5</th>\n",
       "      <td>0.0</td>\n",
       "      <td>0.75</td>\n",
       "      <td>B</td>\n",
       "      <td>6.0</td>\n",
       "      <td>2.0</td>\n",
       "      <td>52.0</td>\n",
       "      <td>50.0</td>\n",
       "      <td>B12</td>\n",
       "      <td>Diesel</td>\n",
       "      <td>54.0</td>\n",
       "      <td>R22</td>\n",
       "      <td>0.0</td>\n",
       "    </tr>\n",
       "    <tr>\n",
       "      <th>10</th>\n",
       "      <td>0.0</td>\n",
       "      <td>0.09</td>\n",
       "      <td>B</td>\n",
       "      <td>7.0</td>\n",
       "      <td>0.0</td>\n",
       "      <td>46.0</td>\n",
       "      <td>50.0</td>\n",
       "      <td>B12</td>\n",
       "      <td>Diesel</td>\n",
       "      <td>76.0</td>\n",
       "      <td>R72</td>\n",
       "      <td>0.0</td>\n",
       "    </tr>\n",
       "    <tr>\n",
       "      <th>11</th>\n",
       "      <td>0.0</td>\n",
       "      <td>0.84</td>\n",
       "      <td>B</td>\n",
       "      <td>7.0</td>\n",
       "      <td>0.0</td>\n",
       "      <td>46.0</td>\n",
       "      <td>50.0</td>\n",
       "      <td>B12</td>\n",
       "      <td>Diesel</td>\n",
       "      <td>76.0</td>\n",
       "      <td>R72</td>\n",
       "      <td>0.0</td>\n",
       "    </tr>\n",
       "  </tbody>\n",
       "</table>\n",
       "</div>"
      ],
      "text/plain": [
       "       ClaimNb  Exposure Area  VehPower  VehAge  DrivAge  BonusMalus VehBrand  \\\n",
       "IDpol                                                                           \n",
       "1          0.0      0.10    D       5.0     0.0     55.0        50.0      B12   \n",
       "3          0.0      0.77    D       5.0     0.0     55.0        50.0      B12   \n",
       "5          0.0      0.75    B       6.0     2.0     52.0        50.0      B12   \n",
       "10         0.0      0.09    B       7.0     0.0     46.0        50.0      B12   \n",
       "11         0.0      0.84    B       7.0     0.0     46.0        50.0      B12   \n",
       "\n",
       "        VehGas  Density Region  ClaimAmount  \n",
       "IDpol                                        \n",
       "1      Regular   1217.0    R82          0.0  \n",
       "3      Regular   1217.0    R82          0.0  \n",
       "5       Diesel     54.0    R22          0.0  \n",
       "10      Diesel     76.0    R72          0.0  \n",
       "11      Diesel     76.0    R72          0.0  "
      ]
     },
     "execution_count": 17,
     "metadata": {},
     "output_type": "execute_result"
    }
   ],
   "source": [
    "# requires strictly positive target values.\n",
    "eps = 10e-6\n",
    "df.loc[(abs(df[\"ClaimAmount\"] - 0) < eps) & (df[\"ClaimNb\"] >= 1.0), \"ClaimNb\"] = 0\n",
    "df.head()"
   ]
  },
  {
   "cell_type": "code",
   "execution_count": 18,
   "metadata": {},
   "outputs": [],
   "source": [
    "# Insurances companies are interested in modeling the Pure Premium, that is\n",
    "# the expected total claim amount per unit of exposure for each policyholder\n",
    "# in their portfolio:\n",
    "df[\"PurePremium\"] = df[\"ClaimAmount\"] / df[\"Exposure\"]\n",
    "\n",
    "# This can be indirectly approximated by a 2-step modeling: the product of the\n",
    "# Frequency times the average claim amount per claim:\n",
    "df[\"Frequency\"] = df[\"ClaimNb\"] / df[\"Exposure\"]\n",
    "df[\"AvgClaimAmount\"] = df[\"ClaimAmount\"] / np.fmax(df[\"ClaimNb\"], 1) ## elementwise max"
   ]
  },
  {
   "cell_type": "markdown",
   "metadata": {},
   "source": [
    "### Outlierの除去"
   ]
  },
  {
   "cell_type": "code",
   "execution_count": 19,
   "metadata": {},
   "outputs": [],
   "source": [
    "# Correct for unreasonable observations (that might be data error)\n",
    "# and a few exceptionally large claim amounts\n",
    "df[\"ClaimNb\"] = df[\"ClaimNb\"].clip(upper=4)\n",
    "df[\"Exposure\"] = df[\"Exposure\"].clip(upper=1)\n",
    "df[\"ClaimAmount\"] = df[\"ClaimAmount\"].clip(upper=200000)"
   ]
  },
  {
   "cell_type": "markdown",
   "metadata": {},
   "source": [
    "### Preprocessing"
   ]
  },
  {
   "cell_type": "code",
   "execution_count": 20,
   "metadata": {},
   "outputs": [],
   "source": [
    "log_scale_transformer = make_pipeline(\n",
    "    FunctionTransformer(func=np.log),\n",
    "    StandardScaler()\n",
    ")\n",
    "\n",
    "column_trans = ColumnTransformer(\n",
    "    [\n",
    "        (\"binned_numeric\", KBinsDiscretizer(n_bins=10),\n",
    "            [\"VehAge\", \"DrivAge\"]),\n",
    "        (\"onehot_categorical\", OneHotEncoder(),\n",
    "            [\"VehBrand\", \"VehPower\", \"VehGas\", \"Region\", \"Area\"]),\n",
    "        (\"passthrough_numeric\", \"passthrough\",\n",
    "            [\"BonusMalus\"]),\n",
    "        (\"log_scaled_numeric\", log_scale_transformer,\n",
    "            [\"Density\"]),\n",
    "    ],\n",
    "    remainder=\"drop\",\n",
    ")"
   ]
  },
  {
   "cell_type": "code",
   "execution_count": 21,
   "metadata": {},
   "outputs": [],
   "source": [
    "X = column_trans.fit_transform(df)"
   ]
  },
  {
   "cell_type": "code",
   "execution_count": 22,
   "metadata": {},
   "outputs": [
    {
     "name": "stdout",
     "output_type": "stream",
     "text": [
      "       ClaimNb  Exposure Area  VehPower  VehAge  DrivAge  BonusMalus VehBrand  \\\n",
      "IDpol                                                                           \n",
      "139        1.0      0.75    F       7.0     1.0     61.0        50.0      B12   \n",
      "190        1.0      0.14    B      12.0     5.0     50.0        60.0      B12   \n",
      "414        1.0      0.14    E       4.0     0.0     36.0        85.0      B12   \n",
      "424        2.0      0.62    F      10.0     0.0     51.0       100.0      B12   \n",
      "463        1.0      0.31    A       5.0     0.0     45.0        50.0      B12   \n",
      "\n",
      "        VehGas  Density Region  ClaimAmount   PurePremium  Frequency  \\\n",
      "IDpol                                                                  \n",
      "139    Regular  27000.0    R11       303.00    404.000000   1.333333   \n",
      "190     Diesel     56.0    R25      1981.84  14156.000000   7.142857   \n",
      "414    Regular   4792.0    R11      1456.55  10403.928571   7.142857   \n",
      "424    Regular  27000.0    R11     10834.00  17474.193548   3.225806   \n",
      "463    Regular     12.0    R73      3986.67  12860.225806   3.225806   \n",
      "\n",
      "       AvgClaimAmount  \n",
      "IDpol                  \n",
      "139            303.00  \n",
      "190           1981.84  \n",
      "414           1456.55  \n",
      "424           5417.00  \n",
      "463           3986.67  \n"
     ]
    }
   ],
   "source": [
    "with pd.option_context(\"display.max_columns\", 15):\n",
    "    print(df[df.ClaimAmount > 0].head())"
   ]
  },
  {
   "cell_type": "markdown",
   "metadata": {},
   "source": [
    "## Frequency model – Poisson distribution\n",
    "\n",
    "```\n",
    "Frequency = ClaimNb / Exposure\n",
    "```\n",
    "\n",
    "として、この`Frequency`のprediction modelを作成したいとする。\n",
    "\n",
    "### 方針\n",
    "\n",
    "- `ClaimNb`がポワソン分布に従っているとナイーブに仮定する\n",
    "- `Exposure`でweightをとった形でGLMを実施する。"
   ]
  },
  {
   "cell_type": "markdown",
   "metadata": {},
   "source": [
    "### EDA"
   ]
  },
  {
   "cell_type": "code",
   "execution_count": 23,
   "metadata": {},
   "outputs": [
    {
     "data": {
      "image/png": "[encoded data removed]",
      "text/plain": [
       "<Figure size 1152x288 with 3 Axes>"
      ]
     },
     "metadata": {
      "needs_background": "light"
     },
     "output_type": "display_data"
    }
   ],
   "source": [
    "fig, (ax0, ax1, ax2) = plt.subplots(ncols=3, figsize=(16, 4))\n",
    "ax0.set_title(\"Number of claims\")\n",
    "_ = df[\"ClaimNb\"].hist(bins=30, log=True, ax=ax0)\n",
    "ax1.set_title(\"Exposure in years\")\n",
    "_ = df[\"Exposure\"].hist(bins=30, log=True, ax=ax1)\n",
    "ax2.set_title(\"Frequency (number of claims per year)\")\n",
    "_ = df[\"Frequency\"].hist(bins=30, log=True, ax=ax2)"
   ]
  },
  {
   "cell_type": "code",
   "execution_count": 24,
   "metadata": {},
   "outputs": [
    {
     "name": "stdout",
     "output_type": "stream",
     "text": [
      "Average Frequency = 0.11862696859375195\n",
      "Weighted Average Frequency = 0.07377842992512985\n",
      "Fraction of exposure with zero claims = 95.2%\n"
     ]
    }
   ],
   "source": [
    "print(\"Average Frequency = {}\"\n",
    "      .format(np.average(df[\"Frequency\"])))\n",
    "\n",
    "print(\"Weighted Average Frequency = {}\"\n",
    "      .format(np.average(df[\"Frequency\"], weights=df[\"Exposure\"])))\n",
    "\n",
    "print(\"Fraction of exposure with zero claims = {0:.1%}\"\n",
    "      .format(df.loc[df[\"ClaimNb\"] == 0, \"Exposure\"].sum() /\n",
    "              df[\"Exposure\"].sum()))"
   ]
  },
  {
   "cell_type": "markdown",
   "metadata": {},
   "source": [
    "#### REMARK\n",
    "\n",
    "- over 95% of the policyholderがzero claimsというimbalanced dataという特徴になっている\n",
    "- 単純なモデルでも95% accuracyが達成できる\n"
   ]
  },
  {
   "cell_type": "markdown",
   "metadata": {},
   "source": [
    "### A constant prediction baseline\n",
    "\n",
    "- baselineとして、dummy estimatorを作成する\n",
    "- dummy estimatorはtraining sampleのmean frequencyを出力するとする"
   ]
  },
  {
   "cell_type": "code",
   "execution_count": 25,
   "metadata": {},
   "outputs": [],
   "source": [
    "df_train, df_test = train_test_split(df, test_size=0.33, random_state=42)\n",
    "\n",
    "dummy = Pipeline([\n",
    "    (\"preprocessor\", column_trans),\n",
    "    (\"regressor\", DummyRegressor(strategy='mean')),\n",
    "]).fit(df_train, df_train[\"Frequency\"],\n",
    "       regressor__sample_weight=df_train[\"Exposure\"])"
   ]
  },
  {
   "cell_type": "code",
   "execution_count": 26,
   "metadata": {},
   "outputs": [
    {
     "name": "stdout",
     "output_type": "stream",
     "text": [
      "Constant mean frequency evaluation:\n",
      "MSE: 0.260\n",
      "MAE: 0.140\n",
      "mean Poisson deviance: 0.480\n"
     ]
    }
   ],
   "source": [
    "def score_estimator(estimator, df_test):\n",
    "    \"\"\"Score an estimator on the test set.\"\"\"\n",
    "    y_pred = estimator.predict(df_test)\n",
    "\n",
    "    print(\"MSE: %.3f\" %\n",
    "          mean_squared_error(df_test[\"Frequency\"], y_pred,\n",
    "                             sample_weight=df_test[\"Exposure\"]))\n",
    "    print(\"MAE: %.3f\" %\n",
    "          mean_absolute_error(df_test[\"Frequency\"], y_pred,\n",
    "                              sample_weight=df_test[\"Exposure\"]))\n",
    "\n",
    "    # Ignore non-positive predictions, as they are invalid for\n",
    "    # the Poisson deviance.\n",
    "    mask = y_pred > 0\n",
    "    if (~mask).any():\n",
    "        n_masked, n_samples = (~mask).sum(), mask.shape[0]\n",
    "        print(f\"WARNING: Estimator yields invalid, non-positive predictions \"\n",
    "              f\" for {n_masked} samples out of {n_samples}. These predictions \"\n",
    "              f\"are ignored when computing the Poisson deviance.\")\n",
    "\n",
    "    print(\"mean Poisson deviance: %.3f\" %\n",
    "          mean_poisson_deviance(df_test[\"Frequency\"][mask],\n",
    "                                y_pred[mask],\n",
    "                                sample_weight=df_test[\"Exposure\"][mask]))\n",
    "\n",
    "\n",
    "print(\"Constant mean frequency evaluation:\")\n",
    "score_estimator(dummy, df_test)"
   ]
  },
  {
   "cell_type": "markdown",
   "metadata": {},
   "source": [
    "### Model Building"
   ]
  },
  {
   "cell_type": "code",
   "execution_count": 27,
   "metadata": {},
   "outputs": [],
   "source": [
    "def score_estimator(\n",
    "    estimator, X_train, X_test, df_train, df_test, target, weights,\n",
    "    tweedie_powers=None,\n",
    "):\n",
    "    \"\"\"Evaluate an estimator on train and test sets with different metrics\"\"\"\n",
    "\n",
    "    metrics = [\n",
    "        (\"D² explained\", None),   # Use default scorer if it exists\n",
    "        (\"mean abs. error\", mean_absolute_error),\n",
    "        (\"mean squared error\", mean_squared_error),\n",
    "    ]\n",
    "    if tweedie_powers:\n",
    "        metrics += [(\n",
    "            \"mean Tweedie dev p={:.4f}\".format(power),\n",
    "            partial(mean_tweedie_deviance, power=power)\n",
    "        ) for power in tweedie_powers]\n",
    "\n",
    "    res = []\n",
    "    for subset_label, X, df in [\n",
    "        (\"train\", X_train, df_train),\n",
    "        (\"test\", X_test, df_test),\n",
    "    ]:\n",
    "        y, _weights = df[target], df[weights]\n",
    "        for score_label, metric in metrics:\n",
    "            if isinstance(estimator, tuple) and len(estimator) == 2:\n",
    "                # Score the model consisting of the product of frequency and\n",
    "                # severity models.\n",
    "                est_freq, est_sev = estimator\n",
    "                y_pred = est_freq.predict(X) * est_sev.predict(X)\n",
    "            else:\n",
    "                y_pred = estimator.predict(X)\n",
    "\n",
    "            if metric is None:\n",
    "                if not hasattr(estimator, \"score\"):\n",
    "                    continue\n",
    "                score = estimator.score(X, y, sample_weight=_weights)\n",
    "            else:\n",
    "                score = metric(y, y_pred, sample_weight=_weights)\n",
    "\n",
    "            res.append(\n",
    "                {\"subset\": subset_label, \"metric\": score_label, \"score\": score}\n",
    "            )\n",
    "\n",
    "    res = (\n",
    "        pd.DataFrame(res)\n",
    "        .set_index([\"metric\", \"subset\"])\n",
    "        .score.unstack(-1)\n",
    "        .round(4)\n",
    "        .loc[:, ['train', 'test']]\n",
    "    )\n",
    "    return res\n"
   ]
  },
  {
   "cell_type": "code",
   "execution_count": 28,
   "metadata": {},
   "outputs": [
    {
     "name": "stdout",
     "output_type": "stream",
     "text": [
      "Evaluation of PoissonRegressor on target Frequency\n",
      "subset               train    test\n",
      "metric                            \n",
      "D² explained        0.0442  0.0423\n",
      "mean abs. error     0.1376  0.1388\n",
      "mean squared error  0.2565  0.2388\n"
     ]
    }
   ],
   "source": [
    "df_train, df_test, X_train, X_test = train_test_split(df, X, random_state=42)\n",
    "glm_freq = PoissonRegressor(alpha=1e-3, max_iter=400)\n",
    "glm_freq.fit(X_train, df_train[\"Frequency\"],\n",
    "             sample_weight=df_train[\"Exposure\"])\n",
    "scores = score_estimator(\n",
    "    glm_freq,\n",
    "    X_train,\n",
    "    X_test,\n",
    "    df_train,\n",
    "    df_test,\n",
    "    target=\"Frequency\",\n",
    "    weights=\"Exposure\",\n",
    ")\n",
    "print(\"Evaluation of PoissonRegressor on target Frequency\")\n",
    "print(scores)"
   ]
  },
  {
   "cell_type": "markdown",
   "metadata": {},
   "source": [
    "#### plot model performance"
   ]
  },
  {
   "cell_type": "code",
   "execution_count": 29,
   "metadata": {},
   "outputs": [],
   "source": [
    "def plot_obs_pred(df, feature, weight, observed, predicted, y_label=None,\n",
    "                  title=None, ax=None, fill_legend=False):\n",
    "    \"\"\"Plot observed and predicted - aggregated per feature level.\n",
    "\n",
    "    Parameters\n",
    "    ----------\n",
    "    df : DataFrame\n",
    "        input data\n",
    "    feature: str\n",
    "        a column name of df for the feature to be plotted\n",
    "    weight : str\n",
    "        column name of df with the values of weights or exposure\n",
    "    observed : str\n",
    "        a column name of df with the observed target\n",
    "    predicted : DataFrame\n",
    "        a dataframe, with the same index as df, with the predicted target\n",
    "    fill_legend : bool, default=False\n",
    "        whether to show fill_between legend\n",
    "    \"\"\"\n",
    "    # aggregate observed and predicted variables by feature level\n",
    "    df_ = df.loc[:, [feature, weight]].copy()\n",
    "    df_[\"observed\"] = df[observed] * df[weight]\n",
    "    df_[\"predicted\"] = predicted * df[weight]\n",
    "    df_ = (\n",
    "        df_.groupby([feature])[[weight, \"observed\", \"predicted\"]]\n",
    "        .sum()\n",
    "        .assign(observed=lambda x: x[\"observed\"] / x[weight])\n",
    "        .assign(predicted=lambda x: x[\"predicted\"] / x[weight])\n",
    "    )\n",
    "\n",
    "    ax = df_.loc[:, [\"observed\", \"predicted\"]].plot(style=\".\", ax=ax)\n",
    "    y_max = df_.loc[:, [\"observed\", \"predicted\"]].values.max() * 0.8\n",
    "    p2 = ax.fill_between(\n",
    "        df_.index,\n",
    "        0,\n",
    "        y_max * df_[weight] / df_[weight].values.max(),\n",
    "        color=\"g\",\n",
    "        alpha=0.1,\n",
    "    )\n",
    "    if fill_legend:\n",
    "        ax.legend([p2], [\"{} distribution\".format(feature)])\n",
    "    ax.set(\n",
    "        ylabel=y_label if y_label is not None else None,\n",
    "        title=title if title is not None else \"Train: Observed vs Predicted\",\n",
    "    )\n",
    "\n"
   ]
  },
  {
   "cell_type": "code",
   "execution_count": 30,
   "metadata": {},
   "outputs": [
    {
     "data": {
      "image/png": "[encoded data removed]",
      "text/plain": [
       "<Figure size 1152x576 with 4 Axes>"
      ]
     },
     "metadata": {
      "needs_background": "light"
     },
     "output_type": "display_data"
    }
   ],
   "source": [
    "fig, ax = plt.subplots(ncols=2, nrows=2, figsize=(16, 8))\n",
    "fig.subplots_adjust(hspace=0.3, wspace=0.2)\n",
    "\n",
    "plot_obs_pred(\n",
    "    df=df_train,\n",
    "    feature=\"DrivAge\",\n",
    "    weight=\"Exposure\",\n",
    "    observed=\"Frequency\",\n",
    "    predicted=glm_freq.predict(X_train),\n",
    "    y_label=\"Claim Frequency\",\n",
    "    title=\"train data\",\n",
    "    ax=ax[0, 0],\n",
    ")\n",
    "\n",
    "plot_obs_pred(\n",
    "    df=df_test,\n",
    "    feature=\"DrivAge\",\n",
    "    weight=\"Exposure\",\n",
    "    observed=\"Frequency\",\n",
    "    predicted=glm_freq.predict(X_test),\n",
    "    y_label=\"Claim Frequency\",\n",
    "    title=\"test data\",\n",
    "    ax=ax[0, 1],\n",
    "    fill_legend=True\n",
    ")\n",
    "\n",
    "plot_obs_pred(\n",
    "    df=df_test,\n",
    "    feature=\"VehAge\",\n",
    "    weight=\"Exposure\",\n",
    "    observed=\"Frequency\",\n",
    "    predicted=glm_freq.predict(X_test),\n",
    "    y_label=\"Claim Frequency\",\n",
    "    title=\"test data\",\n",
    "    ax=ax[1, 0],\n",
    "    fill_legend=True\n",
    ")\n",
    "\n",
    "plot_obs_pred(\n",
    "    df=df_test,\n",
    "    feature=\"BonusMalus\",\n",
    "    weight=\"Exposure\",\n",
    "    observed=\"Frequency\",\n",
    "    predicted=glm_freq.predict(X_test),\n",
    "    y_label=\"Claim Frequency\",\n",
    "    title=\"test data\",\n",
    "    ax=ax[1, 1],\n",
    "    fill_legend=True\n",
    ")"
   ]
  },
  {
   "cell_type": "markdown",
   "metadata": {},
   "source": [
    "## Severity Model - Gamma distribution\n",
    "\n",
    "- `AvgClaimAmount` (Severity or the mean claim amount)は近似的にGamma Distributionに従うというRule of thumbsがある\n",
    "- Frequency Model同様に同じfeaturesを用いてGLM modelを構築する\n",
    "\n",
    "### 作業方針\n",
    "\n",
    "- `ClaimAmount == 0`はfilter outする（Gamma Distributionのsupportは$(0, \\infty)$のため）\n",
    "- `ClaimNb`をsample_weightとして用いる\n"
   ]
  },
  {
   "cell_type": "code",
   "execution_count": 31,
   "metadata": {},
   "outputs": [
    {
     "name": "stdout",
     "output_type": "stream",
     "text": [
      "Evaluation of GammaRegressor on target AvgClaimAmount\n",
      "subset                     train          test\n",
      "metric                                        \n",
      "D² explained        5.640000e-02 -4.800000e-02\n",
      "mean abs. error     2.263959e+03  2.261139e+03\n",
      "mean squared error  1.034351e+09  1.749719e+08\n"
     ]
    }
   ],
   "source": [
    "mask_train = df_train[\"ClaimAmount\"] > 0\n",
    "mask_test = df_test[\"ClaimAmount\"] > 0\n",
    "\n",
    "glm_sev = GammaRegressor(alpha=10., max_iter=10000)\n",
    "\n",
    "glm_sev.fit(\n",
    "    X_train[mask_train.values],\n",
    "    df_train.loc[mask_train, \"AvgClaimAmount\"],\n",
    "    sample_weight=df_train.loc[mask_train, \"ClaimNb\"],\n",
    ")\n",
    "\n",
    "scores = score_estimator(\n",
    "    glm_sev,\n",
    "    X_train[mask_train.values],\n",
    "    X_test[mask_test.values],\n",
    "    df_train[mask_train],\n",
    "    df_test[mask_test],\n",
    "    target=\"AvgClaimAmount\",\n",
    "    weights=\"ClaimNb\",\n",
    ")\n",
    "print(\"Evaluation of GammaRegressor on target AvgClaimAmount\")\n",
    "print(scores)"
   ]
  },
  {
   "cell_type": "markdown",
   "metadata": {},
   "source": [
    "### REMARK\n",
    "\n",
    "- train dataとtest dataのgoodness of fitが大きく異なっている\n",
    "- overfitの可能性を示唆している"
   ]
  },
  {
   "cell_type": "code",
   "execution_count": 32,
   "metadata": {},
   "outputs": [
    {
     "name": "stdout",
     "output_type": "stream",
     "text": [
      "Mean AvgClaim Amount per policy:              81.70 \n",
      "Mean AvgClaim Amount | NbClaim > 0:           2230.72\n",
      "Predicted Mean AvgClaim Amount | NbClaim > 0: 2052.89\n"
     ]
    }
   ],
   "source": [
    "print(\"Mean AvgClaim Amount per policy:              %.2f \"\n",
    "      % df_train[\"AvgClaimAmount\"].mean())\n",
    "print(\"Mean AvgClaim Amount | NbClaim > 0:           %.2f\"\n",
    "      % df_train[\"AvgClaimAmount\"][df_train[\"AvgClaimAmount\"] > 0].mean())\n",
    "print(\"Predicted Mean AvgClaim Amount | NbClaim > 0: %.2f\"\n",
    "      % glm_sev.predict(X_train).mean())"
   ]
  },
  {
   "cell_type": "code",
   "execution_count": 33,
   "metadata": {},
   "outputs": [
    {
     "data": {
      "image/png": "[encoded data removed]",
      "text/plain": [
       "<Figure size 1152x432 with 2 Axes>"
      ]
     },
     "metadata": {
      "needs_background": "light"
     },
     "output_type": "display_data"
    }
   ],
   "source": [
    "fig, ax = plt.subplots(ncols=1, nrows=2, figsize=(16, 6))\n",
    "\n",
    "plot_obs_pred(\n",
    "    df=df_train.loc[mask_train],\n",
    "    feature=\"DrivAge\",\n",
    "    weight=\"Exposure\",\n",
    "    observed=\"AvgClaimAmount\",\n",
    "    predicted=glm_sev.predict(X_train[mask_train.values]),\n",
    "    y_label=\"Average Claim Severity\",\n",
    "    title=\"train data\",\n",
    "    ax=ax[0],\n",
    ")\n",
    "\n",
    "plot_obs_pred(\n",
    "    df=df_test.loc[mask_test],\n",
    "    feature=\"DrivAge\",\n",
    "    weight=\"Exposure\",\n",
    "    observed=\"AvgClaimAmount\",\n",
    "    predicted=glm_sev.predict(X_test[mask_test.values]),\n",
    "    y_label=\"Average Claim Severity\",\n",
    "    title=\"test data\",\n",
    "    ax=ax[1],\n",
    "    fill_legend=True\n",
    ")\n",
    "plt.tight_layout()"
   ]
  },
  {
   "cell_type": "markdown",
   "metadata": {},
   "source": [
    "### REMARK\n",
    "\n",
    "- `DrivAge`はthe claim severityのインパクトがないと解釈することができる"
   ]
  },
  {
   "cell_type": "markdown",
   "metadata": {},
   "source": [
    "## Pure Premium Modeling via a Product Model vs single TweedieRegressor\n",
    "\n",
    "- Compound Poisson-Gamma distribution of the total claim amountを仮定する\n",
    "- Tweedie distribution with a power parameter between 1 and 2と同じ\n",
    "\n",
    "### powerの探索の仕方\n",
    "\n",
    "- grid searchでstep by stepで探索する\n"
   ]
  },
  {
   "cell_type": "code",
   "execution_count": 34,
   "metadata": {},
   "outputs": [
    {
     "name": "stdout",
     "output_type": "stream",
     "text": [
      "Evaluation of the Product Model and the Tweedie Regressor on target PurePremium\n",
      "                          Product Model               TweedieRegressor              \n",
      "subset                            train          test            train          test\n",
      "D² explained                        NaN           NaN     2.850000e-02  7.100000e-03\n",
      "mean Tweedie dev p=1.5000  7.981070e+01  8.476570e+01     7.873980e+01  8.574130e+01\n",
      "mean Tweedie dev p=1.7000  3.752110e+01  3.920000e+01     3.719950e+01  3.955410e+01\n",
      "mean Tweedie dev p=1.8000  3.070270e+01  3.167800e+01     3.052390e+01  3.189190e+01\n",
      "mean Tweedie dev p=1.9000  3.398220e+01  3.453940e+01     3.388170e+01  3.466900e+01\n",
      "mean Tweedie dev p=1.9900  2.016631e+02  2.018198e+02     2.016027e+02  2.019025e+02\n",
      "mean Tweedie dev p=1.9990  1.915069e+03  1.913404e+03     1.915011e+03  1.913483e+03\n",
      "mean Tweedie dev p=1.9999  1.905207e+04  1.903236e+04     1.905202e+04  1.903244e+04\n",
      "mean abs. error            3.100746e+02  3.132743e+02     3.076609e+02  3.108948e+02\n",
      "mean squared error         3.454080e+08  7.517174e+07     3.453643e+08  7.516563e+07\n"
     ]
    }
   ],
   "source": [
    "glm_pure_premium = TweedieRegressor(power=1.9, alpha=.1, max_iter=10000)\n",
    "glm_pure_premium.fit(X_train, df_train[\"PurePremium\"],\n",
    "                     sample_weight=df_train[\"Exposure\"])\n",
    "\n",
    "tweedie_powers = [1.5, 1.7, 1.8, 1.9, 1.99, 1.999, 1.9999]\n",
    "\n",
    "scores_product_model = score_estimator(\n",
    "    (glm_freq, glm_sev),\n",
    "    X_train,\n",
    "    X_test,\n",
    "    df_train,\n",
    "    df_test,\n",
    "    target=\"PurePremium\",\n",
    "    weights=\"Exposure\",\n",
    "    tweedie_powers=tweedie_powers,\n",
    ")\n",
    "\n",
    "scores_glm_pure_premium = score_estimator(\n",
    "    glm_pure_premium,\n",
    "    X_train,\n",
    "    X_test,\n",
    "    df_train,\n",
    "    df_test,\n",
    "    target=\"PurePremium\",\n",
    "    weights=\"Exposure\",\n",
    "    tweedie_powers=tweedie_powers\n",
    ")\n",
    "\n",
    "scores = pd.concat([scores_product_model, scores_glm_pure_premium],\n",
    "                   axis=1, sort=True,\n",
    "                   keys=('Product Model', 'TweedieRegressor'))\n",
    "print(\"Evaluation of the Product Model and the Tweedie Regressor \"\n",
    "      \"on target PurePremium\")\n",
    "with pd.option_context('display.expand_frame_repr', False):\n",
    "    print(scores)"
   ]
  },
  {
   "cell_type": "code",
   "execution_count": 35,
   "metadata": {},
   "outputs": [
    {
     "name": "stdout",
     "output_type": "stream",
     "text": [
      "subset                                      train          test\n",
      "observed                             3.801911e+07  1.415253e+07\n",
      "predicted, frequency*severity model  4.471684e+07  1.487737e+07\n",
      "predicted, tweedie, power=1.90       4.391249e+07  1.461653e+07\n"
     ]
    }
   ],
   "source": [
    "res = []\n",
    "for subset_label, X, df in [\n",
    "    (\"train\", X_train, df_train),\n",
    "    (\"test\", X_test, df_test),\n",
    "]:\n",
    "    exposure = df[\"Exposure\"].values\n",
    "    res.append(\n",
    "        {\n",
    "            \"subset\": subset_label,\n",
    "            \"observed\": df[\"ClaimAmount\"].values.sum(),\n",
    "            \"predicted, frequency*severity model\": np.sum(\n",
    "                exposure * glm_freq.predict(X) * glm_sev.predict(X)\n",
    "            ),\n",
    "            \"predicted, tweedie, power=%.2f\"\n",
    "            % glm_pure_premium.power: np.sum(\n",
    "                exposure * glm_pure_premium.predict(X)),\n",
    "        }\n",
    "    )\n",
    "\n",
    "print(pd.DataFrame(res).set_index(\"subset\").T)"
   ]
  },
  {
   "cell_type": "markdown",
   "metadata": {},
   "source": [
    "### REMARKS\n",
    "\n",
    "- modelはunderestimateの傾向があることがわかる"
   ]
  },
  {
   "cell_type": "markdown",
   "metadata": {},
   "source": [
    "### Policyholderのrank付け\n",
    "\n",
    "- safest to riskiestにランク付けする\n",
    "- rank付けの結果をx-axisをrank, y-axisをtotal claimとしてplotする(Lorenz curve)\n",
    "- Gini indexを活用（monotonicityが重要）\n",
    "\n"
   ]
  },
  {
   "cell_type": "code",
   "execution_count": 36,
   "metadata": {},
   "outputs": [
    {
     "data": {
      "image/png": "[encoded data removed]",
      "text/plain": [
       "<Figure size 576x576 with 1 Axes>"
      ]
     },
     "metadata": {
      "needs_background": "light"
     },
     "output_type": "display_data"
    }
   ],
   "source": [
    "def lorenz_curve(y_true, y_pred, exposure):\n",
    "    y_true, y_pred = np.asarray(y_true), np.asarray(y_pred)\n",
    "    exposure = np.asarray(exposure)\n",
    "\n",
    "    # order samples by increasing predicted risk:\n",
    "    ranking = np.argsort(y_pred)\n",
    "    ranked_exposure = exposure[ranking]\n",
    "    ranked_pure_premium = y_true[ranking]\n",
    "    cumulated_claim_amount = np.cumsum(ranked_pure_premium * ranked_exposure)\n",
    "    cumulated_claim_amount /= cumulated_claim_amount[-1]\n",
    "    cumulated_samples = np.linspace(0, 1, len(cumulated_claim_amount))\n",
    "    return cumulated_samples, cumulated_claim_amount\n",
    "\n",
    "\n",
    "fig, ax = plt.subplots(figsize=(8, 8))\n",
    "\n",
    "y_pred_product = glm_freq.predict(X_test) * glm_sev.predict(X_test)\n",
    "y_pred_total = glm_pure_premium.predict(X_test)\n",
    "\n",
    "for label, y_pred in [(\"Frequency * Severity model\", y_pred_product),\n",
    "                      (\"Compound Poisson Gamma\", y_pred_total)]:\n",
    "    ordered_samples, cum_claims = lorenz_curve(\n",
    "        df_test[\"PurePremium\"], y_pred, df_test[\"Exposure\"])\n",
    "    gini = 1 - 2 * auc(ordered_samples, cum_claims)\n",
    "    label += \" (Gini index: {:.3f})\".format(gini)\n",
    "    ax.plot(ordered_samples, cum_claims, linestyle=\"-\", label=label)\n",
    "\n",
    "# Oracle model: y_pred == y_test\n",
    "ordered_samples, cum_claims = lorenz_curve(\n",
    "    df_test[\"PurePremium\"], df_test[\"PurePremium\"], df_test[\"Exposure\"])\n",
    "gini = 1 - 2 * auc(ordered_samples, cum_claims)\n",
    "label = \"Oracle (Gini index: {:.3f})\".format(gini)\n",
    "ax.plot(ordered_samples, cum_claims, linestyle=\"-.\", color=\"gray\",\n",
    "        label=label)\n",
    "\n",
    "# Random baseline\n",
    "ax.plot([0, 1], [0, 1], linestyle=\"--\", color=\"black\",\n",
    "        label=\"Random baseline\")\n",
    "ax.set(\n",
    "    title=\"Lorenz Curves\",\n",
    "    xlabel=('Fraction of policyholders\\n'\n",
    "            '(ordered by model from safest to riskiest)'),\n",
    "    ylabel='Fraction of total claim amount'\n",
    ")\n",
    "ax.legend(loc=\"upper left\");"
   ]
  },
  {
   "cell_type": "code",
   "execution_count": null,
   "metadata": {},
   "outputs": [],
   "source": []
  }
 ],
 "metadata": {
  "kernelspec": {
   "display_name": "Python 3",
   "language": "python",
   "name": "python3"
  },
  "language_info": {
   "codemirror_mode": {
    "name": "ipython",
    "version": 3
   },
   "file_extension": ".py",
   "mimetype": "text/x-python",
   "name": "python",
   "nbconvert_exporter": "python",
   "pygments_lexer": "ipython3",
   "version": "3.7.4"
  }
 },
 "nbformat": 4,
 "nbformat_minor": 4
}
