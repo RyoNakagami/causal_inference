{
 "cells": [
  {
   "cell_type": "markdown",
   "metadata": {},
   "source": [
    "# Pythonによる医療データ分析入門 chapter 1"
   ]
  },
  {
   "cell_type": "markdown",
   "metadata": {},
   "source": [
    "### Hardware"
   ]
  },
  {
   "cell_type": "code",
   "execution_count": 1,
   "metadata": {},
   "outputs": [
    {
     "name": "stdout",
     "output_type": "stream",
     "text": [
      "      Model Identifier: MacBookPro13,1\n",
      "      Processor Name: Dual-Core Intel Core i5\n",
      "      Processor Speed: 2 GHz\n",
      "      Number of Processors: 1\n",
      "      Memory: 16 GB\n"
     ]
    }
   ],
   "source": [
    "%%bash\n",
    "system_profiler SPHardwareDataType | grep -E \\\n",
    "\"Model Identifier\"\\|\"Processor Name\"\\|\"Processor Speed\"\\\n",
    "\\|\"Number of Processors\"\\|\"Memory:\""
   ]
  },
  {
   "cell_type": "code",
   "execution_count": 2,
   "metadata": {},
   "outputs": [
    {
     "name": "stdout",
     "output_type": "stream",
     "text": [
      "ProductName:\tMac OS X\n",
      "ProductVersion:\t10.15.4\n",
      "BuildVersion:\t19E287\n"
     ]
    }
   ],
   "source": [
    "!sw_vers"
   ]
  },
  {
   "cell_type": "markdown",
   "metadata": {},
   "source": [
    "### Python"
   ]
  },
  {
   "cell_type": "code",
   "execution_count": 3,
   "metadata": {},
   "outputs": [
    {
     "name": "stdout",
     "output_type": "stream",
     "text": [
      "Python 3.7.4\n"
     ]
    }
   ],
   "source": [
    "!python -V"
   ]
  },
  {
   "cell_type": "markdown",
   "metadata": {},
   "source": [
    "### Import"
   ]
  },
  {
   "cell_type": "code",
   "execution_count": 4,
   "metadata": {},
   "outputs": [],
   "source": [
    "import pandas as pd\n",
    "import numpy as np\n",
    "import matplotlib.pyplot as plt\n",
    "import seaborn as sns"
   ]
  },
  {
   "cell_type": "markdown",
   "metadata": {},
   "source": [
    "### Setting"
   ]
  },
  {
   "cell_type": "code",
   "execution_count": 5,
   "metadata": {},
   "outputs": [],
   "source": [
    "pd.set_option('display.max_columns', None)\n",
    "plt.style.use('default')"
   ]
  },
  {
   "cell_type": "markdown",
   "metadata": {},
   "source": [
    "## 医療データ分析の目的\n",
    "\n",
    "1. あるイベント（死亡・入院・手術・診断など）の発生率rを、性別や年齢などの変数で表現すること\n",
    "2. 分析手法・結果に、医学的・疫学的な解釈性・妥当性を与えること"
   ]
  },
  {
   "cell_type": "markdown",
   "metadata": {},
   "source": [
    "## 1. 死亡率や入院発生率のシミュレーション\n",
    "\n",
    "- 日本の疫学に関する公的統計を利用して、死亡率や入院発生率などを算出し、乱数シミュレーションにより医療データを疑似生成する手法を説明する\n",
    "- データソース：[日本版死亡データベース](http://www.ipss.go.jp/p-toukei/JMD/index.asp)\n"
   ]
  },
  {
   "cell_type": "markdown",
   "metadata": {},
   "source": [
    "### 年齢の定義：ALBとANB\n",
    "\n",
    "- ALB: 満年齢\n",
    "- ANB: 保険年齢"
   ]
  },
  {
   "cell_type": "code",
   "execution_count": 6,
   "metadata": {},
   "outputs": [
    {
     "data": {
      "image/png": "[encoded data removed]",
      "text/plain": [
       "<Figure size 800x300 with 1 Axes>"
      ]
     },
     "metadata": {},
     "output_type": "display_data"
    }
   ],
   "source": [
    "fig, ax = plt.subplots(figsize = (8, 3))\n",
    "ax.annotate(s = '', xytext = [39, 0], xy = [41.5, 0],\n",
    "           arrowprops = dict(arrowstyle = '->', color = 'k'))\n",
    "ax.text(41.65, 0, 'Age(y)', va = 'center', ha = 'center')\n",
    "\n",
    "# ANB\n",
    "ax.plot([39.5, 40.25], [0.5, 0.5], c = 'k')\n",
    "ax.plot([39.5, 39.5], [0, 0.5], c = 'k')\n",
    "ax.plot([40.25, 40.5], [0.5, 0], c = 'k')\n",
    "ax.text(40, 0.75, 'ANB = 40', va = 'center', ha = 'center')\n",
    "\n",
    "# ALB\n",
    "ax.plot([40, 40.75], [-0.5, -0.5], c = 'k')\n",
    "ax.plot([40, 40], [0, -0.5], c = 'k')\n",
    "ax.plot([40.75, 41], [-0.5, 0], c = 'k')\n",
    "ax.text(40, -0.75, 'ALB = 40', va = 'center', ha = 'center')\n",
    "\n",
    "## Age\n",
    "ax.text(39.5, -0.2,'39.5', va = 'center', ha = 'center')\n",
    "ax.text(40, 0.2,'40', va = 'center', ha = 'center')\n",
    "ax.text(40.5, -0.2,'40.5', va = 'center', ha = 'center')\n",
    "ax.text(41, 0.2,'41', va = 'center', ha = 'center')\n",
    "X = np.arange(4)/2 + 39.5\n",
    "Y = np.zeros(4)\n",
    "ax.scatter(X, Y, c = 'k', marker = '|')\n",
    "\n",
    "\n",
    "ax.set_xlim(38.5, 42)\n",
    "ax.set_xticklabels('')\n",
    "ax.set_ylim(-1, 1)\n",
    "ax.set_yticklabels('')\n",
    "ax.tick_params(top = False, bottom = False, left = False)\n",
    "ax.set_title('Concept of ANB and ALB');"
   ]
  },
  {
   "cell_type": "markdown",
   "metadata": {},
   "source": [
    "### 出生比率"
   ]
  },
  {
   "cell_type": "code",
   "execution_count": 7,
   "metadata": {},
   "outputs": [
    {
     "data": {
      "text/html": [
       "<div>\n",
       "<style scoped>\n",
       "    .dataframe tbody tr th:only-of-type {\n",
       "        vertical-align: middle;\n",
       "    }\n",
       "\n",
       "    .dataframe tbody tr th {\n",
       "        vertical-align: top;\n",
       "    }\n",
       "\n",
       "    .dataframe thead th {\n",
       "        text-align: right;\n",
       "    }\n",
       "</style>\n",
       "<table border=\"1\" class=\"dataframe\">\n",
       "  <thead>\n",
       "    <tr style=\"text-align: right;\">\n",
       "      <th></th>\n",
       "      <th>Year</th>\n",
       "      <th>Female</th>\n",
       "      <th>Male</th>\n",
       "      <th>Total</th>\n",
       "    </tr>\n",
       "  </thead>\n",
       "  <tbody>\n",
       "    <tr>\n",
       "      <th>0</th>\n",
       "      <td>1947</td>\n",
       "      <td>1301806</td>\n",
       "      <td>1376986</td>\n",
       "      <td>2678792</td>\n",
       "    </tr>\n",
       "    <tr>\n",
       "      <th>1</th>\n",
       "      <td>1948</td>\n",
       "      <td>1303060</td>\n",
       "      <td>1378564</td>\n",
       "      <td>2681624</td>\n",
       "    </tr>\n",
       "    <tr>\n",
       "      <th>2</th>\n",
       "      <td>1949</td>\n",
       "      <td>1316630</td>\n",
       "      <td>1380008</td>\n",
       "      <td>2696638</td>\n",
       "    </tr>\n",
       "    <tr>\n",
       "      <th>3</th>\n",
       "      <td>1950</td>\n",
       "      <td>1134396</td>\n",
       "      <td>1203111</td>\n",
       "      <td>2337507</td>\n",
       "    </tr>\n",
       "    <tr>\n",
       "      <th>4</th>\n",
       "      <td>1951</td>\n",
       "      <td>1043048</td>\n",
       "      <td>1094641</td>\n",
       "      <td>2137689</td>\n",
       "    </tr>\n",
       "  </tbody>\n",
       "</table>\n",
       "</div>"
      ],
      "text/plain": [
       "   Year   Female     Male    Total\n",
       "0  1947  1301806  1376986  2678792\n",
       "1  1948  1303060  1378564  2681624\n",
       "2  1949  1316630  1380008  2696638\n",
       "3  1950  1134396  1203111  2337507\n",
       "4  1951  1043048  1094641  2137689"
      ]
     },
     "execution_count": 7,
     "metadata": {},
     "output_type": "execute_result"
    }
   ],
   "source": [
    "# delim_whitespaceを指定するとspaceとかtabをdelimiterとして扱う。\n",
    "\n",
    "url = 'http://www.ipss.go.jp/p-toukei/JMD/00/STATS/Births.txt'\n",
    "df_birth = pd.read_csv(url,skiprows = 1, delim_whitespace=True)\n",
    "df_birth.head()"
   ]
  },
  {
   "cell_type": "code",
   "execution_count": 8,
   "metadata": {},
   "outputs": [
    {
     "data": {
      "text/html": [
       "<div>\n",
       "<style scoped>\n",
       "    .dataframe tbody tr th:only-of-type {\n",
       "        vertical-align: middle;\n",
       "    }\n",
       "\n",
       "    .dataframe tbody tr th {\n",
       "        vertical-align: top;\n",
       "    }\n",
       "\n",
       "    .dataframe thead th {\n",
       "        text-align: right;\n",
       "    }\n",
       "</style>\n",
       "<table border=\"1\" class=\"dataframe\">\n",
       "  <thead>\n",
       "    <tr style=\"text-align: right;\">\n",
       "      <th></th>\n",
       "      <th>year</th>\n",
       "      <th>Num</th>\n",
       "      <th>sex</th>\n",
       "    </tr>\n",
       "  </thead>\n",
       "  <tbody>\n",
       "    <tr>\n",
       "      <th>0</th>\n",
       "      <td>1947</td>\n",
       "      <td>1301806</td>\n",
       "      <td>F</td>\n",
       "    </tr>\n",
       "    <tr>\n",
       "      <th>1</th>\n",
       "      <td>1948</td>\n",
       "      <td>1303060</td>\n",
       "      <td>F</td>\n",
       "    </tr>\n",
       "    <tr>\n",
       "      <th>2</th>\n",
       "      <td>1949</td>\n",
       "      <td>1316630</td>\n",
       "      <td>F</td>\n",
       "    </tr>\n",
       "    <tr>\n",
       "      <th>3</th>\n",
       "      <td>1950</td>\n",
       "      <td>1134396</td>\n",
       "      <td>F</td>\n",
       "    </tr>\n",
       "    <tr>\n",
       "      <th>4</th>\n",
       "      <td>1951</td>\n",
       "      <td>1043048</td>\n",
       "      <td>F</td>\n",
       "    </tr>\n",
       "  </tbody>\n",
       "</table>\n",
       "</div>"
      ],
      "text/plain": [
       "   year      Num sex\n",
       "0  1947  1301806   F\n",
       "1  1948  1303060   F\n",
       "2  1949  1316630   F\n",
       "3  1950  1134396   F\n",
       "4  1951  1043048   F"
      ]
     },
     "execution_count": 8,
     "metadata": {},
     "output_type": "execute_result"
    }
   ],
   "source": [
    "df_1 = df_birth.loc[:, ['Year', 'Female']].copy()\n",
    "df_2 = df_birth.loc[:, ['Year', 'Male']].copy()\n",
    "\n",
    "for i in [df_1, df_2]:\n",
    "    i.columns = ['year', 'Num']\n",
    "df_1['sex'] = 'F'\n",
    "df_2['sex'] = 'M'\n",
    "\n",
    "df_birth_2 = pd.concat([df_1, df_2], axis= 0, ignore_index  = True)\n",
    "df_birth_2.head()"
   ]
  },
  {
   "cell_type": "markdown",
   "metadata": {},
   "source": [
    "累積比率を計算する"
   ]
  },
  {
   "cell_type": "code",
   "execution_count": 9,
   "metadata": {},
   "outputs": [
    {
     "data": {
      "text/html": [
       "<div>\n",
       "<style scoped>\n",
       "    .dataframe tbody tr th:only-of-type {\n",
       "        vertical-align: middle;\n",
       "    }\n",
       "\n",
       "    .dataframe tbody tr th {\n",
       "        vertical-align: top;\n",
       "    }\n",
       "\n",
       "    .dataframe thead th {\n",
       "        text-align: right;\n",
       "    }\n",
       "</style>\n",
       "<table border=\"1\" class=\"dataframe\">\n",
       "  <thead>\n",
       "    <tr style=\"text-align: right;\">\n",
       "      <th></th>\n",
       "      <th>year</th>\n",
       "      <th>Num</th>\n",
       "      <th>sex</th>\n",
       "      <th>ratio</th>\n",
       "      <th>cum_ratio</th>\n",
       "    </tr>\n",
       "  </thead>\n",
       "  <tbody>\n",
       "    <tr>\n",
       "      <th>0</th>\n",
       "      <td>1947</td>\n",
       "      <td>1301806</td>\n",
       "      <td>F</td>\n",
       "      <td>0.012150</td>\n",
       "      <td>0.012150</td>\n",
       "    </tr>\n",
       "    <tr>\n",
       "      <th>1</th>\n",
       "      <td>1948</td>\n",
       "      <td>1303060</td>\n",
       "      <td>F</td>\n",
       "      <td>0.012162</td>\n",
       "      <td>0.024311</td>\n",
       "    </tr>\n",
       "    <tr>\n",
       "      <th>2</th>\n",
       "      <td>1949</td>\n",
       "      <td>1316630</td>\n",
       "      <td>F</td>\n",
       "      <td>0.012288</td>\n",
       "      <td>0.036600</td>\n",
       "    </tr>\n",
       "    <tr>\n",
       "      <th>3</th>\n",
       "      <td>1950</td>\n",
       "      <td>1134396</td>\n",
       "      <td>F</td>\n",
       "      <td>0.010587</td>\n",
       "      <td>0.047187</td>\n",
       "    </tr>\n",
       "    <tr>\n",
       "      <th>4</th>\n",
       "      <td>1951</td>\n",
       "      <td>1043048</td>\n",
       "      <td>F</td>\n",
       "      <td>0.009735</td>\n",
       "      <td>0.056922</td>\n",
       "    </tr>\n",
       "  </tbody>\n",
       "</table>\n",
       "</div>"
      ],
      "text/plain": [
       "   year      Num sex     ratio  cum_ratio\n",
       "0  1947  1301806   F  0.012150   0.012150\n",
       "1  1948  1303060   F  0.012162   0.024311\n",
       "2  1949  1316630   F  0.012288   0.036600\n",
       "3  1950  1134396   F  0.010587   0.047187\n",
       "4  1951  1043048   F  0.009735   0.056922"
      ]
     },
     "execution_count": 9,
     "metadata": {},
     "output_type": "execute_result"
    }
   ],
   "source": [
    "df_birth_2['ratio'] = df_birth_2['Num']/df_birth_2['Num'].sum()\n",
    "df_birth_2['cum_ratio'] = df_birth_2['ratio'].cumsum()\n",
    "df_birth_2.head()"
   ]
  },
  {
   "cell_type": "markdown",
   "metadata": {},
   "source": [
    "### 月次死亡率\n",
    "\n",
    "IPSSより公表されている死亡率はANBベース。つまり「ちょうどx歳になった人が、これから１年間で死亡する確率」のこと。一方、これkら作成する`df_mortality`はALBベースの月次死亡率。\n",
    "\n",
    "x歳の月次死亡率を$q_x^m$とすると、１年間生存する確率は$(1 - q_x^m)^{12}$、よって年間死亡率は$1 - (1 - q_x^m)^{12}$.これを一次のマクローリン展開で近似すると\n",
    "\n",
    "$$\n",
    "q_x\\approx 12 q^m_x\n",
    "$$"
   ]
  },
  {
   "cell_type": "code",
   "execution_count": 10,
   "metadata": {},
   "outputs": [
    {
     "data": {
      "text/html": [
       "<div>\n",
       "<style scoped>\n",
       "    .dataframe tbody tr th:only-of-type {\n",
       "        vertical-align: middle;\n",
       "    }\n",
       "\n",
       "    .dataframe tbody tr th {\n",
       "        vertical-align: top;\n",
       "    }\n",
       "\n",
       "    .dataframe thead th {\n",
       "        text-align: right;\n",
       "    }\n",
       "</style>\n",
       "<table border=\"1\" class=\"dataframe\">\n",
       "  <thead>\n",
       "    <tr style=\"text-align: right;\">\n",
       "      <th></th>\n",
       "      <th>Year</th>\n",
       "      <th>Age</th>\n",
       "      <th>Female</th>\n",
       "      <th>Male</th>\n",
       "      <th>Total</th>\n",
       "    </tr>\n",
       "  </thead>\n",
       "  <tbody>\n",
       "    <tr>\n",
       "      <th>0</th>\n",
       "      <td>1947</td>\n",
       "      <td>0</td>\n",
       "      <td>0.087401</td>\n",
       "      <td>0.099181</td>\n",
       "      <td>0.093432</td>\n",
       "    </tr>\n",
       "    <tr>\n",
       "      <th>1</th>\n",
       "      <td>1947</td>\n",
       "      <td>1</td>\n",
       "      <td>0.033723</td>\n",
       "      <td>0.034697</td>\n",
       "      <td>0.034220</td>\n",
       "    </tr>\n",
       "    <tr>\n",
       "      <th>2</th>\n",
       "      <td>1947</td>\n",
       "      <td>2</td>\n",
       "      <td>0.016994</td>\n",
       "      <td>0.016804</td>\n",
       "      <td>0.016897</td>\n",
       "    </tr>\n",
       "    <tr>\n",
       "      <th>3</th>\n",
       "      <td>1947</td>\n",
       "      <td>3</td>\n",
       "      <td>0.011412</td>\n",
       "      <td>0.011461</td>\n",
       "      <td>0.011437</td>\n",
       "    </tr>\n",
       "    <tr>\n",
       "      <th>4</th>\n",
       "      <td>1947</td>\n",
       "      <td>4</td>\n",
       "      <td>0.006918</td>\n",
       "      <td>0.007337</td>\n",
       "      <td>0.007130</td>\n",
       "    </tr>\n",
       "  </tbody>\n",
       "</table>\n",
       "</div>"
      ],
      "text/plain": [
       "   Year Age    Female      Male     Total\n",
       "0  1947   0  0.087401  0.099181  0.093432\n",
       "1  1947   1  0.033723  0.034697  0.034220\n",
       "2  1947   2  0.016994  0.016804  0.016897\n",
       "3  1947   3  0.011412  0.011461  0.011437\n",
       "4  1947   4  0.006918  0.007337  0.007130"
      ]
     },
     "execution_count": 10,
     "metadata": {},
     "output_type": "execute_result"
    }
   ],
   "source": [
    "url = 'http://www.ipss.go.jp/p-toukei/JMD/00/STATS/Mx_1x1.txt'\n",
    "df_mortality = pd.read_csv(url,skiprows = 1, delim_whitespace=True, )\n",
    "df_mortality.head()"
   ]
  },
  {
   "cell_type": "code",
   "execution_count": 11,
   "metadata": {},
   "outputs": [
    {
     "name": "stdout",
     "output_type": "stream",
     "text": [
      "<class 'pandas.core.frame.DataFrame'>\n",
      "RangeIndex: 7770 entries, 0 to 7769\n",
      "Data columns (total 5 columns):\n",
      " #   Column  Non-Null Count  Dtype \n",
      "---  ------  --------------  ----- \n",
      " 0   Year    7770 non-null   int64 \n",
      " 1   Age     7770 non-null   object\n",
      " 2   Female  7770 non-null   object\n",
      " 3   Male    7770 non-null   object\n",
      " 4   Total   7770 non-null   object\n",
      "dtypes: int64(1), object(4)\n",
      "memory usage: 303.6+ KB\n"
     ]
    }
   ],
   "source": [
    "df_mortality.info()"
   ]
  },
  {
   "cell_type": "code",
   "execution_count": 12,
   "metadata": {},
   "outputs": [
    {
     "name": "stdout",
     "output_type": "stream",
     "text": [
      "<class 'pandas.core.frame.DataFrame'>\n",
      "Int64Index: 111 entries, 7659 to 7769\n",
      "Data columns (total 5 columns):\n",
      " #   Column  Non-Null Count  Dtype  \n",
      "---  ------  --------------  -----  \n",
      " 0   Year    111 non-null    int16  \n",
      " 1   anb     111 non-null    int8   \n",
      " 2   Female  111 non-null    float64\n",
      " 3   Male    111 non-null    float64\n",
      " 4   Total   111 non-null    float64\n",
      "dtypes: float64(3), int16(1), int8(1)\n",
      "memory usage: 3.8 KB\n"
     ]
    }
   ],
   "source": [
    "df_mortality_2 = df_mortality.loc[df_mortality['Year'] == 2016, :].copy()\n",
    "df_mortality_2['Age'].replace('110+', '110', inplace = True)\n",
    "dict_types = {'Year': 'int16', 'Age': 'int8', 'Female': 'float64', 'Male': 'float64', 'Total':'float64'}\n",
    "df_mortality_2 = df_mortality_2.astype(dict_types)\n",
    "df_mortality_2 = df_mortality_2.rename(columns={\"Age\": \"anb\"})\n",
    "df_mortality_2.info()"
   ]
  },
  {
   "cell_type": "code",
   "execution_count": 13,
   "metadata": {},
   "outputs": [],
   "source": [
    "del df_mortality_2['Total']"
   ]
  },
  {
   "cell_type": "markdown",
   "metadata": {},
   "source": [
    "ここで、医療データにおける年齢はALBなので、ALB基準の死亡率に変換する。ALBx歳のANB基準平均年齢はx + 0.5歳なので、ANB基準年齢xの死亡率を$q_x$とすると、ALB基準年齢x歳の死亡率は$(q_x + q_{x+1})/2$とみなせる。"
   ]
  },
  {
   "cell_type": "code",
   "execution_count": 14,
   "metadata": {},
   "outputs": [
    {
     "data": {
      "text/html": [
       "<div>\n",
       "<style scoped>\n",
       "    .dataframe tbody tr th:only-of-type {\n",
       "        vertical-align: middle;\n",
       "    }\n",
       "\n",
       "    .dataframe tbody tr th {\n",
       "        vertical-align: top;\n",
       "    }\n",
       "\n",
       "    .dataframe thead th {\n",
       "        text-align: right;\n",
       "    }\n",
       "</style>\n",
       "<table border=\"1\" class=\"dataframe\">\n",
       "  <thead>\n",
       "    <tr style=\"text-align: right;\">\n",
       "      <th></th>\n",
       "      <th>Year</th>\n",
       "      <th>alb</th>\n",
       "      <th>Female</th>\n",
       "      <th>Male</th>\n",
       "    </tr>\n",
       "  </thead>\n",
       "  <tbody>\n",
       "    <tr>\n",
       "      <th>7659</th>\n",
       "      <td>2016</td>\n",
       "      <td>0</td>\n",
       "      <td>0.001170</td>\n",
       "      <td>0.001167</td>\n",
       "    </tr>\n",
       "    <tr>\n",
       "      <th>7660</th>\n",
       "      <td>2016</td>\n",
       "      <td>1</td>\n",
       "      <td>0.000244</td>\n",
       "      <td>0.000259</td>\n",
       "    </tr>\n",
       "    <tr>\n",
       "      <th>7661</th>\n",
       "      <td>2016</td>\n",
       "      <td>2</td>\n",
       "      <td>0.000136</td>\n",
       "      <td>0.000155</td>\n",
       "    </tr>\n",
       "    <tr>\n",
       "      <th>7662</th>\n",
       "      <td>2016</td>\n",
       "      <td>3</td>\n",
       "      <td>0.000092</td>\n",
       "      <td>0.000114</td>\n",
       "    </tr>\n",
       "    <tr>\n",
       "      <th>7663</th>\n",
       "      <td>2016</td>\n",
       "      <td>4</td>\n",
       "      <td>0.000085</td>\n",
       "      <td>0.000098</td>\n",
       "    </tr>\n",
       "  </tbody>\n",
       "</table>\n",
       "</div>"
      ],
      "text/plain": [
       "      Year  alb    Female      Male\n",
       "7659  2016    0  0.001170  0.001167\n",
       "7660  2016    1  0.000244  0.000259\n",
       "7661  2016    2  0.000136  0.000155\n",
       "7662  2016    3  0.000092  0.000114\n",
       "7663  2016    4  0.000085  0.000098"
      ]
     },
     "execution_count": 14,
     "metadata": {},
     "output_type": "execute_result"
    }
   ],
   "source": [
    "df_mortality_2['Female'] = (df_mortality_2['Female']+df_mortality_2['Female'].shift(-1))/2\n",
    "df_mortality_2['Male'] = (df_mortality_2['Male']+df_mortality_2['Male'].shift(-1))/2\n",
    "df_mortality_2 = df_mortality_2.rename(columns={\"anb\": \"alb\"})\n",
    "df_mortality_2.head()"
   ]
  },
  {
   "cell_type": "markdown",
   "metadata": {},
   "source": [
    "### 年齢別死亡率plot"
   ]
  },
  {
   "cell_type": "code",
   "execution_count": 15,
   "metadata": {},
   "outputs": [
    {
     "data": {
      "image/png": "[encoded data removed]",
      "text/plain": [
       "<Figure size 800x400 with 1 Axes>"
      ]
     },
     "metadata": {},
     "output_type": "display_data"
    }
   ],
   "source": [
    "fig, ax = plt.subplots(figsize = (8, 4))\n",
    "ax.plot(df_mortality_2.alb, df_mortality_2['Male'],c ='b', label = 'Male')\n",
    "ax.plot(df_mortality_2.alb, df_mortality_2['Female'],c = 'r', label = 'Female')\n",
    "ax.plot([0, 110], [1, 1], c = 'k', ls = '--')\n",
    "ax.set_xlabel('ALB')\n",
    "ax.set_ylabel('Mortality')\n",
    "ax.legend(loc = 'best')\n",
    "ax.set_title('Mortalities', fontsize = 15);"
   ]
  },
  {
   "cell_type": "code",
   "execution_count": 16,
   "metadata": {},
   "outputs": [],
   "source": [
    "df_mortality_2 = df_mortality_2.loc[df_mortality_2['alb']<100, :].copy().reset_index(drop = True)"
   ]
  },
  {
   "cell_type": "markdown",
   "metadata": {},
   "source": [
    "死亡率を年率から月率に変換する"
   ]
  },
  {
   "cell_type": "code",
   "execution_count": 17,
   "metadata": {},
   "outputs": [
    {
     "data": {
      "text/html": [
       "<div>\n",
       "<style scoped>\n",
       "    .dataframe tbody tr th:only-of-type {\n",
       "        vertical-align: middle;\n",
       "    }\n",
       "\n",
       "    .dataframe tbody tr th {\n",
       "        vertical-align: top;\n",
       "    }\n",
       "\n",
       "    .dataframe thead th {\n",
       "        text-align: right;\n",
       "    }\n",
       "</style>\n",
       "<table border=\"1\" class=\"dataframe\">\n",
       "  <thead>\n",
       "    <tr style=\"text-align: right;\">\n",
       "      <th></th>\n",
       "      <th>Year</th>\n",
       "      <th>alb</th>\n",
       "      <th>Female</th>\n",
       "      <th>Male</th>\n",
       "      <th>F_m</th>\n",
       "      <th>M_m</th>\n",
       "    </tr>\n",
       "  </thead>\n",
       "  <tbody>\n",
       "    <tr>\n",
       "      <th>0</th>\n",
       "      <td>2016</td>\n",
       "      <td>0</td>\n",
       "      <td>0.001170</td>\n",
       "      <td>0.001167</td>\n",
       "      <td>0.000098</td>\n",
       "      <td>0.000097</td>\n",
       "    </tr>\n",
       "    <tr>\n",
       "      <th>1</th>\n",
       "      <td>2016</td>\n",
       "      <td>1</td>\n",
       "      <td>0.000244</td>\n",
       "      <td>0.000259</td>\n",
       "      <td>0.000020</td>\n",
       "      <td>0.000022</td>\n",
       "    </tr>\n",
       "    <tr>\n",
       "      <th>2</th>\n",
       "      <td>2016</td>\n",
       "      <td>2</td>\n",
       "      <td>0.000136</td>\n",
       "      <td>0.000155</td>\n",
       "      <td>0.000011</td>\n",
       "      <td>0.000013</td>\n",
       "    </tr>\n",
       "    <tr>\n",
       "      <th>3</th>\n",
       "      <td>2016</td>\n",
       "      <td>3</td>\n",
       "      <td>0.000092</td>\n",
       "      <td>0.000114</td>\n",
       "      <td>0.000008</td>\n",
       "      <td>0.000010</td>\n",
       "    </tr>\n",
       "    <tr>\n",
       "      <th>4</th>\n",
       "      <td>2016</td>\n",
       "      <td>4</td>\n",
       "      <td>0.000085</td>\n",
       "      <td>0.000098</td>\n",
       "      <td>0.000007</td>\n",
       "      <td>0.000008</td>\n",
       "    </tr>\n",
       "    <tr>\n",
       "      <th>...</th>\n",
       "      <td>...</td>\n",
       "      <td>...</td>\n",
       "      <td>...</td>\n",
       "      <td>...</td>\n",
       "      <td>...</td>\n",
       "      <td>...</td>\n",
       "    </tr>\n",
       "    <tr>\n",
       "      <th>95</th>\n",
       "      <td>2016</td>\n",
       "      <td>95</td>\n",
       "      <td>0.209400</td>\n",
       "      <td>0.294640</td>\n",
       "      <td>0.019390</td>\n",
       "      <td>0.028668</td>\n",
       "    </tr>\n",
       "    <tr>\n",
       "      <th>96</th>\n",
       "      <td>2016</td>\n",
       "      <td>96</td>\n",
       "      <td>0.229304</td>\n",
       "      <td>0.317172</td>\n",
       "      <td>0.021471</td>\n",
       "      <td>0.031293</td>\n",
       "    </tr>\n",
       "    <tr>\n",
       "      <th>97</th>\n",
       "      <td>2016</td>\n",
       "      <td>97</td>\n",
       "      <td>0.252797</td>\n",
       "      <td>0.340451</td>\n",
       "      <td>0.023992</td>\n",
       "      <td>0.034089</td>\n",
       "    </tr>\n",
       "    <tr>\n",
       "      <th>98</th>\n",
       "      <td>2016</td>\n",
       "      <td>98</td>\n",
       "      <td>0.285820</td>\n",
       "      <td>0.374441</td>\n",
       "      <td>0.027662</td>\n",
       "      <td>0.038338</td>\n",
       "    </tr>\n",
       "    <tr>\n",
       "      <th>99</th>\n",
       "      <td>2016</td>\n",
       "      <td>99</td>\n",
       "      <td>0.318682</td>\n",
       "      <td>0.414901</td>\n",
       "      <td>0.031471</td>\n",
       "      <td>0.043682</td>\n",
       "    </tr>\n",
       "  </tbody>\n",
       "</table>\n",
       "<p>100 rows × 6 columns</p>\n",
       "</div>"
      ],
      "text/plain": [
       "    Year  alb    Female      Male       F_m       M_m\n",
       "0   2016    0  0.001170  0.001167  0.000098  0.000097\n",
       "1   2016    1  0.000244  0.000259  0.000020  0.000022\n",
       "2   2016    2  0.000136  0.000155  0.000011  0.000013\n",
       "3   2016    3  0.000092  0.000114  0.000008  0.000010\n",
       "4   2016    4  0.000085  0.000098  0.000007  0.000008\n",
       "..   ...  ...       ...       ...       ...       ...\n",
       "95  2016   95  0.209400  0.294640  0.019390  0.028668\n",
       "96  2016   96  0.229304  0.317172  0.021471  0.031293\n",
       "97  2016   97  0.252797  0.340451  0.023992  0.034089\n",
       "98  2016   98  0.285820  0.374441  0.027662  0.038338\n",
       "99  2016   99  0.318682  0.414901  0.031471  0.043682\n",
       "\n",
       "[100 rows x 6 columns]"
      ]
     },
     "execution_count": 17,
     "metadata": {},
     "output_type": "execute_result"
    }
   ],
   "source": [
    "df_mortality_2['F_m'] = 1 - (1 - df_mortality_2['Female'])**(1/12)\n",
    "df_mortality_2['M_m'] = 1 - (1 - df_mortality_2['Male'])**(1/12)\n",
    "df_mortality_2"
   ]
  },
  {
   "cell_type": "markdown",
   "metadata": {},
   "source": [
    "## 2. 加入者情報レコードの疑似生成"
   ]
  },
  {
   "cell_type": "code",
   "execution_count": 18,
   "metadata": {},
   "outputs": [],
   "source": [
    "def t_to_ym(t):\n",
    "    \"\"\"\n",
    "    時刻t（float）を'yyyy/mm'形式の文字列に変換する\n",
    "    \"\"\"\n",
    "    y = int(t)\n",
    "    m = int((t - y)*12)+1\n",
    "    m = max(min(m, 12), 1)\n",
    "    return str(y) + '/' + str(m).zfill(2)"
   ]
  },
  {
   "cell_type": "code",
   "execution_count": 19,
   "metadata": {},
   "outputs": [],
   "source": [
    "def ym_to_t(ym):\n",
    "    y = int(ym[:4])\n",
    "    m = (int(ym[5:])-0.5)/12\n",
    "    return y + m"
   ]
  },
  {
   "cell_type": "code",
   "execution_count": 20,
   "metadata": {},
   "outputs": [],
   "source": [
    "start_study_t = 2010   # 分析開始時点\n",
    "end_study_t = 2019.999 # 分析終了時点\n",
    "\n",
    "# 指数分布のパラメタ\n",
    "mu = 10\n",
    "\n",
    "N = 5000 # sample size\n",
    "family_ratio = 0.3 # 全体のうち、被扶養者の占める割合"
   ]
  },
  {
   "cell_type": "code",
   "execution_count": 21,
   "metadata": {},
   "outputs": [
    {
     "data": {
      "text/html": [
       "<div>\n",
       "<style scoped>\n",
       "    .dataframe tbody tr th:only-of-type {\n",
       "        vertical-align: middle;\n",
       "    }\n",
       "\n",
       "    .dataframe tbody tr th {\n",
       "        vertical-align: top;\n",
       "    }\n",
       "\n",
       "    .dataframe thead th {\n",
       "        text-align: right;\n",
       "    }\n",
       "</style>\n",
       "<table border=\"1\" class=\"dataframe\">\n",
       "  <thead>\n",
       "    <tr style=\"text-align: right;\">\n",
       "      <th></th>\n",
       "      <th>iid</th>\n",
       "      <th>sex</th>\n",
       "      <th>family</th>\n",
       "      <th>birth_ym</th>\n",
       "      <th>start_obs_ym</th>\n",
       "      <th>end_obs_ym</th>\n",
       "    </tr>\n",
       "  </thead>\n",
       "  <tbody>\n",
       "    <tr>\n",
       "      <th>0</th>\n",
       "      <td>i000000</td>\n",
       "      <td>F</td>\n",
       "      <td>2.0</td>\n",
       "      <td>1994/12</td>\n",
       "      <td>2013/03</td>\n",
       "      <td>2022/04</td>\n",
       "    </tr>\n",
       "    <tr>\n",
       "      <th>1</th>\n",
       "      <td>i000001</td>\n",
       "      <td>M</td>\n",
       "      <td>2.0</td>\n",
       "      <td>1950/06</td>\n",
       "      <td>2003/06</td>\n",
       "      <td>2012/11</td>\n",
       "    </tr>\n",
       "    <tr>\n",
       "      <th>2</th>\n",
       "      <td>i000002</td>\n",
       "      <td>F</td>\n",
       "      <td>2.0</td>\n",
       "      <td>1981/05</td>\n",
       "      <td>2006/02</td>\n",
       "      <td>2021/06</td>\n",
       "    </tr>\n",
       "    <tr>\n",
       "      <th>3</th>\n",
       "      <td>i000003</td>\n",
       "      <td>M</td>\n",
       "      <td>1.0</td>\n",
       "      <td>1983/04</td>\n",
       "      <td>2001/01</td>\n",
       "      <td>2012/07</td>\n",
       "    </tr>\n",
       "    <tr>\n",
       "      <th>4</th>\n",
       "      <td>i000004</td>\n",
       "      <td>F</td>\n",
       "      <td>2.0</td>\n",
       "      <td>1960/06</td>\n",
       "      <td>2000/05</td>\n",
       "      <td>2024/05</td>\n",
       "    </tr>\n",
       "  </tbody>\n",
       "</table>\n",
       "</div>"
      ],
      "text/plain": [
       "       iid sex  family birth_ym start_obs_ym end_obs_ym\n",
       "0  i000000   F     2.0  1994/12      2013/03    2022/04\n",
       "1  i000001   M     2.0  1950/06      2003/06    2012/11\n",
       "2  i000002   F     2.0  1981/05      2006/02    2021/06\n",
       "3  i000003   M     1.0  1983/04      2001/01    2012/07\n",
       "4  i000004   F     2.0  1960/06      2000/05    2024/05"
      ]
     },
     "execution_count": 21,
     "metadata": {},
     "output_type": "execute_result"
    }
   ],
   "source": [
    "seed = 42\n",
    "i = 0\n",
    "np.random.seed(seed)\n",
    "df_info = pd.DataFrame()\n",
    "cols = ['iid', 'sex', 'family', 'birth_ym', 'start_obs_ym', 'end_obs_ym']\n",
    "\n",
    "while len(df_info) < N:\n",
    "    r = np.random.rand() # 一様乱数\n",
    "    ss = df_birth_2[df_birth_2['cum_ratio'] >= r].iloc[0]\n",
    "    sex = ss.sex\n",
    "    by = ss.year # Birth year\n",
    "    bt = by + np.random.rand()\n",
    "    bym = t_to_ym(bt)\n",
    "    \n",
    "    start_t = start_study_t - mu + np.random.exponential(mu)\n",
    "    end_t = start_t + np.random.exponential(mu)\n",
    "    \n",
    "    if (end_t < start_study_t ) | (end_study_t < start_t):\n",
    "        pass\n",
    "    else:\n",
    "        df_exposure = pd.DataFrame(np.zeros(len(cols)).reshape(1, -1), columns = cols)\n",
    "        family = 2 - (np.random.rand() > family_ratio)\n",
    "        df_exposure[cols] = ['i' + str(i).zfill(6), sex, family, bym, t_to_ym(start_t), t_to_ym(end_t)]\n",
    "        \n",
    "        df_info = pd.concat([df_info, df_exposure], axis  = 0)\n",
    "        i += 1\n",
    "df_info = df_info.reset_index(drop = True)\n",
    "df_info.head()"
   ]
  },
  {
   "cell_type": "markdown",
   "metadata": {},
   "source": [
    "疑似生成された加入者情報における誕生年の比率が、真の比率に従っていることを図で確認"
   ]
  },
  {
   "cell_type": "code",
   "execution_count": 22,
   "metadata": {},
   "outputs": [
    {
     "data": {
      "image/png": "[encoded data removed]",
      "text/plain": [
       "<Figure size 800x400 with 1 Axes>"
      ]
     },
     "metadata": {},
     "output_type": "display_data"
    }
   ],
   "source": [
    "df_birth_M = df_birth_2.loc[df_birth_2.sex == 'M', ['year', 'ratio']]\n",
    "df_birth_M['ratio'] = df_birth_M.ratio/df_birth_M.ratio.sum()\n",
    "\n",
    "df_info_M = df_info.loc[df_info.sex == 'M', ['birth_ym', 'family']]\n",
    "df_info_M['birth_ym'] = df_info.birth_ym.apply(ym_to_t)//1\n",
    "df_info_M = df_info_M.groupby(['birth_ym']).count()\n",
    "df_info_M = df_info_M/df_info_M.sum()\n",
    "\n",
    "fig, ax = plt.subplots(figsize = (8, 4))\n",
    "ax.plot(df_birth_M.year, df_birth_M.ratio, c = 'k', label = 'True Ratio')\n",
    "ax.plot(df_info_M.index, df_info_M.family, c = 'b', label = 'Reproduced Ratio', lw = 0.5)\n",
    "ax.legend(loc = 'best')\n",
    "ax.set_title('Birth Ratio (M)', fontsize = 15);"
   ]
  },
  {
   "cell_type": "code",
   "execution_count": null,
   "metadata": {},
   "outputs": [],
   "source": []
  },
  {
   "cell_type": "code",
   "execution_count": null,
   "metadata": {},
   "outputs": [],
   "source": []
  }
 ],
 "metadata": {
  "kernelspec": {
   "display_name": "Python 3",
   "language": "python",
   "name": "python3"
  },
  "language_info": {
   "codemirror_mode": {
    "name": "ipython",
    "version": 3
   },
   "file_extension": ".py",
   "mimetype": "text/x-python",
   "name": "python",
   "nbconvert_exporter": "python",
   "pygments_lexer": "ipython3",
   "version": "3.7.4"
  }
 },
 "nbformat": 4,
 "nbformat_minor": 4
}
