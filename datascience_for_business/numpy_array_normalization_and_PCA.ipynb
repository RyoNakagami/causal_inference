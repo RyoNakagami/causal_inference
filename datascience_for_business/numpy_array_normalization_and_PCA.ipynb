{
 "cells": [
  {
   "cell_type": "markdown",
   "metadata": {},
   "source": [
    "# 配列の標準化(normalization)\n",
    "## Agenda\n",
    "\n",
    "- normalizationのnumpyでの実装\n",
    "- PCA実装"
   ]
  },
  {
   "cell_type": "markdown",
   "metadata": {},
   "source": [
    "### Hardware"
   ]
  },
  {
   "cell_type": "code",
   "execution_count": 1,
   "metadata": {},
   "outputs": [
    {
     "name": "stdout",
     "output_type": "stream",
     "text": [
      "      Model Identifier: MacBookPro13,1\n",
      "      Processor Name: Dual-Core Intel Core i5\n",
      "      Processor Speed: 2 GHz\n",
      "      Number of Processors: 1\n",
      "      Memory: 16 GB\n"
     ]
    }
   ],
   "source": [
    "%%bash\n",
    "system_profiler SPHardwareDataType | grep -E \\\n",
    "\"Model Identifier\"\\|\"Processor Name\"\\|\"Processor Speed\"\\\n",
    "\\|\"Number of Processors\"\\|\"Memory:\""
   ]
  },
  {
   "cell_type": "code",
   "execution_count": 2,
   "metadata": {},
   "outputs": [
    {
     "name": "stdout",
     "output_type": "stream",
     "text": [
      "ProductName:\tMac OS X\n",
      "ProductVersion:\t10.15.4\n",
      "BuildVersion:\t19E287\n"
     ]
    }
   ],
   "source": [
    "!sw_vers"
   ]
  },
  {
   "cell_type": "markdown",
   "metadata": {},
   "source": [
    "### Python"
   ]
  },
  {
   "cell_type": "code",
   "execution_count": 3,
   "metadata": {},
   "outputs": [
    {
     "name": "stdout",
     "output_type": "stream",
     "text": [
      "Python 3.7.4\n"
     ]
    }
   ],
   "source": [
    "!python -V"
   ]
  },
  {
   "cell_type": "markdown",
   "metadata": {},
   "source": [
    "### Import"
   ]
  },
  {
   "cell_type": "code",
   "execution_count": 4,
   "metadata": {},
   "outputs": [],
   "source": [
    "import numpy as np\n",
    "import pandas as pd\n",
    "import matplotlib.pyplot as plt\n",
    "\n",
    "from scipy import stats\n",
    "from scipy.sparse.linalg import svds\n",
    "import sklearn\n",
    "import sklearn.decomposition as dec\n",
    "import sklearn.datasets as ds"
   ]
  },
  {
   "cell_type": "markdown",
   "metadata": {},
   "source": [
    "## 1. z-score"
   ]
  },
  {
   "cell_type": "markdown",
   "metadata": {},
   "source": [
    "$$\n",
    "x_{i, zscore} = \\frac{x_i - \\mu}{\\sigma}\n",
    "$$\n",
    "\n",
    "- $\\mu$: mean\n",
    "- $\\sigma$: standard deviation"
   ]
  },
  {
   "cell_type": "code",
   "execution_count": 5,
   "metadata": {},
   "outputs": [],
   "source": [
    "a = np.array([ 0.7972,  0.0767,  0.4383,  0.7866,  0.8091,\n",
    "                0.1954,  0.6307,  0.6599,  0.1065,  0.0508])"
   ]
  },
  {
   "cell_type": "code",
   "execution_count": 6,
   "metadata": {},
   "outputs": [],
   "source": [
    "def zscore(x, axis = None, ddof = 1):\n",
    "    xmean = x.mean(axis = axis, keepdims = True)\n",
    "    xstd = x.std(axis = axis, keepdims = True, ddof = ddof)\n",
    "    zscore = (x - xmean)/xstd\n",
    "    return zscore"
   ]
  },
  {
   "cell_type": "code",
   "execution_count": 7,
   "metadata": {},
   "outputs": [],
   "source": [
    "z = zscore(a)"
   ]
  },
  {
   "cell_type": "code",
   "execution_count": 8,
   "metadata": {},
   "outputs": [],
   "source": [
    "z_scipy = stats.zscore(a, ddof=1)"
   ]
  },
  {
   "cell_type": "code",
   "execution_count": 9,
   "metadata": {},
   "outputs": [
    {
     "data": {
      "text/plain": [
       "True"
      ]
     },
     "execution_count": 9,
     "metadata": {},
     "output_type": "execute_result"
    }
   ],
   "source": [
    "np.all(z == z_scipy)"
   ]
  },
  {
   "cell_type": "markdown",
   "metadata": {},
   "source": [
    "### 2D array"
   ]
  },
  {
   "cell_type": "code",
   "execution_count": 10,
   "metadata": {},
   "outputs": [
    {
     "data": {
      "text/plain": [
       "array([[-0.61357199,  1.43427433],\n",
       "       [-0.61357199,  0.23904572],\n",
       "       [ 0.153393  ,  0.23904572],\n",
       "       [-0.61357199, -0.95618289],\n",
       "       [ 1.68732298, -0.95618289]])"
      ]
     },
     "execution_count": 10,
     "metadata": {},
     "output_type": "execute_result"
    }
   ],
   "source": [
    "## N × K arrayの標準化\n",
    "a = np.random.randint(10, size = (5, 2))\n",
    "b = zscore(a, axis = 0)\n",
    "b"
   ]
  },
  {
   "cell_type": "markdown",
   "metadata": {},
   "source": [
    "## 2. min-max normalization\n",
    "\n",
    "$$\n",
    "x_{i, min-max} = \\frac{x_i - x_{min}}{x_{max} - x_{min}}\n",
    "$$\n",
    "\n",
    "- 想定される分布は一様分布"
   ]
  },
  {
   "cell_type": "code",
   "execution_count": 11,
   "metadata": {},
   "outputs": [],
   "source": [
    "def min_max(x, axis = None):\n",
    "    _min = x.min(axis = axis)\n",
    "    _max = x.max(axis = axis)\n",
    "    res = (x - _min)/(_max - _min)\n",
    "    return res"
   ]
  },
  {
   "cell_type": "code",
   "execution_count": 12,
   "metadata": {},
   "outputs": [
    {
     "data": {
      "text/plain": [
       "array([[0.        , 1.        ],\n",
       "       [0.        , 0.5       ],\n",
       "       [0.33333333, 0.5       ],\n",
       "       [0.        , 0.        ],\n",
       "       [1.        , 0.        ]])"
      ]
     },
     "execution_count": 12,
     "metadata": {},
     "output_type": "execute_result"
    }
   ],
   "source": [
    "min_max(a, axis  = 0)"
   ]
  },
  {
   "cell_type": "markdown",
   "metadata": {},
   "source": [
    "## 3. Norm標準化\n",
    "\n",
    "- vector, matrixのnormの標準化(`norm == 1`)"
   ]
  },
  {
   "cell_type": "code",
   "execution_count": 13,
   "metadata": {},
   "outputs": [],
   "source": [
    "def norm_normalize(x, axis  = 1, order = 2):\n",
    "    l_norm = np.linalg.norm(x, ord = order, axis  = axis, keepdims = True)\n",
    "    l_norm[l_norm == 0.0] = 1\n",
    "    return x/l_norm"
   ]
  },
  {
   "cell_type": "code",
   "execution_count": 14,
   "metadata": {},
   "outputs": [
    {
     "data": {
      "text/plain": [
       "array([[0.27472113, 0.96152395],\n",
       "       [0.31622777, 0.9486833 ],\n",
       "       [0.5547002 , 0.83205029],\n",
       "       [0.37139068, 0.92847669],\n",
       "       [0.8479983 , 0.52999894]])"
      ]
     },
     "execution_count": 14,
     "metadata": {},
     "output_type": "execute_result"
    }
   ],
   "source": [
    "b = norm_normalize(a)\n",
    "b"
   ]
  },
  {
   "cell_type": "code",
   "execution_count": 15,
   "metadata": {},
   "outputs": [
    {
     "data": {
      "text/plain": [
       "array([1., 1., 1., 1., 1.])"
      ]
     },
     "execution_count": 15,
     "metadata": {},
     "output_type": "execute_result"
    }
   ],
   "source": [
    "np.sum(b*b, axis = 1)"
   ]
  },
  {
   "cell_type": "markdown",
   "metadata": {},
   "source": [
    "## 4. なぜscalingが重要なのか？: Principal component analysis\n",
    "\n",
    "- SVM, K-nearest neighbors, PCA, and logistic regressionといったalgorithmは正規化が必要とされている\n",
    "- PCAを例とすると、PCAはvarianceを最大化するcomponentの計算が求められるがスケールに応じてvarianceの評価が異なってしまう可能性があるので、事前にre-scalingが必要とされる"
   ]
  },
  {
   "cell_type": "markdown",
   "metadata": {},
   "source": [
    "### PCAとは？\n",
    "\n",
    "- dimensionality reductionの手法\n",
    "- p-dimensional vectorsを q-dimensional subspaceへ写すことを考えるとき、varianceを最大化するprojectionを見つける手法といえる\n",
    "- 低次元の空間に射影し、射影後の点の散らばりができるだけ大きくなるようにする\n",
    "\n",
    "### 活用場面\n",
    "- 多変量データを少ない変数に要約したいとき\n",
    "- 次元削減\n",
    "- unsupervised learningの一種としても扱われる\n",
    "\n",
    "### PCAの作業工程\n",
    "\n",
    "1. データの標準化:中心化，分散の基準化\n",
    "2. 分散共分散行列の計算\n",
    "3. 分散共分散行列を固有値固有ベクトル分解\n",
    "4. 固有値の大きい方からいくつかの固有値固有ベクトルを取ってくる(= 主成分)\n",
    "5. 主成分にデータを射影して視覚化および回帰などの処理を続行\n"
   ]
  },
  {
   "cell_type": "markdown",
   "metadata": {},
   "source": [
    "### バラツキ(分散)が最大の方向の計算\n",
    "\n",
    "ある方向ベクトルを$v(||v|| = 1)$とおく。この方向への$x$の長さは、内積$v^Tx$で求まる。よって、$v^Tx_i$の分散は\n",
    "\n",
    "$$\n",
    "\\frac{1}{n-1}\\sum_{i=1}^N[v^T(x_i - \\mu)]^2 = v^T\\left(\\frac{1}{n-1}\\sum (x_i - \\mu)(x_i - \\mu)^T\\right)v = v^T\\Sigma v\n",
    "$$\n",
    "\n",
    "となる。PCAこれを最大化するvを求めること、つまり\n",
    "\n",
    "$$\n",
    "\\max_{v:||v||=1}v^T\\Sigma v\n",
    "$$\n",
    "\n",
    "つまり、最大固有値に対応する固有ベクトルを求めることになる。\n",
    "\n",
    "<img src = \"https://github.com/RyoNakagami/omorikaizuka/blob/master/algorithm/固有値.jpg?raw=true\">"
   ]
  },
  {
   "cell_type": "markdown",
   "metadata": {},
   "source": [
    "### 最大固有値とPCA\n",
    "\n",
    "$$\n",
    "\\begin{aligned}\n",
    "\\max_{v:||v||=1}v^T\\Sigma v & = \\max_{v:||v||=1}v^TV\\Lambda V v\\\\\n",
    "&=\\max_{v:||v||=1}v^T\\Lambda  v \\  \\ (\\because ||Vv|| = 1 \\Longleftrightarrow ||v|| = 1)\\\\\n",
    "&=\\max_{v:||v||=1}\\sum_{j=1}^dv_j^2\\lambda_j\\\\\n",
    "&=\\lambda_1\n",
    "\\end{aligned}\n",
    "$$\n",
    "\n",
    "- 以下同様に第 j 主成分は j 番目の固有ベクトル $v_j$ である."
   ]
  },
  {
   "cell_type": "markdown",
   "metadata": {},
   "source": [
    "### Iris datasetとPCA"
   ]
  },
  {
   "cell_type": "code",
   "execution_count": 16,
   "metadata": {},
   "outputs": [],
   "source": [
    "iris  = ds.load_iris()"
   ]
  },
  {
   "cell_type": "code",
   "execution_count": 17,
   "metadata": {},
   "outputs": [
    {
     "data": {
      "image/png": "[encoded data removed]",
      "text/plain": [
       "<Figure size 720x504 with 1 Axes>"
      ]
     },
     "metadata": {
      "needs_background": "light"
     },
     "output_type": "display_data"
    }
   ],
   "source": [
    "fig, ax  = plt.subplots(1, 1, figsize = (10, 7))\n",
    "X = iris.data\n",
    "y = iris.target\n",
    "ax.scatter(X[:, 0], X[:, 1], c = y, cmap = plt.cm.rainbow);"
   ]
  },
  {
   "cell_type": "code",
   "execution_count": 18,
   "metadata": {},
   "outputs": [],
   "source": [
    "### 正規化\n",
    "X = zscore(X)"
   ]
  },
  {
   "cell_type": "code",
   "execution_count": 19,
   "metadata": {},
   "outputs": [],
   "source": [
    "### covariance matrix\n",
    "cov_matrix = np.cov(X, rowvar=0, bias= False)"
   ]
  },
  {
   "cell_type": "code",
   "execution_count": 20,
   "metadata": {},
   "outputs": [],
   "source": [
    "### 固有値と固有ベクトルの計算\n",
    "w, v = np.linalg.eig(cov_matrix)\n",
    "ind = np.argsort(w)[::-1]\n",
    "w, v = w[ind], v[:,ind]"
   ]
  },
  {
   "cell_type": "code",
   "execution_count": 21,
   "metadata": {},
   "outputs": [
    {
     "data": {
      "text/plain": [
       "array([0.92461872, 0.05306648, 0.01710261, 0.00521218])"
      ]
     },
     "execution_count": 21,
     "metadata": {},
     "output_type": "execute_result"
    }
   ],
   "source": [
    "### 寄与率の計算\n",
    "w/np.sum(w)"
   ]
  },
  {
   "cell_type": "code",
   "execution_count": 22,
   "metadata": {},
   "outputs": [],
   "source": [
    "#主成分スコアの計算\n",
    "X_pca = X @ v"
   ]
  },
  {
   "cell_type": "code",
   "execution_count": 23,
   "metadata": {},
   "outputs": [
    {
     "data": {
      "image/png": "[encoded data removed]",
      "text/plain": [
       "<Figure size 720x504 with 1 Axes>"
      ]
     },
     "metadata": {
      "needs_background": "light"
     },
     "output_type": "display_data"
    }
   ],
   "source": [
    "fig, ax  = plt.subplots(1, 1, figsize = (10, 7))\n",
    "ax.scatter(X_pca[:, 0], X_pca[:, 1], c = y, cmap = plt.cm.rainbow);"
   ]
  },
  {
   "cell_type": "markdown",
   "metadata": {},
   "source": [
    "## 5. PCA in detail\n",
    "\n",
    "- $w_1$: 射影する先のベクトル、$||w_1||=1$\n",
    "- $\\{x_i\\}^n_{i=1}$: data\n",
    "\n",
    "$(w_1\\cdot x_i)w_1$は$x_i$を$w_1$に射影したときのベクトルとなる。\n",
    "\n",
    "PCAは$\\{w_1\\cdot x_i)\\}^n_{i=1}$の分散を最大化することで求められるので\n",
    "\n",
    "$$\n",
    "\\begin{aligned}\n",
    "\\frac{1}{n}\\sum ||w_1^Tx_i - w_1^T\\bar x||^2 & = \\frac{1}{n}\\sum \\{w_1^T(x_i - \\bar x)\\}\\{(x_i - \\bar x)^Tw_1\\}\\\\\n",
    "& = w_1\\left[\\frac{1}{n}\\sum(x_i - \\bar x)(x_i - \\bar x)^T\\right]w_1\\\\\n",
    "& = w_1Sw_1\\\\\n",
    "\\end{aligned}\n",
    "$$\n",
    "\n",
    "つまり、これを変形すると\n",
    "\n",
    "$$\n",
    "\\max_{w_1} w_1Sw_1 \\text{ subject to } w_1^Tw_1 = 1\n",
    "$$\n",
    "\n",
    "ラグランジュ乗数法を用いると、\n",
    "\n",
    "$$\n",
    "\\frac{\\partial L}{\\partial w_1} = 2Sw_1 - 2\\lambda_1w_1 = 0\n",
    "$$\n",
    "\n",
    "つまり、\n",
    "$$\n",
    "Sw_1 = \\lambda_1 w_1\n",
    "$$\n",
    "\n",
    "目的関数を最大化するためには$\\lambda_1$も最大化されなくてはならないので、PCAはSの最大固有値の固有ベクトルを求めることに相当することがわかる。\n"
   ]
  },
  {
   "cell_type": "markdown",
   "metadata": {},
   "source": [
    "### 実装方針\n",
    "1. covariance matrix Sを計算する\n",
    "2. Sを特異値分解し、$S = U\\Sigma V$とし、Vの上からc行取り出したものを$V^c$とする\n",
    "3. 与えられたベクトル$x$(data)に対して$V^cx$を計算する"
   ]
  },
  {
   "cell_type": "code",
   "execution_count": 24,
   "metadata": {},
   "outputs": [],
   "source": [
    "class PCA:\n",
    "    def __init__(self,n_components=2, tol = 0.0, random_seed = 42):\n",
    "        self.n_components = n_components ## the number of singular value\n",
    "        self.tol = tol\n",
    "        self.random_seed = np.random.RandomState(random_seed)\n",
    "    \n",
    "    def fit(self, X):\n",
    "        v0 = self.random_seed.randn(min(X.shape)) ## initial value\n",
    "        S = np.cov(X, rowvar=0, bias= False)\n",
    "        U, Sigma, VT = svds(S, k = self.n_components, tol = self.tol, v0 = v0)\n",
    "        self.VT_ = VT[::-1, :]\n",
    "        \n",
    "    def transform(self, X):\n",
    "        return X @ self.VT_.T"
   ]
  },
  {
   "cell_type": "markdown",
   "metadata": {},
   "source": [
    "### Test with wine data"
   ]
  },
  {
   "cell_type": "code",
   "execution_count": 25,
   "metadata": {},
   "outputs": [
    {
     "data": {
      "text/html": [
       "<div>\n",
       "<style scoped>\n",
       "    .dataframe tbody tr th:only-of-type {\n",
       "        vertical-align: middle;\n",
       "    }\n",
       "\n",
       "    .dataframe tbody tr th {\n",
       "        vertical-align: top;\n",
       "    }\n",
       "\n",
       "    .dataframe thead th {\n",
       "        text-align: right;\n",
       "    }\n",
       "</style>\n",
       "<table border=\"1\" class=\"dataframe\">\n",
       "  <thead>\n",
       "    <tr style=\"text-align: right;\">\n",
       "      <th></th>\n",
       "      <th>fixed acidity</th>\n",
       "      <th>volatile acidity</th>\n",
       "      <th>citric acid</th>\n",
       "      <th>residual sugar</th>\n",
       "      <th>chlorides</th>\n",
       "      <th>free sulfur dioxide</th>\n",
       "      <th>total sulfur dioxide</th>\n",
       "      <th>density</th>\n",
       "      <th>pH</th>\n",
       "      <th>sulphates</th>\n",
       "      <th>alcohol</th>\n",
       "      <th>quality</th>\n",
       "    </tr>\n",
       "  </thead>\n",
       "  <tbody>\n",
       "    <tr>\n",
       "      <th>0</th>\n",
       "      <td>7.4</td>\n",
       "      <td>0.70</td>\n",
       "      <td>0.00</td>\n",
       "      <td>1.9</td>\n",
       "      <td>0.076</td>\n",
       "      <td>11.0</td>\n",
       "      <td>34.0</td>\n",
       "      <td>0.9978</td>\n",
       "      <td>3.51</td>\n",
       "      <td>0.56</td>\n",
       "      <td>9.4</td>\n",
       "      <td>5</td>\n",
       "    </tr>\n",
       "    <tr>\n",
       "      <th>1</th>\n",
       "      <td>7.8</td>\n",
       "      <td>0.88</td>\n",
       "      <td>0.00</td>\n",
       "      <td>2.6</td>\n",
       "      <td>0.098</td>\n",
       "      <td>25.0</td>\n",
       "      <td>67.0</td>\n",
       "      <td>0.9968</td>\n",
       "      <td>3.20</td>\n",
       "      <td>0.68</td>\n",
       "      <td>9.8</td>\n",
       "      <td>5</td>\n",
       "    </tr>\n",
       "    <tr>\n",
       "      <th>2</th>\n",
       "      <td>7.8</td>\n",
       "      <td>0.76</td>\n",
       "      <td>0.04</td>\n",
       "      <td>2.3</td>\n",
       "      <td>0.092</td>\n",
       "      <td>15.0</td>\n",
       "      <td>54.0</td>\n",
       "      <td>0.9970</td>\n",
       "      <td>3.26</td>\n",
       "      <td>0.65</td>\n",
       "      <td>9.8</td>\n",
       "      <td>5</td>\n",
       "    </tr>\n",
       "    <tr>\n",
       "      <th>3</th>\n",
       "      <td>11.2</td>\n",
       "      <td>0.28</td>\n",
       "      <td>0.56</td>\n",
       "      <td>1.9</td>\n",
       "      <td>0.075</td>\n",
       "      <td>17.0</td>\n",
       "      <td>60.0</td>\n",
       "      <td>0.9980</td>\n",
       "      <td>3.16</td>\n",
       "      <td>0.58</td>\n",
       "      <td>9.8</td>\n",
       "      <td>6</td>\n",
       "    </tr>\n",
       "    <tr>\n",
       "      <th>4</th>\n",
       "      <td>7.4</td>\n",
       "      <td>0.70</td>\n",
       "      <td>0.00</td>\n",
       "      <td>1.9</td>\n",
       "      <td>0.076</td>\n",
       "      <td>11.0</td>\n",
       "      <td>34.0</td>\n",
       "      <td>0.9978</td>\n",
       "      <td>3.51</td>\n",
       "      <td>0.56</td>\n",
       "      <td>9.4</td>\n",
       "      <td>5</td>\n",
       "    </tr>\n",
       "  </tbody>\n",
       "</table>\n",
       "</div>"
      ],
      "text/plain": [
       "   fixed acidity  volatile acidity  citric acid  residual sugar  chlorides  \\\n",
       "0            7.4              0.70         0.00             1.9      0.076   \n",
       "1            7.8              0.88         0.00             2.6      0.098   \n",
       "2            7.8              0.76         0.04             2.3      0.092   \n",
       "3           11.2              0.28         0.56             1.9      0.075   \n",
       "4            7.4              0.70         0.00             1.9      0.076   \n",
       "\n",
       "   free sulfur dioxide  total sulfur dioxide  density    pH  sulphates  \\\n",
       "0                 11.0                  34.0   0.9978  3.51       0.56   \n",
       "1                 25.0                  67.0   0.9968  3.20       0.68   \n",
       "2                 15.0                  54.0   0.9970  3.26       0.65   \n",
       "3                 17.0                  60.0   0.9980  3.16       0.58   \n",
       "4                 11.0                  34.0   0.9978  3.51       0.56   \n",
       "\n",
       "   alcohol  quality  \n",
       "0      9.4        5  \n",
       "1      9.8        5  \n",
       "2      9.8        5  \n",
       "3      9.8        6  \n",
       "4      9.4        5  "
      ]
     },
     "execution_count": 25,
     "metadata": {},
     "output_type": "execute_result"
    }
   ],
   "source": [
    "url = 'https://archive.ics.uci.edu/ml/machine-learning-databases/wine-quality/winequality-red.csv'\n",
    "df = pd.read_csv(url, sep = ';')\n",
    "df.head()"
   ]
  },
  {
   "cell_type": "code",
   "execution_count": 26,
   "metadata": {},
   "outputs": [],
   "source": [
    "y = df['quality'].values\n",
    "X = df.drop(['quality'], axis  = 1).values\n",
    "X = zscore(X)"
   ]
  },
  {
   "cell_type": "code",
   "execution_count": 27,
   "metadata": {},
   "outputs": [],
   "source": [
    "model = PCA(n_components= 2)\n",
    "model.fit(X)\n",
    "X_pca = model.transform(X)"
   ]
  },
  {
   "cell_type": "code",
   "execution_count": 28,
   "metadata": {},
   "outputs": [
    {
     "data": {
      "image/png": "[encoded data removed]",
      "text/plain": [
       "<Figure size 432x288 with 1 Axes>"
      ]
     },
     "metadata": {
      "needs_background": "light"
     },
     "output_type": "display_data"
    }
   ],
   "source": [
    "plt.scatter(X_pca[:, 0], X_pca[:, 1], c = y,cmap = plt.cm.rainbow);"
   ]
  },
  {
   "cell_type": "code",
   "execution_count": 29,
   "metadata": {},
   "outputs": [
    {
     "data": {
      "image/png": "[encoded data removed]",
      "text/plain": [
       "<Figure size 432x288 with 1 Axes>"
      ]
     },
     "metadata": {
      "needs_background": "light"
     },
     "output_type": "display_data"
    }
   ],
   "source": [
    "### with numpy\n",
    "w, v = np.linalg.eig(np.cov(X, rowvar = 0))\n",
    "ind = np.argsort(w)[::-1]\n",
    "w, v = w[ind], v[:,ind]\n",
    "X_pca = X @ v\n",
    "plt.scatter(X_pca[:, 0], X_pca[:, 1], c = y, cmap = plt.cm.rainbow);"
   ]
  },
  {
   "cell_type": "markdown",
   "metadata": {},
   "source": [
    "### REMARKS\n",
    "\n",
    "- numpyでの実行方法の方が直感的であると思われる"
   ]
  },
  {
   "cell_type": "code",
   "execution_count": null,
   "metadata": {},
   "outputs": [],
   "source": []
  }
 ],
 "metadata": {
  "kernelspec": {
   "display_name": "Python 3",
   "language": "python",
   "name": "python3"
  },
  "language_info": {
   "codemirror_mode": {
    "name": "ipython",
    "version": 3
   },
   "file_extension": ".py",
   "mimetype": "text/x-python",
   "name": "python",
   "nbconvert_exporter": "python",
   "pygments_lexer": "ipython3",
   "version": "3.7.4"
  }
 },
 "nbformat": 4,
 "nbformat_minor": 4
}
