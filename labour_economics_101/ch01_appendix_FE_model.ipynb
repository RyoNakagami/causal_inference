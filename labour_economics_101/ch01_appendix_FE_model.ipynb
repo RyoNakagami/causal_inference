{
 "cells": [
  {
   "cell_type": "markdown",
   "metadata": {},
   "source": [
    "# Fixed Effect Methods"
   ]
  },
  {
   "cell_type": "markdown",
   "metadata": {},
   "source": [
    "## Overview\n",
    "\n",
    "以下のlinear unobserved modelを考える\n",
    "\n",
    "$$\n",
    "y_{it} = \\mathbf x_{it}\\mathbf\\beta + c_i + u_{it} \\tag{1}\n",
    "$$\n",
    "\n",
    "where\n",
    "\n",
    "- i: an individual\n",
    "- t: time index\n",
    "- $c_i$: unobserved factor\n",
    "\n",
    "Random Effect Modelと異なる点は、REは$c_i$は$\\mathbf x_{it}$とorthogonalであると仮定しGLSで解く一方、FEは$c_i$と$\\mathbf x_{it}$は相関していることを想定している。(1)の式は以下のように書くこともできる\n",
    "\n",
    "$$\n",
    "\\mathbf y_{i} = \\mathbf X_{i}\\mathbf\\beta + c_i\\mathbf j_{T} + \\mathbf u_{i} \\tag{2}\n",
    "$$\n",
    "\n",
    "where $\\mathbf j_{T}$: $T\\times 1$ vector of ones\n",
    "\n",
    "### Assumption FE.1\n",
    "\n",
    "$$\n",
    "E[u_{it}|\\mathbf x_{it}, c_i] = 0 t = 1, 2, ..., T\n",
    "$$\n",
    "\n",
    "\n",
    "### REMARKS\n",
    "\n",
    "- メリット：covariatesと相関したtime-constant ommitted variablesが存在してもpartial effectは推定することができる\n",
    "- デメリット：他のtime-constant factorのpartial effectは推定できなくなる\n",
    "\n",
    "デメリットの例として、個人を単位にした分析ならばgenderやrace、企業を単位にした分析ならば業種、地理空間を対象にした分析ならば川の近くフラグなどのtime-constantなfactorは推定できない。\n",
    "\n",
    "### General specification\n",
    "\n",
    "- $d2_t, ... dT_t$: time period dummy, $ds_t = 1$ if $s = t$\n",
    "- $\\mathbf z_i$: a vector of time-constant observables\n",
    "- $w_{it}$: a vector of time-varying variables\n",
    "\n",
    "\n",
    "$$\n",
    "y_{it} = \\theta_1 + \\sum_{s=2}^T\\theta_s ds_t + \\mathbf z_i\\gamma_1 +  \\sum_{s=2}^T\\mathbf z_i \\gamma_s + \\mathbf w_{it}\\mathbf\\delta + c_i + u_{it} \\tag{3}\n",
    "$$\n",
    "\n",
    "and\n",
    "\n",
    "$$\n",
    "E[u_{it}|\\mathbf z_i, \\mathbf w_{i1}, ..., \\mathbf w_{iT}, c_i] = 0\n",
    "$$\n",
    "\n",
    "このとき、$\\theta_1 + \\mathbf z_i\\gamma_1$は$c_i$と識別することはできない。ただし、time-constant variableのeffectがtime-changingなのかの識別はできる。"
   ]
  },
  {
   "cell_type": "markdown",
   "metadata": {},
   "source": [
    "## Within transformation: FE transformation\n",
    "\n",
    "\n",
    "The FE transformationはdemeaningをすることで得られる。Eq (1)で説明すると\n",
    "\n",
    "$$\n",
    "y_{it} - \\bar y_{i} = (\\mathbf x_{it} - \\mathbf{\\bar x_{i}})\\mathbf\\beta + u_{it} - \\bar u_{i} \\tag{4}\n",
    "$$\n",
    "\n",
    "or\n",
    "\n",
    "$$\n",
    "\\ddot{y_{it}} = \\ddot{\\mathbf x_{it}}\\mathbf\\beta + \\ddot{\\mathbf u_{it}} \\tag{5}\n",
    "$$\n",
    "\n",
    "where $\\bar y_{i} = \\frac{1}{T}\\sum_{t=1}^Ty_{it}$\n",
    "\n",
    "### Assumption FE 1.2\n",
    "\n",
    "$$\n",
    "E(\\ddot{\\mathbf{x_{it}}}'\\ddot{\\mathbf{u_{it}}}) = 0\n",
    "$$\n",
    "\n",
    "これはAssumption FE.1が成立していれば直ちに成立する。\n",
    "\n",
    "### Assumption FE 2\n",
    "\n",
    "\n",
    "$$\n",
    "\\text{rank}\\left(\\sum_{t = 1}^TE(\\ddot{\\mathbf x_{it}}'\\ddot{\\mathbf x_{it}})\\right) = rank\\left[E(\\ddot{\\mathbf X_{i}}'\\ddot{\\mathbf X_{i}})\\right] = K\n",
    "$$\n",
    "\n",
    "### 推定手法\n",
    "\n",
    "- Pooled OLS\n",
    "\n",
    "$$\n",
    "\\hat{\\mathbf{\\beta}_{FE}}  = \\left(\\sum_{i = 1}^N \\ddot{\\mathbf X_{i}}'\\ddot{\\mathbf X_{i}}\\right)^{-1}\\left(\\sum_{i = 1}^N \\ddot{\\mathbf X_{i}}'\\ddot{\\mathbf y_{i}}\\right) = \\left(\\sum_{i = 1}^N \\sum_{t = 1}^T\\ddot{\\mathbf x_{i}}'\\ddot{\\mathbf x_{i}}\\right)^{-1}\\left(\\sum_{i = 1}^N\\sum_{t = 1}^T \\ddot{\\mathbf x_{i}}'\\ddot{y_{i}}\\right)\n",
    "$$"
   ]
  },
  {
   "cell_type": "markdown",
   "metadata": {},
   "source": [
    "### Asymptotic Inference with FE\n",
    "\n",
    "The next assumption ensures that FE is efficient:\n",
    "\n",
    "#### Assumption FE.3\n",
    "\n",
    "\n",
    "$$\n",
    "E(\\mathbf u_i \\mathbf u_i'|\\mathbf x_i, c_i) = \\sigma^2_u\\mathbf I_T\n",
    "$$\n",
    "\n",
    "これはidiosyncratic erros $u_{it}$ が　constant variance across t であり、serially uncorrelatedであることを示唆している。\n",
    "\n",
    "#### The variance of $\\ddot{u}_{it}$\n",
    "\n",
    "$$\n",
    "\\begin{aligned}\n",
    "E[\\ddot{u}_{it}^2] &= E[(u_{it} - \\bar u_i)^2] = E[u_{it}^2] + E[\\bar u_i^2] - 2E[u_{it}\\bar u_i]\\\\\n",
    "&= \\sigma_u^2 + \\sigma_u^2/T - 2\\sigma_u^2/T = \\sigma_u^2(1 - 1/T)\n",
    "\\end{aligned}\n",
    "$$\n",
    "\n",
    "よってhomeskedasticity across tは確認できた。\n",
    "\n",
    "#### Covarinace of $\\ddot{u}_{it}$ and $\\ddot{u}_{is}$\n",
    "\n",
    "$$\n",
    "\\begin{aligned}\n",
    "E(\\ddot{u}_{it}\\ddot{u}_{is}) &= E[(u_{it} - \\bar u_{i})(u_{is} - \\bar u_{i})] = E[(u_{it}u_{is})] - E[(u_{it}\\bar u_{i})] - E[(u_{is}\\bar u_{i})] + E[\\bar u_i^2]\\\\\n",
    "&= 0 - \\sigma_u^2/T - \\sigma_u^2/T + \\sigma_u^2/T = - \\sigma_u^2/T < 0\n",
    "\\end{aligned}\n",
    "$$\n",
    "\n",
    "Then,\n",
    "\n",
    "$$\n",
    "Corr(\\ddot{u}_{it}, \\ddot{u}_{is}) = -1/(T-1)\n",
    "$$\n",
    "\n",
    "しかし、これは大した問題にはならない。これを確認するためにAsynmptotic variance of $\\hat{\\mathbb{\\beta}}_{FE}$を計算する：\n",
    "\n",
    "$$\n",
    "\\sqrt{N}(\\hat{\\beta}_{FE} - \\beta) = \\left(N^{-1}\\sum_{i=1}^N\\ddot{X_i}'\\ddot{X_i}\\right)^{-1}\\left( N^{-1/2} \\sum_{i=1}^N \\ddot{X_i}'u_i\\right)\n",
    "$$\n",
    "\n",
    "ここで\n",
    "$$\n",
    "\\mathbf Q_T = I_T - l_T(l_T'l_T)^{-1}l_T'\n",
    "$$\n",
    "と定義すると\n",
    "\n",
    "$$\n",
    "\\ddot{X_i}'\\ddot{u_i} = X_i'Q_Tu_i = \\ddot{X_i}'u_i\n",
    "$$\n",
    "\n",
    "よって\n",
    "\n",
    "$$\n",
    "\\sqrt{N}(\\hat\\beta_{FE} - \\beta) \\sim Normal(\\mathbf 0, \\sigma_u^2[E(\\ddot{X_i}'\\ddot{X_i})]^{-1})\n",
    "$$\n",
    "\n",
    "Then,\n",
    "\n",
    "$$\n",
    "\\text{Avar}(\\hat\\beta_{FE}) = \\sigma_u^2[E(\\ddot{X_i}'\\ddot{X_i})]^{-1}/N\n",
    "$$\n",
    "\n",
    "よって sample analogueは\n",
    "\n",
    "$$\n",
    "\\widehat {\\text{Avar}(\\hat\\beta_{FE})}=  \\hat\\sigma_u^2\\left(\\sum \\ddot{X_i}'\\ddot{X_i}\\right)^{-1} = \\hat\\sigma_u^2\\left(\\sum_{i=1}^N\\sum_{t=1}^T \\ddot{x_{it}}'\\ddot{x_{it}}\\right)^{-1}\n",
    "$$"
   ]
  },
  {
   "cell_type": "markdown",
   "metadata": {},
   "source": [
    "### Compute variance\n",
    "\n",
    "$$\n",
    "\\hat{\\sigma_u^2} = \\frac{ \\sum_{i=1}^N\\sum_{t=1}^T(\\ddot{y_{it}} - \\ddot{x_{it}}\\hat\\beta_{FE})^2}{N(T - 1) - K}\n",
    "$$\n",
    "\n",
    "#### Tips\n",
    "\n",
    "- standard regression packageで計算する場合は出力された$\\hat\\sigma_u$に$[(NT-K)/[N(T-1) - K]]^{1/2}$を掛ければ良い\n",
    "- demeanでなくても、unitごとのdummy変数を定義してPooled OLSでも良い"
   ]
  },
  {
   "cell_type": "markdown",
   "metadata": {},
   "source": [
    "## Practice: FE Estimation of the Effects of JOb Training Grants\n",
    "\n",
    "- data: jtrain1.dta (STATAの公式ページより入手可能, [here](https://www.stata.com/data/jwooldridge/eacsap/jtrain1.dta))\n",
    "- data定義：http://fmwww.bc.edu/ec-p/data/wooldridge/datasets.list.html\n",
    "- Question: Job training grantの賃金に与える影響を分析せよ\n"
   ]
  },
  {
   "cell_type": "markdown",
   "metadata": {},
   "source": [
    "#### Import"
   ]
  },
  {
   "cell_type": "code",
   "execution_count": 1,
   "metadata": {},
   "outputs": [],
   "source": [
    "import pandas as pd\n",
    "import numpy as np\n",
    "import statsmodels.api as sm\n",
    "from statsmodels.iolib.summary2 import summary_col\n",
    "from scipy.stats import t\n",
    "import matplotlib.pyplot as plt"
   ]
  },
  {
   "cell_type": "markdown",
   "metadata": {},
   "source": [
    "#### Read data"
   ]
  },
  {
   "cell_type": "markdown",
   "metadata": {},
   "source": [
    "  Obs:   471\n",
    "\n",
    " 1. year                     1987, 1988, or 1989\n",
    " 2. fcode                    firm code number\n",
    " 3. employ                   # employees at plant\n",
    " 4. sales                    annual sales, dollar\n",
    " 5. avgsal                   average employee salary\n",
    " 6. scrap                    scrap rate (per 100 items), The worker's productivity \n",
    " 7. rework                   rework rate (per 100 items)\n",
    " 8. tothrs                   total hours training\n",
    " 9. union                    =1 if unionized\n",
    " 10. grant                    =1 if received grant\n",
    " 11. d89                      =1 if year = 1989\n",
    " 12. d88                      =1 if year = 1988\n",
    " 13. totrain                  total employees trained\n",
    " 14. hrsemp                   tothrs/totrain\n",
    " 15. lscrap                   log(scrap)\n",
    " 16. lemploy                  log(employ)\n",
    " 17. lsales                   log(sales)\n",
    " 18. lrework                  log(rework)\n",
    " 19. lhrsemp                  log(1 + hrsemp)\n",
    " 20. lscrap_1                 lagged lscrap; missing 1987\n",
    " 21. grant_1                  lagged grant; assumed 0 in 1987\n",
    " 22. clscrap                  lscrap - lscrap_1; year > 1987\n",
    " 23. cgrant                   grant - grant_1\n",
    " 24. clemploy                 lemploy - lemploy[t-1]\n",
    " 25. clsales                  lavgsal - lavgsal[t-1]\n",
    " 26. lavgsal                  log(avgsal)\n",
    " 27. clavgsal                 lavgsal - lavgsal[t-1]\n",
    " 28. cgrant_1                 cgrant[t-1]\n",
    " 29. chrsemp                  hrsemp - hrsemp[t-1]\n",
    " 30. clhrsemp                 lhrsemp - lhrsemp[t-1]\n"
   ]
  },
  {
   "cell_type": "code",
   "execution_count": 2,
   "metadata": {},
   "outputs": [
    {
     "data": {
      "text/html": [
       "<div>\n",
       "<style scoped>\n",
       "    .dataframe tbody tr th:only-of-type {\n",
       "        vertical-align: middle;\n",
       "    }\n",
       "\n",
       "    .dataframe tbody tr th {\n",
       "        vertical-align: top;\n",
       "    }\n",
       "\n",
       "    .dataframe thead th {\n",
       "        text-align: right;\n",
       "    }\n",
       "</style>\n",
       "<table border=\"1\" class=\"dataframe\">\n",
       "  <thead>\n",
       "    <tr style=\"text-align: right;\">\n",
       "      <th></th>\n",
       "      <th>year</th>\n",
       "      <th>fcode</th>\n",
       "      <th>employ</th>\n",
       "      <th>sales</th>\n",
       "      <th>avgsal</th>\n",
       "      <th>scrap</th>\n",
       "      <th>rework</th>\n",
       "      <th>tothrs</th>\n",
       "      <th>union</th>\n",
       "      <th>grant</th>\n",
       "      <th>...</th>\n",
       "      <th>grant_1</th>\n",
       "      <th>clscrap</th>\n",
       "      <th>cgrant</th>\n",
       "      <th>clemploy</th>\n",
       "      <th>clsales</th>\n",
       "      <th>lavgsal</th>\n",
       "      <th>clavgsal</th>\n",
       "      <th>cgrant_1</th>\n",
       "      <th>chrsemp</th>\n",
       "      <th>clhrsemp</th>\n",
       "    </tr>\n",
       "  </thead>\n",
       "  <tbody>\n",
       "    <tr>\n",
       "      <th>0</th>\n",
       "      <td>1987</td>\n",
       "      <td>410032.0</td>\n",
       "      <td>100.0</td>\n",
       "      <td>47000000.0</td>\n",
       "      <td>35000.0</td>\n",
       "      <td>NaN</td>\n",
       "      <td>NaN</td>\n",
       "      <td>12.0</td>\n",
       "      <td>0</td>\n",
       "      <td>0</td>\n",
       "      <td>...</td>\n",
       "      <td>0</td>\n",
       "      <td>NaN</td>\n",
       "      <td>0</td>\n",
       "      <td>NaN</td>\n",
       "      <td>NaN</td>\n",
       "      <td>10.463103</td>\n",
       "      <td>NaN</td>\n",
       "      <td>NaN</td>\n",
       "      <td>NaN</td>\n",
       "      <td>NaN</td>\n",
       "    </tr>\n",
       "    <tr>\n",
       "      <th>1</th>\n",
       "      <td>1988</td>\n",
       "      <td>410032.0</td>\n",
       "      <td>131.0</td>\n",
       "      <td>43000000.0</td>\n",
       "      <td>37000.0</td>\n",
       "      <td>NaN</td>\n",
       "      <td>NaN</td>\n",
       "      <td>8.0</td>\n",
       "      <td>0</td>\n",
       "      <td>0</td>\n",
       "      <td>...</td>\n",
       "      <td>0</td>\n",
       "      <td>NaN</td>\n",
       "      <td>0</td>\n",
       "      <td>0.270027</td>\n",
       "      <td>-0.088949</td>\n",
       "      <td>10.518673</td>\n",
       "      <td>0.055570</td>\n",
       "      <td>0.0</td>\n",
       "      <td>-8.946565</td>\n",
       "      <td>-1.165385</td>\n",
       "    </tr>\n",
       "    <tr>\n",
       "      <th>2</th>\n",
       "      <td>1989</td>\n",
       "      <td>410032.0</td>\n",
       "      <td>123.0</td>\n",
       "      <td>49000000.0</td>\n",
       "      <td>39000.0</td>\n",
       "      <td>NaN</td>\n",
       "      <td>NaN</td>\n",
       "      <td>8.0</td>\n",
       "      <td>0</td>\n",
       "      <td>0</td>\n",
       "      <td>...</td>\n",
       "      <td>0</td>\n",
       "      <td>NaN</td>\n",
       "      <td>0</td>\n",
       "      <td>-0.063013</td>\n",
       "      <td>0.130621</td>\n",
       "      <td>10.571317</td>\n",
       "      <td>0.052644</td>\n",
       "      <td>0.0</td>\n",
       "      <td>0.198597</td>\n",
       "      <td>0.047832</td>\n",
       "    </tr>\n",
       "    <tr>\n",
       "      <th>3</th>\n",
       "      <td>1987</td>\n",
       "      <td>410440.0</td>\n",
       "      <td>12.0</td>\n",
       "      <td>1560000.0</td>\n",
       "      <td>10500.0</td>\n",
       "      <td>NaN</td>\n",
       "      <td>NaN</td>\n",
       "      <td>12.0</td>\n",
       "      <td>0</td>\n",
       "      <td>0</td>\n",
       "      <td>...</td>\n",
       "      <td>0</td>\n",
       "      <td>NaN</td>\n",
       "      <td>0</td>\n",
       "      <td>NaN</td>\n",
       "      <td>NaN</td>\n",
       "      <td>9.259130</td>\n",
       "      <td>NaN</td>\n",
       "      <td>NaN</td>\n",
       "      <td>NaN</td>\n",
       "      <td>NaN</td>\n",
       "    </tr>\n",
       "    <tr>\n",
       "      <th>4</th>\n",
       "      <td>1988</td>\n",
       "      <td>410440.0</td>\n",
       "      <td>13.0</td>\n",
       "      <td>1970000.0</td>\n",
       "      <td>11000.0</td>\n",
       "      <td>NaN</td>\n",
       "      <td>NaN</td>\n",
       "      <td>12.0</td>\n",
       "      <td>0</td>\n",
       "      <td>0</td>\n",
       "      <td>...</td>\n",
       "      <td>0</td>\n",
       "      <td>NaN</td>\n",
       "      <td>0</td>\n",
       "      <td>0.080043</td>\n",
       "      <td>0.233347</td>\n",
       "      <td>9.305651</td>\n",
       "      <td>0.046520</td>\n",
       "      <td>0.0</td>\n",
       "      <td>0.000000</td>\n",
       "      <td>0.000000</td>\n",
       "    </tr>\n",
       "  </tbody>\n",
       "</table>\n",
       "<p>5 rows × 30 columns</p>\n",
       "</div>"
      ],
      "text/plain": [
       "   year     fcode  employ       sales   avgsal  scrap  rework  tothrs  union  \\\n",
       "0  1987  410032.0   100.0  47000000.0  35000.0    NaN     NaN    12.0      0   \n",
       "1  1988  410032.0   131.0  43000000.0  37000.0    NaN     NaN     8.0      0   \n",
       "2  1989  410032.0   123.0  49000000.0  39000.0    NaN     NaN     8.0      0   \n",
       "3  1987  410440.0    12.0   1560000.0  10500.0    NaN     NaN    12.0      0   \n",
       "4  1988  410440.0    13.0   1970000.0  11000.0    NaN     NaN    12.0      0   \n",
       "\n",
       "   grant  ...  grant_1  clscrap  cgrant  clemploy   clsales    lavgsal  \\\n",
       "0      0  ...        0      NaN       0       NaN       NaN  10.463103   \n",
       "1      0  ...        0      NaN       0  0.270027 -0.088949  10.518673   \n",
       "2      0  ...        0      NaN       0 -0.063013  0.130621  10.571317   \n",
       "3      0  ...        0      NaN       0       NaN       NaN   9.259130   \n",
       "4      0  ...        0      NaN       0  0.080043  0.233347   9.305651   \n",
       "\n",
       "   clavgsal  cgrant_1   chrsemp  clhrsemp  \n",
       "0       NaN       NaN       NaN       NaN  \n",
       "1  0.055570       0.0 -8.946565 -1.165385  \n",
       "2  0.052644       0.0  0.198597  0.047832  \n",
       "3       NaN       NaN       NaN       NaN  \n",
       "4  0.046520       0.0  0.000000  0.000000  \n",
       "\n",
       "[5 rows x 30 columns]"
      ]
     },
     "execution_count": 2,
     "metadata": {},
     "output_type": "execute_result"
    }
   ],
   "source": [
    "df = pd.read_stata('https://www.stata.com/data/jwooldridge/eacsap/jtrain1.dta')\n",
    "df.head()"
   ]
  },
  {
   "cell_type": "code",
   "execution_count": 3,
   "metadata": {},
   "outputs": [
    {
     "name": "stdout",
     "output_type": "stream",
     "text": [
      "<class 'pandas.core.frame.DataFrame'>\n",
      "Int64Index: 471 entries, 0 to 470\n",
      "Data columns (total 30 columns):\n",
      " #   Column    Non-Null Count  Dtype  \n",
      "---  ------    --------------  -----  \n",
      " 0   year      471 non-null    int16  \n",
      " 1   fcode     471 non-null    float32\n",
      " 2   employ    440 non-null    float64\n",
      " 3   sales     373 non-null    float32\n",
      " 4   avgsal    406 non-null    float32\n",
      " 5   scrap     162 non-null    float32\n",
      " 6   rework    123 non-null    float32\n",
      " 7   tothrs    415 non-null    float64\n",
      " 8   union     471 non-null    int8   \n",
      " 9   grant     471 non-null    int8   \n",
      " 10  d89       471 non-null    int8   \n",
      " 11  d88       471 non-null    int8   \n",
      " 12  totrain   465 non-null    float64\n",
      " 13  hrsemp    390 non-null    float32\n",
      " 14  lscrap    162 non-null    float32\n",
      " 15  lemploy   440 non-null    float32\n",
      " 16  lsales    373 non-null    float32\n",
      " 17  lrework   121 non-null    float32\n",
      " 18  lhrsemp   390 non-null    float32\n",
      " 19  lscrap_1  108 non-null    float32\n",
      " 20  grant_1   471 non-null    int8   \n",
      " 21  clscrap   108 non-null    float32\n",
      " 22  cgrant    471 non-null    int8   \n",
      " 23  clemploy  290 non-null    float32\n",
      " 24  clsales   245 non-null    float32\n",
      " 25  lavgsal   406 non-null    float32\n",
      " 26  clavgsal  267 non-null    float32\n",
      " 27  cgrant_1  314 non-null    float64\n",
      " 28  chrsemp   251 non-null    float32\n",
      " 29  clhrsemp  251 non-null    float32\n",
      "dtypes: float32(19), float64(4), int16(1), int8(6)\n",
      "memory usage: 57.0 KB\n"
     ]
    }
   ],
   "source": [
    "df.info()"
   ]
  },
  {
   "cell_type": "markdown",
   "metadata": {},
   "source": [
    "#### 前処理"
   ]
  },
  {
   "cell_type": "code",
   "execution_count": 4,
   "metadata": {},
   "outputs": [],
   "source": [
    "reg_df = df.loc[:, ['year','fcode', 'scrap', 'd88', 'd89', 'lscrap', 'grant_1', 'grant', 'union']]\n",
    "reg_df = reg_df.dropna().reset_index(drop = True)"
   ]
  },
  {
   "cell_type": "markdown",
   "metadata": {},
   "source": [
    "balanced panelかの確認"
   ]
  },
  {
   "cell_type": "code",
   "execution_count": 5,
   "metadata": {},
   "outputs": [
    {
     "data": {
      "text/plain": [
       "Series([], Name: year, dtype: int16)"
      ]
     },
     "execution_count": 5,
     "metadata": {},
     "output_type": "execute_result"
    }
   ],
   "source": [
    "balanced_test = reg_df.groupby('fcode')['year'].agg(lambda x: x.nunique())\n",
    "balanced_test.loc[balanced_test !=3]"
   ]
  },
  {
   "cell_type": "markdown",
   "metadata": {},
   "source": [
    "time-constantな変数を探す"
   ]
  },
  {
   "cell_type": "code",
   "execution_count": 6,
   "metadata": {},
   "outputs": [
    {
     "data": {
      "text/plain": [
       "scrap      246.084905\n",
       "d88         18.000000\n",
       "d89         18.000000\n",
       "lscrap      16.124810\n",
       "grant_1      6.333333\n",
       "grant        9.666667\n",
       "union        0.000000\n",
       "dtype: float64"
      ]
     },
     "execution_count": 6,
     "metadata": {},
     "output_type": "execute_result"
    }
   ],
   "source": [
    "reg_df.groupby('fcode')[['scrap', 'd88', 'd89', 'lscrap', 'grant_1', 'grant', 'union']].var().sum()"
   ]
  },
  {
   "cell_type": "code",
   "execution_count": 7,
   "metadata": {},
   "outputs": [],
   "source": [
    "reg_df = reg_df.drop(['union'], axis = 1)"
   ]
  },
  {
   "cell_type": "code",
   "execution_count": 8,
   "metadata": {},
   "outputs": [
    {
     "data": {
      "text/html": [
       "<div>\n",
       "<style scoped>\n",
       "    .dataframe tbody tr th:only-of-type {\n",
       "        vertical-align: middle;\n",
       "    }\n",
       "\n",
       "    .dataframe tbody tr th {\n",
       "        vertical-align: top;\n",
       "    }\n",
       "\n",
       "    .dataframe thead th {\n",
       "        text-align: right;\n",
       "    }\n",
       "</style>\n",
       "<table border=\"1\" class=\"dataframe\">\n",
       "  <thead>\n",
       "    <tr style=\"text-align: right;\">\n",
       "      <th></th>\n",
       "      <th>year</th>\n",
       "      <th>fcode</th>\n",
       "      <th>scrap</th>\n",
       "      <th>d88</th>\n",
       "      <th>d89</th>\n",
       "      <th>lscrap</th>\n",
       "      <th>grant_1</th>\n",
       "      <th>grant</th>\n",
       "    </tr>\n",
       "  </thead>\n",
       "  <tbody>\n",
       "    <tr>\n",
       "      <th>0</th>\n",
       "      <td>1987</td>\n",
       "      <td>410523.0</td>\n",
       "      <td>0.06</td>\n",
       "      <td>0</td>\n",
       "      <td>0</td>\n",
       "      <td>-2.813411</td>\n",
       "      <td>0</td>\n",
       "      <td>0</td>\n",
       "    </tr>\n",
       "    <tr>\n",
       "      <th>1</th>\n",
       "      <td>1988</td>\n",
       "      <td>410523.0</td>\n",
       "      <td>0.05</td>\n",
       "      <td>1</td>\n",
       "      <td>0</td>\n",
       "      <td>-2.995732</td>\n",
       "      <td>0</td>\n",
       "      <td>0</td>\n",
       "    </tr>\n",
       "    <tr>\n",
       "      <th>2</th>\n",
       "      <td>1989</td>\n",
       "      <td>410523.0</td>\n",
       "      <td>0.05</td>\n",
       "      <td>0</td>\n",
       "      <td>1</td>\n",
       "      <td>-2.995732</td>\n",
       "      <td>0</td>\n",
       "      <td>0</td>\n",
       "    </tr>\n",
       "    <tr>\n",
       "      <th>3</th>\n",
       "      <td>1987</td>\n",
       "      <td>410538.0</td>\n",
       "      <td>2.64</td>\n",
       "      <td>0</td>\n",
       "      <td>0</td>\n",
       "      <td>0.970779</td>\n",
       "      <td>0</td>\n",
       "      <td>0</td>\n",
       "    </tr>\n",
       "    <tr>\n",
       "      <th>4</th>\n",
       "      <td>1988</td>\n",
       "      <td>410538.0</td>\n",
       "      <td>2.74</td>\n",
       "      <td>1</td>\n",
       "      <td>0</td>\n",
       "      <td>1.007958</td>\n",
       "      <td>0</td>\n",
       "      <td>0</td>\n",
       "    </tr>\n",
       "  </tbody>\n",
       "</table>\n",
       "</div>"
      ],
      "text/plain": [
       "   year     fcode  scrap  d88  d89    lscrap  grant_1  grant\n",
       "0  1987  410523.0   0.06    0    0 -2.813411        0      0\n",
       "1  1988  410523.0   0.05    1    0 -2.995732        0      0\n",
       "2  1989  410523.0   0.05    0    1 -2.995732        0      0\n",
       "3  1987  410538.0   2.64    0    0  0.970779        0      0\n",
       "4  1988  410538.0   2.74    1    0  1.007958        0      0"
      ]
     },
     "execution_count": 8,
     "metadata": {},
     "output_type": "execute_result"
    }
   ],
   "source": [
    "reg_df.head()"
   ]
  },
  {
   "cell_type": "markdown",
   "metadata": {},
   "source": [
    "demean"
   ]
  },
  {
   "cell_type": "code",
   "execution_count": 9,
   "metadata": {},
   "outputs": [],
   "source": [
    "demean = lambda df: df - df.mean()\n",
    "demean_df = reg_df.groupby(['fcode']).transform(demean)\n",
    "demean_df = demean_df.add_suffix('_demean')\n",
    "panel_df = pd.concat([reg_df, demean_df.iloc[:, 1:]], axis = 1)"
   ]
  },
  {
   "cell_type": "markdown",
   "metadata": {},
   "source": [
    "#### EDA"
   ]
  },
  {
   "cell_type": "code",
   "execution_count": 10,
   "metadata": {},
   "outputs": [
    {
     "data": {
      "text/html": [
       "<div>\n",
       "<style scoped>\n",
       "    .dataframe tbody tr th:only-of-type {\n",
       "        vertical-align: middle;\n",
       "    }\n",
       "\n",
       "    .dataframe tbody tr th {\n",
       "        vertical-align: top;\n",
       "    }\n",
       "\n",
       "    .dataframe thead th {\n",
       "        text-align: right;\n",
       "    }\n",
       "</style>\n",
       "<table border=\"1\" class=\"dataframe\">\n",
       "  <thead>\n",
       "    <tr style=\"text-align: right;\">\n",
       "      <th></th>\n",
       "      <th>fcode</th>\n",
       "      <th>scrap</th>\n",
       "      <th>d88</th>\n",
       "      <th>d89</th>\n",
       "      <th>lscrap</th>\n",
       "      <th>grant_1</th>\n",
       "      <th>grant</th>\n",
       "      <th>scrap_demean</th>\n",
       "      <th>d88_demean</th>\n",
       "      <th>d89_demean</th>\n",
       "      <th>lscrap_demean</th>\n",
       "      <th>grant_1_demean</th>\n",
       "      <th>grant_demean</th>\n",
       "    </tr>\n",
       "    <tr>\n",
       "      <th>year</th>\n",
       "      <th></th>\n",
       "      <th></th>\n",
       "      <th></th>\n",
       "      <th></th>\n",
       "      <th></th>\n",
       "      <th></th>\n",
       "      <th></th>\n",
       "      <th></th>\n",
       "      <th></th>\n",
       "      <th></th>\n",
       "      <th></th>\n",
       "      <th></th>\n",
       "      <th></th>\n",
       "    </tr>\n",
       "  </thead>\n",
       "  <tbody>\n",
       "    <tr>\n",
       "      <th>1987</th>\n",
       "      <td>22480932.0</td>\n",
       "      <td>249.029999</td>\n",
       "      <td>0</td>\n",
       "      <td>0</td>\n",
       "      <td>32.261440</td>\n",
       "      <td>0</td>\n",
       "      <td>0</td>\n",
       "      <td>41.473331</td>\n",
       "      <td>-18.0</td>\n",
       "      <td>-18.0</td>\n",
       "      <td>11.002643</td>\n",
       "      <td>-6.333333</td>\n",
       "      <td>-9.666667</td>\n",
       "    </tr>\n",
       "    <tr>\n",
       "      <th>1988</th>\n",
       "      <td>22480932.0</td>\n",
       "      <td>204.539993</td>\n",
       "      <td>54</td>\n",
       "      <td>0</td>\n",
       "      <td>23.135809</td>\n",
       "      <td>0</td>\n",
       "      <td>19</td>\n",
       "      <td>-3.016667</td>\n",
       "      <td>36.0</td>\n",
       "      <td>-18.0</td>\n",
       "      <td>1.877014</td>\n",
       "      <td>-6.333333</td>\n",
       "      <td>9.333333</td>\n",
       "    </tr>\n",
       "    <tr>\n",
       "      <th>1989</th>\n",
       "      <td>22480932.0</td>\n",
       "      <td>169.100006</td>\n",
       "      <td>0</td>\n",
       "      <td>54</td>\n",
       "      <td>8.379138</td>\n",
       "      <td>19</td>\n",
       "      <td>10</td>\n",
       "      <td>-38.456669</td>\n",
       "      <td>-18.0</td>\n",
       "      <td>36.0</td>\n",
       "      <td>-12.879658</td>\n",
       "      <td>12.666667</td>\n",
       "      <td>0.333333</td>\n",
       "    </tr>\n",
       "  </tbody>\n",
       "</table>\n",
       "</div>"
      ],
      "text/plain": [
       "           fcode       scrap  d88  d89     lscrap  grant_1  grant  \\\n",
       "year                                                                \n",
       "1987  22480932.0  249.029999    0    0  32.261440        0      0   \n",
       "1988  22480932.0  204.539993   54    0  23.135809        0     19   \n",
       "1989  22480932.0  169.100006    0   54   8.379138       19     10   \n",
       "\n",
       "      scrap_demean  d88_demean  d89_demean  lscrap_demean  grant_1_demean  \\\n",
       "year                                                                        \n",
       "1987     41.473331       -18.0       -18.0      11.002643       -6.333333   \n",
       "1988     -3.016667        36.0       -18.0       1.877014       -6.333333   \n",
       "1989    -38.456669       -18.0        36.0     -12.879658       12.666667   \n",
       "\n",
       "      grant_demean  \n",
       "year                \n",
       "1987     -9.666667  \n",
       "1988      9.333333  \n",
       "1989      0.333333  "
      ]
     },
     "execution_count": 10,
     "metadata": {},
     "output_type": "execute_result"
    }
   ],
   "source": [
    "panel_df.groupby('year').sum()"
   ]
  },
  {
   "cell_type": "markdown",
   "metadata": {},
   "source": [
    "### FE estimation"
   ]
  },
  {
   "cell_type": "code",
   "execution_count": 11,
   "metadata": {},
   "outputs": [
    {
     "data": {
      "text/html": [
       "<div>\n",
       "<style scoped>\n",
       "    .dataframe tbody tr th:only-of-type {\n",
       "        vertical-align: middle;\n",
       "    }\n",
       "\n",
       "    .dataframe tbody tr th {\n",
       "        vertical-align: top;\n",
       "    }\n",
       "\n",
       "    .dataframe thead th {\n",
       "        text-align: right;\n",
       "    }\n",
       "</style>\n",
       "<table border=\"1\" class=\"dataframe\">\n",
       "  <thead>\n",
       "    <tr style=\"text-align: right;\">\n",
       "      <th></th>\n",
       "      <th>year</th>\n",
       "      <th>fcode</th>\n",
       "      <th>scrap</th>\n",
       "      <th>d88</th>\n",
       "      <th>d89</th>\n",
       "      <th>lscrap</th>\n",
       "      <th>grant_1</th>\n",
       "      <th>grant</th>\n",
       "      <th>scrap_demean</th>\n",
       "      <th>d88_demean</th>\n",
       "      <th>d89_demean</th>\n",
       "      <th>lscrap_demean</th>\n",
       "      <th>grant_1_demean</th>\n",
       "      <th>grant_demean</th>\n",
       "    </tr>\n",
       "  </thead>\n",
       "  <tbody>\n",
       "    <tr>\n",
       "      <th>0</th>\n",
       "      <td>1987</td>\n",
       "      <td>410523.0</td>\n",
       "      <td>0.06</td>\n",
       "      <td>0</td>\n",
       "      <td>0</td>\n",
       "      <td>-2.813411</td>\n",
       "      <td>0</td>\n",
       "      <td>0</td>\n",
       "      <td>0.006667</td>\n",
       "      <td>-0.333333</td>\n",
       "      <td>-0.333333</td>\n",
       "      <td>0.121548</td>\n",
       "      <td>0.0</td>\n",
       "      <td>0.0</td>\n",
       "    </tr>\n",
       "    <tr>\n",
       "      <th>1</th>\n",
       "      <td>1988</td>\n",
       "      <td>410523.0</td>\n",
       "      <td>0.05</td>\n",
       "      <td>1</td>\n",
       "      <td>0</td>\n",
       "      <td>-2.995732</td>\n",
       "      <td>0</td>\n",
       "      <td>0</td>\n",
       "      <td>-0.003333</td>\n",
       "      <td>0.666667</td>\n",
       "      <td>-0.333333</td>\n",
       "      <td>-0.060774</td>\n",
       "      <td>0.0</td>\n",
       "      <td>0.0</td>\n",
       "    </tr>\n",
       "    <tr>\n",
       "      <th>2</th>\n",
       "      <td>1989</td>\n",
       "      <td>410523.0</td>\n",
       "      <td>0.05</td>\n",
       "      <td>0</td>\n",
       "      <td>1</td>\n",
       "      <td>-2.995732</td>\n",
       "      <td>0</td>\n",
       "      <td>0</td>\n",
       "      <td>-0.003333</td>\n",
       "      <td>-0.333333</td>\n",
       "      <td>0.666667</td>\n",
       "      <td>-0.060774</td>\n",
       "      <td>0.0</td>\n",
       "      <td>0.0</td>\n",
       "    </tr>\n",
       "    <tr>\n",
       "      <th>3</th>\n",
       "      <td>1987</td>\n",
       "      <td>410538.0</td>\n",
       "      <td>2.64</td>\n",
       "      <td>0</td>\n",
       "      <td>0</td>\n",
       "      <td>0.970779</td>\n",
       "      <td>0</td>\n",
       "      <td>0</td>\n",
       "      <td>0.000000</td>\n",
       "      <td>-0.333333</td>\n",
       "      <td>-0.333333</td>\n",
       "      <td>0.000479</td>\n",
       "      <td>0.0</td>\n",
       "      <td>0.0</td>\n",
       "    </tr>\n",
       "    <tr>\n",
       "      <th>4</th>\n",
       "      <td>1988</td>\n",
       "      <td>410538.0</td>\n",
       "      <td>2.74</td>\n",
       "      <td>1</td>\n",
       "      <td>0</td>\n",
       "      <td>1.007958</td>\n",
       "      <td>0</td>\n",
       "      <td>0</td>\n",
       "      <td>0.100000</td>\n",
       "      <td>0.666667</td>\n",
       "      <td>-0.333333</td>\n",
       "      <td>0.037658</td>\n",
       "      <td>0.0</td>\n",
       "      <td>0.0</td>\n",
       "    </tr>\n",
       "  </tbody>\n",
       "</table>\n",
       "</div>"
      ],
      "text/plain": [
       "   year     fcode  scrap  d88  d89    lscrap  grant_1  grant  scrap_demean  \\\n",
       "0  1987  410523.0   0.06    0    0 -2.813411        0      0      0.006667   \n",
       "1  1988  410523.0   0.05    1    0 -2.995732        0      0     -0.003333   \n",
       "2  1989  410523.0   0.05    0    1 -2.995732        0      0     -0.003333   \n",
       "3  1987  410538.0   2.64    0    0  0.970779        0      0      0.000000   \n",
       "4  1988  410538.0   2.74    1    0  1.007958        0      0      0.100000   \n",
       "\n",
       "   d88_demean  d89_demean  lscrap_demean  grant_1_demean  grant_demean  \n",
       "0   -0.333333   -0.333333       0.121548             0.0           0.0  \n",
       "1    0.666667   -0.333333      -0.060774             0.0           0.0  \n",
       "2   -0.333333    0.666667      -0.060774             0.0           0.0  \n",
       "3   -0.333333   -0.333333       0.000479             0.0           0.0  \n",
       "4    0.666667   -0.333333       0.037658             0.0           0.0  "
      ]
     },
     "execution_count": 11,
     "metadata": {},
     "output_type": "execute_result"
    }
   ],
   "source": [
    "panel_df.head()"
   ]
  },
  {
   "cell_type": "code",
   "execution_count": 12,
   "metadata": {},
   "outputs": [
    {
     "data": {
      "text/plain": [
       "Index(['year', 'fcode', 'scrap', 'd88', 'd89', 'lscrap', 'grant_1', 'grant',\n",
       "       'scrap_demean', 'd88_demean', 'd89_demean', 'lscrap_demean',\n",
       "       'grant_1_demean', 'grant_demean'],\n",
       "      dtype='object')"
      ]
     },
     "execution_count": 12,
     "metadata": {},
     "output_type": "execute_result"
    }
   ],
   "source": [
    "panel_df.columns"
   ]
  },
  {
   "cell_type": "markdown",
   "metadata": {},
   "source": [
    "### Pooled OLS using statsmodel"
   ]
  },
  {
   "cell_type": "code",
   "execution_count": 13,
   "metadata": {},
   "outputs": [
    {
     "name": "stdout",
     "output_type": "stream",
     "text": [
      "         Table 1\n",
      "=========================\n",
      "                   OLS   \n",
      "-------------------------\n",
      "d88_demean       -0.080  \n",
      "                 (0.089) \n",
      "d89_demean       -0.247**\n",
      "                 (0.108) \n",
      "grant_1_demean   -0.422**\n",
      "                 (0.171) \n",
      "grant_demean     -0.252**\n",
      "                 (0.122) \n",
      "R-squared        0.181   \n",
      "                 0.201   \n",
      "Pseudo R-squared         \n",
      "No. observations 162     \n",
      "=========================\n",
      "Standard errors in\n",
      "parentheses.\n",
      "* p<.1, ** p<.05,\n",
      "***p<.01\n"
     ]
    }
   ],
   "source": [
    "reg = ['d88_demean', 'd89_demean',\n",
    "       'grant_1_demean', 'grant_demean']\n",
    "info_dict = {'Pseudo R-squared': lambda x: f\"{x.prsquared:.2f}\",\n",
    "             'No. observations': lambda x: f\"{int(x.nobs):d}\"}\n",
    "\n",
    "ols_res = sm.OLS(panel_df['lscrap_demean'], panel_df[reg]).fit()\n",
    "results_table = summary_col(results=ols_res,\n",
    "                            float_format='%0.3f',\n",
    "                            stars=True,\n",
    "                            model_names= ['OLS'],\n",
    "                            info_dict=info_dict,\n",
    "                            regressor_order=reg)\n",
    "results_table.add_title('Table 1')\n",
    "print(results_table)"
   ]
  },
  {
   "cell_type": "code",
   "execution_count": 14,
   "metadata": {},
   "outputs": [
    {
     "name": "stdout",
     "output_type": "stream",
     "text": [
      "                                 OLS Regression Results                                \n",
      "=======================================================================================\n",
      "Dep. Variable:          lscrap_demean   R-squared (uncentered):                   0.201\n",
      "Model:                            OLS   Adj. R-squared (uncentered):              0.181\n",
      "Method:                 Least Squares   F-statistic:                              9.940\n",
      "Date:                Tue, 14 Apr 2020   Prob (F-statistic):                    3.36e-07\n",
      "Time:                        22:22:39   Log-Likelihood:                         -80.946\n",
      "No. Observations:                 162   AIC:                                      169.9\n",
      "Df Residuals:                     158   BIC:                                      182.2\n",
      "Df Model:                           4                                                  \n",
      "Covariance Type:            nonrobust                                                  \n",
      "==================================================================================\n",
      "                     coef    std err          t      P>|t|      [0.025      0.975]\n",
      "----------------------------------------------------------------------------------\n",
      "d88_demean        -0.0802      0.089     -0.903      0.368      -0.256       0.095\n",
      "d89_demean        -0.2472      0.108     -2.287      0.024      -0.461      -0.034\n",
      "grant_1_demean    -0.4216      0.171     -2.472      0.014      -0.758      -0.085\n",
      "grant_demean      -0.2523      0.122     -2.065      0.041      -0.494      -0.011\n",
      "==============================================================================\n",
      "Omnibus:                       65.791   Durbin-Watson:                   2.294\n",
      "Prob(Omnibus):                  0.000   Jarque-Bera (JB):              770.661\n",
      "Skew:                          -1.074   Prob(JB):                    4.50e-168\n",
      "Kurtosis:                      13.467   Cond. No.                         4.01\n",
      "==============================================================================\n",
      "\n",
      "Warnings:\n",
      "[1] Standard Errors assume that the covariance matrix of the errors is correctly specified.\n"
     ]
    }
   ],
   "source": [
    "print(ols_res.summary())"
   ]
  },
  {
   "cell_type": "markdown",
   "metadata": {},
   "source": [
    "### FE estimator using numpy"
   ]
  },
  {
   "cell_type": "code",
   "execution_count": 15,
   "metadata": {},
   "outputs": [],
   "source": [
    "### setting\n",
    "T = 3\n",
    "N = int(panel_df.shape[0]/T)\n",
    "K = panel_df[reg].shape[1]\n",
    "X = panel_df[reg].values\n",
    "y = panel_df['lscrap_demean'].values"
   ]
  },
  {
   "cell_type": "code",
   "execution_count": 16,
   "metadata": {},
   "outputs": [],
   "source": [
    "X_fe = X.reshape([N, T, K])\n",
    "y_fe = y.reshape([N, T, 1])"
   ]
  },
  {
   "cell_type": "markdown",
   "metadata": {},
   "source": [
    "betaの計算"
   ]
  },
  {
   "cell_type": "code",
   "execution_count": 17,
   "metadata": {},
   "outputs": [],
   "source": [
    "def panel_FE(X, y, sandwitch = None):\n",
    "    \"\"\"\n",
    "    [OUTPUT]\n",
    "        coefficients\n",
    "        variance matrix\n",
    "        \n",
    "    [INPUT]\n",
    "        X, y must be sorted in accrodance with a unit of observation\n",
    "    \"\"\"\n",
    "    N, T, K = X.shape\n",
    "    \n",
    "    first_term = np.sum(X.transpose(0, 2, 1)@X, axis = 0)\n",
    "    first_term = np.linalg.inv(first_term)\n",
    "    second_term = np.sum(X.transpose(0, 2, 1)@y, axis = 0)\n",
    "    coeff = first_term @ second_term\n",
    "    \n",
    "    if sandwitch:\n",
    "        u = y - X @ coeff\n",
    "        middle_term = np.sum(X.transpose(0, 2, 1) @ u @ u.transpose(0, 2, 1) @ X, axis = 0)\n",
    "        variance = first_term @ middle_term @ first_term\n",
    "        return  coeff, variance, (N * (T - 1) - K)\n",
    "    \n",
    "    else:\n",
    "        error_sum = np.sum((y - X @ coeff)**2)\n",
    "        panel_error = error_sum/(N * (T - 1) - K)\n",
    "        variance = panel_error * first_term\n",
    "        return  coeff, variance, (N * (T - 1) - K), panel_error"
   ]
  },
  {
   "cell_type": "code",
   "execution_count": 18,
   "metadata": {},
   "outputs": [],
   "source": [
    "beta_fe, variance_fe, degree_of_freedom, residual = panel_FE(X_fe, y_fe)"
   ]
  },
  {
   "cell_type": "code",
   "execution_count": 19,
   "metadata": {},
   "outputs": [
    {
     "name": "stdout",
     "output_type": "stream",
     "text": [
      "d88_demean \n",
      " coefficient : -0.08 \n",
      "         std : 0.109 \n",
      "     t-value : -0.733 \n",
      "     p-value : 0.233 \n",
      "\n",
      "d89_demean \n",
      " coefficient : -0.247 \n",
      "         std : 0.133 \n",
      "     t-value : -1.856 \n",
      "     p-value : 0.033 \n",
      "\n",
      "grant_1_demean \n",
      " coefficient : -0.422 \n",
      "         std : 0.21 \n",
      "     t-value : -2.006 \n",
      "     p-value : 0.024 \n",
      "\n",
      "grant_demean \n",
      " coefficient : -0.252 \n",
      "         std : 0.151 \n",
      "     t-value : -1.675 \n",
      "     p-value : 0.048 \n",
      "\n"
     ]
    }
   ],
   "source": [
    "n = 0\n",
    "std = np.diag(variance_fe)**(1/2)\n",
    "for coef, col_name in zip(beta_fe, reg):\n",
    "    t_value = round(coef[0]/std[n], 3)\n",
    "    print(col_name, '\\n coefficient :', round(coef[0], 3),\n",
    "          '\\n         std :', round(std[n], 3), \n",
    "          '\\n     t-value :', t_value ,\n",
    "          '\\n     p-value :', round(t.cdf(t_value, degree_of_freedom) if t_value < 0 else 1 - t.cdf(t_value, degree_of_freedom) , 3), '\\n')\n",
    "    n+=1"
   ]
  },
  {
   "cell_type": "markdown",
   "metadata": {},
   "source": [
    "### FEの計算\n",
    "\n",
    "$$\n",
    "\\hat c_i = \\bar y_i - \\bar x_i\\hat\\beta_{FE}\n",
    "$$"
   ]
  },
  {
   "cell_type": "code",
   "execution_count": 20,
   "metadata": {},
   "outputs": [],
   "source": [
    "def calculate_fe(X, y, beta):\n",
    "    mean_X = np.mean(X, axis = 1)\n",
    "    mean_y = np.mean(y, axis = 1)\n",
    "    return mean_y - mean_X @ beta\n",
    "    "
   ]
  },
  {
   "cell_type": "code",
   "execution_count": 21,
   "metadata": {},
   "outputs": [
    {
     "name": "stdout",
     "output_type": "stream",
     "text": [
      "average fixed effect :  0.5974340572447319\n"
     ]
    },
    {
     "data": {
      "image/png": "[encoded data removed]",
      "text/plain": [
       "<Figure size 432x288 with 1 Axes>"
      ]
     },
     "metadata": {
      "needs_background": "light"
     },
     "output_type": "display_data"
    }
   ],
   "source": [
    "reg_const = ['d88', 'd89',\n",
    "       'grant_1', 'grant']\n",
    "K_const = panel_df[reg_const].shape[1]\n",
    "X_const = panel_df[reg_const].values\n",
    "y_const = panel_df['lscrap'].values\n",
    "X_const = X_const.reshape([N, T, K])\n",
    "y_const = y_const.reshape([N, T, 1])\n",
    "\n",
    "fixed_effect = calculate_fe(X_const, y_const, beta = beta_fe)\n",
    "fixed_effect = sorted(fixed_effect)\n",
    "print('average fixed effect : ', np.mean(fixed_effect))\n",
    "plt.plot(fixed_effect);"
   ]
  },
  {
   "cell_type": "markdown",
   "metadata": {},
   "source": [
    "Wooldridge P 307の結果と一致。"
   ]
  },
  {
   "cell_type": "markdown",
   "metadata": {},
   "source": [
    "### linearmodels and FE"
   ]
  },
  {
   "cell_type": "markdown",
   "metadata": {},
   "source": [
    "#### Import"
   ]
  },
  {
   "cell_type": "code",
   "execution_count": 22,
   "metadata": {},
   "outputs": [],
   "source": [
    "from linearmodels.panel import PanelOLS"
   ]
  },
  {
   "cell_type": "markdown",
   "metadata": {},
   "source": [
    "#### data"
   ]
  },
  {
   "cell_type": "code",
   "execution_count": 23,
   "metadata": {},
   "outputs": [
    {
     "data": {
      "text/html": [
       "<div>\n",
       "<style scoped>\n",
       "    .dataframe tbody tr th:only-of-type {\n",
       "        vertical-align: middle;\n",
       "    }\n",
       "\n",
       "    .dataframe tbody tr th {\n",
       "        vertical-align: top;\n",
       "    }\n",
       "\n",
       "    .dataframe thead th {\n",
       "        text-align: right;\n",
       "    }\n",
       "</style>\n",
       "<table border=\"1\" class=\"dataframe\">\n",
       "  <thead>\n",
       "    <tr style=\"text-align: right;\">\n",
       "      <th></th>\n",
       "      <th></th>\n",
       "      <th>scrap</th>\n",
       "      <th>d88</th>\n",
       "      <th>d89</th>\n",
       "      <th>lscrap</th>\n",
       "      <th>grant_1</th>\n",
       "      <th>grant</th>\n",
       "      <th>constant</th>\n",
       "    </tr>\n",
       "    <tr>\n",
       "      <th>fcode</th>\n",
       "      <th>year</th>\n",
       "      <th></th>\n",
       "      <th></th>\n",
       "      <th></th>\n",
       "      <th></th>\n",
       "      <th></th>\n",
       "      <th></th>\n",
       "      <th></th>\n",
       "    </tr>\n",
       "  </thead>\n",
       "  <tbody>\n",
       "    <tr>\n",
       "      <th rowspan=\"3\" valign=\"top\">410523.0</th>\n",
       "      <th>1987</th>\n",
       "      <td>0.06</td>\n",
       "      <td>0</td>\n",
       "      <td>0</td>\n",
       "      <td>-2.813411</td>\n",
       "      <td>0</td>\n",
       "      <td>0</td>\n",
       "      <td>1</td>\n",
       "    </tr>\n",
       "    <tr>\n",
       "      <th>1988</th>\n",
       "      <td>0.05</td>\n",
       "      <td>1</td>\n",
       "      <td>0</td>\n",
       "      <td>-2.995732</td>\n",
       "      <td>0</td>\n",
       "      <td>0</td>\n",
       "      <td>1</td>\n",
       "    </tr>\n",
       "    <tr>\n",
       "      <th>1989</th>\n",
       "      <td>0.05</td>\n",
       "      <td>0</td>\n",
       "      <td>1</td>\n",
       "      <td>-2.995732</td>\n",
       "      <td>0</td>\n",
       "      <td>0</td>\n",
       "      <td>1</td>\n",
       "    </tr>\n",
       "    <tr>\n",
       "      <th rowspan=\"2\" valign=\"top\">410538.0</th>\n",
       "      <th>1987</th>\n",
       "      <td>2.64</td>\n",
       "      <td>0</td>\n",
       "      <td>0</td>\n",
       "      <td>0.970779</td>\n",
       "      <td>0</td>\n",
       "      <td>0</td>\n",
       "      <td>1</td>\n",
       "    </tr>\n",
       "    <tr>\n",
       "      <th>1988</th>\n",
       "      <td>2.74</td>\n",
       "      <td>1</td>\n",
       "      <td>0</td>\n",
       "      <td>1.007958</td>\n",
       "      <td>0</td>\n",
       "      <td>0</td>\n",
       "      <td>1</td>\n",
       "    </tr>\n",
       "  </tbody>\n",
       "</table>\n",
       "</div>"
      ],
      "text/plain": [
       "               scrap  d88  d89    lscrap  grant_1  grant  constant\n",
       "fcode    year                                                     \n",
       "410523.0 1987   0.06    0    0 -2.813411        0      0         1\n",
       "         1988   0.05    1    0 -2.995732        0      0         1\n",
       "         1989   0.05    0    1 -2.995732        0      0         1\n",
       "410538.0 1987   2.64    0    0  0.970779        0      0         1\n",
       "         1988   2.74    1    0  1.007958        0      0         1"
      ]
     },
     "execution_count": 23,
     "metadata": {},
     "output_type": "execute_result"
    }
   ],
   "source": [
    "data = reg_df.set_index(['fcode','year'])\n",
    "data['constant'] = 1\n",
    "data.head()"
   ]
  },
  {
   "cell_type": "markdown",
   "metadata": {},
   "source": [
    "#### Regression"
   ]
  },
  {
   "cell_type": "code",
   "execution_count": 24,
   "metadata": {},
   "outputs": [
    {
     "name": "stdout",
     "output_type": "stream",
     "text": [
      "                          PanelOLS Estimation Summary                           \n",
      "================================================================================\n",
      "Dep. Variable:                 lscrap   R-squared:                        0.2010\n",
      "Estimator:                   PanelOLS   R-squared (Between):             -0.0177\n",
      "No. Observations:                 162   R-squared (Within):               0.2010\n",
      "Date:                Tue, Apr 14 2020   R-squared (Overall):              0.0021\n",
      "Time:                        22:22:40   Log-likelihood                   -80.946\n",
      "Cov. Estimator:            Unadjusted                                           \n",
      "                                        F-statistic:                      6.5426\n",
      "Entities:                          54   P-value                           0.0001\n",
      "Avg Obs:                       3.0000   Distribution:                   F(4,104)\n",
      "Min Obs:                       3.0000                                           \n",
      "Max Obs:                       3.0000   F-statistic (robust):             6.5426\n",
      "                                        P-value                           0.0001\n",
      "Time periods:                       3   Distribution:                   F(4,104)\n",
      "Avg Obs:                       54.000                                           \n",
      "Min Obs:                       54.000                                           \n",
      "Max Obs:                       54.000                                           \n",
      "                                                                                \n",
      "                             Parameter Estimates                              \n",
      "==============================================================================\n",
      "            Parameter  Std. Err.     T-stat    P-value    Lower CI    Upper CI\n",
      "------------------------------------------------------------------------------\n",
      "d88           -0.0802     0.1095    -0.7327     0.4654     -0.2973      0.1369\n",
      "d89           -0.2472     0.1332    -1.8556     0.0663     -0.5114      0.0170\n",
      "grant_1       -0.4216     0.2102    -2.0057     0.0475     -0.8384     -0.0048\n",
      "grant         -0.2523     0.1506    -1.6751     0.0969     -0.5510      0.0464\n",
      "constant       0.5974     0.0677     8.8202     0.0000      0.4631      0.7318\n",
      "==============================================================================\n",
      "\n",
      "F-test for Poolability: 24.661\n",
      "P-value: 0.0000\n",
      "Distribution: F(53,104)\n",
      "\n",
      "Included effects: Entity\n"
     ]
    }
   ],
   "source": [
    "reg2 = ['d88', 'd89', 'grant_1', 'grant', 'constant']\n",
    "mod = PanelOLS(data.lscrap, data[reg2], entity_effects=True)\n",
    "res = mod.fit()\n",
    "print(res)"
   ]
  },
  {
   "cell_type": "markdown",
   "metadata": {},
   "source": [
    "なぜ`constant`が推定できる理由として、$y_{it} - X_{it}\\hat\\beta_{FE}$の平均を計算していると思われる。stdの計算はわからず。。。"
   ]
  },
  {
   "cell_type": "code",
   "execution_count": 25,
   "metadata": {},
   "outputs": [
    {
     "name": "stdout",
     "output_type": "stream",
     "text": [
      "0.5974340498056494 1.5378766256192813\n"
     ]
    }
   ],
   "source": [
    "reg_const = ['d88', 'd89',\n",
    "       'grant_1', 'grant']\n",
    "K_const = panel_df[reg_const].shape[1]\n",
    "X_const = panel_df[reg_const].values\n",
    "y_const = panel_df['lscrap'].values\n",
    "X_const = X_const.reshape([N, T, K])\n",
    "y_const = y_const.reshape([N, T, 1])\n",
    "\n",
    "const_effect = y_const - X_const @ beta_fe\n",
    "mean_fe = np.mean(const_effect)\n",
    "std_fe = np.sqrt((np.sum(const_effect**2)/(N*T - K) - residual))\n",
    "\n",
    "print(mean_fe, std_fe)"
   ]
  },
  {
   "cell_type": "markdown",
   "metadata": {},
   "source": [
    "## Serial Correlation and Robust Variance Matrix Estimator\n",
    "\n",
    "Assumptionの一つである$u_{it}$がidiosyncratic errorかどうかのテストをする必要がある。$\\ddot u_{it}$は上述より、$\\ddot u_{it-1}$に対してnagatively correlatedなので、$\\ddot u_{it}$を$\\ddot u_{it-1}$に回帰させ null hypothesisを\n",
    "\n",
    "- $H_0: \\delta= -1/(T-1)$\n",
    "- $\\delta = Corr(\\ddot u_{it}, \\ddot u_{it-1})$\n",
    "\n",
    "で検定すれば良い。\n",
    "\n",
    "仮に、検定の結果棄却された場合、the sandwitch formでcovariance matrixを推定すれば良い。このsandwitch formはTがNに対して比較的少ないときであれば、heteroskedasticityやserial correlationが存在するときでも使用できる\n",
    "\n",
    "$$\n",
    "\\text{Avar}(\\hat\\beta_{FE}) = (\\sum \\ddot{X_i}'\\ddot{X_i})^{-1}\\left(\\sum_{i}(\\ddot{X_i}'\\ddot{u_i}\\ddot{u_i}'\\ddot{X_i})\\right)(\\sum\\ddot{X_i}'\\ddot{X_i})^{-1}\n",
    "$$\n",
    "\n"
   ]
  },
  {
   "cell_type": "code",
   "execution_count": 26,
   "metadata": {},
   "outputs": [],
   "source": [
    "beta_fe, variance_fe, degree_of_freedom = panel_FE(X_fe, y_fe, sandwitch = True)"
   ]
  },
  {
   "cell_type": "code",
   "execution_count": 27,
   "metadata": {},
   "outputs": [
    {
     "name": "stdout",
     "output_type": "stream",
     "text": [
      "Sandwitch estimator\n",
      "\n",
      "d88_demean \n",
      " coefficient : -0.08 \n",
      "         std : 0.096 \n",
      "     t-value : -0.838 \n",
      "     p-value : 0.202 \n",
      "\n",
      "Sandwitch estimator\n",
      "\n",
      "d89_demean \n",
      " coefficient : -0.247 \n",
      "         std : 0.193 \n",
      "     t-value : -1.284 \n",
      "     p-value : 0.101 \n",
      "\n",
      "Sandwitch estimator\n",
      "\n",
      "grant_1_demean \n",
      " coefficient : -0.422 \n",
      "         std : 0.276 \n",
      "     t-value : -1.526 \n",
      "     p-value : 0.065 \n",
      "\n",
      "Sandwitch estimator\n",
      "\n",
      "grant_demean \n",
      " coefficient : -0.252 \n",
      "         std : 0.14 \n",
      "     t-value : -1.798 \n",
      "     p-value : 0.038 \n",
      "\n"
     ]
    }
   ],
   "source": [
    "n = 0\n",
    "std = np.diag(variance_fe)**(1/2)\n",
    "for coef, col_name in zip(beta_fe, reg):\n",
    "    t_value = round(coef[0]/std[n], 3)\n",
    "    print('Sandwitch estimator\\n')\n",
    "    print(col_name, '\\n coefficient :', round(coef[0], 3),\n",
    "          '\\n         std :', round(std[n], 3), \n",
    "          '\\n     t-value :', t_value ,\n",
    "          '\\n     p-value :', round(t.cdf(t_value, degree_of_freedom) if t_value < 0 else 1 - t.cdf(t_value, degree_of_freedom) , 3), '\\n')\n",
    "    n+=1"
   ]
  },
  {
   "cell_type": "markdown",
   "metadata": {},
   "source": [
    "Wooldridge P 311と一致。"
   ]
  },
  {
   "cell_type": "code",
   "execution_count": null,
   "metadata": {},
   "outputs": [],
   "source": []
  }
 ],
 "metadata": {
  "kernelspec": {
   "display_name": "Python 3",
   "language": "python",
   "name": "python3"
  },
  "language_info": {
   "codemirror_mode": {
    "name": "ipython",
    "version": 3
   },
   "file_extension": ".py",
   "mimetype": "text/x-python",
   "name": "python",
   "nbconvert_exporter": "python",
   "pygments_lexer": "ipython3",
   "version": "3.7.4"
  }
 },
 "nbformat": 4,
 "nbformat_minor": 4
}
