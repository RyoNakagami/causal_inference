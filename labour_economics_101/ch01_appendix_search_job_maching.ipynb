{
 "cells": [
  {
   "cell_type": "markdown",
   "metadata": {},
   "source": [
    "# 労働移動"
   ]
  },
  {
   "cell_type": "markdown",
   "metadata": {},
   "source": [
    "### Hardware"
   ]
  },
  {
   "cell_type": "code",
   "execution_count": 1,
   "metadata": {},
   "outputs": [
    {
     "name": "stdout",
     "output_type": "stream",
     "text": [
      "      Model Identifier: MacBookPro13,1\n",
      "      Processor Name: Dual-Core Intel Core i5\n",
      "      Processor Speed: 2 GHz\n",
      "      Number of Processors: 1\n",
      "      Memory: 16 GB\n"
     ]
    }
   ],
   "source": [
    "%%bash\n",
    "system_profiler SPHardwareDataType | \\\n",
    "grep -E \"Model Identifier\"\\|\"Processor Name\"\\|\"Processor Speed\"\\|\"Number of Processors\"\\|\"Memory:\""
   ]
  },
  {
   "cell_type": "code",
   "execution_count": 2,
   "metadata": {},
   "outputs": [
    {
     "name": "stdout",
     "output_type": "stream",
     "text": [
      "Python 3.7.4\n"
     ]
    }
   ],
   "source": [
    "!python -V"
   ]
  },
  {
   "cell_type": "code",
   "execution_count": 3,
   "metadata": {},
   "outputs": [],
   "source": [
    "#!pip install --upgrade <module name>"
   ]
  },
  {
   "cell_type": "markdown",
   "metadata": {},
   "source": [
    "### Import"
   ]
  },
  {
   "cell_type": "code",
   "execution_count": 4,
   "metadata": {},
   "outputs": [],
   "source": [
    "import numpy as np\n",
    "import pandas as pd\n",
    "import matplotlib.pyplot as plt\n",
    "import sys"
   ]
  },
  {
   "cell_type": "code",
   "execution_count": 5,
   "metadata": {},
   "outputs": [
    {
     "name": "stdout",
     "output_type": "stream",
     "text": [
      "numpy 1.18.2\n",
      "pandas 1.0.3\n"
     ]
    }
   ],
   "source": [
    "print('numpy', np.__version__)\n",
    "print('pandas', pd.__version__)"
   ]
  },
  {
   "cell_type": "markdown",
   "metadata": {},
   "source": [
    "## 1. サーチモデル\n",
    "### Keyword\n",
    "\n",
    "- McCall model\n",
    "\n",
    "\n",
    "### サーチモデルの特徴\n",
    "\n",
    "競争近郊モデルでも補償賃金格差モデルでも、同一の仕事に対して支払われる賃金は、市場均衡賃金であり、企業間で同一であると仮定している。しかし現実には、同質の仕事に対して支払われる賃金が異なることがある。これを「情報の不完全性」、つまり労働者がどの企業がどの賃金を提供しているという情報を知る程度には限界があるという観点から説明するモデルである。\n",
    "\n",
    "### 単純なサーチモデル\n",
    "#### 設定\n",
    "\n",
    "- $w$ : wage\n",
    "- $f(w)$: wage distribution\n",
    "- 労働者は2期間生きる\n",
    "- 労働者は各期の初めにjob searchを行う（就業状態に関係なく実施する）\n",
    "- job searchにはコストは発生しない\n",
    "- job searchの結果、期初に労働者は1つの賃金を提示され、その賃金分布は$f(w)$に従うとする\n",
    "- 労働者は毎期、転職するかしないかの意思決定をする\n",
    "- 無職のときに転職しない場合は、失業保険と余暇をエンジョイし、それの金銭的価値を$b$とする\n",
    "- 労働者は2期間の所得の現在価値の和を最大化するように行動する\n",
    "- $(1 + r)^{-1}$を割引現在価値とする\n",
    "\n",
    "#### 解き方\n",
    "\n",
    "第二期の意思決定は第一期に労働者が得ていた賃金水準に従うので、まず第二期の行動について考え、その次に第一期の行動について考える。\n",
    "\n",
    "- 第二期の行動\n",
    "\n",
    "$$\n",
    "\\begin{aligned}\n",
    "E[I_2|\\text{第1期に失業}] & = Pr(w > b)E[w|w>b] + (1 - Pr(w > b))b\\\\\n",
    "& = Pr(w > b)(E[w|w>b] - b) + b\n",
    "\\end{aligned}\n",
    "$$\n",
    "\n",
    "$$\n",
    "\\begin{aligned}\n",
    "E[I_2|\\text{第1期に雇用}] & = Pr(w > w_1)E[w|w>w_1] + (1 - Pr(w > w_1))w_1\\\\\n",
    "& = Pr(w > w_1)(E[w|w>w_1] - w_1) + w_1\n",
    "\\end{aligned}\n",
    "$$\n",
    "\n",
    "- 第一期の行動\n",
    "\n",
    "以下の二つの所得現在価値（PV）を比較して意思決定するはず\n",
    "\n",
    "$$\n",
    "PV(\\text{受諾}) = w_1 + \\frac{Pr(w > w_1)(E[w|w>w_1] - w_1) + w_1}{1 + r}\n",
    "$$\n",
    "\n",
    "$$\n",
    "PV(\\text{失業) = w_1 + \\frac{Pr(w > b)(E[w|w>b] - b) + b}{1 + r}\n",
    "$$\n",
    "\n",
    "つまり、$w > b$ならば労働者は第一期に就業することがわかる。"
   ]
  },
  {
   "cell_type": "markdown",
   "metadata": {},
   "source": [
    "### The McCall model\n",
    "#### 各期の意思決定内容\n",
    "\n",
    "- 失業者は毎期$w_t$のjob offerをもらい、働くか働かないかの意思決定をする.\n",
    "\n",
    "#### wage distribution\n",
    "\n",
    "$$\n",
    "w_t = w(s_t) \\quad \\text{where } \\; s_t \\in \\mathbb{S}\n",
    "$$\n",
    "\n",
    "- $w_t$: wage at time t\n",
    "- $\\{s_t\\}$: a random state which affect wage distribution\n",
    "- $\\{s_t\\}$ is IID, with the pdf $q(s)$\n",
    "- the agentは期初にstate, $s_t$, を観測する\n",
    "- the set $\\mathbb S$ is finite\n",
    "\n",
    "#### Assumption \n",
    "\n",
    "At time $t$, our agent has two choices;\n",
    "\n",
    "- Accept the offer and work permanently at constant wage $w_t$\n",
    "- Reject the offer, receive unemployment compensation $c$, and reconsider next period.\n",
    "\n",
    "#### Objective Function\n",
    "\n",
    "$$\n",
    "\\mathbb{E} \\sum_{t=0}^{\\infty} \\beta^t y_t\n",
    "$$\n",
    "\n",
    "- $\\beta \\in (0, 1)$\n",
    "\n",
    "\n",
    "#### Trade-Off\n",
    "\n",
    "The worker faces a trade-off:\n",
    "\n",
    "- Waiting too long for a good offer is costly, since the future is discounted.\n",
    "- Accepting too early is costly, since better offers might arrive in the future.\n",
    "\n",
    "#### DPの解き方\n",
    "\n",
    "Dynamic programming can be thought of as a two-step procedure that\n",
    "\n",
    "1. first assigns values to “states” and\n",
    "2. then deduces optimal actions given those values\n"
   ]
  },
  {
   "cell_type": "markdown",
   "metadata": {},
   "source": [
    "#### The Value Function\n",
    "\n",
    "Let $v^*(s)$ be the total lifetime value accruing to an unemployed worker who enters the current period unemployed when the state is $s \\in \\mathbb S$\n",
    "\n",
    "$$\n",
    "v^*(s)= \\max \\left\\{\n",
    "        \\frac{w(s)}{1 - \\beta}, \\, c + \\beta\n",
    "        \\sum_{s' \\in \\mathbb{S}} v^*(s') q (s')\n",
    "    \\right\\} \\tag{1}\n",
    "$$\n",
    "\n",
    "#### The Optimal Policy\n",
    "\n",
    "- The optimal action is best thought of as a policy, which is, in general, a map from states to actions.\n",
    "- $\\sigma: \\mathbb R \\to \\{0, 1\\}$\n",
    "\n",
    "$$\n",
    "\\sigma(s) := \\mathbf{1}\n",
    "    \\left\\{\n",
    "        \\frac{w(s)}{1 - \\beta} \\geq c + \\beta \\sum_{s' \\in \\mathbb S}\n",
    "        v^*(s') q (s')\n",
    "    \\right\\}\n",
    "$$\n",
    "\n",
    "このpolicy functionは次のように書き換えるこおができる\n",
    "\n",
    "$$\n",
    "\\sigma(s) := \\mathbf{1} \\{ w(s) \\geq \\bar w \\}\n",
    "$$\n",
    "\n",
    "where\n",
    "\n",
    "$$\n",
    "\\bar w := (1 - \\beta) \\left\\{ c + \\beta \\sum_{s'} v^*(s') q (s') \\right\\} \\tag{2}\n",
    "$$\n",
    "\n",
    "- $\\bar w$: the reservation wage\n",
    "- The agent should accept if and only if the current wage offer exceeds the reservation wage.\n"
   ]
  },
  {
   "cell_type": "markdown",
   "metadata": {},
   "source": [
    "### Computing the Optimal Policy\n",
    "\n",
    "we need to compute the value function at each possible state $s \\in \\mathbb S$\n",
    "\n",
    "- $\\mathbb S = \\{1, 2, 3, ..., n\\}$\n",
    "- The value function, $v^* = (v^*(i))_{i=1}^n$\n",
    "\n",
    "$$\n",
    "v^*(i)\n",
    "= \\max \\left\\{\n",
    "        \\frac{w(i)}{1 - \\beta}, \\, c + \\beta \\sum_{1 \\leq j \\leq n}\n",
    "            v^*(j) q (j)\n",
    "    \\right\\}\n",
    "\\quad\n",
    "\\text{for } i = 1, \\ldots, n \\tag{3}\n",
    "$$"
   ]
  },
  {
   "cell_type": "markdown",
   "metadata": {},
   "source": [
    "### Compuation Algorithm\n",
    "\n",
    "- Step 1: pick an arbitrary initial guess, $v \\in \\mathbb R^n$\n",
    "- Step 2: compute a new vector $v^' \\in \\mathbb R^n$\n",
    "\n",
    "$$\n",
    "v'(i)\n",
    "= \\max \\left\\{\n",
    "        \\frac{w(i)}{1 - \\beta}, \\, c + \\beta \\sum_{1 \\leq j \\leq n}\n",
    "            v(j) q (j)\n",
    "    \\right\\}\n",
    "\\quad\n",
    "\\text{for } i = 1, \\ldots, n \\tag{4}\n",
    "$$\n",
    "\n",
    "- Step 3: calculate a measure of the deviation between $v$ and $v'$, such as $\\max_i |v(i)- v'(i)|$\n",
    "- Step 4: if the deviation is larger than some fixed tolerance, set $v = v'$ and go to step 2, else continue.\n",
    "- Step 5: return v\n",
    "\n",
    "$\\{v_k\\}$ denote the sequence genererated by this algorithm.\n",
    "\n",
    "### The Fixed Point Theory\n",
    "\n",
    "- T: mapping $\\mathbb R^n$ to itself\n",
    "\n",
    "$$(Tv)(i)\n",
    "= \\max \\left\\{\n",
    "        \\frac{w(i)}{1 - \\beta}, \\, c + \\beta \\sum_{1 \\leq j \\leq n}\n",
    "            v(j) q (j)\n",
    "    \\right\\}\n",
    "\\quad\n",
    "\\text{for } i = 1, \\ldots, n \\tag{5}\n",
    "$$\n",
    "\n",
    "- see Banach Fixed point theorem\n",
    "- One implication is that $T$ has a unique fixed point in $\\mathbb R^n$\n"
   ]
  },
  {
   "cell_type": "markdown",
   "metadata": {},
   "source": [
    "### Into Practice\n",
    "\n",
    "```\n",
    "[INPUT]\n",
    "     q_defalut: default choice of q\n",
    "     w_default: default choice of w\n",
    "    \n",
    "[OUTPUT]\n",
    "    each stateごとのoptimal value\n",
    "\n",
    "[CLASS DEPENDENCY]\n",
    "    numpy\n",
    "    scipy.stats.betabinom: q_defautの設定に使用（任意）\n",
    "\n",
    "[ALGORITHM]\n",
    "    set n; the number of state S\n",
    "    set alpha, beta; initial value for BetaBinomial\n",
    "    set q_default; BetaBinomial(n, alpha, beta) \n",
    "    set w_default; in accordance with q_default, whose length is n\n",
    "    set c; compensation insurance\n",
    "    set beta; discount value\n",
    "    set tol; tolerance level\n",
    "    set iter; the number of iteration\n",
    "    \n",
    "    v = w_defalut / (1 - beta)\n",
    "    v_updated = random_value\n",
    "    count = 0\n",
    "    \n",
    "    while abs(v - v_updated) > tol and count < iter:\n",
    "        if count > 0:\n",
    "            v = v_updated\n",
    "        for (i == 0, i < n, i++):\n",
    "            accept = w[i] / (1 - beta)\n",
    "            reject = c + beta * sum(v * q)\n",
    "            v_updated[i] == max(accept, reject)\n",
    "        \n",
    "        count += 1\n",
    "     \n",
    "     reservation_wage = (1 - beta) * (c + beta * sum(v * q))\n",
    "    \n",
    "     return v_updated, reservation_wage\n",
    "```"
   ]
  },
  {
   "cell_type": "code",
   "execution_count": 6,
   "metadata": {},
   "outputs": [],
   "source": [
    "from scipy.stats import betabinom"
   ]
  },
  {
   "cell_type": "code",
   "execution_count": 7,
   "metadata": {},
   "outputs": [],
   "source": [
    "n, a, b = 50, 200, 100   # default parameters\n",
    "q_default = []\n",
    "for i in range(n+1):\n",
    "    tmp = betabinom(n, a, b).pmf(i)\n",
    "    q_default.append(tmp)\n",
    "\n",
    "q_default = np.array(q_default)"
   ]
  },
  {
   "cell_type": "code",
   "execution_count": 8,
   "metadata": {},
   "outputs": [],
   "source": [
    "w_min, w_max = 10, 60\n",
    "w_default = np.linspace(w_min, w_max, n+1)"
   ]
  },
  {
   "cell_type": "code",
   "execution_count": 9,
   "metadata": {},
   "outputs": [
    {
     "data": {
      "image/png": "[encoded data removed]",
      "text/plain": [
       "<Figure size 432x288 with 1 Axes>"
      ]
     },
     "metadata": {
      "needs_background": "light"
     },
     "output_type": "display_data"
    }
   ],
   "source": [
    "fig, ax = plt.subplots()\n",
    "ax.plot(w_default, q_default, '-o', label='$q(w(i))$')\n",
    "ax.set_xlabel('wages')\n",
    "ax.set_ylabel('probabilities');"
   ]
  },
  {
   "cell_type": "markdown",
   "metadata": {},
   "source": [
    "Classの定義"
   ]
  },
  {
   "cell_type": "code",
   "execution_count": 10,
   "metadata": {},
   "outputs": [],
   "source": [
    "class McCallModel:\n",
    "\n",
    "    def __init__(self, c=25, beta=0.99, w=w_default, q=q_default):\n",
    "\n",
    "        self.c, self.beta = c, beta\n",
    "        self.w, self.q = w_default, q_default\n",
    "\n",
    "    def state_action_values(self, i, v):\n",
    "        \"\"\"\n",
    "        The values of state-action pairs.\n",
    "        \"\"\"\n",
    "        # Simplify names\n",
    "        c, beta, w, q = self.c, self.beta, self.w, self.q\n",
    "        # Evaluate value for each state-action pair\n",
    "        # Consider action = accept or reject the current offer\n",
    "        accept = w[i] / (1 - beta)\n",
    "        reject = c + beta * np.sum(v * q)\n",
    "\n",
    "        return np.array([accept, reject])"
   ]
  },
  {
   "cell_type": "code",
   "execution_count": 11,
   "metadata": {},
   "outputs": [],
   "source": [
    "def compute_reservation_wage(mcm,\n",
    "                             max_iter=500,\n",
    "                             tol=1e-6):\n",
    "\n",
    "    # Simplify names\n",
    "    c, beta, w, q = mcm.c, mcm.beta, mcm.w, mcm.q\n",
    "\n",
    "    # == First compute the value function == #\n",
    "\n",
    "    n = len(w)\n",
    "    v = w / (1 - beta)          # initial guess\n",
    "    v_next = np.empty_like(v)\n",
    "    i = 0\n",
    "    error = tol + 1\n",
    "    while i < max_iter and error > tol:\n",
    "\n",
    "        for i in range(n):\n",
    "            v_next[i] = np.max(mcm.state_action_values(i, v))\n",
    "\n",
    "        error = np.max(np.abs(v_next - v))\n",
    "        i += 1\n",
    "\n",
    "        v[:] = v_next  # copy contents into v\n",
    "\n",
    "    # == Now compute the reservation wage == #\n",
    "\n",
    "    return v, (1 - beta) * (c + beta * np.sum(v * q))"
   ]
  },
  {
   "cell_type": "code",
   "execution_count": 12,
   "metadata": {},
   "outputs": [
    {
     "data": {
      "text/plain": [
       "47.3164997100239"
      ]
     },
     "execution_count": 12,
     "metadata": {},
     "output_type": "execute_result"
    }
   ],
   "source": [
    "mcm = McCallModel()\n",
    "optimal_value, res = compute_reservation_wage(mcm)\n",
    "res"
   ]
  },
  {
   "cell_type": "markdown",
   "metadata": {},
   "source": [
    "### Comparative Statics\n",
    "\n",
    " let’s look at what happens when we change $\\beta$ and $c$"
   ]
  },
  {
   "cell_type": "code",
   "execution_count": 13,
   "metadata": {},
   "outputs": [],
   "source": [
    "grid_size = 25\n",
    "R = np.empty((grid_size, grid_size))\n",
    "\n",
    "c_vals = np.linspace(10.0, 30.0, grid_size)\n",
    "β_vals = np.linspace(0.9, 0.99, grid_size)\n",
    "\n",
    "for i, c in enumerate(c_vals):\n",
    "    for j, β in enumerate(β_vals):\n",
    "        mcm = McCallModel(c=c, beta=β)\n",
    "        R[i, j] = compute_reservation_wage(mcm)[1]"
   ]
  },
  {
   "cell_type": "code",
   "execution_count": 14,
   "metadata": {},
   "outputs": [
    {
     "data": {
      "image/png": "[encoded data removed]",
      "text/plain": [
       "<Figure size 432x288 with 2 Axes>"
      ]
     },
     "metadata": {
      "needs_background": "light"
     },
     "output_type": "display_data"
    }
   ],
   "source": [
    "fig, ax = plt.subplots()\n",
    "\n",
    "cs1 = ax.contourf(c_vals, β_vals, R.T, alpha=0.75)\n",
    "ctr1 = ax.contour(c_vals, β_vals, R.T)\n",
    "\n",
    "plt.clabel(ctr1, inline=1, fontsize=13)\n",
    "plt.colorbar(cs1, ax=ax)\n",
    "\n",
    "\n",
    "ax.set_title(\"reservation wage\")\n",
    "ax.set_xlabel(\"$c$\", fontsize=16)\n",
    "ax.set_ylabel(\"$β$\", fontsize=16)\n",
    "\n",
    "ax.ticklabel_format(useOffset=False)\n",
    "\n",
    "plt.show()"
   ]
  },
  {
   "cell_type": "code",
   "execution_count": null,
   "metadata": {},
   "outputs": [],
   "source": []
  }
 ],
 "metadata": {
  "kernelspec": {
   "display_name": "Python 3",
   "language": "python",
   "name": "python3"
  },
  "language_info": {
   "codemirror_mode": {
    "name": "ipython",
    "version": 3
   },
   "file_extension": ".py",
   "mimetype": "text/x-python",
   "name": "python",
   "nbconvert_exporter": "python",
   "pygments_lexer": "ipython3",
   "version": "3.7.4"
  }
 },
 "nbformat": 4,
 "nbformat_minor": 4
}
