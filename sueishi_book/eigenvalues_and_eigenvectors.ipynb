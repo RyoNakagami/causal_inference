{
 "cells": [
  {
   "cell_type": "markdown",
   "metadata": {},
   "source": [
    "# Eigenvalues and Eigenvectors\n",
    "## Agenda\n",
    "- 固有値と固有ベクトル\n",
    "- 正方行列の正則行列による対角化"
   ]
  },
  {
   "cell_type": "markdown",
   "metadata": {},
   "source": [
    "### Hardware"
   ]
  },
  {
   "cell_type": "code",
   "execution_count": 1,
   "metadata": {},
   "outputs": [
    {
     "name": "stdout",
     "output_type": "stream",
     "text": [
      "      Model Identifier: MacBookPro13,1\n",
      "      Processor Name: Dual-Core Intel Core i5\n",
      "      Processor Speed: 2 GHz\n",
      "      Number of Processors: 1\n",
      "      Memory: 16 GB\n"
     ]
    }
   ],
   "source": [
    "%%bash\n",
    "system_profiler SPHardwareDataType | grep -E \\\n",
    "\"Model Identifier\"\\|\"Processor Name\"\\|\"Processor Speed\"\\\n",
    "\\|\"Number of Processors\"\\|\"Memory:\""
   ]
  },
  {
   "cell_type": "code",
   "execution_count": 2,
   "metadata": {},
   "outputs": [
    {
     "name": "stdout",
     "output_type": "stream",
     "text": [
      "ProductName:\tMac OS X\n",
      "ProductVersion:\t10.15.4\n",
      "BuildVersion:\t19E287\n"
     ]
    }
   ],
   "source": [
    "!sw_vers"
   ]
  },
  {
   "cell_type": "markdown",
   "metadata": {},
   "source": [
    "### Python"
   ]
  },
  {
   "cell_type": "code",
   "execution_count": 3,
   "metadata": {},
   "outputs": [
    {
     "name": "stdout",
     "output_type": "stream",
     "text": [
      "Python 3.7.4\n"
     ]
    }
   ],
   "source": [
    "!python -V"
   ]
  },
  {
   "cell_type": "markdown",
   "metadata": {},
   "source": [
    "### Install packages"
   ]
  },
  {
   "cell_type": "code",
   "execution_count": 4,
   "metadata": {},
   "outputs": [],
   "source": [
    "pass"
   ]
  },
  {
   "cell_type": "markdown",
   "metadata": {},
   "source": [
    "### Import"
   ]
  },
  {
   "cell_type": "code",
   "execution_count": 5,
   "metadata": {},
   "outputs": [],
   "source": [
    "import numpy as np\n",
    "from functools import reduce\n",
    "import sympy "
   ]
  },
  {
   "cell_type": "markdown",
   "metadata": {},
   "source": [
    "### 関数"
   ]
  },
  {
   "cell_type": "code",
   "execution_count": 6,
   "metadata": {},
   "outputs": [],
   "source": [
    "pass"
   ]
  },
  {
   "cell_type": "markdown",
   "metadata": {},
   "source": [
    "## 1. 固有値と固有ベクトル\n",
    "\n",
    "$$\n",
    "A = [a_{ij}]\n",
    "$$\n",
    "\n",
    "はn次正方行列とする。\n",
    "\n",
    "- 固有値とは、$A\\mathbf x = \\lambda \\mathbf x, \\mathbf x \\neq 0$を満たすn次元列ベクトル$\\mathbf x$が存在するような$\\lambda$のこと\n",
    "- 固有ベクトルとは、各固有値に対応する$A\\mathbf x = \\lambda \\mathbf x, \\mathbf x \\neq 0$を満たすn次元列ベクトル$\\mathbf x$\n",
    "- 固有値は、一般には複数あるが、dimA 個以下\n",
    "\n"
   ]
  },
  {
   "cell_type": "markdown",
   "metadata": {},
   "source": [
    "### 例題1\n",
    "\n",
    "$$\n",
    "A =\\left[\\begin{array}{ccc}\n",
    "3 & -5 & -5\\\\\n",
    "-1 & 7 & 5\\\\\n",
    "1 & -9 & -7\n",
    "\\end{array}\\right]\n",
    "$$\n",
    "の固有値と固有ベクトル(normは1に揃えよ)を求めよ。"
   ]
  },
  {
   "cell_type": "markdown",
   "metadata": {},
   "source": [
    "[解答]\n",
    "\n",
    "Aの固有方程式$\\varphi(t)$は\n",
    "\n",
    "$$\n",
    "\\varphi(t) = |A - tI_n| =\\left|\\begin{array}{ccc}\n",
    "3-t & -5 & -5\\\\\n",
    "-1 & 7-t & 5\\\\\n",
    "1 & -9 & -7-t\n",
    "\\end{array}\\right|\n",
    "$$\n",
    "\n"
   ]
  },
  {
   "cell_type": "code",
   "execution_count": 7,
   "metadata": {},
   "outputs": [
    {
     "name": "stdout",
     "output_type": "stream",
     "text": [
      "eigenvalues are [-2, 2, 3]\n"
     ]
    }
   ],
   "source": [
    "t = sympy.Symbol('t')\n",
    "expr = (3-t)*(7-t)*(-7-t)-70 + 5*(7-t) - 5*(-7-t) + 45 *(3- t)\n",
    "print('eigenvalues are' , sympy.solve(expr))"
   ]
  },
  {
   "cell_type": "markdown",
   "metadata": {},
   "source": [
    "対応する固有ベクトルの計算(-2を例とする)は"
   ]
  },
  {
   "cell_type": "markdown",
   "metadata": {},
   "source": [
    "$$\n",
    "\\left[\\begin{array}{ccc}\n",
    "5 & -5 & -5\\\\\n",
    "-1 & 9 & 5\\\\\n",
    "1 & -9 & -5\n",
    "\\end{array}\\right]\\mathbf x = 0\n",
    "$$\n",
    "\n",
    "\n",
    "よって、\n",
    "$$\n",
    "\\begin{aligned}\n",
    "5x_1 - 5x_2 - 5x_3 &= 0\\\\\n",
    "-x_1 + 9x_2 + 5x_3 &= 0\n",
    "\\end{aligned}\n",
    "$$\n",
    "\n",
    "Then,\n",
    "$$\n",
    "\\mathbf x = \\frac{1}{\\sqrt 6}(1, -1,  2)^T\n",
    "$$\n"
   ]
  },
  {
   "cell_type": "markdown",
   "metadata": {},
   "source": [
    "### 固有方程式の根と係数の関係\n",
    "$[\\lambda_1, ..., \\lambda_n]$を$A = [a_{ij}]$の固有値とすると\n",
    "\n",
    "$$\n",
    "\\begin{aligned}\n",
    "\\Sigma \\lambda_i &= tr(A)\\\\\n",
    "\\Pi \\lambda_i & = |A|\n",
    "\\end{aligned}\n",
    "$$\n",
    "\n",
    "[証明]\n",
    "\n",
    "$$\n",
    "\\varphi(t) = |A - t I_n| = (-1)^nt^n + (-1)^{n-1}t^{n-1}tr(A) + ... + |A|\n",
    "$$\n",
    "\n",
    "一方、Aの固有値は固有方程式の解なので\n",
    "\n",
    "$$\n",
    "\\varphi(t) = (-1)^n(t - \\lambda_1)...(t - \\lambda_n)\n",
    "$$\n",
    "\n",
    "よって係数比較より自明。"
   ]
  },
  {
   "cell_type": "markdown",
   "metadata": {},
   "source": [
    "### 正則条件\n",
    "\n",
    "<img src = 'https://github.com/RyoNakagami/omorikaizuka/blob/master/algorithm/固有値正則条件.jpg?raw=true'>"
   ]
  },
  {
   "cell_type": "markdown",
   "metadata": {},
   "source": [
    "### Pythonで確認"
   ]
  },
  {
   "cell_type": "code",
   "execution_count": 8,
   "metadata": {},
   "outputs": [],
   "source": [
    "def eigenvalue_check(A):\n",
    "    w, v = np.linalg.eig(A)\n",
    "    res_1 = np.allclose(sum(w),np.trace(A))\n",
    "    res_2 = np.allclose(reduce(lambda a, b: a*b, w), np.linalg.det(A))\n",
    "    print(' trace check :', res_1, '\\n','determinant check: ', res_2)"
   ]
  },
  {
   "cell_type": "code",
   "execution_count": 9,
   "metadata": {},
   "outputs": [
    {
     "name": "stdout",
     "output_type": "stream",
     "text": [
      " trace check : True \n",
      " determinant check:  True\n"
     ]
    }
   ],
   "source": [
    "A = np.array([[9,10],[-6,-7]])\n",
    "eigenvalue_check(A)"
   ]
  },
  {
   "cell_type": "code",
   "execution_count": 10,
   "metadata": {},
   "outputs": [
    {
     "name": "stdout",
     "output_type": "stream",
     "text": [
      " trace check : True \n",
      " determinant check:  True\n"
     ]
    }
   ],
   "source": [
    "A = np.array([[11,9],[-4,-1]])\n",
    "eigenvalue_check(A)"
   ]
  },
  {
   "cell_type": "code",
   "execution_count": 11,
   "metadata": {},
   "outputs": [
    {
     "name": "stdout",
     "output_type": "stream",
     "text": [
      " trace check : True \n",
      " determinant check:  True\n"
     ]
    }
   ],
   "source": [
    "A = np.array([[5,-7, -7],[-4, 8, 7], [4, -10, -9]])\n",
    "eigenvalue_check(A)"
   ]
  },
  {
   "cell_type": "code",
   "execution_count": 12,
   "metadata": {},
   "outputs": [
    {
     "name": "stdout",
     "output_type": "stream",
     "text": [
      " trace check : True \n",
      " determinant check:  True\n"
     ]
    }
   ],
   "source": [
    "A = np.random.randint(10, 100, 9).reshape(3,3)\n",
    "eigenvalue_check(A)"
   ]
  },
  {
   "cell_type": "markdown",
   "metadata": {},
   "source": [
    "### 転置行列と固有多項式\n",
    "\n",
    "$$\n",
    "|A - \\lambda I_n| = |(A - \\lambda I_n)^T| = |A^T - \\lambda I_n|\n",
    "$$\n",
    "\n",
    "より、転置行列の固有多項式は一致する。\n"
   ]
  },
  {
   "cell_type": "markdown",
   "metadata": {},
   "source": [
    "## 2. Diagonalization(対角化)\n",
    "\n",
    "n次正方行列Aに対して、正則行列Pを適当に選んで、$D = P^{-1}AP$とすると、$D$はAの対角化行列となる。\n",
    "\n",
    "### 対角化条件\n",
    "\n",
    "n次正方行列Aが対角化可能な必要十分条件は、Aがn個の線形独立な固有ベクトルを有することである。"
   ]
  },
  {
   "cell_type": "code",
   "execution_count": 13,
   "metadata": {},
   "outputs": [
    {
     "name": "stdout",
     "output_type": "stream",
     "text": [
      "[[0.2 0.4 0.2]\n",
      " [0.7 0.5 0.6]\n",
      " [0.1 0.1 0.2]]\n"
     ]
    }
   ],
   "source": [
    "A = np.array([[0.2,0.7, 0.1],[0.4,0.5, 0.1], [0.2, 0.6, 0.2]]).T\n",
    "print(A)"
   ]
  },
  {
   "cell_type": "code",
   "execution_count": 14,
   "metadata": {},
   "outputs": [
    {
     "name": "stdout",
     "output_type": "stream",
     "text": [
      "[ 1.  -0.2  0.1] \n",
      "\n",
      " [[-4.74054679e-01 -7.07106781e-01 -5.34522484e-01]\n",
      " [-8.64452649e-01  7.07106781e-01 -2.67261242e-01]\n",
      " [-1.67313416e-01  2.67621717e-17  8.01783726e-01]]\n"
     ]
    }
   ],
   "source": [
    "w, v = np.linalg.eig(A)\n",
    "print(w,'\\n\\n', v)"
   ]
  },
  {
   "cell_type": "code",
   "execution_count": 15,
   "metadata": {},
   "outputs": [
    {
     "data": {
      "text/plain": [
       "array([[ 1. ,  0. ,  0. ],\n",
       "       [ 0. , -0.2,  0. ],\n",
       "       [ 0. ,  0. ,  0.1]])"
      ]
     },
     "execution_count": 15,
     "metadata": {},
     "output_type": "execute_result"
    }
   ],
   "source": [
    "D = np.linalg.inv(v)@A@v\n",
    "D_1 = np.where(abs(D) > 1e-15, D, 0)\n",
    "D_1"
   ]
  },
  {
   "cell_type": "markdown",
   "metadata": {},
   "source": [
    "固有ベクトルの順番を変えてみると"
   ]
  },
  {
   "cell_type": "code",
   "execution_count": 16,
   "metadata": {},
   "outputs": [
    {
     "data": {
      "text/plain": [
       "array([[ 0.1,  0. ,  0. ],\n",
       "       [ 0. , -0.2,  0. ],\n",
       "       [ 0. ,  0. ,  1. ]])"
      ]
     },
     "execution_count": 16,
     "metadata": {},
     "output_type": "execute_result"
    }
   ],
   "source": [
    "D = np.linalg.inv(v[:,::-1])@A@v[:,::-1]\n",
    "D_2 = np.where(abs(D) > 1e-15, D, 0)\n",
    "D_2"
   ]
  },
  {
   "cell_type": "markdown",
   "metadata": {},
   "source": [
    "なお行列のn乗は一致する"
   ]
  },
  {
   "cell_type": "code",
   "execution_count": 17,
   "metadata": {},
   "outputs": [
    {
     "data": {
      "text/plain": [
       "array([[0.31481481, 0.31481481, 0.31481481],\n",
       "       [0.57407407, 0.57407407, 0.57407407],\n",
       "       [0.11111111, 0.11111111, 0.11111111]])"
      ]
     },
     "execution_count": 17,
     "metadata": {},
     "output_type": "execute_result"
    }
   ],
   "source": [
    "v@np.linalg.matrix_power(D_1, 10000)@np.linalg.inv(v)"
   ]
  },
  {
   "cell_type": "code",
   "execution_count": 18,
   "metadata": {},
   "outputs": [
    {
     "data": {
      "text/plain": [
       "array([[0.31481481, 0.31481481, 0.31481481],\n",
       "       [0.57407407, 0.57407407, 0.57407407],\n",
       "       [0.11111111, 0.11111111, 0.11111111]])"
      ]
     },
     "execution_count": 18,
     "metadata": {},
     "output_type": "execute_result"
    }
   ],
   "source": [
    "v[:,::-1]@np.linalg.matrix_power(D_2, 10000)@np.linalg.inv(v[:,::-1])"
   ]
  },
  {
   "cell_type": "markdown",
   "metadata": {},
   "source": [
    "### Matrix Powers\n",
    "\n",
    "$$\n",
    "A^k = (PDP^{-1})^k = PD^kP^{-1}\n",
    "$$\n",
    "との関係が知られている。\n",
    "\n",
    "\n",
    "[証明]\n",
    "$$\n",
    "A^k = (PDP^{-1})^k = (PDP^{-1})(PDP^{-1})...(PDP^{-1})\n",
    "$$\n",
    "\n",
    "このとき、$PP^{-1} = I_n$より\n",
    "\n",
    "$$\n",
    "A^k = PD^kP^{-1}\n",
    "$$\n",
    "\n"
   ]
  },
  {
   "cell_type": "code",
   "execution_count": 19,
   "metadata": {},
   "outputs": [
    {
     "data": {
      "text/plain": [
       "array([[0.31481481, 0.31481481, 0.31481481],\n",
       "       [0.57407407, 0.57407407, 0.57407407],\n",
       "       [0.11111111, 0.11111111, 0.11111111]])"
      ]
     },
     "execution_count": 19,
     "metadata": {},
     "output_type": "execute_result"
    }
   ],
   "source": [
    "prob_raw = np.linalg.matrix_power(A, 10000)\n",
    "prob_raw"
   ]
  },
  {
   "cell_type": "code",
   "execution_count": 20,
   "metadata": {},
   "outputs": [
    {
     "data": {
      "text/plain": [
       "array([[ 0.07407407,  0.07407407, -0.59259259],\n",
       "       [ 0.03703704,  0.03703704, -0.2962963 ],\n",
       "       [-0.11111111, -0.11111111,  0.88888889]])"
      ]
     },
     "execution_count": 20,
     "metadata": {},
     "output_type": "execute_result"
    }
   ],
   "source": [
    "prob = v@np.linalg.matrix_power(D, 10000)@np.linalg.inv(v)\n",
    "prob"
   ]
  },
  {
   "cell_type": "markdown",
   "metadata": {},
   "source": [
    "### Page遷移確率への応用\n",
    "\n",
    "$A = [a_{ij}]$をjからiへのページ遷移の確率を表す行列とする.この遷移行列の収束先はAの固有値のうち、1の値をとる固有値に対応する固有ベクトルの絶対値表現を正規化したものと一致する。\n",
    "\n",
    "steady stateの条件より\n",
    "\n",
    "$$\n",
    "Av = v\n",
    "$$\n",
    "\n",
    "が成立するため(vはsteady stateベクトル)。\n"
   ]
  },
  {
   "cell_type": "code",
   "execution_count": 21,
   "metadata": {},
   "outputs": [
    {
     "data": {
      "text/plain": [
       "array([0.33333333, 0.25      , 0.41666667])"
      ]
     },
     "execution_count": 21,
     "metadata": {},
     "output_type": "execute_result"
    }
   ],
   "source": [
    "init = np.random.randint(1, 10, 3)\n",
    "init = init/init.sum()\n",
    "init"
   ]
  },
  {
   "cell_type": "code",
   "execution_count": 22,
   "metadata": {},
   "outputs": [
    {
     "data": {
      "text/plain": [
       "array([0.31481481, 0.57407407, 0.11111111])"
      ]
     },
     "execution_count": 22,
     "metadata": {},
     "output_type": "execute_result"
    }
   ],
   "source": [
    "prob_raw @ init"
   ]
  },
  {
   "cell_type": "code",
   "execution_count": 23,
   "metadata": {},
   "outputs": [
    {
     "data": {
      "text/plain": [
       "array([-0.2037037 , -0.10185185,  0.30555556])"
      ]
     },
     "execution_count": 23,
     "metadata": {},
     "output_type": "execute_result"
    }
   ],
   "source": [
    "prob @ init"
   ]
  },
  {
   "cell_type": "code",
   "execution_count": 24,
   "metadata": {},
   "outputs": [
    {
     "data": {
      "text/plain": [
       "array([0.31481481, 0.57407407, 0.11111111])"
      ]
     },
     "execution_count": 24,
     "metadata": {},
     "output_type": "execute_result"
    }
   ],
   "source": [
    "abs(v[:,np.argmax(w)])/sum(abs(v[:,np.argmax(w)]))"
   ]
  },
  {
   "cell_type": "markdown",
   "metadata": {},
   "source": [
    "### 連立差分方程式\n",
    "\n",
    "二つの数列$\\{x_n\\}, \\{y_n\\}$の間に\n",
    "\n",
    "$$\n",
    "\\begin{cases}\n",
    "x_n &= 7 x_{n-1} + 3 y_{n-1}\\\\\n",
    "y_n & = x_{n-1} + 5 y_{n-1}\n",
    "\\end{cases}\n",
    "$$\n",
    "\n",
    "ただし、$(x_0, y_0) = (3, -2)$としたとき、"
   ]
  },
  {
   "cell_type": "code",
   "execution_count": 25,
   "metadata": {},
   "outputs": [
    {
     "data": {
      "text/plain": [
       "array([[8., 0.],\n",
       "       [0., 4.]])"
      ]
     },
     "execution_count": 25,
     "metadata": {},
     "output_type": "execute_result"
    }
   ],
   "source": [
    "A = np.array([[7, 3],[1, 5]], dtype = float)\n",
    "w, v = np.linalg.eig(A)\n",
    "D = np.linalg.inv(v)@A@v\n",
    "np.where(abs(D) > 1e-15, D, 0)"
   ]
  },
  {
   "cell_type": "markdown",
   "metadata": {},
   "source": [
    "よって\n",
    "\n",
    "$$\n",
    "A^k = P\\left(\\begin{array}{cc}8 & 0\\\\ 0 & 4\\end{array}\\right)^kP^{-1}\n",
    "$$"
   ]
  },
  {
   "cell_type": "code",
   "execution_count": 26,
   "metadata": {},
   "outputs": [],
   "source": [
    "def calculate_transition(tran_mat, power, init):\n",
    "    w, v = np.linalg.eig(tran_mat)\n",
    "    D = np.linalg.inv(v)@tran_mat@v\n",
    "    D = np.where(abs(D) > 1e-15, D, 0)\n",
    "    return np.array(v@D**(power-1)@np.linalg.inv(v)@init, dtype = int)"
   ]
  },
  {
   "cell_type": "code",
   "execution_count": 27,
   "metadata": {},
   "outputs": [
    {
     "data": {
      "text/plain": [
       "array([15, -6])"
      ]
     },
     "execution_count": 27,
     "metadata": {},
     "output_type": "execute_result"
    }
   ],
   "source": [
    "calculate_transition(tran_mat = A, power = 2, init = np.array([3, -2]))"
   ]
  },
  {
   "cell_type": "markdown",
   "metadata": {},
   "source": [
    "### 漸化式\n",
    "\n",
    "$$\n",
    "x_{n+2} - 4 x_{n+1} - 5 x_n = 0\n",
    "$$\n",
    "\n",
    "$(x_1, x_0) = (7, -1)$と与えられたとき、$x_{n+1} = y_n$と変形すると\n",
    "\n",
    "$$\n",
    "\\begin{aligned}\n",
    "x_{n} &=  y_{n-1}\\\\\n",
    "y_{n} &= 4 y_{n-1} + 5 x_{n-1}\n",
    "\\end{aligned}\n",
    "$$\n",
    "\n"
   ]
  },
  {
   "cell_type": "code",
   "execution_count": 28,
   "metadata": {},
   "outputs": [
    {
     "data": {
      "text/plain": [
       "array([ 7, 23])"
      ]
     },
     "execution_count": 28,
     "metadata": {},
     "output_type": "execute_result"
    }
   ],
   "source": [
    "A =  np.array([[0, 1],[5, 4]], dtype = float)\n",
    "calculate_transition(tran_mat = A, power = 2, init = np.array([-1, 7]))"
   ]
  },
  {
   "cell_type": "code",
   "execution_count": null,
   "metadata": {},
   "outputs": [],
   "source": []
  }
 ],
 "metadata": {
  "kernelspec": {
   "display_name": "Python 3",
   "language": "python",
   "name": "python3"
  },
  "language_info": {
   "codemirror_mode": {
    "name": "ipython",
    "version": 3
   },
   "file_extension": ".py",
   "mimetype": "text/x-python",
   "name": "python",
   "nbconvert_exporter": "python",
   "pygments_lexer": "ipython3",
   "version": "3.7.4"
  }
 },
 "nbformat": 4,
 "nbformat_minor": 4
}
