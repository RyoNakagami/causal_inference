{
 "cells": [
  {
   "cell_type": "markdown",
   "metadata": {},
   "source": [
    "# 線形回帰とOLS"
   ]
  },
  {
   "cell_type": "markdown",
   "metadata": {},
   "source": [
    "## 単回帰モデル\n",
    "\n",
    "次のようなモデルを考える\n",
    "\n",
    "$$\n",
    "Y_i = \\beta_0 + \\beta_1 X_i + \\epsilon_i\n",
    "$$\n",
    "\n",
    "単回帰モデルの仮定：\n",
    "えたなら. $(Y_i, X_i)$はi.i.d\n",
    "2. $E[\\epsilon_i|X_i] = 0$\n",
    "3. $E[Y_i^4] < \\infty, E[X_i^4] < \\infty$\n",
    "\n",
    "(1)の仮定は、標本が母集団から無作為抽出によって選ばれたならば満たされる。(2)は平均独立の仮定と呼ばれる。必ずしも独立の仮定は必要ではない。(3)はmoment存在条件。"
   ]
  },
  {
   "cell_type": "markdown",
   "metadata": {},
   "source": [
    "### OLS推定量\n",
    "\n",
    "$$\n",
    "\\min \\sum_i^N (Y_i - b_0 - b_1X_i)^2\n",
    "$$\n",
    "\n",
    "Then, FOCより\n",
    "\n",
    "$$\n",
    "\\begin{aligned}\n",
    "\\widehat\\beta_{OLS} = (X'X)^{-1}(X'Y)\n",
    "\\end{aligned}\n",
    "$$\n",
    "\n",
    "\n",
    "### OLS推定量の性質\n",
    "\n",
    "単回帰モデルの仮定の下、OLS推定量は以下の性質を満たす。\n",
    "\n",
    "1. 不偏性：\n",
    "\n",
    "$$\n",
    "E[\\widehat\\beta_{OLS}] = \\beta\n",
    "$$\n",
    "\n",
    "2. consistency : \n",
    "\n",
    "$$\n",
    "\\widehat\\beta_{OLS} \\xrightarrow{p} \\beta_1\n",
    "$$\n",
    "\n",
    "3. asymptotic normal: \n",
    "\n",
    "$$\n",
    "\\sqrt{n}(\\widehat\\beta_{OLS} - \\beta) \\xrightarrow{d} N\\left(0, \\frac{Var[(X_i - E[X_i])u_i]}{Var(X_i)^2}\\right)\n",
    "$$"
   ]
  },
  {
   "cell_type": "code",
   "execution_count": 19,
   "metadata": {},
   "outputs": [],
   "source": [
    "### PYTHON\n",
    "\n",
    "import numpy as np\n",
    "import statsmodels.api as sm\n",
    "import matplotlib.pyplot as plt\n",
    "\n",
    "np.random.seed(9876789)"
   ]
  },
  {
   "cell_type": "code",
   "execution_count": 20,
   "metadata": {},
   "outputs": [],
   "source": [
    "### making data\n",
    "nsample = 100\n",
    "x = np.linspace(0, 10, 100)\n",
    "X = np.column_stack((x, x**2))\n",
    "beta = np.array([1, 0.1, 10])\n",
    "e = np.random.normal(size=nsample)"
   ]
  },
  {
   "cell_type": "code",
   "execution_count": 21,
   "metadata": {},
   "outputs": [],
   "source": [
    "X = sm.add_constant(X)\n",
    "y = np.dot(X, beta) + e"
   ]
  },
  {
   "cell_type": "code",
   "execution_count": 22,
   "metadata": {},
   "outputs": [
    {
     "name": "stdout",
     "output_type": "stream",
     "text": [
      "                            OLS Regression Results                            \n",
      "==============================================================================\n",
      "Dep. Variable:                      y   R-squared:                       1.000\n",
      "Model:                            OLS   Adj. R-squared:                  1.000\n",
      "Method:                 Least Squares   F-statistic:                 4.020e+06\n",
      "Date:                Sat, 07 Mar 2020   Prob (F-statistic):          2.83e-239\n",
      "Time:                        13:25:43   Log-Likelihood:                -146.51\n",
      "No. Observations:                 100   AIC:                             299.0\n",
      "Df Residuals:                      97   BIC:                             306.8\n",
      "Df Model:                           2                                         \n",
      "Covariance Type:            nonrobust                                         \n",
      "==============================================================================\n",
      "                 coef    std err          t      P>|t|      [0.025      0.975]\n",
      "------------------------------------------------------------------------------\n",
      "const          1.3423      0.313      4.292      0.000       0.722       1.963\n",
      "x1            -0.0402      0.145     -0.278      0.781      -0.327       0.247\n",
      "x2            10.0103      0.014    715.745      0.000       9.982      10.038\n",
      "==============================================================================\n",
      "Omnibus:                        2.042   Durbin-Watson:                   2.274\n",
      "Prob(Omnibus):                  0.360   Jarque-Bera (JB):                1.875\n",
      "Skew:                           0.234   Prob(JB):                        0.392\n",
      "Kurtosis:                       2.519   Cond. No.                         144.\n",
      "==============================================================================\n",
      "\n",
      "Warnings:\n",
      "[1] Standard Errors assume that the covariance matrix of the errors is correctly specified.\n"
     ]
    }
   ],
   "source": [
    "## 均一分散\n",
    "\n",
    "model = sm.OLS(y, X)\n",
    "results = model.fit()\n",
    "print(results.summary())"
   ]
  },
  {
   "cell_type": "code",
   "execution_count": 23,
   "metadata": {},
   "outputs": [
    {
     "data": {
      "image/png": "[encoded data removed]",
      "text/plain": [
       "<Figure size 1080x720 with 1 Axes>"
      ]
     },
     "metadata": {
      "needs_background": "light"
     },
     "output_type": "display_data"
    }
   ],
   "source": [
    "plt.figure(figsize = (15, 10))\n",
    "plt.scatter(x, y, alpha = 0.5, label = 'data')\n",
    "plt.scatter(x, results.predict(), alpha = 0.5, label = 'predicted')\n",
    "plt.legend();"
   ]
  },
  {
   "cell_type": "code",
   "execution_count": null,
   "metadata": {},
   "outputs": [],
   "source": []
  }
 ],
 "metadata": {
  "kernelspec": {
   "display_name": "Python 3",
   "language": "python",
   "name": "python3"
  },
  "language_info": {
   "codemirror_mode": {
    "name": "ipython",
    "version": 3
   },
   "file_extension": ".py",
   "mimetype": "text/x-python",
   "name": "python",
   "nbconvert_exporter": "python",
   "pygments_lexer": "ipython3",
   "version": "3.7.4"
  }
 },
 "nbformat": 4,
 "nbformat_minor": 4
}
