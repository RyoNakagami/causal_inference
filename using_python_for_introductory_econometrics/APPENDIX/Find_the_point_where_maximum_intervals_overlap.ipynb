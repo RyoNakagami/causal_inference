{
 "cells": [
  {
   "cell_type": "markdown",
   "metadata": {},
   "source": [
    "# Find the point where maximum intervals overlap"
   ]
  },
  {
   "cell_type": "markdown",
   "metadata": {},
   "source": [
    "## 問題\n",
    "\n",
    "- `sched`リストは各人のパーティの参加時間と退出時間のtupleを要素としている\n",
    "- 最も多くの人が参加している時間帯を知りたいとする"
   ]
  },
  {
   "cell_type": "code",
   "execution_count": 1,
   "metadata": {},
   "outputs": [],
   "source": [
    "sched = [(3, 6), (4, 7), (3, 5), (4.6, 4.7),\n",
    "         (2, 3), (5, 7), (5, 6), (2.1, 2.9), \n",
    "         (2, 6), (7, 8), (0, 1), (3.5, 4.7), \n",
    "         (3, 6), (4, 7), (3, 5), (4.6, 4.7),\n",
    "         (2, 3), (5, 7), (5, 6), (2.1, 2.9), \n",
    "         (2, 6), (7, 8), (0, 1), (3.5, 4.7)]"
   ]
  },
  {
   "cell_type": "markdown",
   "metadata": {},
   "source": [
    "### Solution version 1\n",
    "\n",
    "-  Time Complexity: O(nLogn)"
   ]
  },
  {
   "cell_type": "code",
   "execution_count": 2,
   "metadata": {},
   "outputs": [],
   "source": [
    "def find_maximum(schedule):\n",
    "    enter, exit = zip(*schedule)\n",
    "    enter = sorted(enter)\n",
    "    exit = sorted(exit)\n",
    "    n = len(enter)\n",
    "    \n",
    "    time = enter[0]\n",
    "    max_guest = 1\n",
    "    ins = 1\n",
    "    outs = 0\n",
    "    \n",
    "    i = 1\n",
    "    o = 0\n",
    "    while (i < n and o < n):\n",
    "        if enter[i] <= exit[o]:\n",
    "            ins += 1\n",
    "            \n",
    "            if ins > max_guest:\n",
    "                time = enter[i]\n",
    "                max_guest = ins\n",
    "            \n",
    "            i+=1\n",
    "            \n",
    "        else:\n",
    "            ins -= 1\n",
    "            o += 1\n",
    "    \n",
    "    return max_guest, time       "
   ]
  },
  {
   "cell_type": "code",
   "execution_count": 3,
   "metadata": {},
   "outputs": [
    {
     "name": "stdout",
     "output_type": "stream",
     "text": [
      "13.2 µs ± 61.1 ns per loop (mean ± std. dev. of 7 runs, 100000 loops each)\n"
     ]
    }
   ],
   "source": [
    "%%timeit\n",
    "find_maximum(sched)"
   ]
  },
  {
   "cell_type": "code",
   "execution_count": 4,
   "metadata": {},
   "outputs": [
    {
     "data": {
      "text/plain": [
       "(12, 4.6)"
      ]
     },
     "execution_count": 4,
     "metadata": {},
     "output_type": "execute_result"
    }
   ],
   "source": [
    "find_maximum(sched)"
   ]
  },
  {
   "cell_type": "markdown",
   "metadata": {},
   "source": [
    "### Solution version 2\n",
    "\n",
    "- schedule listのvalueが`int`のときのみ有効\n",
    "- Time Complexity: O(n)"
   ]
  },
  {
   "cell_type": "code",
   "execution_count": 5,
   "metadata": {},
   "outputs": [],
   "source": [
    "def find_maximum_with_on(schedule):\n",
    "    start, end = zip(*schedule)\n",
    "    n= len(start) \n",
    "    maxa = max(start)# Finding maximum starting time \n",
    "    maxb = max(end)  # Finding maximum ending time \n",
    "    maxc=max(maxa,maxb) \n",
    "    x =(maxc+2)*[0] \n",
    "    cur=0; idx=0\n",
    "   \n",
    "    for i in range(0,n) :# CREATING AN AUXILIARY ARRAY \n",
    "        x[start[i]]+=1 # Lazy addition \n",
    "        x[end[i]+1]-=1\n",
    "        \n",
    "    maxy=-1\n",
    "    #Lazily Calculating value at index i \n",
    "    for i in range(0,maxc+1):  \n",
    "        cur+=x[i] \n",
    "        if maxy<cur : \n",
    "            maxy=cur \n",
    "            idx=i\n",
    "    return maxy, idx"
   ]
  },
  {
   "cell_type": "code",
   "execution_count": 6,
   "metadata": {},
   "outputs": [],
   "source": [
    "sched = [(30, 60), (40, 70), (30, 50), (46, 47),\n",
    "         (20, 30), (50, 70), (50, 60), (21, 29), \n",
    "         (20, 60), (70, 80), (0, 10), (35, 47), \n",
    "         (30, 60), (40, 70), (30, 50), (46, 47),\n",
    "         (20, 30), (50, 70), (50, 60), (21, 29), \n",
    "         (20, 60), (70, 80), (0, 10), (35, 47)]"
   ]
  },
  {
   "cell_type": "code",
   "execution_count": 7,
   "metadata": {},
   "outputs": [
    {
     "name": "stdout",
     "output_type": "stream",
     "text": [
      "15.2 µs ± 776 ns per loop (mean ± std. dev. of 7 runs, 100000 loops each)\n"
     ]
    }
   ],
   "source": [
    "%%timeit\n",
    "find_maximum_with_on(sched)"
   ]
  },
  {
   "cell_type": "code",
   "execution_count": 8,
   "metadata": {},
   "outputs": [
    {
     "data": {
      "text/plain": [
       "(12, 46)"
      ]
     },
     "execution_count": 8,
     "metadata": {},
     "output_type": "execute_result"
    }
   ],
   "source": [
    "find_maximum_with_on(sched)"
   ]
  },
  {
   "cell_type": "code",
   "execution_count": null,
   "metadata": {},
   "outputs": [],
   "source": []
  }
 ],
 "metadata": {
  "kernelspec": {
   "display_name": "Python 3",
   "language": "python",
   "name": "python3"
  },
  "language_info": {
   "codemirror_mode": {
    "name": "ipython",
    "version": 3
   },
   "file_extension": ".py",
   "mimetype": "text/x-python",
   "name": "python",
   "nbconvert_exporter": "python",
   "pygments_lexer": "ipython3",
   "version": "3.7.4"
  }
 },
 "nbformat": 4,
 "nbformat_minor": 4
}
