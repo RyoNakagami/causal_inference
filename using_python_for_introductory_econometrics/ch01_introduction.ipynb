{
 "cells": [
  {
   "cell_type": "markdown",
   "metadata": {},
   "source": [
    "# Chapter 1: Introduction\n",
    "## Agenda\n",
    "\n",
    "- Object Orientation\n",
    "- building classes\n",
    "- Monte Carlo Simulation and Confidence Interval\n",
    "\n",
    "### REMARK\n",
    "\n",
    "- コンポジションやダックタイピングは省略する\n"
   ]
  },
  {
   "cell_type": "markdown",
   "metadata": {},
   "source": [
    "### Hardware"
   ]
  },
  {
   "cell_type": "code",
   "execution_count": 1,
   "metadata": {},
   "outputs": [
    {
     "name": "stdout",
     "output_type": "stream",
     "text": [
      "      Model Identifier: MacBookPro13,1\n",
      "      Processor Name: Dual-Core Intel Core i5\n",
      "      Processor Speed: 2 GHz\n",
      "      Number of Processors: 1\n",
      "      Memory: 16 GB\n"
     ]
    }
   ],
   "source": [
    "%%bash\n",
    "system_profiler SPHardwareDataType | grep -E \\\n",
    "\"Model Identifier\"\\|\"Processor Name\"\\|\"Processor Speed\"\\\n",
    "\\|\"Number of Processors\"\\|\"Memory:\""
   ]
  },
  {
   "cell_type": "markdown",
   "metadata": {},
   "source": [
    "### Python"
   ]
  },
  {
   "cell_type": "code",
   "execution_count": 2,
   "metadata": {},
   "outputs": [
    {
     "name": "stdout",
     "output_type": "stream",
     "text": [
      "Python 3.7.4\n"
     ]
    }
   ],
   "source": [
    "!python -V"
   ]
  },
  {
   "cell_type": "markdown",
   "metadata": {},
   "source": [
    "### Install Packages"
   ]
  },
  {
   "cell_type": "code",
   "execution_count": 3,
   "metadata": {},
   "outputs": [],
   "source": [
    "pass"
   ]
  },
  {
   "cell_type": "markdown",
   "metadata": {},
   "source": [
    "### Import"
   ]
  },
  {
   "cell_type": "code",
   "execution_count": 4,
   "metadata": {},
   "outputs": [],
   "source": [
    "import numpy as np\n",
    "import pandas as pd\n",
    "import seaborn as sns\n",
    "import matplotlib.pyplot as plt"
   ]
  },
  {
   "cell_type": "markdown",
   "metadata": {},
   "source": [
    "## 1. Object Oriented Programming\n",
    "\n",
    "Fortran, C, MATLABがproceduralと呼ばれる一方、Pythonはobject-oriented languageと呼ばれる。OOPの特徴として、\n",
    "\n",
    "- data and functions are “bundled together” into “objects”\n",
    "- Javaと異なりPythonは, `everything is an object.`と言われる\n",
    "\n",
    "### Objectsとは？\n",
    "\n",
    "Objectはメモリ上のdata(attribute)とcode(method)の集まり。構成要素として、\n",
    "\n",
    "- type\n",
    "- unique identity\n",
    "- data\n",
    "- method\n",
    "\n",
    "がある。自分で新しくobjectを定義したい場合、そのオブジェクトの設計図が必要だが、その設計図のことを`class`という。\n"
   ]
  },
  {
   "cell_type": "markdown",
   "metadata": {},
   "source": [
    "### Type\n",
    "\n",
    "- 日本語だと型\n",
    "- `int`, `str`など"
   ]
  },
  {
   "cell_type": "code",
   "execution_count": 5,
   "metadata": {},
   "outputs": [
    {
     "name": "stdout",
     "output_type": "stream",
     "text": [
      "<class 'str'>\n"
     ]
    }
   ],
   "source": [
    "s = 'THIS IS A STRING'\n",
    "print(type(s))"
   ]
  },
  {
   "cell_type": "code",
   "execution_count": 6,
   "metadata": {},
   "outputs": [
    {
     "name": "stdout",
     "output_type": "stream",
     "text": [
      "<class 'int'>\n"
     ]
    }
   ],
   "source": [
    "i = 10\n",
    "print(type(i))"
   ]
  },
  {
   "cell_type": "markdown",
   "metadata": {},
   "source": [
    "string型には`+` methodが定義されており、それを実行すると"
   ]
  },
  {
   "cell_type": "code",
   "execution_count": 7,
   "metadata": {},
   "outputs": [
    {
     "name": "stdout",
     "output_type": "stream",
     "text": [
      "THIS IS A STRING or else ...\n"
     ]
    }
   ],
   "source": [
    "s2 = ' or else ...'\n",
    "print(s + s2)"
   ]
  },
  {
   "cell_type": "markdown",
   "metadata": {},
   "source": [
    "### Indentity\n",
    "\n",
    "全てのオブジェクトんにはunique identifierが存在する。"
   ]
  },
  {
   "cell_type": "code",
   "execution_count": 8,
   "metadata": {},
   "outputs": [
    {
     "name": "stdout",
     "output_type": "stream",
     "text": [
      "4750268336 4750267920\n"
     ]
    }
   ],
   "source": [
    "y = 2.5\n",
    "z = 2.5\n",
    "print(id(y), id(z))"
   ]
  },
  {
   "cell_type": "code",
   "execution_count": 9,
   "metadata": {},
   "outputs": [
    {
     "data": {
      "text/plain": [
       "True"
      ]
     },
     "execution_count": 9,
     "metadata": {},
     "output_type": "execute_result"
    }
   ],
   "source": [
    "x = y\n",
    "id(y) == id(x)"
   ]
  },
  {
   "cell_type": "markdown",
   "metadata": {},
   "source": [
    "### Methods\n",
    "\n",
    "- Methodとはobjectsに結び付けられた関数のこと\n",
    "- `callable`なattributeととして理解できる\n",
    "- methodはobjectのdataに基づいて実行される\n",
    "- `object_name.method_name()`として呼ばれる　（一方、attributeは`obeject_name.attrubute_name`）\n"
   ]
  },
  {
   "cell_type": "code",
   "execution_count": 10,
   "metadata": {},
   "outputs": [
    {
     "data": {
      "text/plain": [
       "True"
      ]
     },
     "execution_count": 10,
     "metadata": {},
     "output_type": "execute_result"
    }
   ],
   "source": [
    "x = [1, 2]\n",
    "callable(x.append)"
   ]
  },
  {
   "cell_type": "code",
   "execution_count": 11,
   "metadata": {},
   "outputs": [
    {
     "data": {
      "text/plain": [
       "False"
      ]
     },
     "execution_count": 11,
     "metadata": {},
     "output_type": "execute_result"
    }
   ],
   "source": [
    "callable(x.__doc__)"
   ]
  },
  {
   "cell_type": "code",
   "execution_count": 12,
   "metadata": {},
   "outputs": [
    {
     "data": {
      "text/plain": [
       "'THIS IS A STRING'"
      ]
     },
     "execution_count": 12,
     "metadata": {},
     "output_type": "execute_result"
    }
   ],
   "source": [
    "x = ['a', 'b']\n",
    "x.append('c')\n",
    "s = 'This is a string'\n",
    "s.upper()"
   ]
  },
  {
   "cell_type": "markdown",
   "metadata": {},
   "source": [
    "## 2. Building Classes\n",
    "\n",
    "- 自分のニーズに適したobjectを新たに定義したいとき、classを書く必要がある。\n",
    "\n",
    "### classを定義することによるメリット\n",
    "\n",
    "class objectは変数のvalueに応じたstateを持つことができるので、Markov chainなどstateに応じて関数を適用して、dataをupdateするという作業を繰り返す処理をする場合に便利\n",
    "\n"
   ]
  },
  {
   "cell_type": "markdown",
   "metadata": {
    "toc-hr-collapsed": false
   },
   "source": [
    "### classのお約束ごと"
   ]
  },
  {
   "cell_type": "markdown",
   "metadata": {},
   "source": [
    "#### `self`\n",
    "\n",
    "- instanceのdataにアクセスする場合は`self`をattribute名の前につける必要がある\n",
    "- instanceのmethodがinstanceのdataにアクセスする場合は`method_name(self, arg1, ...)`と定義する必要がある\n",
    "- instanceのmethodがinstanceの他のmethodを活用する場合は`self.method_name`として呼ぶ必要がある"
   ]
  },
  {
   "cell_type": "markdown",
   "metadata": {},
   "source": [
    "#### `__init__`\n",
    "\n",
    "- class定義から個々のオブジェクトを作る際にそれを初期化するメソッド\n",
    "- C++ and Javaにおける constructors に相当\n",
    "- `__init__`がないとメモリ上のゴミを勝手にinstanceのattributeに引き渡してしまう恐れがある\n",
    "- 同じクラスから作成されたinstanceを区別するために必要\n"
   ]
  },
  {
   "cell_type": "markdown",
   "metadata": {
    "toc-hr-collapsed": false
   },
   "source": [
    "### 例：consumer class\n",
    "\n",
    "consumer classを新たに定義したいとする。そのobjectは\n",
    "\n",
    "- hold and spend cash\n",
    "- consume goods\n",
    "- work and earn cash\n",
    "\n",
    "を機能として持つとする。\n",
    "\n",
    "- data: cash\n",
    "- method: spend, earn, consume"
   ]
  },
  {
   "cell_type": "code",
   "execution_count": 13,
   "metadata": {},
   "outputs": [],
   "source": [
    "class Consumer:\n",
    "\n",
    "    def __init__(self, w):\n",
    "        \"Initialize consumer with w dollars of wealth\"\n",
    "        self.wealth = w\n",
    "\n",
    "    def earn(self, y):\n",
    "        \"The consumer earns y dollars\"\n",
    "        self.wealth += y\n",
    "\n",
    "    def spend(self, x):\n",
    "        \"The consumer spends x dollars if feasible\"\n",
    "        new_wealth = self.wealth - x\n",
    "        if new_wealth < 0:\n",
    "            print(\"Insufficent funds\")\n",
    "        else:\n",
    "            self.wealth = new_wealth"
   ]
  },
  {
   "cell_type": "code",
   "execution_count": 14,
   "metadata": {},
   "outputs": [
    {
     "data": {
      "text/plain": [
       "5"
      ]
     },
     "execution_count": 14,
     "metadata": {},
     "output_type": "execute_result"
    }
   ],
   "source": [
    "c1 = Consumer(10)  # Create instance with initial wealth 10\n",
    "c1.spend(5)\n",
    "c1.wealth"
   ]
  },
  {
   "cell_type": "code",
   "execution_count": 15,
   "metadata": {},
   "outputs": [
    {
     "name": "stdout",
     "output_type": "stream",
     "text": [
      "Insufficent funds\n"
     ]
    }
   ],
   "source": [
    "c1.earn(15)\n",
    "c1.spend(100)"
   ]
  },
  {
   "cell_type": "code",
   "execution_count": 16,
   "metadata": {},
   "outputs": [
    {
     "data": {
      "text/plain": [
       "8"
      ]
     },
     "execution_count": 16,
     "metadata": {},
     "output_type": "execute_result"
    }
   ],
   "source": [
    "c1 = Consumer(10)\n",
    "c2 = Consumer(12)\n",
    "c2.spend(4)\n",
    "c2.wealth"
   ]
  },
  {
   "cell_type": "code",
   "execution_count": 17,
   "metadata": {},
   "outputs": [
    {
     "data": {
      "text/plain": [
       "10"
      ]
     },
     "execution_count": 17,
     "metadata": {},
     "output_type": "execute_result"
    }
   ],
   "source": [
    "c1.wealth"
   ]
  },
  {
   "cell_type": "markdown",
   "metadata": {},
   "source": [
    "instanceのdataを参照したい場合は, `instance.__dict__`で出力することができる。"
   ]
  },
  {
   "cell_type": "code",
   "execution_count": 18,
   "metadata": {},
   "outputs": [
    {
     "data": {
      "text/plain": [
       "{'wealth': 10}"
      ]
     },
     "execution_count": 18,
     "metadata": {},
     "output_type": "execute_result"
    }
   ],
   "source": [
    "c1.__dict__"
   ]
  },
  {
   "cell_type": "markdown",
   "metadata": {},
   "source": [
    "### 継承\n",
    "\n",
    "- 既存のクラスの一部を修正して、新しいクラスを定義したいときに用いる\n",
    "- コードの再利用というメリットがある（メンテナンスコストが下がる）\n",
    "\n",
    "#### 用語\n",
    "\n",
    "- オーバーライド：追加変更したい部分だけ新たに定義すると、上書きされた古いクラスの動作が行われないこと\n",
    "- super class: 古いクラスのこと、親、基底クラス\n",
    "- sub class: 新しいクラスのこと、子、派生クラス\n"
   ]
  },
  {
   "cell_type": "markdown",
   "metadata": {},
   "source": [
    "### Methodのオーバーライド"
   ]
  },
  {
   "cell_type": "code",
   "execution_count": 19,
   "metadata": {},
   "outputs": [],
   "source": [
    "class Car():\n",
    "    def __init__(self):\n",
    "        self.price = 100\n",
    "        self.color = 'red'\n",
    "    def exclaim(self):\n",
    "        print(self.price)\n",
    "        print(self.color)\n",
    "\n",
    "class OldCar(Car):\n",
    "    def exclaim(self):\n",
    "        print(self.price/2)\n",
    "        print(self.color)"
   ]
  },
  {
   "cell_type": "code",
   "execution_count": 20,
   "metadata": {},
   "outputs": [
    {
     "name": "stdout",
     "output_type": "stream",
     "text": [
      "100\n",
      "red\n"
     ]
    }
   ],
   "source": [
    "toyota = Car()\n",
    "toyota.exclaim()"
   ]
  },
  {
   "cell_type": "code",
   "execution_count": 21,
   "metadata": {},
   "outputs": [
    {
     "name": "stdout",
     "output_type": "stream",
     "text": [
      "50.0\n",
      "red\n"
     ]
    }
   ],
   "source": [
    "old_toyota = OldCar()\n",
    "old_toyota.exclaim()"
   ]
  },
  {
   "cell_type": "code",
   "execution_count": 22,
   "metadata": {},
   "outputs": [
    {
     "data": {
      "text/plain": [
       "100"
      ]
     },
     "execution_count": 22,
     "metadata": {},
     "output_type": "execute_result"
    }
   ],
   "source": [
    "old_toyota.price"
   ]
  },
  {
   "cell_type": "markdown",
   "metadata": {},
   "source": [
    "### Methodの追加"
   ]
  },
  {
   "cell_type": "code",
   "execution_count": 23,
   "metadata": {},
   "outputs": [],
   "source": [
    "class Smoker():\n",
    "    def __init__(self, health_level, expectancy):\n",
    "        self.health_level = health_level\n",
    "        self.expectancy = expectancy\n",
    "    def when_i_die(self):\n",
    "        print(self.expectancy)\n",
    "        \n",
    "class Marijuana_Lovers(Smoker):\n",
    "    def when_i_jailed(self):\n",
    "        print('TOMMOROW')\n",
    "        "
   ]
  },
  {
   "cell_type": "code",
   "execution_count": 24,
   "metadata": {},
   "outputs": [
    {
     "name": "stdout",
     "output_type": "stream",
     "text": [
      "20\n"
     ]
    }
   ],
   "source": [
    "john = Smoker(10, 20)\n",
    "john.when_i_die()"
   ]
  },
  {
   "cell_type": "code",
   "execution_count": 25,
   "metadata": {},
   "outputs": [
    {
     "name": "stdout",
     "output_type": "stream",
     "text": [
      "20\n",
      "TOMMOROW\n"
     ]
    }
   ],
   "source": [
    "George = Marijuana_Lovers(10, 20)\n",
    "George.when_i_die()\n",
    "George.when_i_jailed()"
   ]
  },
  {
   "cell_type": "markdown",
   "metadata": {},
   "source": [
    "### 継承と`super()`によるself引数受け渡し\n",
    "\n",
    "- `__init__`の定義を修正加筆したい場合に用いられる"
   ]
  },
  {
   "cell_type": "code",
   "execution_count": 26,
   "metadata": {},
   "outputs": [],
   "source": [
    "class Person():\n",
    "    def __init__(self, name, family_name):\n",
    "        self.name = name\n",
    "        self.family_name = family_name\n",
    "\n",
    "class EmailPerson(Person):\n",
    "    def __init__(self, name, family_name, email):\n",
    "        super().__init__(name, family_name)\n",
    "        self.email = email\n",
    "        \n",
    "    def print_email(self):\n",
    "        print(self.name + self.family_name + self.email)"
   ]
  },
  {
   "cell_type": "code",
   "execution_count": 27,
   "metadata": {},
   "outputs": [
    {
     "name": "stdout",
     "output_type": "stream",
     "text": [
      "JohnBush@gmail.com\n"
     ]
    }
   ],
   "source": [
    "john = EmailPerson('John', 'Bush', '@gmail.com')\n",
    "john.print_email()"
   ]
  },
  {
   "cell_type": "markdown",
   "metadata": {},
   "source": [
    "### Special Methods\n",
    "\n",
    "- pythonでもともと定義されている演算子や関数を呼び出すmethodのこと\n"
   ]
  },
  {
   "cell_type": "code",
   "execution_count": 28,
   "metadata": {},
   "outputs": [],
   "source": [
    "class Foo:\n",
    "\n",
    "    def __len__(self):\n",
    "        return 42"
   ]
  },
  {
   "cell_type": "code",
   "execution_count": 29,
   "metadata": {},
   "outputs": [
    {
     "data": {
      "text/plain": [
       "42"
      ]
     },
     "execution_count": 29,
     "metadata": {},
     "output_type": "execute_result"
    }
   ],
   "source": [
    "f = Foo()\n",
    "len(f)"
   ]
  },
  {
   "cell_type": "code",
   "execution_count": 30,
   "metadata": {},
   "outputs": [],
   "source": [
    "class Foo:\n",
    "\n",
    "    def __call__(self, x):\n",
    "        return x + 42"
   ]
  },
  {
   "cell_type": "code",
   "execution_count": 31,
   "metadata": {},
   "outputs": [
    {
     "data": {
      "text/plain": [
       "50"
      ]
     },
     "execution_count": 31,
     "metadata": {},
     "output_type": "execute_result"
    }
   ],
   "source": [
    "f = Foo()\n",
    "f(8)"
   ]
  },
  {
   "cell_type": "markdown",
   "metadata": {},
   "source": [
    "## 3. Class作成練習問題"
   ]
  },
  {
   "cell_type": "markdown",
   "metadata": {},
   "source": [
    "### The Solow Growth Model\n",
    "\n",
    "- $k_t$: capital per capita\n",
    "- $s$: saving rate\n",
    "- $z$: productivity parameter\n",
    "- $\\alpha$: capital's share of income\n",
    "- $n$: population growth rate\n",
    "- $\\delta$: the depreciation rate\n",
    "\n",
    "#### the update rule\n",
    "\n",
    "$$\n",
    "k_{t+1} = \\frac{s z k_t^{\\alpha} + (1 - \\delta) k_t}{1 + n} \\tag{1}\n",
    "$$\n",
    "\n",
    "\n"
   ]
  },
  {
   "cell_type": "code",
   "execution_count": 32,
   "metadata": {},
   "outputs": [],
   "source": [
    "class Solow():\n",
    "    r\"\"\"\n",
    "    Implements the Solow growth model with the update rule\n",
    "        k_{t+1} = [(s z k^α_t) + (1 - δ)k_t] /(1 + n)\n",
    "    \"\"\"\n",
    "    \n",
    "    def __init__(self, n = .05, s = .25, delta = .1, alpha =.3, z = 2.0, k = 1.0):\n",
    "        self.n = n\n",
    "        self.s = s\n",
    "        self.delta = delta\n",
    "        self.alpha = alpha\n",
    "        self.z = z\n",
    "        self.k = k\n",
    "        \n",
    "    def law_of_motion(self):\n",
    "        tmp = self.s * self.z * self.k**self.alpha + (1 - self.delta)*self.k\n",
    "        return tmp/(1 + self.n)\n",
    "    \n",
    "    def update(self):\n",
    "        self.k = self.law_of_motion()\n",
    "        \n",
    "    def steady_state(self):\n",
    "        return ((self.s*self.z)/(self.n + self.delta))**(1/(1 - self.alpha))\n",
    "    \n",
    "    def generate_sequence(self, t):\n",
    "        \"Generate and return a time series of length t\"\n",
    "        path = []\n",
    "        for i in range(t):\n",
    "            path.append(self.k)\n",
    "            self.update()\n",
    "        return path"
   ]
  },
  {
   "cell_type": "code",
   "execution_count": 33,
   "metadata": {},
   "outputs": [
    {
     "data": {
      "text/plain": [
       "<matplotlib.legend.Legend at 0x11d2d7990>"
      ]
     },
     "execution_count": 33,
     "metadata": {},
     "output_type": "execute_result"
    },
    {
     "data": {
      "image/png": "[encoded data removed]",
      "text/plain": [
       "<Figure size 648x432 with 1 Axes>"
      ]
     },
     "metadata": {
      "needs_background": "light"
     },
     "output_type": "display_data"
    }
   ],
   "source": [
    "fig, ax = plt.subplots(figsize=(9, 6))\n",
    "T = 60\n",
    "\n",
    "s1 = Solow()\n",
    "s2 = Solow(k=8.0)\n",
    "\n",
    "# Plot time series for each economy\n",
    "for s in s1, s2:\n",
    "    lb = f'capital series from initial state {s.k}'\n",
    "    ax.plot(s.generate_sequence(T), 'o-', lw=2, alpha=0.6, label=lb)\n",
    "\n",
    "# Plot the common steady state value of capital\n",
    "\n",
    "ax.plot([s1.steady_state()]*T, 'k-', label='steady state')\n",
    "ax.set_xlabel('$T$', fontsize=14)\n",
    "ax.set_ylabel('$k_t$', fontsize=14)\n",
    "ax.legend()\n"
   ]
  },
  {
   "cell_type": "markdown",
   "metadata": {},
   "source": [
    "### Empirical cumulative distribution function (ecdf) \n",
    "#### OUTPUT\n",
    "$$\n",
    "F_n(x) := \\frac{1}{n}  \\sum_{i=1}^n \\mathbf{1}\\{X_i \\leq x\\}\n",
    "  \\qquad (x \\in \\mathbb{R})\n",
    "$$\n",
    "\n",
    "- The Glivenko–Cantelli Theorem states that, provided that the sample is IID, the ecdf $F_n$ converges to the true distribution function 　\n",
    "#### Implementation\n",
    "\n",
    "- 与えられたサンプルデータ(List型)をinstance dataとして保存\n",
    "- `__call__` methodでEDCFを計算する\n"
   ]
  },
  {
   "cell_type": "code",
   "execution_count": 34,
   "metadata": {},
   "outputs": [],
   "source": [
    "class ECDF():\n",
    "    def __init__(self, observation):\n",
    "        self.observations = observation\n",
    "        \n",
    "    @property\n",
    "    def sample_size(self):\n",
    "        return len(self.observations)\n",
    "    \n",
    "    def __call__(self, x):\n",
    "        tmp = [i for i in self.observations if i <= x]\n",
    "        return len(tmp)/self.sample_size"
   ]
  },
  {
   "cell_type": "code",
   "execution_count": 35,
   "metadata": {},
   "outputs": [
    {
     "name": "stdout",
     "output_type": "stream",
     "text": [
      "0.4666666666666667\n",
      "0.501\n"
     ]
    }
   ],
   "source": [
    "# == test == #\n",
    "np.random.seed(42)\n",
    "samples = list(np.random.uniform(0, 1, 15))\n",
    "F = ECDF(samples)\n",
    "\n",
    "print(F(0.5))  # Evaluate ecdf at x = 0.5\n",
    "\n",
    "F.observations = list(np.random.uniform(0, 1, 1000))\n",
    "\n",
    "print(F(0.5))"
   ]
  },
  {
   "cell_type": "markdown",
   "metadata": {},
   "source": [
    "### 行列の積"
   ]
  },
  {
   "cell_type": "code",
   "execution_count": 36,
   "metadata": {},
   "outputs": [],
   "source": [
    "class MatrixProduct():\n",
    "    def __init__(self, A, B):\n",
    "        self.A = A\n",
    "        self.B = B\n",
    "    def __call__(self):\n",
    "        N, A_k = self.A.shape\n",
    "        B_N, K = self.B.shape\n",
    "        if B_N != A_k:\n",
    "            raise ValueError(\"matmul: Input operand 1 has a mismatch in its core dimension 0, with gufunc signature (n?,k),(k,m?)->(n?,m?) (size 1 is different from 2)\")\n",
    "        res = np.empty((N, K))\n",
    "        for i in range(N):\n",
    "            for j in range(K):\n",
    "                res[i, j] = sum(self.A[i, :] * self.B[:, j])\n",
    "        return res\n"
   ]
  },
  {
   "cell_type": "code",
   "execution_count": 37,
   "metadata": {},
   "outputs": [
    {
     "data": {
      "text/plain": [
       "True"
      ]
     },
     "execution_count": 37,
     "metadata": {},
     "output_type": "execute_result"
    }
   ],
   "source": [
    "a = np.array([[3, 6, 1], [2, 7, 4]])\n",
    "b = np.array([[1, 8, 6], [3, 5, 8], [1, 1, 2]])\n",
    "np_res = a @ b\n",
    "pro = MatrixProduct(a, b)\n",
    "np.allclose(np_res, pro())"
   ]
  },
  {
   "cell_type": "markdown",
   "metadata": {},
   "source": [
    "## 4. Monte Carlo Simulation and Confidence Interval"
   ]
  },
  {
   "cell_type": "code",
   "execution_count": 38,
   "metadata": {},
   "outputs": [],
   "source": [
    "import scipy.stats as stats"
   ]
  },
  {
   "cell_type": "code",
   "execution_count": 39,
   "metadata": {},
   "outputs": [],
   "source": [
    "np.random.seed(42)\n",
    "\n",
    "## Params\n",
    "R = 10000\n",
    "N = 100\n",
    "mu = 10\n",
    "sd = 2\n",
    "\n",
    "H_01 = 10\n",
    "H_02 = 9.5\n",
    "\n",
    "CI = []\n",
    "pval1 = np.empty(R)\n",
    "pval2 = np.empty(R)\n",
    "\n",
    "for i in range(R):\n",
    "    sample = np.random.normal(mu, sd, N)\n",
    "    sample_mean = np.mean(sample)\n",
    "    sample_sd = np.std(sample, ddof = 1)\n",
    "    \n",
    "    # test under H0 = 10\n",
    "    test_1 = stats.ttest_1samp(sample, popmean = H_01)\n",
    "    pval1[i] = test_1.pvalue\n",
    "    cv = stats.t.ppf(0.975, df = N - 1)\n",
    "    scale = sample_sd/np.sqrt(N)\n",
    "    CI.append((sample_mean - cv*scale, sample_mean + cv*scale))\n",
    "    \n",
    "    # test under H0 = 9.5\n",
    "    test_2 = stats.ttest_1samp(sample, popmean = H_02)\n",
    "    pval2[i] = test_2.pvalue"
   ]
  },
  {
   "cell_type": "code",
   "execution_count": 40,
   "metadata": {},
   "outputs": [
    {
     "name": "stdout",
     "output_type": "stream",
     "text": [
      "0.0523\n",
      "0.6897\n"
     ]
    }
   ],
   "source": [
    "# count reject H0 trials\n",
    "reject1 = pval1 <= 0.05\n",
    "reject2 = pval2 <= 0.05\n",
    "print(np.count_nonzero(reject1)/R)\n",
    "print(np.count_nonzero(reject2)/R)"
   ]
  },
  {
   "cell_type": "markdown",
   "metadata": {},
   "source": [
    "### CIのなかで一番含まれているvalueを探す"
   ]
  },
  {
   "cell_type": "code",
   "execution_count": 41,
   "metadata": {},
   "outputs": [
    {
     "name": "stdout",
     "output_type": "stream",
     "text": [
      "9.992440992440992 9491.0\n"
     ]
    }
   ],
   "source": [
    "# count CI which include 10 in their intervals\n",
    "start, end = zip(*CI)\n",
    "start, end = np.array(start), np.array(end)\n",
    "num = 1000000\n",
    "x_range = np.linspace(9, 11, num)\n",
    "res = np.empty(num)\n",
    "for i in range(num):\n",
    "    val = x_range[i]\n",
    "    tmp_start = start <= val\n",
    "    tmp_end = end < val\n",
    "    res[i] = np.count_nonzero(tmp_start) - np.count_nonzero(tmp_end)\n",
    "\n",
    "print(x_range[np.argmax(res)], res.max())"
   ]
  },
  {
   "cell_type": "markdown",
   "metadata": {},
   "source": [
    "`9.992440992440992`がsimulation上最もCIに含まれやすい値となってしまっている。"
   ]
  },
  {
   "cell_type": "markdown",
   "metadata": {},
   "source": [
    "１０に最も近い`x_range`は"
   ]
  },
  {
   "cell_type": "code",
   "execution_count": 42,
   "metadata": {},
   "outputs": [
    {
     "data": {
      "text/plain": [
       "9.999998999999"
      ]
     },
     "execution_count": 42,
     "metadata": {},
     "output_type": "execute_result"
    }
   ],
   "source": [
    "idx = abs(x_range - 10).argmin()\n",
    "x_range[idx]"
   ]
  },
  {
   "cell_type": "code",
   "execution_count": 43,
   "metadata": {},
   "outputs": [
    {
     "data": {
      "text/plain": [
       "9477.0"
      ]
     },
     "execution_count": 43,
     "metadata": {},
     "output_type": "execute_result"
    }
   ],
   "source": [
    "res[idx]"
   ]
  },
  {
   "cell_type": "code",
   "execution_count": null,
   "metadata": {},
   "outputs": [],
   "source": []
  }
 ],
 "metadata": {
  "kernelspec": {
   "display_name": "Python 3",
   "language": "python",
   "name": "python3"
  },
  "language_info": {
   "codemirror_mode": {
    "name": "ipython",
    "version": 3
   },
   "file_extension": ".py",
   "mimetype": "text/x-python",
   "name": "python",
   "nbconvert_exporter": "python",
   "pygments_lexer": "ipython3",
   "version": "3.7.4"
  }
 },
 "nbformat": 4,
 "nbformat_minor": 4
}
