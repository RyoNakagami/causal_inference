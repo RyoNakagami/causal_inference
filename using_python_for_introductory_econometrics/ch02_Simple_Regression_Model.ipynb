{
 "cells": [
  {
   "cell_type": "markdown",
   "metadata": {},
   "source": [
    "# Chapter 2: The Simple Regression Model\n",
    "## Agenda\n",
    "\n",
    "- `statsmodels.formula.api`によるOLS regressionの方法を確認\n",
    "- `seaborn`を用いたOLS fitted line plot方法の確認\n",
    "- Goodness of fitのメトリクスのレビュー\n",
    "\n",
    "## REMARK\n",
    "\n",
    "- Dataは`https://github.com/spring-haru/wooldridge` repositoryのものを活用\n",
    "\n",
    "## 参考\n",
    "\n",
    "- Model Performance Metrics: [MLmastery](https://machinelearningmastery.com/metrics-evaluate-machine-learning-algorithms-python/)\n",
    "- ML dataset: [MLmastery](https://github.com/jbrownlee/Datasets)"
   ]
  },
  {
   "cell_type": "markdown",
   "metadata": {},
   "source": [
    "### Hardware"
   ]
  },
  {
   "cell_type": "code",
   "execution_count": 1,
   "metadata": {},
   "outputs": [
    {
     "name": "stdout",
     "output_type": "stream",
     "text": [
      "      Model Identifier: MacBookPro13,1\n",
      "      Processor Name: Dual-Core Intel Core i5\n",
      "      Processor Speed: 2 GHz\n",
      "      Number of Processors: 1\n",
      "      Memory: 16 GB\n"
     ]
    }
   ],
   "source": [
    "%%bash\n",
    "system_profiler SPHardwareDataType | grep -E \\\n",
    "\"Model Identifier\"\\|\"Processor Name\"\\|\"Processor Speed\"\\\n",
    "\\|\"Number of Processors\"\\|\"Memory:\""
   ]
  },
  {
   "cell_type": "markdown",
   "metadata": {},
   "source": [
    "### Python"
   ]
  },
  {
   "cell_type": "code",
   "execution_count": 2,
   "metadata": {},
   "outputs": [
    {
     "name": "stdout",
     "output_type": "stream",
     "text": [
      "Python 3.7.4\n"
     ]
    }
   ],
   "source": [
    "!python -V"
   ]
  },
  {
   "cell_type": "markdown",
   "metadata": {},
   "source": [
    "### Install Packages"
   ]
  },
  {
   "cell_type": "code",
   "execution_count": 3,
   "metadata": {},
   "outputs": [],
   "source": [
    "pass"
   ]
  },
  {
   "cell_type": "markdown",
   "metadata": {},
   "source": [
    "### Import"
   ]
  },
  {
   "cell_type": "code",
   "execution_count": 4,
   "metadata": {},
   "outputs": [],
   "source": [
    "import numpy as np\n",
    "import pandas as pd\n",
    "import seaborn as sns\n",
    "import matplotlib.pyplot as plt\n",
    "import statsmodels.formula.api as smf\n",
    "\n",
    "from sklearn import model_selection\n",
    "from sklearn.linear_model import LogisticRegression\n",
    "from sklearn.datasets import make_classification\n",
    "\n",
    "from sklearn.metrics import roc_curve\n",
    "from sklearn.metrics import roc_auc_score\n",
    "from sklearn.metrics import precision_recall_curve\n",
    "from sklearn.metrics import auc\n",
    "\n",
    "from sklearn import metrics"
   ]
  },
  {
   "cell_type": "markdown",
   "metadata": {},
   "source": [
    "### Setting"
   ]
  },
  {
   "cell_type": "code",
   "execution_count": 5,
   "metadata": {},
   "outputs": [],
   "source": [
    "plt.style.use('ggplot')"
   ]
  },
  {
   "cell_type": "markdown",
   "metadata": {},
   "source": [
    "## 1. Bivariate OLS Regression\n",
    "\n",
    "WooldridgeのCEO Salary and Return on Equity Dataを用いて、以下のことを確認する\n",
    "\n",
    "- `statsmodels.formula.api`によるOLS\n",
    "- `seaborn`によるfitted line plot"
   ]
  },
  {
   "cell_type": "code",
   "execution_count": 6,
   "metadata": {},
   "outputs": [
    {
     "data": {
      "text/html": [
       "<div>\n",
       "<style scoped>\n",
       "    .dataframe tbody tr th:only-of-type {\n",
       "        vertical-align: middle;\n",
       "    }\n",
       "\n",
       "    .dataframe tbody tr th {\n",
       "        vertical-align: top;\n",
       "    }\n",
       "\n",
       "    .dataframe thead th {\n",
       "        text-align: right;\n",
       "    }\n",
       "</style>\n",
       "<table border=\"1\" class=\"dataframe\">\n",
       "  <thead>\n",
       "    <tr style=\"text-align: right;\">\n",
       "      <th></th>\n",
       "      <th>salary</th>\n",
       "      <th>pcsalary</th>\n",
       "      <th>sales</th>\n",
       "      <th>roe</th>\n",
       "      <th>pcroe</th>\n",
       "      <th>ros</th>\n",
       "      <th>indus</th>\n",
       "      <th>finance</th>\n",
       "      <th>consprod</th>\n",
       "      <th>utility</th>\n",
       "      <th>lsalary</th>\n",
       "      <th>lsales</th>\n",
       "    </tr>\n",
       "  </thead>\n",
       "  <tbody>\n",
       "    <tr>\n",
       "      <th>0</th>\n",
       "      <td>1095</td>\n",
       "      <td>20</td>\n",
       "      <td>27595.000000</td>\n",
       "      <td>14.1</td>\n",
       "      <td>106.400002</td>\n",
       "      <td>191</td>\n",
       "      <td>1</td>\n",
       "      <td>0</td>\n",
       "      <td>0</td>\n",
       "      <td>0</td>\n",
       "      <td>6.998509</td>\n",
       "      <td>10.225389</td>\n",
       "    </tr>\n",
       "    <tr>\n",
       "      <th>1</th>\n",
       "      <td>1001</td>\n",
       "      <td>32</td>\n",
       "      <td>9958.000000</td>\n",
       "      <td>10.9</td>\n",
       "      <td>-30.600000</td>\n",
       "      <td>13</td>\n",
       "      <td>1</td>\n",
       "      <td>0</td>\n",
       "      <td>0</td>\n",
       "      <td>0</td>\n",
       "      <td>6.908755</td>\n",
       "      <td>9.206132</td>\n",
       "    </tr>\n",
       "    <tr>\n",
       "      <th>2</th>\n",
       "      <td>1122</td>\n",
       "      <td>9</td>\n",
       "      <td>6125.899902</td>\n",
       "      <td>23.5</td>\n",
       "      <td>-16.299999</td>\n",
       "      <td>14</td>\n",
       "      <td>1</td>\n",
       "      <td>0</td>\n",
       "      <td>0</td>\n",
       "      <td>0</td>\n",
       "      <td>7.022868</td>\n",
       "      <td>8.720281</td>\n",
       "    </tr>\n",
       "    <tr>\n",
       "      <th>3</th>\n",
       "      <td>578</td>\n",
       "      <td>-9</td>\n",
       "      <td>16246.000000</td>\n",
       "      <td>5.9</td>\n",
       "      <td>-25.700001</td>\n",
       "      <td>-21</td>\n",
       "      <td>1</td>\n",
       "      <td>0</td>\n",
       "      <td>0</td>\n",
       "      <td>0</td>\n",
       "      <td>6.359574</td>\n",
       "      <td>9.695602</td>\n",
       "    </tr>\n",
       "    <tr>\n",
       "      <th>4</th>\n",
       "      <td>1368</td>\n",
       "      <td>7</td>\n",
       "      <td>21783.199219</td>\n",
       "      <td>13.8</td>\n",
       "      <td>-3.000000</td>\n",
       "      <td>56</td>\n",
       "      <td>1</td>\n",
       "      <td>0</td>\n",
       "      <td>0</td>\n",
       "      <td>0</td>\n",
       "      <td>7.221105</td>\n",
       "      <td>9.988894</td>\n",
       "    </tr>\n",
       "  </tbody>\n",
       "</table>\n",
       "</div>"
      ],
      "text/plain": [
       "   salary  pcsalary         sales   roe       pcroe  ros  indus  finance  \\\n",
       "0    1095        20  27595.000000  14.1  106.400002  191      1        0   \n",
       "1    1001        32   9958.000000  10.9  -30.600000   13      1        0   \n",
       "2    1122         9   6125.899902  23.5  -16.299999   14      1        0   \n",
       "3     578        -9  16246.000000   5.9  -25.700001  -21      1        0   \n",
       "4    1368         7  21783.199219  13.8   -3.000000   56      1        0   \n",
       "\n",
       "   consprod  utility   lsalary     lsales  \n",
       "0         0        0  6.998509  10.225389  \n",
       "1         0        0  6.908755   9.206132  \n",
       "2         0        0  7.022868   8.720281  \n",
       "3         0        0  6.359574   9.695602  \n",
       "4         0        0  7.221105   9.988894  "
      ]
     },
     "execution_count": 6,
     "metadata": {},
     "output_type": "execute_result"
    }
   ],
   "source": [
    "url = 'https://raw.githubusercontent.com/RyoNakagami/wooldridge/master/raw_data/data_csv/ceosal1.csv'\n",
    "df = pd.read_csv(url)\n",
    "df.head()"
   ]
  },
  {
   "cell_type": "code",
   "execution_count": 7,
   "metadata": {},
   "outputs": [
    {
     "name": "stdout",
     "output_type": "stream",
     "text": [
      "<class 'pandas.core.frame.DataFrame'>\n",
      "RangeIndex: 209 entries, 0 to 208\n",
      "Data columns (total 12 columns):\n",
      " #   Column    Non-Null Count  Dtype  \n",
      "---  ------    --------------  -----  \n",
      " 0   salary    209 non-null    int64  \n",
      " 1   pcsalary  209 non-null    int64  \n",
      " 2   sales     209 non-null    float64\n",
      " 3   roe       209 non-null    float64\n",
      " 4   pcroe     209 non-null    float64\n",
      " 5   ros       209 non-null    int64  \n",
      " 6   indus     209 non-null    int64  \n",
      " 7   finance   209 non-null    int64  \n",
      " 8   consprod  209 non-null    int64  \n",
      " 9   utility   209 non-null    int64  \n",
      " 10  lsalary   209 non-null    float64\n",
      " 11  lsales    209 non-null    float64\n",
      "dtypes: float64(5), int64(7)\n",
      "memory usage: 19.7 KB\n"
     ]
    }
   ],
   "source": [
    "df.info()"
   ]
  },
  {
   "cell_type": "markdown",
   "metadata": {},
   "source": [
    "回帰式は以下\n",
    "\n",
    "$$\n",
    "\\text{salary} = \\beta_0 + \\beta_1 \\text{roe} + u\n",
    "$$"
   ]
  },
  {
   "cell_type": "code",
   "execution_count": 8,
   "metadata": {},
   "outputs": [
    {
     "name": "stdout",
     "output_type": "stream",
     "text": [
      "                            OLS Regression Results                            \n",
      "==============================================================================\n",
      "Dep. Variable:                 salary   R-squared:                       0.013\n",
      "Model:                            OLS   Adj. R-squared:                  0.008\n",
      "Method:                 Least Squares   F-statistic:                     2.767\n",
      "Date:                Thu, 04 Jun 2020   Prob (F-statistic):             0.0978\n",
      "Time:                        17:03:34   Log-Likelihood:                -1804.5\n",
      "No. Observations:                 209   AIC:                             3613.\n",
      "Df Residuals:                     207   BIC:                             3620.\n",
      "Df Model:                           1                                         \n",
      "Covariance Type:            nonrobust                                         \n",
      "==============================================================================\n",
      "                 coef    std err          t      P>|t|      [0.025      0.975]\n",
      "------------------------------------------------------------------------------\n",
      "Intercept    963.1913    213.240      4.517      0.000     542.790    1383.592\n",
      "roe           18.5012     11.123      1.663      0.098      -3.428      40.431\n",
      "==============================================================================\n",
      "Omnibus:                      311.096   Durbin-Watson:                   2.105\n",
      "Prob(Omnibus):                  0.000   Jarque-Bera (JB):            31120.902\n",
      "Skew:                           6.915   Prob(JB):                         0.00\n",
      "Kurtosis:                      61.158   Cond. No.                         43.3\n",
      "==============================================================================\n",
      "\n",
      "Warnings:\n",
      "[1] Standard Errors assume that the covariance matrix of the errors is correctly specified.\n"
     ]
    }
   ],
   "source": [
    "reg = smf.ols('salary ~ roe', data = df)\n",
    "res = reg.fit()\n",
    "print(res.summary())"
   ]
  },
  {
   "cell_type": "code",
   "execution_count": 9,
   "metadata": {},
   "outputs": [
    {
     "name": "stdout",
     "output_type": "stream",
     "text": [
      "Intercept    963.191336\n",
      "roe           18.501186\n",
      "dtype: float64\n"
     ]
    }
   ],
   "source": [
    "print(res.params)"
   ]
  },
  {
   "cell_type": "code",
   "execution_count": 10,
   "metadata": {},
   "outputs": [
    {
     "data": {
      "image/png": "[encoded data removed]",
      "text/plain": [
       "<Figure size 504x504 with 1 Axes>"
      ]
     },
     "metadata": {},
     "output_type": "display_data"
    }
   ],
   "source": [
    "fig, ax = plt.subplots(1, 1, figsize = (7, 7))\n",
    "sns.regplot(x=\"roe\", y=\"salary\", data=df, ax = ax)\n",
    "ax.set_title('CEO Salary and Return on Equity');"
   ]
  },
  {
   "cell_type": "markdown",
   "metadata": {},
   "source": [
    "### Residuals and fitted values"
   ]
  },
  {
   "cell_type": "code",
   "execution_count": 11,
   "metadata": {},
   "outputs": [
    {
     "data": {
      "image/png": "[encoded data removed]",
      "text/plain": [
       "<Figure size 432x288 with 1 Axes>"
      ]
     },
     "metadata": {},
     "output_type": "display_data"
    }
   ],
   "source": [
    "u = res.resid\n",
    "yhat = res.fittedvalues\n",
    "plt.plot(yhat, u, marker = 'o', linestyle = '')\n",
    "plt.xlabel('fitted salary')\n",
    "plt.ylabel('residuals');"
   ]
  },
  {
   "cell_type": "markdown",
   "metadata": {
    "toc-hr-collapsed": true
   },
   "source": [
    "## 2. Goodness of Fit\n",
    "\n",
    "modelの精度を図る指標はmodelがclassification problemなのかregression problemなのかによってどれを用いるかは異なる。\n",
    "\n",
    "- Classification: Accuracy, Log Loss, AUC,Precision-Recall Curves, f1-score, Confusion Matrix, Classification Report\n",
    "- Regression: Mean Absolute Error, Mean Squared Error, R-squared, Adjusted R-squared\n"
   ]
  },
  {
   "cell_type": "markdown",
   "metadata": {},
   "source": [
    "### Classification Metrics"
   ]
  },
  {
   "cell_type": "markdown",
   "metadata": {
    "toc-hr-collapsed": true
   },
   "source": [
    "#### 1. Classification Accuracy\n",
    "\n",
    "- Classification Accuracyとはpredictionの正答率のこと\n",
    "- それぞれのクラスのthe number of observationsが等しい時でしか使えない"
   ]
  },
  {
   "cell_type": "markdown",
   "metadata": {},
   "source": [
    "##### DATA\n",
    "\n",
    "1. Number of times pregnant\n",
    "2. Plasma glucose concentration a 2 hours in an oral glucose tolerance test\n",
    "3. Diastolic blood pressure (mm Hg)\n",
    "4. Triceps skin fold thickness (mm)\n",
    "5. 2-Hour serum insulin (mu U/ml)\n",
    "6. Body mass index (weight in kg/(height in m)^2)\n",
    "7. Diabetes pedigree function\n",
    "8. Age (years)\n",
    "9. Class variable (0 or 1)\n",
    "\n",
    "##### What To Do\n",
    "\n",
    "- classを予測する\n",
    "\n"
   ]
  },
  {
   "cell_type": "code",
   "execution_count": 12,
   "metadata": {},
   "outputs": [
    {
     "data": {
      "text/html": [
       "<div>\n",
       "<style scoped>\n",
       "    .dataframe tbody tr th:only-of-type {\n",
       "        vertical-align: middle;\n",
       "    }\n",
       "\n",
       "    .dataframe tbody tr th {\n",
       "        vertical-align: top;\n",
       "    }\n",
       "\n",
       "    .dataframe thead th {\n",
       "        text-align: right;\n",
       "    }\n",
       "</style>\n",
       "<table border=\"1\" class=\"dataframe\">\n",
       "  <thead>\n",
       "    <tr style=\"text-align: right;\">\n",
       "      <th></th>\n",
       "      <th>preg</th>\n",
       "      <th>plas</th>\n",
       "      <th>pres</th>\n",
       "      <th>skin</th>\n",
       "      <th>test</th>\n",
       "      <th>mass</th>\n",
       "      <th>pedi</th>\n",
       "      <th>age</th>\n",
       "      <th>class</th>\n",
       "    </tr>\n",
       "  </thead>\n",
       "  <tbody>\n",
       "    <tr>\n",
       "      <th>0</th>\n",
       "      <td>6</td>\n",
       "      <td>148</td>\n",
       "      <td>72</td>\n",
       "      <td>35</td>\n",
       "      <td>0</td>\n",
       "      <td>33.6</td>\n",
       "      <td>0.627</td>\n",
       "      <td>50</td>\n",
       "      <td>1</td>\n",
       "    </tr>\n",
       "    <tr>\n",
       "      <th>1</th>\n",
       "      <td>1</td>\n",
       "      <td>85</td>\n",
       "      <td>66</td>\n",
       "      <td>29</td>\n",
       "      <td>0</td>\n",
       "      <td>26.6</td>\n",
       "      <td>0.351</td>\n",
       "      <td>31</td>\n",
       "      <td>0</td>\n",
       "    </tr>\n",
       "    <tr>\n",
       "      <th>2</th>\n",
       "      <td>8</td>\n",
       "      <td>183</td>\n",
       "      <td>64</td>\n",
       "      <td>0</td>\n",
       "      <td>0</td>\n",
       "      <td>23.3</td>\n",
       "      <td>0.672</td>\n",
       "      <td>32</td>\n",
       "      <td>1</td>\n",
       "    </tr>\n",
       "    <tr>\n",
       "      <th>3</th>\n",
       "      <td>1</td>\n",
       "      <td>89</td>\n",
       "      <td>66</td>\n",
       "      <td>23</td>\n",
       "      <td>94</td>\n",
       "      <td>28.1</td>\n",
       "      <td>0.167</td>\n",
       "      <td>21</td>\n",
       "      <td>0</td>\n",
       "    </tr>\n",
       "    <tr>\n",
       "      <th>4</th>\n",
       "      <td>0</td>\n",
       "      <td>137</td>\n",
       "      <td>40</td>\n",
       "      <td>35</td>\n",
       "      <td>168</td>\n",
       "      <td>43.1</td>\n",
       "      <td>2.288</td>\n",
       "      <td>33</td>\n",
       "      <td>1</td>\n",
       "    </tr>\n",
       "  </tbody>\n",
       "</table>\n",
       "</div>"
      ],
      "text/plain": [
       "   preg  plas  pres  skin  test  mass   pedi  age  class\n",
       "0     6   148    72    35     0  33.6  0.627   50      1\n",
       "1     1    85    66    29     0  26.6  0.351   31      0\n",
       "2     8   183    64     0     0  23.3  0.672   32      1\n",
       "3     1    89    66    23    94  28.1  0.167   21      0\n",
       "4     0   137    40    35   168  43.1  2.288   33      1"
      ]
     },
     "execution_count": 12,
     "metadata": {},
     "output_type": "execute_result"
    }
   ],
   "source": [
    "url = \"https://raw.githubusercontent.com/jbrownlee/Datasets/master/pima-indians-diabetes.data.csv\"\n",
    "names = ['preg', 'plas', 'pres', 'skin', 'test', 'mass', 'pedi', 'age', 'class']\n",
    "df = pd.read_csv(url, names=names)\n",
    "df.head()"
   ]
  },
  {
   "cell_type": "code",
   "execution_count": 13,
   "metadata": {},
   "outputs": [
    {
     "name": "stdout",
     "output_type": "stream",
     "text": [
      "<class 'pandas.core.frame.DataFrame'>\n",
      "RangeIndex: 768 entries, 0 to 767\n",
      "Data columns (total 9 columns):\n",
      " #   Column  Non-Null Count  Dtype  \n",
      "---  ------  --------------  -----  \n",
      " 0   preg    768 non-null    int64  \n",
      " 1   plas    768 non-null    int64  \n",
      " 2   pres    768 non-null    int64  \n",
      " 3   skin    768 non-null    int64  \n",
      " 4   test    768 non-null    int64  \n",
      " 5   mass    768 non-null    float64\n",
      " 6   pedi    768 non-null    float64\n",
      " 7   age     768 non-null    int64  \n",
      " 8   class   768 non-null    int64  \n",
      "dtypes: float64(2), int64(7)\n",
      "memory usage: 54.1 KB\n"
     ]
    }
   ],
   "source": [
    "df.info()"
   ]
  },
  {
   "cell_type": "code",
   "execution_count": 14,
   "metadata": {},
   "outputs": [
    {
     "data": {
      "text/html": [
       "<div>\n",
       "<style scoped>\n",
       "    .dataframe tbody tr th:only-of-type {\n",
       "        vertical-align: middle;\n",
       "    }\n",
       "\n",
       "    .dataframe tbody tr th {\n",
       "        vertical-align: top;\n",
       "    }\n",
       "\n",
       "    .dataframe thead th {\n",
       "        text-align: right;\n",
       "    }\n",
       "</style>\n",
       "<table border=\"1\" class=\"dataframe\">\n",
       "  <thead>\n",
       "    <tr style=\"text-align: right;\">\n",
       "      <th></th>\n",
       "      <th>preg</th>\n",
       "      <th>plas</th>\n",
       "      <th>pres</th>\n",
       "      <th>skin</th>\n",
       "      <th>test</th>\n",
       "      <th>mass</th>\n",
       "      <th>pedi</th>\n",
       "      <th>age</th>\n",
       "      <th>class</th>\n",
       "    </tr>\n",
       "  </thead>\n",
       "  <tbody>\n",
       "    <tr>\n",
       "      <th>count</th>\n",
       "      <td>768.000000</td>\n",
       "      <td>768.000000</td>\n",
       "      <td>768.000000</td>\n",
       "      <td>768.000000</td>\n",
       "      <td>768.000000</td>\n",
       "      <td>768.000000</td>\n",
       "      <td>768.000000</td>\n",
       "      <td>768.000000</td>\n",
       "      <td>768.000000</td>\n",
       "    </tr>\n",
       "    <tr>\n",
       "      <th>mean</th>\n",
       "      <td>3.845052</td>\n",
       "      <td>120.894531</td>\n",
       "      <td>69.105469</td>\n",
       "      <td>20.536458</td>\n",
       "      <td>79.799479</td>\n",
       "      <td>31.992578</td>\n",
       "      <td>0.471876</td>\n",
       "      <td>33.240885</td>\n",
       "      <td>0.348958</td>\n",
       "    </tr>\n",
       "    <tr>\n",
       "      <th>std</th>\n",
       "      <td>3.369578</td>\n",
       "      <td>31.972618</td>\n",
       "      <td>19.355807</td>\n",
       "      <td>15.952218</td>\n",
       "      <td>115.244002</td>\n",
       "      <td>7.884160</td>\n",
       "      <td>0.331329</td>\n",
       "      <td>11.760232</td>\n",
       "      <td>0.476951</td>\n",
       "    </tr>\n",
       "    <tr>\n",
       "      <th>min</th>\n",
       "      <td>0.000000</td>\n",
       "      <td>0.000000</td>\n",
       "      <td>0.000000</td>\n",
       "      <td>0.000000</td>\n",
       "      <td>0.000000</td>\n",
       "      <td>0.000000</td>\n",
       "      <td>0.078000</td>\n",
       "      <td>21.000000</td>\n",
       "      <td>0.000000</td>\n",
       "    </tr>\n",
       "    <tr>\n",
       "      <th>25%</th>\n",
       "      <td>1.000000</td>\n",
       "      <td>99.000000</td>\n",
       "      <td>62.000000</td>\n",
       "      <td>0.000000</td>\n",
       "      <td>0.000000</td>\n",
       "      <td>27.300000</td>\n",
       "      <td>0.243750</td>\n",
       "      <td>24.000000</td>\n",
       "      <td>0.000000</td>\n",
       "    </tr>\n",
       "    <tr>\n",
       "      <th>50%</th>\n",
       "      <td>3.000000</td>\n",
       "      <td>117.000000</td>\n",
       "      <td>72.000000</td>\n",
       "      <td>23.000000</td>\n",
       "      <td>30.500000</td>\n",
       "      <td>32.000000</td>\n",
       "      <td>0.372500</td>\n",
       "      <td>29.000000</td>\n",
       "      <td>0.000000</td>\n",
       "    </tr>\n",
       "    <tr>\n",
       "      <th>75%</th>\n",
       "      <td>6.000000</td>\n",
       "      <td>140.250000</td>\n",
       "      <td>80.000000</td>\n",
       "      <td>32.000000</td>\n",
       "      <td>127.250000</td>\n",
       "      <td>36.600000</td>\n",
       "      <td>0.626250</td>\n",
       "      <td>41.000000</td>\n",
       "      <td>1.000000</td>\n",
       "    </tr>\n",
       "    <tr>\n",
       "      <th>max</th>\n",
       "      <td>17.000000</td>\n",
       "      <td>199.000000</td>\n",
       "      <td>122.000000</td>\n",
       "      <td>99.000000</td>\n",
       "      <td>846.000000</td>\n",
       "      <td>67.100000</td>\n",
       "      <td>2.420000</td>\n",
       "      <td>81.000000</td>\n",
       "      <td>1.000000</td>\n",
       "    </tr>\n",
       "  </tbody>\n",
       "</table>\n",
       "</div>"
      ],
      "text/plain": [
       "             preg        plas        pres        skin        test        mass  \\\n",
       "count  768.000000  768.000000  768.000000  768.000000  768.000000  768.000000   \n",
       "mean     3.845052  120.894531   69.105469   20.536458   79.799479   31.992578   \n",
       "std      3.369578   31.972618   19.355807   15.952218  115.244002    7.884160   \n",
       "min      0.000000    0.000000    0.000000    0.000000    0.000000    0.000000   \n",
       "25%      1.000000   99.000000   62.000000    0.000000    0.000000   27.300000   \n",
       "50%      3.000000  117.000000   72.000000   23.000000   30.500000   32.000000   \n",
       "75%      6.000000  140.250000   80.000000   32.000000  127.250000   36.600000   \n",
       "max     17.000000  199.000000  122.000000   99.000000  846.000000   67.100000   \n",
       "\n",
       "             pedi         age       class  \n",
       "count  768.000000  768.000000  768.000000  \n",
       "mean     0.471876   33.240885    0.348958  \n",
       "std      0.331329   11.760232    0.476951  \n",
       "min      0.078000   21.000000    0.000000  \n",
       "25%      0.243750   24.000000    0.000000  \n",
       "50%      0.372500   29.000000    0.000000  \n",
       "75%      0.626250   41.000000    1.000000  \n",
       "max      2.420000   81.000000    1.000000  "
      ]
     },
     "execution_count": 14,
     "metadata": {},
     "output_type": "execute_result"
    }
   ],
   "source": [
    "df.describe()"
   ]
  },
  {
   "cell_type": "code",
   "execution_count": 15,
   "metadata": {},
   "outputs": [],
   "source": [
    "Y = df['class'].values\n",
    "X = df.iloc[:, 0:8].values"
   ]
  },
  {
   "cell_type": "code",
   "execution_count": 16,
   "metadata": {},
   "outputs": [],
   "source": [
    "kfold = model_selection.KFold(n_splits=10, random_state=42)"
   ]
  },
  {
   "cell_type": "code",
   "execution_count": 17,
   "metadata": {},
   "outputs": [
    {
     "name": "stdout",
     "output_type": "stream",
     "text": [
      "Accuracy: 0.77 (0.0484)\n"
     ]
    }
   ],
   "source": [
    "model = LogisticRegression(solver = 'liblinear')\n",
    "scoring = 'accuracy'\n",
    "results = model_selection.cross_val_score(model, X, Y, cv=kfold, scoring=scoring)\n",
    "print(\"Accuracy: {:.3} ({:.3})\".format(np.mean(results), np.std(results)))"
   ]
  },
  {
   "cell_type": "markdown",
   "metadata": {},
   "source": [
    "#### 2. Log Loss\n",
    "\n",
    "Labelが$y\\in \\{0, 1\\}$で与えられているBinary Classification Problemを考える。このときのLog Lossは\n",
    "\n",
    "$$\n",
    "L = - \\sum_{i}(y_i\\log(p_i) + (1-y_i)\\log(1-p_i))\n",
    "$$\n",
    "\n",
    "where $p_i = Pr(y_i = 1)$. Multiclass caseの場合は、\n",
    "\n",
    "$$\n",
    "L_{\\log}(Y, P) = -\\log \\operatorname{Pr}(Y|P) = - \\frac{1}{N} \\sum_{i=0}^{N-1} \\sum_{k=0}^{K-1} y_{i,k} \\log p_{i,k}\n",
    "$$\n",
    "\n",
    "##### REMARK\n",
    "\n",
    "- Multi-class caseによるBinary-class caseの表し方は、$y = 1$をクラス1, $y = 0$をクラス0として、$K = \\{0, 1\\}$とすれば良い。"
   ]
  },
  {
   "cell_type": "code",
   "execution_count": 18,
   "metadata": {},
   "outputs": [],
   "source": [
    "from sklearn.metrics import log_loss"
   ]
  },
  {
   "cell_type": "code",
   "execution_count": 19,
   "metadata": {},
   "outputs": [
    {
     "data": {
      "text/plain": [
       "0.1738073366910675"
      ]
     },
     "execution_count": 19,
     "metadata": {},
     "output_type": "execute_result"
    }
   ],
   "source": [
    "y_true = [0, 0, 1, 1]\n",
    "y_pred = [[.9, .1], [.8, .2], [.3, .7], [.01, .99]]\n",
    "log_loss(y_true, y_pred)"
   ]
  },
  {
   "cell_type": "markdown",
   "metadata": {},
   "source": [
    "`sklearn.model_selection.cross_validate`ではnegative log loss = log likelihoodしかない。"
   ]
  },
  {
   "cell_type": "code",
   "execution_count": 20,
   "metadata": {},
   "outputs": [
    {
     "name": "stdout",
     "output_type": "stream",
     "text": [
      "Accuracy: -0.493 (0.047)\n"
     ]
    }
   ],
   "source": [
    "scoring = 'neg_log_loss'\n",
    "results = model_selection.cross_val_score(model, X, Y, cv=kfold, scoring=scoring)\n",
    "print(\"Accuracy: {:.3} ({:.3})\".format(np.mean(results), np.std(results)))"
   ]
  },
  {
   "cell_type": "markdown",
   "metadata": {},
   "source": [
    "#### 3. Area Under ROC Curve\n",
    "\n",
    "- AUCとはArea Under ROC Curveの略称のこと。\n",
    "- Threshold level毎のTrue Positive rateとFalse positive RateのplotがROC\n",
    "\n",
    "$$\n",
    "\\begin{aligned}\n",
    "\\text{True Positive Rate} &= \\text{True Positives} / (\\text{True Positives + False Negatives})\\\\\n",
    "\\text{False Positive Rate} &= \\text{False Positives} / (\\text{False Positives + True Negatives})\n",
    "\\end{aligned}\n",
    "$$"
   ]
  },
  {
   "cell_type": "code",
   "execution_count": 21,
   "metadata": {},
   "outputs": [],
   "source": [
    "N = 100000\n",
    "X, y = make_classification(n_samples=N, n_classes=2, random_state=42)\n",
    "kfold = model_selection.KFold(n_splits=10, random_state=42)\n",
    "model = LogisticRegression(solver = 'liblinear')\n",
    "method = 'predict_proba'\n",
    "results = model_selection.cross_val_predict(model, X, y, cv=kfold, method=method)"
   ]
  },
  {
   "cell_type": "code",
   "execution_count": 22,
   "metadata": {},
   "outputs": [],
   "source": [
    "## y = 1 prob array\n",
    "lr_probs = results[:, 1]\n",
    "# generate a no skill prediction (majority class)\n",
    "ns_probs = [0 for _ in range(N)]"
   ]
  },
  {
   "cell_type": "code",
   "execution_count": 23,
   "metadata": {},
   "outputs": [
    {
     "name": "stdout",
     "output_type": "stream",
     "text": [
      "No Skill: ROC AUC=0.500\n",
      "Logistic: ROC AUC=0.941\n"
     ]
    }
   ],
   "source": [
    "# calculate scores\n",
    "ns_auc = roc_auc_score(y, ns_probs)\n",
    "lr_auc = roc_auc_score(y, lr_probs)\n",
    "# summarize scores\n",
    "print('No Skill: ROC AUC=%.3f' % (ns_auc))\n",
    "print('Logistic: ROC AUC=%.3f' % (lr_auc))"
   ]
  },
  {
   "cell_type": "code",
   "execution_count": 24,
   "metadata": {},
   "outputs": [
    {
     "data": {
      "image/png": "[encoded data removed]",
      "text/plain": [
       "<Figure size 432x288 with 1 Axes>"
      ]
     },
     "metadata": {},
     "output_type": "display_data"
    }
   ],
   "source": [
    "# calculate roc curves\n",
    "ns_fpr, ns_tpr, _ = roc_curve(y, ns_probs)\n",
    "lr_fpr, lr_tpr, _ = roc_curve(y, lr_probs)\n",
    "plt.plot(ns_fpr, ns_tpr, linestyle='--', label='No Skill')\n",
    "plt.plot(lr_fpr, lr_tpr, linestyle='--', label='with Skill')\n",
    "plt.xlabel('False Positive Rate')\n",
    "plt.ylabel('True Positive Rate')\n",
    "# show the legend\n",
    "plt.legend();"
   ]
  },
  {
   "cell_type": "markdown",
   "metadata": {},
   "source": [
    "`cross_val_score`を用いてAUCを計算する場合は"
   ]
  },
  {
   "cell_type": "code",
   "execution_count": 25,
   "metadata": {},
   "outputs": [
    {
     "name": "stdout",
     "output_type": "stream",
     "text": [
      "Accuracy: 0.941 (0.0027)\n"
     ]
    }
   ],
   "source": [
    "model = LogisticRegression(solver = 'liblinear')\n",
    "scoring = 'roc_auc'\n",
    "results = model_selection.cross_val_score(model, X, y, cv=kfold, scoring=scoring)\n",
    "print(\"Accuracy: {:.3} ({:.3})\".format(np.mean(results), np.std(results)))"
   ]
  },
  {
   "cell_type": "markdown",
   "metadata": {},
   "source": [
    "#### 4. Precision-Recall Curves\n",
    "\n",
    "sklearn syntax is\n",
    "\n",
    "```\n",
    "precision, recall, thresholds = precision_recall_curve(true_y, probs)\n",
    "```\n",
    "\n",
    "- Precision: `Precision = True Positives / (True Positives + False Positives)`、Trueと分類したうち、真にTrueの割合\n",
    "- Recall : `Recall = True Positives / (True Positives + False Negatives)`、Trueのうち正しく分類できた割合"
   ]
  },
  {
   "cell_type": "code",
   "execution_count": 26,
   "metadata": {},
   "outputs": [
    {
     "data": {
      "text/plain": [
       "LogisticRegression(C=1.0, class_weight=None, dual=False, fit_intercept=True,\n",
       "                   intercept_scaling=1, l1_ratio=None, max_iter=100,\n",
       "                   multi_class='warn', n_jobs=None, penalty='l2',\n",
       "                   random_state=None, solver='lbfgs', tol=0.0001, verbose=0,\n",
       "                   warm_start=False)"
      ]
     },
     "execution_count": 26,
     "metadata": {},
     "output_type": "execute_result"
    }
   ],
   "source": [
    "# generate 2 class dataset\n",
    "X, y = make_classification(n_samples=1000, n_classes=2, random_state=1)\n",
    "# split into train/test sets\n",
    "trainX, testX, trainy, testy = model_selection.train_test_split(X, y, test_size=0.5, random_state=2)\n",
    "# fit a model\n",
    "model = LogisticRegression(solver='lbfgs')\n",
    "model.fit(trainX, trainy)"
   ]
  },
  {
   "cell_type": "code",
   "execution_count": 27,
   "metadata": {},
   "outputs": [],
   "source": [
    "# predict probabilities\n",
    "lr_probs = model.predict_proba(testX)\n",
    "lr_probs = lr_probs[:, 1]\n",
    "lr_precision, lr_recall, _ = precision_recall_curve(testy, lr_probs)\n",
    "\n",
    "# base line\n",
    "no_skill = len(testy[testy==1]) / len(testy)"
   ]
  },
  {
   "cell_type": "code",
   "execution_count": 28,
   "metadata": {},
   "outputs": [
    {
     "data": {
      "image/png": "[encoded data removed]",
      "text/plain": [
       "<Figure size 432x288 with 1 Axes>"
      ]
     },
     "metadata": {},
     "output_type": "display_data"
    }
   ],
   "source": [
    "plt.plot([0, 1], [no_skill, no_skill], linestyle='--', label='No Skill')\n",
    "plt.plot(lr_recall, lr_precision, marker='.', label='Logistic')\n",
    "plt.xlabel('Recall')\n",
    "plt.ylabel('Precision')\n",
    "plt.legend();"
   ]
  },
  {
   "cell_type": "markdown",
   "metadata": {},
   "source": [
    "##### REMARK: AUC と Precision-Recall Curveの棲み分け\n",
    "\n",
    "- ROCは各classのobservationsのsizeが等しいときに推奨される\n",
    "- Precision-Recall Curveは class imbalanceが存在するとき"
   ]
  },
  {
   "cell_type": "markdown",
   "metadata": {},
   "source": [
    "#### 5. F1 Score\n",
    "\n",
    "$$\n",
    "F1 = 2\\frac{P \\times R}{P+R} = 2/(1/P + 1/ R)\n",
    "$$\n",
    "\n",
    "- a weighted harmonic mean of the precision and recall\n",
    "\n",
    "###### Multi-classとF1 Score\n",
    "\n",
    "<img src = \"https://github.com/RyoNakagami/omorikaizuka/blob/master/algorithm/f1_score.jpg?raw=true\">\n"
   ]
  },
  {
   "cell_type": "code",
   "execution_count": 29,
   "metadata": {},
   "outputs": [
    {
     "name": "stdout",
     "output_type": "stream",
     "text": [
      "0.26666666666666666\n",
      "0.3333333333333333\n",
      "0.26666666666666666\n",
      "[0.8 0.  0. ]\n"
     ]
    }
   ],
   "source": [
    "y_true = [0, 1, 2, 0, 1, 2]\n",
    "y_pred = [0, 2, 1, 0, 0, 1]\n",
    "print(metrics.f1_score(y_true, y_pred, average='weighted'))\n",
    "print(metrics.f1_score(y_true, y_pred, average='micro'))\n",
    "print(metrics.f1_score(y_true, y_pred, average='macro'))\n",
    "print(metrics.f1_score(y_true, y_pred, average=None))"
   ]
  },
  {
   "cell_type": "markdown",
   "metadata": {},
   "source": [
    "#### 6. Confusion Matrix\n",
    "\n",
    "- x-axis (horizontal): prediction outcomes\n",
    "- y-axis (vertical): accuracy outcomes"
   ]
  },
  {
   "cell_type": "code",
   "execution_count": 30,
   "metadata": {},
   "outputs": [
    {
     "name": "stdout",
     "output_type": "stream",
     "text": [
      "[[446  54]\n",
      " [124 144]]\n"
     ]
    }
   ],
   "source": [
    "url = \"https://raw.githubusercontent.com/jbrownlee/Datasets/master/pima-indians-diabetes.data.csv\"\n",
    "names = ['preg', 'plas', 'pres', 'skin', 'test', 'mass', 'pedi', 'age', 'class']\n",
    "df = pd.read_csv(url, names=names)\n",
    "Y = df['class'].values\n",
    "X = df.iloc[:, 0:8].values\n",
    "kfold = model_selection.KFold(n_splits=4, random_state=42)\n",
    "model = LogisticRegression(solver='liblinear') ## because of the small dataset\n",
    "method = 'predict'\n",
    "results = model_selection.cross_val_predict(model, X, Y, cv=kfold, method=method)\n",
    "matrix = metrics.confusion_matrix(Y, results)\n",
    "print(matrix)"
   ]
  },
  {
   "cell_type": "markdown",
   "metadata": {},
   "source": [
    "#### 7. Classification Report\n",
    "\n",
    "the precision, recall, f1-score and support for each classを記載したTableを返す"
   ]
  },
  {
   "cell_type": "code",
   "execution_count": 31,
   "metadata": {},
   "outputs": [
    {
     "name": "stdout",
     "output_type": "stream",
     "text": [
      "              precision    recall  f1-score   support\n",
      "\n",
      "           0       0.78      0.89      0.83       500\n",
      "           1       0.73      0.54      0.62       268\n",
      "\n",
      "    accuracy                           0.77       768\n",
      "   macro avg       0.75      0.71      0.73       768\n",
      "weighted avg       0.76      0.77      0.76       768\n",
      "\n"
     ]
    }
   ],
   "source": [
    "matrix = metrics.classification_report(Y, results)\n",
    "print(matrix)"
   ]
  },
  {
   "cell_type": "markdown",
   "metadata": {},
   "source": [
    "### Regression Metrics\n",
    "\n",
    "- MAE\n",
    "- MSE\n",
    "- R-squared\n",
    "- Adjusted R-squared\n",
    "- MAPE\n",
    "- Tweedie deviation score etc\n",
    "\n",
    "#### 1. R-squared and Adjusted R-squared\n",
    "\n",
    "- SSR: sum of squared residual\n",
    "- SST: total sum of squared\n",
    "- SSE: explained sum of squared\n",
    "\n",
    "$$\n",
    "\\begin{aligned}\n",
    "R^2 & = \\frac{SSR}{SST}\\\\\n",
    "R^2_{adjusted} &= 1 - \\frac{n-1}{n-k}\\frac{SSE}{SST}\n",
    "\\end{aligned}\n",
    "$$\n",
    "\n",
    "- R-squaredはfeatureを足せば足すほど改善されるので、あまり使わない。\n"
   ]
  },
  {
   "cell_type": "markdown",
   "metadata": {},
   "source": [
    "## 3. 変数変換\n",
    "### Wage and Education"
   ]
  },
  {
   "cell_type": "code",
   "execution_count": 32,
   "metadata": {},
   "outputs": [
    {
     "name": "stdout",
     "output_type": "stream",
     "text": [
      "<class 'pandas.core.frame.DataFrame'>\n",
      "RangeIndex: 526 entries, 0 to 525\n",
      "Data columns (total 24 columns):\n",
      " #   Column    Non-Null Count  Dtype  \n",
      "---  ------    --------------  -----  \n",
      " 0   wage      526 non-null    float64\n",
      " 1   educ      526 non-null    int64  \n",
      " 2   exper     526 non-null    int64  \n",
      " 3   tenure    526 non-null    int64  \n",
      " 4   nonwhite  526 non-null    int64  \n",
      " 5   female    526 non-null    int64  \n",
      " 6   married   526 non-null    int64  \n",
      " 7   numdep    526 non-null    int64  \n",
      " 8   smsa      526 non-null    int64  \n",
      " 9   northcen  526 non-null    int64  \n",
      " 10  south     526 non-null    int64  \n",
      " 11  west      526 non-null    int64  \n",
      " 12  construc  526 non-null    int64  \n",
      " 13  ndurman   526 non-null    int64  \n",
      " 14  trcommpu  526 non-null    int64  \n",
      " 15  trade     526 non-null    int64  \n",
      " 16  services  526 non-null    int64  \n",
      " 17  profserv  526 non-null    int64  \n",
      " 18  profocc   526 non-null    int64  \n",
      " 19  clerocc   526 non-null    int64  \n",
      " 20  servocc   526 non-null    int64  \n",
      " 21  lwage     526 non-null    float64\n",
      " 22  expersq   526 non-null    int64  \n",
      " 23  tenursq   526 non-null    int64  \n",
      "dtypes: float64(2), int64(22)\n",
      "memory usage: 98.8 KB\n"
     ]
    }
   ],
   "source": [
    "url = 'https://raw.githubusercontent.com/RyoNakagami/wooldridge/master/raw_data/data_csv/wage1.csv'\n",
    "df = pd.read_csv(url)\n",
    "df.info()"
   ]
  },
  {
   "cell_type": "code",
   "execution_count": 33,
   "metadata": {},
   "outputs": [
    {
     "name": "stdout",
     "output_type": "stream",
     "text": [
      "                            OLS Regression Results                            \n",
      "==============================================================================\n",
      "Dep. Variable:           np.log(wage)   R-squared:                       0.878\n",
      "Model:                            OLS   Adj. R-squared:                  0.878\n",
      "Method:                 Least Squares   F-statistic:                     3774.\n",
      "Date:                Thu, 04 Jun 2020   Prob (F-statistic):          1.31e-241\n",
      "Time:                        17:03:42   Log-Likelihood:                 140.03\n",
      "No. Observations:                 526   AIC:                            -276.1\n",
      "Df Residuals:                     524   BIC:                            -267.5\n",
      "Df Model:                           1                                         \n",
      "Covariance Type:            nonrobust                                         \n",
      "==============================================================================\n",
      "                 coef    std err          t      P>|t|      [0.025      0.975]\n",
      "------------------------------------------------------------------------------\n",
      "Intercept      0.8281      0.015     54.230      0.000       0.798       0.858\n",
      "wage           0.1349      0.002     61.433      0.000       0.131       0.139\n",
      "==============================================================================\n",
      "Omnibus:                      313.768   Durbin-Watson:                   2.101\n",
      "Prob(Omnibus):                  0.000   Jarque-Bera (JB):             3397.061\n",
      "Skew:                          -2.438   Prob(JB):                         0.00\n",
      "Kurtosis:                      14.455   Cond. No.                         13.3\n",
      "==============================================================================\n",
      "\n",
      "Warnings:\n",
      "[1] Standard Errors assume that the covariance matrix of the errors is correctly specified.\n"
     ]
    }
   ],
   "source": [
    "reg = smf.ols(formula = 'np.log(wage) ~ wage', data = df)\n",
    "result = reg.fit()\n",
    "print(result.summary())"
   ]
  },
  {
   "cell_type": "markdown",
   "metadata": {},
   "source": [
    "### CEO Salary and Firm Sales"
   ]
  },
  {
   "cell_type": "code",
   "execution_count": 34,
   "metadata": {},
   "outputs": [
    {
     "name": "stdout",
     "output_type": "stream",
     "text": [
      "<class 'pandas.core.frame.DataFrame'>\n",
      "RangeIndex: 209 entries, 0 to 208\n",
      "Data columns (total 12 columns):\n",
      " #   Column    Non-Null Count  Dtype  \n",
      "---  ------    --------------  -----  \n",
      " 0   salary    209 non-null    int64  \n",
      " 1   pcsalary  209 non-null    int64  \n",
      " 2   sales     209 non-null    float64\n",
      " 3   roe       209 non-null    float64\n",
      " 4   pcroe     209 non-null    float64\n",
      " 5   ros       209 non-null    int64  \n",
      " 6   indus     209 non-null    int64  \n",
      " 7   finance   209 non-null    int64  \n",
      " 8   consprod  209 non-null    int64  \n",
      " 9   utility   209 non-null    int64  \n",
      " 10  lsalary   209 non-null    float64\n",
      " 11  lsales    209 non-null    float64\n",
      "dtypes: float64(5), int64(7)\n",
      "memory usage: 19.7 KB\n"
     ]
    }
   ],
   "source": [
    "url = 'https://raw.githubusercontent.com/RyoNakagami/wooldridge/master/raw_data/data_csv/ceosal1.csv'\n",
    "df = pd.read_csv(url)\n",
    "df.info()"
   ]
  },
  {
   "cell_type": "code",
   "execution_count": 35,
   "metadata": {},
   "outputs": [
    {
     "name": "stdout",
     "output_type": "stream",
     "text": [
      "                            OLS Regression Results                            \n",
      "==============================================================================\n",
      "Dep. Variable:         np.log(salary)   R-squared:                       0.211\n",
      "Model:                            OLS   Adj. R-squared:                  0.207\n",
      "Method:                 Least Squares   F-statistic:                     55.30\n",
      "Date:                Thu, 04 Jun 2020   Prob (F-statistic):           2.70e-12\n",
      "Time:                        17:03:42   Log-Likelihood:                -152.50\n",
      "No. Observations:                 209   AIC:                             309.0\n",
      "Df Residuals:                     207   BIC:                             315.7\n",
      "Df Model:                           1                                         \n",
      "Covariance Type:            nonrobust                                         \n",
      "=================================================================================\n",
      "                    coef    std err          t      P>|t|      [0.025      0.975]\n",
      "---------------------------------------------------------------------------------\n",
      "Intercept         4.8220      0.288     16.723      0.000       4.254       5.390\n",
      "np.log(sales)     0.2567      0.035      7.436      0.000       0.189       0.325\n",
      "==============================================================================\n",
      "Omnibus:                       84.151   Durbin-Watson:                   1.860\n",
      "Prob(Omnibus):                  0.000   Jarque-Bera (JB):              403.831\n",
      "Skew:                           1.507   Prob(JB):                     2.04e-88\n",
      "Kurtosis:                       9.106   Cond. No.                         70.0\n",
      "==============================================================================\n",
      "\n",
      "Warnings:\n",
      "[1] Standard Errors assume that the covariance matrix of the errors is correctly specified.\n"
     ]
    }
   ],
   "source": [
    "reg = smf.ols(formula = 'np.log(salary) ~ np.log(sales)', data = df)\n",
    "result = reg.fit()\n",
    "print(result.summary())"
   ]
  },
  {
   "cell_type": "code",
   "execution_count": 36,
   "metadata": {},
   "outputs": [
    {
     "data": {
      "text/plain": [
       "<matplotlib.axes._subplots.AxesSubplot at 0x11f012c10>"
      ]
     },
     "execution_count": 36,
     "metadata": {},
     "output_type": "execute_result"
    },
    {
     "data": {
      "image/png": "[encoded data removed]",
      "text/plain": [
       "<Figure size 432x288 with 1 Axes>"
      ]
     },
     "metadata": {},
     "output_type": "display_data"
    }
   ],
   "source": [
    "df['log_salary'] = np.log(df['salary'])\n",
    "sns.regplot(x = 'sales', y = 'log_salary', data = df)"
   ]
  },
  {
   "cell_type": "code",
   "execution_count": 37,
   "metadata": {},
   "outputs": [
    {
     "data": {
      "text/plain": [
       "<matplotlib.axes._subplots.AxesSubplot at 0x11ee4b610>"
      ]
     },
     "execution_count": 37,
     "metadata": {},
     "output_type": "execute_result"
    },
    {
     "data": {
      "image/png": "[encoded data removed]",
      "text/plain": [
       "<Figure size 432x288 with 1 Axes>"
      ]
     },
     "metadata": {},
     "output_type": "display_data"
    }
   ],
   "source": [
    "sns.regplot(x = 'sales', y = 'log_salary', data = df, logx = True)"
   ]
  },
  {
   "cell_type": "code",
   "execution_count": 38,
   "metadata": {},
   "outputs": [
    {
     "data": {
      "image/png": "[encoded data removed]",
      "text/plain": [
       "<Figure size 504x504 with 1 Axes>"
      ]
     },
     "metadata": {},
     "output_type": "display_data"
    }
   ],
   "source": [
    "fig, ax = plt.subplots(figsize = (7, 7))\n",
    "sns.regplot(x = 'sales', y = 'log_salary', data = df, logx = True, ax = ax)\n",
    "ax.set_xscale('log')"
   ]
  },
  {
   "cell_type": "code",
   "execution_count": null,
   "metadata": {},
   "outputs": [],
   "source": []
  }
 ],
 "metadata": {
  "kernelspec": {
   "display_name": "Python 3",
   "language": "python",
   "name": "python3"
  },
  "language_info": {
   "codemirror_mode": {
    "name": "ipython",
    "version": 3
   },
   "file_extension": ".py",
   "mimetype": "text/x-python",
   "name": "python",
   "nbconvert_exporter": "python",
   "pygments_lexer": "ipython3",
   "version": "3.7.4"
  }
 },
 "nbformat": 4,
 "nbformat_minor": 4
}
