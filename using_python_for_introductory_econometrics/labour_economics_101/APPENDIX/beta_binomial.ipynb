{
 "cells": [
  {
   "cell_type": "markdown",
   "metadata": {},
   "source": [
    "# Beta-Binomial Distribution\n",
    "\n",
    "$X|Y\\sim Bin(n, Y), Y\\sim Beta(\\alpha, \\beta)$なる階層モデルを考えるとき、Xの周辺分布はbeta-bonomial distributionと呼ばれ、Xの周辺確率関数は以下のように書ける；\n",
    "\n",
    "$$\n",
    "f_X(x) = \\left(\\begin{array}{c}n \\\\ x\\end{array}\\right)\n",
    "\\frac{B(x + \\alpha, n-x+\\beta)}{B(\\alpha, \\beta)}\n",
    "$$\n"
   ]
  },
  {
   "cell_type": "markdown",
   "metadata": {},
   "source": [
    "### 定義：階層モデル\n",
    "\n",
    "以下のような条件付き確率密度関数を考える\n",
    "\n",
    "$$\n",
    "f_{X, Y}(x, y) = f_{X|Y}(x|y)f_Y(y)\n",
    "$$\n",
    "\n",
    "これは、確率変数(X, Y)の同時確率密度関数が、$Y= y$を与えたときのXの条件付き確率密度関数$f_{X|Y}(x|y$とYの周辺確率密度関数の積で表されることを意味する。これを以下のように階層的に表すこともできる：\n",
    "\n",
    "$$\n",
    "\\begin{aligned}\n",
    "X|Y & = y \\sim f_{X|Y}(x|y\\\\\n",
    "&Y \\sim f_Y(y)\n",
    "\\end{aligned}\n",
    "$$\n",
    "\n",
    "このような構造を持つモデルを階層モデルという。\n",
    "\n",
    "### Beta関数\n",
    "$$\n",
    "B(a, b) = \\int^1_0 x^{a-1}(1 - x)^{b-1}dx = \\frac{\\Gamma(a)\\Gamma(b)}{\\Gamma(a + b)}\n",
    "$$\n",
    "\n",
    "### Beta分布\n",
    "\n",
    "$$\n",
    "f_X(x|a, b) = \\frac{1}{B(a, b)}x^{a-1}(1-x)^{b-1}\n",
    "$$\n",
    "\n"
   ]
  },
  {
   "cell_type": "markdown",
   "metadata": {},
   "source": [
    "### Scipyでのimplementation"
   ]
  },
  {
   "cell_type": "code",
   "execution_count": 1,
   "metadata": {},
   "outputs": [],
   "source": [
    "from scipy.stats import betabinom\n",
    "import matplotlib.pyplot as plt"
   ]
  },
  {
   "cell_type": "code",
   "execution_count": 2,
   "metadata": {},
   "outputs": [],
   "source": [
    "n, a, b = 5, 2.3, 0.63\n",
    "mean, var, skew, kurt = betabinom.stats(n, a, b, moments='mvsk')"
   ]
  },
  {
   "cell_type": "markdown",
   "metadata": {},
   "source": [
    "pmfの作画"
   ]
  },
  {
   "cell_type": "code",
   "execution_count": 6,
   "metadata": {},
   "outputs": [
    {
     "data": {
      "image/png": "[encoded data removed]",
      "text/plain": [
       "<Figure size 432x288 with 1 Axes>"
      ]
     },
     "metadata": {
      "needs_background": "light"
     },
     "output_type": "display_data"
    }
   ],
   "source": [
    "fig, ax = plt.subplots(1, 1)\n",
    "x = np.arange(betabinom.ppf(0.01, n, a, b),\n",
    "              betabinom.ppf(0.99, n, a, b))\n",
    "ax.plot(x, betabinom.pmf(x, n, a, b), 'bo', ms=8, label='betabinom pmf')\n",
    "ax.vlines(x, 0, betabinom.pmf(x, n, a, b), colors='b', lw=5, alpha=0.5);"
   ]
  },
  {
   "cell_type": "markdown",
   "metadata": {},
   "source": [
    "random sampleの発生方法"
   ]
  },
  {
   "cell_type": "code",
   "execution_count": 16,
   "metadata": {},
   "outputs": [],
   "source": [
    "r = betabinom.rvs(n, a, b, size=1000)"
   ]
  },
  {
   "cell_type": "code",
   "execution_count": null,
   "metadata": {},
   "outputs": [],
   "source": []
  },
  {
   "cell_type": "code",
   "execution_count": null,
   "metadata": {},
   "outputs": [],
   "source": []
  }
 ],
 "metadata": {
  "kernelspec": {
   "display_name": "Python 3",
   "language": "python",
   "name": "python3"
  },
  "language_info": {
   "codemirror_mode": {
    "name": "ipython",
    "version": 3
   },
   "file_extension": ".py",
   "mimetype": "text/x-python",
   "name": "python",
   "nbconvert_exporter": "python",
   "pygments_lexer": "ipython3",
   "version": "3.7.4"
  }
 },
 "nbformat": 4,
 "nbformat_minor": 4
}
